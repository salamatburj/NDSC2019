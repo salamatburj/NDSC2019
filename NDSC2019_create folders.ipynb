{
 "cells": [
  {
   "cell_type": "code",
   "execution_count": 27,
   "metadata": {},
   "outputs": [],
   "source": [
    "import os\n",
    "from shutil import copyfile\n"
   ]
  },
  {
   "cell_type": "code",
   "execution_count": 2,
   "metadata": {},
   "outputs": [],
   "source": [
    "import pandas as pd"
   ]
  },
  {
   "cell_type": "code",
   "execution_count": 3,
   "metadata": {},
   "outputs": [],
   "source": [
    "PATH = \"C:/Users/user/Documents/Salamat/NDSC_2019\""
   ]
  },
  {
   "cell_type": "code",
   "execution_count": 98,
   "metadata": {},
   "outputs": [],
   "source": [
    "df_train=pd.read_csv('C:/Users/user/Documents/Salamat/NDSC_2019/train.csv')\n",
    "df_test=pd.read_csv('C:/Users/user/Documents/Salamat/NDSC_2019/test.csv')"
   ]
  },
  {
   "cell_type": "code",
   "execution_count": 99,
   "metadata": {},
   "outputs": [],
   "source": [
    "df_train['folder']=df_train['image_path'].map(lambda x: x[:7])\n",
    "df_test['folder']=df_test['image_path'].map(lambda x: x[:7])\n"
   ]
  },
  {
   "cell_type": "code",
   "execution_count": 100,
   "metadata": {},
   "outputs": [],
   "source": [
    "# let's start with mobile_image"
   ]
  },
  {
   "cell_type": "code",
   "execution_count": 101,
   "metadata": {},
   "outputs": [],
   "source": [
    "from sklearn.model_selection import train_test_split"
   ]
  },
  {
   "cell_type": "code",
   "execution_count": 102,
   "metadata": {},
   "outputs": [],
   "source": [
    "train,val=train_test_split(df_train,stratify=df_train.Category,random_state=2019,test_size=0.2)"
   ]
  },
  {
   "cell_type": "code",
   "execution_count": 103,
   "metadata": {},
   "outputs": [],
   "source": [
    "train_beauty=train[train.folder=='beauty_']\n",
    "train_mobile=train[train.folder=='mobile_']\n",
    "train_fashion=train[train.folder=='fashion']\n",
    "\n",
    "val_beauty=val[val.folder=='beauty_']\n",
    "val_mobile=val[val.folder=='mobile_']\n",
    "val_fashion=val[val.folder=='fashion']\n",
    "\n",
    "test_beauty=df_test[df_test.folder=='beauty_']\n",
    "test_mobile=df_test[df_test.folder=='mobile_']\n",
    "test_fashion=df_test[df_test.folder=='fashion']\n",
    "\n",
    "\n"
   ]
  },
  {
   "cell_type": "code",
   "execution_count": 105,
   "metadata": {},
   "outputs": [
    {
     "name": "stderr",
     "output_type": "stream",
     "text": [
      "C:\\Users\\user\\Anaconda3\\envs\\fastai\\lib\\site-packages\\ipykernel_launcher.py:1: SettingWithCopyWarning: \n",
      "A value is trying to be set on a copy of a slice from a DataFrame.\n",
      "Try using .loc[row_indexer,col_indexer] = value instead\n",
      "\n",
      "See the caveats in the documentation: http://pandas.pydata.org/pandas-docs/stable/indexing.html#indexing-view-versus-copy\n",
      "  \"\"\"Entry point for launching an IPython kernel.\n",
      "C:\\Users\\user\\Anaconda3\\envs\\fastai\\lib\\site-packages\\ipykernel_launcher.py:2: SettingWithCopyWarning: \n",
      "A value is trying to be set on a copy of a slice from a DataFrame.\n",
      "Try using .loc[row_indexer,col_indexer] = value instead\n",
      "\n",
      "See the caveats in the documentation: http://pandas.pydata.org/pandas-docs/stable/indexing.html#indexing-view-versus-copy\n",
      "  \n",
      "C:\\Users\\user\\Anaconda3\\envs\\fastai\\lib\\site-packages\\ipykernel_launcher.py:3: SettingWithCopyWarning: \n",
      "A value is trying to be set on a copy of a slice from a DataFrame.\n",
      "Try using .loc[row_indexer,col_indexer] = value instead\n",
      "\n",
      "See the caveats in the documentation: http://pandas.pydata.org/pandas-docs/stable/indexing.html#indexing-view-versus-copy\n",
      "  This is separate from the ipykernel package so we can avoid doing imports until\n"
     ]
    }
   ],
   "source": [
    "train_fashion['image_path']=train_fashion['image_path']+'.jpg'\n",
    "val_fashion['image_path']=val_fashion['image_path']+'.jpg'\n",
    "test_fashion['image_path']=test_fashion['image_path']+'.jpg'"
   ]
  },
  {
   "cell_type": "markdown",
   "metadata": {},
   "source": [
    "## Let's try to copy files . Let's begin with mobile_image\n",
    "## First we need to make folders for each of them"
   ]
  },
  {
   "cell_type": "code",
   "execution_count": 60,
   "metadata": {},
   "outputs": [],
   "source": [
    "PATH='C:/Users/user/Documents/Salamat/NDSC_2019/'"
   ]
  },
  {
   "cell_type": "code",
   "execution_count": 61,
   "metadata": {},
   "outputs": [],
   "source": [
    "for item in ['mobile','fashion','beauty']:\n",
    "    os.makedirs(PATH+item)"
   ]
  },
  {
   "cell_type": "code",
   "execution_count": 62,
   "metadata": {},
   "outputs": [],
   "source": [
    "# Now in each folder we need to have train, val, and test set\n",
    "\n",
    "for item in ['mobile','fashion','beauty']:\n",
    "    os.makedirs(PATH+item+'/train')\n",
    "    os.makedirs(PATH+item+'/val')\n",
    "    os.makedirs(PATH+item+'/test')"
   ]
  },
  {
   "cell_type": "code",
   "execution_count": 63,
   "metadata": {},
   "outputs": [
    {
     "data": {
      "text/plain": [
       "array([ 3,  4,  9,  7, 15, 13,  1,  6,  5,  2,  8, 12, 11,  0, 10, 16, 14],\n",
       "      dtype=int64)"
      ]
     },
     "execution_count": 63,
     "metadata": {},
     "output_type": "execute_result"
    }
   ],
   "source": [
    "train_beauty.Category.unique()"
   ]
  },
  {
   "cell_type": "code",
   "execution_count": 64,
   "metadata": {},
   "outputs": [],
   "source": [
    "# Now for each train and val we need to have folders for each category\n",
    "\n",
    "for cat in train_beauty.Category.unique():\n",
    "    os.makedirs(PATH+'beauty/train/'+str(cat))\n",
    "    os.makedirs(PATH+'beauty/val/'+str(cat))\n",
    "    \n",
    "for cat in train_mobile.Category.unique():\n",
    "    os.makedirs(PATH+'mobile/train/'+str(cat))\n",
    "    os.makedirs(PATH+'mobile/val/'+str(cat))\n",
    "    \n",
    "for cat in train_fashion.Category.unique():\n",
    "    os.makedirs(PATH+'fashion/train/'+str(cat))\n",
    "    os.makedirs(PATH+'fashion/val/'+str(cat))\n",
    "# all directories are made. Now we need to copy files"
   ]
  },
  {
   "cell_type": "code",
   "execution_count": 85,
   "metadata": {},
   "outputs": [],
   "source": [
    "# Let's begin with beauty \n",
    "PATH_SRC='C:/Users/user/Documents/Salamat/NDSC_2019/beauty_image'\n",
    "PATH_DST_TRN='C:/Users/user/Documents/Salamat/NDSC_2019/beauty/train'\n",
    "PATH_DST_VAL='C:/Users/user/Documents/Salamat/NDSC_2019/beauty/val'\n",
    "PATH_DST_TST='C:/Users/user/Documents/Salamat/NDSC_2019/beauty/test'\n",
    "\n"
   ]
  },
  {
   "cell_type": "code",
   "execution_count": 73,
   "metadata": {},
   "outputs": [
    {
     "name": "stderr",
     "output_type": "stream",
     "text": [
      "C:\\Users\\user\\Anaconda3\\envs\\fastai\\lib\\site-packages\\ipykernel_launcher.py:1: SettingWithCopyWarning: \n",
      "A value is trying to be set on a copy of a slice from a DataFrame.\n",
      "Try using .loc[row_indexer,col_indexer] = value instead\n",
      "\n",
      "See the caveats in the documentation: http://pandas.pydata.org/pandas-docs/stable/indexing.html#indexing-view-versus-copy\n",
      "  \"\"\"Entry point for launching an IPython kernel.\n"
     ]
    }
   ],
   "source": [
    "train_beauty['image_path2']=train_beauty['image_path'].map(lambda x: x[12:])"
   ]
  },
  {
   "cell_type": "code",
   "execution_count": 83,
   "metadata": {},
   "outputs": [
    {
     "data": {
      "text/plain": [
       "'C:/Users/user/Documents/Salamat/NDSC_2019/beauty_image'"
      ]
     },
     "execution_count": 83,
     "metadata": {},
     "output_type": "execute_result"
    }
   ],
   "source": [
    "PATH_SRC"
   ]
  },
  {
   "cell_type": "code",
   "execution_count": 84,
   "metadata": {},
   "outputs": [],
   "source": [
    "for index,item in train_beauty.iterrows():\n",
    "\n",
    "    cat=item.Category\n",
    "    name=item.image_path2\n",
    "    copyfile(PATH_SRC+name,PATH_DST_TRN+'/'+str(cat)+name)\n"
   ]
  },
  {
   "cell_type": "code",
   "execution_count": 86,
   "metadata": {},
   "outputs": [
    {
     "name": "stderr",
     "output_type": "stream",
     "text": [
      "C:\\Users\\user\\Anaconda3\\envs\\fastai\\lib\\site-packages\\ipykernel_launcher.py:2: SettingWithCopyWarning: \n",
      "A value is trying to be set on a copy of a slice from a DataFrame.\n",
      "Try using .loc[row_indexer,col_indexer] = value instead\n",
      "\n",
      "See the caveats in the documentation: http://pandas.pydata.org/pandas-docs/stable/indexing.html#indexing-view-versus-copy\n",
      "  \n"
     ]
    }
   ],
   "source": [
    "# Let's do the same for validation folder\n",
    "val_beauty['image_path2']=val_beauty['image_path'].map(lambda x: x[12:])\n",
    "for index,item in val_beauty.iterrows():\n",
    "    cat=item.Category\n",
    "    name=item.image_path2\n",
    "    copyfile(PATH_SRC+name,PATH_DST_VAL+'/'+str(cat)+name)"
   ]
  },
  {
   "cell_type": "code",
   "execution_count": 87,
   "metadata": {},
   "outputs": [
    {
     "name": "stderr",
     "output_type": "stream",
     "text": [
      "C:\\Users\\user\\Anaconda3\\envs\\fastai\\lib\\site-packages\\ipykernel_launcher.py:2: SettingWithCopyWarning: \n",
      "A value is trying to be set on a copy of a slice from a DataFrame.\n",
      "Try using .loc[row_indexer,col_indexer] = value instead\n",
      "\n",
      "See the caveats in the documentation: http://pandas.pydata.org/pandas-docs/stable/indexing.html#indexing-view-versus-copy\n",
      "  \n"
     ]
    }
   ],
   "source": [
    "# Let's copy test files to test folder\n",
    "test_beauty['image_path2']=test_beauty['image_path'].map(lambda x: x[12:])\n",
    "for index,item in test_beauty.iterrows():\n",
    "    name=item.image_path2\n",
    "    copyfile(PATH_SRC+name,PATH_DST_TST+name)\n"
   ]
  },
  {
   "cell_type": "code",
   "execution_count": 106,
   "metadata": {},
   "outputs": [
    {
     "name": "stderr",
     "output_type": "stream",
     "text": [
      "C:\\Users\\user\\Anaconda3\\envs\\fastai\\lib\\site-packages\\ipykernel_launcher.py:2: SettingWithCopyWarning: \n",
      "A value is trying to be set on a copy of a slice from a DataFrame.\n",
      "Try using .loc[row_indexer,col_indexer] = value instead\n",
      "\n",
      "See the caveats in the documentation: http://pandas.pydata.org/pandas-docs/stable/indexing.html#indexing-view-versus-copy\n",
      "  \n"
     ]
    },
    {
     "data": {
      "text/html": [
       "<div>\n",
       "<style scoped>\n",
       "    .dataframe tbody tr th:only-of-type {\n",
       "        vertical-align: middle;\n",
       "    }\n",
       "\n",
       "    .dataframe tbody tr th {\n",
       "        vertical-align: top;\n",
       "    }\n",
       "\n",
       "    .dataframe thead th {\n",
       "        text-align: right;\n",
       "    }\n",
       "</style>\n",
       "<table border=\"1\" class=\"dataframe\">\n",
       "  <thead>\n",
       "    <tr style=\"text-align: right;\">\n",
       "      <th></th>\n",
       "      <th>itemid</th>\n",
       "      <th>title</th>\n",
       "      <th>Category</th>\n",
       "      <th>image_path</th>\n",
       "      <th>folder</th>\n",
       "      <th>image_path2</th>\n",
       "    </tr>\n",
       "  </thead>\n",
       "  <tbody>\n",
       "    <tr>\n",
       "      <th>483939</th>\n",
       "      <td>1675584665</td>\n",
       "      <td>btb new blus casual wanita tanpa lengan dengan...</td>\n",
       "      <td>25</td>\n",
       "      <td>fashion_image/751e2307e612e9c458f7777078bab7d7...</td>\n",
       "      <td>fashion</td>\n",
       "      <td>/751e2307e612e9c458f7777078bab7d7.jpg</td>\n",
       "    </tr>\n",
       "    <tr>\n",
       "      <th>343588</th>\n",
       "      <td>694568980</td>\n",
       "      <td>termurah mini dress brokat gaun pesta murah pa...</td>\n",
       "      <td>17</td>\n",
       "      <td>fashion_image/a396a584a5935a447ef7e574127bf0b0...</td>\n",
       "      <td>fashion</td>\n",
       "      <td>/a396a584a5935a447ef7e574127bf0b0.jpg</td>\n",
       "    </tr>\n",
       "    <tr>\n",
       "      <th>495282</th>\n",
       "      <td>1828976347</td>\n",
       "      <td>obral 2018 new cotton checkered plaid blouses ...</td>\n",
       "      <td>26</td>\n",
       "      <td>fashion_image/561f2210b9a7066cc27e25b3e41d757b...</td>\n",
       "      <td>fashion</td>\n",
       "      <td>/561f2210b9a7066cc27e25b3e41d757b.jpg</td>\n",
       "    </tr>\n",
       "    <tr>\n",
       "      <th>410834</th>\n",
       "      <td>1713059165</td>\n",
       "      <td>sweater kaos hoodie lengan panjang bahan velve...</td>\n",
       "      <td>26</td>\n",
       "      <td>fashion_image/a823f5cf10fe2c169366799391e6d29e...</td>\n",
       "      <td>fashion</td>\n",
       "      <td>/a823f5cf10fe2c169366799391e6d29e.jpg</td>\n",
       "    </tr>\n",
       "    <tr>\n",
       "      <th>338753</th>\n",
       "      <td>1024522836</td>\n",
       "      <td>women strapless off shoulder short sleeve lace...</td>\n",
       "      <td>18</td>\n",
       "      <td>fashion_image/1a85b5c4054877ea1f8152af1741ae7b...</td>\n",
       "      <td>fashion</td>\n",
       "      <td>/1a85b5c4054877ea1f8152af1741ae7b.jpg</td>\n",
       "    </tr>\n",
       "  </tbody>\n",
       "</table>\n",
       "</div>"
      ],
      "text/plain": [
       "            itemid                                              title  \\\n",
       "483939  1675584665  btb new blus casual wanita tanpa lengan dengan...   \n",
       "343588   694568980  termurah mini dress brokat gaun pesta murah pa...   \n",
       "495282  1828976347  obral 2018 new cotton checkered plaid blouses ...   \n",
       "410834  1713059165  sweater kaos hoodie lengan panjang bahan velve...   \n",
       "338753  1024522836  women strapless off shoulder short sleeve lace...   \n",
       "\n",
       "        Category                                         image_path   folder  \\\n",
       "483939        25  fashion_image/751e2307e612e9c458f7777078bab7d7...  fashion   \n",
       "343588        17  fashion_image/a396a584a5935a447ef7e574127bf0b0...  fashion   \n",
       "495282        26  fashion_image/561f2210b9a7066cc27e25b3e41d757b...  fashion   \n",
       "410834        26  fashion_image/a823f5cf10fe2c169366799391e6d29e...  fashion   \n",
       "338753        18  fashion_image/1a85b5c4054877ea1f8152af1741ae7b...  fashion   \n",
       "\n",
       "                                  image_path2  \n",
       "483939  /751e2307e612e9c458f7777078bab7d7.jpg  \n",
       "343588  /a396a584a5935a447ef7e574127bf0b0.jpg  \n",
       "495282  /561f2210b9a7066cc27e25b3e41d757b.jpg  \n",
       "410834  /a823f5cf10fe2c169366799391e6d29e.jpg  \n",
       "338753  /1a85b5c4054877ea1f8152af1741ae7b.jpg  "
      ]
     },
     "execution_count": 106,
     "metadata": {},
     "output_type": "execute_result"
    }
   ],
   "source": [
    "\n",
    "train_fashion['image_path2']=train_fashion['image_path'].map(lambda x: x[13:])\n",
    "train_fashion.head()\n",
    "\n"
   ]
  },
  {
   "cell_type": "code",
   "execution_count": 107,
   "metadata": {
    "scrolled": true
   },
   "outputs": [
    {
     "name": "stderr",
     "output_type": "stream",
     "text": [
      "C:\\Users\\user\\Anaconda3\\envs\\fastai\\lib\\site-packages\\ipykernel_launcher.py:7: SettingWithCopyWarning: \n",
      "A value is trying to be set on a copy of a slice from a DataFrame.\n",
      "Try using .loc[row_indexer,col_indexer] = value instead\n",
      "\n",
      "See the caveats in the documentation: http://pandas.pydata.org/pandas-docs/stable/indexing.html#indexing-view-versus-copy\n",
      "  import sys\n",
      "C:\\Users\\user\\Anaconda3\\envs\\fastai\\lib\\site-packages\\ipykernel_launcher.py:14: SettingWithCopyWarning: \n",
      "A value is trying to be set on a copy of a slice from a DataFrame.\n",
      "Try using .loc[row_indexer,col_indexer] = value instead\n",
      "\n",
      "See the caveats in the documentation: http://pandas.pydata.org/pandas-docs/stable/indexing.html#indexing-view-versus-copy\n",
      "  \n",
      "C:\\Users\\user\\Anaconda3\\envs\\fastai\\lib\\site-packages\\ipykernel_launcher.py:21: SettingWithCopyWarning: \n",
      "A value is trying to be set on a copy of a slice from a DataFrame.\n",
      "Try using .loc[row_indexer,col_indexer] = value instead\n",
      "\n",
      "See the caveats in the documentation: http://pandas.pydata.org/pandas-docs/stable/indexing.html#indexing-view-versus-copy\n"
     ]
    },
    {
     "ename": "FileNotFoundError",
     "evalue": "[Errno 2] No such file or directory: 'C:/Users/user/Documents/Salamat/NDSC_2019/fashion_image/b0ca9645c5c3527882d935f17b4c9579.jpg.jpg'",
     "output_type": "error",
     "traceback": [
      "\u001b[1;31m---------------------------------------------------------------------------\u001b[0m",
      "\u001b[1;31mFileNotFoundError\u001b[0m                         Traceback (most recent call last)",
      "\u001b[1;32m<ipython-input-107-bb9dedc7cb16>\u001b[0m in \u001b[0;36m<module>\u001b[1;34m()\u001b[0m\n\u001b[0;32m     22\u001b[0m \u001b[1;32mfor\u001b[0m \u001b[0mindex\u001b[0m\u001b[1;33m,\u001b[0m\u001b[0mitem\u001b[0m \u001b[1;32min\u001b[0m \u001b[0mtest_fashion\u001b[0m\u001b[1;33m.\u001b[0m\u001b[0miterrows\u001b[0m\u001b[1;33m(\u001b[0m\u001b[1;33m)\u001b[0m\u001b[1;33m:\u001b[0m\u001b[1;33m\u001b[0m\u001b[0m\n\u001b[0;32m     23\u001b[0m     \u001b[0mname\u001b[0m\u001b[1;33m=\u001b[0m\u001b[0mitem\u001b[0m\u001b[1;33m.\u001b[0m\u001b[0mimage_path2\u001b[0m\u001b[1;33m\u001b[0m\u001b[0m\n\u001b[1;32m---> 24\u001b[1;33m     \u001b[0mcopyfile\u001b[0m\u001b[1;33m(\u001b[0m\u001b[0mPATH_SRC\u001b[0m\u001b[1;33m+\u001b[0m\u001b[0mname\u001b[0m\u001b[1;33m,\u001b[0m\u001b[0mPATH_DST_TST\u001b[0m\u001b[1;33m+\u001b[0m\u001b[0mname\u001b[0m\u001b[1;33m)\u001b[0m\u001b[1;33m\u001b[0m\u001b[0m\n\u001b[0m",
      "\u001b[1;32m~\\Anaconda3\\envs\\fastai\\lib\\shutil.py\u001b[0m in \u001b[0;36mcopyfile\u001b[1;34m(src, dst, follow_symlinks)\u001b[0m\n\u001b[0;32m    118\u001b[0m         \u001b[0mos\u001b[0m\u001b[1;33m.\u001b[0m\u001b[0msymlink\u001b[0m\u001b[1;33m(\u001b[0m\u001b[0mos\u001b[0m\u001b[1;33m.\u001b[0m\u001b[0mreadlink\u001b[0m\u001b[1;33m(\u001b[0m\u001b[0msrc\u001b[0m\u001b[1;33m)\u001b[0m\u001b[1;33m,\u001b[0m \u001b[0mdst\u001b[0m\u001b[1;33m)\u001b[0m\u001b[1;33m\u001b[0m\u001b[0m\n\u001b[0;32m    119\u001b[0m     \u001b[1;32melse\u001b[0m\u001b[1;33m:\u001b[0m\u001b[1;33m\u001b[0m\u001b[0m\n\u001b[1;32m--> 120\u001b[1;33m         \u001b[1;32mwith\u001b[0m \u001b[0mopen\u001b[0m\u001b[1;33m(\u001b[0m\u001b[0msrc\u001b[0m\u001b[1;33m,\u001b[0m \u001b[1;34m'rb'\u001b[0m\u001b[1;33m)\u001b[0m \u001b[1;32mas\u001b[0m \u001b[0mfsrc\u001b[0m\u001b[1;33m:\u001b[0m\u001b[1;33m\u001b[0m\u001b[0m\n\u001b[0m\u001b[0;32m    121\u001b[0m             \u001b[1;32mwith\u001b[0m \u001b[0mopen\u001b[0m\u001b[1;33m(\u001b[0m\u001b[0mdst\u001b[0m\u001b[1;33m,\u001b[0m \u001b[1;34m'wb'\u001b[0m\u001b[1;33m)\u001b[0m \u001b[1;32mas\u001b[0m \u001b[0mfdst\u001b[0m\u001b[1;33m:\u001b[0m\u001b[1;33m\u001b[0m\u001b[0m\n\u001b[0;32m    122\u001b[0m                 \u001b[0mcopyfileobj\u001b[0m\u001b[1;33m(\u001b[0m\u001b[0mfsrc\u001b[0m\u001b[1;33m,\u001b[0m \u001b[0mfdst\u001b[0m\u001b[1;33m)\u001b[0m\u001b[1;33m\u001b[0m\u001b[0m\n",
      "\u001b[1;31mFileNotFoundError\u001b[0m: [Errno 2] No such file or directory: 'C:/Users/user/Documents/Salamat/NDSC_2019/fashion_image/b0ca9645c5c3527882d935f17b4c9579.jpg.jpg'"
     ]
    }
   ],
   "source": [
    "#Now let's repeat for fashion and mobile\n",
    "PATH_SRC='C:/Users/user/Documents/Salamat/NDSC_2019/fashion_image'\n",
    "PATH_DST_TRN='C:/Users/user/Documents/Salamat/NDSC_2019/fashion/train'\n",
    "PATH_DST_VAL='C:/Users/user/Documents/Salamat/NDSC_2019/fashion/val'\n",
    "PATH_DST_TST='C:/Users/user/Documents/Salamat/NDSC_2019/fashion/test'\n",
    "\n",
    "train_fashion['image_path2']=train_fashion['image_path'].map(lambda x: x[13:])\n",
    "for index,item in train_fashion.iterrows():\n",
    "\n",
    "    cat=item.Category\n",
    "    name=item.image_path2\n",
    "    copyfile(PATH_SRC+name,PATH_DST_TRN+'/'+str(cat)+name)\n",
    "\n",
    "val_fashion['image_path2']=val_fashion['image_path'].map(lambda x: x[13:])\n",
    "for index,item in val_fashion.iterrows():\n",
    "    cat=item.Category\n",
    "    name=item.image_path2\n",
    "    copyfile(PATH_SRC+name,PATH_DST_VAL+'/'+str(cat)+name)\n",
    "    \n",
    "# Let's copy test files to test folder\n",
    "# test_fashion['image_path2']=test_fashion['image_path'].map(lambda x: x[13:])\n",
    "# for index,item in test_fashion.iterrows():\n",
    "#     name=item.image_path2\n",
    "#     copyfile(PATH_SRC+name,PATH_DST_TST+name)\n"
   ]
  },
  {
   "cell_type": "code",
   "execution_count": 116,
   "metadata": {},
   "outputs": [
    {
     "name": "stderr",
     "output_type": "stream",
     "text": [
      "C:\\Users\\user\\Anaconda3\\envs\\fastai\\lib\\site-packages\\ipykernel_launcher.py:4: SettingWithCopyWarning: \n",
      "A value is trying to be set on a copy of a slice from a DataFrame.\n",
      "Try using .loc[row_indexer,col_indexer] = value instead\n",
      "\n",
      "See the caveats in the documentation: http://pandas.pydata.org/pandas-docs/stable/indexing.html#indexing-view-versus-copy\n",
      "  after removing the cwd from sys.path.\n"
     ]
    }
   ],
   "source": [
    "PATH_SRC='C:/Users/user/Documents/Salamat/NDSC_2019/fashion_image'\n",
    "PATH_DST_TST='C:/Users/user/Documents/Salamat/NDSC_2019/fashion/test'\n",
    "# Test files already have .jpg. Let's remove them\n",
    "test_fashion['image_path2']=test_fashion['image_path'].map(lambda x: x[13:-4])\n",
    "for index,item in test_fashion.iterrows():\n",
    "    name=item.image_path2\n",
    "    copyfile(PATH_SRC+name,PATH_DST_TST+name)"
   ]
  },
  {
   "cell_type": "code",
   "execution_count": null,
   "metadata": {},
   "outputs": [],
   "source": [
    "train_mobile['image_path2']=train_mobile['image_path'].map(lambda x: x[12:])\n",
    "train_mobile.head()"
   ]
  },
  {
   "cell_type": "code",
   "execution_count": 108,
   "metadata": {
    "scrolled": true
   },
   "outputs": [
    {
     "name": "stderr",
     "output_type": "stream",
     "text": [
      "C:\\Users\\user\\Anaconda3\\envs\\fastai\\lib\\site-packages\\ipykernel_launcher.py:7: SettingWithCopyWarning: \n",
      "A value is trying to be set on a copy of a slice from a DataFrame.\n",
      "Try using .loc[row_indexer,col_indexer] = value instead\n",
      "\n",
      "See the caveats in the documentation: http://pandas.pydata.org/pandas-docs/stable/indexing.html#indexing-view-versus-copy\n",
      "  import sys\n",
      "C:\\Users\\user\\Anaconda3\\envs\\fastai\\lib\\site-packages\\ipykernel_launcher.py:14: SettingWithCopyWarning: \n",
      "A value is trying to be set on a copy of a slice from a DataFrame.\n",
      "Try using .loc[row_indexer,col_indexer] = value instead\n",
      "\n",
      "See the caveats in the documentation: http://pandas.pydata.org/pandas-docs/stable/indexing.html#indexing-view-versus-copy\n",
      "  \n",
      "C:\\Users\\user\\Anaconda3\\envs\\fastai\\lib\\site-packages\\ipykernel_launcher.py:21: SettingWithCopyWarning: \n",
      "A value is trying to be set on a copy of a slice from a DataFrame.\n",
      "Try using .loc[row_indexer,col_indexer] = value instead\n",
      "\n",
      "See the caveats in the documentation: http://pandas.pydata.org/pandas-docs/stable/indexing.html#indexing-view-versus-copy\n"
     ]
    },
    {
     "ename": "FileNotFoundError",
     "evalue": "[Errno 2] No such file or directory: 'C:/Users/user/Documents/Salamat/NDSC_2019/mobile_image/b0ca9645c5c3527882d935f17b4c9579.jpg.jpg'",
     "output_type": "error",
     "traceback": [
      "\u001b[1;31m---------------------------------------------------------------------------\u001b[0m",
      "\u001b[1;31mFileNotFoundError\u001b[0m                         Traceback (most recent call last)",
      "\u001b[1;32m<ipython-input-108-e9c678b9e548>\u001b[0m in \u001b[0;36m<module>\u001b[1;34m()\u001b[0m\n\u001b[0;32m     22\u001b[0m \u001b[1;32mfor\u001b[0m \u001b[0mindex\u001b[0m\u001b[1;33m,\u001b[0m\u001b[0mitem\u001b[0m \u001b[1;32min\u001b[0m \u001b[0mtest_fashion\u001b[0m\u001b[1;33m.\u001b[0m\u001b[0miterrows\u001b[0m\u001b[1;33m(\u001b[0m\u001b[1;33m)\u001b[0m\u001b[1;33m:\u001b[0m\u001b[1;33m\u001b[0m\u001b[0m\n\u001b[0;32m     23\u001b[0m     \u001b[0mname\u001b[0m\u001b[1;33m=\u001b[0m\u001b[0mitem\u001b[0m\u001b[1;33m.\u001b[0m\u001b[0mimage_path2\u001b[0m\u001b[1;33m\u001b[0m\u001b[0m\n\u001b[1;32m---> 24\u001b[1;33m     \u001b[0mcopyfile\u001b[0m\u001b[1;33m(\u001b[0m\u001b[0mPATH_SRC\u001b[0m\u001b[1;33m+\u001b[0m\u001b[0mname\u001b[0m\u001b[1;33m,\u001b[0m\u001b[0mPATH_DST_TST\u001b[0m\u001b[1;33m+\u001b[0m\u001b[0mname\u001b[0m\u001b[1;33m)\u001b[0m\u001b[1;33m\u001b[0m\u001b[0m\n\u001b[0m",
      "\u001b[1;32m~\\Anaconda3\\envs\\fastai\\lib\\shutil.py\u001b[0m in \u001b[0;36mcopyfile\u001b[1;34m(src, dst, follow_symlinks)\u001b[0m\n\u001b[0;32m    118\u001b[0m         \u001b[0mos\u001b[0m\u001b[1;33m.\u001b[0m\u001b[0msymlink\u001b[0m\u001b[1;33m(\u001b[0m\u001b[0mos\u001b[0m\u001b[1;33m.\u001b[0m\u001b[0mreadlink\u001b[0m\u001b[1;33m(\u001b[0m\u001b[0msrc\u001b[0m\u001b[1;33m)\u001b[0m\u001b[1;33m,\u001b[0m \u001b[0mdst\u001b[0m\u001b[1;33m)\u001b[0m\u001b[1;33m\u001b[0m\u001b[0m\n\u001b[0;32m    119\u001b[0m     \u001b[1;32melse\u001b[0m\u001b[1;33m:\u001b[0m\u001b[1;33m\u001b[0m\u001b[0m\n\u001b[1;32m--> 120\u001b[1;33m         \u001b[1;32mwith\u001b[0m \u001b[0mopen\u001b[0m\u001b[1;33m(\u001b[0m\u001b[0msrc\u001b[0m\u001b[1;33m,\u001b[0m \u001b[1;34m'rb'\u001b[0m\u001b[1;33m)\u001b[0m \u001b[1;32mas\u001b[0m \u001b[0mfsrc\u001b[0m\u001b[1;33m:\u001b[0m\u001b[1;33m\u001b[0m\u001b[0m\n\u001b[0m\u001b[0;32m    121\u001b[0m             \u001b[1;32mwith\u001b[0m \u001b[0mopen\u001b[0m\u001b[1;33m(\u001b[0m\u001b[0mdst\u001b[0m\u001b[1;33m,\u001b[0m \u001b[1;34m'wb'\u001b[0m\u001b[1;33m)\u001b[0m \u001b[1;32mas\u001b[0m \u001b[0mfdst\u001b[0m\u001b[1;33m:\u001b[0m\u001b[1;33m\u001b[0m\u001b[0m\n\u001b[0;32m    122\u001b[0m                 \u001b[0mcopyfileobj\u001b[0m\u001b[1;33m(\u001b[0m\u001b[0mfsrc\u001b[0m\u001b[1;33m,\u001b[0m \u001b[0mfdst\u001b[0m\u001b[1;33m)\u001b[0m\u001b[1;33m\u001b[0m\u001b[0m\n",
      "\u001b[1;31mFileNotFoundError\u001b[0m: [Errno 2] No such file or directory: 'C:/Users/user/Documents/Salamat/NDSC_2019/mobile_image/b0ca9645c5c3527882d935f17b4c9579.jpg.jpg'"
     ]
    }
   ],
   "source": [
    "#Now let's repeat for fashion and mobile\n",
    "PATH_SRC='C:/Users/user/Documents/Salamat/NDSC_2019/mobile_image'\n",
    "PATH_DST_TRN='C:/Users/user/Documents/Salamat/NDSC_2019/mobile/train'\n",
    "PATH_DST_VAL='C:/Users/user/Documents/Salamat/NDSC_2019/mobile/val'\n",
    "PATH_DST_TST='C:/Users/user/Documents/Salamat/NDSC_2019/mobile/test'\n",
    "\n",
    "train_mobile['image_path2']=train_mobile['image_path'].map(lambda x: x[12:])\n",
    "for index,item in train_mobile.iterrows():\n",
    "\n",
    "    cat=item.Category\n",
    "    name=item.image_path2\n",
    "    copyfile(PATH_SRC+name,PATH_DST_TRN+'/'+str(cat)+name)\n",
    "\n",
    "val_mobile['image_path2']=val_mobile['image_path'].map(lambda x: x[12:])\n",
    "for index,item in val_mobile.iterrows():\n",
    "    cat=item.Category\n",
    "    name=item.image_path2\n",
    "    copyfile(PATH_SRC+name,PATH_DST_VAL+'/'+str(cat)+name)\n",
    "    \n",
    "# Let's copy test files to test folder\n",
    "# test_mobile['image_path2']=test_mobile['image_path'].map(lambda x: x[12:])\n",
    "# for index,item in test_fashion.iterrows():\n",
    "#     name=item.image_path2\n",
    "#     copyfile(PATH_SRC+name,PATH_DST_TST+name)"
   ]
  },
  {
   "cell_type": "code",
   "execution_count": 117,
   "metadata": {},
   "outputs": [
    {
     "name": "stderr",
     "output_type": "stream",
     "text": [
      "C:\\Users\\user\\Anaconda3\\envs\\fastai\\lib\\site-packages\\ipykernel_launcher.py:7: SettingWithCopyWarning: \n",
      "A value is trying to be set on a copy of a slice from a DataFrame.\n",
      "Try using .loc[row_indexer,col_indexer] = value instead\n",
      "\n",
      "See the caveats in the documentation: http://pandas.pydata.org/pandas-docs/stable/indexing.html#indexing-view-versus-copy\n",
      "  import sys\n"
     ]
    }
   ],
   "source": [
    "PATH_SRC='C:/Users/user/Documents/Salamat/NDSC_2019/mobile_image'\n",
    "PATH_DST_TRN='C:/Users/user/Documents/Salamat/NDSC_2019/mobile/train'\n",
    "PATH_DST_VAL='C:/Users/user/Documents/Salamat/NDSC_2019/mobile/val'\n",
    "PATH_DST_TST='C:/Users/user/Documents/Salamat/NDSC_2019/mobile/test'\n",
    "\n",
    "\n",
    "test_mobile['image_path2']=test_mobile['image_path'].map(lambda x: x[12:])\n",
    "for index,item in test_mobile.iterrows():\n",
    "    name=item.image_path2\n",
    "    copyfile(PATH_SRC+name,PATH_DST_TST+name)"
   ]
  },
  {
   "cell_type": "code",
   "execution_count": null,
   "metadata": {},
   "outputs": [],
   "source": []
  }
 ],
 "metadata": {
  "kernelspec": {
   "display_name": "Python 3",
   "language": "python",
   "name": "python3"
  },
  "language_info": {
   "codemirror_mode": {
    "name": "ipython",
    "version": 3
   },
   "file_extension": ".py",
   "mimetype": "text/x-python",
   "name": "python",
   "nbconvert_exporter": "python",
   "pygments_lexer": "ipython3",
   "version": "3.6.4"
  }
 },
 "nbformat": 4,
 "nbformat_minor": 2
}
