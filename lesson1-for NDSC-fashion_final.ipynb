{
 "cells": [
  {
   "cell_type": "markdown",
   "metadata": {},
   "source": [
    "## Image classification with Convolutional Neural Networks"
   ]
  },
  {
   "cell_type": "markdown",
   "metadata": {},
   "source": [
    "Welcome to the first week of the second deep learning certificate! We're going to use convolutional neural networks (CNNs) to allow our computer to see - something that is only possible thanks to deep learning."
   ]
  },
  {
   "cell_type": "markdown",
   "metadata": {},
   "source": [
    "## Introduction to our first task: 'Dogs vs Cats'"
   ]
  },
  {
   "cell_type": "markdown",
   "metadata": {},
   "source": [
    "We're going to try to create a model to enter the Dogs vs Cats competition at Kaggle. There are 25,000 labelled dog and cat photos available for training, and 12,500 in the test set that we have to try to label for this competition. According to the Kaggle web-site, when this competition was launched (end of 2013): \"State of the art: The current literature suggests machine classifiers can score above 80% accuracy on this task\". So if we can beat 80%, then we will be at the cutting edge as of 2013!"
   ]
  },
  {
   "cell_type": "code",
   "execution_count": 1,
   "metadata": {},
   "outputs": [],
   "source": [
    "# %reset"
   ]
  },
  {
   "cell_type": "code",
   "execution_count": 1,
   "metadata": {},
   "outputs": [],
   "source": [
    "# Put these at the top of every notebook, to get automatic reloading and inline plotting\n",
    "%reload_ext autoreload\n",
    "%autoreload 2\n",
    "%matplotlib inline"
   ]
  },
  {
   "cell_type": "markdown",
   "metadata": {},
   "source": [
    "Here we import the libraries we need. We'll learn about what each does during the course."
   ]
  },
  {
   "cell_type": "code",
   "execution_count": 2,
   "metadata": {},
   "outputs": [],
   "source": [
    "import sys"
   ]
  },
  {
   "cell_type": "code",
   "execution_count": 3,
   "metadata": {},
   "outputs": [],
   "source": [
    "# in order to import libraries\n",
    "sys.path.append(\"C:/Users/user/Documents/Salamat/fastai\")"
   ]
  },
  {
   "cell_type": "code",
   "execution_count": 4,
   "metadata": {},
   "outputs": [
    {
     "data": {
      "text/plain": [
       "['',\n",
       " 'C:\\\\Users\\\\user\\\\Anaconda3\\\\envs\\\\fastai\\\\python36.zip',\n",
       " 'C:\\\\Users\\\\user\\\\Anaconda3\\\\envs\\\\fastai\\\\DLLs',\n",
       " 'C:\\\\Users\\\\user\\\\Anaconda3\\\\envs\\\\fastai\\\\lib',\n",
       " 'C:\\\\Users\\\\user\\\\Anaconda3\\\\envs\\\\fastai',\n",
       " 'C:\\\\Users\\\\user\\\\Anaconda3\\\\envs\\\\fastai\\\\lib\\\\site-packages',\n",
       " 'C:\\\\Users\\\\user\\\\Anaconda3\\\\envs\\\\fastai\\\\lib\\\\site-packages\\\\cycler-0.10.0-py3.6.egg',\n",
       " 'C:\\\\Users\\\\user\\\\Anaconda3\\\\envs\\\\fastai\\\\lib\\\\site-packages\\\\IPython\\\\extensions',\n",
       " 'C:\\\\Users\\\\user\\\\.ipython',\n",
       " 'C:/Users/user/Documents/Salamat/fastai']"
      ]
     },
     "execution_count": 4,
     "metadata": {},
     "output_type": "execute_result"
    }
   ],
   "source": [
    "sys.path"
   ]
  },
  {
   "cell_type": "code",
   "execution_count": 5,
   "metadata": {},
   "outputs": [],
   "source": [
    "# This file contains all the main external libs we'll use\n",
    "from fastai.imports import *"
   ]
  },
  {
   "cell_type": "code",
   "execution_count": 6,
   "metadata": {},
   "outputs": [],
   "source": [
    "from fastai.transforms import *\n",
    "from fastai.conv_learner import *\n",
    "from fastai.model import *\n",
    "from fastai.dataset import *\n",
    "from fastai.sgdr import *\n",
    "from fastai.plots import *"
   ]
  },
  {
   "cell_type": "markdown",
   "metadata": {},
   "source": [
    "`PATH` is the path to your data - if you use the recommended setup approaches from the lesson, you won't need to change this. `sz` is the size that the images will be resized to in order to ensure that the training runs quickly. We'll be talking about this parameter a lot during the course. Leave it at `224` for now."
   ]
  },
  {
   "cell_type": "code",
   "execution_count": 7,
   "metadata": {},
   "outputs": [],
   "source": [
    "PATH = \"C:/Users/user/Documents/Salamat\"\n",
    "sz=224"
   ]
  },
  {
   "cell_type": "markdown",
   "metadata": {},
   "source": [
    "It's important that you have a working NVidia GPU set up. The programming framework used to behind the scenes to work with NVidia GPUs is called CUDA. Therefore, you need to ensure the following line returns `True` before you proceed. If you have problems with this, please check the FAQ and ask for help on [the forums](http://forums.fast.ai)."
   ]
  },
  {
   "cell_type": "code",
   "execution_count": 8,
   "metadata": {},
   "outputs": [
    {
     "data": {
      "text/plain": [
       "True"
      ]
     },
     "execution_count": 8,
     "metadata": {},
     "output_type": "execute_result"
    }
   ],
   "source": [
    "torch.cuda.is_available()"
   ]
  },
  {
   "cell_type": "markdown",
   "metadata": {},
   "source": [
    "In addition, NVidia provides special accelerated functions for deep learning in a package called CuDNN. Although not strictly necessary, it will improve training performance significantly, and is included by default in all supported fastai configurations. Therefore, if the following does not return `True`, you may want to look into why."
   ]
  },
  {
   "cell_type": "code",
   "execution_count": 9,
   "metadata": {},
   "outputs": [
    {
     "data": {
      "text/plain": [
       "True"
      ]
     },
     "execution_count": 9,
     "metadata": {},
     "output_type": "execute_result"
    }
   ],
   "source": [
    "torch.backends.cudnn.enabled"
   ]
  },
  {
   "cell_type": "markdown",
   "metadata": {
    "heading_collapsed": true
   },
   "source": [
    "## First look at cat pictures"
   ]
  },
  {
   "cell_type": "markdown",
   "metadata": {
    "hidden": true
   },
   "source": [
    "Our library will assume that you have *train* and *valid* directories. It also assumes that each dir will have subdirs for each class you wish to recognize (in this case, 'cats' and 'dogs')."
   ]
  },
  {
   "cell_type": "code",
   "execution_count": 10,
   "metadata": {
    "hidden": true,
    "scrolled": true
   },
   "outputs": [
    {
     "data": {
      "text/plain": [
       "['ELO',\n",
       " 'fastai',\n",
       " 'fastai3',\n",
       " 'Kaggle',\n",
       " 'models',\n",
       " 'NDSC_2019',\n",
       " 'NDSC_2019train_beaty.csv',\n",
       " 'NDSC_2019train_beauty.csv',\n",
       " 'Programs',\n",
       " 'tmp',\n",
       " 'train_beauty.csv',\n",
       " 'train_beauty2.csv']"
      ]
     },
     "execution_count": 10,
     "metadata": {},
     "output_type": "execute_result"
    }
   ],
   "source": [
    "os.listdir(PATH)"
   ]
  },
  {
   "cell_type": "markdown",
   "metadata": {
    "heading_collapsed": true
   },
   "source": [
    "## Our first model: quick start"
   ]
  },
  {
   "cell_type": "markdown",
   "metadata": {
    "hidden": true
   },
   "source": [
    "We're going to use a <b>pre-trained</b> model, that is, a model created by some one else to solve a different problem. Instead of building a model from scratch to solve a similar problem, we'll use a model trained on ImageNet (1.2 million images and 1000 classes) as a starting point. The model is a Convolutional Neural Network (CNN), a type of Neural Network that builds state-of-the-art models for computer vision. We'll be learning all about CNNs during this course.\n",
    "\n",
    "We will be using the <b>resnet34</b> model. resnet34 is a version of the model that won the 2015 ImageNet competition. Here is more info on [resnet models](https://github.com/KaimingHe/deep-residual-networks). We'll be studying them in depth later, but for now we'll focus on using them effectively.\n",
    "\n",
    "Here's how to train and evalulate a *dogs vs cats* model in 3 lines of code, and under 20 seconds:"
   ]
  },
  {
   "cell_type": "markdown",
   "metadata": {},
   "source": [
    "# Finally, let's do for fashion"
   ]
  },
  {
   "cell_type": "code",
   "execution_count": 12,
   "metadata": {},
   "outputs": [],
   "source": [
    "arch=resnet34"
   ]
  },
  {
   "cell_type": "code",
   "execution_count": 13,
   "metadata": {},
   "outputs": [],
   "source": [
    "PATH_fashion='C:/Users/user/Documents/Salamat/NDSC_2019/fashion'\n",
    "data_fashion = ImageClassifierData.from_paths(path=PATH_fashion,tfms=tfms_from_model(arch, sz),trn_name='train',val_name='val', test_name='test')"
   ]
  },
  {
   "cell_type": "code",
   "execution_count": 14,
   "metadata": {},
   "outputs": [],
   "source": [
    "learn_fashion = ConvLearner.pretrained(arch, data_fashion, precompute=True)"
   ]
  },
  {
   "cell_type": "code",
   "execution_count": 49,
   "metadata": {},
   "outputs": [
    {
     "name": "stdout",
     "output_type": "stream",
     "text": [
      "\r",
      "  0%|                                                                                           | 0/50 [00:00<?, ?it/s]"
     ]
    },
    {
     "data": {
      "application/vnd.jupyter.widget-view+json": {
       "model_id": "03d0642169574eae85906cd7a19ee2b3",
       "version_major": 2,
       "version_minor": 0
      },
      "text/plain": [
       "HBox(children=(IntProgress(value=0, description='Epoch', max=1), HTML(value='')))"
      ]
     },
     "metadata": {},
     "output_type": "display_data"
    },
    {
     "name": "stdout",
     "output_type": "stream",
     "text": [
      " 39%|█████████████████████████▋                                        | 1068/2747 [00:09<00:15, 107.04it/s, loss=1.84]"
     ]
    },
    {
     "name": "stderr",
     "output_type": "stream",
     "text": [
      "C:\\Users\\user\\Anaconda3\\envs\\fastai\\lib\\site-packages\\tqdm\\_monitor.py:89: TqdmSynchronisationWarning: Set changed size during iteration (see https://github.com/tqdm/tqdm/issues/481)\n",
      "  TqdmSynchronisationWarning)\n"
     ]
    },
    {
     "name": "stdout",
     "output_type": "stream",
     "text": [
      "epoch      trn_loss   val_loss   accuracy                                                                              \n",
      "    0      1.772168   1.681796   0.427573  \n",
      "\n",
      "  2%|█▋                                                                                 | 1/50 [00:29<24:20, 29.81s/it]"
     ]
    },
    {
     "data": {
      "application/vnd.jupyter.widget-view+json": {
       "model_id": "a5d2061733ef408397268a26fe5713df",
       "version_major": 2,
       "version_minor": 0
      },
      "text/plain": [
       "HBox(children=(IntProgress(value=0, description='Epoch', max=1), HTML(value='')))"
      ]
     },
     "metadata": {},
     "output_type": "display_data"
    },
    {
     "name": "stdout",
     "output_type": "stream",
     "text": [
      "epoch      trn_loss   val_loss   accuracy                                                                              \n",
      "    0      1.743564   1.651186   0.441228  \n",
      "\n",
      "  4%|███▎                                                                               | 2/50 [00:58<23:35, 29.48s/it]"
     ]
    },
    {
     "data": {
      "application/vnd.jupyter.widget-view+json": {
       "model_id": "da72f97318d54d7e8f97ab96d180d71b",
       "version_major": 2,
       "version_minor": 0
      },
      "text/plain": [
       "HBox(children=(IntProgress(value=0, description='Epoch', max=1), HTML(value='')))"
      ]
     },
     "metadata": {},
     "output_type": "display_data"
    },
    {
     "name": "stdout",
     "output_type": "stream",
     "text": [
      "epoch      trn_loss   val_loss   accuracy                                                                              \n",
      "    0      1.664569   1.640178   0.441274  \n",
      "\n",
      "  6%|████▉                                                                              | 3/50 [01:27<22:56, 29.28s/it]"
     ]
    },
    {
     "data": {
      "application/vnd.jupyter.widget-view+json": {
       "model_id": "5f7599cd4680422390b509c8c2402eef",
       "version_major": 2,
       "version_minor": 0
      },
      "text/plain": [
       "HBox(children=(IntProgress(value=0, description='Epoch', max=1), HTML(value='')))"
      ]
     },
     "metadata": {},
     "output_type": "display_data"
    },
    {
     "name": "stdout",
     "output_type": "stream",
     "text": [
      "epoch      trn_loss   val_loss   accuracy                                                                              \n",
      "    0      1.639799   1.621362   0.450991  \n",
      "\n",
      "  8%|██████▋                                                                            | 4/50 [01:56<22:20, 29.14s/it]"
     ]
    },
    {
     "data": {
      "application/vnd.jupyter.widget-view+json": {
       "model_id": "2fd0d031ca78478482c49cd0098a76e2",
       "version_major": 2,
       "version_minor": 0
      },
      "text/plain": [
       "HBox(children=(IntProgress(value=0, description='Epoch', max=1), HTML(value='')))"
      ]
     },
     "metadata": {},
     "output_type": "display_data"
    },
    {
     "name": "stdout",
     "output_type": "stream",
     "text": [
      "epoch      trn_loss   val_loss   accuracy                                                                              \n",
      "    0      1.681819   1.609769   0.453267  \n",
      "\n",
      " 10%|████████▎                                                                          | 5/50 [02:25<21:48, 29.08s/it]"
     ]
    },
    {
     "data": {
      "application/vnd.jupyter.widget-view+json": {
       "model_id": "9c55928a1fc94c59b86266f01ab969e1",
       "version_major": 2,
       "version_minor": 0
      },
      "text/plain": [
       "HBox(children=(IntProgress(value=0, description='Epoch', max=1), HTML(value='')))"
      ]
     },
     "metadata": {},
     "output_type": "display_data"
    },
    {
     "name": "stdout",
     "output_type": "stream",
     "text": [
      "epoch      trn_loss   val_loss   accuracy                                                                              \n",
      "    0      1.658752   1.603304   0.456043  \n",
      "\n",
      " 12%|█████████▉                                                                         | 6/50 [02:54<21:17, 29.02s/it]"
     ]
    },
    {
     "data": {
      "application/vnd.jupyter.widget-view+json": {
       "model_id": "56127af5152d472e8d7679b18bf39a51",
       "version_major": 2,
       "version_minor": 0
      },
      "text/plain": [
       "HBox(children=(IntProgress(value=0, description='Epoch', max=1), HTML(value='')))"
      ]
     },
     "metadata": {},
     "output_type": "display_data"
    },
    {
     "name": "stdout",
     "output_type": "stream",
     "text": [
      "epoch      trn_loss   val_loss   accuracy                                                                              \n",
      "    0      1.646499   1.595271   0.456157  \n",
      "\n",
      " 14%|███████████▌                                                                       | 7/50 [03:22<20:46, 28.99s/it]"
     ]
    },
    {
     "data": {
      "application/vnd.jupyter.widget-view+json": {
       "model_id": "a936b140fb27477d82595da2d6eab564",
       "version_major": 2,
       "version_minor": 0
      },
      "text/plain": [
       "HBox(children=(IntProgress(value=0, description='Epoch', max=1), HTML(value='')))"
      ]
     },
     "metadata": {},
     "output_type": "display_data"
    },
    {
     "name": "stdout",
     "output_type": "stream",
     "text": [
      "epoch      trn_loss   val_loss   accuracy                                                                              \n",
      "    0      1.636915   1.58613    0.462575  \n",
      "\n",
      " 16%|█████████████▎                                                                     | 8/50 [03:51<20:16, 28.97s/it]"
     ]
    },
    {
     "data": {
      "application/vnd.jupyter.widget-view+json": {
       "model_id": "7ab67f2bdb6646d5b55c6eba92f4fe64",
       "version_major": 2,
       "version_minor": 0
      },
      "text/plain": [
       "HBox(children=(IntProgress(value=0, description='Epoch', max=1), HTML(value='')))"
      ]
     },
     "metadata": {},
     "output_type": "display_data"
    },
    {
     "name": "stdout",
     "output_type": "stream",
     "text": [
      "epoch      trn_loss   val_loss   accuracy                                                                              \n",
      "    0      1.645671   1.579305   0.464964  \n",
      "\n",
      " 18%|██████████████▉                                                                    | 9/50 [04:20<19:47, 28.96s/it]"
     ]
    },
    {
     "data": {
      "application/vnd.jupyter.widget-view+json": {
       "model_id": "b7f9e8e52f904b5594b305d113cec0e0",
       "version_major": 2,
       "version_minor": 0
      },
      "text/plain": [
       "HBox(children=(IntProgress(value=0, description='Epoch', max=1), HTML(value='')))"
      ]
     },
     "metadata": {},
     "output_type": "display_data"
    },
    {
     "name": "stdout",
     "output_type": "stream",
     "text": [
      "epoch      trn_loss   val_loss   accuracy                                                                              \n",
      "    0      1.614441   1.576392   0.463963  \n",
      "\n",
      " 20%|████████████████▍                                                                 | 10/50 [04:49<19:17, 28.94s/it]"
     ]
    },
    {
     "data": {
      "application/vnd.jupyter.widget-view+json": {
       "model_id": "ba2d2a135ab64194a35d644aa8aeb6ad",
       "version_major": 2,
       "version_minor": 0
      },
      "text/plain": [
       "HBox(children=(IntProgress(value=0, description='Epoch', max=1), HTML(value='')))"
      ]
     },
     "metadata": {},
     "output_type": "display_data"
    },
    {
     "name": "stdout",
     "output_type": "stream",
     "text": [
      "epoch      trn_loss   val_loss   accuracy                                                                              \n",
      "    0      1.626629   1.57022    0.470267  \n",
      "\n",
      " 22%|██████████████████                                                                | 11/50 [05:18<18:48, 28.93s/it]"
     ]
    },
    {
     "data": {
      "application/vnd.jupyter.widget-view+json": {
       "model_id": "856c1119388445969f38d81c6fac7b38",
       "version_major": 2,
       "version_minor": 0
      },
      "text/plain": [
       "HBox(children=(IntProgress(value=0, description='Epoch', max=1), HTML(value='')))"
      ]
     },
     "metadata": {},
     "output_type": "display_data"
    },
    {
     "name": "stdout",
     "output_type": "stream",
     "text": [
      "epoch      trn_loss   val_loss   accuracy                                                                              \n",
      "    0      1.613399   1.570279   0.467286  \n",
      "\n",
      " 24%|███████████████████▋                                                              | 12/50 [05:47<18:19, 28.92s/it]"
     ]
    },
    {
     "data": {
      "application/vnd.jupyter.widget-view+json": {
       "model_id": "7dffc687d75a475fb7bb4492aa7dfe6a",
       "version_major": 2,
       "version_minor": 0
      },
      "text/plain": [
       "HBox(children=(IntProgress(value=0, description='Epoch', max=1), HTML(value='')))"
      ]
     },
     "metadata": {},
     "output_type": "display_data"
    },
    {
     "name": "stdout",
     "output_type": "stream",
     "text": [
      "epoch      trn_loss   val_loss   accuracy                                                                              \n",
      "    0      1.607366   1.567434   0.470381  \n",
      "\n",
      " 26%|█████████████████████▎                                                            | 13/50 [06:15<17:49, 28.91s/it]"
     ]
    },
    {
     "data": {
      "application/vnd.jupyter.widget-view+json": {
       "model_id": "7a2c97a7436b4d9e88f74577510d8e68",
       "version_major": 2,
       "version_minor": 0
      },
      "text/plain": [
       "HBox(children=(IntProgress(value=0, description='Epoch', max=1), HTML(value='')))"
      ]
     },
     "metadata": {},
     "output_type": "display_data"
    },
    {
     "name": "stdout",
     "output_type": "stream",
     "text": [
      "epoch      trn_loss   val_loss   accuracy                                                                              \n",
      "    0      1.581396   1.559058   0.471314  \n",
      "\n",
      " 28%|██████████████████████▉                                                           | 14/50 [06:44<17:20, 28.90s/it]"
     ]
    },
    {
     "data": {
      "application/vnd.jupyter.widget-view+json": {
       "model_id": "52875686f28241ad81756db0d1a2c646",
       "version_major": 2,
       "version_minor": 0
      },
      "text/plain": [
       "HBox(children=(IntProgress(value=0, description='Epoch', max=1), HTML(value='')))"
      ]
     },
     "metadata": {},
     "output_type": "display_data"
    },
    {
     "name": "stdout",
     "output_type": "stream",
     "text": [
      "epoch      trn_loss   val_loss   accuracy                                                                              \n",
      "    0      1.573385   1.55694    0.472179  \n",
      "\n",
      " 30%|████████████████████████▌                                                         | 15/50 [07:13<16:51, 28.90s/it]"
     ]
    },
    {
     "data": {
      "application/vnd.jupyter.widget-view+json": {
       "model_id": "f10faaf54a204b59b28f5e3207b77ee2",
       "version_major": 2,
       "version_minor": 0
      },
      "text/plain": [
       "HBox(children=(IntProgress(value=0, description='Epoch', max=1), HTML(value='')))"
      ]
     },
     "metadata": {},
     "output_type": "display_data"
    },
    {
     "name": "stdout",
     "output_type": "stream",
     "text": [
      "epoch      trn_loss   val_loss   accuracy                                                                              \n",
      "    0      1.56558    1.553354   0.476025  \n",
      "\n",
      " 32%|██████████████████████████▏                                                       | 16/50 [07:42<16:22, 28.89s/it]"
     ]
    },
    {
     "data": {
      "application/vnd.jupyter.widget-view+json": {
       "model_id": "80743bd898f841d6ae6539835f017283",
       "version_major": 2,
       "version_minor": 0
      },
      "text/plain": [
       "HBox(children=(IntProgress(value=0, description='Epoch', max=1), HTML(value='')))"
      ]
     },
     "metadata": {},
     "output_type": "display_data"
    },
    {
     "name": "stdout",
     "output_type": "stream",
     "text": [
      "epoch      trn_loss   val_loss   accuracy                                                                              \n",
      "    0      1.57218    1.551876   0.473885  \n",
      "\n",
      " 34%|███████████████████████████▉                                                      | 17/50 [08:10<15:53, 28.88s/it]"
     ]
    },
    {
     "data": {
      "application/vnd.jupyter.widget-view+json": {
       "model_id": "1c8776fe0f3b4799bb15a1b44f4b5643",
       "version_major": 2,
       "version_minor": 0
      },
      "text/plain": [
       "HBox(children=(IntProgress(value=0, description='Epoch', max=1), HTML(value='')))"
      ]
     },
     "metadata": {},
     "output_type": "display_data"
    },
    {
     "name": "stdout",
     "output_type": "stream",
     "text": [
      "epoch      trn_loss   val_loss   accuracy                                                                              \n",
      "    0      1.584395   1.550556   0.476207  \n",
      "\n",
      " 36%|█████████████████████████████▌                                                    | 18/50 [08:39<15:24, 28.88s/it]"
     ]
    },
    {
     "data": {
      "application/vnd.jupyter.widget-view+json": {
       "model_id": "a2628932baa4489e809b9de842753ebb",
       "version_major": 2,
       "version_minor": 0
      },
      "text/plain": [
       "HBox(children=(IntProgress(value=0, description='Epoch', max=1), HTML(value='')))"
      ]
     },
     "metadata": {},
     "output_type": "display_data"
    },
    {
     "name": "stdout",
     "output_type": "stream",
     "text": [
      "epoch      trn_loss   val_loss   accuracy                                                                              \n",
      "    0      1.581138   1.547532   0.474523  \n",
      "\n",
      " 38%|███████████████████████████████▏                                                  | 19/50 [09:08<14:54, 28.87s/it]"
     ]
    },
    {
     "data": {
      "application/vnd.jupyter.widget-view+json": {
       "model_id": "d177e18b944642cd925b63337a1dabfb",
       "version_major": 2,
       "version_minor": 0
      },
      "text/plain": [
       "HBox(children=(IntProgress(value=0, description='Epoch', max=1), HTML(value='')))"
      ]
     },
     "metadata": {},
     "output_type": "display_data"
    },
    {
     "name": "stdout",
     "output_type": "stream",
     "text": [
      "epoch      trn_loss   val_loss   accuracy                                                                              \n",
      "    0      1.579176   1.549135   0.47425   \n",
      "\n",
      " 40%|████████████████████████████████▊                                                 | 20/50 [09:37<14:25, 28.87s/it]"
     ]
    },
    {
     "data": {
      "application/vnd.jupyter.widget-view+json": {
       "model_id": "3b099dabc8f949ef8d7309dfc9e77d88",
       "version_major": 2,
       "version_minor": 0
      },
      "text/plain": [
       "HBox(children=(IntProgress(value=0, description='Epoch', max=1), HTML(value='')))"
      ]
     },
     "metadata": {},
     "output_type": "display_data"
    },
    {
     "name": "stdout",
     "output_type": "stream",
     "text": [
      "epoch      trn_loss   val_loss   accuracy                                                                              \n",
      "    0      1.580323   1.542998   0.477618  \n",
      "\n",
      " 42%|██████████████████████████████████▍                                               | 21/50 [10:06<13:57, 28.87s/it]"
     ]
    },
    {
     "data": {
      "application/vnd.jupyter.widget-view+json": {
       "model_id": "4b3e0ccf8ad345d7bd3fd5b0dd34213d",
       "version_major": 2,
       "version_minor": 0
      },
      "text/plain": [
       "HBox(children=(IntProgress(value=0, description='Epoch', max=1), HTML(value='')))"
      ]
     },
     "metadata": {},
     "output_type": "display_data"
    },
    {
     "name": "stdout",
     "output_type": "stream",
     "text": [
      "epoch      trn_loss   val_loss   accuracy                                                                              \n",
      "    0      1.558913   1.541334   0.47871   \n",
      "\n",
      " 44%|████████████████████████████████████                                              | 22/50 [10:35<13:28, 28.87s/it]"
     ]
    },
    {
     "data": {
      "application/vnd.jupyter.widget-view+json": {
       "model_id": "6efe48120a06491e9b2b6762c27b8fca",
       "version_major": 2,
       "version_minor": 0
      },
      "text/plain": [
       "HBox(children=(IntProgress(value=0, description='Epoch', max=1), HTML(value='')))"
      ]
     },
     "metadata": {},
     "output_type": "display_data"
    },
    {
     "name": "stdout",
     "output_type": "stream",
     "text": [
      "epoch      trn_loss   val_loss   accuracy                                                                              \n",
      "    0      1.547276   1.541517   0.478824  \n",
      "\n",
      " 46%|█████████████████████████████████████▋                                            | 23/50 [11:04<12:59, 28.87s/it]"
     ]
    },
    {
     "data": {
      "application/vnd.jupyter.widget-view+json": {
       "model_id": "12e2fb39bd194c009eefad6b6ee12f0b",
       "version_major": 2,
       "version_minor": 0
      },
      "text/plain": [
       "HBox(children=(IntProgress(value=0, description='Epoch', max=1), HTML(value='')))"
      ]
     },
     "metadata": {},
     "output_type": "display_data"
    },
    {
     "name": "stdout",
     "output_type": "stream",
     "text": [
      "epoch      trn_loss   val_loss   accuracy                                                                              \n",
      "    0      1.552966   1.536077   0.481828  \n",
      "\n",
      " 48%|███████████████████████████████████████▎                                          | 24/50 [11:32<12:30, 28.87s/it]"
     ]
    },
    {
     "data": {
      "application/vnd.jupyter.widget-view+json": {
       "model_id": "5c5bb2cd930e4aae996dd0bfe46b2f93",
       "version_major": 2,
       "version_minor": 0
      },
      "text/plain": [
       "HBox(children=(IntProgress(value=0, description='Epoch', max=1), HTML(value='')))"
      ]
     },
     "metadata": {},
     "output_type": "display_data"
    },
    {
     "name": "stdout",
     "output_type": "stream",
     "text": [
      "epoch      trn_loss   val_loss   accuracy                                                                              \n",
      "    0      1.559851   1.536968   0.482374  \n",
      "\n",
      " 50%|█████████████████████████████████████████                                         | 25/50 [12:01<12:01, 28.86s/it]"
     ]
    },
    {
     "data": {
      "application/vnd.jupyter.widget-view+json": {
       "model_id": "837106f1c72e4bbd92ccad4e0d39a580",
       "version_major": 2,
       "version_minor": 0
      },
      "text/plain": [
       "HBox(children=(IntProgress(value=0, description='Epoch', max=1), HTML(value='')))"
      ]
     },
     "metadata": {},
     "output_type": "display_data"
    },
    {
     "name": "stdout",
     "output_type": "stream",
     "text": [
      "epoch      trn_loss   val_loss   accuracy                                                                              \n",
      "    0      1.577166   1.535842   0.482078  \n",
      "\n",
      " 52%|██████████████████████████████████████████▋                                       | 26/50 [12:30<11:32, 28.86s/it]"
     ]
    },
    {
     "data": {
      "application/vnd.jupyter.widget-view+json": {
       "model_id": "e1672bc1ee6a47aca3433b8677d31cd7",
       "version_major": 2,
       "version_minor": 0
      },
      "text/plain": [
       "HBox(children=(IntProgress(value=0, description='Epoch', max=1), HTML(value='')))"
      ]
     },
     "metadata": {},
     "output_type": "display_data"
    },
    {
     "name": "stdout",
     "output_type": "stream",
     "text": [
      "epoch      trn_loss   val_loss   accuracy                                                                              \n",
      "    0      1.53645    1.535181   0.480849  \n",
      "\n",
      " 54%|████████████████████████████████████████████▎                                     | 27/50 [12:59<11:03, 28.86s/it]"
     ]
    },
    {
     "data": {
      "application/vnd.jupyter.widget-view+json": {
       "model_id": "83bdfd5ccf09413a888d0f8cc0558b41",
       "version_major": 2,
       "version_minor": 0
      },
      "text/plain": [
       "HBox(children=(IntProgress(value=0, description='Epoch', max=1), HTML(value='')))"
      ]
     },
     "metadata": {},
     "output_type": "display_data"
    },
    {
     "name": "stdout",
     "output_type": "stream",
     "text": [
      "epoch      trn_loss   val_loss   accuracy                                                                              \n",
      "    0      1.529612   1.528259   0.484354  \n",
      "\n",
      " 56%|█████████████████████████████████████████████▉                                    | 28/50 [13:27<10:34, 28.85s/it]"
     ]
    },
    {
     "data": {
      "application/vnd.jupyter.widget-view+json": {
       "model_id": "cc15e1d5c4b6493881c9565e38f29846",
       "version_major": 2,
       "version_minor": 0
      },
      "text/plain": [
       "HBox(children=(IntProgress(value=0, description='Epoch', max=1), HTML(value='')))"
      ]
     },
     "metadata": {},
     "output_type": "display_data"
    },
    {
     "name": "stdout",
     "output_type": "stream",
     "text": [
      "epoch      trn_loss   val_loss   accuracy                                                                              \n",
      "    0      1.537724   1.533352   0.481282  \n",
      "\n",
      " 58%|███████████████████████████████████████████████▌                                  | 29/50 [13:56<10:05, 28.85s/it]"
     ]
    },
    {
     "data": {
      "application/vnd.jupyter.widget-view+json": {
       "model_id": "261f849249c043208574c8943de31ffe",
       "version_major": 2,
       "version_minor": 0
      },
      "text/plain": [
       "HBox(children=(IntProgress(value=0, description='Epoch', max=1), HTML(value='')))"
      ]
     },
     "metadata": {},
     "output_type": "display_data"
    },
    {
     "name": "stdout",
     "output_type": "stream",
     "text": [
      "epoch      trn_loss   val_loss   accuracy                                                                              \n",
      "    0      1.532604   1.531941   0.481623  \n",
      "\n",
      " 60%|█████████████████████████████████████████████████▏                                | 30/50 [14:27<09:38, 28.92s/it]"
     ]
    },
    {
     "data": {
      "application/vnd.jupyter.widget-view+json": {
       "model_id": "044c097f634e4f3582f572f6f8838e08",
       "version_major": 2,
       "version_minor": 0
      },
      "text/plain": [
       "HBox(children=(IntProgress(value=0, description='Epoch', max=1), HTML(value='')))"
      ]
     },
     "metadata": {},
     "output_type": "display_data"
    },
    {
     "name": "stdout",
     "output_type": "stream",
     "text": [
      "epoch      trn_loss   val_loss   accuracy                                                                              \n",
      "    0      1.559915   1.526452   0.4849    \n",
      "\n",
      " 62%|██████████████████████████████████████████████████▊                               | 31/50 [14:56<09:09, 28.92s/it]"
     ]
    },
    {
     "data": {
      "application/vnd.jupyter.widget-view+json": {
       "model_id": "f0056c7aa3004f1682022ac3b44d00d7",
       "version_major": 2,
       "version_minor": 0
      },
      "text/plain": [
       "HBox(children=(IntProgress(value=0, description='Epoch', max=1), HTML(value='')))"
      ]
     },
     "metadata": {},
     "output_type": "display_data"
    },
    {
     "name": "stdout",
     "output_type": "stream",
     "text": [
      "epoch      trn_loss   val_loss   accuracy                                                                              \n",
      "    0      1.559608   1.524087   0.485628  \n",
      "\n",
      " 64%|████████████████████████████████████████████████████▍                             | 32/50 [15:25<08:40, 28.92s/it]"
     ]
    },
    {
     "data": {
      "application/vnd.jupyter.widget-view+json": {
       "model_id": "3504fa7ea60541d8a18359c6ea48baeb",
       "version_major": 2,
       "version_minor": 0
      },
      "text/plain": [
       "HBox(children=(IntProgress(value=0, description='Epoch', max=1), HTML(value='')))"
      ]
     },
     "metadata": {},
     "output_type": "display_data"
    },
    {
     "name": "stdout",
     "output_type": "stream",
     "text": [
      "epoch      trn_loss   val_loss   accuracy                                                                              \n",
      "    0      1.518294   1.52549    0.485355  \n",
      "\n",
      " 66%|██████████████████████████████████████████████████████                            | 33/50 [15:54<08:11, 28.91s/it]"
     ]
    },
    {
     "data": {
      "application/vnd.jupyter.widget-view+json": {
       "model_id": "11eb9eb0fd1d4ea88132d3593867734e",
       "version_major": 2,
       "version_minor": 0
      },
      "text/plain": [
       "HBox(children=(IntProgress(value=0, description='Epoch', max=1), HTML(value='')))"
      ]
     },
     "metadata": {},
     "output_type": "display_data"
    },
    {
     "name": "stdout",
     "output_type": "stream",
     "text": [
      "epoch      trn_loss   val_loss   accuracy                                                                              \n",
      "    0      1.562881   1.525284   0.483831  \n",
      "\n",
      " 68%|███████████████████████████████████████████████████████▊                          | 34/50 [16:22<07:42, 28.91s/it]"
     ]
    },
    {
     "data": {
      "application/vnd.jupyter.widget-view+json": {
       "model_id": "20916e9540db4df29db727eb49f9975d",
       "version_major": 2,
       "version_minor": 0
      },
      "text/plain": [
       "HBox(children=(IntProgress(value=0, description='Epoch', max=1), HTML(value='')))"
      ]
     },
     "metadata": {},
     "output_type": "display_data"
    },
    {
     "name": "stdout",
     "output_type": "stream",
     "text": [
      "epoch      trn_loss   val_loss   accuracy                                                                              \n",
      "    0      1.547987   1.523165   0.485014  \n",
      "\n",
      " 70%|█████████████████████████████████████████████████████████▍                        | 35/50 [16:51<07:13, 28.90s/it]"
     ]
    },
    {
     "data": {
      "application/vnd.jupyter.widget-view+json": {
       "model_id": "ddcb95dedb7c4e249ac4488a66a778cf",
       "version_major": 2,
       "version_minor": 0
      },
      "text/plain": [
       "HBox(children=(IntProgress(value=0, description='Epoch', max=1), HTML(value='')))"
      ]
     },
     "metadata": {},
     "output_type": "display_data"
    },
    {
     "name": "stdout",
     "output_type": "stream",
     "text": [
      "epoch      trn_loss   val_loss   accuracy                                                                              \n",
      "    0      1.512595   1.523866   0.48531   \n",
      "\n",
      " 72%|███████████████████████████████████████████████████████████                       | 36/50 [17:20<06:44, 28.91s/it]"
     ]
    },
    {
     "data": {
      "application/vnd.jupyter.widget-view+json": {
       "model_id": "8d5d955ca17a45b8b4d65a2deeddc08c",
       "version_major": 2,
       "version_minor": 0
      },
      "text/plain": [
       "HBox(children=(IntProgress(value=0, description='Epoch', max=1), HTML(value='')))"
      ]
     },
     "metadata": {},
     "output_type": "display_data"
    },
    {
     "name": "stdout",
     "output_type": "stream",
     "text": [
      "epoch      trn_loss   val_loss   accuracy                                                                              \n",
      "    0      1.527608   1.525134   0.485492  \n",
      "\n",
      " 74%|████████████████████████████████████████████████████████████▋                     | 37/50 [17:49<06:15, 28.90s/it]"
     ]
    },
    {
     "data": {
      "application/vnd.jupyter.widget-view+json": {
       "model_id": "b0c761a1f2264040b335ddd5bc95578d",
       "version_major": 2,
       "version_minor": 0
      },
      "text/plain": [
       "HBox(children=(IntProgress(value=0, description='Epoch', max=1), HTML(value='')))"
      ]
     },
     "metadata": {},
     "output_type": "display_data"
    },
    {
     "name": "stdout",
     "output_type": "stream",
     "text": [
      "epoch      trn_loss   val_loss   accuracy                                                                              \n",
      "    0      1.536546   1.526145   0.481782  \n",
      "\n",
      " 76%|██████████████████████████████████████████████████████████████▎                   | 38/50 [18:18<05:46, 28.90s/it]"
     ]
    },
    {
     "data": {
      "application/vnd.jupyter.widget-view+json": {
       "model_id": "f460e4b9145b4b3e84c90395c2f09405",
       "version_major": 2,
       "version_minor": 0
      },
      "text/plain": [
       "HBox(children=(IntProgress(value=0, description='Epoch', max=1), HTML(value='')))"
      ]
     },
     "metadata": {},
     "output_type": "display_data"
    },
    {
     "name": "stdout",
     "output_type": "stream",
     "text": [
      "epoch      trn_loss   val_loss   accuracy                                                                              \n",
      "    0      1.542969   1.528994   0.482124  \n",
      "\n",
      " 78%|███████████████████████████████████████████████████████████████▉                  | 39/50 [18:47<05:17, 28.90s/it]"
     ]
    },
    {
     "data": {
      "application/vnd.jupyter.widget-view+json": {
       "model_id": "4d39e6e816ff450095e81df97a04529d",
       "version_major": 2,
       "version_minor": 0
      },
      "text/plain": [
       "HBox(children=(IntProgress(value=0, description='Epoch', max=1), HTML(value='')))"
      ]
     },
     "metadata": {},
     "output_type": "display_data"
    },
    {
     "name": "stdout",
     "output_type": "stream",
     "text": [
      "epoch      trn_loss   val_loss   accuracy                                                                              \n",
      "    0      1.516347   1.520954   0.483011  \n",
      "\n",
      " 80%|█████████████████████████████████████████████████████████████████▌                | 40/50 [19:16<04:49, 28.90s/it]"
     ]
    },
    {
     "data": {
      "application/vnd.jupyter.widget-view+json": {
       "model_id": "345a58eb3b3b4985a17412ed76a1ad43",
       "version_major": 2,
       "version_minor": 0
      },
      "text/plain": [
       "HBox(children=(IntProgress(value=0, description='Epoch', max=1), HTML(value='')))"
      ]
     },
     "metadata": {},
     "output_type": "display_data"
    },
    {
     "name": "stdout",
     "output_type": "stream",
     "text": [
      "epoch      trn_loss   val_loss   accuracy                                                                              \n",
      "    0      1.539394   1.526559   0.481327  \n",
      "\n",
      " 82%|███████████████████████████████████████████████████████████████████▏              | 41/50 [19:44<04:20, 28.90s/it]"
     ]
    },
    {
     "data": {
      "application/vnd.jupyter.widget-view+json": {
       "model_id": "20cbf823d291435e94c51919aacaf71a",
       "version_major": 2,
       "version_minor": 0
      },
      "text/plain": [
       "HBox(children=(IntProgress(value=0, description='Epoch', max=1), HTML(value='')))"
      ]
     },
     "metadata": {},
     "output_type": "display_data"
    },
    {
     "name": "stdout",
     "output_type": "stream",
     "text": [
      "epoch      trn_loss   val_loss   accuracy                                                                              \n",
      "    0      1.526023   1.516509   0.489566  \n",
      "\n",
      " 84%|████████████████████████████████████████████████████████████████████▉             | 42/50 [20:13<03:51, 28.90s/it]"
     ]
    },
    {
     "data": {
      "application/vnd.jupyter.widget-view+json": {
       "model_id": "3b3a52842bd24c6b98381ce894a712fa",
       "version_major": 2,
       "version_minor": 0
      },
      "text/plain": [
       "HBox(children=(IntProgress(value=0, description='Epoch', max=1), HTML(value='')))"
      ]
     },
     "metadata": {},
     "output_type": "display_data"
    },
    {
     "name": "stdout",
     "output_type": "stream",
     "text": [
      "epoch      trn_loss   val_loss   accuracy                                                                              \n",
      "    0      1.524186   1.517442   0.486812  \n",
      "\n",
      " 86%|██████████████████████████████████████████████████████████████████████▌           | 43/50 [20:42<03:22, 28.89s/it]"
     ]
    },
    {
     "data": {
      "application/vnd.jupyter.widget-view+json": {
       "model_id": "3012ae9b98a84906a4375edf1e40d78a",
       "version_major": 2,
       "version_minor": 0
      },
      "text/plain": [
       "HBox(children=(IntProgress(value=0, description='Epoch', max=1), HTML(value='')))"
      ]
     },
     "metadata": {},
     "output_type": "display_data"
    },
    {
     "name": "stdout",
     "output_type": "stream",
     "text": [
      "epoch      trn_loss   val_loss   accuracy                                                                              \n",
      "    0      1.494096   1.512679   0.489793  \n",
      "\n",
      " 88%|████████████████████████████████████████████████████████████████████████▏         | 44/50 [21:11<02:53, 28.89s/it]"
     ]
    },
    {
     "data": {
      "application/vnd.jupyter.widget-view+json": {
       "model_id": "ca675a0f36de47ed85d301bba2b231fd",
       "version_major": 2,
       "version_minor": 0
      },
      "text/plain": [
       "HBox(children=(IntProgress(value=0, description='Epoch', max=1), HTML(value='')))"
      ]
     },
     "metadata": {},
     "output_type": "display_data"
    },
    {
     "name": "stdout",
     "output_type": "stream",
     "text": [
      "epoch      trn_loss   val_loss   accuracy                                                                              \n",
      "    0      1.505751   1.52212    0.483512  \n",
      "\n",
      " 90%|█████████████████████████████████████████████████████████████████████████▊        | 45/50 [21:39<02:24, 28.89s/it]"
     ]
    },
    {
     "data": {
      "application/vnd.jupyter.widget-view+json": {
       "model_id": "906029bf21e147c4a369caae69c97821",
       "version_major": 2,
       "version_minor": 0
      },
      "text/plain": [
       "HBox(children=(IntProgress(value=0, description='Epoch', max=1), HTML(value='')))"
      ]
     },
     "metadata": {},
     "output_type": "display_data"
    },
    {
     "name": "stdout",
     "output_type": "stream",
     "text": [
      "epoch      trn_loss   val_loss   accuracy                                                                              \n",
      "    0      1.499123   1.514703   0.490612  \n",
      "\n",
      " 92%|███████████████████████████████████████████████████████████████████████████▍      | 46/50 [22:08<01:55, 28.88s/it]"
     ]
    },
    {
     "data": {
      "application/vnd.jupyter.widget-view+json": {
       "model_id": "6e96bcbcffd342c69ac60821e339dfac",
       "version_major": 2,
       "version_minor": 0
      },
      "text/plain": [
       "HBox(children=(IntProgress(value=0, description='Epoch', max=1), HTML(value='')))"
      ]
     },
     "metadata": {},
     "output_type": "display_data"
    },
    {
     "name": "stdout",
     "output_type": "stream",
     "text": [
      "epoch      trn_loss   val_loss   accuracy                                                                              \n",
      "    0      1.498467   1.517514   0.488883  \n",
      "\n",
      " 94%|█████████████████████████████████████████████████████████████████████████████     | 47/50 [22:37<01:26, 28.88s/it]"
     ]
    },
    {
     "data": {
      "application/vnd.jupyter.widget-view+json": {
       "model_id": "2e3fdd8d36b94734a1f166ce7a094d78",
       "version_major": 2,
       "version_minor": 0
      },
      "text/plain": [
       "HBox(children=(IntProgress(value=0, description='Epoch', max=1), HTML(value='')))"
      ]
     },
     "metadata": {},
     "output_type": "display_data"
    },
    {
     "name": "stdout",
     "output_type": "stream",
     "text": [
      "epoch      trn_loss   val_loss   accuracy                                                                              \n",
      "    0      1.467385   1.514016   0.489088  \n",
      "\n",
      " 96%|██████████████████████████████████████████████████████████████████████████████▋   | 48/50 [23:06<00:57, 28.88s/it]"
     ]
    },
    {
     "data": {
      "application/vnd.jupyter.widget-view+json": {
       "model_id": "b13243c558544f9595cf29d15bb58de6",
       "version_major": 2,
       "version_minor": 0
      },
      "text/plain": [
       "HBox(children=(IntProgress(value=0, description='Epoch', max=1), HTML(value='')))"
      ]
     },
     "metadata": {},
     "output_type": "display_data"
    },
    {
     "name": "stdout",
     "output_type": "stream",
     "text": [
      "epoch      trn_loss   val_loss   accuracy                                                                              \n",
      "    0      1.503238   1.515505   0.487108  \n",
      "\n",
      " 98%|████████████████████████████████████████████████████████████████████████████████▎ | 49/50 [23:34<00:28, 28.87s/it]"
     ]
    },
    {
     "data": {
      "application/vnd.jupyter.widget-view+json": {
       "model_id": "3dc333430a6342e7872599c18e9f44b6",
       "version_major": 2,
       "version_minor": 0
      },
      "text/plain": [
       "HBox(children=(IntProgress(value=0, description='Epoch', max=1), HTML(value='')))"
      ]
     },
     "metadata": {},
     "output_type": "display_data"
    },
    {
     "name": "stdout",
     "output_type": "stream",
     "text": [
      "epoch      trn_loss   val_loss   accuracy                                                                              \n",
      "    0      1.508911   1.515066   0.489839  \n",
      "\n",
      "100%|██████████████████████████████████████████████████████████████████████████████████| 50/50 [24:03<00:00, 28.87s/it]"
     ]
    }
   ],
   "source": [
    "# Let's save all results\n",
    "# for i in tqdm(range(50)):\n",
    "#     learn_fashion.fit(0.01,1)\n",
    "#     learn_fashion.save('model_fashion_'+str(i)+'epoch')"
   ]
  },
  {
   "cell_type": "markdown",
   "metadata": {},
   "source": [
    "### Epoch 45 seems to be best\n"
   ]
  },
  {
   "cell_type": "markdown",
   "metadata": {},
   "source": [
    "# Let's get our initial predictions. Do not delete data file"
   ]
  },
  {
   "cell_type": "code",
   "execution_count": 15,
   "metadata": {
    "scrolled": true
   },
   "outputs": [],
   "source": [
    "#learn_beauty.load('model_beauty_31epoch')\n",
    "# learn_mobile.load('model_mobile_29epoch')\n",
    "learn_fashion.load('model_fashion_45epoch')"
   ]
  },
  {
   "cell_type": "code",
   "execution_count": 111,
   "metadata": {},
   "outputs": [],
   "source": [
    "pred_beauty=learn_beauty.predict()\n",
    "pred_mobile=learn_mobile.predict()\n",
    "pred_fashion=learn_fashion.predict()"
   ]
  },
  {
   "cell_type": "code",
   "execution_count": 112,
   "metadata": {},
   "outputs": [],
   "source": [
    "# We need to take exp to get probabilities \n",
    "pred_beauty=np.exp(pred_beauty)\n",
    "pred_mobile=np.exp(pred_mobile)\n",
    "pred_fashion=np.exp(pred_fashion)\n"
   ]
  },
  {
   "cell_type": "code",
   "execution_count": 113,
   "metadata": {},
   "outputs": [],
   "source": [
    "# get indexes of validation set\n",
    "val_idx_beauty=data_beauty.val_ds.fnames\n",
    "val_idx_mobile=data_mobile.val_ds.fnames\n",
    "val_idx_fashion=data_fashion.val_ds.fnames\n"
   ]
  },
  {
   "cell_type": "code",
   "execution_count": 114,
   "metadata": {},
   "outputs": [],
   "source": [
    "# Get classes might not be ordered\n",
    "cat_beauty=data_beauty.classes\n",
    "cat_mobile=data_mobile.classes\n",
    "cat_fashion=data_fashion.classes\n"
   ]
  },
  {
   "cell_type": "code",
   "execution_count": 115,
   "metadata": {},
   "outputs": [],
   "source": [
    "df_beauty=pd.DataFrame()\n",
    "df_beauty['index']=val_idx_beauty\n",
    "df_pred=pd.DataFrame(pred_beauty)\n",
    "df_pred.columns=cat_beauty\n",
    "df_beauty=pd.concat([df_beauty,df_pred],axis=1)\n"
   ]
  },
  {
   "cell_type": "code",
   "execution_count": 116,
   "metadata": {},
   "outputs": [],
   "source": [
    "df_beauty['final_pred']=df_beauty.iloc[:,1:].idxmax(axis=1)"
   ]
  },
  {
   "cell_type": "code",
   "execution_count": 117,
   "metadata": {},
   "outputs": [],
   "source": [
    "df_mobile=pd.DataFrame()\n",
    "df_mobile['index']=val_idx_mobile\n",
    "df_pred=pd.DataFrame(pred_mobile)\n",
    "df_pred.columns=cat_mobile\n",
    "df_mobile=pd.concat([df_mobile,df_pred],axis=1)\n",
    "df_mobile['final_pred']=df_mobile.iloc[:,1:].idxmax(axis=1)"
   ]
  },
  {
   "cell_type": "code",
   "execution_count": 118,
   "metadata": {},
   "outputs": [],
   "source": [
    "df_fashion=pd.DataFrame()\n",
    "df_fashion['index']=val_idx_fashion\n",
    "df_pred=pd.DataFrame(pred_fashion)\n",
    "df_pred.columns=cat_fashion\n",
    "df_fashion=pd.concat([df_fashion,df_pred],axis=1)\n",
    "df_fashion['final_pred']=df_fashion.iloc[:,1:].idxmax(axis=1)"
   ]
  },
  {
   "cell_type": "code",
   "execution_count": 119,
   "metadata": {},
   "outputs": [],
   "source": [
    "df_mobile['Category']=[cat_mobile[i] for i in data_mobile.val_y]\n",
    "df_fashion['Category']=[cat_fashion[i] for i in data_fashion.val_y]\n",
    "df_beauty['Category']=[cat_beauty[i] for i in data_beauty.val_y]\n"
   ]
  },
  {
   "cell_type": "code",
   "execution_count": 124,
   "metadata": {},
   "outputs": [
    {
     "name": "stdout",
     "output_type": "stream",
     "text": [
      "Accuracy for beauty : 0.6406476263586719\n",
      "Accuracy for mobile : 0.5627631373772025\n",
      "Accuracy for fashion : 0.4906124120980406\n",
      "Overall accuracy 0.5724668661821292\n"
     ]
    }
   ],
   "source": [
    "# let's check accuracy for each folder\n",
    "print('Accuracy for beauty :',(df_beauty.final_pred==df_beauty.Category).mean())\n",
    "\n",
    "print('Accuracy for mobile :',(df_mobile.final_pred==df_mobile.Category).mean())\n",
    "\n",
    "print('Accuracy for fashion :',(df_fashion.final_pred==df_fashion.Category).mean())\n",
    "a=(df_beauty.final_pred==df_beauty.Category).sum()\n",
    "b=(df_mobile.final_pred==df_mobile.Category).sum()\n",
    "c=(df_fashion.final_pred==df_fashion.Category).sum()\n",
    "print('Overall accuracy',(a+b+c)/(len(df_beauty)+len(df_mobile)+len(df_fashion)))\n"
   ]
  },
  {
   "cell_type": "code",
   "execution_count": 132,
   "metadata": {},
   "outputs": [],
   "source": [
    "# Let's export our validation set. But before we need to remove some parts from indexes\n",
    "df_fashion['index']=df_fashion['index'].map(lambda x: x[7:])"
   ]
  },
  {
   "cell_type": "code",
   "execution_count": 134,
   "metadata": {},
   "outputs": [],
   "source": [
    "df_mobile['index']=df_mobile['index'].map(lambda x: x[7:])"
   ]
  },
  {
   "cell_type": "code",
   "execution_count": 156,
   "metadata": {},
   "outputs": [],
   "source": [
    "# For beauty products we have categories from 0 to 16 so we need to do changes separately. From 0 to 9 and from 10 to 16\n",
    "num_beauty=df_beauty[['index','Category']].copy() # how many integers in category\n",
    "num_beauty['Category']=num_beauty.Category.apply(len)\n",
    "num_beauty.set_index('index',inplace=True)\n",
    "# num_beauty.set_index('index',inplace=True)"
   ]
  },
  {
   "cell_type": "code",
   "execution_count": 180,
   "metadata": {},
   "outputs": [],
   "source": [
    "df_beauty['Category']=df_beauty['Category'].astype(int)"
   ]
  },
  {
   "cell_type": "code",
   "execution_count": 184,
   "metadata": {},
   "outputs": [],
   "source": [
    "df_beauty.loc[df_beauty['Category']<10,'index']=df_beauty.loc[df_beauty['Category']<10,'index'].map(lambda x: x[6:])"
   ]
  },
  {
   "cell_type": "code",
   "execution_count": 186,
   "metadata": {
    "scrolled": true
   },
   "outputs": [
    {
     "data": {
      "text/plain": [
       "0    0057fd944e705684de3b169f1fd7b20e.jpg\n",
       "1    0093bb60e9adb6b2d842d87d4a8d6130.jpg\n",
       "2    00e358a25a00c6edabbff0f7c4fa424e.jpg\n",
       "3    0123b0a5ebbd601a14357274ebcdde46.jpg\n",
       "4    01ec05eb7e3f009b254ccc116d21ed3c.jpg\n",
       "Name: index, dtype: object"
      ]
     },
     "execution_count": 186,
     "metadata": {},
     "output_type": "execute_result"
    }
   ],
   "source": [
    "df_beauty.loc[df_beauty['Category']<10,'index'].head()"
   ]
  },
  {
   "cell_type": "code",
   "execution_count": 188,
   "metadata": {},
   "outputs": [],
   "source": [
    "df_beauty.loc[df_beauty['Category']>9,'index']=df_beauty.loc[df_beauty['Category']>9,'index'].map(lambda x: x[7:])"
   ]
  },
  {
   "cell_type": "code",
   "execution_count": 190,
   "metadata": {
    "scrolled": true
   },
   "outputs": [
    {
     "data": {
      "text/plain": [
       "6488    00b647de55336ad3d12c6baee8dd9f72.jpg\n",
       "6489    02df831330e3a04fbc6f81f63a2fa7cb.jpg\n",
       "6490    04db79eecdda44cc4b8f77fd160b5d76.jpg\n",
       "6491    05140db27cbc01c01e77e1b7e2dae088.jpg\n",
       "6492    0551e5170bc96f5aaa21cc0d0fd5a679.jpg\n",
       "Name: index, dtype: object"
      ]
     },
     "execution_count": 190,
     "metadata": {},
     "output_type": "execute_result"
    }
   ],
   "source": [
    "df_beauty.loc[df_beauty['Category']>9,'index'].head()"
   ]
  },
  {
   "cell_type": "code",
   "execution_count": 201,
   "metadata": {},
   "outputs": [],
   "source": [
    "# Now, everything is good. We can Save all of thee files\n",
    "\n",
    "df_beauty.to_csv('val_beauty.csv',index=False)\n",
    "df_mobile.to_csv('val_mobile.csv',index=False)\n",
    "df_fashion.to_csv('val_fashion.csv',index=False)"
   ]
  },
  {
   "cell_type": "code",
   "execution_count": 202,
   "metadata": {},
   "outputs": [],
   "source": [
    "# Let's get predictioons for test samples\n",
    "test_beauty=learn_beauty.predict(is_test=True)\n",
    "test_mobile=learn_mobile.predict(is_test=True)\n",
    "test_fashion=learn_fashion.predict(is_test=True)"
   ]
  },
  {
   "cell_type": "code",
   "execution_count": 204,
   "metadata": {
    "scrolled": true
   },
   "outputs": [],
   "source": [
    "#Let's change logits to probabilites\n",
    "test_beauty=np.exp(test_beauty)\n",
    "test_mobile=np.exp(test_mobile)\n",
    "test_fashion=np.exp(test_fashion)\n"
   ]
  },
  {
   "cell_type": "code",
   "execution_count": 205,
   "metadata": {},
   "outputs": [],
   "source": [
    "# get indexes of validation set\n",
    "test_idx_beauty=data_beauty.test_ds.fnames\n",
    "test_idx_mobile=data_mobile.test_ds.fnames\n",
    "test_idx_fashion=data_fashion.test_ds.fnames\n"
   ]
  },
  {
   "cell_type": "code",
   "execution_count": 210,
   "metadata": {},
   "outputs": [],
   "source": [
    "df_beauty_test=pd.DataFrame()\n",
    "df_beauty_test['image_path']=test_idx_beauty\n",
    "df_pred=pd.DataFrame(test_beauty)\n",
    "df_pred.columns=cat_beauty\n",
    "df_beauty_test=pd.concat([df_beauty_test,df_pred],axis=1)\n",
    "df_beauty_test['pred']=df_beauty_test.iloc[:,1:].idxmax(axis=1)\n"
   ]
  },
  {
   "cell_type": "code",
   "execution_count": 213,
   "metadata": {},
   "outputs": [],
   "source": [
    "df_mobile_test=pd.DataFrame()\n",
    "df_mobile_test['image_path']=test_idx_mobile\n",
    "df_pred=pd.DataFrame(test_mobile)\n",
    "df_pred.columns=cat_mobile\n",
    "df_mobile_test=pd.concat([df_mobile_test,df_pred],axis=1)\n",
    "df_mobile_test['pred']=df_mobile_test.iloc[:,1:].idxmax(axis=1)"
   ]
  },
  {
   "cell_type": "code",
   "execution_count": 215,
   "metadata": {},
   "outputs": [],
   "source": [
    "df_fashion_test=pd.DataFrame()\n",
    "df_fashion_test['image_path']=test_idx_fashion\n",
    "df_pred=pd.DataFrame(test_fashion)\n",
    "df_pred.columns=cat_fashion\n",
    "df_fashion_test=pd.concat([df_fashion_test,df_pred],axis=1)\n",
    "df_fashion_test['pred']=df_fashion_test.iloc[:,1:].idxmax(axis=1)"
   ]
  },
  {
   "cell_type": "code",
   "execution_count": 217,
   "metadata": {},
   "outputs": [
    {
     "data": {
      "text/html": [
       "<div>\n",
       "<style scoped>\n",
       "    .dataframe tbody tr th:only-of-type {\n",
       "        vertical-align: middle;\n",
       "    }\n",
       "\n",
       "    .dataframe tbody tr th {\n",
       "        vertical-align: top;\n",
       "    }\n",
       "\n",
       "    .dataframe thead th {\n",
       "        text-align: right;\n",
       "    }\n",
       "</style>\n",
       "<table border=\"1\" class=\"dataframe\">\n",
       "  <thead>\n",
       "    <tr style=\"text-align: right;\">\n",
       "      <th></th>\n",
       "      <th>image_path</th>\n",
       "      <th>17</th>\n",
       "      <th>18</th>\n",
       "      <th>19</th>\n",
       "      <th>20</th>\n",
       "      <th>21</th>\n",
       "      <th>22</th>\n",
       "      <th>23</th>\n",
       "      <th>24</th>\n",
       "      <th>25</th>\n",
       "      <th>26</th>\n",
       "      <th>27</th>\n",
       "      <th>28</th>\n",
       "      <th>29</th>\n",
       "      <th>30</th>\n",
       "      <th>pred</th>\n",
       "    </tr>\n",
       "  </thead>\n",
       "  <tbody>\n",
       "    <tr>\n",
       "      <th>0</th>\n",
       "      <td>test\\000006831bfaf0e3b5ce3564a10e6dd4.jpg</td>\n",
       "      <td>0.000946</td>\n",
       "      <td>0.050849</td>\n",
       "      <td>0.003765</td>\n",
       "      <td>0.003177</td>\n",
       "      <td>0.021657</td>\n",
       "      <td>0.004581</td>\n",
       "      <td>0.000909</td>\n",
       "      <td>0.002561</td>\n",
       "      <td>0.057567</td>\n",
       "      <td>0.382240</td>\n",
       "      <td>0.217111</td>\n",
       "      <td>0.229911</td>\n",
       "      <td>0.004436</td>\n",
       "      <td>0.020290</td>\n",
       "      <td>26</td>\n",
       "    </tr>\n",
       "    <tr>\n",
       "      <th>1</th>\n",
       "      <td>test\\0001962ef76356a9168cd3098002851c.jpg</td>\n",
       "      <td>0.000434</td>\n",
       "      <td>0.001739</td>\n",
       "      <td>0.000092</td>\n",
       "      <td>0.001255</td>\n",
       "      <td>0.000315</td>\n",
       "      <td>0.000325</td>\n",
       "      <td>0.000005</td>\n",
       "      <td>0.000035</td>\n",
       "      <td>0.874401</td>\n",
       "      <td>0.108420</td>\n",
       "      <td>0.007087</td>\n",
       "      <td>0.002389</td>\n",
       "      <td>0.001860</td>\n",
       "      <td>0.001643</td>\n",
       "      <td>25</td>\n",
       "    </tr>\n",
       "    <tr>\n",
       "      <th>2</th>\n",
       "      <td>test\\0002a0499445c2828b401ad871199c02.jpg</td>\n",
       "      <td>0.001575</td>\n",
       "      <td>0.010341</td>\n",
       "      <td>0.000643</td>\n",
       "      <td>0.000313</td>\n",
       "      <td>0.000838</td>\n",
       "      <td>0.000396</td>\n",
       "      <td>0.000022</td>\n",
       "      <td>0.001580</td>\n",
       "      <td>0.768305</td>\n",
       "      <td>0.166349</td>\n",
       "      <td>0.031871</td>\n",
       "      <td>0.000635</td>\n",
       "      <td>0.001030</td>\n",
       "      <td>0.016101</td>\n",
       "      <td>25</td>\n",
       "    </tr>\n",
       "    <tr>\n",
       "      <th>3</th>\n",
       "      <td>test\\0002cff2fe0c248e758eafe094e2006d.jpg</td>\n",
       "      <td>0.008726</td>\n",
       "      <td>0.075359</td>\n",
       "      <td>0.028702</td>\n",
       "      <td>0.016549</td>\n",
       "      <td>0.003615</td>\n",
       "      <td>0.021170</td>\n",
       "      <td>0.000387</td>\n",
       "      <td>0.004302</td>\n",
       "      <td>0.198011</td>\n",
       "      <td>0.462284</td>\n",
       "      <td>0.098274</td>\n",
       "      <td>0.045979</td>\n",
       "      <td>0.025684</td>\n",
       "      <td>0.010957</td>\n",
       "      <td>26</td>\n",
       "    </tr>\n",
       "    <tr>\n",
       "      <th>4</th>\n",
       "      <td>test\\0002e6cb7533eb7d8c71a639b53f0545.jpg</td>\n",
       "      <td>0.005064</td>\n",
       "      <td>0.022101</td>\n",
       "      <td>0.012016</td>\n",
       "      <td>0.000943</td>\n",
       "      <td>0.000447</td>\n",
       "      <td>0.002340</td>\n",
       "      <td>0.000131</td>\n",
       "      <td>0.001222</td>\n",
       "      <td>0.090745</td>\n",
       "      <td>0.779530</td>\n",
       "      <td>0.060535</td>\n",
       "      <td>0.001804</td>\n",
       "      <td>0.008526</td>\n",
       "      <td>0.014597</td>\n",
       "      <td>26</td>\n",
       "    </tr>\n",
       "  </tbody>\n",
       "</table>\n",
       "</div>"
      ],
      "text/plain": [
       "                                  image_path        17        18        19  \\\n",
       "0  test\\000006831bfaf0e3b5ce3564a10e6dd4.jpg  0.000946  0.050849  0.003765   \n",
       "1  test\\0001962ef76356a9168cd3098002851c.jpg  0.000434  0.001739  0.000092   \n",
       "2  test\\0002a0499445c2828b401ad871199c02.jpg  0.001575  0.010341  0.000643   \n",
       "3  test\\0002cff2fe0c248e758eafe094e2006d.jpg  0.008726  0.075359  0.028702   \n",
       "4  test\\0002e6cb7533eb7d8c71a639b53f0545.jpg  0.005064  0.022101  0.012016   \n",
       "\n",
       "         20        21        22        23        24        25        26  \\\n",
       "0  0.003177  0.021657  0.004581  0.000909  0.002561  0.057567  0.382240   \n",
       "1  0.001255  0.000315  0.000325  0.000005  0.000035  0.874401  0.108420   \n",
       "2  0.000313  0.000838  0.000396  0.000022  0.001580  0.768305  0.166349   \n",
       "3  0.016549  0.003615  0.021170  0.000387  0.004302  0.198011  0.462284   \n",
       "4  0.000943  0.000447  0.002340  0.000131  0.001222  0.090745  0.779530   \n",
       "\n",
       "         27        28        29        30 pred  \n",
       "0  0.217111  0.229911  0.004436  0.020290   26  \n",
       "1  0.007087  0.002389  0.001860  0.001643   25  \n",
       "2  0.031871  0.000635  0.001030  0.016101   25  \n",
       "3  0.098274  0.045979  0.025684  0.010957   26  \n",
       "4  0.060535  0.001804  0.008526  0.014597   26  "
      ]
     },
     "execution_count": 217,
     "metadata": {},
     "output_type": "execute_result"
    }
   ],
   "source": [
    "df_fashion_test.head()"
   ]
  },
  {
   "cell_type": "code",
   "execution_count": 221,
   "metadata": {},
   "outputs": [],
   "source": [
    "# Remove test/ from path\n",
    "df_fashion_test['image_path']=df_fashion_test['image_path'].map(lambda x: x[5:])\n",
    "df_beauty_test['image_path']=df_beauty_test['image_path'].map(lambda x: x[5:])\n",
    "df_mobile_test['image_path']=df_mobile_test['image_path'].map(lambda x: x[5:])"
   ]
  },
  {
   "cell_type": "code",
   "execution_count": 223,
   "metadata": {},
   "outputs": [],
   "source": [
    "df_beauty_test.to_csv('test_beauty.csv',index=False)\n",
    "df_mobile_test.to_csv('test_mobile.csv',index=False)\n",
    "df_fashion_test.to_csv('test_fashion.csv',index=False)"
   ]
  },
  {
   "cell_type": "code",
   "execution_count": 229,
   "metadata": {},
   "outputs": [],
   "source": [
    "# Let's do our first submission with images only. Let's remove folders from path\n",
    "df_test.loc[(df_test.Group=='beauty_'),'image_path']=df_test.loc[(df_test.Group=='beauty_'),'image_path'].map(lambda x:x[13:])"
   ]
  },
  {
   "cell_type": "code",
   "execution_count": 232,
   "metadata": {},
   "outputs": [],
   "source": [
    "df_test.loc[(df_test.Group=='mobile_'),'image_path']=df_test.loc[(df_test.Group=='mobile_'),'image_path'].map(lambda x:x[13:])"
   ]
  },
  {
   "cell_type": "code",
   "execution_count": 235,
   "metadata": {},
   "outputs": [],
   "source": [
    "df_test.loc[(df_test.Group=='fashion'),'image_path']=df_test.loc[(df_test.Group=='fashion'),'image_path'].map(lambda x:x[14:])"
   ]
  },
  {
   "cell_type": "code",
   "execution_count": 244,
   "metadata": {},
   "outputs": [],
   "source": [
    "df=pd.concat([df_beauty_test,df_fashion_test,df_mobile_test],axis=0)\n",
    "df=df[['image_path','pred']]"
   ]
  },
  {
   "cell_type": "code",
   "execution_count": 245,
   "metadata": {},
   "outputs": [
    {
     "data": {
      "text/html": [
       "<div>\n",
       "<style scoped>\n",
       "    .dataframe tbody tr th:only-of-type {\n",
       "        vertical-align: middle;\n",
       "    }\n",
       "\n",
       "    .dataframe tbody tr th {\n",
       "        vertical-align: top;\n",
       "    }\n",
       "\n",
       "    .dataframe thead th {\n",
       "        text-align: right;\n",
       "    }\n",
       "</style>\n",
       "<table border=\"1\" class=\"dataframe\">\n",
       "  <thead>\n",
       "    <tr style=\"text-align: right;\">\n",
       "      <th></th>\n",
       "      <th>image_path</th>\n",
       "      <th>pred</th>\n",
       "    </tr>\n",
       "  </thead>\n",
       "  <tbody>\n",
       "    <tr>\n",
       "      <th>0</th>\n",
       "      <td>0000152e7d1cf21228cdd0e2e195aff8.jpg</td>\n",
       "      <td>12</td>\n",
       "    </tr>\n",
       "    <tr>\n",
       "      <th>1</th>\n",
       "      <td>00005d4b09cb3033698d9f1b98a9c04b.jpg</td>\n",
       "      <td>12</td>\n",
       "    </tr>\n",
       "    <tr>\n",
       "      <th>2</th>\n",
       "      <td>000136e7af78ea0dc0c4596c5b62b750.jpg</td>\n",
       "      <td>12</td>\n",
       "    </tr>\n",
       "    <tr>\n",
       "      <th>3</th>\n",
       "      <td>0001f92fdbbe7f630cf15ebb5b1c9b7d.jpg</td>\n",
       "      <td>12</td>\n",
       "    </tr>\n",
       "    <tr>\n",
       "      <th>4</th>\n",
       "      <td>0002021f41e1493e8cc7054fb30e048c.jpg</td>\n",
       "      <td>13</td>\n",
       "    </tr>\n",
       "  </tbody>\n",
       "</table>\n",
       "</div>"
      ],
      "text/plain": [
       "                             image_path pred\n",
       "0  0000152e7d1cf21228cdd0e2e195aff8.jpg   12\n",
       "1  00005d4b09cb3033698d9f1b98a9c04b.jpg   12\n",
       "2  000136e7af78ea0dc0c4596c5b62b750.jpg   12\n",
       "3  0001f92fdbbe7f630cf15ebb5b1c9b7d.jpg   12\n",
       "4  0002021f41e1493e8cc7054fb30e048c.jpg   13"
      ]
     },
     "execution_count": 245,
     "metadata": {},
     "output_type": "execute_result"
    }
   ],
   "source": [
    "df.head()"
   ]
  },
  {
   "cell_type": "code",
   "execution_count": 249,
   "metadata": {},
   "outputs": [],
   "source": [
    "df_sub=df_test.merge(df,on='image_path')[['itemid','pred']]"
   ]
  },
  {
   "cell_type": "code",
   "execution_count": 254,
   "metadata": {},
   "outputs": [],
   "source": [
    "df_sub.columns=['itemid','Category']"
   ]
  },
  {
   "cell_type": "code",
   "execution_count": 255,
   "metadata": {},
   "outputs": [],
   "source": [
    "#LB: 0.59715\n",
    "df_sub.to_csv('image_classification_1.csv',index=False)"
   ]
  },
  {
   "cell_type": "markdown",
   "metadata": {},
   "source": [
    "## Epoch 29 seems to be best. Best accuracy is 0.56"
   ]
  },
  {
   "cell_type": "code",
   "execution_count": 51,
   "metadata": {},
   "outputs": [],
   "source": [
    "learn.load('model_mobile_29epoch')"
   ]
  },
  {
   "cell_type": "code",
   "execution_count": 52,
   "metadata": {},
   "outputs": [],
   "source": [
    "predictions=learn.predict()"
   ]
  },
  {
   "cell_type": "code",
   "execution_count": 53,
   "metadata": {
    "scrolled": true
   },
   "outputs": [
    {
     "data": {
      "text/plain": [
       "(32066, 27)"
      ]
     },
     "execution_count": 53,
     "metadata": {},
     "output_type": "execute_result"
    }
   ],
   "source": [
    "predictions.shape"
   ]
  },
  {
   "cell_type": "code",
   "execution_count": 54,
   "metadata": {},
   "outputs": [],
   "source": [
    "df_val=pd.DataFrame()\n",
    "df_val['image_path']=data.val_ds.fnames\n",
    "df_val['Category']=data.val_ds.y"
   ]
  },
  {
   "cell_type": "code",
   "execution_count": 55,
   "metadata": {},
   "outputs": [],
   "source": [
    "df_pred=pd.DataFrame(predictions)"
   ]
  },
  {
   "cell_type": "code",
   "execution_count": 56,
   "metadata": {
    "scrolled": true
   },
   "outputs": [],
   "source": [
    "preds = np.argmax(predictions, axis=1)"
   ]
  },
  {
   "cell_type": "code",
   "execution_count": 57,
   "metadata": {},
   "outputs": [
    {
     "data": {
      "text/plain": [
       "['31',\n",
       " '32',\n",
       " '33',\n",
       " '34',\n",
       " '35',\n",
       " '36',\n",
       " '37',\n",
       " '38',\n",
       " '39',\n",
       " '40',\n",
       " '41',\n",
       " '42',\n",
       " '43',\n",
       " '44',\n",
       " '45',\n",
       " '46',\n",
       " '47',\n",
       " '48',\n",
       " '49',\n",
       " '50',\n",
       " '51',\n",
       " '52',\n",
       " '53',\n",
       " '54',\n",
       " '55',\n",
       " '56',\n",
       " '57']"
      ]
     },
     "execution_count": 57,
     "metadata": {},
     "output_type": "execute_result"
    }
   ],
   "source": [
    "# Categories are arranged in different way. Basically, each category is string. It doesn't take it as integer\n",
    "data.classes"
   ]
  },
  {
   "cell_type": "code",
   "execution_count": 58,
   "metadata": {},
   "outputs": [],
   "source": [
    "classes=data.classes"
   ]
  },
  {
   "cell_type": "code",
   "execution_count": 59,
   "metadata": {},
   "outputs": [],
   "source": [
    "classes_map=pd.Series(classes)"
   ]
  },
  {
   "cell_type": "code",
   "execution_count": 60,
   "metadata": {},
   "outputs": [
    {
     "data": {
      "text/plain": [
       "33"
      ]
     },
     "execution_count": 60,
     "metadata": {},
     "output_type": "execute_result"
    }
   ],
   "source": [
    "int(classes_map[2])"
   ]
  },
  {
   "cell_type": "code",
   "execution_count": 61,
   "metadata": {},
   "outputs": [],
   "source": [
    "df_val['predictions']=preds"
   ]
  },
  {
   "cell_type": "code",
   "execution_count": 62,
   "metadata": {},
   "outputs": [],
   "source": [
    "df_val['correct_pred']=(df_val['Category']==df_val.predictions)\n"
   ]
  },
  {
   "cell_type": "code",
   "execution_count": 63,
   "metadata": {},
   "outputs": [
    {
     "data": {
      "text/plain": [
       "0.5603754755816129"
      ]
     },
     "execution_count": 63,
     "metadata": {},
     "output_type": "execute_result"
    }
   ],
   "source": [
    "# Best score\n",
    "df_val.correct_pred.sum()/df_val.shape[0]"
   ]
  },
  {
   "cell_type": "code",
   "execution_count": 64,
   "metadata": {},
   "outputs": [],
   "source": [
    "df_pred=df_pred.applymap(lambda x: np.exp(x))"
   ]
  },
  {
   "cell_type": "code",
   "execution_count": 65,
   "metadata": {
    "scrolled": true
   },
   "outputs": [
    {
     "data": {
      "text/html": [
       "<div>\n",
       "<style scoped>\n",
       "    .dataframe tbody tr th:only-of-type {\n",
       "        vertical-align: middle;\n",
       "    }\n",
       "\n",
       "    .dataframe tbody tr th {\n",
       "        vertical-align: top;\n",
       "    }\n",
       "\n",
       "    .dataframe thead th {\n",
       "        text-align: right;\n",
       "    }\n",
       "</style>\n",
       "<table border=\"1\" class=\"dataframe\">\n",
       "  <thead>\n",
       "    <tr style=\"text-align: right;\">\n",
       "      <th></th>\n",
       "      <th>0</th>\n",
       "      <th>1</th>\n",
       "      <th>2</th>\n",
       "      <th>3</th>\n",
       "      <th>4</th>\n",
       "      <th>5</th>\n",
       "      <th>6</th>\n",
       "      <th>7</th>\n",
       "      <th>8</th>\n",
       "      <th>9</th>\n",
       "      <th>...</th>\n",
       "      <th>17</th>\n",
       "      <th>18</th>\n",
       "      <th>19</th>\n",
       "      <th>20</th>\n",
       "      <th>21</th>\n",
       "      <th>22</th>\n",
       "      <th>23</th>\n",
       "      <th>24</th>\n",
       "      <th>25</th>\n",
       "      <th>26</th>\n",
       "    </tr>\n",
       "  </thead>\n",
       "  <tbody>\n",
       "    <tr>\n",
       "      <th>0</th>\n",
       "      <td>0.788047</td>\n",
       "      <td>0.043682</td>\n",
       "      <td>0.002215</td>\n",
       "      <td>0.047162</td>\n",
       "      <td>0.059847</td>\n",
       "      <td>0.000108</td>\n",
       "      <td>0.000515</td>\n",
       "      <td>0.001323</td>\n",
       "      <td>0.000221</td>\n",
       "      <td>0.000056</td>\n",
       "      <td>...</td>\n",
       "      <td>0.000208</td>\n",
       "      <td>0.000589</td>\n",
       "      <td>0.000054</td>\n",
       "      <td>0.000090</td>\n",
       "      <td>0.000039</td>\n",
       "      <td>0.000030</td>\n",
       "      <td>0.000273</td>\n",
       "      <td>0.000042</td>\n",
       "      <td>0.000110</td>\n",
       "      <td>0.000015</td>\n",
       "    </tr>\n",
       "    <tr>\n",
       "      <th>1</th>\n",
       "      <td>0.092605</td>\n",
       "      <td>0.336256</td>\n",
       "      <td>0.002694</td>\n",
       "      <td>0.026022</td>\n",
       "      <td>0.394334</td>\n",
       "      <td>0.001832</td>\n",
       "      <td>0.069650</td>\n",
       "      <td>0.002063</td>\n",
       "      <td>0.000787</td>\n",
       "      <td>0.000402</td>\n",
       "      <td>...</td>\n",
       "      <td>0.000657</td>\n",
       "      <td>0.002389</td>\n",
       "      <td>0.000084</td>\n",
       "      <td>0.000076</td>\n",
       "      <td>0.000113</td>\n",
       "      <td>0.000166</td>\n",
       "      <td>0.000237</td>\n",
       "      <td>0.000148</td>\n",
       "      <td>0.000300</td>\n",
       "      <td>0.000132</td>\n",
       "    </tr>\n",
       "    <tr>\n",
       "      <th>2</th>\n",
       "      <td>0.030221</td>\n",
       "      <td>0.220402</td>\n",
       "      <td>0.001502</td>\n",
       "      <td>0.030978</td>\n",
       "      <td>0.280422</td>\n",
       "      <td>0.000401</td>\n",
       "      <td>0.013395</td>\n",
       "      <td>0.051339</td>\n",
       "      <td>0.075621</td>\n",
       "      <td>0.001647</td>\n",
       "      <td>...</td>\n",
       "      <td>0.002602</td>\n",
       "      <td>0.001201</td>\n",
       "      <td>0.008853</td>\n",
       "      <td>0.002936</td>\n",
       "      <td>0.016720</td>\n",
       "      <td>0.002068</td>\n",
       "      <td>0.004735</td>\n",
       "      <td>0.004536</td>\n",
       "      <td>0.032348</td>\n",
       "      <td>0.002144</td>\n",
       "    </tr>\n",
       "    <tr>\n",
       "      <th>3</th>\n",
       "      <td>0.547758</td>\n",
       "      <td>0.017527</td>\n",
       "      <td>0.009647</td>\n",
       "      <td>0.049638</td>\n",
       "      <td>0.286001</td>\n",
       "      <td>0.000270</td>\n",
       "      <td>0.001279</td>\n",
       "      <td>0.008680</td>\n",
       "      <td>0.008224</td>\n",
       "      <td>0.000347</td>\n",
       "      <td>...</td>\n",
       "      <td>0.001098</td>\n",
       "      <td>0.001360</td>\n",
       "      <td>0.006564</td>\n",
       "      <td>0.000176</td>\n",
       "      <td>0.002273</td>\n",
       "      <td>0.001418</td>\n",
       "      <td>0.000048</td>\n",
       "      <td>0.000303</td>\n",
       "      <td>0.002705</td>\n",
       "      <td>0.000863</td>\n",
       "    </tr>\n",
       "    <tr>\n",
       "      <th>4</th>\n",
       "      <td>0.101322</td>\n",
       "      <td>0.231217</td>\n",
       "      <td>0.030082</td>\n",
       "      <td>0.165484</td>\n",
       "      <td>0.133997</td>\n",
       "      <td>0.006213</td>\n",
       "      <td>0.026653</td>\n",
       "      <td>0.034990</td>\n",
       "      <td>0.003005</td>\n",
       "      <td>0.001546</td>\n",
       "      <td>...</td>\n",
       "      <td>0.007536</td>\n",
       "      <td>0.004429</td>\n",
       "      <td>0.003740</td>\n",
       "      <td>0.001015</td>\n",
       "      <td>0.000828</td>\n",
       "      <td>0.005938</td>\n",
       "      <td>0.002088</td>\n",
       "      <td>0.001465</td>\n",
       "      <td>0.001483</td>\n",
       "      <td>0.000745</td>\n",
       "    </tr>\n",
       "  </tbody>\n",
       "</table>\n",
       "<p>5 rows × 27 columns</p>\n",
       "</div>"
      ],
      "text/plain": [
       "         0         1         2         3         4         5         6   \\\n",
       "0  0.788047  0.043682  0.002215  0.047162  0.059847  0.000108  0.000515   \n",
       "1  0.092605  0.336256  0.002694  0.026022  0.394334  0.001832  0.069650   \n",
       "2  0.030221  0.220402  0.001502  0.030978  0.280422  0.000401  0.013395   \n",
       "3  0.547758  0.017527  0.009647  0.049638  0.286001  0.000270  0.001279   \n",
       "4  0.101322  0.231217  0.030082  0.165484  0.133997  0.006213  0.026653   \n",
       "\n",
       "         7         8         9     ...           17        18        19  \\\n",
       "0  0.001323  0.000221  0.000056    ...     0.000208  0.000589  0.000054   \n",
       "1  0.002063  0.000787  0.000402    ...     0.000657  0.002389  0.000084   \n",
       "2  0.051339  0.075621  0.001647    ...     0.002602  0.001201  0.008853   \n",
       "3  0.008680  0.008224  0.000347    ...     0.001098  0.001360  0.006564   \n",
       "4  0.034990  0.003005  0.001546    ...     0.007536  0.004429  0.003740   \n",
       "\n",
       "         20        21        22        23        24        25        26  \n",
       "0  0.000090  0.000039  0.000030  0.000273  0.000042  0.000110  0.000015  \n",
       "1  0.000076  0.000113  0.000166  0.000237  0.000148  0.000300  0.000132  \n",
       "2  0.002936  0.016720  0.002068  0.004735  0.004536  0.032348  0.002144  \n",
       "3  0.000176  0.002273  0.001418  0.000048  0.000303  0.002705  0.000863  \n",
       "4  0.001015  0.000828  0.005938  0.002088  0.001465  0.001483  0.000745  \n",
       "\n",
       "[5 rows x 27 columns]"
      ]
     },
     "execution_count": 65,
     "metadata": {},
     "output_type": "execute_result"
    }
   ],
   "source": [
    "df_pred.head()"
   ]
  },
  {
   "cell_type": "code",
   "execution_count": 67,
   "metadata": {},
   "outputs": [
    {
     "data": {
      "text/html": [
       "<div>\n",
       "<style scoped>\n",
       "    .dataframe tbody tr th:only-of-type {\n",
       "        vertical-align: middle;\n",
       "    }\n",
       "\n",
       "    .dataframe tbody tr th {\n",
       "        vertical-align: top;\n",
       "    }\n",
       "\n",
       "    .dataframe thead th {\n",
       "        text-align: right;\n",
       "    }\n",
       "</style>\n",
       "<table border=\"1\" class=\"dataframe\">\n",
       "  <thead>\n",
       "    <tr style=\"text-align: right;\">\n",
       "      <th></th>\n",
       "      <th>image_path</th>\n",
       "      <th>Category</th>\n",
       "      <th>predictions</th>\n",
       "      <th>correct_pred</th>\n",
       "    </tr>\n",
       "  </thead>\n",
       "  <tbody>\n",
       "    <tr>\n",
       "      <th>0</th>\n",
       "      <td>mobile_image\\00018defe03935e545929201b8eec50a.jpg</td>\n",
       "      <td>0</td>\n",
       "      <td>0</td>\n",
       "      <td>True</td>\n",
       "    </tr>\n",
       "    <tr>\n",
       "      <th>1</th>\n",
       "      <td>mobile_image\\000477490f1e24c1aa9933b88fad14f4.jpg</td>\n",
       "      <td>4</td>\n",
       "      <td>4</td>\n",
       "      <td>True</td>\n",
       "    </tr>\n",
       "    <tr>\n",
       "      <th>2</th>\n",
       "      <td>mobile_image\\000b69881397f6493b00a11b24da817b.jpg</td>\n",
       "      <td>7</td>\n",
       "      <td>4</td>\n",
       "      <td>False</td>\n",
       "    </tr>\n",
       "    <tr>\n",
       "      <th>3</th>\n",
       "      <td>mobile_image\\000cb37a5ce0a5a10c5d5494b5a2307f.jpg</td>\n",
       "      <td>4</td>\n",
       "      <td>0</td>\n",
       "      <td>False</td>\n",
       "    </tr>\n",
       "    <tr>\n",
       "      <th>4</th>\n",
       "      <td>mobile_image\\00136941e3699f4b288e7051e23383f8.jpg</td>\n",
       "      <td>3</td>\n",
       "      <td>1</td>\n",
       "      <td>False</td>\n",
       "    </tr>\n",
       "  </tbody>\n",
       "</table>\n",
       "</div>"
      ],
      "text/plain": [
       "                                          image_path  Category  predictions  \\\n",
       "0  mobile_image\\00018defe03935e545929201b8eec50a.jpg         0            0   \n",
       "1  mobile_image\\000477490f1e24c1aa9933b88fad14f4.jpg         4            4   \n",
       "2  mobile_image\\000b69881397f6493b00a11b24da817b.jpg         7            4   \n",
       "3  mobile_image\\000cb37a5ce0a5a10c5d5494b5a2307f.jpg         4            0   \n",
       "4  mobile_image\\00136941e3699f4b288e7051e23383f8.jpg         3            1   \n",
       "\n",
       "   correct_pred  \n",
       "0          True  \n",
       "1          True  \n",
       "2         False  \n",
       "3         False  \n",
       "4         False  "
      ]
     },
     "execution_count": 67,
     "metadata": {},
     "output_type": "execute_result"
    }
   ],
   "source": [
    "df_val.head()"
   ]
  },
  {
   "cell_type": "code",
   "execution_count": 69,
   "metadata": {},
   "outputs": [],
   "source": [
    "df_val['Category_real']=df_val.Category.map(lambda x: int(classes_map[x]) )"
   ]
  },
  {
   "cell_type": "code",
   "execution_count": 70,
   "metadata": {},
   "outputs": [],
   "source": [
    "df_val['predictions_real']=df_val.predictions.map(lambda x: int(classes_map[x]) )"
   ]
  },
  {
   "cell_type": "code",
   "execution_count": 71,
   "metadata": {
    "scrolled": true
   },
   "outputs": [
    {
     "data": {
      "text/html": [
       "<div>\n",
       "<style scoped>\n",
       "    .dataframe tbody tr th:only-of-type {\n",
       "        vertical-align: middle;\n",
       "    }\n",
       "\n",
       "    .dataframe tbody tr th {\n",
       "        vertical-align: top;\n",
       "    }\n",
       "\n",
       "    .dataframe thead th {\n",
       "        text-align: right;\n",
       "    }\n",
       "</style>\n",
       "<table border=\"1\" class=\"dataframe\">\n",
       "  <thead>\n",
       "    <tr style=\"text-align: right;\">\n",
       "      <th></th>\n",
       "      <th>image_path</th>\n",
       "      <th>Category</th>\n",
       "      <th>predictions</th>\n",
       "      <th>correct_pred</th>\n",
       "      <th>Category_real</th>\n",
       "      <th>predictions_real</th>\n",
       "    </tr>\n",
       "  </thead>\n",
       "  <tbody>\n",
       "    <tr>\n",
       "      <th>0</th>\n",
       "      <td>mobile_image\\00018defe03935e545929201b8eec50a.jpg</td>\n",
       "      <td>0</td>\n",
       "      <td>0</td>\n",
       "      <td>True</td>\n",
       "      <td>31</td>\n",
       "      <td>31</td>\n",
       "    </tr>\n",
       "    <tr>\n",
       "      <th>1</th>\n",
       "      <td>mobile_image\\000477490f1e24c1aa9933b88fad14f4.jpg</td>\n",
       "      <td>4</td>\n",
       "      <td>4</td>\n",
       "      <td>True</td>\n",
       "      <td>35</td>\n",
       "      <td>35</td>\n",
       "    </tr>\n",
       "    <tr>\n",
       "      <th>2</th>\n",
       "      <td>mobile_image\\000b69881397f6493b00a11b24da817b.jpg</td>\n",
       "      <td>7</td>\n",
       "      <td>4</td>\n",
       "      <td>False</td>\n",
       "      <td>38</td>\n",
       "      <td>35</td>\n",
       "    </tr>\n",
       "    <tr>\n",
       "      <th>3</th>\n",
       "      <td>mobile_image\\000cb37a5ce0a5a10c5d5494b5a2307f.jpg</td>\n",
       "      <td>4</td>\n",
       "      <td>0</td>\n",
       "      <td>False</td>\n",
       "      <td>35</td>\n",
       "      <td>31</td>\n",
       "    </tr>\n",
       "    <tr>\n",
       "      <th>4</th>\n",
       "      <td>mobile_image\\00136941e3699f4b288e7051e23383f8.jpg</td>\n",
       "      <td>3</td>\n",
       "      <td>1</td>\n",
       "      <td>False</td>\n",
       "      <td>34</td>\n",
       "      <td>32</td>\n",
       "    </tr>\n",
       "  </tbody>\n",
       "</table>\n",
       "</div>"
      ],
      "text/plain": [
       "                                          image_path  Category  predictions  \\\n",
       "0  mobile_image\\00018defe03935e545929201b8eec50a.jpg         0            0   \n",
       "1  mobile_image\\000477490f1e24c1aa9933b88fad14f4.jpg         4            4   \n",
       "2  mobile_image\\000b69881397f6493b00a11b24da817b.jpg         7            4   \n",
       "3  mobile_image\\000cb37a5ce0a5a10c5d5494b5a2307f.jpg         4            0   \n",
       "4  mobile_image\\00136941e3699f4b288e7051e23383f8.jpg         3            1   \n",
       "\n",
       "   correct_pred  Category_real  predictions_real  \n",
       "0          True             31                31  \n",
       "1          True             35                35  \n",
       "2         False             38                35  \n",
       "3         False             35                31  \n",
       "4         False             34                32  "
      ]
     },
     "execution_count": 71,
     "metadata": {},
     "output_type": "execute_result"
    }
   ],
   "source": [
    "df_val.head()"
   ]
  },
  {
   "cell_type": "code",
   "execution_count": 73,
   "metadata": {},
   "outputs": [],
   "source": [
    "df_pred.columns=[int(classes_map[i]) for i in range(len(df_pred.columns))]"
   ]
  },
  {
   "cell_type": "code",
   "execution_count": 74,
   "metadata": {
    "scrolled": true
   },
   "outputs": [],
   "source": [
    "df_pred_real=df_pred[[ i for i in range(31,58)]]"
   ]
  },
  {
   "cell_type": "code",
   "execution_count": 78,
   "metadata": {},
   "outputs": [
    {
     "data": {
      "text/html": [
       "<div>\n",
       "<style scoped>\n",
       "    .dataframe tbody tr th:only-of-type {\n",
       "        vertical-align: middle;\n",
       "    }\n",
       "\n",
       "    .dataframe tbody tr th {\n",
       "        vertical-align: top;\n",
       "    }\n",
       "\n",
       "    .dataframe thead th {\n",
       "        text-align: right;\n",
       "    }\n",
       "</style>\n",
       "<table border=\"1\" class=\"dataframe\">\n",
       "  <thead>\n",
       "    <tr style=\"text-align: right;\">\n",
       "      <th></th>\n",
       "      <th>31</th>\n",
       "      <th>32</th>\n",
       "      <th>33</th>\n",
       "      <th>34</th>\n",
       "      <th>35</th>\n",
       "      <th>36</th>\n",
       "      <th>37</th>\n",
       "      <th>38</th>\n",
       "      <th>39</th>\n",
       "      <th>40</th>\n",
       "      <th>...</th>\n",
       "      <th>48</th>\n",
       "      <th>49</th>\n",
       "      <th>50</th>\n",
       "      <th>51</th>\n",
       "      <th>52</th>\n",
       "      <th>53</th>\n",
       "      <th>54</th>\n",
       "      <th>55</th>\n",
       "      <th>56</th>\n",
       "      <th>57</th>\n",
       "    </tr>\n",
       "  </thead>\n",
       "  <tbody>\n",
       "    <tr>\n",
       "      <th>0</th>\n",
       "      <td>0.788047</td>\n",
       "      <td>0.043682</td>\n",
       "      <td>0.002215</td>\n",
       "      <td>0.047162</td>\n",
       "      <td>0.059847</td>\n",
       "      <td>0.000108</td>\n",
       "      <td>0.000515</td>\n",
       "      <td>0.001323</td>\n",
       "      <td>0.000221</td>\n",
       "      <td>0.000056</td>\n",
       "      <td>...</td>\n",
       "      <td>0.000208</td>\n",
       "      <td>0.000589</td>\n",
       "      <td>0.000054</td>\n",
       "      <td>0.000090</td>\n",
       "      <td>0.000039</td>\n",
       "      <td>0.000030</td>\n",
       "      <td>0.000273</td>\n",
       "      <td>0.000042</td>\n",
       "      <td>0.000110</td>\n",
       "      <td>0.000015</td>\n",
       "    </tr>\n",
       "    <tr>\n",
       "      <th>1</th>\n",
       "      <td>0.092605</td>\n",
       "      <td>0.336256</td>\n",
       "      <td>0.002694</td>\n",
       "      <td>0.026022</td>\n",
       "      <td>0.394334</td>\n",
       "      <td>0.001832</td>\n",
       "      <td>0.069650</td>\n",
       "      <td>0.002063</td>\n",
       "      <td>0.000787</td>\n",
       "      <td>0.000402</td>\n",
       "      <td>...</td>\n",
       "      <td>0.000657</td>\n",
       "      <td>0.002389</td>\n",
       "      <td>0.000084</td>\n",
       "      <td>0.000076</td>\n",
       "      <td>0.000113</td>\n",
       "      <td>0.000166</td>\n",
       "      <td>0.000237</td>\n",
       "      <td>0.000148</td>\n",
       "      <td>0.000300</td>\n",
       "      <td>0.000132</td>\n",
       "    </tr>\n",
       "    <tr>\n",
       "      <th>2</th>\n",
       "      <td>0.030221</td>\n",
       "      <td>0.220402</td>\n",
       "      <td>0.001502</td>\n",
       "      <td>0.030978</td>\n",
       "      <td>0.280422</td>\n",
       "      <td>0.000401</td>\n",
       "      <td>0.013395</td>\n",
       "      <td>0.051339</td>\n",
       "      <td>0.075621</td>\n",
       "      <td>0.001647</td>\n",
       "      <td>...</td>\n",
       "      <td>0.002602</td>\n",
       "      <td>0.001201</td>\n",
       "      <td>0.008853</td>\n",
       "      <td>0.002936</td>\n",
       "      <td>0.016720</td>\n",
       "      <td>0.002068</td>\n",
       "      <td>0.004735</td>\n",
       "      <td>0.004536</td>\n",
       "      <td>0.032348</td>\n",
       "      <td>0.002144</td>\n",
       "    </tr>\n",
       "    <tr>\n",
       "      <th>3</th>\n",
       "      <td>0.547758</td>\n",
       "      <td>0.017527</td>\n",
       "      <td>0.009647</td>\n",
       "      <td>0.049638</td>\n",
       "      <td>0.286001</td>\n",
       "      <td>0.000270</td>\n",
       "      <td>0.001279</td>\n",
       "      <td>0.008680</td>\n",
       "      <td>0.008224</td>\n",
       "      <td>0.000347</td>\n",
       "      <td>...</td>\n",
       "      <td>0.001098</td>\n",
       "      <td>0.001360</td>\n",
       "      <td>0.006564</td>\n",
       "      <td>0.000176</td>\n",
       "      <td>0.002273</td>\n",
       "      <td>0.001418</td>\n",
       "      <td>0.000048</td>\n",
       "      <td>0.000303</td>\n",
       "      <td>0.002705</td>\n",
       "      <td>0.000863</td>\n",
       "    </tr>\n",
       "    <tr>\n",
       "      <th>4</th>\n",
       "      <td>0.101322</td>\n",
       "      <td>0.231217</td>\n",
       "      <td>0.030082</td>\n",
       "      <td>0.165484</td>\n",
       "      <td>0.133997</td>\n",
       "      <td>0.006213</td>\n",
       "      <td>0.026653</td>\n",
       "      <td>0.034990</td>\n",
       "      <td>0.003005</td>\n",
       "      <td>0.001546</td>\n",
       "      <td>...</td>\n",
       "      <td>0.007536</td>\n",
       "      <td>0.004429</td>\n",
       "      <td>0.003740</td>\n",
       "      <td>0.001015</td>\n",
       "      <td>0.000828</td>\n",
       "      <td>0.005938</td>\n",
       "      <td>0.002088</td>\n",
       "      <td>0.001465</td>\n",
       "      <td>0.001483</td>\n",
       "      <td>0.000745</td>\n",
       "    </tr>\n",
       "  </tbody>\n",
       "</table>\n",
       "<p>5 rows × 27 columns</p>\n",
       "</div>"
      ],
      "text/plain": [
       "         31        32        33        34        35        36        37  \\\n",
       "0  0.788047  0.043682  0.002215  0.047162  0.059847  0.000108  0.000515   \n",
       "1  0.092605  0.336256  0.002694  0.026022  0.394334  0.001832  0.069650   \n",
       "2  0.030221  0.220402  0.001502  0.030978  0.280422  0.000401  0.013395   \n",
       "3  0.547758  0.017527  0.009647  0.049638  0.286001  0.000270  0.001279   \n",
       "4  0.101322  0.231217  0.030082  0.165484  0.133997  0.006213  0.026653   \n",
       "\n",
       "         38        39        40    ...           48        49        50  \\\n",
       "0  0.001323  0.000221  0.000056    ...     0.000208  0.000589  0.000054   \n",
       "1  0.002063  0.000787  0.000402    ...     0.000657  0.002389  0.000084   \n",
       "2  0.051339  0.075621  0.001647    ...     0.002602  0.001201  0.008853   \n",
       "3  0.008680  0.008224  0.000347    ...     0.001098  0.001360  0.006564   \n",
       "4  0.034990  0.003005  0.001546    ...     0.007536  0.004429  0.003740   \n",
       "\n",
       "         51        52        53        54        55        56        57  \n",
       "0  0.000090  0.000039  0.000030  0.000273  0.000042  0.000110  0.000015  \n",
       "1  0.000076  0.000113  0.000166  0.000237  0.000148  0.000300  0.000132  \n",
       "2  0.002936  0.016720  0.002068  0.004735  0.004536  0.032348  0.002144  \n",
       "3  0.000176  0.002273  0.001418  0.000048  0.000303  0.002705  0.000863  \n",
       "4  0.001015  0.000828  0.005938  0.002088  0.001465  0.001483  0.000745  \n",
       "\n",
       "[5 rows x 27 columns]"
      ]
     },
     "execution_count": 78,
     "metadata": {},
     "output_type": "execute_result"
    }
   ],
   "source": [
    "df_pred_real.head()"
   ]
  },
  {
   "cell_type": "code",
   "execution_count": 79,
   "metadata": {},
   "outputs": [],
   "source": [
    "df_val_final_real=pd.concat([df_val[['image_path','Category_real','predictions_real']],df_pred_real],axis=1)"
   ]
  },
  {
   "cell_type": "code",
   "execution_count": 80,
   "metadata": {},
   "outputs": [
    {
     "data": {
      "text/html": [
       "<div>\n",
       "<style scoped>\n",
       "    .dataframe tbody tr th:only-of-type {\n",
       "        vertical-align: middle;\n",
       "    }\n",
       "\n",
       "    .dataframe tbody tr th {\n",
       "        vertical-align: top;\n",
       "    }\n",
       "\n",
       "    .dataframe thead th {\n",
       "        text-align: right;\n",
       "    }\n",
       "</style>\n",
       "<table border=\"1\" class=\"dataframe\">\n",
       "  <thead>\n",
       "    <tr style=\"text-align: right;\">\n",
       "      <th></th>\n",
       "      <th>image_path</th>\n",
       "      <th>Category_real</th>\n",
       "      <th>predictions_real</th>\n",
       "      <th>31</th>\n",
       "      <th>32</th>\n",
       "      <th>33</th>\n",
       "      <th>34</th>\n",
       "      <th>35</th>\n",
       "      <th>36</th>\n",
       "      <th>37</th>\n",
       "      <th>...</th>\n",
       "      <th>48</th>\n",
       "      <th>49</th>\n",
       "      <th>50</th>\n",
       "      <th>51</th>\n",
       "      <th>52</th>\n",
       "      <th>53</th>\n",
       "      <th>54</th>\n",
       "      <th>55</th>\n",
       "      <th>56</th>\n",
       "      <th>57</th>\n",
       "    </tr>\n",
       "  </thead>\n",
       "  <tbody>\n",
       "    <tr>\n",
       "      <th>0</th>\n",
       "      <td>mobile_image\\00018defe03935e545929201b8eec50a.jpg</td>\n",
       "      <td>31</td>\n",
       "      <td>31</td>\n",
       "      <td>0.788047</td>\n",
       "      <td>0.043682</td>\n",
       "      <td>0.002215</td>\n",
       "      <td>0.047162</td>\n",
       "      <td>0.059847</td>\n",
       "      <td>0.000108</td>\n",
       "      <td>0.000515</td>\n",
       "      <td>...</td>\n",
       "      <td>0.000208</td>\n",
       "      <td>0.000589</td>\n",
       "      <td>0.000054</td>\n",
       "      <td>0.000090</td>\n",
       "      <td>0.000039</td>\n",
       "      <td>0.000030</td>\n",
       "      <td>0.000273</td>\n",
       "      <td>0.000042</td>\n",
       "      <td>0.000110</td>\n",
       "      <td>0.000015</td>\n",
       "    </tr>\n",
       "    <tr>\n",
       "      <th>1</th>\n",
       "      <td>mobile_image\\000477490f1e24c1aa9933b88fad14f4.jpg</td>\n",
       "      <td>35</td>\n",
       "      <td>35</td>\n",
       "      <td>0.092605</td>\n",
       "      <td>0.336256</td>\n",
       "      <td>0.002694</td>\n",
       "      <td>0.026022</td>\n",
       "      <td>0.394334</td>\n",
       "      <td>0.001832</td>\n",
       "      <td>0.069650</td>\n",
       "      <td>...</td>\n",
       "      <td>0.000657</td>\n",
       "      <td>0.002389</td>\n",
       "      <td>0.000084</td>\n",
       "      <td>0.000076</td>\n",
       "      <td>0.000113</td>\n",
       "      <td>0.000166</td>\n",
       "      <td>0.000237</td>\n",
       "      <td>0.000148</td>\n",
       "      <td>0.000300</td>\n",
       "      <td>0.000132</td>\n",
       "    </tr>\n",
       "    <tr>\n",
       "      <th>2</th>\n",
       "      <td>mobile_image\\000b69881397f6493b00a11b24da817b.jpg</td>\n",
       "      <td>38</td>\n",
       "      <td>35</td>\n",
       "      <td>0.030221</td>\n",
       "      <td>0.220402</td>\n",
       "      <td>0.001502</td>\n",
       "      <td>0.030978</td>\n",
       "      <td>0.280422</td>\n",
       "      <td>0.000401</td>\n",
       "      <td>0.013395</td>\n",
       "      <td>...</td>\n",
       "      <td>0.002602</td>\n",
       "      <td>0.001201</td>\n",
       "      <td>0.008853</td>\n",
       "      <td>0.002936</td>\n",
       "      <td>0.016720</td>\n",
       "      <td>0.002068</td>\n",
       "      <td>0.004735</td>\n",
       "      <td>0.004536</td>\n",
       "      <td>0.032348</td>\n",
       "      <td>0.002144</td>\n",
       "    </tr>\n",
       "    <tr>\n",
       "      <th>3</th>\n",
       "      <td>mobile_image\\000cb37a5ce0a5a10c5d5494b5a2307f.jpg</td>\n",
       "      <td>35</td>\n",
       "      <td>31</td>\n",
       "      <td>0.547758</td>\n",
       "      <td>0.017527</td>\n",
       "      <td>0.009647</td>\n",
       "      <td>0.049638</td>\n",
       "      <td>0.286001</td>\n",
       "      <td>0.000270</td>\n",
       "      <td>0.001279</td>\n",
       "      <td>...</td>\n",
       "      <td>0.001098</td>\n",
       "      <td>0.001360</td>\n",
       "      <td>0.006564</td>\n",
       "      <td>0.000176</td>\n",
       "      <td>0.002273</td>\n",
       "      <td>0.001418</td>\n",
       "      <td>0.000048</td>\n",
       "      <td>0.000303</td>\n",
       "      <td>0.002705</td>\n",
       "      <td>0.000863</td>\n",
       "    </tr>\n",
       "    <tr>\n",
       "      <th>4</th>\n",
       "      <td>mobile_image\\00136941e3699f4b288e7051e23383f8.jpg</td>\n",
       "      <td>34</td>\n",
       "      <td>32</td>\n",
       "      <td>0.101322</td>\n",
       "      <td>0.231217</td>\n",
       "      <td>0.030082</td>\n",
       "      <td>0.165484</td>\n",
       "      <td>0.133997</td>\n",
       "      <td>0.006213</td>\n",
       "      <td>0.026653</td>\n",
       "      <td>...</td>\n",
       "      <td>0.007536</td>\n",
       "      <td>0.004429</td>\n",
       "      <td>0.003740</td>\n",
       "      <td>0.001015</td>\n",
       "      <td>0.000828</td>\n",
       "      <td>0.005938</td>\n",
       "      <td>0.002088</td>\n",
       "      <td>0.001465</td>\n",
       "      <td>0.001483</td>\n",
       "      <td>0.000745</td>\n",
       "    </tr>\n",
       "  </tbody>\n",
       "</table>\n",
       "<p>5 rows × 30 columns</p>\n",
       "</div>"
      ],
      "text/plain": [
       "                                          image_path  Category_real  \\\n",
       "0  mobile_image\\00018defe03935e545929201b8eec50a.jpg             31   \n",
       "1  mobile_image\\000477490f1e24c1aa9933b88fad14f4.jpg             35   \n",
       "2  mobile_image\\000b69881397f6493b00a11b24da817b.jpg             38   \n",
       "3  mobile_image\\000cb37a5ce0a5a10c5d5494b5a2307f.jpg             35   \n",
       "4  mobile_image\\00136941e3699f4b288e7051e23383f8.jpg             34   \n",
       "\n",
       "   predictions_real        31        32        33        34        35  \\\n",
       "0                31  0.788047  0.043682  0.002215  0.047162  0.059847   \n",
       "1                35  0.092605  0.336256  0.002694  0.026022  0.394334   \n",
       "2                35  0.030221  0.220402  0.001502  0.030978  0.280422   \n",
       "3                31  0.547758  0.017527  0.009647  0.049638  0.286001   \n",
       "4                32  0.101322  0.231217  0.030082  0.165484  0.133997   \n",
       "\n",
       "         36        37    ...           48        49        50        51  \\\n",
       "0  0.000108  0.000515    ...     0.000208  0.000589  0.000054  0.000090   \n",
       "1  0.001832  0.069650    ...     0.000657  0.002389  0.000084  0.000076   \n",
       "2  0.000401  0.013395    ...     0.002602  0.001201  0.008853  0.002936   \n",
       "3  0.000270  0.001279    ...     0.001098  0.001360  0.006564  0.000176   \n",
       "4  0.006213  0.026653    ...     0.007536  0.004429  0.003740  0.001015   \n",
       "\n",
       "         52        53        54        55        56        57  \n",
       "0  0.000039  0.000030  0.000273  0.000042  0.000110  0.000015  \n",
       "1  0.000113  0.000166  0.000237  0.000148  0.000300  0.000132  \n",
       "2  0.016720  0.002068  0.004735  0.004536  0.032348  0.002144  \n",
       "3  0.002273  0.001418  0.000048  0.000303  0.002705  0.000863  \n",
       "4  0.000828  0.005938  0.002088  0.001465  0.001483  0.000745  \n",
       "\n",
       "[5 rows x 30 columns]"
      ]
     },
     "execution_count": 80,
     "metadata": {},
     "output_type": "execute_result"
    }
   ],
   "source": [
    "df_val_final_real.head()"
   ]
  },
  {
   "cell_type": "code",
   "execution_count": 81,
   "metadata": {},
   "outputs": [],
   "source": [
    "# Let's overwrite previous file\n",
    "df_val_final_real.to_csv('C:/Users/user/Documents/Salamat/NDSC_2019/mobile_image/validation_results.csv',index=False)"
   ]
  },
  {
   "cell_type": "code",
   "execution_count": 82,
   "metadata": {
    "scrolled": true
   },
   "outputs": [
    {
     "data": {
      "text/plain": [
       "Category_real\n",
       "31    0.169401\n",
       "32    0.186179\n",
       "33    0.030406\n",
       "34    0.093744\n",
       "35    0.192634\n",
       "36    0.005988\n",
       "37    0.014034\n",
       "38    0.030593\n",
       "39    0.004023\n",
       "40    0.001559\n",
       "41    0.120034\n",
       "42    0.065615\n",
       "43    0.039855\n",
       "44    0.005582\n",
       "45    0.012724\n",
       "46    0.004210\n",
       "47    0.005769\n",
       "48    0.002776\n",
       "49    0.003399\n",
       "50    0.001684\n",
       "51    0.002807\n",
       "52    0.000624\n",
       "53    0.002370\n",
       "54    0.001684\n",
       "55    0.001060\n",
       "56    0.000873\n",
       "57    0.000374\n",
       "Name: image_path, dtype: float64"
      ]
     },
     "execution_count": 82,
     "metadata": {},
     "output_type": "execute_result"
    }
   ],
   "source": [
    "df_val_final_real.groupby('Category_real').image_path.count()/df_val_final_real.groupby('Category_real').image_path.count().sum()"
   ]
  },
  {
   "cell_type": "code",
   "execution_count": 83,
   "metadata": {
    "scrolled": true
   },
   "outputs": [
    {
     "data": {
      "text/plain": [
       "Category\n",
       "31    0.173617\n",
       "32    0.185580\n",
       "33    0.030069\n",
       "34    0.091798\n",
       "35    0.190794\n",
       "36    0.006412\n",
       "37    0.014171\n",
       "38    0.029333\n",
       "39    0.004347\n",
       "40    0.002040\n",
       "41    0.120452\n",
       "42    0.065502\n",
       "43    0.038340\n",
       "44    0.005738\n",
       "45    0.013691\n",
       "46    0.004266\n",
       "47    0.005894\n",
       "48    0.002595\n",
       "49    0.003574\n",
       "50    0.001759\n",
       "51    0.002520\n",
       "52    0.000730\n",
       "53    0.002607\n",
       "54    0.001871\n",
       "55    0.000942\n",
       "56    0.001060\n",
       "57    0.000299\n",
       "Name: image_path, dtype: float64"
      ]
     },
     "execution_count": 83,
     "metadata": {},
     "output_type": "execute_result"
    }
   ],
   "source": [
    "train_mobile.groupby('Category').image_path.count()/train_mobile.groupby('Category').image_path.count().sum()"
   ]
  },
  {
   "cell_type": "markdown",
   "metadata": {},
   "source": [
    "## Finally we have saved validation set for beauty products "
   ]
  },
  {
   "cell_type": "code",
   "execution_count": 84,
   "metadata": {},
   "outputs": [],
   "source": [
    "# let's check confusion matrix\n",
    "from sklearn.metrics import confusion_matrix"
   ]
  },
  {
   "cell_type": "code",
   "execution_count": 85,
   "metadata": {},
   "outputs": [],
   "source": [
    "cm=confusion_matrix(df_val_final_real.Category_real,df_val_final_real.predictions_real)"
   ]
  },
  {
   "cell_type": "code",
   "execution_count": 86,
   "metadata": {},
   "outputs": [
    {
     "data": {
      "text/plain": [
       "'A Line Dress'"
      ]
     },
     "execution_count": 86,
     "metadata": {},
     "output_type": "execute_result"
    }
   ],
   "source": [
    "categories_num.loc[21].values[0]"
   ]
  },
  {
   "cell_type": "code",
   "execution_count": 87,
   "metadata": {},
   "outputs": [],
   "source": [
    "%matplotlib inline"
   ]
  },
  {
   "cell_type": "code",
   "execution_count": 89,
   "metadata": {
    "scrolled": true
   },
   "outputs": [
    {
     "name": "stdout",
     "output_type": "stream",
     "text": [
      "[[4032  470   24   77  491    5    2   17    1    0  245   35   24    2    3    0    0    0    0    0    1\n",
      "     0    1    2    0    0    0]\n",
      " [ 416 4413   37   91  627    2    1   34    1    0  237   68   31    1   10    0    0    0    0    0    0\n",
      "     0    1    0    0    0    0]\n",
      " [  91  173  371   18  247    0    1    8    0    0   42    4   19    1    0    0    0    0    0    0    0\n",
      "     0    0    0    0    0    0]\n",
      " [ 315  423   16 1327  632    2    4   20    2    0  187   39   32    4    1    0    0    0    1    0    0\n",
      "     0    1    0    0    0    0]\n",
      " [ 980 1346   95  423 2061   24   15  164   19    2  580  217  149   10   37    9    0    0    7    4    8\n",
      "     0   22    2    3    0    0]\n",
      " [   6   35    2    2   34  101    0    9    0    0    3    0    0    0    0    0    0    0    0    0    0\n",
      "     0    0    0    0    0    0]\n",
      " [  47   76   10   18  145    0  100    2    0    0   26    2   11    6    3    0    0    0    4    0    0\n",
      "     0    0    0    0    0    0]\n",
      " [  32  105   17    5  131    9    0  637    6    0   23    2    8    3    0    0    0    0    0    3    0\n",
      "     0    0    0    0    0    0]\n",
      " [   1   14    0    0   33    0    0   15   55    0    5    0    1    0    3    1    0    0    0    1    0\n",
      "     0    0    0    0    0    0]\n",
      " [   3   11    2    0   26    0    0    0    0    3    4    0    0    0    1    0    0    0    0    0    0\n",
      "     0    0    0    0    0    0]\n",
      " [ 324  311   15   41  281    1    5   16    1    0 2772   54   13    0    0    0    0    0    0    0   14\n",
      "     0    1    0    0    0    0]\n",
      " [ 114  181    7   34  249    0    2    4    0    0  215 1287    9    0    1    0    0    0    0    0    1\n",
      "     0    0    0    0    0    0]\n",
      " [  99  243   15   27  372    0    4    2    0    0   75   11  425    2    3    0    0    0    0    0    0\n",
      "     0    0    0    0    0    0]\n",
      " [   4   17    2    5   58    0    1    2    0    0   10    2    3   70    4    0    0    0    0    1    0\n",
      "     0    0    0    0    0    0]\n",
      " [  16   56    4    7   91    0    0    4    1    0   43    9    5    5  164    1    0    0    0    2    0\n",
      "     0    0    0    0    0    0]\n",
      " [   8   14    2    1   41    0    0    4    3    0    3    0    1    2    1   53    0    0    0    2    0\n",
      "     0    0    0    0    0    0]\n",
      " [  28   36    5   14   85    0    0    0    0    0    7    6    1    0    0    0    1    0    0    0    0\n",
      "     0    2    0    0    0    0]\n",
      " [  11   21   11    3   30    1    0    1    0    0   10    0    0    0    0    0    0    1    0    0    0\n",
      "     0    0    0    0    0    0]\n",
      " [  19   28    0    0   45    2    0    3    0    0    5    0    2    0    0    0    0    0    4    0    0\n",
      "     0    1    0    0    0    0]\n",
      " [   2    6    0    0   15    0    0   13    0    0    1    0    0    0    0    1    0    0    0   16    0\n",
      "     0    0    0    0    0    0]\n",
      " [   3   16    0    1   23    0    0    0    0    0   14    1    0    0    0    0    0    0    0    0   32\n",
      "     0    0    0    0    0    0]\n",
      " [   1    4    0    1    9    0    0    5    0    0    0    0    0    0    0    0    0    0    0    0    0\n",
      "     0    0    0    0    0    0]\n",
      " [   5   10    3    2   27    0    3    2    0    0    3    2    3    0    0    0    0    0    0    0    0\n",
      "     0   16    0    0    0    0]\n",
      " [   4   10    1    0   13    0    0    0    0    0    6    4    0    0    0    0    1    0    0    0    0\n",
      "     0    0   15    0    0    0]\n",
      " [   0    4    0    1    7    0    1    5    0    0    5    0    0    0    0    0    0    0    0    0    0\n",
      "     0    0    0   11    0    0]\n",
      " [   2    7    0    3    4    0    0    0    5    0    3    0    2    0    0    0    0    0    0    0    0\n",
      "     0    0    0    0    2    0]\n",
      " [   0    4    0    0    5    0    0    0    0    0    2    1    0    0    0    0    0    0    0    0    0\n",
      "     0    0    0    0    0    0]]\n"
     ]
    },
    {
     "data": {
      "text/plain": [
       "<Figure size 432x288 with 0 Axes>"
      ]
     },
     "metadata": {},
     "output_type": "display_data"
    },
    {
     "data": {
      "image/png": "[encoded data removed]",
      "text/plain": [
       "<Figure size 432x288 with 2 Axes>"
      ]
     },
     "metadata": {},
     "output_type": "display_data"
    }
   ],
   "source": [
    "plt.figure()\n",
    "plot_confusion_matrix(cm,[categories_num.loc[i].values[0] for i in range(31,57)])"
   ]
  },
  {
   "cell_type": "markdown",
   "metadata": {},
   "source": [
    "## Improving our model"
   ]
  },
  {
   "cell_type": "markdown",
   "metadata": {
    "heading_collapsed": true
   },
   "source": [
    "### Data augmentation"
   ]
  },
  {
   "cell_type": "markdown",
   "metadata": {
    "hidden": true
   },
   "source": [
    "If you try training for more epochs, you'll notice that we start to *overfit*, which means that our model is learning to recognize the specific images in the training set, rather than generalizing such that we also get good results on the validation set. One way to fix this is to effectively create more data, through *data augmentation*. This refers to randomly changing the images in ways that shouldn't impact their interpretation, such as horizontal flipping, zooming, and rotating.\n",
    "\n",
    "We can do this by passing `aug_tfms` (*augmentation transforms*) to `tfms_from_model`, with a list of functions to apply that randomly change the image however we wish. For photos that are largely taken from the side (e.g. most photos of dogs and cats, as opposed to photos taken from the top down, such as satellite imagery) we can use the pre-defined list of functions `transforms_side_on`. We can also specify random zooming of images up to specified scale by adding the `max_zoom` parameter."
   ]
  },
  {
   "cell_type": "code",
   "execution_count": 61,
   "metadata": {
    "hidden": true
   },
   "outputs": [],
   "source": [
    "tfms = tfms_from_model(resnet34, sz, aug_tfms=transforms_side_on, max_zoom=1.1)"
   ]
  },
  {
   "cell_type": "code",
   "execution_count": 21,
   "metadata": {},
   "outputs": [
    {
     "data": {
      "text/plain": [
       "'C:/Users/user/Documents/Salamat'"
      ]
     },
     "execution_count": 21,
     "metadata": {},
     "output_type": "execute_result"
    }
   ],
   "source": [
    "PATH"
   ]
  },
  {
   "cell_type": "code",
   "execution_count": 28,
   "metadata": {},
   "outputs": [],
   "source": [
    "PATH='C:\\\\Users\\\\user\\\\Documents\\\\Salamat\\\\NDSC_2019\\\\fashion'"
   ]
  },
  {
   "cell_type": "code",
   "execution_count": 31,
   "metadata": {
    "hidden": true
   },
   "outputs": [],
   "source": [
    "def get_augs():\n",
    "    data = ImageClassifierData.from_paths(PATH, bs=2, tfms=tfms, num_workers=1)\n",
    "    x,_ = next(iter(data.aug_dl))\n",
    "    return data.trn_ds.denorm(x)[1]"
   ]
  },
  {
   "cell_type": "code",
   "execution_count": 32,
   "metadata": {
    "hidden": true
   },
   "outputs": [],
   "source": [
    "ims = np.stack([get_augs() for i in range(6)])"
   ]
  },
  {
   "cell_type": "code",
   "execution_count": 33,
   "metadata": {
    "hidden": true
   },
   "outputs": [
    {
     "data": {
      "image/png": "[encoded data removed]",
      "text/plain": [
       "<Figure size 864x432 with 6 Axes>"
      ]
     },
     "metadata": {},
     "output_type": "display_data"
    }
   ],
   "source": [
    "plots(ims, rows=2)"
   ]
  },
  {
   "cell_type": "markdown",
   "metadata": {
    "hidden": true
   },
   "source": [
    "Let's create a new `data` object that includes this augmentation in the transforms."
   ]
  },
  {
   "cell_type": "code",
   "execution_count": 63,
   "metadata": {},
   "outputs": [],
   "source": [
    "PATH_fashion='C:/Users/user/Documents/Salamat/NDSC_2019/fashion'\n",
    "data_fashion = ImageClassifierData.from_paths(path=PATH_fashion,tfms=tfms,trn_name='train',val_name='valid', test_name='test')"
   ]
  },
  {
   "cell_type": "code",
   "execution_count": 64,
   "metadata": {
    "hidden": true
   },
   "outputs": [],
   "source": [
    "#data = ImageClassifierData.from_paths(PATH, tfms=tfms)\n",
    "learn = ConvLearner.pretrained(arch, data_fashion, precompute=True)"
   ]
  },
  {
   "cell_type": "code",
   "execution_count": 65,
   "metadata": {
    "hidden": true,
    "scrolled": false
   },
   "outputs": [
    {
     "data": {
      "application/vnd.jupyter.widget-view+json": {
       "model_id": "",
       "version_major": 2,
       "version_minor": 0
      },
      "text/plain": [
       "HBox(children=(IntProgress(value=0, description='Epoch', max=1), HTML(value='')))"
      ]
     },
     "metadata": {},
     "output_type": "display_data"
    },
    {
     "name": "stdout",
     "output_type": "stream",
     "text": [
      " 37%|████████████████████████▋                                         | 1029/2747 [00:09<00:16, 103.07it/s, loss=1.82]"
     ]
    },
    {
     "name": "stderr",
     "output_type": "stream",
     "text": [
      "C:\\Users\\user\\Anaconda3\\envs\\fastai\\lib\\site-packages\\tqdm\\_monitor.py:89: TqdmSynchronisationWarning: Set changed size during iteration (see https://github.com/tqdm/tqdm/issues/481)\n",
      "  TqdmSynchronisationWarning)\n"
     ]
    },
    {
     "name": "stdout",
     "output_type": "stream",
     "text": [
      "epoch      trn_loss   val_loss   accuracy                                                                              \n",
      "    0      1.752302   1.6807     0.428051  \n",
      "\n"
     ]
    },
    {
     "data": {
      "text/plain": [
       "[array([1.6807]), 0.4280512505404975]"
      ]
     },
     "execution_count": 65,
     "metadata": {},
     "output_type": "execute_result"
    }
   ],
   "source": [
    "learn.fit(1e-2, 1)"
   ]
  },
  {
   "cell_type": "code",
   "execution_count": 66,
   "metadata": {
    "hidden": true
   },
   "outputs": [],
   "source": [
    "learn.precompute=False"
   ]
  },
  {
   "cell_type": "markdown",
   "metadata": {
    "hidden": true
   },
   "source": [
    "By default when we create a learner, it sets all but the last layer to *frozen*. That means that it's still only updating the weights in the last layer when we call `fit`."
   ]
  },
  {
   "cell_type": "code",
   "execution_count": 67,
   "metadata": {
    "hidden": true,
    "scrolled": false
   },
   "outputs": [
    {
     "data": {
      "application/vnd.jupyter.widget-view+json": {
       "model_id": "",
       "version_major": 2,
       "version_minor": 0
      },
      "text/plain": [
       "HBox(children=(IntProgress(value=0, description='Epoch', max=3), HTML(value='')))"
      ]
     },
     "metadata": {},
     "output_type": "display_data"
    },
    {
     "name": "stdout",
     "output_type": "stream",
     "text": [
      "  1%|▍                                                                    | 16/2747 [00:08<25:17,  1.80it/s, loss=1.84]"
     ]
    },
    {
     "name": "stderr",
     "output_type": "stream",
     "text": [
      "C:\\Users\\user\\Anaconda3\\envs\\fastai\\lib\\site-packages\\tqdm\\_monitor.py:89: TqdmSynchronisationWarning: Set changed size during iteration (see https://github.com/tqdm/tqdm/issues/481)\n",
      "  TqdmSynchronisationWarning)\n"
     ]
    },
    {
     "name": "stdout",
     "output_type": "stream",
     "text": [
      "epoch      trn_loss   val_loss   accuracy                                                                              \n",
      "    0      1.742505   1.652929   0.439316  \n",
      "    1      1.70718    1.642157   0.44207                                                                               \n",
      "    2      1.695994   1.636345   0.443003                                                                              \n",
      "\n"
     ]
    },
    {
     "data": {
      "text/plain": [
       "[array([1.63635]), 0.4430031178170729]"
      ]
     },
     "execution_count": 67,
     "metadata": {},
     "output_type": "execute_result"
    }
   ],
   "source": [
    "learn.fit(1e-2, 3, cycle_len=1)"
   ]
  },
  {
   "cell_type": "markdown",
   "metadata": {
    "hidden": true
   },
   "source": [
    "What is that `cycle_len` parameter? What we've done here is used a technique called *stochastic gradient descent with restarts (SGDR)*, a variant of *learning rate annealing*, which gradually decreases the learning rate as training progresses. This is helpful because as we get closer to the optimal weights, we want to take smaller steps.\n",
    "\n",
    "However, we may find ourselves in a part of the weight space that isn't very resilient - that is, small changes to the weights may result in big changes to the loss. We want to encourage our model to find parts of the weight space that are both accurate and stable. Therefore, from time to time we increase the learning rate (this is the 'restarts' in 'SGDR'), which will force the model to jump to a different part of the weight space if the current area is \"spikey\". Here's a picture of how that might look if we reset the learning rates 3 times (in this paper they call it a \"cyclic LR schedule\"):\n",
    "\n",
    "<img src=\"images/sgdr.png\" width=\"80%\">\n",
    "(From the paper [Snapshot Ensembles](https://arxiv.org/abs/1704.00109)).\n",
    "\n",
    "The number of epochs between resetting the learning rate is set by `cycle_len`, and the number of times this happens is refered to as the *number of cycles*, and is what we're actually passing as the 2nd parameter to `fit()`. So here's what our actual learning rates looked like:"
   ]
  },
  {
   "cell_type": "code",
   "execution_count": 68,
   "metadata": {
    "hidden": true
   },
   "outputs": [
    {
     "data": {
      "image/png": "[encoded data removed]",
      "text/plain": [
       "<Figure size 432x288 with 1 Axes>"
      ]
     },
     "metadata": {},
     "output_type": "display_data"
    }
   ],
   "source": [
    "learn.sched.plot_lr()"
   ]
  },
  {
   "cell_type": "markdown",
   "metadata": {
    "hidden": true
   },
   "source": [
    "Our validation loss isn't improving much, so there's probably no point further training the last layer on its own."
   ]
  },
  {
   "cell_type": "markdown",
   "metadata": {
    "hidden": true
   },
   "source": [
    "Since we've got a pretty good model at this point, we might want to save it so we can load it again later without training it from scratch."
   ]
  },
  {
   "cell_type": "code",
   "execution_count": 69,
   "metadata": {
    "hidden": true
   },
   "outputs": [],
   "source": [
    "learn.save('224_lastlayer_cowsheep_new')"
   ]
  },
  {
   "cell_type": "code",
   "execution_count": 70,
   "metadata": {
    "hidden": true
   },
   "outputs": [],
   "source": [
    "learn.load('224_lastlayer_cowsheep_new')"
   ]
  },
  {
   "cell_type": "markdown",
   "metadata": {
    "heading_collapsed": true
   },
   "source": [
    "### Fine-tuning and differential learning rate annealing"
   ]
  },
  {
   "cell_type": "markdown",
   "metadata": {
    "hidden": true
   },
   "source": [
    "Now that we have a good final layer trained, we can try fine-tuning the other layers. To tell the learner that we want to unfreeze the remaining layers, just call (surprise surprise!) `unfreeze()`."
   ]
  },
  {
   "cell_type": "code",
   "execution_count": 71,
   "metadata": {
    "hidden": true
   },
   "outputs": [],
   "source": [
    "learn.unfreeze()"
   ]
  },
  {
   "cell_type": "markdown",
   "metadata": {
    "hidden": true
   },
   "source": [
    "Note that the other layers have *already* been trained to recognize imagenet photos (whereas our final layers where randomly initialized), so we want to be careful of not destroying the carefully tuned weights that are already there.\n",
    "\n",
    "Generally speaking, the earlier layers (as we've seen) have more general-purpose features. Therefore we would expect them to need less fine-tuning for new datasets. For this reason we will use different learning rates for different layers: the first few layers will be at 1e-4, the middle layers at 1e-3, and our FC layers we'll leave at 1e-2 as before. We refer to this as *differential learning rates*, although there's no standard name for this techique in the literature that we're aware of."
   ]
  },
  {
   "cell_type": "code",
   "execution_count": 72,
   "metadata": {
    "hidden": true
   },
   "outputs": [],
   "source": [
    "lr=np.array([1e-4,1e-3,1e-2])"
   ]
  },
  {
   "cell_type": "code",
   "execution_count": 73,
   "metadata": {
    "hidden": true,
    "scrolled": false
   },
   "outputs": [
    {
     "data": {
      "application/vnd.jupyter.widget-view+json": {
       "model_id": "",
       "version_major": 2,
       "version_minor": 0
      },
      "text/plain": [
       "HBox(children=(IntProgress(value=0, description='Epoch', max=7), HTML(value='')))"
      ]
     },
     "metadata": {},
     "output_type": "display_data"
    },
    {
     "name": "stdout",
     "output_type": "stream",
     "text": [
      "  0%|▎                                                                    | 13/2747 [00:09<33:57,  1.34it/s, loss=1.84]"
     ]
    },
    {
     "name": "stderr",
     "output_type": "stream",
     "text": [
      "C:\\Users\\user\\Anaconda3\\envs\\fastai\\lib\\site-packages\\tqdm\\_monitor.py:89: TqdmSynchronisationWarning: Set changed size during iteration (see https://github.com/tqdm/tqdm/issues/481)\n",
      "  TqdmSynchronisationWarning)\n"
     ]
    },
    {
     "name": "stdout",
     "output_type": "stream",
     "text": [
      "epoch      trn_loss   val_loss   accuracy                                                                              \n",
      "    0      1.550139   1.516707   0.481396  \n",
      "    1      1.502523   1.465918   0.496666                                                                              \n",
      "    2      1.469544   1.45141    0.500831                                                                              \n",
      "    3      1.445228   1.438777   0.50338                                                                               \n",
      "    4      1.429082   1.411912   0.515896                                                                              \n",
      "    5      1.380442   1.401555   0.521085                                                                              \n",
      "    6      1.351059   1.402348   0.52088                                                                               \n",
      "\n"
     ]
    },
    {
     "data": {
      "text/plain": [
       "[array([1.40235]), 0.5208802712728431]"
      ]
     },
     "execution_count": 73,
     "metadata": {},
     "output_type": "execute_result"
    }
   ],
   "source": [
    "learn.fit(lr, 3, cycle_len=1, cycle_mult=2)"
   ]
  },
  {
   "cell_type": "markdown",
   "metadata": {
    "hidden": true
   },
   "source": [
    "Another trick we've used here is adding the `cycle_mult` parameter. Take a look at the following chart, and see if you can figure out what the parameter is doing:"
   ]
  },
  {
   "cell_type": "code",
   "execution_count": 74,
   "metadata": {
    "hidden": true
   },
   "outputs": [
    {
     "data": {
      "image/png": "[encoded data removed]",
      "text/plain": [
       "<Figure size 432x288 with 1 Axes>"
      ]
     },
     "metadata": {},
     "output_type": "display_data"
    }
   ],
   "source": [
    "learn.sched.plot_lr()"
   ]
  },
  {
   "cell_type": "markdown",
   "metadata": {
    "hidden": true
   },
   "source": [
    "Note that's what being plotted above is the learning rate of the *final layers*. The learning rates of the earlier layers are fixed at the same multiples of the final layer rates as we initially requested (i.e. the first layers have 100x smaller, and middle layers 10x smaller learning rates, since we set `lr=np.array([1e-4,1e-3,1e-2])`."
   ]
  },
  {
   "cell_type": "code",
   "execution_count": 75,
   "metadata": {
    "hidden": true
   },
   "outputs": [],
   "source": [
    "learn.save('224_all_cowsheep')"
   ]
  },
  {
   "cell_type": "code",
   "execution_count": 76,
   "metadata": {
    "hidden": true
   },
   "outputs": [],
   "source": [
    "learn.load('224_all_cowsheep')"
   ]
  },
  {
   "cell_type": "markdown",
   "metadata": {
    "hidden": true
   },
   "source": [
    "There is something else we can do with data augmentation: use it at *inference* time (also known as *test* time). Not surprisingly, this is known as *test time augmentation*, or just *TTA*.\n",
    "\n",
    "TTA simply makes predictions not just on the images in your validation set, but also makes predictions on a number of randomly augmented versions of them too (by default, it uses the original image along with 4 randomly augmented versions). It then takes the average prediction from these images, and uses that. To use TTA on the validation set, we can use the learner's `TTA()` method."
   ]
  },
  {
   "cell_type": "code",
   "execution_count": 77,
   "metadata": {
    "hidden": true,
    "scrolled": true
   },
   "outputs": [
    {
     "name": "stdout",
     "output_type": "stream",
     "text": [
      "\r",
      "  0%|                                                                                            | 0/4 [00:00<?, ?it/s]"
     ]
    },
    {
     "name": "stderr",
     "output_type": "stream",
     "text": [
      "C:\\Users\\user\\Anaconda3\\envs\\fastai\\lib\\site-packages\\tqdm\\_monitor.py:89: TqdmSynchronisationWarning: Set changed size during iteration (see https://github.com/tqdm/tqdm/issues/481)\n",
      "  TqdmSynchronisationWarning)\n"
     ]
    },
    {
     "name": "stdout",
     "output_type": "stream",
     "text": [
      "                                                                                                                       \r"
     ]
    }
   ],
   "source": [
    "log_preds,y = learn.TTA()\n",
    "probs = np.mean(np.exp(log_preds),0)"
   ]
  },
  {
   "cell_type": "code",
   "execution_count": 138,
   "metadata": {},
   "outputs": [
    {
     "data": {
      "text/plain": [
       "(43941,)"
      ]
     },
     "execution_count": 138,
     "metadata": {},
     "output_type": "execute_result"
    }
   ],
   "source": [
    "y.shape"
   ]
  },
  {
   "cell_type": "code",
   "execution_count": 78,
   "metadata": {
    "hidden": true
   },
   "outputs": [
    {
     "data": {
      "text/plain": [
       "0.5257276802985822"
      ]
     },
     "execution_count": 78,
     "metadata": {},
     "output_type": "execute_result"
    }
   ],
   "source": [
    "# We have improved quite significantly\n",
    "accuracy_np(probs, y)"
   ]
  },
  {
   "cell_type": "code",
   "execution_count": 80,
   "metadata": {
    "scrolled": true
   },
   "outputs": [
    {
     "name": "stdout",
     "output_type": "stream",
     "text": [
      "\r",
      "  0%|                                                                                            | 0/4 [00:00<?, ?it/s]"
     ]
    },
    {
     "name": "stderr",
     "output_type": "stream",
     "text": [
      "C:\\Users\\user\\Anaconda3\\envs\\fastai\\lib\\site-packages\\tqdm\\_monitor.py:89: TqdmSynchronisationWarning: Set changed size during iteration (see https://github.com/tqdm/tqdm/issues/481)\n",
      "  TqdmSynchronisationWarning)\n"
     ]
    },
    {
     "name": "stdout",
     "output_type": "stream",
     "text": [
      "                                                                                                                       \r"
     ]
    }
   ],
   "source": [
    "log_preds_test,y_test=learn.TTA(is_test=True)"
   ]
  },
  {
   "cell_type": "code",
   "execution_count": 82,
   "metadata": {},
   "outputs": [
    {
     "data": {
      "text/plain": [
       "(55440, 1)"
      ]
     },
     "execution_count": 82,
     "metadata": {},
     "output_type": "execute_result"
    }
   ],
   "source": [
    "y_test.shape"
   ]
  },
  {
   "cell_type": "code",
   "execution_count": 192,
   "metadata": {},
   "outputs": [],
   "source": [
    "df_test=pd.read_csv('test.csv')"
   ]
  },
  {
   "cell_type": "code",
   "execution_count": 193,
   "metadata": {},
   "outputs": [],
   "source": [
    "df_test['Group']=df_test['image_path'].map(lambda x : x[:7])"
   ]
  },
  {
   "cell_type": "code",
   "execution_count": 198,
   "metadata": {},
   "outputs": [],
   "source": [
    "df_test.loc[df_test.Group=='fashion','image_path']=df_test[df_test.Group=='fashion'].image_path.map(lambda x : x[14:])"
   ]
  },
  {
   "cell_type": "code",
   "execution_count": 199,
   "metadata": {},
   "outputs": [
    {
     "data": {
      "text/html": [
       "<div>\n",
       "<style scoped>\n",
       "    .dataframe tbody tr th:only-of-type {\n",
       "        vertical-align: middle;\n",
       "    }\n",
       "\n",
       "    .dataframe tbody tr th {\n",
       "        vertical-align: top;\n",
       "    }\n",
       "\n",
       "    .dataframe thead th {\n",
       "        text-align: right;\n",
       "    }\n",
       "</style>\n",
       "<table border=\"1\" class=\"dataframe\">\n",
       "  <thead>\n",
       "    <tr style=\"text-align: right;\">\n",
       "      <th></th>\n",
       "      <th>itemid</th>\n",
       "      <th>title</th>\n",
       "      <th>image_path</th>\n",
       "      <th>Group</th>\n",
       "    </tr>\n",
       "  </thead>\n",
       "  <tbody>\n",
       "    <tr>\n",
       "      <th>76545</th>\n",
       "      <td>670968580</td>\n",
       "      <td>women casual o neck long sleeve lace patchwork...</td>\n",
       "      <td>b0ca9645c5c3527882d935f17b4c9579.jpg</td>\n",
       "      <td>fashion</td>\n",
       "    </tr>\n",
       "    <tr>\n",
       "      <th>76546</th>\n",
       "      <td>475599610</td>\n",
       "      <td>zaful long dress vintage wanita v neck lengan ...</td>\n",
       "      <td>c74af2636e9fe2686981decce3ca5b6c.jpg</td>\n",
       "      <td>fashion</td>\n",
       "    </tr>\n",
       "    <tr>\n",
       "      <th>76547</th>\n",
       "      <td>1652671018</td>\n",
       "      <td>dress skater swing o neck tanpa lengan desain ...</td>\n",
       "      <td>1f2a2d91f5eb2d80f1dfdcf0b1f50169.jpg</td>\n",
       "      <td>fashion</td>\n",
       "    </tr>\n",
       "    <tr>\n",
       "      <th>76548</th>\n",
       "      <td>1705634904</td>\n",
       "      <td>ok dress slim sexy deep v neck lengan panjang ...</td>\n",
       "      <td>fdb6309635ebb5eac5df9c61984ffce5.jpg</td>\n",
       "      <td>fashion</td>\n",
       "    </tr>\n",
       "    <tr>\n",
       "      <th>76549</th>\n",
       "      <td>1789421087</td>\n",
       "      <td>noa korean lace embroidery womens crew neck lo...</td>\n",
       "      <td>578e5c74e97128cd25378ef0f0c021cf.jpg</td>\n",
       "      <td>fashion</td>\n",
       "    </tr>\n",
       "  </tbody>\n",
       "</table>\n",
       "</div>"
      ],
      "text/plain": [
       "           itemid                                              title  \\\n",
       "76545   670968580  women casual o neck long sleeve lace patchwork...   \n",
       "76546   475599610  zaful long dress vintage wanita v neck lengan ...   \n",
       "76547  1652671018  dress skater swing o neck tanpa lengan desain ...   \n",
       "76548  1705634904  ok dress slim sexy deep v neck lengan panjang ...   \n",
       "76549  1789421087  noa korean lace embroidery womens crew neck lo...   \n",
       "\n",
       "                                 image_path    Group  \n",
       "76545  b0ca9645c5c3527882d935f17b4c9579.jpg  fashion  \n",
       "76546  c74af2636e9fe2686981decce3ca5b6c.jpg  fashion  \n",
       "76547  1f2a2d91f5eb2d80f1dfdcf0b1f50169.jpg  fashion  \n",
       "76548  fdb6309635ebb5eac5df9c61984ffce5.jpg  fashion  \n",
       "76549  578e5c74e97128cd25378ef0f0c021cf.jpg  fashion  "
      ]
     },
     "execution_count": 199,
     "metadata": {},
     "output_type": "execute_result"
    }
   ],
   "source": [
    "df_test[df_test.Group=='fashion'].head()"
   ]
  },
  {
   "cell_type": "code",
   "execution_count": 93,
   "metadata": {},
   "outputs": [],
   "source": [
    "# We need to take exp to get probabilities \n",
    "pred_fashion= np.mean(np.exp(log_preds),0)\n",
    "# get indexes of validation set\n",
    "val_idx_fashion=data_fashion.val_ds.fnames\n",
    "# Get classes might not be ordered\n",
    "cat_fashion=data_fashion.classes"
   ]
  },
  {
   "cell_type": "code",
   "execution_count": 115,
   "metadata": {},
   "outputs": [],
   "source": [
    "df_fashion=pd.DataFrame()\n",
    "df_fashion['image_path']=val_idx_fashion\n",
    "df_pred=pd.DataFrame(pred_fashion)\n",
    "df_pred.columns=cat_fashion\n",
    "df_fashion=pd.concat([df_fashion,df_pred],axis=1)\n",
    "df_fashion['final_pred']=df_fashion.iloc[:,1:].idxmax(axis=1)"
   ]
  },
  {
   "cell_type": "code",
   "execution_count": 116,
   "metadata": {},
   "outputs": [],
   "source": [
    "df_fashion['Category']=[cat_fashion[i] for i in data_fashion.val_y]\n"
   ]
  },
  {
   "cell_type": "code",
   "execution_count": 117,
   "metadata": {},
   "outputs": [
    {
     "name": "stdout",
     "output_type": "stream",
     "text": [
      "Accuracy for fashion : 0.5257276802985822\n"
     ]
    }
   ],
   "source": [
    "# let's check accuracy for each folder\n",
    "print('Accuracy for fashion :',(df_fashion.final_pred==df_fashion.Category).mean())"
   ]
  },
  {
   "cell_type": "code",
   "execution_count": 118,
   "metadata": {},
   "outputs": [],
   "source": [
    "# Let's export our validation set. But before we need to remove some parts from indexes\n",
    "df_fashion['image_path']=df_fashion['image_path'].map(lambda x: x[9:])"
   ]
  },
  {
   "cell_type": "code",
   "execution_count": 121,
   "metadata": {
    "scrolled": true
   },
   "outputs": [
    {
     "data": {
      "text/html": [
       "<div>\n",
       "<style scoped>\n",
       "    .dataframe tbody tr th:only-of-type {\n",
       "        vertical-align: middle;\n",
       "    }\n",
       "\n",
       "    .dataframe tbody tr th {\n",
       "        vertical-align: top;\n",
       "    }\n",
       "\n",
       "    .dataframe thead th {\n",
       "        text-align: right;\n",
       "    }\n",
       "</style>\n",
       "<table border=\"1\" class=\"dataframe\">\n",
       "  <thead>\n",
       "    <tr style=\"text-align: right;\">\n",
       "      <th></th>\n",
       "      <th>image_path</th>\n",
       "      <th>17</th>\n",
       "      <th>18</th>\n",
       "      <th>19</th>\n",
       "      <th>20</th>\n",
       "      <th>21</th>\n",
       "      <th>22</th>\n",
       "      <th>23</th>\n",
       "      <th>24</th>\n",
       "      <th>25</th>\n",
       "      <th>26</th>\n",
       "      <th>27</th>\n",
       "      <th>28</th>\n",
       "      <th>29</th>\n",
       "      <th>30</th>\n",
       "      <th>final_pred</th>\n",
       "      <th>Category</th>\n",
       "    </tr>\n",
       "  </thead>\n",
       "  <tbody>\n",
       "    <tr>\n",
       "      <th>0</th>\n",
       "      <td>00db78692ed36e84cf797f9496c9f899.jpg</td>\n",
       "      <td>0.071383</td>\n",
       "      <td>0.396162</td>\n",
       "      <td>0.184691</td>\n",
       "      <td>0.055298</td>\n",
       "      <td>0.061836</td>\n",
       "      <td>0.093350</td>\n",
       "      <td>0.002380</td>\n",
       "      <td>0.026513</td>\n",
       "      <td>0.007403</td>\n",
       "      <td>0.065395</td>\n",
       "      <td>0.008442</td>\n",
       "      <td>0.020940</td>\n",
       "      <td>0.003337</td>\n",
       "      <td>0.002869</td>\n",
       "      <td>18</td>\n",
       "      <td>17</td>\n",
       "    </tr>\n",
       "    <tr>\n",
       "      <th>1</th>\n",
       "      <td>013930ce1c74cd53d154890d7781da62.jpg</td>\n",
       "      <td>0.005215</td>\n",
       "      <td>0.520350</td>\n",
       "      <td>0.037498</td>\n",
       "      <td>0.235791</td>\n",
       "      <td>0.093461</td>\n",
       "      <td>0.063375</td>\n",
       "      <td>0.001544</td>\n",
       "      <td>0.025161</td>\n",
       "      <td>0.001572</td>\n",
       "      <td>0.005635</td>\n",
       "      <td>0.002389</td>\n",
       "      <td>0.006001</td>\n",
       "      <td>0.001124</td>\n",
       "      <td>0.000884</td>\n",
       "      <td>18</td>\n",
       "      <td>17</td>\n",
       "    </tr>\n",
       "    <tr>\n",
       "      <th>2</th>\n",
       "      <td>019c5f7df81b3d70a1fa6503859ad8c8.jpg</td>\n",
       "      <td>0.006870</td>\n",
       "      <td>0.016446</td>\n",
       "      <td>0.001409</td>\n",
       "      <td>0.000988</td>\n",
       "      <td>0.002237</td>\n",
       "      <td>0.002766</td>\n",
       "      <td>0.000201</td>\n",
       "      <td>0.000760</td>\n",
       "      <td>0.383355</td>\n",
       "      <td>0.458148</td>\n",
       "      <td>0.038776</td>\n",
       "      <td>0.053524</td>\n",
       "      <td>0.028743</td>\n",
       "      <td>0.005778</td>\n",
       "      <td>26</td>\n",
       "      <td>17</td>\n",
       "    </tr>\n",
       "    <tr>\n",
       "      <th>3</th>\n",
       "      <td>02cb2b4c034134fbe07ae01b0e5576d1.jpg</td>\n",
       "      <td>0.003193</td>\n",
       "      <td>0.009588</td>\n",
       "      <td>0.000724</td>\n",
       "      <td>0.002006</td>\n",
       "      <td>0.001252</td>\n",
       "      <td>0.000263</td>\n",
       "      <td>0.000068</td>\n",
       "      <td>0.001047</td>\n",
       "      <td>0.001882</td>\n",
       "      <td>0.336756</td>\n",
       "      <td>0.630989</td>\n",
       "      <td>0.000435</td>\n",
       "      <td>0.000350</td>\n",
       "      <td>0.011448</td>\n",
       "      <td>27</td>\n",
       "      <td>17</td>\n",
       "    </tr>\n",
       "    <tr>\n",
       "      <th>4</th>\n",
       "      <td>032050a828b38eb3b816cbef2c6bed28.jpg</td>\n",
       "      <td>0.048863</td>\n",
       "      <td>0.005409</td>\n",
       "      <td>0.001346</td>\n",
       "      <td>0.001212</td>\n",
       "      <td>0.000195</td>\n",
       "      <td>0.000169</td>\n",
       "      <td>0.000159</td>\n",
       "      <td>0.000992</td>\n",
       "      <td>0.103213</td>\n",
       "      <td>0.628197</td>\n",
       "      <td>0.178305</td>\n",
       "      <td>0.000691</td>\n",
       "      <td>0.000724</td>\n",
       "      <td>0.030526</td>\n",
       "      <td>26</td>\n",
       "      <td>17</td>\n",
       "    </tr>\n",
       "  </tbody>\n",
       "</table>\n",
       "</div>"
      ],
      "text/plain": [
       "                             image_path        17        18        19  \\\n",
       "0  00db78692ed36e84cf797f9496c9f899.jpg  0.071383  0.396162  0.184691   \n",
       "1  013930ce1c74cd53d154890d7781da62.jpg  0.005215  0.520350  0.037498   \n",
       "2  019c5f7df81b3d70a1fa6503859ad8c8.jpg  0.006870  0.016446  0.001409   \n",
       "3  02cb2b4c034134fbe07ae01b0e5576d1.jpg  0.003193  0.009588  0.000724   \n",
       "4  032050a828b38eb3b816cbef2c6bed28.jpg  0.048863  0.005409  0.001346   \n",
       "\n",
       "         20        21        22        23        24        25        26  \\\n",
       "0  0.055298  0.061836  0.093350  0.002380  0.026513  0.007403  0.065395   \n",
       "1  0.235791  0.093461  0.063375  0.001544  0.025161  0.001572  0.005635   \n",
       "2  0.000988  0.002237  0.002766  0.000201  0.000760  0.383355  0.458148   \n",
       "3  0.002006  0.001252  0.000263  0.000068  0.001047  0.001882  0.336756   \n",
       "4  0.001212  0.000195  0.000169  0.000159  0.000992  0.103213  0.628197   \n",
       "\n",
       "         27        28        29        30 final_pred Category  \n",
       "0  0.008442  0.020940  0.003337  0.002869         18       17  \n",
       "1  0.002389  0.006001  0.001124  0.000884         18       17  \n",
       "2  0.038776  0.053524  0.028743  0.005778         26       17  \n",
       "3  0.630989  0.000435  0.000350  0.011448         27       17  \n",
       "4  0.178305  0.000691  0.000724  0.030526         26       17  "
      ]
     },
     "execution_count": 121,
     "metadata": {},
     "output_type": "execute_result"
    }
   ],
   "source": [
    "df_fashion.head()"
   ]
  },
  {
   "cell_type": "code",
   "execution_count": 132,
   "metadata": {},
   "outputs": [
    {
     "data": {
      "text/plain": [
       "(43941, 17)"
      ]
     },
     "execution_count": 132,
     "metadata": {},
     "output_type": "execute_result"
    }
   ],
   "source": [
    "df_fashion.shape"
   ]
  },
  {
   "cell_type": "code",
   "execution_count": 102,
   "metadata": {},
   "outputs": [],
   "source": [
    "from sklearn.model_selection import train_test_split"
   ]
  },
  {
   "cell_type": "code",
   "execution_count": 105,
   "metadata": {},
   "outputs": [],
   "source": [
    "df_train=pd.read_csv('train.csv')\n",
    "df_train['Group']=df_train['image_path'].map(lambda x : x[:7])"
   ]
  },
  {
   "cell_type": "code",
   "execution_count": 126,
   "metadata": {},
   "outputs": [],
   "source": [
    "df_train.loc[df_train.Group=='fashion','image_path']=df_train[df_train.Group=='fashion'].image_path.map(lambda x: x[14:]+'.jpg')"
   ]
  },
  {
   "cell_type": "code",
   "execution_count": 139,
   "metadata": {},
   "outputs": [],
   "source": [
    "train,test=train_test_split(df_train,random_state=2019,stratify=df_train.Category,test_size=0.2)"
   ]
  },
  {
   "cell_type": "code",
   "execution_count": 152,
   "metadata": {},
   "outputs": [
    {
     "data": {
      "text/plain": [
       "(133323, 5)"
      ]
     },
     "execution_count": 152,
     "metadata": {},
     "output_type": "execute_result"
    }
   ],
   "source": [
    "test.shape"
   ]
  },
  {
   "cell_type": "code",
   "execution_count": 145,
   "metadata": {},
   "outputs": [
    {
     "data": {
      "text/html": [
       "<div>\n",
       "<style scoped>\n",
       "    .dataframe tbody tr th:only-of-type {\n",
       "        vertical-align: middle;\n",
       "    }\n",
       "\n",
       "    .dataframe tbody tr th {\n",
       "        vertical-align: top;\n",
       "    }\n",
       "\n",
       "    .dataframe thead th {\n",
       "        text-align: right;\n",
       "    }\n",
       "</style>\n",
       "<table border=\"1\" class=\"dataframe\">\n",
       "  <thead>\n",
       "    <tr style=\"text-align: right;\">\n",
       "      <th></th>\n",
       "      <th>itemid</th>\n",
       "      <th>title</th>\n",
       "      <th>Category</th>\n",
       "      <th>image_path</th>\n",
       "      <th>Group</th>\n",
       "    </tr>\n",
       "  </thead>\n",
       "  <tbody>\n",
       "    <tr>\n",
       "      <th>539829</th>\n",
       "      <td>1058517290</td>\n",
       "      <td>xiaomi mi a1 garansi resmi 1 tahun tam</td>\n",
       "      <td>34</td>\n",
       "      <td>mobile_image/3912586cdf51144db783b2bac1ee4d3f.jpg</td>\n",
       "      <td>mobile_</td>\n",
       "    </tr>\n",
       "    <tr>\n",
       "      <th>473036</th>\n",
       "      <td>286463264</td>\n",
       "      <td>blus sexy model off shoulder</td>\n",
       "      <td>26</td>\n",
       "      <td>cb790137111e2525cd895c3375fe84c0.jpg</td>\n",
       "      <td>fashion</td>\n",
       "    </tr>\n",
       "    <tr>\n",
       "      <th>252009</th>\n",
       "      <td>1537965166</td>\n",
       "      <td>best sale jafra royal jelly radiance foundatio...</td>\n",
       "      <td>1</td>\n",
       "      <td>beauty_image/5adfe3e65ad2f51a1e67db85a3de8e18.jpg</td>\n",
       "      <td>beauty_</td>\n",
       "    </tr>\n",
       "    <tr>\n",
       "      <th>355772</th>\n",
       "      <td>1465709373</td>\n",
       "      <td>dress midi bodycon casual elegan warna polos u...</td>\n",
       "      <td>22</td>\n",
       "      <td>cbedaa2404fb377dc6c271a1081f7baa.jpg</td>\n",
       "      <td>fashion</td>\n",
       "    </tr>\n",
       "    <tr>\n",
       "      <th>553954</th>\n",
       "      <td>1195506745</td>\n",
       "      <td>promo discon samsung galaxy s7 flat sein garan...</td>\n",
       "      <td>35</td>\n",
       "      <td>mobile_image/bb327fec3989b18f714deb3c07203fb8.jpg</td>\n",
       "      <td>mobile_</td>\n",
       "    </tr>\n",
       "  </tbody>\n",
       "</table>\n",
       "</div>"
      ],
      "text/plain": [
       "            itemid                                              title  \\\n",
       "539829  1058517290             xiaomi mi a1 garansi resmi 1 tahun tam   \n",
       "473036   286463264                       blus sexy model off shoulder   \n",
       "252009  1537965166  best sale jafra royal jelly radiance foundatio...   \n",
       "355772  1465709373  dress midi bodycon casual elegan warna polos u...   \n",
       "553954  1195506745  promo discon samsung galaxy s7 flat sein garan...   \n",
       "\n",
       "        Category                                         image_path    Group  \n",
       "539829        34  mobile_image/3912586cdf51144db783b2bac1ee4d3f.jpg  mobile_  \n",
       "473036        26               cb790137111e2525cd895c3375fe84c0.jpg  fashion  \n",
       "252009         1  beauty_image/5adfe3e65ad2f51a1e67db85a3de8e18.jpg  beauty_  \n",
       "355772        22               cbedaa2404fb377dc6c271a1081f7baa.jpg  fashion  \n",
       "553954        35  mobile_image/bb327fec3989b18f714deb3c07203fb8.jpg  mobile_  "
      ]
     },
     "execution_count": 145,
     "metadata": {},
     "output_type": "execute_result"
    }
   ],
   "source": [
    "test.head()"
   ]
  },
  {
   "cell_type": "code",
   "execution_count": 146,
   "metadata": {},
   "outputs": [],
   "source": [
    "df_val=test[test.Group=='fashion'][['itemid','image_path']].merge(df_fashion,on='image_path')"
   ]
  },
  {
   "cell_type": "code",
   "execution_count": 148,
   "metadata": {},
   "outputs": [],
   "source": [
    "df_val.set_index('itemid',inplace=True)"
   ]
  },
  {
   "cell_type": "code",
   "execution_count": 154,
   "metadata": {},
   "outputs": [],
   "source": [
    "df_val=df_val.loc[test[test.Group=='fashion'].itemid,:]"
   ]
  },
  {
   "cell_type": "code",
   "execution_count": 156,
   "metadata": {},
   "outputs": [],
   "source": [
    "df_val.reset_index(inplace=True)"
   ]
  },
  {
   "cell_type": "code",
   "execution_count": 158,
   "metadata": {},
   "outputs": [],
   "source": [
    "df_val.to_csv('val_fashion_v2.csv')"
   ]
  },
  {
   "cell_type": "code",
   "execution_count": null,
   "metadata": {},
   "outputs": [],
   "source": [
    "data_fashion."
   ]
  },
  {
   "cell_type": "code",
   "execution_count": 171,
   "metadata": {},
   "outputs": [],
   "source": [
    "# Let's save test data\n",
    "# We need to take exp to get probabilities \n",
    "pred_fashion= np.mean(np.exp(log_preds_test),0)\n",
    "# get indexes of validation set\n",
    "val_idx_fashion=data_fashion.test_ds.fnames\n",
    "# Get classes might not be ordered\n",
    "cat_fashion=data_fashion.classes\n",
    "df_fashion=pd.DataFrame()\n",
    "df_fashion['image_path']=val_idx_fashion\n",
    "df_pred=pd.DataFrame(pred_fashion)\n",
    "df_pred.columns=cat_fashion\n",
    "df_fashion=pd.concat([df_fashion,df_pred],axis=1)\n",
    "df_fashion['final_pred']=df_fashion.iloc[:,1:].idxmax(axis=1)"
   ]
  },
  {
   "cell_type": "code",
   "execution_count": 205,
   "metadata": {},
   "outputs": [],
   "source": [
    "df_fashion.loc[:,'image_path']=df_fashion['image_path'].map(lambda x: x[5:])"
   ]
  },
  {
   "cell_type": "code",
   "execution_count": 206,
   "metadata": {
    "scrolled": true
   },
   "outputs": [
    {
     "data": {
      "text/html": [
       "<div>\n",
       "<style scoped>\n",
       "    .dataframe tbody tr th:only-of-type {\n",
       "        vertical-align: middle;\n",
       "    }\n",
       "\n",
       "    .dataframe tbody tr th {\n",
       "        vertical-align: top;\n",
       "    }\n",
       "\n",
       "    .dataframe thead th {\n",
       "        text-align: right;\n",
       "    }\n",
       "</style>\n",
       "<table border=\"1\" class=\"dataframe\">\n",
       "  <thead>\n",
       "    <tr style=\"text-align: right;\">\n",
       "      <th></th>\n",
       "      <th>itemid</th>\n",
       "      <th>title</th>\n",
       "      <th>image_path</th>\n",
       "      <th>Group</th>\n",
       "    </tr>\n",
       "  </thead>\n",
       "  <tbody>\n",
       "    <tr>\n",
       "      <th>76545</th>\n",
       "      <td>670968580</td>\n",
       "      <td>women casual o neck long sleeve lace patchwork...</td>\n",
       "      <td>b0ca9645c5c3527882d935f17b4c9579.jpg</td>\n",
       "      <td>fashion</td>\n",
       "    </tr>\n",
       "    <tr>\n",
       "      <th>76546</th>\n",
       "      <td>475599610</td>\n",
       "      <td>zaful long dress vintage wanita v neck lengan ...</td>\n",
       "      <td>c74af2636e9fe2686981decce3ca5b6c.jpg</td>\n",
       "      <td>fashion</td>\n",
       "    </tr>\n",
       "    <tr>\n",
       "      <th>76547</th>\n",
       "      <td>1652671018</td>\n",
       "      <td>dress skater swing o neck tanpa lengan desain ...</td>\n",
       "      <td>1f2a2d91f5eb2d80f1dfdcf0b1f50169.jpg</td>\n",
       "      <td>fashion</td>\n",
       "    </tr>\n",
       "    <tr>\n",
       "      <th>76548</th>\n",
       "      <td>1705634904</td>\n",
       "      <td>ok dress slim sexy deep v neck lengan panjang ...</td>\n",
       "      <td>fdb6309635ebb5eac5df9c61984ffce5.jpg</td>\n",
       "      <td>fashion</td>\n",
       "    </tr>\n",
       "    <tr>\n",
       "      <th>76549</th>\n",
       "      <td>1789421087</td>\n",
       "      <td>noa korean lace embroidery womens crew neck lo...</td>\n",
       "      <td>578e5c74e97128cd25378ef0f0c021cf.jpg</td>\n",
       "      <td>fashion</td>\n",
       "    </tr>\n",
       "  </tbody>\n",
       "</table>\n",
       "</div>"
      ],
      "text/plain": [
       "           itemid                                              title  \\\n",
       "76545   670968580  women casual o neck long sleeve lace patchwork...   \n",
       "76546   475599610  zaful long dress vintage wanita v neck lengan ...   \n",
       "76547  1652671018  dress skater swing o neck tanpa lengan desain ...   \n",
       "76548  1705634904  ok dress slim sexy deep v neck lengan panjang ...   \n",
       "76549  1789421087  noa korean lace embroidery womens crew neck lo...   \n",
       "\n",
       "                                 image_path    Group  \n",
       "76545  b0ca9645c5c3527882d935f17b4c9579.jpg  fashion  \n",
       "76546  c74af2636e9fe2686981decce3ca5b6c.jpg  fashion  \n",
       "76547  1f2a2d91f5eb2d80f1dfdcf0b1f50169.jpg  fashion  \n",
       "76548  fdb6309635ebb5eac5df9c61984ffce5.jpg  fashion  \n",
       "76549  578e5c74e97128cd25378ef0f0c021cf.jpg  fashion  "
      ]
     },
     "execution_count": 206,
     "metadata": {},
     "output_type": "execute_result"
    }
   ],
   "source": [
    "df_test[df_test.Group=='fashion'].head()"
   ]
  },
  {
   "cell_type": "code",
   "execution_count": 207,
   "metadata": {
    "scrolled": true
   },
   "outputs": [],
   "source": [
    "df_val=df_test[df_test.Group=='fashion'][['itemid','image_path']].merge(df_fashion,on='image_path')\n",
    "df_val.set_index('itemid',inplace=True)\n",
    "df_val=df_val.loc[df_test[df_test.Group=='fashion'].itemid,:]\n",
    "df_val.reset_index(inplace=True)\n",
    "df_val.to_csv('test_fashion_v2.csv')"
   ]
  },
  {
   "cell_type": "code",
   "execution_count": 218,
   "metadata": {
    "scrolled": true
   },
   "outputs": [],
   "source": [
    "# Now we need to train fashion for all data. How we can do that?\n",
    "# Let's train from csv. We still need to make folder for test set. Actually, I just need to copy\n",
    "# test folder of fashion. So, all I need is prepare train.csv file\n",
    "df_train.loc[df_train.Group=='fashion','image_path']=df_train.loc[df_train.Group=='fashion','image_path'].map(lambda x: 'fashion_image/'+x)\n"
   ]
  },
  {
   "cell_type": "code",
   "execution_count": 230,
   "metadata": {
    "scrolled": true
   },
   "outputs": [
    {
     "name": "stderr",
     "output_type": "stream",
     "text": [
      "C:\\Users\\user\\Anaconda3\\envs\\fastai\\lib\\site-packages\\tqdm\\_monitor.py:89: TqdmSynchronisationWarning: Set changed size during iteration (see https://github.com/tqdm/tqdm/issues/481)\n",
      "  TqdmSynchronisationWarning)\n"
     ]
    }
   ],
   "source": [
    "df_train.loc[df_train.Group=='fashion',['image_path','Category']].to_csv('train_fashion_all.csv',index=False)"
   ]
  },
  {
   "cell_type": "code",
   "execution_count": 232,
   "metadata": {},
   "outputs": [
    {
     "data": {
      "text/plain": [
       "286583    fashion_image/78d17fdb159bba51a4250dc3d583245e...\n",
       "286584    fashion_image/2f77dac9965bbfdb03cbd3724b3552c5...\n",
       "286585    fashion_image/6dbe2e7cba5ddbb750d2144d8f248f11...\n",
       "286586    fashion_image/dc9b21429604148fc0342d12694f3294...\n",
       "286587    fashion_image/6c25c578dd8edce742a805f891f1a51f...\n",
       "Name: image_path, dtype: object"
      ]
     },
     "execution_count": 232,
     "metadata": {},
     "output_type": "execute_result"
    },
    {
     "name": "stderr",
     "output_type": "stream",
     "text": [
      "C:\\Users\\user\\Anaconda3\\envs\\fastai\\lib\\site-packages\\tqdm\\_monitor.py:89: TqdmSynchronisationWarning: Set changed size during iteration (see https://github.com/tqdm/tqdm/issues/481)\n",
      "  TqdmSynchronisationWarning)\n"
     ]
    }
   ],
   "source": [
    "df_train.loc[df_train.Group=='fashion','image_path'].head()"
   ]
  },
  {
   "cell_type": "code",
   "execution_count": 235,
   "metadata": {},
   "outputs": [
    {
     "data": {
      "text/plain": [
       "286583    51a4250dc3d583245e.jpg\n",
       "286584    db03cbd3724b3552c5.jpg\n",
       "286585    b750d2144d8f248f11.jpg\n",
       "286586    8fc0342d12694f3294.jpg\n",
       "286587    e742a805f891f1a51f.jpg\n",
       "Name: image_path, dtype: object"
      ]
     },
     "execution_count": 235,
     "metadata": {},
     "output_type": "execute_result"
    },
    {
     "name": "stderr",
     "output_type": "stream",
     "text": [
      "C:\\Users\\user\\Anaconda3\\envs\\fastai\\lib\\site-packages\\tqdm\\_monitor.py:89: TqdmSynchronisationWarning: Set changed size during iteration (see https://github.com/tqdm/tqdm/issues/481)\n",
      "  TqdmSynchronisationWarning)\n"
     ]
    }
   ],
   "source": [
    "df_train.loc[df_train.Group=='fashion','image_path'].map(lambda x: x[14:]).head()"
   ]
  },
  {
   "cell_type": "code",
   "execution_count": 234,
   "metadata": {},
   "outputs": [],
   "source": [
    "df_train.loc[df_train.Group=='fashion','image_path']=df_train.loc[df_train.Group=='fashion','image_path'].map(lambda x: x[14:])\n"
   ]
  },
  {
   "cell_type": "code",
   "execution_count": 236,
   "metadata": {},
   "outputs": [
    {
     "name": "stderr",
     "output_type": "stream",
     "text": [
      "C:\\Users\\user\\Anaconda3\\envs\\fastai\\lib\\site-packages\\tqdm\\_monitor.py:89: TqdmSynchronisationWarning: Set changed size during iteration (see https://github.com/tqdm/tqdm/issues/481)\n",
      "  TqdmSynchronisationWarning)\n"
     ]
    }
   ],
   "source": [
    "df_train.loc[df_train.Group=='fashion',['image_path','Category']].to_csv('train_fashion_all.csv',index=False)"
   ]
  },
  {
   "cell_type": "code",
   "execution_count": null,
   "metadata": {},
   "outputs": [],
   "source": [
    "# @classmethod\n",
    "#     def from_csv(cls, path, folder, csv_fname, bs=64, tfms=(None,None),\n",
    "#                val_idxs=None, suffix='', test_name=None, continuous=False, skip_header=True, num_workers=8):\n",
    "#         \"\"\" Read in images and their labels given as a CSV file.\n",
    "\n",
    "#         This method should be used when training image labels are given in an CSV file as opposed to\n",
    "#         sub-directories with label names.\n",
    "\n",
    "#         Arguments:\n",
    "#             path: a root path of the data (used for storing trained models, precomputed values, etc)\n",
    "#             folder: a name of the folder in which training images are contained.\n",
    "#             csv_fname: a name of the CSV file which contains target labels.\n",
    "#             bs: batch size\n",
    "#             tfms: transformations (for data augmentations). e.g. output of `tfms_from_model`\n",
    "#             val_idxs: index of images to be used for validation. e.g. output of `get_cv_idxs`.\n",
    "#                 If None, default arguments to get_cv_idxs are used.\n",
    "#             suffix: suffix to add to image names in CSV file (sometimes CSV only contains the file name without file\n",
    "#                     extension e.g. '.jpg' - in which case, you can set suffix as '.jpg')\n",
    "#             test_name: a name of the folder which contains test images.\n",
    "#             continuous: TODO\n",
    "#             skip_header: skip the first row of the CSV file.\n",
    "#             num_workers: number of workers\n",
    "\n",
    "#         Returns:\n",
    "#             ImageClassifierData"
   ]
  },
  {
   "cell_type": "code",
   "execution_count": 261,
   "metadata": {},
   "outputs": [
    {
     "data": {
      "text/plain": [
       "(219702, 2)"
      ]
     },
     "execution_count": 261,
     "metadata": {},
     "output_type": "execute_result"
    },
    {
     "name": "stderr",
     "output_type": "stream",
     "text": [
      "C:\\Users\\user\\Anaconda3\\envs\\fastai\\lib\\site-packages\\tqdm\\_monitor.py:89: TqdmSynchronisationWarning: Set changed size during iteration (see https://github.com/tqdm/tqdm/issues/481)\n",
      "  TqdmSynchronisationWarning)\n"
     ]
    }
   ],
   "source": [
    "df=pd.read_csv('train_fashion_all.csv')\n",
    "df.shape"
   ]
  },
  {
   "cell_type": "code",
   "execution_count": 264,
   "metadata": {},
   "outputs": [
    {
     "data": {
      "text/html": [
       "<div>\n",
       "<style scoped>\n",
       "    .dataframe tbody tr th:only-of-type {\n",
       "        vertical-align: middle;\n",
       "    }\n",
       "\n",
       "    .dataframe tbody tr th {\n",
       "        vertical-align: top;\n",
       "    }\n",
       "\n",
       "    .dataframe thead th {\n",
       "        text-align: right;\n",
       "    }\n",
       "</style>\n",
       "<table border=\"1\" class=\"dataframe\">\n",
       "  <thead>\n",
       "    <tr style=\"text-align: right;\">\n",
       "      <th></th>\n",
       "      <th>image_path</th>\n",
       "    </tr>\n",
       "    <tr>\n",
       "      <th>Category</th>\n",
       "      <th></th>\n",
       "    </tr>\n",
       "  </thead>\n",
       "  <tbody>\n",
       "    <tr>\n",
       "      <th>17</th>\n",
       "      <td>2765</td>\n",
       "    </tr>\n",
       "    <tr>\n",
       "      <th>18</th>\n",
       "      <td>56598</td>\n",
       "    </tr>\n",
       "    <tr>\n",
       "      <th>19</th>\n",
       "      <td>13493</td>\n",
       "    </tr>\n",
       "    <tr>\n",
       "      <th>20</th>\n",
       "      <td>19978</td>\n",
       "    </tr>\n",
       "    <tr>\n",
       "      <th>21</th>\n",
       "      <td>10483</td>\n",
       "    </tr>\n",
       "    <tr>\n",
       "      <th>22</th>\n",
       "      <td>15225</td>\n",
       "    </tr>\n",
       "    <tr>\n",
       "      <th>23</th>\n",
       "      <td>1671</td>\n",
       "    </tr>\n",
       "    <tr>\n",
       "      <th>24</th>\n",
       "      <td>4251</td>\n",
       "    </tr>\n",
       "    <tr>\n",
       "      <th>25</th>\n",
       "      <td>33922</td>\n",
       "    </tr>\n",
       "    <tr>\n",
       "      <th>26</th>\n",
       "      <td>33845</td>\n",
       "    </tr>\n",
       "    <tr>\n",
       "      <th>27</th>\n",
       "      <td>16199</td>\n",
       "    </tr>\n",
       "    <tr>\n",
       "      <th>28</th>\n",
       "      <td>6493</td>\n",
       "    </tr>\n",
       "    <tr>\n",
       "      <th>29</th>\n",
       "      <td>3338</td>\n",
       "    </tr>\n",
       "    <tr>\n",
       "      <th>30</th>\n",
       "      <td>1441</td>\n",
       "    </tr>\n",
       "  </tbody>\n",
       "</table>\n",
       "</div>"
      ],
      "text/plain": [
       "          image_path\n",
       "Category            \n",
       "17              2765\n",
       "18             56598\n",
       "19             13493\n",
       "20             19978\n",
       "21             10483\n",
       "22             15225\n",
       "23              1671\n",
       "24              4251\n",
       "25             33922\n",
       "26             33845\n",
       "27             16199\n",
       "28              6493\n",
       "29              3338\n",
       "30              1441"
      ]
     },
     "execution_count": 264,
     "metadata": {},
     "output_type": "execute_result"
    },
    {
     "name": "stderr",
     "output_type": "stream",
     "text": [
      "C:\\Users\\user\\Anaconda3\\envs\\fastai\\lib\\site-packages\\tqdm\\_monitor.py:89: TqdmSynchronisationWarning: Set changed size during iteration (see https://github.com/tqdm/tqdm/issues/481)\n",
      "  TqdmSynchronisationWarning)\n"
     ]
    }
   ],
   "source": [
    "df.groupby('Category').count()"
   ]
  },
  {
   "cell_type": "code",
   "execution_count": 279,
   "metadata": {},
   "outputs": [],
   "source": [
    "# We use 0.5% of data as validation set for final submission\n",
    "trn,tst=train_test_split(df,random_state=2019,stratify=df.Category,test_size=0.005)"
   ]
  },
  {
   "cell_type": "code",
   "execution_count": 280,
   "metadata": {
    "scrolled": true
   },
   "outputs": [
    {
     "data": {
      "text/html": [
       "<div>\n",
       "<style scoped>\n",
       "    .dataframe tbody tr th:only-of-type {\n",
       "        vertical-align: middle;\n",
       "    }\n",
       "\n",
       "    .dataframe tbody tr th {\n",
       "        vertical-align: top;\n",
       "    }\n",
       "\n",
       "    .dataframe thead th {\n",
       "        text-align: right;\n",
       "    }\n",
       "</style>\n",
       "<table border=\"1\" class=\"dataframe\">\n",
       "  <thead>\n",
       "    <tr style=\"text-align: right;\">\n",
       "      <th></th>\n",
       "      <th>image_path</th>\n",
       "    </tr>\n",
       "    <tr>\n",
       "      <th>Category</th>\n",
       "      <th></th>\n",
       "    </tr>\n",
       "  </thead>\n",
       "  <tbody>\n",
       "    <tr>\n",
       "      <th>17</th>\n",
       "      <td>14</td>\n",
       "    </tr>\n",
       "    <tr>\n",
       "      <th>18</th>\n",
       "      <td>283</td>\n",
       "    </tr>\n",
       "    <tr>\n",
       "      <th>19</th>\n",
       "      <td>68</td>\n",
       "    </tr>\n",
       "    <tr>\n",
       "      <th>20</th>\n",
       "      <td>100</td>\n",
       "    </tr>\n",
       "    <tr>\n",
       "      <th>21</th>\n",
       "      <td>52</td>\n",
       "    </tr>\n",
       "    <tr>\n",
       "      <th>22</th>\n",
       "      <td>76</td>\n",
       "    </tr>\n",
       "    <tr>\n",
       "      <th>23</th>\n",
       "      <td>8</td>\n",
       "    </tr>\n",
       "    <tr>\n",
       "      <th>24</th>\n",
       "      <td>21</td>\n",
       "    </tr>\n",
       "    <tr>\n",
       "      <th>25</th>\n",
       "      <td>170</td>\n",
       "    </tr>\n",
       "    <tr>\n",
       "      <th>26</th>\n",
       "      <td>169</td>\n",
       "    </tr>\n",
       "    <tr>\n",
       "      <th>27</th>\n",
       "      <td>81</td>\n",
       "    </tr>\n",
       "    <tr>\n",
       "      <th>28</th>\n",
       "      <td>33</td>\n",
       "    </tr>\n",
       "    <tr>\n",
       "      <th>29</th>\n",
       "      <td>17</td>\n",
       "    </tr>\n",
       "    <tr>\n",
       "      <th>30</th>\n",
       "      <td>7</td>\n",
       "    </tr>\n",
       "  </tbody>\n",
       "</table>\n",
       "</div>"
      ],
      "text/plain": [
       "          image_path\n",
       "Category            \n",
       "17                14\n",
       "18               283\n",
       "19                68\n",
       "20               100\n",
       "21                52\n",
       "22                76\n",
       "23                 8\n",
       "24                21\n",
       "25               170\n",
       "26               169\n",
       "27                81\n",
       "28                33\n",
       "29                17\n",
       "30                 7"
      ]
     },
     "execution_count": 280,
     "metadata": {},
     "output_type": "execute_result"
    },
    {
     "name": "stderr",
     "output_type": "stream",
     "text": [
      "C:\\Users\\user\\Anaconda3\\envs\\fastai\\lib\\site-packages\\tqdm\\_monitor.py:89: TqdmSynchronisationWarning: Set changed size during iteration (see https://github.com/tqdm/tqdm/issues/481)\n",
      "  TqdmSynchronisationWarning)\n"
     ]
    }
   ],
   "source": [
    "tst.groupby('Category').count()"
   ]
  },
  {
   "cell_type": "code",
   "execution_count": 285,
   "metadata": {},
   "outputs": [
    {
     "data": {
      "text/plain": [
       "(1099, 2)"
      ]
     },
     "execution_count": 285,
     "metadata": {},
     "output_type": "execute_result"
    },
    {
     "name": "stderr",
     "output_type": "stream",
     "text": [
      "C:\\Users\\user\\Anaconda3\\envs\\fastai\\lib\\site-packages\\tqdm\\_monitor.py:89: TqdmSynchronisationWarning: Set changed size during iteration (see https://github.com/tqdm/tqdm/issues/481)\n",
      "  TqdmSynchronisationWarning)\n"
     ]
    }
   ],
   "source": [
    "tst.shape"
   ]
  },
  {
   "cell_type": "code",
   "execution_count": 281,
   "metadata": {},
   "outputs": [],
   "source": [
    "PATH_fashion_all='C:/Users/user/Documents/Salamat/NDSC_2019'"
   ]
  },
  {
   "cell_type": "code",
   "execution_count": 282,
   "metadata": {},
   "outputs": [
    {
     "name": "stderr",
     "output_type": "stream",
     "text": [
      "C:\\Users\\user\\Anaconda3\\envs\\fastai\\lib\\site-packages\\tqdm\\_monitor.py:89: TqdmSynchronisationWarning: Set changed size during iteration (see https://github.com/tqdm/tqdm/issues/481)\n",
      "  TqdmSynchronisationWarning)\n"
     ]
    }
   ],
   "source": [
    "test_folder='C:/Users/user/Documents/Salamat/NDSC_2019/fashion_test'"
   ]
  },
  {
   "cell_type": "code",
   "execution_count": 283,
   "metadata": {},
   "outputs": [
    {
     "name": "stderr",
     "output_type": "stream",
     "text": [
      "C:\\Users\\user\\Anaconda3\\envs\\fastai\\lib\\site-packages\\tqdm\\_monitor.py:89: TqdmSynchronisationWarning: Set changed size during iteration (see https://github.com/tqdm/tqdm/issues/481)\n",
      "  TqdmSynchronisationWarning)\n"
     ]
    }
   ],
   "source": [
    "data_fashion_all = ImageClassifierData.from_csv(path=PATH_fashion_all,folder='fashion_image',tfms=tfms,csv_fname='train_fashion_all.csv', test_name='fashion_test',val_idxs=tst.index)"
   ]
  },
  {
   "cell_type": "code",
   "execution_count": 287,
   "metadata": {},
   "outputs": [
    {
     "data": {
      "text/plain": [
       "(1099,)"
      ]
     },
     "execution_count": 287,
     "metadata": {},
     "output_type": "execute_result"
    }
   ],
   "source": [
    "data_fashion_all.val_ds.fnames.shape"
   ]
  },
  {
   "cell_type": "code",
   "execution_count": 288,
   "metadata": {
    "hidden": true
   },
   "outputs": [
    {
     "name": "stderr",
     "output_type": "stream",
     "text": [
      "C:\\Users\\user\\Anaconda3\\envs\\fastai\\lib\\site-packages\\tqdm\\_monitor.py:89: TqdmSynchronisationWarning: Set changed size during iteration (see https://github.com/tqdm/tqdm/issues/481)\n",
      "  TqdmSynchronisationWarning)\n"
     ]
    },
    {
     "name": "stdout",
     "output_type": "stream",
     "text": [
      "100%|██████████████████████████████████████████████████████████████████████████████| 3416/3416 [34:45<00:00,  1.64it/s]\n",
      "100%|██████████████████████████████████████████████████████████████████████████████████| 18/18 [00:11<00:00,  1.61it/s]\n"
     ]
    }
   ],
   "source": [
    "#train to all data\n",
    "learn_all = ConvLearner.pretrained(arch, data_fashion_all, precompute=True)"
   ]
  },
  {
   "cell_type": "code",
   "execution_count": 289,
   "metadata": {
    "hidden": true,
    "scrolled": false
   },
   "outputs": [
    {
     "data": {
      "application/vnd.jupyter.widget-view+json": {
       "model_id": "f65f433d604647f09a3f385c05375973",
       "version_major": 2,
       "version_minor": 0
      },
      "text/plain": [
       "HBox(children=(IntProgress(value=0, description='Epoch', max=1), HTML(value='')))"
      ]
     },
     "metadata": {},
     "output_type": "display_data"
    },
    {
     "name": "stdout",
     "output_type": "stream",
     "text": [
      "  9%|██████▎                                                             | 317/3416 [00:03<00:31, 97.07it/s, loss=1.89]"
     ]
    },
    {
     "name": "stderr",
     "output_type": "stream",
     "text": [
      "C:\\Users\\user\\Anaconda3\\envs\\fastai\\lib\\site-packages\\tqdm\\_monitor.py:89: TqdmSynchronisationWarning: Set changed size during iteration (see https://github.com/tqdm/tqdm/issues/481)\n",
      "  TqdmSynchronisationWarning)\n"
     ]
    },
    {
     "name": "stdout",
     "output_type": "stream",
     "text": [
      "epoch      trn_loss   val_loss   accuracy                                                                              \n",
      "    0      1.741072   1.672771   0.427662  \n"
     ]
    },
    {
     "data": {
      "text/plain": [
       "[array([1.67277]), 0.4276615105996466]"
      ]
     },
     "execution_count": 289,
     "metadata": {},
     "output_type": "execute_result"
    }
   ],
   "source": [
    "learn_all.fit(1e-2, 1)"
   ]
  },
  {
   "cell_type": "code",
   "execution_count": 290,
   "metadata": {
    "hidden": true
   },
   "outputs": [],
   "source": [
    "learn_all.precompute=False"
   ]
  },
  {
   "cell_type": "markdown",
   "metadata": {
    "hidden": true
   },
   "source": [
    "By default when we create a learner, it sets all but the last layer to *frozen*. That means that it's still only updating the weights in the last layer when we call `fit`."
   ]
  },
  {
   "cell_type": "code",
   "execution_count": 291,
   "metadata": {
    "hidden": true,
    "scrolled": true
   },
   "outputs": [
    {
     "data": {
      "application/vnd.jupyter.widget-view+json": {
       "model_id": "1b505fc5487f4dc7ad4d4e850aa64360",
       "version_major": 2,
       "version_minor": 0
      },
      "text/plain": [
       "HBox(children=(IntProgress(value=0, description='Epoch', max=3), HTML(value='')))"
      ]
     },
     "metadata": {},
     "output_type": "display_data"
    },
    {
     "name": "stdout",
     "output_type": "stream",
     "text": [
      "  0%|▎                                                                    | 13/3416 [00:08<35:23,  1.60it/s, loss=1.74]"
     ]
    },
    {
     "name": "stderr",
     "output_type": "stream",
     "text": [
      "C:\\Users\\user\\Anaconda3\\envs\\fastai\\lib\\site-packages\\tqdm\\_monitor.py:89: TqdmSynchronisationWarning: Set changed size during iteration (see https://github.com/tqdm/tqdm/issues/481)\n",
      "  TqdmSynchronisationWarning)\n"
     ]
    },
    {
     "name": "stdout",
     "output_type": "stream",
     "text": [
      "epoch      trn_loss   val_loss   accuracy                                                                              \n",
      "    0      1.718533   1.643848   0.43949   \n",
      "    1      1.697864   1.638592   0.453139                                                                              \n",
      "    2      1.710803   1.628572   0.451319                                                                              \n"
     ]
    },
    {
     "data": {
      "text/plain": [
       "[array([1.62857]), 0.45131938136415767]"
      ]
     },
     "execution_count": 291,
     "metadata": {},
     "output_type": "execute_result"
    }
   ],
   "source": [
    "learn_all.fit(1e-2, 3, cycle_len=1)"
   ]
  },
  {
   "cell_type": "markdown",
   "metadata": {
    "hidden": true
   },
   "source": [
    "What is that `cycle_len` parameter? What we've done here is used a technique called *stochastic gradient descent with restarts (SGDR)*, a variant of *learning rate annealing*, which gradually decreases the learning rate as training progresses. This is helpful because as we get closer to the optimal weights, we want to take smaller steps.\n",
    "\n",
    "However, we may find ourselves in a part of the weight space that isn't very resilient - that is, small changes to the weights may result in big changes to the loss. We want to encourage our model to find parts of the weight space that are both accurate and stable. Therefore, from time to time we increase the learning rate (this is the 'restarts' in 'SGDR'), which will force the model to jump to a different part of the weight space if the current area is \"spikey\". Here's a picture of how that might look if we reset the learning rates 3 times (in this paper they call it a \"cyclic LR schedule\"):\n",
    "\n",
    "<img src=\"images/sgdr.png\" width=\"80%\">\n",
    "(From the paper [Snapshot Ensembles](https://arxiv.org/abs/1704.00109)).\n",
    "\n",
    "The number of epochs between resetting the learning rate is set by `cycle_len`, and the number of times this happens is refered to as the *number of cycles*, and is what we're actually passing as the 2nd parameter to `fit()`. So here's what our actual learning rates looked like:"
   ]
  },
  {
   "cell_type": "code",
   "execution_count": 299,
   "metadata": {
    "hidden": true
   },
   "outputs": [
    {
     "data": {
      "image/png": "[encoded data removed]",
      "text/plain": [
       "<Figure size 432x288 with 1 Axes>"
      ]
     },
     "metadata": {},
     "output_type": "display_data"
    },
    {
     "name": "stderr",
     "output_type": "stream",
     "text": [
      "C:\\Users\\user\\Anaconda3\\envs\\fastai\\lib\\site-packages\\tqdm\\_monitor.py:89: TqdmSynchronisationWarning: Set changed size during iteration (see https://github.com/tqdm/tqdm/issues/481)\n",
      "  TqdmSynchronisationWarning)\n"
     ]
    }
   ],
   "source": [
    "learn_all.sched.plot_lr()"
   ]
  },
  {
   "cell_type": "markdown",
   "metadata": {
    "hidden": true
   },
   "source": [
    "Our validation loss isn't improving much, so there's probably no point further training the last layer on its own."
   ]
  },
  {
   "cell_type": "markdown",
   "metadata": {
    "hidden": true
   },
   "source": [
    "Since we've got a pretty good model at this point, we might want to save it so we can load it again later without training it from scratch."
   ]
  },
  {
   "cell_type": "code",
   "execution_count": 293,
   "metadata": {
    "hidden": true
   },
   "outputs": [],
   "source": [
    "learn_all.save('fashion_all_data')"
   ]
  },
  {
   "cell_type": "code",
   "execution_count": 294,
   "metadata": {
    "hidden": true
   },
   "outputs": [],
   "source": [
    "learn_all.load('fashion_all_data')"
   ]
  },
  {
   "cell_type": "markdown",
   "metadata": {
    "heading_collapsed": true
   },
   "source": [
    "### Fine-tuning and differential learning rate annealing"
   ]
  },
  {
   "cell_type": "markdown",
   "metadata": {
    "hidden": true
   },
   "source": [
    "Now that we have a good final layer trained, we can try fine-tuning the other layers. To tell the learner that we want to unfreeze the remaining layers, just call (surprise surprise!) `unfreeze()`."
   ]
  },
  {
   "cell_type": "code",
   "execution_count": 295,
   "metadata": {
    "hidden": true
   },
   "outputs": [],
   "source": [
    "learn_all.unfreeze()"
   ]
  },
  {
   "cell_type": "markdown",
   "metadata": {
    "hidden": true
   },
   "source": [
    "Note that the other layers have *already* been trained to recognize imagenet photos (whereas our final layers where randomly initialized), so we want to be careful of not destroying the carefully tuned weights that are already there.\n",
    "\n",
    "Generally speaking, the earlier layers (as we've seen) have more general-purpose features. Therefore we would expect them to need less fine-tuning for new datasets. For this reason we will use different learning rates for different layers: the first few layers will be at 1e-4, the middle layers at 1e-3, and our FC layers we'll leave at 1e-2 as before. We refer to this as *differential learning rates*, although there's no standard name for this techique in the literature that we're aware of."
   ]
  },
  {
   "cell_type": "code",
   "execution_count": 296,
   "metadata": {
    "hidden": true
   },
   "outputs": [],
   "source": [
    "lr=np.array([1e-4,1e-3,1e-2])"
   ]
  },
  {
   "cell_type": "code",
   "execution_count": 297,
   "metadata": {
    "hidden": true,
    "scrolled": false
   },
   "outputs": [
    {
     "data": {
      "application/vnd.jupyter.widget-view+json": {
       "model_id": "e685975319754d19ace290c75b335c0a",
       "version_major": 2,
       "version_minor": 0
      },
      "text/plain": [
       "HBox(children=(IntProgress(value=0, description='Epoch', max=7), HTML(value='')))"
      ]
     },
     "metadata": {},
     "output_type": "display_data"
    },
    {
     "name": "stdout",
     "output_type": "stream",
     "text": [
      "\r",
      "  0%|                                                                                         | 0/3416 [00:00<?, ?it/s]"
     ]
    },
    {
     "name": "stderr",
     "output_type": "stream",
     "text": [
      "C:\\Users\\user\\Anaconda3\\envs\\fastai\\lib\\site-packages\\tqdm\\_monitor.py:89: TqdmSynchronisationWarning: Set changed size during iteration (see https://github.com/tqdm/tqdm/issues/481)\n",
      "  TqdmSynchronisationWarning)\n"
     ]
    },
    {
     "name": "stdout",
     "output_type": "stream",
     "text": [
      "epoch      trn_loss   val_loss   accuracy                                                                              \n",
      "    0      1.54168    1.514189   0.475887  \n",
      "    1      1.482808   1.464861   0.506824                                                                              \n",
      "    2      1.453404   1.453027   0.510464                                                                              \n",
      "    3      1.45609    1.433718   0.523203                                                                              \n",
      "    4      1.395816   1.412976   0.519563                                                                              \n",
      "    5      1.360002   1.40585    0.517743                                                                              \n",
      "    6      1.310152   1.409666   0.519563                                                                              \n"
     ]
    },
    {
     "data": {
      "text/plain": [
       "[array([1.40967]), 0.5195632394440506]"
      ]
     },
     "execution_count": 297,
     "metadata": {},
     "output_type": "execute_result"
    }
   ],
   "source": [
    "learn_all.fit(lr, 3, cycle_len=1, cycle_mult=2)"
   ]
  },
  {
   "cell_type": "markdown",
   "metadata": {
    "hidden": true
   },
   "source": [
    "Another trick we've used here is adding the `cycle_mult` parameter. Take a look at the following chart, and see if you can figure out what the parameter is doing:"
   ]
  },
  {
   "cell_type": "code",
   "execution_count": 298,
   "metadata": {
    "hidden": true
   },
   "outputs": [
    {
     "data": {
      "image/png": "[encoded data removed]",
      "text/plain": [
       "<Figure size 432x288 with 1 Axes>"
      ]
     },
     "metadata": {},
     "output_type": "display_data"
    }
   ],
   "source": [
    "learn_all.sched.plot_lr()"
   ]
  },
  {
   "cell_type": "markdown",
   "metadata": {
    "hidden": true
   },
   "source": [
    "Note that's what being plotted above is the learning rate of the *final layers*. The learning rates of the earlier layers are fixed at the same multiples of the final layer rates as we initially requested (i.e. the first layers have 100x smaller, and middle layers 10x smaller learning rates, since we set `lr=np.array([1e-4,1e-3,1e-2])`."
   ]
  },
  {
   "cell_type": "code",
   "execution_count": 300,
   "metadata": {
    "hidden": true
   },
   "outputs": [],
   "source": [
    "learn.save('fashion_all_data')"
   ]
  },
  {
   "cell_type": "code",
   "execution_count": 301,
   "metadata": {
    "hidden": true
   },
   "outputs": [
    {
     "name": "stderr",
     "output_type": "stream",
     "text": [
      "C:\\Users\\user\\Anaconda3\\envs\\fastai\\lib\\site-packages\\tqdm\\_monitor.py:89: TqdmSynchronisationWarning: Set changed size during iteration (see https://github.com/tqdm/tqdm/issues/481)\n",
      "  TqdmSynchronisationWarning)\n"
     ]
    }
   ],
   "source": [
    "learn.load('fashion_all_data')"
   ]
  },
  {
   "cell_type": "markdown",
   "metadata": {
    "hidden": true
   },
   "source": [
    "There is something else we can do with data augmentation: use it at *inference* time (also known as *test* time). Not surprisingly, this is known as *test time augmentation*, or just *TTA*.\n",
    "\n",
    "TTA simply makes predictions not just on the images in your validation set, but also makes predictions on a number of randomly augmented versions of them too (by default, it uses the original image along with 4 randomly augmented versions). It then takes the average prediction from these images, and uses that. To use TTA on the validation set, we can use the learner's `TTA()` method."
   ]
  },
  {
   "cell_type": "code",
   "execution_count": 302,
   "metadata": {
    "hidden": true,
    "scrolled": true
   },
   "outputs": [
    {
     "name": "stderr",
     "output_type": "stream",
     "text": [
      "C:\\Users\\user\\Anaconda3\\envs\\fastai\\lib\\site-packages\\tqdm\\_monitor.py:89: TqdmSynchronisationWarning: Set changed size during iteration (see https://github.com/tqdm/tqdm/issues/481)\n",
      "  TqdmSynchronisationWarning)\n"
     ]
    },
    {
     "name": "stdout",
     "output_type": "stream",
     "text": [
      "                                                                                                                       \r"
     ]
    }
   ],
   "source": [
    "log_preds,y = learn.TTA()\n",
    "probs = np.mean(np.exp(log_preds),0)"
   ]
  },
  {
   "cell_type": "code",
   "execution_count": 303,
   "metadata": {},
   "outputs": [
    {
     "data": {
      "text/plain": [
       "(43941,)"
      ]
     },
     "execution_count": 303,
     "metadata": {},
     "output_type": "execute_result"
    }
   ],
   "source": [
    "y.shape"
   ]
  },
  {
   "cell_type": "code",
   "execution_count": 304,
   "metadata": {
    "hidden": true,
    "scrolled": true
   },
   "outputs": [
    {
     "data": {
      "text/plain": [
       "0.5254090712546369"
      ]
     },
     "execution_count": 304,
     "metadata": {},
     "output_type": "execute_result"
    }
   ],
   "source": [
    "# We have improved quite significantly\n",
    "accuracy_np(probs, y)"
   ]
  },
  {
   "cell_type": "code",
   "execution_count": 305,
   "metadata": {
    "scrolled": true
   },
   "outputs": [
    {
     "name": "stderr",
     "output_type": "stream",
     "text": [
      "C:\\Users\\user\\Anaconda3\\envs\\fastai\\lib\\site-packages\\tqdm\\_monitor.py:89: TqdmSynchronisationWarning: Set changed size during iteration (see https://github.com/tqdm/tqdm/issues/481)\n",
      "  TqdmSynchronisationWarning)\n"
     ]
    },
    {
     "name": "stdout",
     "output_type": "stream",
     "text": [
      "                                                                                                                       \r"
     ]
    }
   ],
   "source": [
    "log_preds_test,y_test=learn.TTA(is_test=True)"
   ]
  },
  {
   "cell_type": "code",
   "execution_count": 306,
   "metadata": {},
   "outputs": [
    {
     "data": {
      "text/plain": [
       "(55440, 1)"
      ]
     },
     "execution_count": 306,
     "metadata": {},
     "output_type": "execute_result"
    },
    {
     "name": "stderr",
     "output_type": "stream",
     "text": [
      "C:\\Users\\user\\Anaconda3\\envs\\fastai\\lib\\site-packages\\tqdm\\_monitor.py:89: TqdmSynchronisationWarning: Set changed size during iteration (see https://github.com/tqdm/tqdm/issues/481)\n",
      "  TqdmSynchronisationWarning)\n"
     ]
    }
   ],
   "source": [
    "y_test.shape"
   ]
  },
  {
   "cell_type": "code",
   "execution_count": 307,
   "metadata": {},
   "outputs": [
    {
     "name": "stderr",
     "output_type": "stream",
     "text": [
      "C:\\Users\\user\\Anaconda3\\envs\\fastai\\lib\\site-packages\\tqdm\\_monitor.py:89: TqdmSynchronisationWarning: Set changed size during iteration (see https://github.com/tqdm/tqdm/issues/481)\n",
      "  TqdmSynchronisationWarning)\n"
     ]
    }
   ],
   "source": [
    "# Let's save test data\n",
    "# We need to take exp to get probabilities \n",
    "pred_fashion= np.mean(np.exp(log_preds_test),0)\n",
    "# get indexes of validation set\n",
    "val_idx_fashion=data_fashion_all.test_ds.fnames\n",
    "# Get classes might not be ordered\n",
    "cat_fashion=data_fashion_all.classes\n",
    "df_fashion=pd.DataFrame()\n",
    "df_fashion['image_path']=val_idx_fashion\n",
    "df_pred=pd.DataFrame(pred_fashion)\n",
    "df_pred.columns=cat_fashion\n",
    "df_fashion=pd.concat([df_fashion,df_pred],axis=1)\n",
    "df_fashion['final_pred']=df_fashion.iloc[:,1:].idxmax(axis=1)"
   ]
  },
  {
   "cell_type": "code",
   "execution_count": 308,
   "metadata": {
    "scrolled": true
   },
   "outputs": [
    {
     "data": {
      "text/html": [
       "<div>\n",
       "<style scoped>\n",
       "    .dataframe tbody tr th:only-of-type {\n",
       "        vertical-align: middle;\n",
       "    }\n",
       "\n",
       "    .dataframe tbody tr th {\n",
       "        vertical-align: top;\n",
       "    }\n",
       "\n",
       "    .dataframe thead th {\n",
       "        text-align: right;\n",
       "    }\n",
       "</style>\n",
       "<table border=\"1\" class=\"dataframe\">\n",
       "  <thead>\n",
       "    <tr style=\"text-align: right;\">\n",
       "      <th></th>\n",
       "      <th>image_path</th>\n",
       "      <th>17</th>\n",
       "      <th>18</th>\n",
       "      <th>19</th>\n",
       "      <th>20</th>\n",
       "      <th>21</th>\n",
       "      <th>22</th>\n",
       "      <th>23</th>\n",
       "      <th>24</th>\n",
       "      <th>25</th>\n",
       "      <th>26</th>\n",
       "      <th>27</th>\n",
       "      <th>28</th>\n",
       "      <th>29</th>\n",
       "      <th>30</th>\n",
       "      <th>final_pred</th>\n",
       "    </tr>\n",
       "  </thead>\n",
       "  <tbody>\n",
       "    <tr>\n",
       "      <th>0</th>\n",
       "      <td>fashion_test\\000006831bfaf0e3b5ce3564a10e6dd4.jpg</td>\n",
       "      <td>0.002599</td>\n",
       "      <td>0.026616</td>\n",
       "      <td>0.003207</td>\n",
       "      <td>0.004311</td>\n",
       "      <td>0.010198</td>\n",
       "      <td>0.002947</td>\n",
       "      <td>0.002231</td>\n",
       "      <td>0.001998</td>\n",
       "      <td>0.049860</td>\n",
       "      <td>0.462053</td>\n",
       "      <td>0.393465</td>\n",
       "      <td>0.025060</td>\n",
       "      <td>0.005189</td>\n",
       "      <td>0.010268</td>\n",
       "      <td>26</td>\n",
       "    </tr>\n",
       "    <tr>\n",
       "      <th>1</th>\n",
       "      <td>fashion_test\\0001962ef76356a9168cd3098002851c.jpg</td>\n",
       "      <td>0.007354</td>\n",
       "      <td>0.047755</td>\n",
       "      <td>0.003354</td>\n",
       "      <td>0.022887</td>\n",
       "      <td>0.006233</td>\n",
       "      <td>0.005885</td>\n",
       "      <td>0.000382</td>\n",
       "      <td>0.004440</td>\n",
       "      <td>0.795491</td>\n",
       "      <td>0.086412</td>\n",
       "      <td>0.010501</td>\n",
       "      <td>0.002277</td>\n",
       "      <td>0.001965</td>\n",
       "      <td>0.005064</td>\n",
       "      <td>25</td>\n",
       "    </tr>\n",
       "    <tr>\n",
       "      <th>2</th>\n",
       "      <td>fashion_test\\0002a0499445c2828b401ad871199c02.jpg</td>\n",
       "      <td>0.006748</td>\n",
       "      <td>0.074415</td>\n",
       "      <td>0.004363</td>\n",
       "      <td>0.007021</td>\n",
       "      <td>0.007290</td>\n",
       "      <td>0.005934</td>\n",
       "      <td>0.000474</td>\n",
       "      <td>0.028393</td>\n",
       "      <td>0.607281</td>\n",
       "      <td>0.182349</td>\n",
       "      <td>0.016107</td>\n",
       "      <td>0.008818</td>\n",
       "      <td>0.015943</td>\n",
       "      <td>0.034863</td>\n",
       "      <td>25</td>\n",
       "    </tr>\n",
       "    <tr>\n",
       "      <th>3</th>\n",
       "      <td>fashion_test\\0002cff2fe0c248e758eafe094e2006d.jpg</td>\n",
       "      <td>0.006911</td>\n",
       "      <td>0.011398</td>\n",
       "      <td>0.000736</td>\n",
       "      <td>0.001386</td>\n",
       "      <td>0.001483</td>\n",
       "      <td>0.000659</td>\n",
       "      <td>0.000157</td>\n",
       "      <td>0.005019</td>\n",
       "      <td>0.605978</td>\n",
       "      <td>0.269914</td>\n",
       "      <td>0.043375</td>\n",
       "      <td>0.003732</td>\n",
       "      <td>0.016709</td>\n",
       "      <td>0.032542</td>\n",
       "      <td>25</td>\n",
       "    </tr>\n",
       "    <tr>\n",
       "      <th>4</th>\n",
       "      <td>fashion_test\\0002e6cb7533eb7d8c71a639b53f0545.jpg</td>\n",
       "      <td>0.002108</td>\n",
       "      <td>0.001908</td>\n",
       "      <td>0.000549</td>\n",
       "      <td>0.000059</td>\n",
       "      <td>0.000072</td>\n",
       "      <td>0.000076</td>\n",
       "      <td>0.000038</td>\n",
       "      <td>0.000861</td>\n",
       "      <td>0.019843</td>\n",
       "      <td>0.895731</td>\n",
       "      <td>0.026775</td>\n",
       "      <td>0.000426</td>\n",
       "      <td>0.003842</td>\n",
       "      <td>0.047711</td>\n",
       "      <td>26</td>\n",
       "    </tr>\n",
       "  </tbody>\n",
       "</table>\n",
       "</div>"
      ],
      "text/plain": [
       "                                          image_path        17        18  \\\n",
       "0  fashion_test\\000006831bfaf0e3b5ce3564a10e6dd4.jpg  0.002599  0.026616   \n",
       "1  fashion_test\\0001962ef76356a9168cd3098002851c.jpg  0.007354  0.047755   \n",
       "2  fashion_test\\0002a0499445c2828b401ad871199c02.jpg  0.006748  0.074415   \n",
       "3  fashion_test\\0002cff2fe0c248e758eafe094e2006d.jpg  0.006911  0.011398   \n",
       "4  fashion_test\\0002e6cb7533eb7d8c71a639b53f0545.jpg  0.002108  0.001908   \n",
       "\n",
       "         19        20        21        22        23        24        25  \\\n",
       "0  0.003207  0.004311  0.010198  0.002947  0.002231  0.001998  0.049860   \n",
       "1  0.003354  0.022887  0.006233  0.005885  0.000382  0.004440  0.795491   \n",
       "2  0.004363  0.007021  0.007290  0.005934  0.000474  0.028393  0.607281   \n",
       "3  0.000736  0.001386  0.001483  0.000659  0.000157  0.005019  0.605978   \n",
       "4  0.000549  0.000059  0.000072  0.000076  0.000038  0.000861  0.019843   \n",
       "\n",
       "         26        27        28        29        30 final_pred  \n",
       "0  0.462053  0.393465  0.025060  0.005189  0.010268         26  \n",
       "1  0.086412  0.010501  0.002277  0.001965  0.005064         25  \n",
       "2  0.182349  0.016107  0.008818  0.015943  0.034863         25  \n",
       "3  0.269914  0.043375  0.003732  0.016709  0.032542         25  \n",
       "4  0.895731  0.026775  0.000426  0.003842  0.047711         26  "
      ]
     },
     "execution_count": 308,
     "metadata": {},
     "output_type": "execute_result"
    },
    {
     "name": "stderr",
     "output_type": "stream",
     "text": [
      "C:\\Users\\user\\Anaconda3\\envs\\fastai\\lib\\site-packages\\tqdm\\_monitor.py:89: TqdmSynchronisationWarning: Set changed size during iteration (see https://github.com/tqdm/tqdm/issues/481)\n",
      "  TqdmSynchronisationWarning)\n"
     ]
    }
   ],
   "source": [
    "df_fashion.head()"
   ]
  },
  {
   "cell_type": "code",
   "execution_count": 314,
   "metadata": {},
   "outputs": [
    {
     "name": "stderr",
     "output_type": "stream",
     "text": [
      "C:\\Users\\user\\Anaconda3\\envs\\fastai\\lib\\site-packages\\tqdm\\_monitor.py:89: TqdmSynchronisationWarning: Set changed size during iteration (see https://github.com/tqdm/tqdm/issues/481)\n",
      "  TqdmSynchronisationWarning)\n"
     ]
    }
   ],
   "source": [
    "df_fashion.loc[:,'image_path']=df_fashion['image_path'].map(lambda x: x[13:])"
   ]
  },
  {
   "cell_type": "code",
   "execution_count": 315,
   "metadata": {
    "scrolled": true
   },
   "outputs": [
    {
     "data": {
      "text/html": [
       "<div>\n",
       "<style scoped>\n",
       "    .dataframe tbody tr th:only-of-type {\n",
       "        vertical-align: middle;\n",
       "    }\n",
       "\n",
       "    .dataframe tbody tr th {\n",
       "        vertical-align: top;\n",
       "    }\n",
       "\n",
       "    .dataframe thead th {\n",
       "        text-align: right;\n",
       "    }\n",
       "</style>\n",
       "<table border=\"1\" class=\"dataframe\">\n",
       "  <thead>\n",
       "    <tr style=\"text-align: right;\">\n",
       "      <th></th>\n",
       "      <th>itemid</th>\n",
       "      <th>title</th>\n",
       "      <th>image_path</th>\n",
       "      <th>Group</th>\n",
       "    </tr>\n",
       "  </thead>\n",
       "  <tbody>\n",
       "    <tr>\n",
       "      <th>76545</th>\n",
       "      <td>670968580</td>\n",
       "      <td>women casual o neck long sleeve lace patchwork...</td>\n",
       "      <td>b0ca9645c5c3527882d935f17b4c9579.jpg</td>\n",
       "      <td>fashion</td>\n",
       "    </tr>\n",
       "    <tr>\n",
       "      <th>76546</th>\n",
       "      <td>475599610</td>\n",
       "      <td>zaful long dress vintage wanita v neck lengan ...</td>\n",
       "      <td>c74af2636e9fe2686981decce3ca5b6c.jpg</td>\n",
       "      <td>fashion</td>\n",
       "    </tr>\n",
       "    <tr>\n",
       "      <th>76547</th>\n",
       "      <td>1652671018</td>\n",
       "      <td>dress skater swing o neck tanpa lengan desain ...</td>\n",
       "      <td>1f2a2d91f5eb2d80f1dfdcf0b1f50169.jpg</td>\n",
       "      <td>fashion</td>\n",
       "    </tr>\n",
       "    <tr>\n",
       "      <th>76548</th>\n",
       "      <td>1705634904</td>\n",
       "      <td>ok dress slim sexy deep v neck lengan panjang ...</td>\n",
       "      <td>fdb6309635ebb5eac5df9c61984ffce5.jpg</td>\n",
       "      <td>fashion</td>\n",
       "    </tr>\n",
       "    <tr>\n",
       "      <th>76549</th>\n",
       "      <td>1789421087</td>\n",
       "      <td>noa korean lace embroidery womens crew neck lo...</td>\n",
       "      <td>578e5c74e97128cd25378ef0f0c021cf.jpg</td>\n",
       "      <td>fashion</td>\n",
       "    </tr>\n",
       "  </tbody>\n",
       "</table>\n",
       "</div>"
      ],
      "text/plain": [
       "           itemid                                              title  \\\n",
       "76545   670968580  women casual o neck long sleeve lace patchwork...   \n",
       "76546   475599610  zaful long dress vintage wanita v neck lengan ...   \n",
       "76547  1652671018  dress skater swing o neck tanpa lengan desain ...   \n",
       "76548  1705634904  ok dress slim sexy deep v neck lengan panjang ...   \n",
       "76549  1789421087  noa korean lace embroidery womens crew neck lo...   \n",
       "\n",
       "                                 image_path    Group  \n",
       "76545  b0ca9645c5c3527882d935f17b4c9579.jpg  fashion  \n",
       "76546  c74af2636e9fe2686981decce3ca5b6c.jpg  fashion  \n",
       "76547  1f2a2d91f5eb2d80f1dfdcf0b1f50169.jpg  fashion  \n",
       "76548  fdb6309635ebb5eac5df9c61984ffce5.jpg  fashion  \n",
       "76549  578e5c74e97128cd25378ef0f0c021cf.jpg  fashion  "
      ]
     },
     "execution_count": 315,
     "metadata": {},
     "output_type": "execute_result"
    },
    {
     "name": "stderr",
     "output_type": "stream",
     "text": [
      "C:\\Users\\user\\Anaconda3\\envs\\fastai\\lib\\site-packages\\tqdm\\_monitor.py:89: TqdmSynchronisationWarning: Set changed size during iteration (see https://github.com/tqdm/tqdm/issues/481)\n",
      "  TqdmSynchronisationWarning)\n"
     ]
    }
   ],
   "source": [
    "df_test[df_test.Group=='fashion'].head()"
   ]
  },
  {
   "cell_type": "code",
   "execution_count": 316,
   "metadata": {
    "scrolled": true
   },
   "outputs": [
    {
     "name": "stderr",
     "output_type": "stream",
     "text": [
      "C:\\Users\\user\\Anaconda3\\envs\\fastai\\lib\\site-packages\\tqdm\\_monitor.py:89: TqdmSynchronisationWarning: Set changed size during iteration (see https://github.com/tqdm/tqdm/issues/481)\n",
      "  TqdmSynchronisationWarning)\n"
     ]
    }
   ],
   "source": [
    "df_val=df_test[df_test.Group=='fashion'][['itemid','image_path']].merge(df_fashion,on='image_path')\n",
    "df_val.set_index('itemid',inplace=True)\n",
    "df_val=df_val.loc[df_test[df_test.Group=='fashion'].itemid,:]\n",
    "df_val.reset_index(inplace=True)\n",
    "df_val.to_csv('test_all_fashion_v2.csv')"
   ]
  },
  {
   "cell_type": "code",
   "execution_count": null,
   "metadata": {},
   "outputs": [],
   "source": []
  },
  {
   "cell_type": "code",
   "execution_count": null,
   "metadata": {},
   "outputs": [],
   "source": []
  },
  {
   "cell_type": "code",
   "execution_count": null,
   "metadata": {},
   "outputs": [],
   "source": []
  },
  {
   "cell_type": "code",
   "execution_count": 201,
   "metadata": {},
   "outputs": [],
   "source": [
    "# Now, everything is good. We can Save all of thee files\n",
    "\n",
    "df_beauty.to_csv('val_beauty.csv',index=False)\n",
    "df_mobile.to_csv('val_mobile.csv',index=False)\n",
    "df_fashion.to_csv('val_fashion.csv',index=False)"
   ]
  },
  {
   "cell_type": "code",
   "execution_count": 202,
   "metadata": {},
   "outputs": [],
   "source": [
    "# Let's get predictioons for test samples\n",
    "test_beauty=learn_beauty.predict(is_test=True)\n",
    "test_mobile=learn_mobile.predict(is_test=True)\n",
    "test_fashion=learn_fashion.predict(is_test=True)"
   ]
  },
  {
   "cell_type": "code",
   "execution_count": 204,
   "metadata": {
    "scrolled": true
   },
   "outputs": [],
   "source": [
    "#Let's change logits to probabilites\n",
    "test_beauty=np.exp(test_beauty)\n",
    "test_mobile=np.exp(test_mobile)\n",
    "test_fashion=np.exp(test_fashion)\n"
   ]
  },
  {
   "cell_type": "code",
   "execution_count": 205,
   "metadata": {},
   "outputs": [],
   "source": [
    "# get indexes of validation set\n",
    "test_idx_beauty=data_beauty.test_ds.fnames\n",
    "test_idx_mobile=data_mobile.test_ds.fnames\n",
    "test_idx_fashion=data_fashion.test_ds.fnames\n"
   ]
  },
  {
   "cell_type": "code",
   "execution_count": 210,
   "metadata": {},
   "outputs": [],
   "source": [
    "df_beauty_test=pd.DataFrame()\n",
    "df_beauty_test['image_path']=test_idx_beauty\n",
    "df_pred=pd.DataFrame(test_beauty)\n",
    "df_pred.columns=cat_beauty\n",
    "df_beauty_test=pd.concat([df_beauty_test,df_pred],axis=1)\n",
    "df_beauty_test['pred']=df_beauty_test.iloc[:,1:].idxmax(axis=1)\n"
   ]
  },
  {
   "cell_type": "code",
   "execution_count": 213,
   "metadata": {},
   "outputs": [],
   "source": [
    "df_mobile_test=pd.DataFrame()\n",
    "df_mobile_test['image_path']=test_idx_mobile\n",
    "df_pred=pd.DataFrame(test_mobile)\n",
    "df_pred.columns=cat_mobile\n",
    "df_mobile_test=pd.concat([df_mobile_test,df_pred],axis=1)\n",
    "df_mobile_test['pred']=df_mobile_test.iloc[:,1:].idxmax(axis=1)"
   ]
  },
  {
   "cell_type": "code",
   "execution_count": 215,
   "metadata": {},
   "outputs": [],
   "source": [
    "df_fashion_test=pd.DataFrame()\n",
    "df_fashion_test['image_path']=test_idx_fashion\n",
    "df_pred=pd.DataFrame(test_fashion)\n",
    "df_pred.columns=cat_fashion\n",
    "df_fashion_test=pd.concat([df_fashion_test,df_pred],axis=1)\n",
    "df_fashion_test['pred']=df_fashion_test.iloc[:,1:].idxmax(axis=1)"
   ]
  },
  {
   "cell_type": "code",
   "execution_count": 217,
   "metadata": {},
   "outputs": [
    {
     "data": {
      "text/html": [
       "<div>\n",
       "<style scoped>\n",
       "    .dataframe tbody tr th:only-of-type {\n",
       "        vertical-align: middle;\n",
       "    }\n",
       "\n",
       "    .dataframe tbody tr th {\n",
       "        vertical-align: top;\n",
       "    }\n",
       "\n",
       "    .dataframe thead th {\n",
       "        text-align: right;\n",
       "    }\n",
       "</style>\n",
       "<table border=\"1\" class=\"dataframe\">\n",
       "  <thead>\n",
       "    <tr style=\"text-align: right;\">\n",
       "      <th></th>\n",
       "      <th>image_path</th>\n",
       "      <th>17</th>\n",
       "      <th>18</th>\n",
       "      <th>19</th>\n",
       "      <th>20</th>\n",
       "      <th>21</th>\n",
       "      <th>22</th>\n",
       "      <th>23</th>\n",
       "      <th>24</th>\n",
       "      <th>25</th>\n",
       "      <th>26</th>\n",
       "      <th>27</th>\n",
       "      <th>28</th>\n",
       "      <th>29</th>\n",
       "      <th>30</th>\n",
       "      <th>pred</th>\n",
       "    </tr>\n",
       "  </thead>\n",
       "  <tbody>\n",
       "    <tr>\n",
       "      <th>0</th>\n",
       "      <td>test\\000006831bfaf0e3b5ce3564a10e6dd4.jpg</td>\n",
       "      <td>0.000946</td>\n",
       "      <td>0.050849</td>\n",
       "      <td>0.003765</td>\n",
       "      <td>0.003177</td>\n",
       "      <td>0.021657</td>\n",
       "      <td>0.004581</td>\n",
       "      <td>0.000909</td>\n",
       "      <td>0.002561</td>\n",
       "      <td>0.057567</td>\n",
       "      <td>0.382240</td>\n",
       "      <td>0.217111</td>\n",
       "      <td>0.229911</td>\n",
       "      <td>0.004436</td>\n",
       "      <td>0.020290</td>\n",
       "      <td>26</td>\n",
       "    </tr>\n",
       "    <tr>\n",
       "      <th>1</th>\n",
       "      <td>test\\0001962ef76356a9168cd3098002851c.jpg</td>\n",
       "      <td>0.000434</td>\n",
       "      <td>0.001739</td>\n",
       "      <td>0.000092</td>\n",
       "      <td>0.001255</td>\n",
       "      <td>0.000315</td>\n",
       "      <td>0.000325</td>\n",
       "      <td>0.000005</td>\n",
       "      <td>0.000035</td>\n",
       "      <td>0.874401</td>\n",
       "      <td>0.108420</td>\n",
       "      <td>0.007087</td>\n",
       "      <td>0.002389</td>\n",
       "      <td>0.001860</td>\n",
       "      <td>0.001643</td>\n",
       "      <td>25</td>\n",
       "    </tr>\n",
       "    <tr>\n",
       "      <th>2</th>\n",
       "      <td>test\\0002a0499445c2828b401ad871199c02.jpg</td>\n",
       "      <td>0.001575</td>\n",
       "      <td>0.010341</td>\n",
       "      <td>0.000643</td>\n",
       "      <td>0.000313</td>\n",
       "      <td>0.000838</td>\n",
       "      <td>0.000396</td>\n",
       "      <td>0.000022</td>\n",
       "      <td>0.001580</td>\n",
       "      <td>0.768305</td>\n",
       "      <td>0.166349</td>\n",
       "      <td>0.031871</td>\n",
       "      <td>0.000635</td>\n",
       "      <td>0.001030</td>\n",
       "      <td>0.016101</td>\n",
       "      <td>25</td>\n",
       "    </tr>\n",
       "    <tr>\n",
       "      <th>3</th>\n",
       "      <td>test\\0002cff2fe0c248e758eafe094e2006d.jpg</td>\n",
       "      <td>0.008726</td>\n",
       "      <td>0.075359</td>\n",
       "      <td>0.028702</td>\n",
       "      <td>0.016549</td>\n",
       "      <td>0.003615</td>\n",
       "      <td>0.021170</td>\n",
       "      <td>0.000387</td>\n",
       "      <td>0.004302</td>\n",
       "      <td>0.198011</td>\n",
       "      <td>0.462284</td>\n",
       "      <td>0.098274</td>\n",
       "      <td>0.045979</td>\n",
       "      <td>0.025684</td>\n",
       "      <td>0.010957</td>\n",
       "      <td>26</td>\n",
       "    </tr>\n",
       "    <tr>\n",
       "      <th>4</th>\n",
       "      <td>test\\0002e6cb7533eb7d8c71a639b53f0545.jpg</td>\n",
       "      <td>0.005064</td>\n",
       "      <td>0.022101</td>\n",
       "      <td>0.012016</td>\n",
       "      <td>0.000943</td>\n",
       "      <td>0.000447</td>\n",
       "      <td>0.002340</td>\n",
       "      <td>0.000131</td>\n",
       "      <td>0.001222</td>\n",
       "      <td>0.090745</td>\n",
       "      <td>0.779530</td>\n",
       "      <td>0.060535</td>\n",
       "      <td>0.001804</td>\n",
       "      <td>0.008526</td>\n",
       "      <td>0.014597</td>\n",
       "      <td>26</td>\n",
       "    </tr>\n",
       "  </tbody>\n",
       "</table>\n",
       "</div>"
      ],
      "text/plain": [
       "                                  image_path        17        18        19  \\\n",
       "0  test\\000006831bfaf0e3b5ce3564a10e6dd4.jpg  0.000946  0.050849  0.003765   \n",
       "1  test\\0001962ef76356a9168cd3098002851c.jpg  0.000434  0.001739  0.000092   \n",
       "2  test\\0002a0499445c2828b401ad871199c02.jpg  0.001575  0.010341  0.000643   \n",
       "3  test\\0002cff2fe0c248e758eafe094e2006d.jpg  0.008726  0.075359  0.028702   \n",
       "4  test\\0002e6cb7533eb7d8c71a639b53f0545.jpg  0.005064  0.022101  0.012016   \n",
       "\n",
       "         20        21        22        23        24        25        26  \\\n",
       "0  0.003177  0.021657  0.004581  0.000909  0.002561  0.057567  0.382240   \n",
       "1  0.001255  0.000315  0.000325  0.000005  0.000035  0.874401  0.108420   \n",
       "2  0.000313  0.000838  0.000396  0.000022  0.001580  0.768305  0.166349   \n",
       "3  0.016549  0.003615  0.021170  0.000387  0.004302  0.198011  0.462284   \n",
       "4  0.000943  0.000447  0.002340  0.000131  0.001222  0.090745  0.779530   \n",
       "\n",
       "         27        28        29        30 pred  \n",
       "0  0.217111  0.229911  0.004436  0.020290   26  \n",
       "1  0.007087  0.002389  0.001860  0.001643   25  \n",
       "2  0.031871  0.000635  0.001030  0.016101   25  \n",
       "3  0.098274  0.045979  0.025684  0.010957   26  \n",
       "4  0.060535  0.001804  0.008526  0.014597   26  "
      ]
     },
     "execution_count": 217,
     "metadata": {},
     "output_type": "execute_result"
    }
   ],
   "source": [
    "df_fashion_test.head()"
   ]
  },
  {
   "cell_type": "code",
   "execution_count": 221,
   "metadata": {},
   "outputs": [],
   "source": [
    "# Remove test/ from path\n",
    "df_fashion_test['image_path']=df_fashion_test['image_path'].map(lambda x: x[5:])\n",
    "df_beauty_test['image_path']=df_beauty_test['image_path'].map(lambda x: x[5:])\n",
    "df_mobile_test['image_path']=df_mobile_test['image_path'].map(lambda x: x[5:])"
   ]
  },
  {
   "cell_type": "code",
   "execution_count": 223,
   "metadata": {},
   "outputs": [],
   "source": [
    "df_beauty_test.to_csv('test_beauty.csv',index=False)\n",
    "df_mobile_test.to_csv('test_mobile.csv',index=False)\n",
    "df_fashion_test.to_csv('test_fashion.csv',index=False)"
   ]
  },
  {
   "cell_type": "code",
   "execution_count": 229,
   "metadata": {},
   "outputs": [],
   "source": [
    "# Let's do our first submission with images only. Let's remove folders from path\n",
    "df_test.loc[(df_test.Group=='beauty_'),'image_path']=df_test.loc[(df_test.Group=='beauty_'),'image_path'].map(lambda x:x[13:])"
   ]
  },
  {
   "cell_type": "code",
   "execution_count": 232,
   "metadata": {},
   "outputs": [],
   "source": [
    "df_test.loc[(df_test.Group=='mobile_'),'image_path']=df_test.loc[(df_test.Group=='mobile_'),'image_path'].map(lambda x:x[13:])"
   ]
  },
  {
   "cell_type": "code",
   "execution_count": 235,
   "metadata": {},
   "outputs": [],
   "source": [
    "df_test.loc[(df_test.Group=='fashion'),'image_path']=df_test.loc[(df_test.Group=='fashion'),'image_path'].map(lambda x:x[14:])"
   ]
  },
  {
   "cell_type": "code",
   "execution_count": 244,
   "metadata": {},
   "outputs": [],
   "source": [
    "df=pd.concat([df_beauty_test,df_fashion_test,df_mobile_test],axis=0)\n",
    "df=df[['image_path','pred']]"
   ]
  },
  {
   "cell_type": "code",
   "execution_count": 245,
   "metadata": {},
   "outputs": [
    {
     "data": {
      "text/html": [
       "<div>\n",
       "<style scoped>\n",
       "    .dataframe tbody tr th:only-of-type {\n",
       "        vertical-align: middle;\n",
       "    }\n",
       "\n",
       "    .dataframe tbody tr th {\n",
       "        vertical-align: top;\n",
       "    }\n",
       "\n",
       "    .dataframe thead th {\n",
       "        text-align: right;\n",
       "    }\n",
       "</style>\n",
       "<table border=\"1\" class=\"dataframe\">\n",
       "  <thead>\n",
       "    <tr style=\"text-align: right;\">\n",
       "      <th></th>\n",
       "      <th>image_path</th>\n",
       "      <th>pred</th>\n",
       "    </tr>\n",
       "  </thead>\n",
       "  <tbody>\n",
       "    <tr>\n",
       "      <th>0</th>\n",
       "      <td>0000152e7d1cf21228cdd0e2e195aff8.jpg</td>\n",
       "      <td>12</td>\n",
       "    </tr>\n",
       "    <tr>\n",
       "      <th>1</th>\n",
       "      <td>00005d4b09cb3033698d9f1b98a9c04b.jpg</td>\n",
       "      <td>12</td>\n",
       "    </tr>\n",
       "    <tr>\n",
       "      <th>2</th>\n",
       "      <td>000136e7af78ea0dc0c4596c5b62b750.jpg</td>\n",
       "      <td>12</td>\n",
       "    </tr>\n",
       "    <tr>\n",
       "      <th>3</th>\n",
       "      <td>0001f92fdbbe7f630cf15ebb5b1c9b7d.jpg</td>\n",
       "      <td>12</td>\n",
       "    </tr>\n",
       "    <tr>\n",
       "      <th>4</th>\n",
       "      <td>0002021f41e1493e8cc7054fb30e048c.jpg</td>\n",
       "      <td>13</td>\n",
       "    </tr>\n",
       "  </tbody>\n",
       "</table>\n",
       "</div>"
      ],
      "text/plain": [
       "                             image_path pred\n",
       "0  0000152e7d1cf21228cdd0e2e195aff8.jpg   12\n",
       "1  00005d4b09cb3033698d9f1b98a9c04b.jpg   12\n",
       "2  000136e7af78ea0dc0c4596c5b62b750.jpg   12\n",
       "3  0001f92fdbbe7f630cf15ebb5b1c9b7d.jpg   12\n",
       "4  0002021f41e1493e8cc7054fb30e048c.jpg   13"
      ]
     },
     "execution_count": 245,
     "metadata": {},
     "output_type": "execute_result"
    }
   ],
   "source": [
    "df.head()"
   ]
  },
  {
   "cell_type": "code",
   "execution_count": 249,
   "metadata": {},
   "outputs": [],
   "source": [
    "df_sub=df_test.merge(df,on='image_path')[['itemid','pred']]"
   ]
  },
  {
   "cell_type": "code",
   "execution_count": 254,
   "metadata": {},
   "outputs": [],
   "source": [
    "df_sub.columns=['itemid','Category']"
   ]
  },
  {
   "cell_type": "code",
   "execution_count": 255,
   "metadata": {},
   "outputs": [],
   "source": [
    "#LB: 0.59715\n",
    "df_sub.to_csv('image_classification_1.csv',index=False)"
   ]
  },
  {
   "cell_type": "code",
   "execution_count": 60,
   "metadata": {},
   "outputs": [
    {
     "data": {
      "text/plain": [
       "0.5250904622106916"
      ]
     },
     "execution_count": 60,
     "metadata": {},
     "output_type": "execute_result"
    }
   ],
   "source": [
    "accuracy_np(probs, y)"
   ]
  },
  {
   "cell_type": "markdown",
   "metadata": {},
   "source": [
    "# I tried to train with augumentation several times until validation accuracy reaches min value . But it turns out that accuracy doesn't improve in that case. Using original code seems to give best results. Let's save this results for now. Later we will try other architectures such as resnet50 and vgg16 and etc."
   ]
  },
  {
   "cell_type": "markdown",
   "metadata": {
    "hidden": true
   },
   "source": [
    "I generally see about a 10-20% reduction in error on this dataset when using TTA at this point, which is an amazing result for such a quick and easy technique!"
   ]
  },
  {
   "cell_type": "code",
   "execution_count": null,
   "metadata": {},
   "outputs": [],
   "source": []
  },
  {
   "cell_type": "markdown",
   "metadata": {},
   "source": [
    "## Analyzing results"
   ]
  },
  {
   "cell_type": "markdown",
   "metadata": {
    "heading_collapsed": true
   },
   "source": [
    "### Confusion matrix "
   ]
  },
  {
   "cell_type": "code",
   "execution_count": 49,
   "metadata": {
    "hidden": true
   },
   "outputs": [],
   "source": [
    "preds = np.argmax(probs, axis=1)\n",
    "probs = probs[:,1]"
   ]
  },
  {
   "cell_type": "markdown",
   "metadata": {
    "hidden": true
   },
   "source": [
    "A common way to analyze the result of a classification model is to use a [confusion matrix](http://www.dataschool.io/simple-guide-to-confusion-matrix-terminology/). Scikit-learn has a convenient function we can use for this purpose:"
   ]
  },
  {
   "cell_type": "code",
   "execution_count": 50,
   "metadata": {
    "hidden": true
   },
   "outputs": [],
   "source": [
    "from sklearn.metrics import confusion_matrix\n",
    "cm = confusion_matrix(y, preds)"
   ]
  },
  {
   "cell_type": "markdown",
   "metadata": {
    "hidden": true
   },
   "source": [
    "We can just print out the confusion matrix, or we can show a graphical view (which is mainly useful for dependents with a larger number of categories)."
   ]
  },
  {
   "cell_type": "code",
   "execution_count": 51,
   "metadata": {
    "hidden": true,
    "scrolled": true
   },
   "outputs": [
    {
     "name": "stdout",
     "output_type": "stream",
     "text": [
      "[[   2  218  112   40    0    5    2    0   73   65   26    9    1    0]\n",
      " [   0 8971  456  902   50  114   26    9  300  337   85   58   11    0]\n",
      " [   0 1217  976  319   16   29   28    2   20   76    8    6    2    0]\n",
      " [   1 1704  261 1863    7   12   19    0   40   72    6    8    3    0]\n",
      " [   1 1648   65  177   61   19    8    4   46   48   11    6    3    0]\n",
      " [   1 2439  152  165   10  169    1    2   42   45    3   13    3    0]\n",
      " [   0   61   51   49    2    0  161    0    2    7    0    0    1    0]\n",
      " [   0  527   31  186    4    8    1   25   23   33    9    3    0    0]\n",
      " [   0  360    3   20    0    4    0    0 4895 1180  119  140   63    0]\n",
      " [   0  644   51   70    1   13    1    1 1238 4019  506  174   51    0]\n",
      " [   1  267   10    9    0    0    0    0  496 1254 1150   32   21    0]\n",
      " [   2  191    9   15    0    2    1    0  141  203    6  667   62    0]\n",
      " [   0   81    2    3    0    1    0    0  145  141    4  121  170    0]\n",
      " [   0   56    2    3    0    0    0    0   70  117   31    8    1    0]]\n"
     ]
    },
    {
     "data": {
      "image/png": "[encoded data removed]",
      "text/plain": [
       "<Figure size 432x288 with 2 Axes>"
      ]
     },
     "metadata": {},
     "output_type": "display_data"
    }
   ],
   "source": [
    "plot_confusion_matrix(cm, data.classes)"
   ]
  },
  {
   "cell_type": "markdown",
   "metadata": {},
   "source": [
    "### it seems that accuracy for category 30 is zero. There is no prediction for accuracy 30. Error is quite high\n"
   ]
  },
  {
   "cell_type": "markdown",
   "metadata": {
    "heading_collapsed": true
   },
   "source": [
    "### Looking at pictures again"
   ]
  },
  {
   "cell_type": "code",
   "execution_count": 54,
   "metadata": {},
   "outputs": [
    {
     "name": "stdout",
     "output_type": "stream",
     "text": [
      "Object `plot_val_with_title` not found.\n"
     ]
    }
   ],
   "source": [
    "?plot_val_with_title"
   ]
  },
  {
   "cell_type": "code",
   "execution_count": 52,
   "metadata": {
    "hidden": true,
    "scrolled": true
   },
   "outputs": [
    {
     "ename": "NameError",
     "evalue": "name 'plot_val_with_title' is not defined",
     "output_type": "error",
     "traceback": [
      "\u001b[1;31m---------------------------------------------------------------------------\u001b[0m",
      "\u001b[1;31mNameError\u001b[0m                                 Traceback (most recent call last)",
      "\u001b[1;32m<ipython-input-52-9ee8f12b4033>\u001b[0m in \u001b[0;36m<module>\u001b[1;34m()\u001b[0m\n\u001b[1;32m----> 1\u001b[1;33m \u001b[0mplot_val_with_title\u001b[0m\u001b[1;33m(\u001b[0m\u001b[0mmost_by_correct\u001b[0m\u001b[1;33m(\u001b[0m\u001b[1;36m0\u001b[0m\u001b[1;33m,\u001b[0m \u001b[1;32mFalse\u001b[0m\u001b[1;33m)\u001b[0m\u001b[1;33m,\u001b[0m \u001b[1;34m\"Most incorrect cow\"\u001b[0m\u001b[1;33m)\u001b[0m\u001b[1;33m\u001b[0m\u001b[0m\n\u001b[0m",
      "\u001b[1;31mNameError\u001b[0m: name 'plot_val_with_title' is not defined"
     ]
    }
   ],
   "source": [
    "plot_val_with_title(most_by_correct(0, False), \"Most incorrect cow\")"
   ]
  },
  {
   "cell_type": "code",
   "execution_count": 53,
   "metadata": {
    "hidden": true
   },
   "outputs": [
    {
     "ename": "NameError",
     "evalue": "name 'plot_val_with_title' is not defined",
     "output_type": "error",
     "traceback": [
      "\u001b[1;31m---------------------------------------------------------------------------\u001b[0m",
      "\u001b[1;31mNameError\u001b[0m                                 Traceback (most recent call last)",
      "\u001b[1;32m<ipython-input-53-8d181832589b>\u001b[0m in \u001b[0;36m<module>\u001b[1;34m()\u001b[0m\n\u001b[1;32m----> 1\u001b[1;33m \u001b[0mplot_val_with_title\u001b[0m\u001b[1;33m(\u001b[0m\u001b[0mmost_by_correct\u001b[0m\u001b[1;33m(\u001b[0m\u001b[1;36m1\u001b[0m\u001b[1;33m,\u001b[0m \u001b[1;32mFalse\u001b[0m\u001b[1;33m)\u001b[0m\u001b[1;33m,\u001b[0m \u001b[1;34m\"Most incorrect sheep\"\u001b[0m\u001b[1;33m)\u001b[0m\u001b[1;33m\u001b[0m\u001b[0m\n\u001b[0m",
      "\u001b[1;31mNameError\u001b[0m: name 'plot_val_with_title' is not defined"
     ]
    }
   ],
   "source": [
    "plot_val_with_title(most_by_correct(1, False), \"Most incorrect sheep\")"
   ]
  },
  {
   "cell_type": "markdown",
   "metadata": {
    "heading_collapsed": true
   },
   "source": [
    "## Review: easy steps to train a world-class image classifier"
   ]
  },
  {
   "cell_type": "markdown",
   "metadata": {
    "hidden": true
   },
   "source": [
    "1. Enable data augmentation, and precompute=True\n",
    "1. Use `lr_find()` to find highest learning rate where loss is still clearly improving\n",
    "1. Train last layer from precomputed activations for 1-2 epochs\n",
    "1. Train last layer with data augmentation (i.e. precompute=False) for 2-3 epochs with cycle_len=1\n",
    "1. Unfreeze all layers\n",
    "1. Set earlier layers to 3x-10x lower learning rate than next higher layer\n",
    "1. Use `lr_find()` again\n",
    "1. Train full network with cycle_mult=2 until over-fitting"
   ]
  },
  {
   "cell_type": "markdown",
   "metadata": {
    "heading_collapsed": true
   },
   "source": [
    "## Understanding the code for our first model"
   ]
  },
  {
   "cell_type": "markdown",
   "metadata": {
    "hidden": true
   },
   "source": [
    "Let's look at the Dogs v Cats code line by line.\n",
    "\n",
    "**tfms** stands for *transformations*. `tfms_from_model` takes care of resizing, image cropping, initial normalization (creating data with (mean,stdev) of (0,1)), and more."
   ]
  },
  {
   "cell_type": "code",
   "execution_count": 114,
   "metadata": {
    "hidden": true,
    "scrolled": true
   },
   "outputs": [],
   "source": [
    "tfms = tfms_from_model(resnet34, sz)"
   ]
  },
  {
   "cell_type": "markdown",
   "metadata": {
    "hidden": true
   },
   "source": [
    "We need a <b>path</b> that points to the dataset. In this path we will also store temporary data and final results. `ImageClassifierData.from_paths` reads data from a provided path and creates a dataset ready for training."
   ]
  },
  {
   "cell_type": "code",
   "execution_count": 115,
   "metadata": {
    "hidden": true
   },
   "outputs": [],
   "source": [
    "data = ImageClassifierData.from_paths(PATH, tfms=tfms)"
   ]
  },
  {
   "cell_type": "markdown",
   "metadata": {
    "hidden": true
   },
   "source": [
    "`ConvLearner.pretrained` builds *learner* that contains a pre-trained model. The last layer of the model needs to be replaced with the layer of the right dimensions. The pretained model was trained for 1000 classes therfore the final layer predicts a vector of 1000 probabilities. The model for cats and dogs needs to output a two dimensional vector. The diagram below shows in an example how this was done in one of the earliest successful CNNs. The layer \"FC8\" here would get replaced with a new layer with 2 outputs.\n",
    "\n",
    "<img src=\"images/pretrained.png\" width=\"500\">\n",
    "[original image](https://image.slidesharecdn.com/practicaldeeplearning-160329181459/95/practical-deep-learning-16-638.jpg)"
   ]
  },
  {
   "cell_type": "code",
   "execution_count": 116,
   "metadata": {
    "hidden": true
   },
   "outputs": [],
   "source": [
    "learn = ConvLearner.pretrained(resnet34, data, precompute=True)"
   ]
  },
  {
   "cell_type": "markdown",
   "metadata": {
    "hidden": true
   },
   "source": [
    "*Parameters*  are learned by fitting a model to the data. *Hyparameters* are another kind of parameter, that cannot be directly learned from the regular training process. These parameters express “higher-level” properties of the model such as its complexity or how fast it should learn. Two examples of hyperparameters are the *learning rate* and the *number of epochs*.\n",
    "\n",
    "During iterative training of a neural network, a *batch* or *mini-batch* is a subset of training samples used in one iteration of Stochastic Gradient Descent (SGD). An *epoch* is a single pass through the entire training set which consists of multiple iterations of SGD.\n",
    "\n",
    "We can now *fit* the model; that is, use *gradient descent* to find the best parameters for the fully connected layer we added, that can separate cat pictures from dog pictures. We need to pass two hyperameters: the *learning rate* (generally 1e-2 or 1e-3 is a good starting point, we'll look more at this next) and the *number of epochs* (you can pass in a higher number and just stop training when you see it's no longer improving, then re-run it with the number of epochs you found works well.)"
   ]
  },
  {
   "cell_type": "code",
   "execution_count": 117,
   "metadata": {
    "hidden": true
   },
   "outputs": [
    {
     "data": {
      "application/vnd.jupyter.widget-view+json": {
       "model_id": "f993a59c256f4e82a85b10cb3d280722",
       "version_major": 2,
       "version_minor": 0
      },
      "text/plain": [
       "HBox(children=(IntProgress(value=0, description='Epoch', max=1), HTML(value='')))"
      ]
     },
     "metadata": {},
     "output_type": "display_data"
    },
    {
     "name": "stdout",
     "output_type": "stream",
     "text": [
      "epoch      trn_loss   val_loss   accuracy                                                                              \n",
      "    0      0.046303   0.026076   0.989     \n",
      "\n"
     ]
    },
    {
     "data": {
      "text/plain": [
       "[array([0.02608]), 0.989]"
      ]
     },
     "execution_count": 117,
     "metadata": {},
     "output_type": "execute_result"
    }
   ],
   "source": [
    "learn.fit(1e-2, 1)"
   ]
  },
  {
   "cell_type": "markdown",
   "metadata": {
    "heading_collapsed": true
   },
   "source": [
    "## Analyzing results: loss and accuracy"
   ]
  },
  {
   "cell_type": "markdown",
   "metadata": {
    "hidden": true
   },
   "source": [
    "When we run `learn.fit` we print 3 performance values (see above.) Here 0.03 is the value of the **loss** in the training set, 0.0226 is the value of the loss in the validation set and 0.9927 is the validation accuracy. What is the loss? What is accuracy? Why not to just show accuracy?\n",
    "\n",
    "**Accuracy** is the ratio of correct prediction to the total number of predictions.\n",
    "\n",
    "In machine learning the **loss** function or cost function is representing the price paid for inaccuracy of predictions.\n",
    "\n",
    "The loss associated with one example in binary classification is given by:\n",
    "`-(y * log(p) + (1-y) * log (1-p))`\n",
    "where `y` is the true label of `x` and `p` is the probability predicted by our model that the label is 1."
   ]
  },
  {
   "cell_type": "code",
   "execution_count": 118,
   "metadata": {
    "hidden": true
   },
   "outputs": [],
   "source": [
    "def binary_loss(y, p):\n",
    "    return np.mean(-(y * np.log(p) + (1-y)*np.log(1-p)))"
   ]
  },
  {
   "cell_type": "code",
   "execution_count": 119,
   "metadata": {
    "hidden": true
   },
   "outputs": [
    {
     "data": {
      "text/plain": [
       "0.164252033486018"
      ]
     },
     "execution_count": 119,
     "metadata": {},
     "output_type": "execute_result"
    }
   ],
   "source": [
    "acts = np.array([1, 0, 0, 1])\n",
    "preds = np.array([0.9, 0.1, 0.2, 0.8])\n",
    "binary_loss(acts, preds)"
   ]
  },
  {
   "cell_type": "markdown",
   "metadata": {
    "hidden": true
   },
   "source": [
    "Note that in our toy example above our accuracy is 100% and our loss is 0.16. Compare that to a loss of 0.03 that we are getting while predicting cats and dogs. Exercise: play with `preds` to get a lower loss for this example. \n",
    "\n",
    "**Example:** Here is an example on how to compute the loss for one example of binary classification problem. Suppose for an image x with label 1 and your model gives it a prediction of 0.9. For this case the loss should be small because our model is predicting a label $1$ with high probability.\n",
    "\n",
    "`loss = -log(0.9) = 0.10`\n",
    "\n",
    "Now suppose x has label 0 but our model is predicting 0.9. In this case our loss should be much larger.\n",
    "\n",
    "loss = -log(1-0.9) = 2.30\n",
    "\n",
    "- Exercise: look at the other cases and convince yourself that this make sense.\n",
    "- Exercise: how would you rewrite `binary_loss` using `if` instead of `*` and `+`?\n",
    "\n",
    "Why not just maximize accuracy? The binary classification loss is an easier function to optimize."
   ]
  },
  {
   "cell_type": "code",
   "execution_count": null,
   "metadata": {
    "collapsed": true,
    "hidden": true
   },
   "outputs": [],
   "source": []
  }
 ],
 "metadata": {
  "kernelspec": {
   "display_name": "Python 3",
   "language": "python",
   "name": "python3"
  },
  "language_info": {
   "codemirror_mode": {
    "name": "ipython",
    "version": 3
   },
   "file_extension": ".py",
   "mimetype": "text/x-python",
   "name": "python",
   "nbconvert_exporter": "python",
   "pygments_lexer": "ipython3",
   "version": "3.6.4"
  },
  "toc": {
   "colors": {
    "hover_highlight": "#DAA520",
    "navigate_num": "#000000",
    "navigate_text": "#333333",
    "running_highlight": "#FF0000",
    "selected_highlight": "#FFD700",
    "sidebar_border": "#EEEEEE",
    "wrapper_background": "#FFFFFF"
   },
   "moveMenuLeft": true,
   "nav_menu": {
    "height": "266px",
    "width": "252px"
   },
   "navigate_menu": true,
   "number_sections": true,
   "sideBar": true,
   "threshold": 4,
   "toc_cell": false,
   "toc_section_display": "block",
   "toc_window_display": false,
   "widenNotebook": false
  }
 },
 "nbformat": 4,
 "nbformat_minor": 2
}
