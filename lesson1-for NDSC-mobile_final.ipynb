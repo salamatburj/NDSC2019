{
 "cells": [
  {
   "cell_type": "markdown",
   "metadata": {},
   "source": [
    "## Image classification with Convolutional Neural Networks"
   ]
  },
  {
   "cell_type": "code",
   "execution_count": 1,
   "metadata": {},
   "outputs": [],
   "source": [
    "# %reset"
   ]
  },
  {
   "cell_type": "code",
   "execution_count": 2,
   "metadata": {},
   "outputs": [],
   "source": [
    "# Put these at the top of every notebook, to get automatic reloading and inline plotting\n",
    "%reload_ext autoreload\n",
    "%autoreload 2\n",
    "%matplotlib inline"
   ]
  },
  {
   "cell_type": "markdown",
   "metadata": {},
   "source": [
    "Here we import the libraries we need. We'll learn about what each does during the course."
   ]
  },
  {
   "cell_type": "code",
   "execution_count": 3,
   "metadata": {},
   "outputs": [],
   "source": [
    "import sys"
   ]
  },
  {
   "cell_type": "code",
   "execution_count": 4,
   "metadata": {},
   "outputs": [],
   "source": [
    "# in order to import libraries\n",
    "sys.path.append(\"C:/Users/user/Documents/Salamat/fastai\")"
   ]
  },
  {
   "cell_type": "code",
   "execution_count": 5,
   "metadata": {},
   "outputs": [
    {
     "data": {
      "text/plain": [
       "['',\n",
       " 'C:\\\\Users\\\\user\\\\Anaconda3\\\\envs\\\\fastai\\\\python36.zip',\n",
       " 'C:\\\\Users\\\\user\\\\Anaconda3\\\\envs\\\\fastai\\\\DLLs',\n",
       " 'C:\\\\Users\\\\user\\\\Anaconda3\\\\envs\\\\fastai\\\\lib',\n",
       " 'C:\\\\Users\\\\user\\\\Anaconda3\\\\envs\\\\fastai',\n",
       " 'C:\\\\Users\\\\user\\\\Anaconda3\\\\envs\\\\fastai\\\\lib\\\\site-packages',\n",
       " 'C:\\\\Users\\\\user\\\\Anaconda3\\\\envs\\\\fastai\\\\lib\\\\site-packages\\\\cycler-0.10.0-py3.6.egg',\n",
       " 'C:\\\\Users\\\\user\\\\Anaconda3\\\\envs\\\\fastai\\\\lib\\\\site-packages\\\\IPython\\\\extensions',\n",
       " 'C:\\\\Users\\\\user\\\\.ipython',\n",
       " 'C:/Users/user/Documents/Salamat/fastai']"
      ]
     },
     "execution_count": 5,
     "metadata": {},
     "output_type": "execute_result"
    }
   ],
   "source": [
    "sys.path"
   ]
  },
  {
   "cell_type": "code",
   "execution_count": 6,
   "metadata": {},
   "outputs": [],
   "source": [
    "# This file contains all the main external libs we'll use\n",
    "from fastai.imports import *"
   ]
  },
  {
   "cell_type": "code",
   "execution_count": 7,
   "metadata": {},
   "outputs": [],
   "source": [
    "from fastai.transforms import *\n",
    "from fastai.conv_learner import *\n",
    "from fastai.model import *\n",
    "from fastai.dataset import *\n",
    "from fastai.sgdr import *\n",
    "from fastai.plots import *"
   ]
  },
  {
   "cell_type": "markdown",
   "metadata": {},
   "source": [
    "`PATH` is the path to your data - if you use the recommended setup approaches from the lesson, you won't need to change this. `sz` is the size that the images will be resized to in order to ensure that the training runs quickly. We'll be talking about this parameter a lot during the course. Leave it at `224` for now."
   ]
  },
  {
   "cell_type": "code",
   "execution_count": 8,
   "metadata": {},
   "outputs": [],
   "source": [
    "PATH = \"C:/Users/user/Documents/Salamat\"\n",
    "sz=224"
   ]
  },
  {
   "cell_type": "markdown",
   "metadata": {},
   "source": [
    "It's important that you have a working NVidia GPU set up. The programming framework used to behind the scenes to work with NVidia GPUs is called CUDA. Therefore, you need to ensure the following line returns `True` before you proceed. If you have problems with this, please check the FAQ and ask for help on [the forums](http://forums.fast.ai)."
   ]
  },
  {
   "cell_type": "code",
   "execution_count": 9,
   "metadata": {},
   "outputs": [
    {
     "data": {
      "text/plain": [
       "True"
      ]
     },
     "execution_count": 9,
     "metadata": {},
     "output_type": "execute_result"
    }
   ],
   "source": [
    "torch.cuda.is_available()"
   ]
  },
  {
   "cell_type": "markdown",
   "metadata": {},
   "source": [
    "In addition, NVidia provides special accelerated functions for deep learning in a package called CuDNN. Although not strictly necessary, it will improve training performance significantly, and is included by default in all supported fastai configurations. Therefore, if the following does not return `True`, you may want to look into why."
   ]
  },
  {
   "cell_type": "code",
   "execution_count": 10,
   "metadata": {},
   "outputs": [
    {
     "data": {
      "text/plain": [
       "True"
      ]
     },
     "execution_count": 10,
     "metadata": {},
     "output_type": "execute_result"
    }
   ],
   "source": [
    "torch.backends.cudnn.enabled"
   ]
  },
  {
   "cell_type": "code",
   "execution_count": 11,
   "metadata": {
    "hidden": true,
    "scrolled": true
   },
   "outputs": [
    {
     "data": {
      "text/plain": [
       "['ELO',\n",
       " 'fastai',\n",
       " 'fastai3',\n",
       " 'Kaggle',\n",
       " 'models',\n",
       " 'NDSC_2019',\n",
       " 'NDSC_2019train_beaty.csv',\n",
       " 'NDSC_2019train_beauty.csv',\n",
       " 'Programs',\n",
       " 'tmp',\n",
       " 'train_beauty.csv',\n",
       " 'train_beauty2.csv']"
      ]
     },
     "execution_count": 11,
     "metadata": {},
     "output_type": "execute_result"
    }
   ],
   "source": [
    "os.listdir(PATH)"
   ]
  },
  {
   "cell_type": "markdown",
   "metadata": {
    "heading_collapsed": true
   },
   "source": [
    "## Our first model: quick start"
   ]
  },
  {
   "cell_type": "markdown",
   "metadata": {
    "heading_collapsed": true
   },
   "source": [
    "### Data augmentation"
   ]
  },
  {
   "cell_type": "code",
   "execution_count": 12,
   "metadata": {
    "hidden": true
   },
   "outputs": [],
   "source": [
    "tfms = tfms_from_model(resnet34, sz, aug_tfms=transforms_side_on, max_zoom=1.1)"
   ]
  },
  {
   "cell_type": "code",
   "execution_count": 13,
   "metadata": {},
   "outputs": [
    {
     "data": {
      "text/plain": [
       "'C:/Users/user/Documents/Salamat'"
      ]
     },
     "execution_count": 13,
     "metadata": {},
     "output_type": "execute_result"
    }
   ],
   "source": [
    "PATH"
   ]
  },
  {
   "cell_type": "code",
   "execution_count": 17,
   "metadata": {},
   "outputs": [],
   "source": [
    "PATH='C:\\\\Users\\\\user\\\\Documents\\\\Salamat\\\\NDSC_2019\\\\mobile'"
   ]
  },
  {
   "cell_type": "code",
   "execution_count": 18,
   "metadata": {
    "hidden": true
   },
   "outputs": [],
   "source": [
    "def get_augs():\n",
    "    data = ImageClassifierData.from_paths(PATH, bs=2, tfms=tfms, num_workers=1)\n",
    "    x,_ = next(iter(data.aug_dl))\n",
    "    return data.trn_ds.denorm(x)[1]"
   ]
  },
  {
   "cell_type": "code",
   "execution_count": 21,
   "metadata": {
    "hidden": true
   },
   "outputs": [],
   "source": [
    "ims = np.stack([get_augs() for i in range(6)])"
   ]
  },
  {
   "cell_type": "code",
   "execution_count": 22,
   "metadata": {
    "hidden": true
   },
   "outputs": [
    {
     "data": {
      "image/png": "[encoded data removed]",
      "text/plain": [
       "<Figure size 864x432 with 6 Axes>"
      ]
     },
     "metadata": {},
     "output_type": "display_data"
    }
   ],
   "source": [
    "plots(ims, rows=2)"
   ]
  },
  {
   "cell_type": "markdown",
   "metadata": {
    "hidden": true
   },
   "source": [
    "Let's create a new `data` object that includes this augmentation in the transforms."
   ]
  },
  {
   "cell_type": "code",
   "execution_count": 23,
   "metadata": {},
   "outputs": [],
   "source": [
    "arch=resnet34"
   ]
  },
  {
   "cell_type": "code",
   "execution_count": 24,
   "metadata": {},
   "outputs": [],
   "source": [
    "PATH_beauty='C:/Users/user/Documents/Salamat/NDSC_2019/mobile'\n",
    "data_beauty = ImageClassifierData.from_paths(path=PATH_beauty,tfms=tfms,trn_name='train',val_name='valid', test_name='test')"
   ]
  },
  {
   "cell_type": "code",
   "execution_count": 25,
   "metadata": {
    "hidden": true
   },
   "outputs": [],
   "source": [
    "#data = ImageClassifierData.from_paths(PATH, tfms=tfms)\n",
    "learn = ConvLearner.pretrained(arch, data_beauty, precompute=True)"
   ]
  },
  {
   "cell_type": "code",
   "execution_count": 26,
   "metadata": {
    "hidden": true,
    "scrolled": false
   },
   "outputs": [
    {
     "data": {
      "application/vnd.jupyter.widget-view+json": {
       "model_id": "26b9ab0f317f4a8d8906c0d7d1859667",
       "version_major": 2,
       "version_minor": 0
      },
      "text/plain": [
       "HBox(children=(IntProgress(value=0, description='Epoch', max=1), HTML(value='')))"
      ]
     },
     "metadata": {},
     "output_type": "display_data"
    },
    {
     "name": "stdout",
     "output_type": "stream",
     "text": [
      " 12%|████████▍                                                           | 249/2005 [00:09<01:09, 25.39it/s, loss=2.12]"
     ]
    },
    {
     "name": "stderr",
     "output_type": "stream",
     "text": [
      "C:\\Users\\user\\Anaconda3\\envs\\fastai\\lib\\site-packages\\tqdm\\_monitor.py:89: TqdmSynchronisationWarning: Set changed size during iteration (see https://github.com/tqdm/tqdm/issues/481)\n",
      "  TqdmSynchronisationWarning)\n"
     ]
    },
    {
     "name": "stdout",
     "output_type": "stream",
     "text": [
      "epoch      trn_loss   val_loss   accuracy                                                                              \n",
      "    0      1.899999   1.722242   0.448277  \n",
      "\n"
     ]
    },
    {
     "data": {
      "text/plain": [
       "[array([1.72224]), 0.4482769374707625]"
      ]
     },
     "execution_count": 26,
     "metadata": {},
     "output_type": "execute_result"
    }
   ],
   "source": [
    "learn.fit(1e-2, 1)"
   ]
  },
  {
   "cell_type": "code",
   "execution_count": 27,
   "metadata": {
    "hidden": true
   },
   "outputs": [],
   "source": [
    "learn.precompute=False"
   ]
  },
  {
   "cell_type": "markdown",
   "metadata": {
    "hidden": true
   },
   "source": [
    "By default when we create a learner, it sets all but the last layer to *frozen*. That means that it's still only updating the weights in the last layer when we call `fit`."
   ]
  },
  {
   "cell_type": "code",
   "execution_count": 28,
   "metadata": {
    "hidden": true,
    "scrolled": false
   },
   "outputs": [
    {
     "data": {
      "application/vnd.jupyter.widget-view+json": {
       "model_id": "6fc01ae5e125471cafb8b625b1796e33",
       "version_major": 2,
       "version_minor": 0
      },
      "text/plain": [
       "HBox(children=(IntProgress(value=0, description='Epoch', max=3), HTML(value='')))"
      ]
     },
     "metadata": {},
     "output_type": "display_data"
    },
    {
     "name": "stdout",
     "output_type": "stream",
     "text": [
      "  1%|▌                                                                    | 16/2005 [00:09<20:42,  1.60it/s, loss=1.91]"
     ]
    },
    {
     "name": "stderr",
     "output_type": "stream",
     "text": [
      "C:\\Users\\user\\Anaconda3\\envs\\fastai\\lib\\site-packages\\tqdm\\_monitor.py:89: TqdmSynchronisationWarning: Set changed size during iteration (see https://github.com/tqdm/tqdm/issues/481)\n",
      "  TqdmSynchronisationWarning)\n"
     ]
    },
    {
     "name": "stdout",
     "output_type": "stream",
     "text": [
      "epoch      trn_loss   val_loss   accuracy                                                                              \n",
      "    0      1.808384   1.670845   0.467675  \n",
      "    1      1.803696   1.644467   0.478497                                                                              \n",
      "    2      1.730852   1.626282   0.484578                                                                              \n",
      "\n"
     ]
    },
    {
     "data": {
      "text/plain": [
       "[array([1.62628]), 0.4845782005301731]"
      ]
     },
     "execution_count": 28,
     "metadata": {},
     "output_type": "execute_result"
    }
   ],
   "source": [
    "learn.fit(1e-2, 3, cycle_len=1)"
   ]
  },
  {
   "cell_type": "markdown",
   "metadata": {
    "hidden": true
   },
   "source": [
    "What is that `cycle_len` parameter? What we've done here is used a technique called *stochastic gradient descent with restarts (SGDR)*, a variant of *learning rate annealing*, which gradually decreases the learning rate as training progresses. This is helpful because as we get closer to the optimal weights, we want to take smaller steps.\n",
    "\n",
    "However, we may find ourselves in a part of the weight space that isn't very resilient - that is, small changes to the weights may result in big changes to the loss. We want to encourage our model to find parts of the weight space that are both accurate and stable. Therefore, from time to time we increase the learning rate (this is the 'restarts' in 'SGDR'), which will force the model to jump to a different part of the weight space if the current area is \"spikey\". Here's a picture of how that might look if we reset the learning rates 3 times (in this paper they call it a \"cyclic LR schedule\"):\n",
    "\n",
    "<img src=\"images/sgdr.png\" width=\"80%\">\n",
    "(From the paper [Snapshot Ensembles](https://arxiv.org/abs/1704.00109)).\n",
    "\n",
    "The number of epochs between resetting the learning rate is set by `cycle_len`, and the number of times this happens is refered to as the *number of cycles*, and is what we're actually passing as the 2nd parameter to `fit()`. So here's what our actual learning rates looked like:"
   ]
  },
  {
   "cell_type": "code",
   "execution_count": 29,
   "metadata": {
    "hidden": true
   },
   "outputs": [
    {
     "data": {
      "image/png": "[encoded data removed]",
      "text/plain": [
       "<Figure size 432x288 with 1 Axes>"
      ]
     },
     "metadata": {},
     "output_type": "display_data"
    }
   ],
   "source": [
    "learn.sched.plot_lr()"
   ]
  },
  {
   "cell_type": "markdown",
   "metadata": {
    "hidden": true
   },
   "source": [
    "Our validation loss isn't improving much, so there's probably no point further training the last layer on its own."
   ]
  },
  {
   "cell_type": "markdown",
   "metadata": {
    "hidden": true
   },
   "source": [
    "Since we've got a pretty good model at this point, we might want to save it so we can load it again later without training it from scratch."
   ]
  },
  {
   "cell_type": "code",
   "execution_count": 30,
   "metadata": {
    "hidden": true
   },
   "outputs": [],
   "source": [
    "learn.save('224_lastlayer_mobile')"
   ]
  },
  {
   "cell_type": "code",
   "execution_count": 31,
   "metadata": {
    "hidden": true
   },
   "outputs": [],
   "source": [
    "learn.load('224_lastlayer_mobile')"
   ]
  },
  {
   "cell_type": "markdown",
   "metadata": {
    "heading_collapsed": true
   },
   "source": [
    "### Fine-tuning and differential learning rate annealing"
   ]
  },
  {
   "cell_type": "markdown",
   "metadata": {
    "hidden": true
   },
   "source": [
    "Now that we have a good final layer trained, we can try fine-tuning the other layers. To tell the learner that we want to unfreeze the remaining layers, just call (surprise surprise!) `unfreeze()`."
   ]
  },
  {
   "cell_type": "code",
   "execution_count": 32,
   "metadata": {
    "hidden": true
   },
   "outputs": [],
   "source": [
    "learn.unfreeze()"
   ]
  },
  {
   "cell_type": "markdown",
   "metadata": {
    "hidden": true
   },
   "source": [
    "Note that the other layers have *already* been trained to recognize imagenet photos (whereas our final layers where randomly initialized), so we want to be careful of not destroying the carefully tuned weights that are already there.\n",
    "\n",
    "Generally speaking, the earlier layers (as we've seen) have more general-purpose features. Therefore we would expect them to need less fine-tuning for new datasets. For this reason we will use different learning rates for different layers: the first few layers will be at 1e-4, the middle layers at 1e-3, and our FC layers we'll leave at 1e-2 as before. We refer to this as *differential learning rates*, although there's no standard name for this techique in the literature that we're aware of."
   ]
  },
  {
   "cell_type": "code",
   "execution_count": 33,
   "metadata": {
    "hidden": true
   },
   "outputs": [],
   "source": [
    "lr=np.array([1e-4,1e-3,1e-2])"
   ]
  },
  {
   "cell_type": "code",
   "execution_count": 34,
   "metadata": {
    "hidden": true,
    "scrolled": false
   },
   "outputs": [
    {
     "data": {
      "application/vnd.jupyter.widget-view+json": {
       "model_id": "",
       "version_major": 2,
       "version_minor": 0
      },
      "text/plain": [
       "HBox(children=(IntProgress(value=0, description='Epoch', max=7), HTML(value='')))"
      ]
     },
     "metadata": {},
     "output_type": "display_data"
    },
    {
     "name": "stdout",
     "output_type": "stream",
     "text": [
      "  1%|▍                                                                    | 14/2005 [00:09<23:12,  1.43it/s, loss=1.91]"
     ]
    },
    {
     "name": "stderr",
     "output_type": "stream",
     "text": [
      "C:\\Users\\user\\Anaconda3\\envs\\fastai\\lib\\site-packages\\tqdm\\_monitor.py:89: TqdmSynchronisationWarning: Set changed size during iteration (see https://github.com/tqdm/tqdm/issues/481)\n",
      "  TqdmSynchronisationWarning)\n"
     ]
    },
    {
     "name": "stdout",
     "output_type": "stream",
     "text": [
      "epoch      trn_loss   val_loss   accuracy                                                                              \n",
      "    0      1.493979   1.39174    0.570279  \n",
      "    1      1.401075   1.275628   0.609793                                                                              \n",
      "    2      1.240927   1.240196   0.622267                                                                              \n",
      "    3      1.233523   1.205536   0.630937                                                                              \n",
      "    4      1.169849   1.169192   0.646842                                                                              \n",
      "    5      1.080318   1.146259   0.654889                                                                              \n",
      "    6      1.037449   1.145016   0.655325                                                                              \n",
      "\n"
     ]
    },
    {
     "data": {
      "text/plain": [
       "[array([1.14502]), 0.655325120848277]"
      ]
     },
     "execution_count": 34,
     "metadata": {},
     "output_type": "execute_result"
    }
   ],
   "source": [
    "learn.fit(lr, 3, cycle_len=1, cycle_mult=2)"
   ]
  },
  {
   "cell_type": "markdown",
   "metadata": {
    "hidden": true
   },
   "source": [
    "Another trick we've used here is adding the `cycle_mult` parameter. Take a look at the following chart, and see if you can figure out what the parameter is doing:"
   ]
  },
  {
   "cell_type": "code",
   "execution_count": 35,
   "metadata": {
    "hidden": true
   },
   "outputs": [
    {
     "data": {
      "image/png": "[encoded data removed]",
      "text/plain": [
       "<Figure size 432x288 with 1 Axes>"
      ]
     },
     "metadata": {},
     "output_type": "display_data"
    }
   ],
   "source": [
    "learn.sched.plot_lr()"
   ]
  },
  {
   "cell_type": "markdown",
   "metadata": {
    "hidden": true
   },
   "source": [
    "Note that's what being plotted above is the learning rate of the *final layers*. The learning rates of the earlier layers are fixed at the same multiples of the final layer rates as we initially requested (i.e. the first layers have 100x smaller, and middle layers 10x smaller learning rates, since we set `lr=np.array([1e-4,1e-3,1e-2])`."
   ]
  },
  {
   "cell_type": "code",
   "execution_count": 36,
   "metadata": {
    "hidden": true
   },
   "outputs": [],
   "source": [
    "learn.save('224_all_mobile')"
   ]
  },
  {
   "cell_type": "code",
   "execution_count": 37,
   "metadata": {
    "hidden": true
   },
   "outputs": [],
   "source": [
    "learn.load('224_all_mobile')"
   ]
  },
  {
   "cell_type": "markdown",
   "metadata": {
    "hidden": true
   },
   "source": [
    "There is something else we can do with data augmentation: use it at *inference* time (also known as *test* time). Not surprisingly, this is known as *test time augmentation*, or just *TTA*.\n",
    "\n",
    "TTA simply makes predictions not just on the images in your validation set, but also makes predictions on a number of randomly augmented versions of them too (by default, it uses the original image along with 4 randomly augmented versions). It then takes the average prediction from these images, and uses that. To use TTA on the validation set, we can use the learner's `TTA()` method."
   ]
  },
  {
   "cell_type": "code",
   "execution_count": 38,
   "metadata": {
    "hidden": true,
    "scrolled": true
   },
   "outputs": [
    {
     "name": "stdout",
     "output_type": "stream",
     "text": [
      "\r",
      "  0%|                                                                                            | 0/4 [00:00<?, ?it/s]"
     ]
    },
    {
     "name": "stderr",
     "output_type": "stream",
     "text": [
      "C:\\Users\\user\\Anaconda3\\envs\\fastai\\lib\\site-packages\\tqdm\\_monitor.py:89: TqdmSynchronisationWarning: Set changed size during iteration (see https://github.com/tqdm/tqdm/issues/481)\n",
      "  TqdmSynchronisationWarning)\n"
     ]
    },
    {
     "name": "stdout",
     "output_type": "stream",
     "text": [
      "                                                                                                                       \r"
     ]
    }
   ],
   "source": [
    "log_preds,y = learn.TTA()\n",
    "probs = np.mean(np.exp(log_preds),0)"
   ]
  },
  {
   "cell_type": "code",
   "execution_count": 39,
   "metadata": {},
   "outputs": [
    {
     "data": {
      "text/plain": [
       "(32065,)"
      ]
     },
     "execution_count": 39,
     "metadata": {},
     "output_type": "execute_result"
    }
   ],
   "source": [
    "y.shape"
   ]
  },
  {
   "cell_type": "code",
   "execution_count": 45,
   "metadata": {
    "hidden": true
   },
   "outputs": [
    {
     "data": {
      "text/plain": [
       "0.6631529705286138"
      ]
     },
     "execution_count": 45,
     "metadata": {},
     "output_type": "execute_result"
    }
   ],
   "source": [
    "# We have improved quite significantly\n",
    "accuracy_np(probs, y)"
   ]
  },
  {
   "cell_type": "code",
   "execution_count": 48,
   "metadata": {},
   "outputs": [
    {
     "data": {
      "text/plain": [
       "array([ 0,  1,  2,  3,  4,  5,  6,  7,  8,  9, 10, 11, 12, 13, 14, 15, 16, 17, 18, 19, 20, 21, 22, 23, 24,\n",
       "       25, 26], dtype=int64)"
      ]
     },
     "execution_count": 48,
     "metadata": {},
     "output_type": "execute_result"
    }
   ],
   "source": [
    "np.unique(y)"
   ]
  },
  {
   "cell_type": "code",
   "execution_count": 41,
   "metadata": {
    "scrolled": true
   },
   "outputs": [
    {
     "name": "stdout",
     "output_type": "stream",
     "text": [
      "\r",
      "  0%|                                                                                            | 0/4 [00:00<?, ?it/s]"
     ]
    },
    {
     "name": "stderr",
     "output_type": "stream",
     "text": [
      "C:\\Users\\user\\Anaconda3\\envs\\fastai\\lib\\site-packages\\tqdm\\_monitor.py:89: TqdmSynchronisationWarning: Set changed size during iteration (see https://github.com/tqdm/tqdm/issues/481)\n",
      "  TqdmSynchronisationWarning)\n"
     ]
    },
    {
     "name": "stdout",
     "output_type": "stream",
     "text": [
      "                                                                                                                       \r"
     ]
    }
   ],
   "source": [
    "log_preds_test,y_test=learn.TTA(is_test=True)"
   ]
  },
  {
   "cell_type": "code",
   "execution_count": 52,
   "metadata": {},
   "outputs": [
    {
     "data": {
      "text/plain": [
       "(40417, 1)"
      ]
     },
     "execution_count": 52,
     "metadata": {},
     "output_type": "execute_result"
    }
   ],
   "source": [
    "y_test.shape"
   ]
  },
  {
   "cell_type": "code",
   "execution_count": 41,
   "metadata": {},
   "outputs": [],
   "source": [
    "# After this fashion should be changed to mobile"
   ]
  },
  {
   "cell_type": "code",
   "execution_count": 46,
   "metadata": {},
   "outputs": [
    {
     "data": {
      "text/plain": [
       "array([ 0,  1,  2,  3,  4,  5,  6,  7,  8,  9, 10, 11, 12, 13, 14, 15, 16, 17, 18, 19, 20, 21, 22, 23, 24,\n",
       "       25, 26], dtype=int64)"
      ]
     },
     "execution_count": 46,
     "metadata": {},
     "output_type": "execute_result"
    }
   ],
   "source": [
    "np.unique(y)"
   ]
  },
  {
   "cell_type": "code",
   "execution_count": null,
   "metadata": {},
   "outputs": [],
   "source": []
  },
  {
   "cell_type": "code",
   "execution_count": 53,
   "metadata": {},
   "outputs": [],
   "source": [
    "df_test=pd.read_csv('test.csv')"
   ]
  },
  {
   "cell_type": "code",
   "execution_count": 54,
   "metadata": {},
   "outputs": [],
   "source": [
    "df_test['Group']=df_test['image_path'].map(lambda x : x[:7])"
   ]
  },
  {
   "cell_type": "code",
   "execution_count": 55,
   "metadata": {},
   "outputs": [
    {
     "data": {
      "text/html": [
       "<div>\n",
       "<style scoped>\n",
       "    .dataframe tbody tr th:only-of-type {\n",
       "        vertical-align: middle;\n",
       "    }\n",
       "\n",
       "    .dataframe tbody tr th {\n",
       "        vertical-align: top;\n",
       "    }\n",
       "\n",
       "    .dataframe thead th {\n",
       "        text-align: right;\n",
       "    }\n",
       "</style>\n",
       "<table border=\"1\" class=\"dataframe\">\n",
       "  <thead>\n",
       "    <tr style=\"text-align: right;\">\n",
       "      <th></th>\n",
       "      <th>itemid</th>\n",
       "      <th>title</th>\n",
       "      <th>image_path</th>\n",
       "      <th>Group</th>\n",
       "    </tr>\n",
       "  </thead>\n",
       "  <tbody>\n",
       "    <tr>\n",
       "      <th>131985</th>\n",
       "      <td>1520485457</td>\n",
       "      <td>new promo iphone 5s 16gb gold ex resmi ibox</td>\n",
       "      <td>mobile_image/876d4a1fe29e056855fa6f9643757b1c.jpg</td>\n",
       "      <td>mobile_</td>\n",
       "    </tr>\n",
       "    <tr>\n",
       "      <th>131986</th>\n",
       "      <td>1520516704</td>\n",
       "      <td>new promo xiaomi note 5a prime 3 32gb tam</td>\n",
       "      <td>mobile_image/e2b902b7cd35cd50f061d8e2a3ba7178.jpg</td>\n",
       "      <td>mobile_</td>\n",
       "    </tr>\n",
       "    <tr>\n",
       "      <th>131987</th>\n",
       "      <td>1520726573</td>\n",
       "      <td>big produk super murah oppo f5 4gb 32gb fullset</td>\n",
       "      <td>mobile_image/785c03cb1a21a1efedb8c1bbbdb81035.jpg</td>\n",
       "      <td>mobile_</td>\n",
       "    </tr>\n",
       "    <tr>\n",
       "      <th>131988</th>\n",
       "      <td>1523303826</td>\n",
       "      <td>pocophone xiaomi f1 ram 6gb rom 128gb</td>\n",
       "      <td>mobile_image/08bb7a43ae0fafd568ad54db908bac0b.jpg</td>\n",
       "      <td>mobile_</td>\n",
       "    </tr>\n",
       "    <tr>\n",
       "      <th>131989</th>\n",
       "      <td>1524467616</td>\n",
       "      <td>advan g2</td>\n",
       "      <td>mobile_image/970134be2e5961bda177e9761e1cf6ab.jpg</td>\n",
       "      <td>mobile_</td>\n",
       "    </tr>\n",
       "  </tbody>\n",
       "</table>\n",
       "</div>"
      ],
      "text/plain": [
       "            itemid                                            title  \\\n",
       "131985  1520485457      new promo iphone 5s 16gb gold ex resmi ibox   \n",
       "131986  1520516704        new promo xiaomi note 5a prime 3 32gb tam   \n",
       "131987  1520726573  big produk super murah oppo f5 4gb 32gb fullset   \n",
       "131988  1523303826            pocophone xiaomi f1 ram 6gb rom 128gb   \n",
       "131989  1524467616                                         advan g2   \n",
       "\n",
       "                                               image_path    Group  \n",
       "131985  mobile_image/876d4a1fe29e056855fa6f9643757b1c.jpg  mobile_  \n",
       "131986  mobile_image/e2b902b7cd35cd50f061d8e2a3ba7178.jpg  mobile_  \n",
       "131987  mobile_image/785c03cb1a21a1efedb8c1bbbdb81035.jpg  mobile_  \n",
       "131988  mobile_image/08bb7a43ae0fafd568ad54db908bac0b.jpg  mobile_  \n",
       "131989  mobile_image/970134be2e5961bda177e9761e1cf6ab.jpg  mobile_  "
      ]
     },
     "execution_count": 55,
     "metadata": {},
     "output_type": "execute_result"
    }
   ],
   "source": [
    "df_test[df_test.Group=='mobile_'].head()"
   ]
  },
  {
   "cell_type": "code",
   "execution_count": 56,
   "metadata": {},
   "outputs": [
    {
     "data": {
      "text/plain": [
       "13"
      ]
     },
     "execution_count": 56,
     "metadata": {},
     "output_type": "execute_result"
    }
   ],
   "source": [
    "len('mobile_image/')"
   ]
  },
  {
   "cell_type": "code",
   "execution_count": 57,
   "metadata": {},
   "outputs": [],
   "source": [
    "df_test.loc[df_test.Group=='mobile_','image_path']=df_test[df_test.Group=='mobile_'].image_path.map(lambda x : x[13:])"
   ]
  },
  {
   "cell_type": "code",
   "execution_count": 58,
   "metadata": {},
   "outputs": [
    {
     "data": {
      "text/html": [
       "<div>\n",
       "<style scoped>\n",
       "    .dataframe tbody tr th:only-of-type {\n",
       "        vertical-align: middle;\n",
       "    }\n",
       "\n",
       "    .dataframe tbody tr th {\n",
       "        vertical-align: top;\n",
       "    }\n",
       "\n",
       "    .dataframe thead th {\n",
       "        text-align: right;\n",
       "    }\n",
       "</style>\n",
       "<table border=\"1\" class=\"dataframe\">\n",
       "  <thead>\n",
       "    <tr style=\"text-align: right;\">\n",
       "      <th></th>\n",
       "      <th>itemid</th>\n",
       "      <th>title</th>\n",
       "      <th>image_path</th>\n",
       "      <th>Group</th>\n",
       "    </tr>\n",
       "  </thead>\n",
       "  <tbody>\n",
       "    <tr>\n",
       "      <th>131985</th>\n",
       "      <td>1520485457</td>\n",
       "      <td>new promo iphone 5s 16gb gold ex resmi ibox</td>\n",
       "      <td>876d4a1fe29e056855fa6f9643757b1c.jpg</td>\n",
       "      <td>mobile_</td>\n",
       "    </tr>\n",
       "    <tr>\n",
       "      <th>131986</th>\n",
       "      <td>1520516704</td>\n",
       "      <td>new promo xiaomi note 5a prime 3 32gb tam</td>\n",
       "      <td>e2b902b7cd35cd50f061d8e2a3ba7178.jpg</td>\n",
       "      <td>mobile_</td>\n",
       "    </tr>\n",
       "    <tr>\n",
       "      <th>131987</th>\n",
       "      <td>1520726573</td>\n",
       "      <td>big produk super murah oppo f5 4gb 32gb fullset</td>\n",
       "      <td>785c03cb1a21a1efedb8c1bbbdb81035.jpg</td>\n",
       "      <td>mobile_</td>\n",
       "    </tr>\n",
       "    <tr>\n",
       "      <th>131988</th>\n",
       "      <td>1523303826</td>\n",
       "      <td>pocophone xiaomi f1 ram 6gb rom 128gb</td>\n",
       "      <td>08bb7a43ae0fafd568ad54db908bac0b.jpg</td>\n",
       "      <td>mobile_</td>\n",
       "    </tr>\n",
       "    <tr>\n",
       "      <th>131989</th>\n",
       "      <td>1524467616</td>\n",
       "      <td>advan g2</td>\n",
       "      <td>970134be2e5961bda177e9761e1cf6ab.jpg</td>\n",
       "      <td>mobile_</td>\n",
       "    </tr>\n",
       "  </tbody>\n",
       "</table>\n",
       "</div>"
      ],
      "text/plain": [
       "            itemid                                            title  \\\n",
       "131985  1520485457      new promo iphone 5s 16gb gold ex resmi ibox   \n",
       "131986  1520516704        new promo xiaomi note 5a prime 3 32gb tam   \n",
       "131987  1520726573  big produk super murah oppo f5 4gb 32gb fullset   \n",
       "131988  1523303826            pocophone xiaomi f1 ram 6gb rom 128gb   \n",
       "131989  1524467616                                         advan g2   \n",
       "\n",
       "                                  image_path    Group  \n",
       "131985  876d4a1fe29e056855fa6f9643757b1c.jpg  mobile_  \n",
       "131986  e2b902b7cd35cd50f061d8e2a3ba7178.jpg  mobile_  \n",
       "131987  785c03cb1a21a1efedb8c1bbbdb81035.jpg  mobile_  \n",
       "131988  08bb7a43ae0fafd568ad54db908bac0b.jpg  mobile_  \n",
       "131989  970134be2e5961bda177e9761e1cf6ab.jpg  mobile_  "
      ]
     },
     "execution_count": 58,
     "metadata": {},
     "output_type": "execute_result"
    }
   ],
   "source": [
    "df_test[df_test.Group=='mobile_'].head()"
   ]
  },
  {
   "cell_type": "code",
   "execution_count": 59,
   "metadata": {},
   "outputs": [],
   "source": [
    "# We need to take exp to get probabilities \n",
    "pred_fashion= np.mean(np.exp(log_preds),0)\n",
    "# get indexes of validation set\n",
    "val_idx_fashion=data_beauty.val_ds.fnames\n",
    "# Get classes might not be ordered\n",
    "cat_fashion=data_beauty.classes"
   ]
  },
  {
   "cell_type": "code",
   "execution_count": 60,
   "metadata": {},
   "outputs": [],
   "source": [
    "df_fashion=pd.DataFrame()\n",
    "df_fashion['image_path']=val_idx_fashion\n",
    "df_pred=pd.DataFrame(pred_fashion)\n",
    "df_pred.columns=cat_fashion\n",
    "df_fashion=pd.concat([df_fashion,df_pred],axis=1)\n",
    "df_fashion['final_pred']=df_fashion.iloc[:,1:].idxmax(axis=1)"
   ]
  },
  {
   "cell_type": "code",
   "execution_count": 61,
   "metadata": {},
   "outputs": [],
   "source": [
    "df_fashion['Category']=[cat_fashion[i] for i in data_beauty.val_y]\n"
   ]
  },
  {
   "cell_type": "code",
   "execution_count": 62,
   "metadata": {},
   "outputs": [
    {
     "name": "stdout",
     "output_type": "stream",
     "text": [
      "Accuracy for beauty : 0.6631529705286138\n"
     ]
    }
   ],
   "source": [
    "# let's check accuracy for each folder\n",
    "print('Accuracy for beauty :',(df_fashion.final_pred==df_fashion.Category).mean())"
   ]
  },
  {
   "cell_type": "code",
   "execution_count": 63,
   "metadata": {},
   "outputs": [
    {
     "data": {
      "text/plain": [
       "array(['31', '32', '33', '34', '35', '36', '37', '38', '39', '40', '41', '42', '43', '44', '45', '46', '47',\n",
       "       '48', '49', '50', '51', '52', '53', '54', '55', '56', '57'], dtype=object)"
      ]
     },
     "execution_count": 63,
     "metadata": {},
     "output_type": "execute_result"
    }
   ],
   "source": [
    "df_fashion.Category.unique()"
   ]
  },
  {
   "cell_type": "code",
   "execution_count": 64,
   "metadata": {},
   "outputs": [],
   "source": [
    "def remove_valid(path):\n",
    "    if path[7]=='\\\\':\n",
    "        return path[8:]\n",
    "    else:\n",
    "        return path[9:]"
   ]
  },
  {
   "cell_type": "code",
   "execution_count": 69,
   "metadata": {},
   "outputs": [
    {
     "data": {
      "text/plain": [
       "0    00018defe03935e545929201b8eec50a.jpg\n",
       "1    000445556b7323a60a2e8a0a7525d77a.jpg\n",
       "2    002045a96de47a7acadfac21e6b21b2e.jpg\n",
       "3    002f84fd7e8051c80217f9d54facda9d.jpg\n",
       "4    00401810b3ce1ce7667afbaeb58106cb.jpg\n",
       "Name: image_path, dtype: object"
      ]
     },
     "execution_count": 69,
     "metadata": {},
     "output_type": "execute_result"
    }
   ],
   "source": [
    "df_fashion['image_path'].map(lambda x: x[9:]).head()"
   ]
  },
  {
   "cell_type": "code",
   "execution_count": 70,
   "metadata": {},
   "outputs": [],
   "source": [
    "# Let's export our validation set. But before we need to remove some parts from indexes\n",
    "df_fashion['image_path']=df_fashion['image_path'].map(lambda x: x[9:])"
   ]
  },
  {
   "cell_type": "code",
   "execution_count": 71,
   "metadata": {
    "scrolled": true
   },
   "outputs": [
    {
     "data": {
      "text/html": [
       "<div>\n",
       "<style scoped>\n",
       "    .dataframe tbody tr th:only-of-type {\n",
       "        vertical-align: middle;\n",
       "    }\n",
       "\n",
       "    .dataframe tbody tr th {\n",
       "        vertical-align: top;\n",
       "    }\n",
       "\n",
       "    .dataframe thead th {\n",
       "        text-align: right;\n",
       "    }\n",
       "</style>\n",
       "<table border=\"1\" class=\"dataframe\">\n",
       "  <thead>\n",
       "    <tr style=\"text-align: right;\">\n",
       "      <th></th>\n",
       "      <th>image_path</th>\n",
       "      <th>31</th>\n",
       "      <th>32</th>\n",
       "      <th>33</th>\n",
       "      <th>34</th>\n",
       "      <th>35</th>\n",
       "      <th>36</th>\n",
       "      <th>37</th>\n",
       "      <th>38</th>\n",
       "      <th>39</th>\n",
       "      <th>...</th>\n",
       "      <th>50</th>\n",
       "      <th>51</th>\n",
       "      <th>52</th>\n",
       "      <th>53</th>\n",
       "      <th>54</th>\n",
       "      <th>55</th>\n",
       "      <th>56</th>\n",
       "      <th>57</th>\n",
       "      <th>final_pred</th>\n",
       "      <th>Category</th>\n",
       "    </tr>\n",
       "  </thead>\n",
       "  <tbody>\n",
       "    <tr>\n",
       "      <th>0</th>\n",
       "      <td>00018defe03935e545929201b8eec50a.jpg</td>\n",
       "      <td>0.881654</td>\n",
       "      <td>0.011352</td>\n",
       "      <td>0.000531</td>\n",
       "      <td>0.017405</td>\n",
       "      <td>0.073400</td>\n",
       "      <td>0.000063</td>\n",
       "      <td>0.000580</td>\n",
       "      <td>0.000191</td>\n",
       "      <td>0.000084</td>\n",
       "      <td>...</td>\n",
       "      <td>0.000035</td>\n",
       "      <td>0.000063</td>\n",
       "      <td>0.000047</td>\n",
       "      <td>0.000052</td>\n",
       "      <td>0.000101</td>\n",
       "      <td>0.000019</td>\n",
       "      <td>0.000059</td>\n",
       "      <td>0.000013</td>\n",
       "      <td>31</td>\n",
       "      <td>31</td>\n",
       "    </tr>\n",
       "    <tr>\n",
       "      <th>1</th>\n",
       "      <td>000445556b7323a60a2e8a0a7525d77a.jpg</td>\n",
       "      <td>0.471700</td>\n",
       "      <td>0.054766</td>\n",
       "      <td>0.031106</td>\n",
       "      <td>0.059207</td>\n",
       "      <td>0.214028</td>\n",
       "      <td>0.000655</td>\n",
       "      <td>0.003766</td>\n",
       "      <td>0.001700</td>\n",
       "      <td>0.000925</td>\n",
       "      <td>...</td>\n",
       "      <td>0.000154</td>\n",
       "      <td>0.000261</td>\n",
       "      <td>0.000205</td>\n",
       "      <td>0.000509</td>\n",
       "      <td>0.000205</td>\n",
       "      <td>0.000206</td>\n",
       "      <td>0.000263</td>\n",
       "      <td>0.000121</td>\n",
       "      <td>31</td>\n",
       "      <td>31</td>\n",
       "    </tr>\n",
       "    <tr>\n",
       "      <th>2</th>\n",
       "      <td>002045a96de47a7acadfac21e6b21b2e.jpg</td>\n",
       "      <td>0.978153</td>\n",
       "      <td>0.000912</td>\n",
       "      <td>0.000031</td>\n",
       "      <td>0.001286</td>\n",
       "      <td>0.011972</td>\n",
       "      <td>0.000007</td>\n",
       "      <td>0.000071</td>\n",
       "      <td>0.000049</td>\n",
       "      <td>0.000001</td>\n",
       "      <td>...</td>\n",
       "      <td>0.000002</td>\n",
       "      <td>0.000004</td>\n",
       "      <td>0.000004</td>\n",
       "      <td>0.000007</td>\n",
       "      <td>0.000005</td>\n",
       "      <td>0.000005</td>\n",
       "      <td>0.000005</td>\n",
       "      <td>0.000001</td>\n",
       "      <td>31</td>\n",
       "      <td>31</td>\n",
       "    </tr>\n",
       "    <tr>\n",
       "      <th>3</th>\n",
       "      <td>002f84fd7e8051c80217f9d54facda9d.jpg</td>\n",
       "      <td>0.933690</td>\n",
       "      <td>0.003673</td>\n",
       "      <td>0.000080</td>\n",
       "      <td>0.004411</td>\n",
       "      <td>0.034612</td>\n",
       "      <td>0.000003</td>\n",
       "      <td>0.000097</td>\n",
       "      <td>0.000272</td>\n",
       "      <td>0.000005</td>\n",
       "      <td>...</td>\n",
       "      <td>0.000024</td>\n",
       "      <td>0.000006</td>\n",
       "      <td>0.000020</td>\n",
       "      <td>0.000017</td>\n",
       "      <td>0.000006</td>\n",
       "      <td>0.000016</td>\n",
       "      <td>0.000015</td>\n",
       "      <td>0.000003</td>\n",
       "      <td>31</td>\n",
       "      <td>31</td>\n",
       "    </tr>\n",
       "    <tr>\n",
       "      <th>4</th>\n",
       "      <td>00401810b3ce1ce7667afbaeb58106cb.jpg</td>\n",
       "      <td>0.927938</td>\n",
       "      <td>0.000490</td>\n",
       "      <td>0.000031</td>\n",
       "      <td>0.006413</td>\n",
       "      <td>0.061685</td>\n",
       "      <td>0.000027</td>\n",
       "      <td>0.000178</td>\n",
       "      <td>0.000172</td>\n",
       "      <td>0.000006</td>\n",
       "      <td>...</td>\n",
       "      <td>0.000103</td>\n",
       "      <td>0.000014</td>\n",
       "      <td>0.000028</td>\n",
       "      <td>0.000013</td>\n",
       "      <td>0.000009</td>\n",
       "      <td>0.000016</td>\n",
       "      <td>0.000018</td>\n",
       "      <td>0.000004</td>\n",
       "      <td>31</td>\n",
       "      <td>31</td>\n",
       "    </tr>\n",
       "  </tbody>\n",
       "</table>\n",
       "<p>5 rows × 30 columns</p>\n",
       "</div>"
      ],
      "text/plain": [
       "                             image_path        31        32        33  \\\n",
       "0  00018defe03935e545929201b8eec50a.jpg  0.881654  0.011352  0.000531   \n",
       "1  000445556b7323a60a2e8a0a7525d77a.jpg  0.471700  0.054766  0.031106   \n",
       "2  002045a96de47a7acadfac21e6b21b2e.jpg  0.978153  0.000912  0.000031   \n",
       "3  002f84fd7e8051c80217f9d54facda9d.jpg  0.933690  0.003673  0.000080   \n",
       "4  00401810b3ce1ce7667afbaeb58106cb.jpg  0.927938  0.000490  0.000031   \n",
       "\n",
       "         34        35        36        37        38        39    ...     \\\n",
       "0  0.017405  0.073400  0.000063  0.000580  0.000191  0.000084    ...      \n",
       "1  0.059207  0.214028  0.000655  0.003766  0.001700  0.000925    ...      \n",
       "2  0.001286  0.011972  0.000007  0.000071  0.000049  0.000001    ...      \n",
       "3  0.004411  0.034612  0.000003  0.000097  0.000272  0.000005    ...      \n",
       "4  0.006413  0.061685  0.000027  0.000178  0.000172  0.000006    ...      \n",
       "\n",
       "         50        51        52        53        54        55        56  \\\n",
       "0  0.000035  0.000063  0.000047  0.000052  0.000101  0.000019  0.000059   \n",
       "1  0.000154  0.000261  0.000205  0.000509  0.000205  0.000206  0.000263   \n",
       "2  0.000002  0.000004  0.000004  0.000007  0.000005  0.000005  0.000005   \n",
       "3  0.000024  0.000006  0.000020  0.000017  0.000006  0.000016  0.000015   \n",
       "4  0.000103  0.000014  0.000028  0.000013  0.000009  0.000016  0.000018   \n",
       "\n",
       "         57  final_pred  Category  \n",
       "0  0.000013          31        31  \n",
       "1  0.000121          31        31  \n",
       "2  0.000001          31        31  \n",
       "3  0.000003          31        31  \n",
       "4  0.000004          31        31  \n",
       "\n",
       "[5 rows x 30 columns]"
      ]
     },
     "execution_count": 71,
     "metadata": {},
     "output_type": "execute_result"
    }
   ],
   "source": [
    "df_fashion.head()"
   ]
  },
  {
   "cell_type": "code",
   "execution_count": 72,
   "metadata": {},
   "outputs": [
    {
     "data": {
      "text/plain": [
       "(32065, 30)"
      ]
     },
     "execution_count": 72,
     "metadata": {},
     "output_type": "execute_result"
    }
   ],
   "source": [
    "df_fashion.shape"
   ]
  },
  {
   "cell_type": "code",
   "execution_count": 73,
   "metadata": {},
   "outputs": [],
   "source": [
    "from sklearn.model_selection import train_test_split"
   ]
  },
  {
   "cell_type": "code",
   "execution_count": 74,
   "metadata": {},
   "outputs": [],
   "source": [
    "df_train=pd.read_csv('train.csv')\n",
    "df_train['Group']=df_train['image_path'].map(lambda x : x[:7])"
   ]
  },
  {
   "cell_type": "code",
   "execution_count": 76,
   "metadata": {},
   "outputs": [
    {
     "data": {
      "text/plain": [
       "0    6b2e9cbb279ac95703348368aa65da09.jpg\n",
       "1    20450222d857c9571ba8fa23bdedc8c9.jpg\n",
       "2    6a5962bed605a3dd6604ca3a4278a4f9.jpg\n",
       "3    56987ae186e8a8e71fcc5a261ca485da.jpg\n",
       "4    9c6968066ebab57588c2f757a240d8b9.jpg\n",
       "Name: image_path, dtype: object"
      ]
     },
     "execution_count": 76,
     "metadata": {},
     "output_type": "execute_result"
    }
   ],
   "source": [
    "df_train.image_path.head().map(lambda x:x[13:])"
   ]
  },
  {
   "cell_type": "code",
   "execution_count": 77,
   "metadata": {},
   "outputs": [],
   "source": [
    "df_train.loc[df_train.Group=='mobile_','image_path']=df_train[df_train.Group=='mobile_'].image_path.map(lambda x: x[13:])"
   ]
  },
  {
   "cell_type": "code",
   "execution_count": 78,
   "metadata": {},
   "outputs": [],
   "source": [
    "train,test=train_test_split(df_train,random_state=2019,stratify=df_train.Category,test_size=0.2)"
   ]
  },
  {
   "cell_type": "code",
   "execution_count": 79,
   "metadata": {},
   "outputs": [
    {
     "data": {
      "text/plain": [
       "(133323, 5)"
      ]
     },
     "execution_count": 79,
     "metadata": {},
     "output_type": "execute_result"
    }
   ],
   "source": [
    "test.shape"
   ]
  },
  {
   "cell_type": "code",
   "execution_count": 80,
   "metadata": {},
   "outputs": [
    {
     "data": {
      "text/html": [
       "<div>\n",
       "<style scoped>\n",
       "    .dataframe tbody tr th:only-of-type {\n",
       "        vertical-align: middle;\n",
       "    }\n",
       "\n",
       "    .dataframe tbody tr th {\n",
       "        vertical-align: top;\n",
       "    }\n",
       "\n",
       "    .dataframe thead th {\n",
       "        text-align: right;\n",
       "    }\n",
       "</style>\n",
       "<table border=\"1\" class=\"dataframe\">\n",
       "  <thead>\n",
       "    <tr style=\"text-align: right;\">\n",
       "      <th></th>\n",
       "      <th>itemid</th>\n",
       "      <th>title</th>\n",
       "      <th>Category</th>\n",
       "      <th>image_path</th>\n",
       "      <th>Group</th>\n",
       "    </tr>\n",
       "  </thead>\n",
       "  <tbody>\n",
       "    <tr>\n",
       "      <th>539829</th>\n",
       "      <td>1058517290</td>\n",
       "      <td>xiaomi mi a1 garansi resmi 1 tahun tam</td>\n",
       "      <td>34</td>\n",
       "      <td>3912586cdf51144db783b2bac1ee4d3f.jpg</td>\n",
       "      <td>mobile_</td>\n",
       "    </tr>\n",
       "    <tr>\n",
       "      <th>473036</th>\n",
       "      <td>286463264</td>\n",
       "      <td>blus sexy model off shoulder</td>\n",
       "      <td>26</td>\n",
       "      <td>fashion_image/cb790137111e2525cd895c3375fe84c0</td>\n",
       "      <td>fashion</td>\n",
       "    </tr>\n",
       "    <tr>\n",
       "      <th>252009</th>\n",
       "      <td>1537965166</td>\n",
       "      <td>best sale jafra royal jelly radiance foundatio...</td>\n",
       "      <td>1</td>\n",
       "      <td>beauty_image/5adfe3e65ad2f51a1e67db85a3de8e18.jpg</td>\n",
       "      <td>beauty_</td>\n",
       "    </tr>\n",
       "    <tr>\n",
       "      <th>355772</th>\n",
       "      <td>1465709373</td>\n",
       "      <td>dress midi bodycon casual elegan warna polos u...</td>\n",
       "      <td>22</td>\n",
       "      <td>fashion_image/cbedaa2404fb377dc6c271a1081f7baa</td>\n",
       "      <td>fashion</td>\n",
       "    </tr>\n",
       "    <tr>\n",
       "      <th>553954</th>\n",
       "      <td>1195506745</td>\n",
       "      <td>promo discon samsung galaxy s7 flat sein garan...</td>\n",
       "      <td>35</td>\n",
       "      <td>bb327fec3989b18f714deb3c07203fb8.jpg</td>\n",
       "      <td>mobile_</td>\n",
       "    </tr>\n",
       "  </tbody>\n",
       "</table>\n",
       "</div>"
      ],
      "text/plain": [
       "            itemid                                              title  \\\n",
       "539829  1058517290             xiaomi mi a1 garansi resmi 1 tahun tam   \n",
       "473036   286463264                       blus sexy model off shoulder   \n",
       "252009  1537965166  best sale jafra royal jelly radiance foundatio...   \n",
       "355772  1465709373  dress midi bodycon casual elegan warna polos u...   \n",
       "553954  1195506745  promo discon samsung galaxy s7 flat sein garan...   \n",
       "\n",
       "        Category                                         image_path    Group  \n",
       "539829        34               3912586cdf51144db783b2bac1ee4d3f.jpg  mobile_  \n",
       "473036        26     fashion_image/cb790137111e2525cd895c3375fe84c0  fashion  \n",
       "252009         1  beauty_image/5adfe3e65ad2f51a1e67db85a3de8e18.jpg  beauty_  \n",
       "355772        22     fashion_image/cbedaa2404fb377dc6c271a1081f7baa  fashion  \n",
       "553954        35               bb327fec3989b18f714deb3c07203fb8.jpg  mobile_  "
      ]
     },
     "execution_count": 80,
     "metadata": {},
     "output_type": "execute_result"
    }
   ],
   "source": [
    "test.head()"
   ]
  },
  {
   "cell_type": "code",
   "execution_count": 81,
   "metadata": {},
   "outputs": [],
   "source": [
    "df_val=test[test.Group=='mobile_'][['itemid','image_path']].merge(df_fashion,on='image_path')"
   ]
  },
  {
   "cell_type": "code",
   "execution_count": 82,
   "metadata": {},
   "outputs": [],
   "source": [
    "df_val.set_index('itemid',inplace=True)"
   ]
  },
  {
   "cell_type": "code",
   "execution_count": 83,
   "metadata": {},
   "outputs": [],
   "source": [
    "df_val=df_val.loc[test[test.Group=='mobile_'].itemid,:]"
   ]
  },
  {
   "cell_type": "code",
   "execution_count": 84,
   "metadata": {},
   "outputs": [],
   "source": [
    "df_val.reset_index(inplace=True)"
   ]
  },
  {
   "cell_type": "code",
   "execution_count": 85,
   "metadata": {},
   "outputs": [],
   "source": [
    "df_val.to_csv('val_mobile__v2.csv')"
   ]
  },
  {
   "cell_type": "code",
   "execution_count": 86,
   "metadata": {},
   "outputs": [],
   "source": [
    "# Let's save test data\n",
    "# We need to take exp to get probabilities \n",
    "pred_fashion= np.mean(np.exp(log_preds_test),0)\n",
    "# get indexes of validation set\n",
    "val_idx_fashion=data_beauty.test_ds.fnames\n",
    "# Get classes might not be ordered\n",
    "cat_fashion=data_beauty.classes\n",
    "\n",
    "\n",
    "df_fashion=pd.DataFrame()\n",
    "df_fashion['image_path']=val_idx_fashion\n",
    "df_pred=pd.DataFrame(pred_fashion)\n",
    "df_pred.columns=cat_fashion\n",
    "df_fashion=pd.concat([df_fashion,df_pred],axis=1)\n",
    "df_fashion['final_pred']=df_fashion.iloc[:,1:].idxmax(axis=1)"
   ]
  },
  {
   "cell_type": "code",
   "execution_count": 87,
   "metadata": {},
   "outputs": [
    {
     "data": {
      "text/html": [
       "<div>\n",
       "<style scoped>\n",
       "    .dataframe tbody tr th:only-of-type {\n",
       "        vertical-align: middle;\n",
       "    }\n",
       "\n",
       "    .dataframe tbody tr th {\n",
       "        vertical-align: top;\n",
       "    }\n",
       "\n",
       "    .dataframe thead th {\n",
       "        text-align: right;\n",
       "    }\n",
       "</style>\n",
       "<table border=\"1\" class=\"dataframe\">\n",
       "  <thead>\n",
       "    <tr style=\"text-align: right;\">\n",
       "      <th></th>\n",
       "      <th>image_path</th>\n",
       "      <th>31</th>\n",
       "      <th>32</th>\n",
       "      <th>33</th>\n",
       "      <th>34</th>\n",
       "      <th>35</th>\n",
       "      <th>36</th>\n",
       "      <th>37</th>\n",
       "      <th>38</th>\n",
       "      <th>39</th>\n",
       "      <th>...</th>\n",
       "      <th>49</th>\n",
       "      <th>50</th>\n",
       "      <th>51</th>\n",
       "      <th>52</th>\n",
       "      <th>53</th>\n",
       "      <th>54</th>\n",
       "      <th>55</th>\n",
       "      <th>56</th>\n",
       "      <th>57</th>\n",
       "      <th>final_pred</th>\n",
       "    </tr>\n",
       "  </thead>\n",
       "  <tbody>\n",
       "    <tr>\n",
       "      <th>0</th>\n",
       "      <td>test\\0000456f97a4805ba4960084ffc8c058.jpg</td>\n",
       "      <td>0.055559</td>\n",
       "      <td>0.705202</td>\n",
       "      <td>0.043446</td>\n",
       "      <td>0.030948</td>\n",
       "      <td>0.108064</td>\n",
       "      <td>0.001189</td>\n",
       "      <td>0.004702</td>\n",
       "      <td>0.004096</td>\n",
       "      <td>0.000157</td>\n",
       "      <td>...</td>\n",
       "      <td>0.001401</td>\n",
       "      <td>0.000039</td>\n",
       "      <td>0.000093</td>\n",
       "      <td>0.000117</td>\n",
       "      <td>0.000110</td>\n",
       "      <td>0.000370</td>\n",
       "      <td>0.000089</td>\n",
       "      <td>0.000126</td>\n",
       "      <td>0.000061</td>\n",
       "      <td>32</td>\n",
       "    </tr>\n",
       "    <tr>\n",
       "      <th>1</th>\n",
       "      <td>test\\0003cb2b0c95619f009df611f77e0cf1.jpg</td>\n",
       "      <td>0.011668</td>\n",
       "      <td>0.837724</td>\n",
       "      <td>0.004349</td>\n",
       "      <td>0.027684</td>\n",
       "      <td>0.079806</td>\n",
       "      <td>0.000173</td>\n",
       "      <td>0.001083</td>\n",
       "      <td>0.002778</td>\n",
       "      <td>0.000284</td>\n",
       "      <td>...</td>\n",
       "      <td>0.000768</td>\n",
       "      <td>0.000019</td>\n",
       "      <td>0.000044</td>\n",
       "      <td>0.000063</td>\n",
       "      <td>0.000061</td>\n",
       "      <td>0.000102</td>\n",
       "      <td>0.000140</td>\n",
       "      <td>0.000124</td>\n",
       "      <td>0.000041</td>\n",
       "      <td>32</td>\n",
       "    </tr>\n",
       "    <tr>\n",
       "      <th>2</th>\n",
       "      <td>test\\000a5df2a604db41dd082527ea71b4b6.jpg</td>\n",
       "      <td>0.005001</td>\n",
       "      <td>0.919315</td>\n",
       "      <td>0.000230</td>\n",
       "      <td>0.004297</td>\n",
       "      <td>0.062639</td>\n",
       "      <td>0.000691</td>\n",
       "      <td>0.000458</td>\n",
       "      <td>0.000591</td>\n",
       "      <td>0.000399</td>\n",
       "      <td>...</td>\n",
       "      <td>0.000804</td>\n",
       "      <td>0.000010</td>\n",
       "      <td>0.000046</td>\n",
       "      <td>0.000087</td>\n",
       "      <td>0.000074</td>\n",
       "      <td>0.000700</td>\n",
       "      <td>0.000039</td>\n",
       "      <td>0.000513</td>\n",
       "      <td>0.000044</td>\n",
       "      <td>32</td>\n",
       "    </tr>\n",
       "    <tr>\n",
       "      <th>3</th>\n",
       "      <td>test\\000b814a6fbe3bc875c4b8b6d3fc4608.jpg</td>\n",
       "      <td>0.695611</td>\n",
       "      <td>0.036754</td>\n",
       "      <td>0.000473</td>\n",
       "      <td>0.013306</td>\n",
       "      <td>0.151080</td>\n",
       "      <td>0.001358</td>\n",
       "      <td>0.000638</td>\n",
       "      <td>0.004107</td>\n",
       "      <td>0.001012</td>\n",
       "      <td>...</td>\n",
       "      <td>0.001811</td>\n",
       "      <td>0.000937</td>\n",
       "      <td>0.001440</td>\n",
       "      <td>0.000996</td>\n",
       "      <td>0.000728</td>\n",
       "      <td>0.000310</td>\n",
       "      <td>0.000617</td>\n",
       "      <td>0.001010</td>\n",
       "      <td>0.000319</td>\n",
       "      <td>31</td>\n",
       "    </tr>\n",
       "    <tr>\n",
       "      <th>4</th>\n",
       "      <td>test\\000b8c87e736285add60a1f923fa6a0e.jpg</td>\n",
       "      <td>0.001704</td>\n",
       "      <td>0.003474</td>\n",
       "      <td>0.000123</td>\n",
       "      <td>0.937824</td>\n",
       "      <td>0.046907</td>\n",
       "      <td>0.000004</td>\n",
       "      <td>0.000510</td>\n",
       "      <td>0.000076</td>\n",
       "      <td>0.000026</td>\n",
       "      <td>...</td>\n",
       "      <td>0.000054</td>\n",
       "      <td>0.000007</td>\n",
       "      <td>0.000003</td>\n",
       "      <td>0.000019</td>\n",
       "      <td>0.000023</td>\n",
       "      <td>0.000032</td>\n",
       "      <td>0.000002</td>\n",
       "      <td>0.000091</td>\n",
       "      <td>0.000013</td>\n",
       "      <td>34</td>\n",
       "    </tr>\n",
       "  </tbody>\n",
       "</table>\n",
       "<p>5 rows × 29 columns</p>\n",
       "</div>"
      ],
      "text/plain": [
       "                                  image_path        31        32        33  \\\n",
       "0  test\\0000456f97a4805ba4960084ffc8c058.jpg  0.055559  0.705202  0.043446   \n",
       "1  test\\0003cb2b0c95619f009df611f77e0cf1.jpg  0.011668  0.837724  0.004349   \n",
       "2  test\\000a5df2a604db41dd082527ea71b4b6.jpg  0.005001  0.919315  0.000230   \n",
       "3  test\\000b814a6fbe3bc875c4b8b6d3fc4608.jpg  0.695611  0.036754  0.000473   \n",
       "4  test\\000b8c87e736285add60a1f923fa6a0e.jpg  0.001704  0.003474  0.000123   \n",
       "\n",
       "         34        35        36        37        38        39     ...      \\\n",
       "0  0.030948  0.108064  0.001189  0.004702  0.004096  0.000157     ...       \n",
       "1  0.027684  0.079806  0.000173  0.001083  0.002778  0.000284     ...       \n",
       "2  0.004297  0.062639  0.000691  0.000458  0.000591  0.000399     ...       \n",
       "3  0.013306  0.151080  0.001358  0.000638  0.004107  0.001012     ...       \n",
       "4  0.937824  0.046907  0.000004  0.000510  0.000076  0.000026     ...       \n",
       "\n",
       "         49        50        51        52        53        54        55  \\\n",
       "0  0.001401  0.000039  0.000093  0.000117  0.000110  0.000370  0.000089   \n",
       "1  0.000768  0.000019  0.000044  0.000063  0.000061  0.000102  0.000140   \n",
       "2  0.000804  0.000010  0.000046  0.000087  0.000074  0.000700  0.000039   \n",
       "3  0.001811  0.000937  0.001440  0.000996  0.000728  0.000310  0.000617   \n",
       "4  0.000054  0.000007  0.000003  0.000019  0.000023  0.000032  0.000002   \n",
       "\n",
       "         56        57  final_pred  \n",
       "0  0.000126  0.000061          32  \n",
       "1  0.000124  0.000041          32  \n",
       "2  0.000513  0.000044          32  \n",
       "3  0.001010  0.000319          31  \n",
       "4  0.000091  0.000013          34  \n",
       "\n",
       "[5 rows x 29 columns]"
      ]
     },
     "execution_count": 87,
     "metadata": {},
     "output_type": "execute_result"
    }
   ],
   "source": [
    "df_fashion.head()"
   ]
  },
  {
   "cell_type": "code",
   "execution_count": 88,
   "metadata": {},
   "outputs": [],
   "source": [
    "df_fashion.loc[:,'image_path']=df_fashion['image_path'].map(lambda x: x[5:])"
   ]
  },
  {
   "cell_type": "code",
   "execution_count": 89,
   "metadata": {
    "scrolled": true
   },
   "outputs": [
    {
     "data": {
      "text/html": [
       "<div>\n",
       "<style scoped>\n",
       "    .dataframe tbody tr th:only-of-type {\n",
       "        vertical-align: middle;\n",
       "    }\n",
       "\n",
       "    .dataframe tbody tr th {\n",
       "        vertical-align: top;\n",
       "    }\n",
       "\n",
       "    .dataframe thead th {\n",
       "        text-align: right;\n",
       "    }\n",
       "</style>\n",
       "<table border=\"1\" class=\"dataframe\">\n",
       "  <thead>\n",
       "    <tr style=\"text-align: right;\">\n",
       "      <th></th>\n",
       "      <th>itemid</th>\n",
       "      <th>title</th>\n",
       "      <th>image_path</th>\n",
       "      <th>Group</th>\n",
       "    </tr>\n",
       "  </thead>\n",
       "  <tbody>\n",
       "    <tr>\n",
       "      <th>131985</th>\n",
       "      <td>1520485457</td>\n",
       "      <td>new promo iphone 5s 16gb gold ex resmi ibox</td>\n",
       "      <td>876d4a1fe29e056855fa6f9643757b1c.jpg</td>\n",
       "      <td>mobile_</td>\n",
       "    </tr>\n",
       "    <tr>\n",
       "      <th>131986</th>\n",
       "      <td>1520516704</td>\n",
       "      <td>new promo xiaomi note 5a prime 3 32gb tam</td>\n",
       "      <td>e2b902b7cd35cd50f061d8e2a3ba7178.jpg</td>\n",
       "      <td>mobile_</td>\n",
       "    </tr>\n",
       "    <tr>\n",
       "      <th>131987</th>\n",
       "      <td>1520726573</td>\n",
       "      <td>big produk super murah oppo f5 4gb 32gb fullset</td>\n",
       "      <td>785c03cb1a21a1efedb8c1bbbdb81035.jpg</td>\n",
       "      <td>mobile_</td>\n",
       "    </tr>\n",
       "    <tr>\n",
       "      <th>131988</th>\n",
       "      <td>1523303826</td>\n",
       "      <td>pocophone xiaomi f1 ram 6gb rom 128gb</td>\n",
       "      <td>08bb7a43ae0fafd568ad54db908bac0b.jpg</td>\n",
       "      <td>mobile_</td>\n",
       "    </tr>\n",
       "    <tr>\n",
       "      <th>131989</th>\n",
       "      <td>1524467616</td>\n",
       "      <td>advan g2</td>\n",
       "      <td>970134be2e5961bda177e9761e1cf6ab.jpg</td>\n",
       "      <td>mobile_</td>\n",
       "    </tr>\n",
       "  </tbody>\n",
       "</table>\n",
       "</div>"
      ],
      "text/plain": [
       "            itemid                                            title  \\\n",
       "131985  1520485457      new promo iphone 5s 16gb gold ex resmi ibox   \n",
       "131986  1520516704        new promo xiaomi note 5a prime 3 32gb tam   \n",
       "131987  1520726573  big produk super murah oppo f5 4gb 32gb fullset   \n",
       "131988  1523303826            pocophone xiaomi f1 ram 6gb rom 128gb   \n",
       "131989  1524467616                                         advan g2   \n",
       "\n",
       "                                  image_path    Group  \n",
       "131985  876d4a1fe29e056855fa6f9643757b1c.jpg  mobile_  \n",
       "131986  e2b902b7cd35cd50f061d8e2a3ba7178.jpg  mobile_  \n",
       "131987  785c03cb1a21a1efedb8c1bbbdb81035.jpg  mobile_  \n",
       "131988  08bb7a43ae0fafd568ad54db908bac0b.jpg  mobile_  \n",
       "131989  970134be2e5961bda177e9761e1cf6ab.jpg  mobile_  "
      ]
     },
     "execution_count": 89,
     "metadata": {},
     "output_type": "execute_result"
    }
   ],
   "source": [
    "df_test[df_test.Group=='mobile_'].head()"
   ]
  },
  {
   "cell_type": "code",
   "execution_count": 90,
   "metadata": {
    "scrolled": true
   },
   "outputs": [],
   "source": [
    "df_val=df_test[df_test.Group=='mobile_'][['itemid','image_path']].merge(df_fashion,on='image_path')\n",
    "df_val.set_index('itemid',inplace=True)\n",
    "df_val=df_val.loc[df_test[df_test.Group=='mobile_'].itemid,:]\n",
    "df_val.reset_index(inplace=True)\n",
    "df_val.to_csv('test_mobile__v2.csv')"
   ]
  },
  {
   "cell_type": "code",
   "execution_count": null,
   "metadata": {},
   "outputs": [],
   "source": [
    "# Let's try to train further and see if we can improve more"
   ]
  },
  {
   "cell_type": "code",
   "execution_count": 93,
   "metadata": {},
   "outputs": [
    {
     "data": {
      "text/html": [
       "<div>\n",
       "<style scoped>\n",
       "    .dataframe tbody tr th:only-of-type {\n",
       "        vertical-align: middle;\n",
       "    }\n",
       "\n",
       "    .dataframe tbody tr th {\n",
       "        vertical-align: top;\n",
       "    }\n",
       "\n",
       "    .dataframe thead th {\n",
       "        text-align: right;\n",
       "    }\n",
       "</style>\n",
       "<table border=\"1\" class=\"dataframe\">\n",
       "  <thead>\n",
       "    <tr style=\"text-align: right;\">\n",
       "      <th></th>\n",
       "      <th>itemid</th>\n",
       "      <th>title</th>\n",
       "      <th>Category</th>\n",
       "      <th>image_path</th>\n",
       "      <th>Group</th>\n",
       "    </tr>\n",
       "  </thead>\n",
       "  <tbody>\n",
       "    <tr>\n",
       "      <th>0</th>\n",
       "      <td>307504</td>\n",
       "      <td>nyx sex bomb pallete natural palette</td>\n",
       "      <td>0</td>\n",
       "      <td>beauty_image/6b2e9cbb279ac95703348368aa65da09.jpg</td>\n",
       "      <td>beauty_</td>\n",
       "    </tr>\n",
       "    <tr>\n",
       "      <th>1</th>\n",
       "      <td>461203</td>\n",
       "      <td>etude house precious mineral any cushion pearl...</td>\n",
       "      <td>1</td>\n",
       "      <td>beauty_image/20450222d857c9571ba8fa23bdedc8c9.jpg</td>\n",
       "      <td>beauty_</td>\n",
       "    </tr>\n",
       "    <tr>\n",
       "      <th>2</th>\n",
       "      <td>3592295</td>\n",
       "      <td>milani rose powder blush</td>\n",
       "      <td>2</td>\n",
       "      <td>beauty_image/6a5962bed605a3dd6604ca3a4278a4f9.jpg</td>\n",
       "      <td>beauty_</td>\n",
       "    </tr>\n",
       "    <tr>\n",
       "      <th>3</th>\n",
       "      <td>4460167</td>\n",
       "      <td>etude house baby sweet sugar powder</td>\n",
       "      <td>3</td>\n",
       "      <td>beauty_image/56987ae186e8a8e71fcc5a261ca485da.jpg</td>\n",
       "      <td>beauty_</td>\n",
       "    </tr>\n",
       "    <tr>\n",
       "      <th>4</th>\n",
       "      <td>5853995</td>\n",
       "      <td>bedak revlon color stay aqua mineral make up</td>\n",
       "      <td>3</td>\n",
       "      <td>beauty_image/9c6968066ebab57588c2f757a240d8b9.jpg</td>\n",
       "      <td>beauty_</td>\n",
       "    </tr>\n",
       "  </tbody>\n",
       "</table>\n",
       "</div>"
      ],
      "text/plain": [
       "    itemid                                              title  Category  \\\n",
       "0   307504               nyx sex bomb pallete natural palette         0   \n",
       "1   461203  etude house precious mineral any cushion pearl...         1   \n",
       "2  3592295                           milani rose powder blush         2   \n",
       "3  4460167                etude house baby sweet sugar powder         3   \n",
       "4  5853995       bedak revlon color stay aqua mineral make up         3   \n",
       "\n",
       "                                          image_path    Group  \n",
       "0  beauty_image/6b2e9cbb279ac95703348368aa65da09.jpg  beauty_  \n",
       "1  beauty_image/20450222d857c9571ba8fa23bdedc8c9.jpg  beauty_  \n",
       "2  beauty_image/6a5962bed605a3dd6604ca3a4278a4f9.jpg  beauty_  \n",
       "3  beauty_image/56987ae186e8a8e71fcc5a261ca485da.jpg  beauty_  \n",
       "4  beauty_image/9c6968066ebab57588c2f757a240d8b9.jpg  beauty_  "
      ]
     },
     "execution_count": 93,
     "metadata": {},
     "output_type": "execute_result"
    }
   ],
   "source": [
    "df_train.head()"
   ]
  },
  {
   "cell_type": "code",
   "execution_count": 94,
   "metadata": {
    "scrolled": true
   },
   "outputs": [],
   "source": [
    "df_train.loc[df_train.Group=='mobile_',['image_path','Category']].to_csv('train_mobile_all.csv',index=False)"
   ]
  },
  {
   "cell_type": "code",
   "execution_count": 95,
   "metadata": {},
   "outputs": [
    {
     "data": {
      "text/plain": [
       "506285    a9c8f0fdd6587deed197634066cf7eee.jpg\n",
       "506286    3b9a11608551b11b9330268e0d055e01.jpg\n",
       "506287    1d719e936841a83c165da620f927de68.jpg\n",
       "506288    1d35a74d90df6cf4a02e6a5df9e9ff29.jpg\n",
       "506289    5556577b09539a9c0db0d00e0f171e2d.jpg\n",
       "Name: image_path, dtype: object"
      ]
     },
     "execution_count": 95,
     "metadata": {},
     "output_type": "execute_result"
    }
   ],
   "source": [
    "df_train.loc[df_train.Group=='mobile_','image_path'].head()"
   ]
  },
  {
   "cell_type": "code",
   "execution_count": 98,
   "metadata": {},
   "outputs": [
    {
     "data": {
      "text/plain": [
       "(160330, 2)"
      ]
     },
     "execution_count": 98,
     "metadata": {},
     "output_type": "execute_result"
    }
   ],
   "source": [
    "df=pd.read_csv('train_mobile_all.csv')\n",
    "df.shape"
   ]
  },
  {
   "cell_type": "code",
   "execution_count": 99,
   "metadata": {},
   "outputs": [
    {
     "data": {
      "text/html": [
       "<div>\n",
       "<style scoped>\n",
       "    .dataframe tbody tr th:only-of-type {\n",
       "        vertical-align: middle;\n",
       "    }\n",
       "\n",
       "    .dataframe tbody tr th {\n",
       "        vertical-align: top;\n",
       "    }\n",
       "\n",
       "    .dataframe thead th {\n",
       "        text-align: right;\n",
       "    }\n",
       "</style>\n",
       "<table border=\"1\" class=\"dataframe\">\n",
       "  <thead>\n",
       "    <tr style=\"text-align: right;\">\n",
       "      <th></th>\n",
       "      <th>image_path</th>\n",
       "      <th>Category</th>\n",
       "    </tr>\n",
       "  </thead>\n",
       "  <tbody>\n",
       "    <tr>\n",
       "      <th>0</th>\n",
       "      <td>a9c8f0fdd6587deed197634066cf7eee.jpg</td>\n",
       "      <td>31</td>\n",
       "    </tr>\n",
       "    <tr>\n",
       "      <th>1</th>\n",
       "      <td>3b9a11608551b11b9330268e0d055e01.jpg</td>\n",
       "      <td>31</td>\n",
       "    </tr>\n",
       "    <tr>\n",
       "      <th>2</th>\n",
       "      <td>1d719e936841a83c165da620f927de68.jpg</td>\n",
       "      <td>32</td>\n",
       "    </tr>\n",
       "    <tr>\n",
       "      <th>3</th>\n",
       "      <td>1d35a74d90df6cf4a02e6a5df9e9ff29.jpg</td>\n",
       "      <td>32</td>\n",
       "    </tr>\n",
       "    <tr>\n",
       "      <th>4</th>\n",
       "      <td>5556577b09539a9c0db0d00e0f171e2d.jpg</td>\n",
       "      <td>33</td>\n",
       "    </tr>\n",
       "  </tbody>\n",
       "</table>\n",
       "</div>"
      ],
      "text/plain": [
       "                             image_path  Category\n",
       "0  a9c8f0fdd6587deed197634066cf7eee.jpg        31\n",
       "1  3b9a11608551b11b9330268e0d055e01.jpg        31\n",
       "2  1d719e936841a83c165da620f927de68.jpg        32\n",
       "3  1d35a74d90df6cf4a02e6a5df9e9ff29.jpg        32\n",
       "4  5556577b09539a9c0db0d00e0f171e2d.jpg        33"
      ]
     },
     "execution_count": 99,
     "metadata": {},
     "output_type": "execute_result"
    }
   ],
   "source": [
    "df.head()"
   ]
  },
  {
   "cell_type": "code",
   "execution_count": 100,
   "metadata": {},
   "outputs": [
    {
     "data": {
      "text/html": [
       "<div>\n",
       "<style scoped>\n",
       "    .dataframe tbody tr th:only-of-type {\n",
       "        vertical-align: middle;\n",
       "    }\n",
       "\n",
       "    .dataframe tbody tr th {\n",
       "        vertical-align: top;\n",
       "    }\n",
       "\n",
       "    .dataframe thead th {\n",
       "        text-align: right;\n",
       "    }\n",
       "</style>\n",
       "<table border=\"1\" class=\"dataframe\">\n",
       "  <thead>\n",
       "    <tr style=\"text-align: right;\">\n",
       "      <th></th>\n",
       "      <th>image_path</th>\n",
       "    </tr>\n",
       "    <tr>\n",
       "      <th>Category</th>\n",
       "      <th></th>\n",
       "    </tr>\n",
       "  </thead>\n",
       "  <tbody>\n",
       "    <tr>\n",
       "      <th>31</th>\n",
       "      <td>27836</td>\n",
       "    </tr>\n",
       "    <tr>\n",
       "      <th>32</th>\n",
       "      <td>29754</td>\n",
       "    </tr>\n",
       "    <tr>\n",
       "      <th>33</th>\n",
       "      <td>4821</td>\n",
       "    </tr>\n",
       "    <tr>\n",
       "      <th>34</th>\n",
       "      <td>14718</td>\n",
       "    </tr>\n",
       "    <tr>\n",
       "      <th>35</th>\n",
       "      <td>30590</td>\n",
       "    </tr>\n",
       "    <tr>\n",
       "      <th>36</th>\n",
       "      <td>1028</td>\n",
       "    </tr>\n",
       "    <tr>\n",
       "      <th>37</th>\n",
       "      <td>2272</td>\n",
       "    </tr>\n",
       "    <tr>\n",
       "      <th>38</th>\n",
       "      <td>4703</td>\n",
       "    </tr>\n",
       "    <tr>\n",
       "      <th>39</th>\n",
       "      <td>697</td>\n",
       "    </tr>\n",
       "    <tr>\n",
       "      <th>40</th>\n",
       "      <td>327</td>\n",
       "    </tr>\n",
       "    <tr>\n",
       "      <th>41</th>\n",
       "      <td>19312</td>\n",
       "    </tr>\n",
       "    <tr>\n",
       "      <th>42</th>\n",
       "      <td>10502</td>\n",
       "    </tr>\n",
       "    <tr>\n",
       "      <th>43</th>\n",
       "      <td>6147</td>\n",
       "    </tr>\n",
       "    <tr>\n",
       "      <th>44</th>\n",
       "      <td>920</td>\n",
       "    </tr>\n",
       "    <tr>\n",
       "      <th>45</th>\n",
       "      <td>2195</td>\n",
       "    </tr>\n",
       "    <tr>\n",
       "      <th>46</th>\n",
       "      <td>684</td>\n",
       "    </tr>\n",
       "    <tr>\n",
       "      <th>47</th>\n",
       "      <td>945</td>\n",
       "    </tr>\n",
       "    <tr>\n",
       "      <th>48</th>\n",
       "      <td>416</td>\n",
       "    </tr>\n",
       "    <tr>\n",
       "      <th>49</th>\n",
       "      <td>573</td>\n",
       "    </tr>\n",
       "    <tr>\n",
       "      <th>50</th>\n",
       "      <td>282</td>\n",
       "    </tr>\n",
       "    <tr>\n",
       "      <th>51</th>\n",
       "      <td>404</td>\n",
       "    </tr>\n",
       "    <tr>\n",
       "      <th>52</th>\n",
       "      <td>117</td>\n",
       "    </tr>\n",
       "    <tr>\n",
       "      <th>53</th>\n",
       "      <td>418</td>\n",
       "    </tr>\n",
       "    <tr>\n",
       "      <th>54</th>\n",
       "      <td>300</td>\n",
       "    </tr>\n",
       "    <tr>\n",
       "      <th>55</th>\n",
       "      <td>151</td>\n",
       "    </tr>\n",
       "    <tr>\n",
       "      <th>56</th>\n",
       "      <td>170</td>\n",
       "    </tr>\n",
       "    <tr>\n",
       "      <th>57</th>\n",
       "      <td>48</td>\n",
       "    </tr>\n",
       "  </tbody>\n",
       "</table>\n",
       "</div>"
      ],
      "text/plain": [
       "          image_path\n",
       "Category            \n",
       "31             27836\n",
       "32             29754\n",
       "33              4821\n",
       "34             14718\n",
       "35             30590\n",
       "36              1028\n",
       "37              2272\n",
       "38              4703\n",
       "39               697\n",
       "40               327\n",
       "41             19312\n",
       "42             10502\n",
       "43              6147\n",
       "44               920\n",
       "45              2195\n",
       "46               684\n",
       "47               945\n",
       "48               416\n",
       "49               573\n",
       "50               282\n",
       "51               404\n",
       "52               117\n",
       "53               418\n",
       "54               300\n",
       "55               151\n",
       "56               170\n",
       "57                48"
      ]
     },
     "execution_count": 100,
     "metadata": {},
     "output_type": "execute_result"
    }
   ],
   "source": [
    "df.groupby('Category').count()"
   ]
  },
  {
   "cell_type": "code",
   "execution_count": 105,
   "metadata": {},
   "outputs": [],
   "source": [
    "# We use 0.5% of data as validation set for final submission\n",
    "trn,tst=train_test_split(df,random_state=2019,stratify=df.Category,test_size=0.03)"
   ]
  },
  {
   "cell_type": "code",
   "execution_count": 106,
   "metadata": {
    "scrolled": true
   },
   "outputs": [
    {
     "data": {
      "text/html": [
       "<div>\n",
       "<style scoped>\n",
       "    .dataframe tbody tr th:only-of-type {\n",
       "        vertical-align: middle;\n",
       "    }\n",
       "\n",
       "    .dataframe tbody tr th {\n",
       "        vertical-align: top;\n",
       "    }\n",
       "\n",
       "    .dataframe thead th {\n",
       "        text-align: right;\n",
       "    }\n",
       "</style>\n",
       "<table border=\"1\" class=\"dataframe\">\n",
       "  <thead>\n",
       "    <tr style=\"text-align: right;\">\n",
       "      <th></th>\n",
       "      <th>image_path</th>\n",
       "    </tr>\n",
       "    <tr>\n",
       "      <th>Category</th>\n",
       "      <th></th>\n",
       "    </tr>\n",
       "  </thead>\n",
       "  <tbody>\n",
       "    <tr>\n",
       "      <th>31</th>\n",
       "      <td>835</td>\n",
       "    </tr>\n",
       "    <tr>\n",
       "      <th>32</th>\n",
       "      <td>893</td>\n",
       "    </tr>\n",
       "    <tr>\n",
       "      <th>33</th>\n",
       "      <td>145</td>\n",
       "    </tr>\n",
       "    <tr>\n",
       "      <th>34</th>\n",
       "      <td>442</td>\n",
       "    </tr>\n",
       "    <tr>\n",
       "      <th>35</th>\n",
       "      <td>918</td>\n",
       "    </tr>\n",
       "    <tr>\n",
       "      <th>36</th>\n",
       "      <td>31</td>\n",
       "    </tr>\n",
       "    <tr>\n",
       "      <th>37</th>\n",
       "      <td>68</td>\n",
       "    </tr>\n",
       "    <tr>\n",
       "      <th>38</th>\n",
       "      <td>141</td>\n",
       "    </tr>\n",
       "    <tr>\n",
       "      <th>39</th>\n",
       "      <td>21</td>\n",
       "    </tr>\n",
       "    <tr>\n",
       "      <th>40</th>\n",
       "      <td>10</td>\n",
       "    </tr>\n",
       "    <tr>\n",
       "      <th>41</th>\n",
       "      <td>579</td>\n",
       "    </tr>\n",
       "    <tr>\n",
       "      <th>42</th>\n",
       "      <td>315</td>\n",
       "    </tr>\n",
       "    <tr>\n",
       "      <th>43</th>\n",
       "      <td>184</td>\n",
       "    </tr>\n",
       "    <tr>\n",
       "      <th>44</th>\n",
       "      <td>28</td>\n",
       "    </tr>\n",
       "    <tr>\n",
       "      <th>45</th>\n",
       "      <td>66</td>\n",
       "    </tr>\n",
       "    <tr>\n",
       "      <th>46</th>\n",
       "      <td>21</td>\n",
       "    </tr>\n",
       "    <tr>\n",
       "      <th>47</th>\n",
       "      <td>28</td>\n",
       "    </tr>\n",
       "    <tr>\n",
       "      <th>48</th>\n",
       "      <td>12</td>\n",
       "    </tr>\n",
       "    <tr>\n",
       "      <th>49</th>\n",
       "      <td>17</td>\n",
       "    </tr>\n",
       "    <tr>\n",
       "      <th>50</th>\n",
       "      <td>8</td>\n",
       "    </tr>\n",
       "    <tr>\n",
       "      <th>51</th>\n",
       "      <td>12</td>\n",
       "    </tr>\n",
       "    <tr>\n",
       "      <th>52</th>\n",
       "      <td>3</td>\n",
       "    </tr>\n",
       "    <tr>\n",
       "      <th>53</th>\n",
       "      <td>13</td>\n",
       "    </tr>\n",
       "    <tr>\n",
       "      <th>54</th>\n",
       "      <td>9</td>\n",
       "    </tr>\n",
       "    <tr>\n",
       "      <th>55</th>\n",
       "      <td>5</td>\n",
       "    </tr>\n",
       "    <tr>\n",
       "      <th>56</th>\n",
       "      <td>5</td>\n",
       "    </tr>\n",
       "    <tr>\n",
       "      <th>57</th>\n",
       "      <td>1</td>\n",
       "    </tr>\n",
       "  </tbody>\n",
       "</table>\n",
       "</div>"
      ],
      "text/plain": [
       "          image_path\n",
       "Category            \n",
       "31               835\n",
       "32               893\n",
       "33               145\n",
       "34               442\n",
       "35               918\n",
       "36                31\n",
       "37                68\n",
       "38               141\n",
       "39                21\n",
       "40                10\n",
       "41               579\n",
       "42               315\n",
       "43               184\n",
       "44                28\n",
       "45                66\n",
       "46                21\n",
       "47                28\n",
       "48                12\n",
       "49                17\n",
       "50                 8\n",
       "51                12\n",
       "52                 3\n",
       "53                13\n",
       "54                 9\n",
       "55                 5\n",
       "56                 5\n",
       "57                 1"
      ]
     },
     "execution_count": 106,
     "metadata": {},
     "output_type": "execute_result"
    }
   ],
   "source": [
    "tst.groupby('Category').count()"
   ]
  },
  {
   "cell_type": "code",
   "execution_count": 107,
   "metadata": {},
   "outputs": [
    {
     "data": {
      "text/plain": [
       "(4810, 2)"
      ]
     },
     "execution_count": 107,
     "metadata": {},
     "output_type": "execute_result"
    }
   ],
   "source": [
    "tst.shape"
   ]
  },
  {
   "cell_type": "code",
   "execution_count": 108,
   "metadata": {},
   "outputs": [],
   "source": [
    "PATH_beauty_all='C:/Users/user/Documents/Salamat/NDSC_2019'"
   ]
  },
  {
   "cell_type": "code",
   "execution_count": 109,
   "metadata": {},
   "outputs": [],
   "source": [
    "data_beauty_all = ImageClassifierData.from_csv(path=PATH_beauty_all,folder='mobile_image',tfms=tfms,csv_fname='train_mobile_all.csv', test_name='mobile_test',val_idxs=tst.index)"
   ]
  },
  {
   "cell_type": "code",
   "execution_count": 110,
   "metadata": {},
   "outputs": [
    {
     "data": {
      "text/plain": [
       "(4810,)"
      ]
     },
     "execution_count": 110,
     "metadata": {},
     "output_type": "execute_result"
    }
   ],
   "source": [
    "data_beauty_all.val_ds.fnames.shape"
   ]
  },
  {
   "cell_type": "code",
   "execution_count": 111,
   "metadata": {},
   "outputs": [],
   "source": [
    "arch=resnet34"
   ]
  },
  {
   "cell_type": "code",
   "execution_count": 112,
   "metadata": {
    "hidden": true
   },
   "outputs": [
    {
     "name": "stdout",
     "output_type": "stream",
     "text": [
      "  0%|▏                                                                                | 7/2430 [00:09<53:05,  1.31s/it]"
     ]
    },
    {
     "name": "stderr",
     "output_type": "stream",
     "text": [
      "C:\\Users\\user\\Anaconda3\\envs\\fastai\\lib\\site-packages\\tqdm\\_monitor.py:89: TqdmSynchronisationWarning: Set changed size during iteration (see https://github.com/tqdm/tqdm/issues/481)\n",
      "  TqdmSynchronisationWarning)\n"
     ]
    },
    {
     "name": "stdout",
     "output_type": "stream",
     "text": [
      "100%|██████████████████████████████████████████████████████████████████████████████| 2430/2430 [22:30<00:00,  1.80it/s]\n",
      "100%|██████████████████████████████████████████████████████████████████████████████████| 76/76 [00:42<00:00,  1.80it/s]\n",
      "100%|████████████████████████████████████████████████████████████████████████████████| 632/632 [05:55<00:00,  1.78it/s]\n"
     ]
    }
   ],
   "source": [
    "#train to all data\n",
    "learn_all = ConvLearner.pretrained(arch, data_beauty_all, precompute=True)"
   ]
  },
  {
   "cell_type": "code",
   "execution_count": 113,
   "metadata": {
    "hidden": true,
    "scrolled": false
   },
   "outputs": [
    {
     "data": {
      "application/vnd.jupyter.widget-view+json": {
       "model_id": "bb7f0c0f9e7d4a12af0a2d140cfe1ae3",
       "version_major": 2,
       "version_minor": 0
      },
      "text/plain": [
       "HBox(children=(IntProgress(value=0, description='Epoch', max=1), HTML(value='')))"
      ]
     },
     "metadata": {},
     "output_type": "display_data"
    },
    {
     "name": "stdout",
     "output_type": "stream",
     "text": [
      " 43%|████████████████████████████▋                                     | 1055/2430 [00:09<00:13, 105.65it/s, loss=1.94]"
     ]
    },
    {
     "name": "stderr",
     "output_type": "stream",
     "text": [
      "C:\\Users\\user\\Anaconda3\\envs\\fastai\\lib\\site-packages\\tqdm\\_monitor.py:89: TqdmSynchronisationWarning: Set changed size during iteration (see https://github.com/tqdm/tqdm/issues/481)\n",
      "  TqdmSynchronisationWarning)\n"
     ]
    },
    {
     "name": "stdout",
     "output_type": "stream",
     "text": [
      "epoch      trn_loss   val_loss   accuracy                                                                              \n",
      "    0      1.852722   1.686434   0.44948   \n",
      "\n"
     ]
    },
    {
     "data": {
      "text/plain": [
       "[array([1.68643]), 0.4494802494926413]"
      ]
     },
     "execution_count": 113,
     "metadata": {},
     "output_type": "execute_result"
    }
   ],
   "source": [
    "learn_all.fit(1e-2, 1)"
   ]
  },
  {
   "cell_type": "code",
   "execution_count": 114,
   "metadata": {
    "hidden": true
   },
   "outputs": [],
   "source": [
    "learn_all.precompute=False"
   ]
  },
  {
   "cell_type": "markdown",
   "metadata": {
    "hidden": true
   },
   "source": [
    "By default when we create a learner, it sets all but the last layer to *frozen*. That means that it's still only updating the weights in the last layer when we call `fit`."
   ]
  },
  {
   "cell_type": "code",
   "execution_count": 115,
   "metadata": {
    "hidden": true,
    "scrolled": true
   },
   "outputs": [
    {
     "data": {
      "application/vnd.jupyter.widget-view+json": {
       "model_id": "872539a9c43441c2889e7b23d90a84ed",
       "version_major": 2,
       "version_minor": 0
      },
      "text/plain": [
       "HBox(children=(IntProgress(value=0, description='Epoch', max=3), HTML(value='')))"
      ]
     },
     "metadata": {},
     "output_type": "display_data"
    },
    {
     "name": "stdout",
     "output_type": "stream",
     "text": [
      "  1%|▌                                                                    | 21/2430 [00:09<18:58,  2.12it/s, loss=1.82]"
     ]
    },
    {
     "name": "stderr",
     "output_type": "stream",
     "text": [
      "C:\\Users\\user\\Anaconda3\\envs\\fastai\\lib\\site-packages\\tqdm\\_monitor.py:89: TqdmSynchronisationWarning: Set changed size during iteration (see https://github.com/tqdm/tqdm/issues/481)\n",
      "  TqdmSynchronisationWarning)\n"
     ]
    },
    {
     "name": "stdout",
     "output_type": "stream",
     "text": [
      "epoch      trn_loss   val_loss   accuracy                                                                              \n",
      "    0      1.791229   1.638401   0.471726  \n",
      "    1      1.748864   1.613192   0.481081                                                                              \n",
      "    2      1.731576   1.59669    0.488358                                                                              \n",
      "\n"
     ]
    },
    {
     "data": {
      "text/plain": [
       "[array([1.59669]), 0.48835758836998017]"
      ]
     },
     "execution_count": 115,
     "metadata": {},
     "output_type": "execute_result"
    }
   ],
   "source": [
    "learn_all.fit(1e-2, 3, cycle_len=1)"
   ]
  },
  {
   "cell_type": "markdown",
   "metadata": {
    "hidden": true
   },
   "source": [
    "What is that `cycle_len` parameter? What we've done here is used a technique called *stochastic gradient descent with restarts (SGDR)*, a variant of *learning rate annealing*, which gradually decreases the learning rate as training progresses. This is helpful because as we get closer to the optimal weights, we want to take smaller steps.\n",
    "\n",
    "However, we may find ourselves in a part of the weight space that isn't very resilient - that is, small changes to the weights may result in big changes to the loss. We want to encourage our model to find parts of the weight space that are both accurate and stable. Therefore, from time to time we increase the learning rate (this is the 'restarts' in 'SGDR'), which will force the model to jump to a different part of the weight space if the current area is \"spikey\". Here's a picture of how that might look if we reset the learning rates 3 times (in this paper they call it a \"cyclic LR schedule\"):\n",
    "\n",
    "<img src=\"images/sgdr.png\" width=\"80%\">\n",
    "(From the paper [Snapshot Ensembles](https://arxiv.org/abs/1704.00109)).\n",
    "\n",
    "The number of epochs between resetting the learning rate is set by `cycle_len`, and the number of times this happens is refered to as the *number of cycles*, and is what we're actually passing as the 2nd parameter to `fit()`. So here's what our actual learning rates looked like:"
   ]
  },
  {
   "cell_type": "code",
   "execution_count": 116,
   "metadata": {
    "hidden": true
   },
   "outputs": [
    {
     "data": {
      "image/png": "[encoded data removed]",
      "text/plain": [
       "<Figure size 432x288 with 1 Axes>"
      ]
     },
     "metadata": {},
     "output_type": "display_data"
    }
   ],
   "source": [
    "learn_all.sched.plot_lr()"
   ]
  },
  {
   "cell_type": "markdown",
   "metadata": {
    "hidden": true
   },
   "source": [
    "Our validation loss isn't improving much, so there's probably no point further training the last layer on its own."
   ]
  },
  {
   "cell_type": "markdown",
   "metadata": {
    "hidden": true
   },
   "source": [
    "Since we've got a pretty good model at this point, we might want to save it so we can load it again later without training it from scratch."
   ]
  },
  {
   "cell_type": "code",
   "execution_count": 117,
   "metadata": {
    "hidden": true
   },
   "outputs": [],
   "source": [
    "learn_all.save('mobile_all_data')"
   ]
  },
  {
   "cell_type": "code",
   "execution_count": 118,
   "metadata": {
    "hidden": true
   },
   "outputs": [],
   "source": [
    "learn_all.load('mobile_all_data')"
   ]
  },
  {
   "cell_type": "markdown",
   "metadata": {
    "heading_collapsed": true
   },
   "source": [
    "### Fine-tuning and differential learning rate annealing"
   ]
  },
  {
   "cell_type": "markdown",
   "metadata": {
    "hidden": true
   },
   "source": [
    "Now that we have a good final layer trained, we can try fine-tuning the other layers. To tell the learner that we want to unfreeze the remaining layers, just call (surprise surprise!) `unfreeze()`."
   ]
  },
  {
   "cell_type": "code",
   "execution_count": 119,
   "metadata": {
    "hidden": true
   },
   "outputs": [],
   "source": [
    "learn_all.unfreeze()"
   ]
  },
  {
   "cell_type": "markdown",
   "metadata": {
    "hidden": true
   },
   "source": [
    "Note that the other layers have *already* been trained to recognize imagenet photos (whereas our final layers where randomly initialized), so we want to be careful of not destroying the carefully tuned weights that are already there.\n",
    "\n",
    "Generally speaking, the earlier layers (as we've seen) have more general-purpose features. Therefore we would expect them to need less fine-tuning for new datasets. For this reason we will use different learning rates for different layers: the first few layers will be at 1e-4, the middle layers at 1e-3, and our FC layers we'll leave at 1e-2 as before. We refer to this as *differential learning rates*, although there's no standard name for this techique in the literature that we're aware of."
   ]
  },
  {
   "cell_type": "code",
   "execution_count": 120,
   "metadata": {
    "hidden": true
   },
   "outputs": [],
   "source": [
    "lr=np.array([1e-4,1e-3,1e-2])"
   ]
  },
  {
   "cell_type": "code",
   "execution_count": 121,
   "metadata": {
    "hidden": true,
    "scrolled": false
   },
   "outputs": [
    {
     "data": {
      "application/vnd.jupyter.widget-view+json": {
       "model_id": "cbc271e4b9224aef968a7ccdf3576422",
       "version_major": 2,
       "version_minor": 0
      },
      "text/plain": [
       "HBox(children=(IntProgress(value=0, description='Epoch', max=7), HTML(value='')))"
      ]
     },
     "metadata": {},
     "output_type": "display_data"
    },
    {
     "name": "stdout",
     "output_type": "stream",
     "text": [
      "  1%|▍                                                                    | 17/2430 [00:09<23:23,  1.72it/s, loss=1.88]"
     ]
    },
    {
     "name": "stderr",
     "output_type": "stream",
     "text": [
      "C:\\Users\\user\\Anaconda3\\envs\\fastai\\lib\\site-packages\\tqdm\\_monitor.py:89: TqdmSynchronisationWarning: Set changed size during iteration (see https://github.com/tqdm/tqdm/issues/481)\n",
      "  TqdmSynchronisationWarning)\n"
     ]
    },
    {
     "name": "stdout",
     "output_type": "stream",
     "text": [
      "epoch      trn_loss   val_loss   accuracy                                                                              \n",
      "    0      1.46947    1.344513   0.585655  \n",
      "    1      1.29633    1.22255    0.623285                                                                              \n",
      "    2      1.21847    1.193972   0.63264                                                                               \n",
      "    3      1.199685   1.15955    0.64657                                                                               \n",
      "    4      1.152753   1.119289   0.658836                                                                              \n",
      "    5      1.055281   1.100285   0.660707                                                                              \n",
      "    6      1.023603   1.09892    0.66341                                                                               \n",
      "\n"
     ]
    },
    {
     "data": {
      "text/plain": [
       "[array([1.09892]), 0.6634095633847797]"
      ]
     },
     "execution_count": 121,
     "metadata": {},
     "output_type": "execute_result"
    }
   ],
   "source": [
    "learn_all.fit(lr, 3, cycle_len=1, cycle_mult=2)"
   ]
  },
  {
   "cell_type": "markdown",
   "metadata": {
    "hidden": true
   },
   "source": [
    "Another trick we've used here is adding the `cycle_mult` parameter. Take a look at the following chart, and see if you can figure out what the parameter is doing:"
   ]
  },
  {
   "cell_type": "code",
   "execution_count": 122,
   "metadata": {
    "hidden": true
   },
   "outputs": [
    {
     "data": {
      "image/png": "[encoded data removed]",
      "text/plain": [
       "<Figure size 432x288 with 1 Axes>"
      ]
     },
     "metadata": {},
     "output_type": "display_data"
    }
   ],
   "source": [
    "learn_all.sched.plot_lr()"
   ]
  },
  {
   "cell_type": "markdown",
   "metadata": {
    "hidden": true
   },
   "source": [
    "Note that's what being plotted above is the learning rate of the *final layers*. The learning rates of the earlier layers are fixed at the same multiples of the final layer rates as we initially requested (i.e. the first layers have 100x smaller, and middle layers 10x smaller learning rates, since we set `lr=np.array([1e-4,1e-3,1e-2])`."
   ]
  },
  {
   "cell_type": "code",
   "execution_count": 123,
   "metadata": {
    "hidden": true
   },
   "outputs": [],
   "source": [
    "learn_all.save('mobile_all_data')"
   ]
  },
  {
   "cell_type": "code",
   "execution_count": 124,
   "metadata": {
    "hidden": true
   },
   "outputs": [],
   "source": [
    "learn_all.load('mobile_all_data')"
   ]
  },
  {
   "cell_type": "markdown",
   "metadata": {
    "hidden": true
   },
   "source": [
    "There is something else we can do with data augmentation: use it at *inference* time (also known as *test* time). Not surprisingly, this is known as *test time augmentation*, or just *TTA*.\n",
    "\n",
    "TTA simply makes predictions not just on the images in your validation set, but also makes predictions on a number of randomly augmented versions of them too (by default, it uses the original image along with 4 randomly augmented versions). It then takes the average prediction from these images, and uses that. To use TTA on the validation set, we can use the learner's `TTA()` method."
   ]
  },
  {
   "cell_type": "code",
   "execution_count": 125,
   "metadata": {
    "hidden": true,
    "scrolled": true
   },
   "outputs": [
    {
     "name": "stdout",
     "output_type": "stream",
     "text": [
      "\r",
      "  0%|                                                                                            | 0/4 [00:00<?, ?it/s]"
     ]
    },
    {
     "name": "stderr",
     "output_type": "stream",
     "text": [
      "C:\\Users\\user\\Anaconda3\\envs\\fastai\\lib\\site-packages\\tqdm\\_monitor.py:89: TqdmSynchronisationWarning: Set changed size during iteration (see https://github.com/tqdm/tqdm/issues/481)\n",
      "  TqdmSynchronisationWarning)\n"
     ]
    },
    {
     "name": "stdout",
     "output_type": "stream",
     "text": [
      "                                                                                                                       \r"
     ]
    }
   ],
   "source": [
    "log_preds,y = learn.TTA()\n",
    "probs = np.mean(np.exp(log_preds),0)"
   ]
  },
  {
   "cell_type": "code",
   "execution_count": 126,
   "metadata": {},
   "outputs": [
    {
     "data": {
      "text/plain": [
       "(32065,)"
      ]
     },
     "execution_count": 126,
     "metadata": {},
     "output_type": "execute_result"
    }
   ],
   "source": [
    "y.shape"
   ]
  },
  {
   "cell_type": "code",
   "execution_count": 127,
   "metadata": {
    "hidden": true,
    "scrolled": true
   },
   "outputs": [
    {
     "data": {
      "text/plain": [
       "0.665180102915952"
      ]
     },
     "execution_count": 127,
     "metadata": {},
     "output_type": "execute_result"
    }
   ],
   "source": [
    "# We have improved quite significantly\n",
    "accuracy_np(probs, y)"
   ]
  },
  {
   "cell_type": "code",
   "execution_count": 128,
   "metadata": {
    "scrolled": true
   },
   "outputs": [
    {
     "name": "stdout",
     "output_type": "stream",
     "text": [
      "\r",
      "  0%|                                                                                            | 0/4 [00:00<?, ?it/s]"
     ]
    },
    {
     "name": "stderr",
     "output_type": "stream",
     "text": [
      "C:\\Users\\user\\Anaconda3\\envs\\fastai\\lib\\site-packages\\tqdm\\_monitor.py:89: TqdmSynchronisationWarning: Set changed size during iteration (see https://github.com/tqdm/tqdm/issues/481)\n",
      "  TqdmSynchronisationWarning)\n"
     ]
    },
    {
     "name": "stdout",
     "output_type": "stream",
     "text": [
      "                                                                                                                       \r"
     ]
    }
   ],
   "source": [
    "log_preds_test,y_test=learn.TTA(is_test=True)"
   ]
  },
  {
   "cell_type": "code",
   "execution_count": 129,
   "metadata": {},
   "outputs": [
    {
     "data": {
      "text/plain": [
       "(40417, 1)"
      ]
     },
     "execution_count": 129,
     "metadata": {},
     "output_type": "execute_result"
    }
   ],
   "source": [
    "y_test.shape"
   ]
  },
  {
   "cell_type": "code",
   "execution_count": null,
   "metadata": {},
   "outputs": [],
   "source": []
  },
  {
   "cell_type": "code",
   "execution_count": null,
   "metadata": {},
   "outputs": [],
   "source": []
  },
  {
   "cell_type": "code",
   "execution_count": null,
   "metadata": {},
   "outputs": [],
   "source": []
  },
  {
   "cell_type": "code",
   "execution_count": 130,
   "metadata": {},
   "outputs": [],
   "source": [
    "# Let's save test data\n",
    "# We need to take exp to get probabilities \n",
    "pred_fashion= np.mean(np.exp(log_preds_test),0)\n",
    "# get indexes of validation set\n",
    "val_idx_fashion=data_beauty_all.test_ds.fnames\n",
    "# Get classes might not be ordered\n",
    "cat_fashion=data_beauty_all.classes\n",
    "df_fashion=pd.DataFrame()\n",
    "df_fashion['image_path']=val_idx_fashion\n",
    "df_pred=pd.DataFrame(pred_fashion)\n",
    "df_pred.columns=cat_fashion\n",
    "df_fashion=pd.concat([df_fashion,df_pred],axis=1)\n",
    "df_fashion['final_pred']=df_fashion.iloc[:,1:].idxmax(axis=1)"
   ]
  },
  {
   "cell_type": "code",
   "execution_count": 131,
   "metadata": {
    "scrolled": true
   },
   "outputs": [
    {
     "data": {
      "text/html": [
       "<div>\n",
       "<style scoped>\n",
       "    .dataframe tbody tr th:only-of-type {\n",
       "        vertical-align: middle;\n",
       "    }\n",
       "\n",
       "    .dataframe tbody tr th {\n",
       "        vertical-align: top;\n",
       "    }\n",
       "\n",
       "    .dataframe thead th {\n",
       "        text-align: right;\n",
       "    }\n",
       "</style>\n",
       "<table border=\"1\" class=\"dataframe\">\n",
       "  <thead>\n",
       "    <tr style=\"text-align: right;\">\n",
       "      <th></th>\n",
       "      <th>image_path</th>\n",
       "      <th>31</th>\n",
       "      <th>32</th>\n",
       "      <th>33</th>\n",
       "      <th>34</th>\n",
       "      <th>35</th>\n",
       "      <th>36</th>\n",
       "      <th>37</th>\n",
       "      <th>38</th>\n",
       "      <th>39</th>\n",
       "      <th>...</th>\n",
       "      <th>49</th>\n",
       "      <th>50</th>\n",
       "      <th>51</th>\n",
       "      <th>52</th>\n",
       "      <th>53</th>\n",
       "      <th>54</th>\n",
       "      <th>55</th>\n",
       "      <th>56</th>\n",
       "      <th>57</th>\n",
       "      <th>final_pred</th>\n",
       "    </tr>\n",
       "  </thead>\n",
       "  <tbody>\n",
       "    <tr>\n",
       "      <th>0</th>\n",
       "      <td>mobile_test\\0000456f97a4805ba4960084ffc8c058.jpg</td>\n",
       "      <td>0.036524</td>\n",
       "      <td>0.781605</td>\n",
       "      <td>0.043183</td>\n",
       "      <td>0.020444</td>\n",
       "      <td>0.089373</td>\n",
       "      <td>0.001607</td>\n",
       "      <td>0.004549</td>\n",
       "      <td>0.003560</td>\n",
       "      <td>0.000114</td>\n",
       "      <td>...</td>\n",
       "      <td>0.000987</td>\n",
       "      <td>0.000019</td>\n",
       "      <td>0.000041</td>\n",
       "      <td>0.000071</td>\n",
       "      <td>0.000052</td>\n",
       "      <td>0.000221</td>\n",
       "      <td>0.000049</td>\n",
       "      <td>0.000106</td>\n",
       "      <td>0.000037</td>\n",
       "      <td>32</td>\n",
       "    </tr>\n",
       "    <tr>\n",
       "      <th>1</th>\n",
       "      <td>mobile_test\\0003cb2b0c95619f009df611f77e0cf1.jpg</td>\n",
       "      <td>0.014200</td>\n",
       "      <td>0.849021</td>\n",
       "      <td>0.002454</td>\n",
       "      <td>0.033889</td>\n",
       "      <td>0.076474</td>\n",
       "      <td>0.000126</td>\n",
       "      <td>0.000609</td>\n",
       "      <td>0.002245</td>\n",
       "      <td>0.000138</td>\n",
       "      <td>...</td>\n",
       "      <td>0.000367</td>\n",
       "      <td>0.000011</td>\n",
       "      <td>0.000045</td>\n",
       "      <td>0.000040</td>\n",
       "      <td>0.000046</td>\n",
       "      <td>0.000094</td>\n",
       "      <td>0.000076</td>\n",
       "      <td>0.000108</td>\n",
       "      <td>0.000027</td>\n",
       "      <td>32</td>\n",
       "    </tr>\n",
       "    <tr>\n",
       "      <th>2</th>\n",
       "      <td>mobile_test\\000a5df2a604db41dd082527ea71b4b6.jpg</td>\n",
       "      <td>0.004031</td>\n",
       "      <td>0.913996</td>\n",
       "      <td>0.000336</td>\n",
       "      <td>0.006728</td>\n",
       "      <td>0.067745</td>\n",
       "      <td>0.000687</td>\n",
       "      <td>0.000639</td>\n",
       "      <td>0.000913</td>\n",
       "      <td>0.000443</td>\n",
       "      <td>...</td>\n",
       "      <td>0.000724</td>\n",
       "      <td>0.000010</td>\n",
       "      <td>0.000037</td>\n",
       "      <td>0.000070</td>\n",
       "      <td>0.000048</td>\n",
       "      <td>0.000286</td>\n",
       "      <td>0.000018</td>\n",
       "      <td>0.000524</td>\n",
       "      <td>0.000031</td>\n",
       "      <td>32</td>\n",
       "    </tr>\n",
       "    <tr>\n",
       "      <th>3</th>\n",
       "      <td>mobile_test\\000b814a6fbe3bc875c4b8b6d3fc4608.jpg</td>\n",
       "      <td>0.666879</td>\n",
       "      <td>0.050699</td>\n",
       "      <td>0.000339</td>\n",
       "      <td>0.014056</td>\n",
       "      <td>0.153786</td>\n",
       "      <td>0.000792</td>\n",
       "      <td>0.000848</td>\n",
       "      <td>0.002251</td>\n",
       "      <td>0.000897</td>\n",
       "      <td>...</td>\n",
       "      <td>0.001564</td>\n",
       "      <td>0.000746</td>\n",
       "      <td>0.002008</td>\n",
       "      <td>0.001072</td>\n",
       "      <td>0.000543</td>\n",
       "      <td>0.000403</td>\n",
       "      <td>0.000584</td>\n",
       "      <td>0.000918</td>\n",
       "      <td>0.000210</td>\n",
       "      <td>31</td>\n",
       "    </tr>\n",
       "    <tr>\n",
       "      <th>4</th>\n",
       "      <td>mobile_test\\000b8c87e736285add60a1f923fa6a0e.jpg</td>\n",
       "      <td>0.004203</td>\n",
       "      <td>0.006850</td>\n",
       "      <td>0.000343</td>\n",
       "      <td>0.888666</td>\n",
       "      <td>0.083616</td>\n",
       "      <td>0.000017</td>\n",
       "      <td>0.001086</td>\n",
       "      <td>0.000274</td>\n",
       "      <td>0.000048</td>\n",
       "      <td>...</td>\n",
       "      <td>0.000097</td>\n",
       "      <td>0.000018</td>\n",
       "      <td>0.000020</td>\n",
       "      <td>0.000049</td>\n",
       "      <td>0.000051</td>\n",
       "      <td>0.000071</td>\n",
       "      <td>0.000005</td>\n",
       "      <td>0.000152</td>\n",
       "      <td>0.000039</td>\n",
       "      <td>34</td>\n",
       "    </tr>\n",
       "  </tbody>\n",
       "</table>\n",
       "<p>5 rows × 29 columns</p>\n",
       "</div>"
      ],
      "text/plain": [
       "                                         image_path        31        32  \\\n",
       "0  mobile_test\\0000456f97a4805ba4960084ffc8c058.jpg  0.036524  0.781605   \n",
       "1  mobile_test\\0003cb2b0c95619f009df611f77e0cf1.jpg  0.014200  0.849021   \n",
       "2  mobile_test\\000a5df2a604db41dd082527ea71b4b6.jpg  0.004031  0.913996   \n",
       "3  mobile_test\\000b814a6fbe3bc875c4b8b6d3fc4608.jpg  0.666879  0.050699   \n",
       "4  mobile_test\\000b8c87e736285add60a1f923fa6a0e.jpg  0.004203  0.006850   \n",
       "\n",
       "         33        34        35        36        37        38        39  \\\n",
       "0  0.043183  0.020444  0.089373  0.001607  0.004549  0.003560  0.000114   \n",
       "1  0.002454  0.033889  0.076474  0.000126  0.000609  0.002245  0.000138   \n",
       "2  0.000336  0.006728  0.067745  0.000687  0.000639  0.000913  0.000443   \n",
       "3  0.000339  0.014056  0.153786  0.000792  0.000848  0.002251  0.000897   \n",
       "4  0.000343  0.888666  0.083616  0.000017  0.001086  0.000274  0.000048   \n",
       "\n",
       "      ...            49        50        51        52        53        54  \\\n",
       "0     ...      0.000987  0.000019  0.000041  0.000071  0.000052  0.000221   \n",
       "1     ...      0.000367  0.000011  0.000045  0.000040  0.000046  0.000094   \n",
       "2     ...      0.000724  0.000010  0.000037  0.000070  0.000048  0.000286   \n",
       "3     ...      0.001564  0.000746  0.002008  0.001072  0.000543  0.000403   \n",
       "4     ...      0.000097  0.000018  0.000020  0.000049  0.000051  0.000071   \n",
       "\n",
       "         55        56        57  final_pred  \n",
       "0  0.000049  0.000106  0.000037          32  \n",
       "1  0.000076  0.000108  0.000027          32  \n",
       "2  0.000018  0.000524  0.000031          32  \n",
       "3  0.000584  0.000918  0.000210          31  \n",
       "4  0.000005  0.000152  0.000039          34  \n",
       "\n",
       "[5 rows x 29 columns]"
      ]
     },
     "execution_count": 131,
     "metadata": {},
     "output_type": "execute_result"
    }
   ],
   "source": [
    "df_fashion.head()"
   ]
  },
  {
   "cell_type": "code",
   "execution_count": null,
   "metadata": {},
   "outputs": [],
   "source": [
    "# need to save data"
   ]
  },
  {
   "cell_type": "code",
   "execution_count": 132,
   "metadata": {},
   "outputs": [
    {
     "data": {
      "text/plain": [
       "0    0000456f97a4805ba4960084ffc8c058.jpg\n",
       "1    0003cb2b0c95619f009df611f77e0cf1.jpg\n",
       "2    000a5df2a604db41dd082527ea71b4b6.jpg\n",
       "3    000b814a6fbe3bc875c4b8b6d3fc4608.jpg\n",
       "4    000b8c87e736285add60a1f923fa6a0e.jpg\n",
       "Name: image_path, dtype: object"
      ]
     },
     "execution_count": 132,
     "metadata": {},
     "output_type": "execute_result"
    }
   ],
   "source": [
    "df_fashion['image_path'].map(lambda x: x[12:]).head()"
   ]
  },
  {
   "cell_type": "code",
   "execution_count": null,
   "metadata": {},
   "outputs": [],
   "source": []
  },
  {
   "cell_type": "code",
   "execution_count": 133,
   "metadata": {},
   "outputs": [],
   "source": [
    "df_fashion.loc[:,'image_path']=df_fashion['image_path'].map(lambda x: x[12:])"
   ]
  },
  {
   "cell_type": "code",
   "execution_count": 134,
   "metadata": {
    "scrolled": true
   },
   "outputs": [
    {
     "data": {
      "text/html": [
       "<div>\n",
       "<style scoped>\n",
       "    .dataframe tbody tr th:only-of-type {\n",
       "        vertical-align: middle;\n",
       "    }\n",
       "\n",
       "    .dataframe tbody tr th {\n",
       "        vertical-align: top;\n",
       "    }\n",
       "\n",
       "    .dataframe thead th {\n",
       "        text-align: right;\n",
       "    }\n",
       "</style>\n",
       "<table border=\"1\" class=\"dataframe\">\n",
       "  <thead>\n",
       "    <tr style=\"text-align: right;\">\n",
       "      <th></th>\n",
       "      <th>itemid</th>\n",
       "      <th>title</th>\n",
       "      <th>image_path</th>\n",
       "      <th>Group</th>\n",
       "    </tr>\n",
       "  </thead>\n",
       "  <tbody>\n",
       "    <tr>\n",
       "      <th>131985</th>\n",
       "      <td>1520485457</td>\n",
       "      <td>new promo iphone 5s 16gb gold ex resmi ibox</td>\n",
       "      <td>876d4a1fe29e056855fa6f9643757b1c.jpg</td>\n",
       "      <td>mobile_</td>\n",
       "    </tr>\n",
       "    <tr>\n",
       "      <th>131986</th>\n",
       "      <td>1520516704</td>\n",
       "      <td>new promo xiaomi note 5a prime 3 32gb tam</td>\n",
       "      <td>e2b902b7cd35cd50f061d8e2a3ba7178.jpg</td>\n",
       "      <td>mobile_</td>\n",
       "    </tr>\n",
       "    <tr>\n",
       "      <th>131987</th>\n",
       "      <td>1520726573</td>\n",
       "      <td>big produk super murah oppo f5 4gb 32gb fullset</td>\n",
       "      <td>785c03cb1a21a1efedb8c1bbbdb81035.jpg</td>\n",
       "      <td>mobile_</td>\n",
       "    </tr>\n",
       "    <tr>\n",
       "      <th>131988</th>\n",
       "      <td>1523303826</td>\n",
       "      <td>pocophone xiaomi f1 ram 6gb rom 128gb</td>\n",
       "      <td>08bb7a43ae0fafd568ad54db908bac0b.jpg</td>\n",
       "      <td>mobile_</td>\n",
       "    </tr>\n",
       "    <tr>\n",
       "      <th>131989</th>\n",
       "      <td>1524467616</td>\n",
       "      <td>advan g2</td>\n",
       "      <td>970134be2e5961bda177e9761e1cf6ab.jpg</td>\n",
       "      <td>mobile_</td>\n",
       "    </tr>\n",
       "  </tbody>\n",
       "</table>\n",
       "</div>"
      ],
      "text/plain": [
       "            itemid                                            title  \\\n",
       "131985  1520485457      new promo iphone 5s 16gb gold ex resmi ibox   \n",
       "131986  1520516704        new promo xiaomi note 5a prime 3 32gb tam   \n",
       "131987  1520726573  big produk super murah oppo f5 4gb 32gb fullset   \n",
       "131988  1523303826            pocophone xiaomi f1 ram 6gb rom 128gb   \n",
       "131989  1524467616                                         advan g2   \n",
       "\n",
       "                                  image_path    Group  \n",
       "131985  876d4a1fe29e056855fa6f9643757b1c.jpg  mobile_  \n",
       "131986  e2b902b7cd35cd50f061d8e2a3ba7178.jpg  mobile_  \n",
       "131987  785c03cb1a21a1efedb8c1bbbdb81035.jpg  mobile_  \n",
       "131988  08bb7a43ae0fafd568ad54db908bac0b.jpg  mobile_  \n",
       "131989  970134be2e5961bda177e9761e1cf6ab.jpg  mobile_  "
      ]
     },
     "execution_count": 134,
     "metadata": {},
     "output_type": "execute_result"
    }
   ],
   "source": [
    "df_test[df_test.Group=='mobile_'].head()"
   ]
  },
  {
   "cell_type": "code",
   "execution_count": 135,
   "metadata": {
    "scrolled": true
   },
   "outputs": [],
   "source": [
    "df_val=df_test[df_test.Group=='mobile_'][['itemid','image_path']].merge(df_fashion,on='image_path')\n",
    "df_val.set_index('itemid',inplace=True)\n",
    "df_val=df_val.loc[df_test[df_test.Group=='mobile_'].itemid,:]\n",
    "df_val.reset_index(inplace=True)\n",
    "df_val.to_csv('test_all_mobile__v2.csv')"
   ]
  },
  {
   "cell_type": "code",
   "execution_count": null,
   "metadata": {},
   "outputs": [],
   "source": []
  },
  {
   "cell_type": "code",
   "execution_count": null,
   "metadata": {},
   "outputs": [],
   "source": []
  },
  {
   "cell_type": "code",
   "execution_count": null,
   "metadata": {},
   "outputs": [],
   "source": []
  },
  {
   "cell_type": "code",
   "execution_count": 201,
   "metadata": {},
   "outputs": [],
   "source": [
    "# Now, everything is good. We can Save all of thee files\n",
    "\n",
    "df_beauty.to_csv('val_beauty.csv',index=False)\n",
    "df_mobile.to_csv('val_mobile.csv',index=False)\n",
    "df_fashion.to_csv('val_fashion.csv',index=False)"
   ]
  },
  {
   "cell_type": "code",
   "execution_count": 202,
   "metadata": {},
   "outputs": [],
   "source": [
    "# Let's get predictioons for test samples\n",
    "test_beauty=learn_beauty.predict(is_test=True)\n",
    "test_mobile=learn_mobile.predict(is_test=True)\n",
    "test_fashion=learn_fashion.predict(is_test=True)"
   ]
  },
  {
   "cell_type": "code",
   "execution_count": 204,
   "metadata": {
    "scrolled": true
   },
   "outputs": [],
   "source": [
    "#Let's change logits to probabilites\n",
    "test_beauty=np.exp(test_beauty)\n",
    "test_mobile=np.exp(test_mobile)\n",
    "test_fashion=np.exp(test_fashion)\n"
   ]
  },
  {
   "cell_type": "code",
   "execution_count": 205,
   "metadata": {},
   "outputs": [],
   "source": [
    "# get indexes of validation set\n",
    "test_idx_beauty=data_beauty.test_ds.fnames\n",
    "test_idx_mobile=data_mobile.test_ds.fnames\n",
    "test_idx_fashion=data_fashion.test_ds.fnames\n"
   ]
  },
  {
   "cell_type": "code",
   "execution_count": 210,
   "metadata": {},
   "outputs": [],
   "source": [
    "df_beauty_test=pd.DataFrame()\n",
    "df_beauty_test['image_path']=test_idx_beauty\n",
    "df_pred=pd.DataFrame(test_beauty)\n",
    "df_pred.columns=cat_beauty\n",
    "df_beauty_test=pd.concat([df_beauty_test,df_pred],axis=1)\n",
    "df_beauty_test['pred']=df_beauty_test.iloc[:,1:].idxmax(axis=1)\n"
   ]
  },
  {
   "cell_type": "code",
   "execution_count": 213,
   "metadata": {},
   "outputs": [],
   "source": [
    "df_mobile_test=pd.DataFrame()\n",
    "df_mobile_test['image_path']=test_idx_mobile\n",
    "df_pred=pd.DataFrame(test_mobile)\n",
    "df_pred.columns=cat_mobile\n",
    "df_mobile_test=pd.concat([df_mobile_test,df_pred],axis=1)\n",
    "df_mobile_test['pred']=df_mobile_test.iloc[:,1:].idxmax(axis=1)"
   ]
  },
  {
   "cell_type": "code",
   "execution_count": 215,
   "metadata": {},
   "outputs": [],
   "source": [
    "df_fashion_test=pd.DataFrame()\n",
    "df_fashion_test['image_path']=test_idx_fashion\n",
    "df_pred=pd.DataFrame(test_fashion)\n",
    "df_pred.columns=cat_fashion\n",
    "df_fashion_test=pd.concat([df_fashion_test,df_pred],axis=1)\n",
    "df_fashion_test['pred']=df_fashion_test.iloc[:,1:].idxmax(axis=1)"
   ]
  },
  {
   "cell_type": "code",
   "execution_count": 217,
   "metadata": {},
   "outputs": [
    {
     "data": {
      "text/html": [
       "<div>\n",
       "<style scoped>\n",
       "    .dataframe tbody tr th:only-of-type {\n",
       "        vertical-align: middle;\n",
       "    }\n",
       "\n",
       "    .dataframe tbody tr th {\n",
       "        vertical-align: top;\n",
       "    }\n",
       "\n",
       "    .dataframe thead th {\n",
       "        text-align: right;\n",
       "    }\n",
       "</style>\n",
       "<table border=\"1\" class=\"dataframe\">\n",
       "  <thead>\n",
       "    <tr style=\"text-align: right;\">\n",
       "      <th></th>\n",
       "      <th>image_path</th>\n",
       "      <th>17</th>\n",
       "      <th>18</th>\n",
       "      <th>19</th>\n",
       "      <th>20</th>\n",
       "      <th>21</th>\n",
       "      <th>22</th>\n",
       "      <th>23</th>\n",
       "      <th>24</th>\n",
       "      <th>25</th>\n",
       "      <th>26</th>\n",
       "      <th>27</th>\n",
       "      <th>28</th>\n",
       "      <th>29</th>\n",
       "      <th>30</th>\n",
       "      <th>pred</th>\n",
       "    </tr>\n",
       "  </thead>\n",
       "  <tbody>\n",
       "    <tr>\n",
       "      <th>0</th>\n",
       "      <td>test\\000006831bfaf0e3b5ce3564a10e6dd4.jpg</td>\n",
       "      <td>0.000946</td>\n",
       "      <td>0.050849</td>\n",
       "      <td>0.003765</td>\n",
       "      <td>0.003177</td>\n",
       "      <td>0.021657</td>\n",
       "      <td>0.004581</td>\n",
       "      <td>0.000909</td>\n",
       "      <td>0.002561</td>\n",
       "      <td>0.057567</td>\n",
       "      <td>0.382240</td>\n",
       "      <td>0.217111</td>\n",
       "      <td>0.229911</td>\n",
       "      <td>0.004436</td>\n",
       "      <td>0.020290</td>\n",
       "      <td>26</td>\n",
       "    </tr>\n",
       "    <tr>\n",
       "      <th>1</th>\n",
       "      <td>test\\0001962ef76356a9168cd3098002851c.jpg</td>\n",
       "      <td>0.000434</td>\n",
       "      <td>0.001739</td>\n",
       "      <td>0.000092</td>\n",
       "      <td>0.001255</td>\n",
       "      <td>0.000315</td>\n",
       "      <td>0.000325</td>\n",
       "      <td>0.000005</td>\n",
       "      <td>0.000035</td>\n",
       "      <td>0.874401</td>\n",
       "      <td>0.108420</td>\n",
       "      <td>0.007087</td>\n",
       "      <td>0.002389</td>\n",
       "      <td>0.001860</td>\n",
       "      <td>0.001643</td>\n",
       "      <td>25</td>\n",
       "    </tr>\n",
       "    <tr>\n",
       "      <th>2</th>\n",
       "      <td>test\\0002a0499445c2828b401ad871199c02.jpg</td>\n",
       "      <td>0.001575</td>\n",
       "      <td>0.010341</td>\n",
       "      <td>0.000643</td>\n",
       "      <td>0.000313</td>\n",
       "      <td>0.000838</td>\n",
       "      <td>0.000396</td>\n",
       "      <td>0.000022</td>\n",
       "      <td>0.001580</td>\n",
       "      <td>0.768305</td>\n",
       "      <td>0.166349</td>\n",
       "      <td>0.031871</td>\n",
       "      <td>0.000635</td>\n",
       "      <td>0.001030</td>\n",
       "      <td>0.016101</td>\n",
       "      <td>25</td>\n",
       "    </tr>\n",
       "    <tr>\n",
       "      <th>3</th>\n",
       "      <td>test\\0002cff2fe0c248e758eafe094e2006d.jpg</td>\n",
       "      <td>0.008726</td>\n",
       "      <td>0.075359</td>\n",
       "      <td>0.028702</td>\n",
       "      <td>0.016549</td>\n",
       "      <td>0.003615</td>\n",
       "      <td>0.021170</td>\n",
       "      <td>0.000387</td>\n",
       "      <td>0.004302</td>\n",
       "      <td>0.198011</td>\n",
       "      <td>0.462284</td>\n",
       "      <td>0.098274</td>\n",
       "      <td>0.045979</td>\n",
       "      <td>0.025684</td>\n",
       "      <td>0.010957</td>\n",
       "      <td>26</td>\n",
       "    </tr>\n",
       "    <tr>\n",
       "      <th>4</th>\n",
       "      <td>test\\0002e6cb7533eb7d8c71a639b53f0545.jpg</td>\n",
       "      <td>0.005064</td>\n",
       "      <td>0.022101</td>\n",
       "      <td>0.012016</td>\n",
       "      <td>0.000943</td>\n",
       "      <td>0.000447</td>\n",
       "      <td>0.002340</td>\n",
       "      <td>0.000131</td>\n",
       "      <td>0.001222</td>\n",
       "      <td>0.090745</td>\n",
       "      <td>0.779530</td>\n",
       "      <td>0.060535</td>\n",
       "      <td>0.001804</td>\n",
       "      <td>0.008526</td>\n",
       "      <td>0.014597</td>\n",
       "      <td>26</td>\n",
       "    </tr>\n",
       "  </tbody>\n",
       "</table>\n",
       "</div>"
      ],
      "text/plain": [
       "                                  image_path        17        18        19  \\\n",
       "0  test\\000006831bfaf0e3b5ce3564a10e6dd4.jpg  0.000946  0.050849  0.003765   \n",
       "1  test\\0001962ef76356a9168cd3098002851c.jpg  0.000434  0.001739  0.000092   \n",
       "2  test\\0002a0499445c2828b401ad871199c02.jpg  0.001575  0.010341  0.000643   \n",
       "3  test\\0002cff2fe0c248e758eafe094e2006d.jpg  0.008726  0.075359  0.028702   \n",
       "4  test\\0002e6cb7533eb7d8c71a639b53f0545.jpg  0.005064  0.022101  0.012016   \n",
       "\n",
       "         20        21        22        23        24        25        26  \\\n",
       "0  0.003177  0.021657  0.004581  0.000909  0.002561  0.057567  0.382240   \n",
       "1  0.001255  0.000315  0.000325  0.000005  0.000035  0.874401  0.108420   \n",
       "2  0.000313  0.000838  0.000396  0.000022  0.001580  0.768305  0.166349   \n",
       "3  0.016549  0.003615  0.021170  0.000387  0.004302  0.198011  0.462284   \n",
       "4  0.000943  0.000447  0.002340  0.000131  0.001222  0.090745  0.779530   \n",
       "\n",
       "         27        28        29        30 pred  \n",
       "0  0.217111  0.229911  0.004436  0.020290   26  \n",
       "1  0.007087  0.002389  0.001860  0.001643   25  \n",
       "2  0.031871  0.000635  0.001030  0.016101   25  \n",
       "3  0.098274  0.045979  0.025684  0.010957   26  \n",
       "4  0.060535  0.001804  0.008526  0.014597   26  "
      ]
     },
     "execution_count": 217,
     "metadata": {},
     "output_type": "execute_result"
    }
   ],
   "source": [
    "df_fashion_test.head()"
   ]
  },
  {
   "cell_type": "code",
   "execution_count": 221,
   "metadata": {},
   "outputs": [],
   "source": [
    "# Remove test/ from path\n",
    "df_fashion_test['image_path']=df_fashion_test['image_path'].map(lambda x: x[5:])\n",
    "df_beauty_test['image_path']=df_beauty_test['image_path'].map(lambda x: x[5:])\n",
    "df_mobile_test['image_path']=df_mobile_test['image_path'].map(lambda x: x[5:])"
   ]
  },
  {
   "cell_type": "code",
   "execution_count": 223,
   "metadata": {},
   "outputs": [],
   "source": [
    "df_beauty_test.to_csv('test_beauty.csv',index=False)\n",
    "df_mobile_test.to_csv('test_mobile.csv',index=False)\n",
    "df_fashion_test.to_csv('test_fashion.csv',index=False)"
   ]
  },
  {
   "cell_type": "code",
   "execution_count": 229,
   "metadata": {},
   "outputs": [],
   "source": [
    "# Let's do our first submission with images only. Let's remove folders from path\n",
    "df_test.loc[(df_test.Group=='beauty_'),'image_path']=df_test.loc[(df_test.Group=='beauty_'),'image_path'].map(lambda x:x[13:])"
   ]
  },
  {
   "cell_type": "code",
   "execution_count": 232,
   "metadata": {},
   "outputs": [],
   "source": [
    "df_test.loc[(df_test.Group=='mobile_'),'image_path']=df_test.loc[(df_test.Group=='mobile_'),'image_path'].map(lambda x:x[13:])"
   ]
  },
  {
   "cell_type": "code",
   "execution_count": 235,
   "metadata": {},
   "outputs": [],
   "source": [
    "df_test.loc[(df_test.Group=='fashion'),'image_path']=df_test.loc[(df_test.Group=='fashion'),'image_path'].map(lambda x:x[14:])"
   ]
  },
  {
   "cell_type": "code",
   "execution_count": 244,
   "metadata": {},
   "outputs": [],
   "source": [
    "df=pd.concat([df_beauty_test,df_fashion_test,df_mobile_test],axis=0)\n",
    "df=df[['image_path','pred']]"
   ]
  },
  {
   "cell_type": "code",
   "execution_count": 245,
   "metadata": {},
   "outputs": [
    {
     "data": {
      "text/html": [
       "<div>\n",
       "<style scoped>\n",
       "    .dataframe tbody tr th:only-of-type {\n",
       "        vertical-align: middle;\n",
       "    }\n",
       "\n",
       "    .dataframe tbody tr th {\n",
       "        vertical-align: top;\n",
       "    }\n",
       "\n",
       "    .dataframe thead th {\n",
       "        text-align: right;\n",
       "    }\n",
       "</style>\n",
       "<table border=\"1\" class=\"dataframe\">\n",
       "  <thead>\n",
       "    <tr style=\"text-align: right;\">\n",
       "      <th></th>\n",
       "      <th>image_path</th>\n",
       "      <th>pred</th>\n",
       "    </tr>\n",
       "  </thead>\n",
       "  <tbody>\n",
       "    <tr>\n",
       "      <th>0</th>\n",
       "      <td>0000152e7d1cf21228cdd0e2e195aff8.jpg</td>\n",
       "      <td>12</td>\n",
       "    </tr>\n",
       "    <tr>\n",
       "      <th>1</th>\n",
       "      <td>00005d4b09cb3033698d9f1b98a9c04b.jpg</td>\n",
       "      <td>12</td>\n",
       "    </tr>\n",
       "    <tr>\n",
       "      <th>2</th>\n",
       "      <td>000136e7af78ea0dc0c4596c5b62b750.jpg</td>\n",
       "      <td>12</td>\n",
       "    </tr>\n",
       "    <tr>\n",
       "      <th>3</th>\n",
       "      <td>0001f92fdbbe7f630cf15ebb5b1c9b7d.jpg</td>\n",
       "      <td>12</td>\n",
       "    </tr>\n",
       "    <tr>\n",
       "      <th>4</th>\n",
       "      <td>0002021f41e1493e8cc7054fb30e048c.jpg</td>\n",
       "      <td>13</td>\n",
       "    </tr>\n",
       "  </tbody>\n",
       "</table>\n",
       "</div>"
      ],
      "text/plain": [
       "                             image_path pred\n",
       "0  0000152e7d1cf21228cdd0e2e195aff8.jpg   12\n",
       "1  00005d4b09cb3033698d9f1b98a9c04b.jpg   12\n",
       "2  000136e7af78ea0dc0c4596c5b62b750.jpg   12\n",
       "3  0001f92fdbbe7f630cf15ebb5b1c9b7d.jpg   12\n",
       "4  0002021f41e1493e8cc7054fb30e048c.jpg   13"
      ]
     },
     "execution_count": 245,
     "metadata": {},
     "output_type": "execute_result"
    }
   ],
   "source": [
    "df.head()"
   ]
  },
  {
   "cell_type": "code",
   "execution_count": 249,
   "metadata": {},
   "outputs": [],
   "source": [
    "df_sub=df_test.merge(df,on='image_path')[['itemid','pred']]"
   ]
  },
  {
   "cell_type": "code",
   "execution_count": 254,
   "metadata": {},
   "outputs": [],
   "source": [
    "df_sub.columns=['itemid','Category']"
   ]
  },
  {
   "cell_type": "code",
   "execution_count": 255,
   "metadata": {},
   "outputs": [],
   "source": [
    "#LB: 0.59715\n",
    "df_sub.to_csv('image_classification_1.csv',index=False)"
   ]
  },
  {
   "cell_type": "code",
   "execution_count": 60,
   "metadata": {},
   "outputs": [
    {
     "data": {
      "text/plain": [
       "0.5250904622106916"
      ]
     },
     "execution_count": 60,
     "metadata": {},
     "output_type": "execute_result"
    }
   ],
   "source": [
    "accuracy_np(probs, y)"
   ]
  },
  {
   "cell_type": "markdown",
   "metadata": {},
   "source": [
    "# I tried to train with augumentation several times until validation accuracy reaches min value . But it turns out that accuracy doesn't improve in that case. Using original code seems to give best results. Let's save this results for now. Later we will try other architectures such as resnet50 and vgg16 and etc."
   ]
  },
  {
   "cell_type": "markdown",
   "metadata": {
    "hidden": true
   },
   "source": [
    "I generally see about a 10-20% reduction in error on this dataset when using TTA at this point, which is an amazing result for such a quick and easy technique!"
   ]
  },
  {
   "cell_type": "code",
   "execution_count": null,
   "metadata": {},
   "outputs": [],
   "source": []
  },
  {
   "cell_type": "markdown",
   "metadata": {},
   "source": [
    "## Analyzing results"
   ]
  },
  {
   "cell_type": "markdown",
   "metadata": {
    "heading_collapsed": true
   },
   "source": [
    "### Confusion matrix "
   ]
  },
  {
   "cell_type": "code",
   "execution_count": 49,
   "metadata": {
    "hidden": true
   },
   "outputs": [],
   "source": [
    "preds = np.argmax(probs, axis=1)\n",
    "probs = probs[:,1]"
   ]
  },
  {
   "cell_type": "markdown",
   "metadata": {
    "hidden": true
   },
   "source": [
    "A common way to analyze the result of a classification model is to use a [confusion matrix](http://www.dataschool.io/simple-guide-to-confusion-matrix-terminology/). Scikit-learn has a convenient function we can use for this purpose:"
   ]
  },
  {
   "cell_type": "code",
   "execution_count": 50,
   "metadata": {
    "hidden": true
   },
   "outputs": [],
   "source": [
    "from sklearn.metrics import confusion_matrix\n",
    "cm = confusion_matrix(y, preds)"
   ]
  },
  {
   "cell_type": "markdown",
   "metadata": {
    "hidden": true
   },
   "source": [
    "We can just print out the confusion matrix, or we can show a graphical view (which is mainly useful for dependents with a larger number of categories)."
   ]
  },
  {
   "cell_type": "code",
   "execution_count": 51,
   "metadata": {
    "hidden": true,
    "scrolled": true
   },
   "outputs": [
    {
     "name": "stdout",
     "output_type": "stream",
     "text": [
      "[[   2  218  112   40    0    5    2    0   73   65   26    9    1    0]\n",
      " [   0 8971  456  902   50  114   26    9  300  337   85   58   11    0]\n",
      " [   0 1217  976  319   16   29   28    2   20   76    8    6    2    0]\n",
      " [   1 1704  261 1863    7   12   19    0   40   72    6    8    3    0]\n",
      " [   1 1648   65  177   61   19    8    4   46   48   11    6    3    0]\n",
      " [   1 2439  152  165   10  169    1    2   42   45    3   13    3    0]\n",
      " [   0   61   51   49    2    0  161    0    2    7    0    0    1    0]\n",
      " [   0  527   31  186    4    8    1   25   23   33    9    3    0    0]\n",
      " [   0  360    3   20    0    4    0    0 4895 1180  119  140   63    0]\n",
      " [   0  644   51   70    1   13    1    1 1238 4019  506  174   51    0]\n",
      " [   1  267   10    9    0    0    0    0  496 1254 1150   32   21    0]\n",
      " [   2  191    9   15    0    2    1    0  141  203    6  667   62    0]\n",
      " [   0   81    2    3    0    1    0    0  145  141    4  121  170    0]\n",
      " [   0   56    2    3    0    0    0    0   70  117   31    8    1    0]]\n"
     ]
    },
    {
     "data": {
      "image/png": "[encoded data removed]",
      "text/plain": [
       "<Figure size 432x288 with 2 Axes>"
      ]
     },
     "metadata": {},
     "output_type": "display_data"
    }
   ],
   "source": [
    "plot_confusion_matrix(cm, data.classes)"
   ]
  },
  {
   "cell_type": "markdown",
   "metadata": {},
   "source": [
    "### it seems that accuracy for category 30 is zero. There is no prediction for accuracy 30. Error is quite high\n"
   ]
  },
  {
   "cell_type": "markdown",
   "metadata": {
    "heading_collapsed": true
   },
   "source": [
    "### Looking at pictures again"
   ]
  },
  {
   "cell_type": "code",
   "execution_count": 54,
   "metadata": {},
   "outputs": [
    {
     "name": "stdout",
     "output_type": "stream",
     "text": [
      "Object `plot_val_with_title` not found.\n"
     ]
    }
   ],
   "source": [
    "?plot_val_with_title"
   ]
  },
  {
   "cell_type": "code",
   "execution_count": 52,
   "metadata": {
    "hidden": true,
    "scrolled": true
   },
   "outputs": [
    {
     "ename": "NameError",
     "evalue": "name 'plot_val_with_title' is not defined",
     "output_type": "error",
     "traceback": [
      "\u001b[1;31m---------------------------------------------------------------------------\u001b[0m",
      "\u001b[1;31mNameError\u001b[0m                                 Traceback (most recent call last)",
      "\u001b[1;32m<ipython-input-52-9ee8f12b4033>\u001b[0m in \u001b[0;36m<module>\u001b[1;34m()\u001b[0m\n\u001b[1;32m----> 1\u001b[1;33m \u001b[0mplot_val_with_title\u001b[0m\u001b[1;33m(\u001b[0m\u001b[0mmost_by_correct\u001b[0m\u001b[1;33m(\u001b[0m\u001b[1;36m0\u001b[0m\u001b[1;33m,\u001b[0m \u001b[1;32mFalse\u001b[0m\u001b[1;33m)\u001b[0m\u001b[1;33m,\u001b[0m \u001b[1;34m\"Most incorrect cow\"\u001b[0m\u001b[1;33m)\u001b[0m\u001b[1;33m\u001b[0m\u001b[0m\n\u001b[0m",
      "\u001b[1;31mNameError\u001b[0m: name 'plot_val_with_title' is not defined"
     ]
    }
   ],
   "source": [
    "plot_val_with_title(most_by_correct(0, False), \"Most incorrect cow\")"
   ]
  },
  {
   "cell_type": "code",
   "execution_count": 53,
   "metadata": {
    "hidden": true
   },
   "outputs": [
    {
     "ename": "NameError",
     "evalue": "name 'plot_val_with_title' is not defined",
     "output_type": "error",
     "traceback": [
      "\u001b[1;31m---------------------------------------------------------------------------\u001b[0m",
      "\u001b[1;31mNameError\u001b[0m                                 Traceback (most recent call last)",
      "\u001b[1;32m<ipython-input-53-8d181832589b>\u001b[0m in \u001b[0;36m<module>\u001b[1;34m()\u001b[0m\n\u001b[1;32m----> 1\u001b[1;33m \u001b[0mplot_val_with_title\u001b[0m\u001b[1;33m(\u001b[0m\u001b[0mmost_by_correct\u001b[0m\u001b[1;33m(\u001b[0m\u001b[1;36m1\u001b[0m\u001b[1;33m,\u001b[0m \u001b[1;32mFalse\u001b[0m\u001b[1;33m)\u001b[0m\u001b[1;33m,\u001b[0m \u001b[1;34m\"Most incorrect sheep\"\u001b[0m\u001b[1;33m)\u001b[0m\u001b[1;33m\u001b[0m\u001b[0m\n\u001b[0m",
      "\u001b[1;31mNameError\u001b[0m: name 'plot_val_with_title' is not defined"
     ]
    }
   ],
   "source": [
    "plot_val_with_title(most_by_correct(1, False), \"Most incorrect sheep\")"
   ]
  },
  {
   "cell_type": "markdown",
   "metadata": {
    "heading_collapsed": true
   },
   "source": [
    "## Review: easy steps to train a world-class image classifier"
   ]
  },
  {
   "cell_type": "markdown",
   "metadata": {
    "hidden": true
   },
   "source": [
    "1. Enable data augmentation, and precompute=True\n",
    "1. Use `lr_find()` to find highest learning rate where loss is still clearly improving\n",
    "1. Train last layer from precomputed activations for 1-2 epochs\n",
    "1. Train last layer with data augmentation (i.e. precompute=False) for 2-3 epochs with cycle_len=1\n",
    "1. Unfreeze all layers\n",
    "1. Set earlier layers to 3x-10x lower learning rate than next higher layer\n",
    "1. Use `lr_find()` again\n",
    "1. Train full network with cycle_mult=2 until over-fitting"
   ]
  },
  {
   "cell_type": "markdown",
   "metadata": {
    "heading_collapsed": true
   },
   "source": [
    "## Understanding the code for our first model"
   ]
  },
  {
   "cell_type": "markdown",
   "metadata": {
    "hidden": true
   },
   "source": [
    "Let's look at the Dogs v Cats code line by line.\n",
    "\n",
    "**tfms** stands for *transformations*. `tfms_from_model` takes care of resizing, image cropping, initial normalization (creating data with (mean,stdev) of (0,1)), and more."
   ]
  },
  {
   "cell_type": "code",
   "execution_count": 114,
   "metadata": {
    "hidden": true,
    "scrolled": true
   },
   "outputs": [],
   "source": [
    "tfms = tfms_from_model(resnet34, sz)"
   ]
  },
  {
   "cell_type": "markdown",
   "metadata": {
    "hidden": true
   },
   "source": [
    "We need a <b>path</b> that points to the dataset. In this path we will also store temporary data and final results. `ImageClassifierData.from_paths` reads data from a provided path and creates a dataset ready for training."
   ]
  },
  {
   "cell_type": "code",
   "execution_count": 115,
   "metadata": {
    "hidden": true
   },
   "outputs": [],
   "source": [
    "data = ImageClassifierData.from_paths(PATH, tfms=tfms)"
   ]
  },
  {
   "cell_type": "markdown",
   "metadata": {
    "hidden": true
   },
   "source": [
    "`ConvLearner.pretrained` builds *learner* that contains a pre-trained model. The last layer of the model needs to be replaced with the layer of the right dimensions. The pretained model was trained for 1000 classes therfore the final layer predicts a vector of 1000 probabilities. The model for cats and dogs needs to output a two dimensional vector. The diagram below shows in an example how this was done in one of the earliest successful CNNs. The layer \"FC8\" here would get replaced with a new layer with 2 outputs.\n",
    "\n",
    "<img src=\"images/pretrained.png\" width=\"500\">\n",
    "[original image](https://image.slidesharecdn.com/practicaldeeplearning-160329181459/95/practical-deep-learning-16-638.jpg)"
   ]
  },
  {
   "cell_type": "code",
   "execution_count": 116,
   "metadata": {
    "hidden": true
   },
   "outputs": [],
   "source": [
    "learn = ConvLearner.pretrained(resnet34, data, precompute=True)"
   ]
  },
  {
   "cell_type": "markdown",
   "metadata": {
    "hidden": true
   },
   "source": [
    "*Parameters*  are learned by fitting a model to the data. *Hyparameters* are another kind of parameter, that cannot be directly learned from the regular training process. These parameters express “higher-level” properties of the model such as its complexity or how fast it should learn. Two examples of hyperparameters are the *learning rate* and the *number of epochs*.\n",
    "\n",
    "During iterative training of a neural network, a *batch* or *mini-batch* is a subset of training samples used in one iteration of Stochastic Gradient Descent (SGD). An *epoch* is a single pass through the entire training set which consists of multiple iterations of SGD.\n",
    "\n",
    "We can now *fit* the model; that is, use *gradient descent* to find the best parameters for the fully connected layer we added, that can separate cat pictures from dog pictures. We need to pass two hyperameters: the *learning rate* (generally 1e-2 or 1e-3 is a good starting point, we'll look more at this next) and the *number of epochs* (you can pass in a higher number and just stop training when you see it's no longer improving, then re-run it with the number of epochs you found works well.)"
   ]
  },
  {
   "cell_type": "code",
   "execution_count": 117,
   "metadata": {
    "hidden": true
   },
   "outputs": [
    {
     "data": {
      "application/vnd.jupyter.widget-view+json": {
       "model_id": "f993a59c256f4e82a85b10cb3d280722",
       "version_major": 2,
       "version_minor": 0
      },
      "text/plain": [
       "HBox(children=(IntProgress(value=0, description='Epoch', max=1), HTML(value='')))"
      ]
     },
     "metadata": {},
     "output_type": "display_data"
    },
    {
     "name": "stdout",
     "output_type": "stream",
     "text": [
      "epoch      trn_loss   val_loss   accuracy                                                                              \n",
      "    0      0.046303   0.026076   0.989     \n",
      "\n"
     ]
    },
    {
     "data": {
      "text/plain": [
       "[array([0.02608]), 0.989]"
      ]
     },
     "execution_count": 117,
     "metadata": {},
     "output_type": "execute_result"
    }
   ],
   "source": [
    "learn.fit(1e-2, 1)"
   ]
  },
  {
   "cell_type": "markdown",
   "metadata": {
    "heading_collapsed": true
   },
   "source": [
    "## Analyzing results: loss and accuracy"
   ]
  },
  {
   "cell_type": "markdown",
   "metadata": {
    "hidden": true
   },
   "source": [
    "When we run `learn.fit` we print 3 performance values (see above.) Here 0.03 is the value of the **loss** in the training set, 0.0226 is the value of the loss in the validation set and 0.9927 is the validation accuracy. What is the loss? What is accuracy? Why not to just show accuracy?\n",
    "\n",
    "**Accuracy** is the ratio of correct prediction to the total number of predictions.\n",
    "\n",
    "In machine learning the **loss** function or cost function is representing the price paid for inaccuracy of predictions.\n",
    "\n",
    "The loss associated with one example in binary classification is given by:\n",
    "`-(y * log(p) + (1-y) * log (1-p))`\n",
    "where `y` is the true label of `x` and `p` is the probability predicted by our model that the label is 1."
   ]
  },
  {
   "cell_type": "code",
   "execution_count": 118,
   "metadata": {
    "hidden": true
   },
   "outputs": [],
   "source": [
    "def binary_loss(y, p):\n",
    "    return np.mean(-(y * np.log(p) + (1-y)*np.log(1-p)))"
   ]
  },
  {
   "cell_type": "code",
   "execution_count": 119,
   "metadata": {
    "hidden": true
   },
   "outputs": [
    {
     "data": {
      "text/plain": [
       "0.164252033486018"
      ]
     },
     "execution_count": 119,
     "metadata": {},
     "output_type": "execute_result"
    }
   ],
   "source": [
    "acts = np.array([1, 0, 0, 1])\n",
    "preds = np.array([0.9, 0.1, 0.2, 0.8])\n",
    "binary_loss(acts, preds)"
   ]
  },
  {
   "cell_type": "markdown",
   "metadata": {
    "hidden": true
   },
   "source": [
    "Note that in our toy example above our accuracy is 100% and our loss is 0.16. Compare that to a loss of 0.03 that we are getting while predicting cats and dogs. Exercise: play with `preds` to get a lower loss for this example. \n",
    "\n",
    "**Example:** Here is an example on how to compute the loss for one example of binary classification problem. Suppose for an image x with label 1 and your model gives it a prediction of 0.9. For this case the loss should be small because our model is predicting a label $1$ with high probability.\n",
    "\n",
    "`loss = -log(0.9) = 0.10`\n",
    "\n",
    "Now suppose x has label 0 but our model is predicting 0.9. In this case our loss should be much larger.\n",
    "\n",
    "loss = -log(1-0.9) = 2.30\n",
    "\n",
    "- Exercise: look at the other cases and convince yourself that this make sense.\n",
    "- Exercise: how would you rewrite `binary_loss` using `if` instead of `*` and `+`?\n",
    "\n",
    "Why not just maximize accuracy? The binary classification loss is an easier function to optimize."
   ]
  },
  {
   "cell_type": "code",
   "execution_count": null,
   "metadata": {
    "collapsed": true,
    "hidden": true
   },
   "outputs": [],
   "source": []
  }
 ],
 "metadata": {
  "kernelspec": {
   "display_name": "Python 3",
   "language": "python",
   "name": "python3"
  },
  "language_info": {
   "codemirror_mode": {
    "name": "ipython",
    "version": 3
   },
   "file_extension": ".py",
   "mimetype": "text/x-python",
   "name": "python",
   "nbconvert_exporter": "python",
   "pygments_lexer": "ipython3",
   "version": "3.6.4"
  },
  "toc": {
   "colors": {
    "hover_highlight": "#DAA520",
    "navigate_num": "#000000",
    "navigate_text": "#333333",
    "running_highlight": "#FF0000",
    "selected_highlight": "#FFD700",
    "sidebar_border": "#EEEEEE",
    "wrapper_background": "#FFFFFF"
   },
   "moveMenuLeft": true,
   "nav_menu": {
    "height": "266px",
    "width": "252px"
   },
   "navigate_menu": true,
   "number_sections": true,
   "sideBar": true,
   "threshold": 4,
   "toc_cell": false,
   "toc_section_display": "block",
   "toc_window_display": false,
   "widenNotebook": false
  }
 },
 "nbformat": 4,
 "nbformat_minor": 2
}
