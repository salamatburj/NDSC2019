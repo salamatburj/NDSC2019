{
 "cells": [
  {
   "cell_type": "code",
   "execution_count": 1,
   "metadata": {},
   "outputs": [],
   "source": [
    "\n",
    "\n",
    "import numpy as np # linear algebra\n",
    "import pandas as pd # data processing, CSV file I/O (e.g. pd.read_csv)\n",
    "from sklearn.model_selection import train_test_split\n",
    "\n",
    "\n",
    "\n",
    "\n",
    "import sys\n",
    "import numpy as np\n",
    "import pandas as pd\n",
    "import matplotlib.pyplot as plt\n",
    "\n",
    "\n",
    "from sklearn.ensemble import ExtraTreesClassifier, RandomForestClassifier\n",
    "from gensim.models import KeyedVectors, Word2Vec"
   ]
  },
  {
   "cell_type": "code",
   "execution_count": 2,
   "metadata": {},
   "outputs": [],
   "source": [
    "df_train=pd.read_csv('train.csv')\n",
    "df_test=pd.read_csv('test.csv')"
   ]
  },
  {
   "cell_type": "code",
   "execution_count": 3,
   "metadata": {},
   "outputs": [],
   "source": [
    "titles_train=df_train.title.values\n",
    "titles_test=df_test.title.values"
   ]
  },
  {
   "cell_type": "code",
   "execution_count": 4,
   "metadata": {},
   "outputs": [],
   "source": [
    "titles=list(titles_train)+list(titles_test)"
   ]
  },
  {
   "cell_type": "code",
   "execution_count": 5,
   "metadata": {},
   "outputs": [],
   "source": [
    "# Simple tokenize\n",
    "titles_list=[sentence.split() for sentence in titles]"
   ]
  },
  {
   "cell_type": "code",
   "execution_count": 6,
   "metadata": {},
   "outputs": [],
   "source": [
    "ownvec=Word2Vec(titles_list, min_count=1, size=100)"
   ]
  },
  {
   "cell_type": "code",
   "execution_count": 7,
   "metadata": {},
   "outputs": [
    {
     "name": "stderr",
     "output_type": "stream",
     "text": [
      "C:\\Users\\user\\Anaconda3\\lib\\site-packages\\ipykernel_launcher.py:1: DeprecationWarning: Call to deprecated `most_similar` (Method will be removed in 4.0.0, use self.wv.most_similar() instead).\n",
      "  \"\"\"Entry point for launching an IPython kernel.\n"
     ]
    },
    {
     "data": {
      "text/plain": [
       "[('iphone6', 0.6916166543960571),\n",
       " ('apple', 0.6652277112007141),\n",
       " ('6s', 0.5983198881149292),\n",
       " ('iphone5s', 0.5731409788131714),\n",
       " ('iphone5', 0.5352137088775635),\n",
       " ('00.31.iphone', 0.5115038752555847),\n",
       " ('iphonex', 0.49824059009552),\n",
       " ('5s', 0.4963669776916504),\n",
       " ('space', 0.4938748776912689),\n",
       " ('fu', 0.49236932396888733)]"
      ]
     },
     "execution_count": 7,
     "metadata": {},
     "output_type": "execute_result"
    }
   ],
   "source": [
    "ownvec.most_similar('iphone')"
   ]
  },
  {
   "cell_type": "code",
   "execution_count": 8,
   "metadata": {},
   "outputs": [
    {
     "name": "stderr",
     "output_type": "stream",
     "text": [
      "C:\\Users\\user\\Anaconda3\\lib\\site-packages\\ipykernel_launcher.py:1: DeprecationWarning: Call to deprecated `most_similar` (Method will be removed in 4.0.0, use self.wv.most_similar() instead).\n",
      "  \"\"\"Entry point for launching an IPython kernel.\n"
     ]
    },
    {
     "data": {
      "text/plain": [
       "[('xiomi', 0.8334578275680542),\n",
       " ('xioami', 0.7535781860351562),\n",
       " ('xiami', 0.6244704127311707),\n",
       " ('xiao', 0.5539789199829102),\n",
       " ('redmi', 0.5318061113357544),\n",
       " ('m4c', 0.5266726016998291),\n",
       " ('mi', 0.5178468823432922),\n",
       " ('huang', 0.5117055773735046),\n",
       " ('oppo', 0.4951171576976776),\n",
       " ('845', 0.4949208199977875)]"
      ]
     },
     "execution_count": 8,
     "metadata": {},
     "output_type": "execute_result"
    }
   ],
   "source": [
    "ownvec.most_similar('xiaomi')"
   ]
  },
  {
   "cell_type": "code",
   "execution_count": 9,
   "metadata": {},
   "outputs": [],
   "source": [
    "?ownvec"
   ]
  },
  {
   "cell_type": "code",
   "execution_count": 10,
   "metadata": {},
   "outputs": [
    {
     "name": "stderr",
     "output_type": "stream",
     "text": [
      "C:\\Users\\user\\Anaconda3\\lib\\site-packages\\ipykernel_launcher.py:1: DeprecationWarning: Call to deprecated `__getitem__` (Method will be removed in 4.0.0, use self.wv.__getitem__() instead).\n",
      "  \"\"\"Entry point for launching an IPython kernel.\n"
     ]
    },
    {
     "data": {
      "text/plain": [
       "array([[  3.79065347e+00,   2.65444312e-02,   3.36778831e+00,\n",
       "         -2.54080832e-01,   5.07925034e-01,   6.94672108e-01,\n",
       "          5.33774495e-01,  -3.13544536e+00,   1.63937712e+00,\n",
       "         -5.01914835e+00,   2.70330024e+00,  -9.19160008e-01,\n",
       "         -5.74738741e+00,   1.12294543e+00,  -7.48325944e-01,\n",
       "          3.94104034e-01,   2.56436968e+00,   6.03464890e+00,\n",
       "         -5.30166507e-01,   1.11989677e+00,   4.09447193e+00,\n",
       "         -5.14073420e+00,  -1.34859872e+00,  -2.79977441e-01,\n",
       "          3.09175897e+00,  -3.95023823e+00,   3.23656750e+00,\n",
       "          4.36412907e+00,   3.98332500e+00,   3.92514968e+00,\n",
       "          1.24428380e+00,   4.49939203e+00,  -2.27723765e+00,\n",
       "          2.13103071e-01,  -2.90831387e-01,   3.52215266e+00,\n",
       "          2.26592159e+00,   4.61572456e+00,   7.23726511e+00,\n",
       "          1.97300300e-01,   1.42543650e+00,  -2.13246393e+00,\n",
       "         -2.22664428e+00,  -6.83384955e-01,   5.61224461e+00,\n",
       "          1.98081040e+00,  -6.96646273e-01,  -4.42677259e-01,\n",
       "          5.23822904e-01,   6.52877522e+00,   6.35678887e-01,\n",
       "         -7.14407086e-01,   1.60192800e+00,   3.79439324e-01,\n",
       "         -1.47016704e-01,   2.89389002e-03,  -2.36408281e+00,\n",
       "         -9.50222313e-01,  -2.78997517e+00,  -2.70124555e-01,\n",
       "         -2.80751586e+00,   1.41156173e+00,  -2.20317572e-01,\n",
       "         -5.00380278e+00,   2.95315003e+00,   5.37326860e+00,\n",
       "          3.18537402e+00,  -4.28082407e-01,  -9.46826816e-01,\n",
       "          5.54812849e-01,  -3.18379116e+00,  -8.81414592e-01,\n",
       "          1.34241652e+00,   2.74974847e+00,  -8.08162093e-01,\n",
       "         -3.07813120e+00,  -3.25236773e+00,   4.60971498e+00,\n",
       "          3.27559829e+00,  -2.02440929e+00,  -5.25731468e+00,\n",
       "         -4.20435667e+00,  -7.17153907e-01,   6.14198506e-01,\n",
       "          3.94981360e+00,  -1.63649642e+00,  -1.06113994e+00,\n",
       "         -6.88425004e-02,   6.87102413e+00,   5.05050182e-01,\n",
       "          2.36421943e+00,  -3.67539525e-01,  -2.48644128e-02,\n",
       "         -8.30313027e-01,  -3.61628151e+00,  -6.09805632e+00,\n",
       "          1.69923127e+00,  -3.74264643e-02,   3.65302622e-01,\n",
       "         -3.11462903e+00],\n",
       "       [ -1.95588493e+00,   9.45512295e-01,  -1.41611564e+00,\n",
       "          2.61683464e-01,   8.99039924e-01,  -3.77664953e-01,\n",
       "          1.07704751e-01,   4.09500182e-01,  -3.30450869e+00,\n",
       "         -3.13043952e+00,  -3.76331639e+00,   4.44362164e-01,\n",
       "         -3.39584351e+00,   3.31327629e+00,  -5.77461541e-01,\n",
       "          1.89752758e-01,  -2.39969182e+00,  -2.53856206e+00,\n",
       "          6.88548505e-01,   1.66422144e-01,   1.72705278e-02,\n",
       "         -1.41777885e+00,  -4.68754560e-01,  -1.86324394e+00,\n",
       "         -8.16952944e-01,   1.48571265e+00,   5.92196107e-01,\n",
       "          2.40294504e+00,   3.72321904e-01,   3.80948472e+00,\n",
       "          1.60512495e+00,   1.14139163e+00,   1.82625866e+00,\n",
       "          2.51282072e+00,   1.96451342e+00,   3.33077693e+00,\n",
       "          1.27136350e+00,   1.65671065e-01,  -2.40205312e+00,\n",
       "         -2.07788277e+00,   3.65135527e+00,   1.39810622e+00,\n",
       "          1.47236407e-01,   1.30624270e+00,  -2.84581327e+00,\n",
       "         -1.08246100e+00,   8.59196246e-01,  -3.04913342e-01,\n",
       "         -1.59907258e+00,   1.32201433e+00,  -9.12185252e-01,\n",
       "         -2.27363276e+00,   1.61947477e+00,  -5.42295992e-01,\n",
       "          2.68274713e+00,  -1.57457829e+00,   1.93185592e+00,\n",
       "          7.12522864e-01,  -8.39756802e-02,   2.47212863e+00,\n",
       "          4.68777716e-01,  -5.22957945e+00,   2.15353084e+00,\n",
       "         -8.21858048e-01,  -3.17279786e-01,  -3.63713574e+00,\n",
       "         -3.76659751e-01,   7.97217607e-01,  -1.82108745e-01,\n",
       "          2.36769414e+00,  -2.26343885e-01,   1.38898826e+00,\n",
       "         -8.95567536e-01,   3.58530760e+00,   2.40575194e+00,\n",
       "          1.69346464e+00,  -5.74099779e-01,   6.03446543e-01,\n",
       "         -3.11334729e-02,   4.85493928e-01,  -2.47000027e+00,\n",
       "          3.66006398e+00,  -1.29849219e+00,  -8.60809445e-01,\n",
       "         -1.10679471e+00,   3.63585305e+00,   1.38538265e+00,\n",
       "          2.37854195e+00,  -1.31193030e+00,  -2.00124598e+00,\n",
       "         -2.22615743e+00,   5.88822067e-01,   1.38342142e+00,\n",
       "          1.74120188e+00,  -7.52618790e-01,   1.87527430e+00,\n",
       "          3.94663787e+00,   1.27790546e+00,  -7.21590400e-01,\n",
       "         -5.64079545e-02]], dtype=float32)"
      ]
     },
     "execution_count": 10,
     "metadata": {},
     "output_type": "execute_result"
    }
   ],
   "source": [
    "ownvec[['iphone','blue']]"
   ]
  },
  {
   "cell_type": "code",
   "execution_count": 11,
   "metadata": {},
   "outputs": [],
   "source": [
    "# So, I will use simple method for getting vectors. I will take each word in senctence and convert it to vector.\n",
    "# After, will take mean at the end each sentence will be represented by vector.\n"
   ]
  },
  {
   "cell_type": "code",
   "execution_count": 12,
   "metadata": {},
   "outputs": [],
   "source": [
    "a=np.array([[1,2,3],[2,3,4],[9,4,5]])"
   ]
  },
  {
   "cell_type": "code",
   "execution_count": 13,
   "metadata": {},
   "outputs": [
    {
     "data": {
      "text/plain": [
       "array([[1, 2, 3],\n",
       "       [2, 3, 4],\n",
       "       [9, 4, 5]])"
      ]
     },
     "execution_count": 13,
     "metadata": {},
     "output_type": "execute_result"
    }
   ],
   "source": [
    "a"
   ]
  },
  {
   "cell_type": "code",
   "execution_count": 14,
   "metadata": {},
   "outputs": [
    {
     "data": {
      "text/plain": [
       "array([ 4.,  3.,  4.])"
      ]
     },
     "execution_count": 14,
     "metadata": {},
     "output_type": "execute_result"
    }
   ],
   "source": [
    "a.mean(axis=0)"
   ]
  },
  {
   "cell_type": "code",
   "execution_count": 15,
   "metadata": {},
   "outputs": [],
   "source": [
    "def convert_to_vec(text):\n",
    "    text_list=text.split()\n",
    "    vec=ownvec[text_list]\n",
    "    vec=vec.mean(axis=0)\n",
    "    return vec"
   ]
  },
  {
   "cell_type": "code",
   "execution_count": 16,
   "metadata": {},
   "outputs": [
    {
     "name": "stderr",
     "output_type": "stream",
     "text": [
      "C:\\Users\\user\\Anaconda3\\lib\\site-packages\\ipykernel_launcher.py:3: DeprecationWarning: Call to deprecated `__getitem__` (Method will be removed in 4.0.0, use self.wv.__getitem__() instead).\n",
      "  This is separate from the ipykernel package so we can avoid doing imports until\n"
     ]
    }
   ],
   "source": [
    "train_w2v=df_train.title.apply(convert_to_vec)"
   ]
  },
  {
   "cell_type": "code",
   "execution_count": 17,
   "metadata": {
    "scrolled": true
   },
   "outputs": [
    {
     "name": "stderr",
     "output_type": "stream",
     "text": [
      "C:\\Users\\user\\Anaconda3\\lib\\site-packages\\ipykernel_launcher.py:3: DeprecationWarning: Call to deprecated `__getitem__` (Method will be removed in 4.0.0, use self.wv.__getitem__() instead).\n",
      "  This is separate from the ipykernel package so we can avoid doing imports until\n"
     ]
    }
   ],
   "source": [
    "test_w2v=df_test.title.apply(convert_to_vec)"
   ]
  },
  {
   "cell_type": "code",
   "execution_count": 18,
   "metadata": {},
   "outputs": [],
   "source": [
    "# Now, let's convert it to dataframes and run similar simulations as we did for previous w2v (using available corpuses )"
   ]
  },
  {
   "cell_type": "code",
   "execution_count": 19,
   "metadata": {},
   "outputs": [],
   "source": [
    "train_all=pd.DataFrame(train_w2v.values.tolist())\n",
    "test_sub=pd.DataFrame(test_w2v.values.tolist())"
   ]
  },
  {
   "cell_type": "code",
   "execution_count": 20,
   "metadata": {},
   "outputs": [
    {
     "data": {
      "text/plain": [
       "RangeIndex(start=0, stop=100, step=1)"
      ]
     },
     "execution_count": 20,
     "metadata": {},
     "output_type": "execute_result"
    }
   ],
   "source": [
    "train_all.columns"
   ]
  },
  {
   "cell_type": "code",
   "execution_count": 21,
   "metadata": {},
   "outputs": [],
   "source": [
    "# some linear models\n",
    "from sklearn.linear_model import LogisticRegression, BayesianRidge\n",
    "\n",
    "# SCM for classification\n",
    "from sklearn.svm import SVC\n",
    "\n",
    "from sklearn.pipeline import Pipeline\n",
    "\n",
    "from sklearn.naive_bayes import MultinomialNB, GaussianNB, BernoulliNB\n",
    "\n",
    "import warnings\n",
    "warnings.filterwarnings('ignore')\n",
    "np.random.seed(2019)\n",
    "from sklearn.metrics import accuracy_score\n",
    "from sklearn.model_selection import GridSearchCV"
   ]
  },
  {
   "cell_type": "code",
   "execution_count": 22,
   "metadata": {},
   "outputs": [],
   "source": [
    "from sklearn.model_selection import train_test_split"
   ]
  },
  {
   "cell_type": "code",
   "execution_count": 23,
   "metadata": {},
   "outputs": [],
   "source": [
    "df_train['Group']=df_train.image_path.map(lambda x: x[:7])\n",
    "df_test['Group']=df_test.image_path.map(lambda x: x[:7])"
   ]
  },
  {
   "cell_type": "code",
   "execution_count": 24,
   "metadata": {},
   "outputs": [],
   "source": [
    "train_all['Group']=df_train['Group']\n",
    "train_all['Category']=df_train['Category']\n",
    "test_sub['Group']=df_test['Group']\n"
   ]
  },
  {
   "cell_type": "code",
   "execution_count": 25,
   "metadata": {},
   "outputs": [],
   "source": [
    "col=[i for i in range(100)]"
   ]
  },
  {
   "cell_type": "code",
   "execution_count": 26,
   "metadata": {},
   "outputs": [],
   "source": [
    "train,test=train_test_split(train_all,random_state=2019,stratify=df_train.Category,test_size=0.2)\n"
   ]
  },
  {
   "cell_type": "code",
   "execution_count": 27,
   "metadata": {},
   "outputs": [],
   "source": [
    "# let's build pipeline for parameter search in n_grams and and various models\n",
    "lr=LogisticRegression()\n",
    "nb=MultinomialNB()\n",
    "svc=SVC()\n",
    "# let's check first three and see which one is best\n",
    "gnb=GaussianNB()\n",
    "bnb=BernoulliNB()\n",
    "br=BayesianRidge()\n",
    "rf=RandomForestClassifier(n_estimators=150)"
   ]
  },
  {
   "cell_type": "code",
   "execution_count": 28,
   "metadata": {},
   "outputs": [],
   "source": [
    "groups=['beauty_','mobile_','fashion']"
   ]
  },
  {
   "cell_type": "code",
   "execution_count": 31,
   "metadata": {},
   "outputs": [],
   "source": [
    "from sklearn.neighbors import KNeighborsClassifier"
   ]
  },
  {
   "cell_type": "code",
   "execution_count": 32,
   "metadata": {},
   "outputs": [],
   "source": [
    "from sklearn.svm import SVC"
   ]
  },
  {
   "cell_type": "code",
   "execution_count": 36,
   "metadata": {},
   "outputs": [
    {
     "data": {
      "text/plain": [
       "(172402, 101)"
      ]
     },
     "execution_count": 36,
     "metadata": {},
     "output_type": "execute_result"
    }
   ],
   "source": [
    "test_sub.shape"
   ]
  },
  {
   "cell_type": "code",
   "execution_count": 37,
   "metadata": {},
   "outputs": [
    {
     "name": "stdout",
     "output_type": "stream",
     "text": [
      "Results for group: beauty_\n",
      "Accuracy for val set: 0.752324790202\n",
      "Results for group: mobile_\n",
      "Accuracy for val set: 0.776360517698\n",
      "Results for group: fashion\n",
      "Accuracy for val set: 0.601351812658\n"
     ]
    }
   ],
   "source": [
    "pipe_beauty=Pipeline([('model',RandomForestClassifier(n_estimators=280))])\n",
    "pipe_mobile=Pipeline([('model',RandomForestClassifier(n_estimators=200))]) # I just choose lowest complexity\n",
    "pipe_fashion=Pipeline([('model',RandomForestClassifier(n_estimators=300))])\n",
    "\n",
    "pipe_en={'beauty_':pipe_beauty,'mobile_':pipe_mobile,'fashion':pipe_fashion}\n",
    "\n",
    "pred_val={}\n",
    "pred_test={}\n",
    "for group in groups:\n",
    "    print('Results for group:', group)\n",
    "    X_train=train[train.Group==group][col]\n",
    "    y_train=train[train.Group==group]['Category']\n",
    "    model=pipe_en[group]\n",
    "    model.fit(X_train,y_train)\n",
    "    X_val=test[test.Group==group][col]\n",
    "    y_val=test[test.Group==group]['Category']\n",
    "    y_pred_val=model.predict(X_val)\n",
    "    pred_val[group]=y_pred_val\n",
    "    print('Accuracy for val set:', accuracy_score(y_val.values,y_pred_val))\n",
    "    # Train for 100% of data\n",
    "    X_train=train_all[train_all.Group==group][col]\n",
    "    y_train=train_all[train_all.Group==group]['Category']\n",
    "    X_test=test_sub[test_sub.Group==group][col]\n",
    "    model.fit(X_train,y_train)\n",
    "    pred_sub=model.predict(X_test)\n",
    "    pred_test[group]=pred_sub\n",
    "    \n"
   ]
  },
  {
   "cell_type": "code",
   "execution_count": 39,
   "metadata": {},
   "outputs": [
    {
     "name": "stdout",
     "output_type": "stream",
     "text": [
      "Results for group: beauty_\n",
      "Results for group: mobile_\n",
      "Results for group: fashion\n"
     ]
    }
   ],
   "source": [
    "pipe_beauty=Pipeline([('model',RandomForestClassifier(n_estimators=280))])\n",
    "pipe_mobile=Pipeline([('model',RandomForestClassifier(n_estimators=200))]) # I just choose lowest complexity\n",
    "pipe_fashion=Pipeline([('model',RandomForestClassifier(n_estimators=300))])\n",
    "\n",
    "pipe_en={'beauty_':pipe_beauty,'mobile_':pipe_mobile,'fashion':pipe_fashion}\n",
    "\n",
    "pred_proba_val={}\n",
    "pred_proba_test={}\n",
    "for group in groups:\n",
    "    print('Results for group:', group)\n",
    "    X_train=train[train.Group==group][col]\n",
    "    y_train=train[train.Group==group]['Category']\n",
    "    model=pipe_en[group]\n",
    "    model.fit(X_train,y_train)\n",
    "    X_val=test[test.Group==group][col]\n",
    "    y_val=test[test.Group==group]['Category']\n",
    "    y_pred_proba_val=model.predict_proba(X_val)\n",
    "    pred_proba_val[group]=y_pred_proba_val\n",
    "    # Train for 100% of data\n",
    "    X_train=train_all[train_all.Group==group][col]\n",
    "    y_train=train_all[train_all.Group==group]['Category']\n",
    "    X_test=test_sub[test_sub.Group==group][col]\n",
    "    model.fit(X_train,y_train)\n",
    "    pred_proba_sub=model.predict_proba(X_test)\n",
    "    pred_proba_test[group]=pred_proba_sub\n",
    "    \n"
   ]
  },
  {
   "cell_type": "code",
   "execution_count": 54,
   "metadata": {},
   "outputs": [],
   "source": [
    " for group in groups:\n",
    "    df=pd.DataFrame(pred_proba_val[group])\n",
    "    col=pipe_en[group].classes_\n",
    "    df.columns=col\n",
    "    df['pred']=pred_val[group]\n",
    "    df.to_csv(group+'_test_proba_w2v_own_val_data.csv',index=False)\n",
    "    \n",
    "    df=pd.DataFrame(pred_proba_test[group])\n",
    "    df.columns=col\n",
    "    df['pred']=pred_test[group]\n",
    "    df.to_csv(group+'_test_proba_w2v_own_all_data.csv',index=False)"
   ]
  }
 ],
 "metadata": {
  "kernelspec": {
   "display_name": "Python 3",
   "language": "python",
   "name": "python3"
  },
  "language_info": {
   "codemirror_mode": {
    "name": "ipython",
    "version": 3
   },
   "file_extension": ".py",
   "mimetype": "text/x-python",
   "name": "python",
   "nbconvert_exporter": "python",
   "pygments_lexer": "ipython3",
   "version": "3.6.4"
  }
 },
 "nbformat": 4,
 "nbformat_minor": 2
}
