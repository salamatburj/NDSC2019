{
 "cells": [
  {
   "cell_type": "code",
   "execution_count": 1,
   "metadata": {},
   "outputs": [],
   "source": [
    "\n",
    "\n",
    "import numpy as np # linear algebra\n",
    "import pandas as pd # data processing, CSV file I/O (e.g. pd.read_csv)\n",
    "from sklearn.model_selection import train_test_split\n",
    "\n",
    "\n",
    "\n",
    "\n",
    "import sys\n",
    "import numpy as np\n",
    "import pandas as pd\n",
    "import matplotlib.pyplot as plt\n",
    "\n",
    "\n",
    "from sklearn.ensemble import ExtraTreesClassifier, RandomForestClassifier\n",
    "from gensim.models import KeyedVectors, Word2Vec"
   ]
  },
  {
   "cell_type": "code",
   "execution_count": 2,
   "metadata": {},
   "outputs": [],
   "source": [
    "df_train=pd.read_csv('train.csv')\n",
    "df_test=pd.read_csv('test.csv')"
   ]
  },
  {
   "cell_type": "code",
   "execution_count": 3,
   "metadata": {},
   "outputs": [],
   "source": [
    "titles_train=df_train.title.values\n",
    "titles_test=df_test.title.values"
   ]
  },
  {
   "cell_type": "code",
   "execution_count": 4,
   "metadata": {},
   "outputs": [],
   "source": [
    "titles=list(titles_train)+list(titles_test)"
   ]
  },
  {
   "cell_type": "code",
   "execution_count": 5,
   "metadata": {},
   "outputs": [],
   "source": [
    "# Simple tokenize\n",
    "titles_list=[sentence.split() for sentence in titles]"
   ]
  },
  {
   "cell_type": "code",
   "execution_count": 6,
   "metadata": {},
   "outputs": [],
   "source": [
    "ownvec=Word2Vec(titles_list, min_count=1, size=100)"
   ]
  },
  {
   "cell_type": "code",
   "execution_count": 7,
   "metadata": {},
   "outputs": [
    {
     "name": "stderr",
     "output_type": "stream",
     "text": [
      "C:\\Users\\user\\Anaconda3\\lib\\site-packages\\ipykernel_launcher.py:1: DeprecationWarning: Call to deprecated `most_similar` (Method will be removed in 4.0.0, use self.wv.most_similar() instead).\n",
      "  \"\"\"Entry point for launching an IPython kernel.\n"
     ]
    },
    {
     "data": {
      "text/plain": [
       "[('iphone6', 0.6749932765960693),\n",
       " ('apple', 0.6426588892936707),\n",
       " ('6s', 0.5988683700561523),\n",
       " ('iphone5s', 0.5676454305648804),\n",
       " ('iphone5', 0.5269131064414978),\n",
       " ('iphone6s', 0.504159688949585),\n",
       " ('space', 0.4909469485282898),\n",
       " ('iphone7', 0.4864862561225891),\n",
       " ('iphonex', 0.4807239770889282),\n",
       " ('fu', 0.47887396812438965)]"
      ]
     },
     "execution_count": 7,
     "metadata": {},
     "output_type": "execute_result"
    }
   ],
   "source": [
    "ownvec.most_similar('iphone')"
   ]
  },
  {
   "cell_type": "code",
   "execution_count": 8,
   "metadata": {},
   "outputs": [
    {
     "name": "stderr",
     "output_type": "stream",
     "text": [
      "C:\\Users\\user\\Anaconda3\\lib\\site-packages\\ipykernel_launcher.py:1: DeprecationWarning: Call to deprecated `most_similar` (Method will be removed in 4.0.0, use self.wv.most_similar() instead).\n",
      "  \"\"\"Entry point for launching an IPython kernel.\n"
     ]
    },
    {
     "data": {
      "text/plain": [
       "[('xiomi', 0.7872194051742554),\n",
       " ('xioami', 0.7525759935379028),\n",
       " ('xiami', 0.6166476607322693),\n",
       " ('1.xiaomi', 0.5754553079605103),\n",
       " ('xiao', 0.5702985525131226),\n",
       " ('redmi', 0.5638731718063354),\n",
       " ('some', 0.5432642698287964),\n",
       " ('xiaumi', 0.5414942502975464),\n",
       " ('mige', 0.5256900191307068),\n",
       " ('doogee', 0.5157318711280823)]"
      ]
     },
     "execution_count": 8,
     "metadata": {},
     "output_type": "execute_result"
    }
   ],
   "source": [
    "ownvec.most_similar('xiaomi')"
   ]
  },
  {
   "cell_type": "code",
   "execution_count": 9,
   "metadata": {},
   "outputs": [],
   "source": [
    "?ownvec"
   ]
  },
  {
   "cell_type": "code",
   "execution_count": 10,
   "metadata": {},
   "outputs": [
    {
     "name": "stderr",
     "output_type": "stream",
     "text": [
      "C:\\Users\\user\\Anaconda3\\lib\\site-packages\\ipykernel_launcher.py:1: DeprecationWarning: Call to deprecated `__getitem__` (Method will be removed in 4.0.0, use self.wv.__getitem__() instead).\n",
      "  \"\"\"Entry point for launching an IPython kernel.\n"
     ]
    },
    {
     "data": {
      "text/plain": [
       "array([[-3.40917611, -0.88356853,  1.91113651,  4.39788198, -2.76509666,\n",
       "         5.93758631, -2.52062893, -0.45024979,  1.12675941, -0.45993486,\n",
       "        -2.317276  , -1.7332145 ,  3.45065641,  4.33849335,  2.4610424 ,\n",
       "        -3.03822708,  5.77282763,  0.5036943 ,  0.69750893, -0.25553238,\n",
       "         4.8059516 ,  0.41690415,  1.43244135,  0.12774934,  3.10684371,\n",
       "         2.80887508,  2.00957108, -0.92913431, -1.67483282,  3.1275692 ,\n",
       "         1.56923902, -3.18451905, -4.74411631, -1.05796623,  4.3338604 ,\n",
       "         5.05353355,  2.12251401, -0.52326435,  2.47421718, -1.52605796,\n",
       "        -2.30572557, -3.79815364, -4.42818689, -0.1021914 ,  2.97000647,\n",
       "         1.47992086, -0.32046288,  0.15975183, -2.42063498,  8.51349163,\n",
       "        -2.69324374,  2.90819168, -5.3332634 ,  4.29422235, -0.14803994,\n",
       "         2.58080339, -5.39954281,  2.22384334,  0.20324795, -4.25917721,\n",
       "        -3.87629271, -2.72896814,  1.54231226,  2.09845757, -1.1099962 ,\n",
       "         3.1279819 ,  1.25838041, -0.27395973,  4.03012323,  4.26728392,\n",
       "         4.76028967, -2.38172102, -0.78413284,  3.75535417,  0.6829989 ,\n",
       "         0.33016852,  0.17926659, -0.11312392,  2.60136342,  3.45686126,\n",
       "         1.37484598,  4.04504967,  2.64410043, -1.85920691,  0.3115021 ,\n",
       "        -1.6202445 ,  1.08736169, -3.14554453, -1.67595959, -2.27527118,\n",
       "         2.15693474, -6.47958899, -2.81729341, -2.12973452,  2.34510946,\n",
       "         0.61859524,  4.68548393,  1.23679256, -2.74079156,  0.17508623],\n",
       "       [ 3.55393887, -0.50271875, -3.97199464,  0.03112543,  0.77704275,\n",
       "        -0.84079254,  1.48002994,  0.66027021, -2.20831609,  2.36539221,\n",
       "        -2.30189872,  0.64740223,  2.91618705,  2.34961462,  0.41164446,\n",
       "        -0.20262438,  0.9515329 ,  0.38524234, -2.63557768, -0.56412488,\n",
       "        -1.09674382, -0.27799624,  1.51690066,  1.49896848, -3.30737424,\n",
       "         0.63323206,  1.3017323 ,  0.08175402, -0.71446574,  0.75926214,\n",
       "         0.18092962, -0.54745781,  1.29408336,  2.2634089 , -0.60982054,\n",
       "         5.30414009,  1.20056057,  1.49278212,  1.34987247,  4.14695406,\n",
       "         2.69013381, -2.08605933,  2.19766498,  3.3303299 , -3.43128085,\n",
       "        -1.75300169,  0.14358567,  0.73340076,  1.26654661, -1.77525389,\n",
       "        -5.21935225,  0.87574697,  1.3369267 , -1.13010085,  1.23448205,\n",
       "         0.3192651 , -2.02493024,  1.48141575, -1.46774828,  1.15375519,\n",
       "         1.54023397,  1.85769415,  0.9148103 , -0.80651784,  0.87940288,\n",
       "        -0.35698628, -1.44200933,  1.19247997,  0.26394936, -1.72371566,\n",
       "        -0.22105595, -1.42072642, -0.3987816 , -2.96388555,  2.15304399,\n",
       "         4.74621391, -3.92579913, -1.14146459,  0.82344586,  1.39096534,\n",
       "        -3.0194602 ,  1.52094364, -2.81992078, -0.98841757, -0.52805322,\n",
       "        -2.82525182, -0.53408217, -1.27371752,  3.87276721, -0.88887656,\n",
       "         1.35453486, -1.07150292, -2.25710845, -0.6936819 , -1.0080657 ,\n",
       "         1.10454381,  2.91523671,  0.59824681,  0.55683988, -0.7107302 ]], dtype=float32)"
      ]
     },
     "execution_count": 10,
     "metadata": {},
     "output_type": "execute_result"
    }
   ],
   "source": [
    "ownvec[['iphone','blue']]"
   ]
  },
  {
   "cell_type": "code",
   "execution_count": 11,
   "metadata": {},
   "outputs": [],
   "source": [
    "# So, I will use simple method for getting vectors. I will take each word in senctence and convert it to vector.\n",
    "# After, will take mean at the end each sentence will be represented by vector.\n"
   ]
  },
  {
   "cell_type": "code",
   "execution_count": 12,
   "metadata": {},
   "outputs": [],
   "source": [
    "a=np.array([[1,2,3],[2,3,4],[9,4,5]])"
   ]
  },
  {
   "cell_type": "code",
   "execution_count": 13,
   "metadata": {},
   "outputs": [
    {
     "data": {
      "text/plain": [
       "array([[1, 2, 3],\n",
       "       [2, 3, 4],\n",
       "       [9, 4, 5]])"
      ]
     },
     "execution_count": 13,
     "metadata": {},
     "output_type": "execute_result"
    }
   ],
   "source": [
    "a"
   ]
  },
  {
   "cell_type": "code",
   "execution_count": 14,
   "metadata": {},
   "outputs": [
    {
     "data": {
      "text/plain": [
       "array([ 4.,  3.,  4.])"
      ]
     },
     "execution_count": 14,
     "metadata": {},
     "output_type": "execute_result"
    }
   ],
   "source": [
    "a.mean(axis=0)"
   ]
  },
  {
   "cell_type": "code",
   "execution_count": 15,
   "metadata": {},
   "outputs": [],
   "source": [
    "def convert_to_vec(text):\n",
    "    text_list=text.split()\n",
    "    vec=ownvec[text_list]\n",
    "    vec=vec.mean(axis=0)\n",
    "    return vec"
   ]
  },
  {
   "cell_type": "code",
   "execution_count": 16,
   "metadata": {},
   "outputs": [
    {
     "name": "stderr",
     "output_type": "stream",
     "text": [
      "C:\\Users\\user\\Anaconda3\\lib\\site-packages\\ipykernel_launcher.py:3: DeprecationWarning: Call to deprecated `__getitem__` (Method will be removed in 4.0.0, use self.wv.__getitem__() instead).\n",
      "  This is separate from the ipykernel package so we can avoid doing imports until\n"
     ]
    }
   ],
   "source": [
    "train_w2v=df_train.title.apply(convert_to_vec)"
   ]
  },
  {
   "cell_type": "code",
   "execution_count": 17,
   "metadata": {
    "scrolled": true
   },
   "outputs": [
    {
     "name": "stderr",
     "output_type": "stream",
     "text": [
      "C:\\Users\\user\\Anaconda3\\lib\\site-packages\\ipykernel_launcher.py:3: DeprecationWarning: Call to deprecated `__getitem__` (Method will be removed in 4.0.0, use self.wv.__getitem__() instead).\n",
      "  This is separate from the ipykernel package so we can avoid doing imports until\n"
     ]
    }
   ],
   "source": [
    "test_w2v=df_test.title.apply(convert_to_vec)"
   ]
  },
  {
   "cell_type": "code",
   "execution_count": 18,
   "metadata": {},
   "outputs": [],
   "source": [
    "# Now, let's convert it to dataframes and run similar simulations as we did for previous w2v (using available corpuses )"
   ]
  },
  {
   "cell_type": "code",
   "execution_count": 19,
   "metadata": {},
   "outputs": [],
   "source": [
    "train_all=pd.DataFrame(train_w2v.values.tolist())\n",
    "test_sub=pd.DataFrame(test_w2v.values.tolist())"
   ]
  },
  {
   "cell_type": "code",
   "execution_count": 20,
   "metadata": {},
   "outputs": [
    {
     "data": {
      "text/plain": [
       "RangeIndex(start=0, stop=100, step=1)"
      ]
     },
     "execution_count": 20,
     "metadata": {},
     "output_type": "execute_result"
    }
   ],
   "source": [
    "train_all.columns"
   ]
  },
  {
   "cell_type": "code",
   "execution_count": 21,
   "metadata": {},
   "outputs": [],
   "source": [
    "# some linear models\n",
    "from sklearn.linear_model import LogisticRegression, BayesianRidge\n",
    "\n",
    "# SCM for classification\n",
    "from sklearn.svm import SVC\n",
    "\n",
    "from sklearn.pipeline import Pipeline\n",
    "\n",
    "from sklearn.naive_bayes import MultinomialNB, GaussianNB, BernoulliNB\n",
    "\n",
    "import warnings\n",
    "warnings.filterwarnings('ignore')\n",
    "np.random.seed(2019)\n",
    "from sklearn.metrics import accuracy_score\n",
    "from sklearn.model_selection import GridSearchCV"
   ]
  },
  {
   "cell_type": "code",
   "execution_count": 22,
   "metadata": {},
   "outputs": [],
   "source": [
    "from sklearn.model_selection import train_test_split"
   ]
  },
  {
   "cell_type": "code",
   "execution_count": 23,
   "metadata": {},
   "outputs": [],
   "source": [
    "df_train['Group']=df_train.image_path.map(lambda x: x[:7])\n",
    "df_test['Group']=df_test.image_path.map(lambda x: x[:7])"
   ]
  },
  {
   "cell_type": "code",
   "execution_count": 24,
   "metadata": {},
   "outputs": [],
   "source": [
    "train_all['Group']=df_train['Group']\n",
    "train_all['Category']=df_train['Category']\n",
    "test_sub['Group']=df_test['Group']\n"
   ]
  },
  {
   "cell_type": "code",
   "execution_count": 25,
   "metadata": {},
   "outputs": [],
   "source": [
    "col=[i for i in range(100)]"
   ]
  },
  {
   "cell_type": "code",
   "execution_count": 26,
   "metadata": {},
   "outputs": [],
   "source": [
    "train,test=train_test_split(train_all,random_state=2019,stratify=df_train.Category,test_size=0.2)\n"
   ]
  },
  {
   "cell_type": "code",
   "execution_count": 27,
   "metadata": {},
   "outputs": [],
   "source": [
    "# let's build pipeline for parameter search in n_grams and and various models\n",
    "lr=LogisticRegression()\n",
    "nb=MultinomialNB()\n",
    "svc=SVC()\n",
    "# let's check first three and see which one is best\n",
    "gnb=GaussianNB()\n",
    "bnb=BernoulliNB()\n",
    "br=BayesianRidge()\n",
    "rf=RandomForestClassifier(n_estimators=150)"
   ]
  },
  {
   "cell_type": "code",
   "execution_count": 28,
   "metadata": {},
   "outputs": [],
   "source": [
    "groups=['beauty_','mobile_','fashion']"
   ]
  },
  {
   "cell_type": "code",
   "execution_count": 29,
   "metadata": {},
   "outputs": [],
   "source": [
    "from sklearn.feature_extraction.text import TfidfVectorizer"
   ]
  },
  {
   "cell_type": "code",
   "execution_count": 31,
   "metadata": {},
   "outputs": [
    {
     "name": "stdout",
     "output_type": "stream",
     "text": [
      "936\n"
     ]
    }
   ],
   "source": [
    "\n",
    "from nltk.corpus import stopwords\n",
    "from tqdm import tqdm\n",
    "ignore_words = set(stopwords.words('english')).union(set(stopwords.words('indonesian')))\n",
    "print(len(ignore_words))"
   ]
  },
  {
   "cell_type": "code",
   "execution_count": 73,
   "metadata": {},
   "outputs": [],
   "source": [
    "tf1=TfidfVectorizer()\n",
    "tf2=TfidfVectorizer(stop_words=ignore_words)"
   ]
  },
  {
   "cell_type": "code",
   "execution_count": 74,
   "metadata": {
    "scrolled": true
   },
   "outputs": [
    {
     "data": {
      "text/plain": [
       "<666615x80055 sparse matrix of type '<class 'numpy.float64'>'\n",
       "\twith 5838779 stored elements in Compressed Sparse Row format>"
      ]
     },
     "execution_count": 74,
     "metadata": {},
     "output_type": "execute_result"
    }
   ],
   "source": [
    "tf1.fit_transform(df_train.title)"
   ]
  },
  {
   "cell_type": "code",
   "execution_count": 75,
   "metadata": {},
   "outputs": [
    {
     "data": {
      "text/plain": [
       "TfidfVectorizer(analyzer='word', binary=False, decode_error='strict',\n",
       "        dtype=<class 'numpy.float64'>, encoding='utf-8', input='content',\n",
       "        lowercase=True, max_df=1.0, max_features=None, min_df=1,\n",
       "        ngram_range=(1, 1), norm='l2', preprocessor=None, smooth_idf=True,\n",
       "        stop_words=None, strip_accents=None, sublinear_tf=False,\n",
       "        token_pattern='(?u)\\\\b\\\\w\\\\w+\\\\b', tokenizer=None, use_idf=True,\n",
       "        vocabulary=None)"
      ]
     },
     "execution_count": 75,
     "metadata": {},
     "output_type": "execute_result"
    }
   ],
   "source": [
    "tf1\n"
   ]
  },
  {
   "cell_type": "code",
   "execution_count": 33,
   "metadata": {},
   "outputs": [],
   "source": [
    "X=tf1.fit_transform(df_train.title)"
   ]
  },
  {
   "cell_type": "code",
   "execution_count": 34,
   "metadata": {},
   "outputs": [
    {
     "data": {
      "text/plain": [
       "'etude house precious mineral any cushion pearl aura puff'"
      ]
     },
     "execution_count": 34,
     "metadata": {},
     "output_type": "execute_result"
    }
   ],
   "source": [
    "df_train.title[1]"
   ]
  },
  {
   "cell_type": "code",
   "execution_count": 35,
   "metadata": {},
   "outputs": [],
   "source": [
    "df = pd.DataFrame({'docId': [1,2,3], \n",
    "               'sent': ['This is the first sentence','This is the second sentence', 'This is the third sentence']})"
   ]
  },
  {
   "cell_type": "code",
   "execution_count": 36,
   "metadata": {},
   "outputs": [
    {
     "data": {
      "text/plain": [
       "0     This is the first sentence\n",
       "1    This is the second sentence\n",
       "2     This is the third sentence\n",
       "Name: sent, dtype: object"
      ]
     },
     "execution_count": 36,
     "metadata": {},
     "output_type": "execute_result"
    }
   ],
   "source": [
    "df['sent']"
   ]
  },
  {
   "cell_type": "code",
   "execution_count": 37,
   "metadata": {},
   "outputs": [
    {
     "data": {
      "text/plain": [
       "0                 nyx sex bomb pallete natural palette\n",
       "1    etude house precious mineral any cushion pearl...\n",
       "2                             milani rose powder blush\n",
       "Name: title, dtype: object"
      ]
     },
     "execution_count": 37,
     "metadata": {},
     "output_type": "execute_result"
    }
   ],
   "source": [
    "df_train.loc[:2,'title']"
   ]
  },
  {
   "cell_type": "code",
   "execution_count": 40,
   "metadata": {},
   "outputs": [
    {
     "data": {
      "text/plain": [
       "'nyx sex bomb pallete natural palette'"
      ]
     },
     "execution_count": 40,
     "metadata": {},
     "output_type": "execute_result"
    }
   ],
   "source": [
    "df_train.loc[0,'title']"
   ]
  },
  {
   "cell_type": "code",
   "execution_count": 41,
   "metadata": {},
   "outputs": [
    {
     "data": {
      "text/plain": [
       "array([ 0.57508414,  0.39570905,  0.30926809,  0.26839054,  0.23615767,\n",
       "        0.53781214])"
      ]
     },
     "execution_count": 41,
     "metadata": {},
     "output_type": "execute_result"
    }
   ],
   "source": [
    "a=tf1.transform([df_train.loc[0,'title']])\n",
    "a.data"
   ]
  },
  {
   "cell_type": "code",
   "execution_count": 42,
   "metadata": {},
   "outputs": [
    {
     "data": {
      "text/plain": [
       "array([ 0.26839054,  0.57508414,  0.53781214,  0.39570905,  0.23615767,\n",
       "        0.30926809])"
      ]
     },
     "execution_count": 42,
     "metadata": {},
     "output_type": "execute_result"
    }
   ],
   "source": [
    "X[0].data"
   ]
  },
  {
   "cell_type": "code",
   "execution_count": 50,
   "metadata": {
    "scrolled": true
   },
   "outputs": [
    {
     "data": {
      "text/plain": [
       "55136"
      ]
     },
     "execution_count": 50,
     "metadata": {},
     "output_type": "execute_result"
    }
   ],
   "source": [
    "tf1.vocabulary_['nyx']"
   ]
  },
  {
   "cell_type": "code",
   "execution_count": 67,
   "metadata": {},
   "outputs": [
    {
     "data": {
      "text/plain": [
       "array([ 0.78448933,  0.62014232])"
      ]
     },
     "execution_count": 67,
     "metadata": {},
     "output_type": "execute_result"
    }
   ],
   "source": [
    "tf1.transform(['bedak nyx']).data"
   ]
  },
  {
   "cell_type": "code",
   "execution_count": 51,
   "metadata": {},
   "outputs": [],
   "source": [
    "?tf1"
   ]
  },
  {
   "cell_type": "code",
   "execution_count": 45,
   "metadata": {},
   "outputs": [
    {
     "data": {
      "text/plain": [
       "['00',\n",
       " '000',\n",
       " '0000',\n",
       " '00001059',\n",
       " '000019',\n",
       " '000022',\n",
       " '000023',\n",
       " '00005',\n",
       " '00006',\n",
       " '00009',\n",
       " '0001',\n",
       " '0002',\n",
       " '00033',\n",
       " '00034',\n",
       " '00037',\n",
       " '00039',\n",
       " '00049',\n",
       " '00051',\n",
       " '00054',\n",
       " '00055',\n",
       " '00057',\n",
       " '00058',\n",
       " '00059',\n",
       " '00062',\n",
       " '0007',\n",
       " '00072',\n",
       " '00076',\n",
       " '00077',\n",
       " '0008',\n",
       " '00083',\n",
       " '00084',\n",
       " '00085',\n",
       " '0009',\n",
       " '00099',\n",
       " '000k',\n",
       " '000mah',\n",
       " '000masih',\n",
       " '000ml',\n",
       " '000qid',\n",
       " '000rb',\n",
       " '001',\n",
       " '0010',\n",
       " '00100',\n",
       " '00102',\n",
       " '0011',\n",
       " '00118',\n",
       " '0012',\n",
       " '001206',\n",
       " '00125',\n",
       " '0013',\n",
       " '00132',\n",
       " '00133',\n",
       " '0014',\n",
       " '001459',\n",
       " '001472',\n",
       " '001474',\n",
       " '0016',\n",
       " '0017',\n",
       " '001982',\n",
       " '001au',\n",
       " '001nude',\n",
       " '002',\n",
       " '002007',\n",
       " '002008',\n",
       " '002009',\n",
       " '002033',\n",
       " '002034',\n",
       " '002064',\n",
       " '002065',\n",
       " '002066',\n",
       " '002067',\n",
       " '002068',\n",
       " '002070',\n",
       " '002075',\n",
       " '0021',\n",
       " '002159',\n",
       " '002163',\n",
       " '0022',\n",
       " '002235',\n",
       " '002256',\n",
       " '002285',\n",
       " '0023',\n",
       " '002301',\n",
       " '002310',\n",
       " '002314',\n",
       " '002335',\n",
       " '00234',\n",
       " '002488',\n",
       " '002490',\n",
       " '002492',\n",
       " '002493',\n",
       " '0025',\n",
       " '00250802011',\n",
       " '002593',\n",
       " '002595',\n",
       " '0026',\n",
       " '002602',\n",
       " '002631',\n",
       " '002654',\n",
       " '002723',\n",
       " '002767',\n",
       " '002772',\n",
       " '002874',\n",
       " '002927',\n",
       " '003',\n",
       " '0030',\n",
       " '003004',\n",
       " '003005',\n",
       " '0038',\n",
       " '0039',\n",
       " '003bt',\n",
       " '003jid',\n",
       " '004',\n",
       " '0040',\n",
       " '0041',\n",
       " '0042',\n",
       " '0043',\n",
       " '0044',\n",
       " '0046',\n",
       " '0047',\n",
       " '004b',\n",
       " '004c',\n",
       " '004y',\n",
       " '005',\n",
       " '0050',\n",
       " '0051',\n",
       " '0052',\n",
       " '0053',\n",
       " '0057',\n",
       " '005a',\n",
       " '005d',\n",
       " '006',\n",
       " '00602a',\n",
       " '00607a',\n",
       " '0061',\n",
       " '00612',\n",
       " '0064',\n",
       " '0065',\n",
       " '0066',\n",
       " '0067',\n",
       " '007',\n",
       " '0070',\n",
       " '0074',\n",
       " '00741a',\n",
       " '0075',\n",
       " '0076',\n",
       " '0079',\n",
       " '007a',\n",
       " '007dr',\n",
       " '008',\n",
       " '0081',\n",
       " '0082',\n",
       " '00829',\n",
       " '0083',\n",
       " '0087',\n",
       " '008g',\n",
       " '009',\n",
       " '0090',\n",
       " '0091',\n",
       " '0092',\n",
       " '0094',\n",
       " '0096',\n",
       " '00b',\n",
       " '00g',\n",
       " '00ghz',\n",
       " '00i',\n",
       " '00new',\n",
       " '00ug',\n",
       " '01',\n",
       " '010',\n",
       " '010119',\n",
       " '01015005',\n",
       " '0102',\n",
       " '010203',\n",
       " '010293',\n",
       " '0104',\n",
       " '0108',\n",
       " '0109',\n",
       " '010light',\n",
       " '011',\n",
       " '011016',\n",
       " '011018',\n",
       " '0111',\n",
       " '011117',\n",
       " '011218',\n",
       " '0114',\n",
       " '0116',\n",
       " '0117',\n",
       " '0119',\n",
       " '012',\n",
       " '0121',\n",
       " '0122',\n",
       " '0123',\n",
       " '01241a',\n",
       " '0125',\n",
       " '01259b',\n",
       " '0126',\n",
       " '01260a',\n",
       " '0128',\n",
       " '013',\n",
       " '0130418',\n",
       " '0131',\n",
       " '0133',\n",
       " '0134',\n",
       " '0135',\n",
       " '0138',\n",
       " '0139baru',\n",
       " '014',\n",
       " '0141',\n",
       " '0143',\n",
       " '0144',\n",
       " '0146',\n",
       " '0147',\n",
       " '015',\n",
       " '0157',\n",
       " '015au',\n",
       " '015everwhite',\n",
       " '015mm',\n",
       " '016',\n",
       " '0160',\n",
       " '01618',\n",
       " '0164',\n",
       " '0167',\n",
       " '0168',\n",
       " '0169',\n",
       " '016everwhite',\n",
       " '016g',\n",
       " '017',\n",
       " '0171',\n",
       " '0173',\n",
       " '0174',\n",
       " '0176',\n",
       " '0177',\n",
       " '018',\n",
       " '0180',\n",
       " '0181',\n",
       " '0183',\n",
       " '0184',\n",
       " '0186',\n",
       " '019',\n",
       " '019131',\n",
       " '0194',\n",
       " '0198',\n",
       " '019o',\n",
       " '01a',\n",
       " '01b',\n",
       " '01c',\n",
       " '01coralred',\n",
       " '01d',\n",
       " '01e17a',\n",
       " '01f',\n",
       " '01g',\n",
       " '01h',\n",
       " '01i',\n",
       " '01l',\n",
       " '01light',\n",
       " '01lightpink',\n",
       " '01n',\n",
       " '01natural',\n",
       " '01r',\n",
       " '01u',\n",
       " '01wanita',\n",
       " '01yu',\n",
       " '02',\n",
       " '020',\n",
       " '0200',\n",
       " '02006008',\n",
       " '02006010',\n",
       " '0201',\n",
       " '020119',\n",
       " '0202',\n",
       " '02026',\n",
       " '0203',\n",
       " '0204',\n",
       " '0205',\n",
       " '0207a',\n",
       " '0208hn',\n",
       " '0209y',\n",
       " '020light',\n",
       " '021',\n",
       " '021016',\n",
       " '021018',\n",
       " '0211',\n",
       " '021118',\n",
       " '0218',\n",
       " '0219',\n",
       " '021neutral',\n",
       " '022',\n",
       " '022031',\n",
       " '0221',\n",
       " '0222',\n",
       " '0224',\n",
       " '0226',\n",
       " '022be7',\n",
       " '022light',\n",
       " '023',\n",
       " '0231217',\n",
       " '023134',\n",
       " '0234',\n",
       " '02343b',\n",
       " '023460',\n",
       " '023471',\n",
       " '02353f',\n",
       " '0236',\n",
       " '023606',\n",
       " '023medium',\n",
       " '024',\n",
       " '0244',\n",
       " '0247',\n",
       " '0249',\n",
       " '025',\n",
       " '0250',\n",
       " '0252',\n",
       " '0253',\n",
       " '0254',\n",
       " '02540d',\n",
       " '02540e',\n",
       " '0256',\n",
       " '0258',\n",
       " '025t',\n",
       " '026',\n",
       " '0261',\n",
       " '0262',\n",
       " '0263',\n",
       " '0264',\n",
       " '02657cr',\n",
       " '027',\n",
       " '02708',\n",
       " '02717',\n",
       " '02723',\n",
       " '0277',\n",
       " '028',\n",
       " '0283',\n",
       " '0284',\n",
       " '0286',\n",
       " '0287',\n",
       " '0288',\n",
       " '028n',\n",
       " '029',\n",
       " '0291',\n",
       " '0294',\n",
       " '0296',\n",
       " '029au',\n",
       " '02a',\n",
       " '02b',\n",
       " '02beige',\n",
       " '02bt',\n",
       " '02dayglow',\n",
       " '02e',\n",
       " '02f',\n",
       " '02fashion',\n",
       " '02g',\n",
       " '02girl',\n",
       " '02h',\n",
       " '02ivory',\n",
       " '02j',\n",
       " '02lady',\n",
       " '02letters',\n",
       " '02medium',\n",
       " '02men',\n",
       " '02mm',\n",
       " '02n',\n",
       " '02natural',\n",
       " '02nothing',\n",
       " '02o',\n",
       " '02oz',\n",
       " '02p',\n",
       " '02r',\n",
       " '02rosy',\n",
       " '02s',\n",
       " '02sexy',\n",
       " '02sheer',\n",
       " '02sweet',\n",
       " '02unicorn',\n",
       " '02women',\n",
       " '02y',\n",
       " '03',\n",
       " '030',\n",
       " '0300',\n",
       " '0301',\n",
       " '030119',\n",
       " '0303',\n",
       " '030718',\n",
       " '0308',\n",
       " '0309',\n",
       " '0309baru',\n",
       " '030i',\n",
       " '031',\n",
       " '031018',\n",
       " '03103',\n",
       " '031116',\n",
       " '031118',\n",
       " '031218',\n",
       " '0314',\n",
       " '0317',\n",
       " '0319',\n",
       " '032',\n",
       " '0320',\n",
       " '0321',\n",
       " '0324',\n",
       " '0325',\n",
       " '03255',\n",
       " '0327',\n",
       " '0329',\n",
       " '0329baru',\n",
       " '032g',\n",
       " '033',\n",
       " '0330',\n",
       " '0331',\n",
       " '0333',\n",
       " '033w',\n",
       " '034',\n",
       " '0341',\n",
       " '03422',\n",
       " '03424',\n",
       " '03428',\n",
       " '0347',\n",
       " '0348',\n",
       " '0349',\n",
       " '03494',\n",
       " '035',\n",
       " '0351',\n",
       " '0354',\n",
       " '0354041',\n",
       " '0355',\n",
       " '0357',\n",
       " '036',\n",
       " '0362',\n",
       " '0363',\n",
       " '0364',\n",
       " '0364lsb',\n",
       " '0366',\n",
       " '03669',\n",
       " '0368',\n",
       " '0369',\n",
       " '037',\n",
       " '0373',\n",
       " '03737',\n",
       " '03738',\n",
       " '03739',\n",
       " '0375',\n",
       " '0376',\n",
       " '038',\n",
       " '0380',\n",
       " '0381',\n",
       " '0382',\n",
       " '0384',\n",
       " '039',\n",
       " '0393',\n",
       " '0396',\n",
       " '03a',\n",
       " '03agg02',\n",
       " '03b',\n",
       " '03e',\n",
       " '03eb',\n",
       " '03f',\n",
       " '03g',\n",
       " '03h',\n",
       " '03id',\n",
       " '03ls',\n",
       " '03mn',\n",
       " '03n',\n",
       " '03natural',\n",
       " '03peach',\n",
       " '03r',\n",
       " '03x3835',\n",
       " '04',\n",
       " '040',\n",
       " '04001',\n",
       " '0401',\n",
       " '040118',\n",
       " '040119',\n",
       " '04018',\n",
       " '0402',\n",
       " '04027',\n",
       " '0405',\n",
       " '04052021',\n",
       " '0409',\n",
       " '041',\n",
       " '0412',\n",
       " '041218',\n",
       " '04128q',\n",
       " '0416',\n",
       " '04161',\n",
       " '042',\n",
       " '0421',\n",
       " '0423',\n",
       " '0425',\n",
       " '042cs20302',\n",
       " '042cs20521',\n",
       " '042cs20676',\n",
       " '042cs20839',\n",
       " '042cs20869',\n",
       " '043',\n",
       " '0430',\n",
       " '043cs20684',\n",
       " '043cs20870',\n",
       " '044',\n",
       " '0441',\n",
       " '0443',\n",
       " '0444',\n",
       " '0445',\n",
       " '0446',\n",
       " '0449',\n",
       " '045',\n",
       " '0457',\n",
       " '0459',\n",
       " '046',\n",
       " '0462',\n",
       " '0463',\n",
       " '0464',\n",
       " '0465',\n",
       " '0467',\n",
       " '0468',\n",
       " '046940',\n",
       " '047',\n",
       " '0474',\n",
       " '0479',\n",
       " '047a',\n",
       " '048',\n",
       " '0480418',\n",
       " '0481',\n",
       " '049',\n",
       " '0495',\n",
       " '049a',\n",
       " '049b',\n",
       " '04a',\n",
       " '04d',\n",
       " '04e',\n",
       " '04f',\n",
       " '04g',\n",
       " '04h',\n",
       " '04natural',\n",
       " '05',\n",
       " '050',\n",
       " '050119',\n",
       " '0502',\n",
       " '0503',\n",
       " '0505',\n",
       " '0507',\n",
       " '050a',\n",
       " '051',\n",
       " '051018',\n",
       " '051118',\n",
       " '051218',\n",
       " '0515',\n",
       " '0518',\n",
       " '052',\n",
       " '05244007966',\n",
       " '0525a',\n",
       " '0528',\n",
       " '053',\n",
       " '0532',\n",
       " '0533',\n",
       " '0536',\n",
       " '0537',\n",
       " '0539',\n",
       " '054',\n",
       " '0542',\n",
       " '05431',\n",
       " '0545',\n",
       " '0547',\n",
       " '055',\n",
       " '0551118',\n",
       " '0555',\n",
       " '0556',\n",
       " '055ml',\n",
       " '056',\n",
       " '0566',\n",
       " '0567',\n",
       " '057',\n",
       " '057341',\n",
       " '058',\n",
       " '0581',\n",
       " '0582',\n",
       " '059',\n",
       " '0591',\n",
       " '0594',\n",
       " '0597',\n",
       " '05c',\n",
       " '05drs',\n",
       " '05e',\n",
       " '05f',\n",
       " '05g',\n",
       " '05gram',\n",
       " '05h',\n",
       " '05i16e',\n",
       " '05oz',\n",
       " '05ve',\n",
       " '05vx',\n",
       " '05y',\n",
       " '05z',\n",
       " '06',\n",
       " '060',\n",
       " '0605',\n",
       " '060818',\n",
       " '060918',\n",
       " '061',\n",
       " '061018',\n",
       " '061118',\n",
       " '0611w48',\n",
       " '0613',\n",
       " '0616',\n",
       " '062',\n",
       " '0620',\n",
       " '0624',\n",
       " '063',\n",
       " '0636',\n",
       " '064',\n",
       " '0640',\n",
       " '0641',\n",
       " '0642',\n",
       " '0643',\n",
       " '064g',\n",
       " '0652',\n",
       " '0658',\n",
       " '0659',\n",
       " '066',\n",
       " '066041',\n",
       " '0663',\n",
       " '067',\n",
       " '0673',\n",
       " '0677',\n",
       " '0681',\n",
       " '0682',\n",
       " '0683',\n",
       " '0684',\n",
       " '0687',\n",
       " '069131',\n",
       " '0696',\n",
       " '06c17b',\n",
       " '06c17c',\n",
       " '06cf',\n",
       " '06d2x',\n",
       " '06e',\n",
       " '06f',\n",
       " '06s6',\n",
       " '07',\n",
       " '070',\n",
       " '0700',\n",
       " '0701',\n",
       " '070119',\n",
       " '0704',\n",
       " '0706',\n",
       " '0708',\n",
       " '070918',\n",
       " '071',\n",
       " '0711',\n",
       " '071118',\n",
       " '071218',\n",
       " '0714',\n",
       " '0718',\n",
       " '0719',\n",
       " '072',\n",
       " '0721117',\n",
       " '072421',\n",
       " '0727',\n",
       " '07274',\n",
       " '073',\n",
       " '073189',\n",
       " '073196',\n",
       " '0748',\n",
       " '0749',\n",
       " '075',\n",
       " '0752',\n",
       " '0757',\n",
       " '076',\n",
       " '0761',\n",
       " '077',\n",
       " '0774',\n",
       " '0775',\n",
       " '0777',\n",
       " '0778',\n",
       " '0779',\n",
       " '078',\n",
       " '07850960',\n",
       " '0786',\n",
       " '0788',\n",
       " '07902562',\n",
       " '07902764',\n",
       " '07903516',\n",
       " '07904952',\n",
       " '07911464',\n",
       " '07911467',\n",
       " '07911688',\n",
       " '0792',\n",
       " '0793',\n",
       " '0794',\n",
       " '0797',\n",
       " '0799',\n",
       " '07dynamite',\n",
       " '07e',\n",
       " '08',\n",
       " '080',\n",
       " '08004001',\n",
       " '08004003',\n",
       " '0801',\n",
       " '080119',\n",
       " '0803',\n",
       " '0805',\n",
       " '0806',\n",
       " '0807',\n",
       " '080818',\n",
       " '0809',\n",
       " '080thats',\n",
       " '081',\n",
       " '081018',\n",
       " '081118',\n",
       " '08114159747',\n",
       " '081199490034',\n",
       " '0812',\n",
       " '081200429833',\n",
       " '081212094050',\n",
       " '081212461062',\n",
       " '081216665523',\n",
       " '081217909456',\n",
       " '081217909559',\n",
       " '081218',\n",
       " '081218997182',\n",
       " '081224661567',\n",
       " '081225136099',\n",
       " '081230280234',\n",
       " '081240029833',\n",
       " '081240029833handphone',\n",
       " '081240358577',\n",
       " '081240425452',\n",
       " '081240425539',\n",
       " '081240634044',\n",
       " '081240755415',\n",
       " '081241216869',\n",
       " '081241368751',\n",
       " '081241652186',\n",
       " '081241671896',\n",
       " '081242426784',\n",
       " '081242618669',\n",
       " '081242655426',\n",
       " '081242988421',\n",
       " '081243586413',\n",
       " '081243658335',\n",
       " '081244166654',\n",
       " '081244392033',\n",
       " '081244394008',\n",
       " '081244584797',\n",
       " '081244666864',\n",
       " '081244962089',\n",
       " '081244968245',\n",
       " '081245022225',\n",
       " '081245022347',\n",
       " '081245037927',\n",
       " '081245037936',\n",
       " '081245060617',\n",
       " '081245061626',\n",
       " '081245068006',\n",
       " '081245188153',\n",
       " '081245188243',\n",
       " '081245293415',\n",
       " '081245713434',\n",
       " '081247007426',\n",
       " '081247015661',\n",
       " '081247118287',\n",
       " '081247474923',\n",
       " '081247559327',\n",
       " '081247676735',\n",
       " '081247738980',\n",
       " '081247891646',\n",
       " '081248190885',\n",
       " '081248279505',\n",
       " '081248294784',\n",
       " '081248535862',\n",
       " '081258371449',\n",
       " '081258944951',\n",
       " '081272288868',\n",
       " '081280426645',\n",
       " '0813',\n",
       " '081332276844',\n",
       " '081340117394',\n",
       " '081340367044',\n",
       " '081340367044wa',\n",
       " '081340385449',\n",
       " '081340551682',\n",
       " '081341996317',\n",
       " '081342680815',\n",
       " '081342690144',\n",
       " '081342696199',\n",
       " '081343431104',\n",
       " '081343511143',\n",
       " '081343523795',\n",
       " '081343921659',\n",
       " '081343947435',\n",
       " '081344117813',\n",
       " '081344787852',\n",
       " '081344790883',\n",
       " '081344924037',\n",
       " '081346124656',\n",
       " '081346127051',\n",
       " '081346127093',\n",
       " '081346135857',\n",
       " '081346155579',\n",
       " '081346637135',\n",
       " '081346769549',\n",
       " '081347082678',\n",
       " '081347222767',\n",
       " '081347222767handphone',\n",
       " '081347222767untuk',\n",
       " '081347228196',\n",
       " '081350334545',\n",
       " '081354149577',\n",
       " '081354817039',\n",
       " '081354860773',\n",
       " '081355244982',\n",
       " '081355567512',\n",
       " '081355605210',\n",
       " '081355703778',\n",
       " '081355712677',\n",
       " '081356125387',\n",
       " '081356125389',\n",
       " '081356339956',\n",
       " '081356396361',\n",
       " '081372113887',\n",
       " '081372114012',\n",
       " '081372114040',\n",
       " '081372117523',\n",
       " '08137527666',\n",
       " '081383657472',\n",
       " '081383657483',\n",
       " '081395612605',\n",
       " '081398724178',\n",
       " '081398724198',\n",
       " '08139874',\n",
       " '081398745917',\n",
       " '0814',\n",
       " '0815',\n",
       " '081526194649',\n",
       " '081527006427',\n",
       " '081527061807',\n",
       " '081527454717',\n",
       " '0816',\n",
       " '0816267102',\n",
       " '0816337929',\n",
       " '0816377064',\n",
       " '0816409636',\n",
       " '0816513492',\n",
       " '0817',\n",
       " '0819',\n",
       " '081934445179',\n",
       " '081934445333',\n",
       " '081934445454',\n",
       " '081934445554',\n",
       " '081934445559',\n",
       " '081934445599',\n",
       " '081934445677',\n",
       " '081934445767',\n",
       " '081943318023',\n",
       " '081943673599',\n",
       " '081943675333',\n",
       " '081943677077',\n",
       " '081944',\n",
       " '081944384617',\n",
       " '081944386925',\n",
       " '081944387039',\n",
       " '081944387347',\n",
       " '081944387577',\n",
       " '081945425757',\n",
       " '081945426444',\n",
       " '081945427522',\n",
       " '081945429666',\n",
       " '081945458491',\n",
       " '0819458272',\n",
       " '081945827245',\n",
       " '081953145444',\n",
       " '081998052000',\n",
       " '081998487979',\n",
       " '081998488399',\n",
       " '082',\n",
       " '0821',\n",
       " '082110059265',\n",
       " '082144640443',\n",
       " '082149156621',\n",
       " '082154321258',\n",
       " '082154576828',\n",
       " '082157000347',\n",
       " '082157564990',\n",
       " '082159018410',\n",
       " '082162827578',\n",
       " '082167790435',\n",
       " '082167794273',\n",
       " '082187423725',\n",
       " '082187447855',\n",
       " '082188060194',\n",
       " '082188295257',\n",
       " '082188295779',\n",
       " '082188569887',\n",
       " '082188615663',\n",
       " '082189210356',\n",
       " '082189725621',\n",
       " '082189856344',\n",
       " '082189857567',\n",
       " '082189857610',\n",
       " '082189893850',\n",
       " '082189949929',\n",
       " '082190083440',\n",
       " '082190134536',\n",
       " '082190354577',\n",
       " '082190399957',\n",
       " '082190534166',\n",
       " '082190725241',\n",
       " '082190732696',\n",
       " '082191100597',\n",
       " '082191131527',\n",
       " '082191134676',\n",
       " '082191184582',\n",
       " '082191695211',\n",
       " '082191703141',\n",
       " '082191817702',\n",
       " '082191833166',\n",
       " '082192027388',\n",
       " '082192027459',\n",
       " '082192195',\n",
       " '082192195327',\n",
       " '082192262929',\n",
       " '082192263030',\n",
       " '082192277058',\n",
       " '082192415957',\n",
       " '082192498966',\n",
       " '082192599804',\n",
       " '082192770611',\n",
       " '082192774972',\n",
       " '082193225750',\n",
       " '082193350401',\n",
       " '082193844717',\n",
       " '082193988817',\n",
       " '082195123399',\n",
       " '082195217593',\n",
       " '082196547900',\n",
       " '082196549385',\n",
       " '082197138949',\n",
       " '082197796640',\n",
       " '082198096828',\n",
       " '082198112845',\n",
       " '082198233214',\n",
       " '082198594644',\n",
       " '082198824969',\n",
       " '082198834025',\n",
       " '082198845268',\n",
       " '082199052139',\n",
       " '082199189345',\n",
       " '082199280074',\n",
       " '082199309469',\n",
       " '082199490034',\n",
       " '082199638427',\n",
       " '082199679257',\n",
       " '082199950679',\n",
       " '082199992592',\n",
       " '0822',\n",
       " '082217858117',\n",
       " '082246399995',\n",
       " '082251660128',\n",
       " '082259000958',\n",
       " '082259319219',\n",
       " '0822593351930',\n",
       " '082259942500',\n",
       " '082260529005',\n",
       " '082260538997',\n",
       " '082260539005',\n",
       " '082271074730',\n",
       " '082271242532',\n",
       " '082271335402',\n",
       " '082271635107',\n",
       " '08227242532',\n",
       " '082290481322',\n",
       " '082291177725',\n",
       " '082291332151',\n",
       " '082291332159',\n",
       " '082291332269',\n",
       " '082291644160',\n",
       " '082291948396',\n",
       " '082292154800',\n",
       " '082292281221',\n",
       " '082292409969',\n",
       " '08229241',\n",
       " '082292426667',\n",
       " '082292462537',\n",
       " '082292828455',\n",
       " '082292829455',\n",
       " '082293202587',\n",
       " '082293487311',\n",
       " '082293500852',\n",
       " '082293534183',\n",
       " '082293839957',\n",
       " '082293901642',\n",
       " '082296036898',\n",
       " '082296064646',\n",
       " '082296645567',\n",
       " '082296887788',\n",
       " '0822975655217',\n",
       " '082297999140',\n",
       " '082297999198',\n",
       " '082297999205',\n",
       " '082297999217',\n",
       " '0823',\n",
       " ...]"
      ]
     },
     "execution_count": 45,
     "metadata": {},
     "output_type": "execute_result"
    }
   ],
   "source": [
    "tf1.get_feature_names()"
   ]
  },
  {
   "cell_type": "code",
   "execution_count": 149,
   "metadata": {},
   "outputs": [
    {
     "data": {
      "text/plain": [
       "array([ 0.26470877,  0.3363279 ,  0.43629414,  0.44519367,  0.43118215,\n",
       "        0.49228527])"
      ]
     },
     "execution_count": 149,
     "metadata": {},
     "output_type": "execute_result"
    }
   ],
   "source": [
    "X[295].data"
   ]
  },
  {
   "cell_type": "code",
   "execution_count": 144,
   "metadata": {},
   "outputs": [
    {
     "data": {
      "text/plain": [
       "array([ 0.52331314,  0.85214046])"
      ]
     },
     "execution_count": 144,
     "metadata": {},
     "output_type": "execute_result"
    }
   ],
   "source": [
    "X[227].data"
   ]
  },
  {
   "cell_type": "code",
   "execution_count": 134,
   "metadata": {},
   "outputs": [
    {
     "data": {
      "text/plain": [
       "array([ 0.33454622,  0.36656482,  0.57772568,  0.6480294 ])"
      ]
     },
     "execution_count": 134,
     "metadata": {},
     "output_type": "execute_result"
    }
   ],
   "source": [
    "X[108].data"
   ]
  },
  {
   "cell_type": "code",
   "execution_count": 107,
   "metadata": {},
   "outputs": [
    {
     "data": {
      "text/plain": [
       "array([ 0.37363838,  0.31862132,  0.42067443,  0.26832282,  0.25709424,\n",
       "        0.24816507,  0.20647284,  0.42603503,  0.39760593])"
      ]
     },
     "execution_count": 107,
     "metadata": {},
     "output_type": "execute_result"
    }
   ],
   "source": [
    "a.data"
   ]
  },
  {
   "cell_type": "code",
   "execution_count": 83,
   "metadata": {},
   "outputs": [
    {
     "data": {
      "text/plain": [
       "array([[ 0.26839054,  0.57508414,  0.53781214,  0.39570905,  0.23615767,\n",
       "         0.30926809]])"
      ]
     },
     "execution_count": 83,
     "metadata": {},
     "output_type": "execute_result"
    }
   ],
   "source": [
    "X[0].data.reshape(1,6)"
   ]
  },
  {
   "cell_type": "code",
   "execution_count": 68,
   "metadata": {},
   "outputs": [],
   "source": [
    "def convert_to_vec(text):\n",
    "    text_list=text.split()\n",
    "    vec=ownvec[text_list]\n",
    "    vec=vec.mean(axis=0)\n",
    "    return vec"
   ]
  },
  {
   "cell_type": "code",
   "execution_count": 151,
   "metadata": {},
   "outputs": [
    {
     "data": {
      "text/plain": [
       "array([-0.06383371,  0.23241322,  0.44324207,  0.99992758,  1.7779603 ,\n",
       "        0.46004558, -0.19088989,  0.1138455 ,  0.66034794, -0.17949305,\n",
       "        0.39584598, -0.6073975 ,  1.17828703,  0.58056158, -0.49239144,\n",
       "        0.65956825, -0.42966673, -0.75115269,  0.77956539,  0.27815971,\n",
       "       -0.8862949 , -1.59686553, -0.46536949, -0.00802994, -0.37946233,\n",
       "       -2.73829913, -1.1827451 ,  0.75361699,  1.63330567,  0.33535704,\n",
       "        0.80834776,  0.21545963, -0.74014872,  0.01875312,  1.26894534,\n",
       "       -0.1407664 , -0.4243913 ,  1.00039279, -0.77011442,  0.0029666 ,\n",
       "       -0.96649718,  1.45785844, -0.7913692 ,  1.58942521, -0.80739474,\n",
       "       -0.4152    , -1.34261954, -1.31261933,  0.49320152, -0.71929711,\n",
       "       -1.70337999,  1.9743067 ,  0.50930524, -1.33810949, -1.14952886,\n",
       "        0.85805136, -0.46135271, -0.13354826,  0.44819227, -0.70387721,\n",
       "       -0.13496195, -0.33868861, -0.82721758,  0.06503379,  0.51075238,\n",
       "       -0.7181012 ,  1.19391143,  0.12046566, -1.26348686,  0.8666535 ,\n",
       "        1.37291968,  0.24859302, -0.26445386, -0.51959401,  0.83455151,\n",
       "       -0.87332886,  0.71485943, -0.21684925, -1.94449234, -0.94773835,\n",
       "       -0.1219965 ,  0.12842076,  0.39070711, -0.05299501, -1.22090352,\n",
       "        0.36463511, -0.3798978 , -0.2100246 , -0.95487398, -0.20373981,\n",
       "        0.67579633,  0.2646929 ,  2.36724448,  1.15137696, -0.28932294,\n",
       "       -1.02326131,  0.59973496, -0.32610175,  0.04548201, -0.16307652], dtype=float32)"
      ]
     },
     "execution_count": 151,
     "metadata": {},
     "output_type": "execute_result"
    }
   ],
   "source": []
  },
  {
   "cell_type": "code",
   "execution_count": null,
   "metadata": {},
   "outputs": [],
   "source": [
    "def convert_to_vec_tf1(text):\n",
    "    text_list=text.split()\n",
    "    vec=ownvec[text_list]\n",
    "    vec=vec.mean(axis=0)\n",
    "    return vec"
   ]
  },
  {
   "cell_type": "code",
   "execution_count": 70,
   "metadata": {},
   "outputs": [
    {
     "name": "stdout",
     "output_type": "stream",
     "text": [
      "nyx sex bomb pallete natural palette\n"
     ]
    }
   ],
   "source": [
    "a=df_train.title[0]\n",
    "print(a)"
   ]
  },
  {
   "cell_type": "code",
   "execution_count": 73,
   "metadata": {},
   "outputs": [],
   "source": [
    "vec=ownvec[a.split()]"
   ]
  },
  {
   "cell_type": "code",
   "execution_count": 85,
   "metadata": {},
   "outputs": [
    {
     "data": {
      "text/plain": [
       "(6, 100)"
      ]
     },
     "execution_count": 85,
     "metadata": {},
     "output_type": "execute_result"
    }
   ],
   "source": [
    "vec.shape"
   ]
  },
  {
   "cell_type": "code",
   "execution_count": 91,
   "metadata": {},
   "outputs": [
    {
     "data": {
      "text/plain": [
       "array([-0.09228167,  0.37621924,  0.75371286,  1.40962735,  2.98477279,\n",
       "        0.74488353, -0.44762999,  0.12529722,  1.15010359, -0.05194533,\n",
       "        0.91609321, -0.9280034 ,  2.21137156,  1.28806229, -0.81449326,\n",
       "        1.26393981, -0.65002372, -1.23984016,  1.31741335,  0.53443272,\n",
       "       -1.48355696, -2.59337845, -0.83538948,  0.06986738, -0.80235605,\n",
       "       -5.08763372, -2.393212  ,  1.24712065,  2.69315344,  0.66584573,\n",
       "        1.47789615,  0.52610401, -1.44112898,  0.09911259,  2.26995216,\n",
       "       -0.22297823, -0.61939851,  1.90044345, -1.3428086 , -0.2012198 ,\n",
       "       -1.39338091,  2.48223172, -1.38132236,  2.573167  , -1.45343548,\n",
       "       -0.49032702, -2.32183068, -2.42991824,  0.54562984, -1.25654883,\n",
       "       -2.76196114,  3.59227656,  1.06782152, -2.30130562, -1.87223332,\n",
       "        1.32286191, -0.73916142,  0.11183052,  0.65889586, -1.37772678,\n",
       "        0.02037513, -0.65558423, -1.38102598, -0.01914845,  0.94801443,\n",
       "       -1.2469503 ,  2.26659311,  0.08791514, -1.99415978,  1.69906221,\n",
       "        2.13377758,  0.28451164, -0.4590045 , -0.97651976,  0.99135097,\n",
       "       -1.53977592,  1.24944535, -0.40378269, -3.0798657 , -2.02587643,\n",
       "       -0.3335698 ,  0.14154612,  0.93162044, -0.19086457, -2.14857465,\n",
       "        0.61467543, -0.8794989 ,  0.0989929 , -1.68859138, -0.36830144,\n",
       "        0.97811213,  0.35915999,  4.31527845,  1.87772005, -0.16671176,\n",
       "       -1.85888581,  1.11228482, -0.56556385,  0.11895913, -0.18702522])"
      ]
     },
     "execution_count": 91,
     "metadata": {},
     "output_type": "execute_result"
    }
   ],
   "source": [
    "np.dot(X[0].data,vec)/X[0].shape[0]"
   ]
  },
  {
   "cell_type": "code",
   "execution_count": 43,
   "metadata": {},
   "outputs": [
    {
     "data": {
      "text/plain": [
       "<1x80055 sparse matrix of type '<class 'numpy.float64'>'\n",
       "\twith 6 stored elements in Compressed Sparse Row format>"
      ]
     },
     "execution_count": 43,
     "metadata": {},
     "output_type": "execute_result"
    }
   ],
   "source": [
    "tf1.transform(df_train.title[:1])"
   ]
  },
  {
   "cell_type": "code",
   "execution_count": null,
   "metadata": {},
   "outputs": [],
   "source": []
  },
  {
   "cell_type": "code",
   "execution_count": null,
   "metadata": {},
   "outputs": [],
   "source": []
  },
  {
   "cell_type": "code",
   "execution_count": 125,
   "metadata": {},
   "outputs": [
    {
     "name": "stdout",
     "output_type": "stream",
     "text": [
      "Results for group: beauty_\n",
      "Best parameters:  {'model': RandomForestClassifier(bootstrap=True, class_weight=None, criterion='gini',\n",
      "            max_depth=None, max_features='auto', max_leaf_nodes=None,\n",
      "            min_impurity_decrease=0.0, min_impurity_split=None,\n",
      "            min_samples_leaf=1, min_samples_split=2,\n",
      "            min_weight_fraction_leaf=0.0, n_estimators=150, n_jobs=None,\n",
      "            oob_score=False, random_state=None, verbose=0,\n",
      "            warm_start=False)}\n",
      "Best scores:  0.740593895301\n",
      "Results for group: mobile_\n",
      "Best parameters:  {'model': RandomForestClassifier(bootstrap=True, class_weight=None, criterion='gini',\n",
      "            max_depth=None, max_features='auto', max_leaf_nodes=None,\n",
      "            min_impurity_decrease=0.0, min_impurity_split=None,\n",
      "            min_samples_leaf=1, min_samples_split=2,\n",
      "            min_weight_fraction_leaf=0.0, n_estimators=150, n_jobs=None,\n",
      "            oob_score=False, random_state=None, verbose=0,\n",
      "            warm_start=False)}\n",
      "Best scores:  0.769446068686\n",
      "Results for group: fashion\n",
      "Best parameters:  {'model': RandomForestClassifier(bootstrap=True, class_weight=None, criterion='gini',\n",
      "            max_depth=None, max_features='auto', max_leaf_nodes=None,\n",
      "            min_impurity_decrease=0.0, min_impurity_split=None,\n",
      "            min_samples_leaf=1, min_samples_split=2,\n",
      "            min_weight_fraction_leaf=0.0, n_estimators=150, n_jobs=None,\n",
      "            oob_score=False, random_state=None, verbose=0,\n",
      "            warm_start=False)}\n",
      "Best scores:  0.586489608047\n"
     ]
    }
   ],
   "source": [
    "param={'model':[lr,rf]} # Can't use nb because negative values\n",
    "pipe=Pipeline([('model',lr)])\n",
    "for group in groups:\n",
    "    print('Results for group:', group)\n",
    "    X_train=train[train.Group==group][col]\n",
    "    y_train=train[train.Group==group]['Category']\n",
    "    grid_search=GridSearchCV(pipe,param_grid=param)\n",
    "    grid_search.fit(X_train,y_train)\n",
    "    print('Best parameters: ',grid_search.best_params_)\n",
    "    print('Best scores: ',grid_search.best_score_)\n",
    "    "
   ]
  },
  {
   "cell_type": "code",
   "execution_count": null,
   "metadata": {},
   "outputs": [
    {
     "name": "stdout",
     "output_type": "stream",
     "text": [
      "Results for group: beauty_\n",
      "Best parameters:  {'model__n_estimators': 300}\n",
      "Best scores:  0.741566564602\n",
      "Results for group: mobile_\n",
      "Best parameters:  {'model__n_estimators': 200}\n",
      "Best scores:  0.770007406541\n",
      "Results for group: fashion\n"
     ]
    }
   ],
   "source": [
    "pipe=Pipeline([('model',RandomForestClassifier())])\n",
    "param={'model__n_estimators':[i for i in range(100,301,50)]} # Can't use nb because negative values\n",
    "for group in groups:\n",
    "    print('Results for group:', group)\n",
    "    X_train=train[train.Group==group][col]\n",
    "    y_train=train[train.Group==group]['Category']\n",
    "    grid_search=GridSearchCV(pipe,param_grid=param)\n",
    "    grid_search.fit(X_train,y_train)\n",
    "    print('Best parameters: ',grid_search.best_params_)\n",
    "    print('Best scores: ',grid_search.best_score_)"
   ]
  },
  {
   "cell_type": "code",
   "execution_count": null,
   "metadata": {},
   "outputs": [],
   "source": [
    "from sklearn.feature_extraction.text import TfidfVectorizer"
   ]
  },
  {
   "cell_type": "code",
   "execution_count": null,
   "metadata": {},
   "outputs": [],
   "source": []
  },
  {
   "cell_type": "code",
   "execution_count": null,
   "metadata": {},
   "outputs": [],
   "source": []
  },
  {
   "cell_type": "code",
   "execution_count": null,
   "metadata": {},
   "outputs": [],
   "source": []
  },
  {
   "cell_type": "code",
   "execution_count": null,
   "metadata": {},
   "outputs": [],
   "source": []
  },
  {
   "cell_type": "code",
   "execution_count": null,
   "metadata": {},
   "outputs": [],
   "source": []
  },
  {
   "cell_type": "code",
   "execution_count": null,
   "metadata": {},
   "outputs": [],
   "source": []
  },
  {
   "cell_type": "code",
   "execution_count": null,
   "metadata": {},
   "outputs": [],
   "source": []
  },
  {
   "cell_type": "code",
   "execution_count": null,
   "metadata": {},
   "outputs": [],
   "source": []
  }
 ],
 "metadata": {
  "kernelspec": {
   "display_name": "Python 3",
   "language": "python",
   "name": "python3"
  },
  "language_info": {
   "codemirror_mode": {
    "name": "ipython",
    "version": 3
   },
   "file_extension": ".py",
   "mimetype": "text/x-python",
   "name": "python",
   "nbconvert_exporter": "python",
   "pygments_lexer": "ipython3",
   "version": "3.6.4"
  }
 },
 "nbformat": 4,
 "nbformat_minor": 2
}
