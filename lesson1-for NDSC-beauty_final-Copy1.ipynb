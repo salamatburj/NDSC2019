{
 "cells": [
  {
   "cell_type": "markdown",
   "metadata": {},
   "source": [
    "## Image classification with Convolutional Neural Networks"
   ]
  },
  {
   "cell_type": "code",
   "execution_count": 1,
   "metadata": {},
   "outputs": [],
   "source": [
    "# %reset"
   ]
  },
  {
   "cell_type": "code",
   "execution_count": 1,
   "metadata": {},
   "outputs": [],
   "source": [
    "# Put these at the top of every notebook, to get automatic reloading and inline plotting\n",
    "%reload_ext autoreload\n",
    "%autoreload 2\n",
    "%matplotlib inline"
   ]
  },
  {
   "cell_type": "code",
   "execution_count": 2,
   "metadata": {},
   "outputs": [],
   "source": [
    "import sys"
   ]
  },
  {
   "cell_type": "code",
   "execution_count": 3,
   "metadata": {},
   "outputs": [],
   "source": [
    "# in order to import libraries\n",
    "sys.path.append(\"C:/Users/user/Documents/Salamat/fastai\")"
   ]
  },
  {
   "cell_type": "code",
   "execution_count": 4,
   "metadata": {},
   "outputs": [
    {
     "data": {
      "text/plain": [
       "['',\n",
       " 'C:\\\\Users\\\\user\\\\Anaconda3\\\\envs\\\\fastai\\\\python36.zip',\n",
       " 'C:\\\\Users\\\\user\\\\Anaconda3\\\\envs\\\\fastai\\\\DLLs',\n",
       " 'C:\\\\Users\\\\user\\\\Anaconda3\\\\envs\\\\fastai\\\\lib',\n",
       " 'C:\\\\Users\\\\user\\\\Anaconda3\\\\envs\\\\fastai',\n",
       " 'C:\\\\Users\\\\user\\\\Anaconda3\\\\envs\\\\fastai\\\\lib\\\\site-packages',\n",
       " 'C:\\\\Users\\\\user\\\\Anaconda3\\\\envs\\\\fastai\\\\lib\\\\site-packages\\\\cycler-0.10.0-py3.6.egg',\n",
       " 'C:\\\\Users\\\\user\\\\Anaconda3\\\\envs\\\\fastai\\\\lib\\\\site-packages\\\\IPython\\\\extensions',\n",
       " 'C:\\\\Users\\\\user\\\\.ipython',\n",
       " 'C:/Users/user/Documents/Salamat/fastai']"
      ]
     },
     "execution_count": 4,
     "metadata": {},
     "output_type": "execute_result"
    }
   ],
   "source": [
    "sys.path"
   ]
  },
  {
   "cell_type": "code",
   "execution_count": 5,
   "metadata": {},
   "outputs": [],
   "source": [
    "# This file contains all the main external libs we'll use\n",
    "from fastai.imports import *"
   ]
  },
  {
   "cell_type": "code",
   "execution_count": 6,
   "metadata": {},
   "outputs": [],
   "source": [
    "from fastai.transforms import *\n",
    "from fastai.conv_learner import *\n",
    "from fastai.model import *\n",
    "from fastai.dataset import *\n",
    "from fastai.sgdr import *\n",
    "from fastai.plots import *"
   ]
  },
  {
   "cell_type": "markdown",
   "metadata": {},
   "source": [
    "`PATH` is the path to your data - if you use the recommended setup approaches from the lesson, you won't need to change this. `sz` is the size that the images will be resized to in order to ensure that the training runs quickly. We'll be talking about this parameter a lot during the course. Leave it at `224` for now."
   ]
  },
  {
   "cell_type": "code",
   "execution_count": 7,
   "metadata": {},
   "outputs": [],
   "source": [
    "PATH = \"C:/Users/user/Documents/Salamat\"\n",
    "sz=224"
   ]
  },
  {
   "cell_type": "markdown",
   "metadata": {},
   "source": [
    "It's important that you have a working NVidia GPU set up. The programming framework used to behind the scenes to work with NVidia GPUs is called CUDA. Therefore, you need to ensure the following line returns `True` before you proceed. If you have problems with this, please check the FAQ and ask for help on [the forums](http://forums.fast.ai)."
   ]
  },
  {
   "cell_type": "code",
   "execution_count": 8,
   "metadata": {},
   "outputs": [
    {
     "data": {
      "text/plain": [
       "True"
      ]
     },
     "execution_count": 8,
     "metadata": {},
     "output_type": "execute_result"
    }
   ],
   "source": [
    "torch.cuda.is_available()"
   ]
  },
  {
   "cell_type": "markdown",
   "metadata": {},
   "source": [
    "In addition, NVidia provides special accelerated functions for deep learning in a package called CuDNN. Although not strictly necessary, it will improve training performance significantly, and is included by default in all supported fastai configurations. Therefore, if the following does not return `True`, you may want to look into why."
   ]
  },
  {
   "cell_type": "code",
   "execution_count": 9,
   "metadata": {},
   "outputs": [
    {
     "data": {
      "text/plain": [
       "True"
      ]
     },
     "execution_count": 9,
     "metadata": {},
     "output_type": "execute_result"
    }
   ],
   "source": [
    "torch.backends.cudnn.enabled"
   ]
  },
  {
   "cell_type": "code",
   "execution_count": 10,
   "metadata": {
    "hidden": true,
    "scrolled": true
   },
   "outputs": [
    {
     "data": {
      "text/plain": [
       "['ELO',\n",
       " 'fastai',\n",
       " 'fastai3',\n",
       " 'Kaggle',\n",
       " 'models',\n",
       " 'NDSC_2019',\n",
       " 'NDSC_2019train_beaty.csv',\n",
       " 'NDSC_2019train_beauty.csv',\n",
       " 'Programs',\n",
       " 'tmp',\n",
       " 'train_beauty.csv',\n",
       " 'train_beauty2.csv']"
      ]
     },
     "execution_count": 10,
     "metadata": {},
     "output_type": "execute_result"
    }
   ],
   "source": [
    "os.listdir(PATH)"
   ]
  },
  {
   "cell_type": "markdown",
   "metadata": {
    "heading_collapsed": true
   },
   "source": [
    "## Our first model: quick start"
   ]
  },
  {
   "cell_type": "markdown",
   "metadata": {
    "hidden": true
   },
   "source": [
    "We're going to use a <b>pre-trained</b> model, that is, a model created by some one else to solve a different problem. Instead of building a model from scratch to solve a similar problem, we'll use a model trained on ImageNet (1.2 million images and 1000 classes) as a starting point. The model is a Convolutional Neural Network (CNN), a type of Neural Network that builds state-of-the-art models for computer vision. We'll be learning all about CNNs during this course.\n",
    "\n",
    "We will be using the <b>resnet34</b> model. resnet34 is a version of the model that won the 2015 ImageNet competition. Here is more info on [resnet models](https://github.com/KaimingHe/deep-residual-networks). We'll be studying them in depth later, but for now we'll focus on using them effectively.\n",
    "\n",
    "Here's how to train and evalulate a *dogs vs cats* model in 3 lines of code, and under 20 seconds:"
   ]
  },
  {
   "cell_type": "markdown",
   "metadata": {
    "heading_collapsed": true
   },
   "source": [
    "### Data augmentation"
   ]
  },
  {
   "cell_type": "markdown",
   "metadata": {
    "hidden": true
   },
   "source": [
    "If you try training for more epochs, you'll notice that we start to *overfit*, which means that our model is learning to recognize the specific images in the training set, rather than generalizing such that we also get good results on the validation set. One way to fix this is to effectively create more data, through *data augmentation*. This refers to randomly changing the images in ways that shouldn't impact their interpretation, such as horizontal flipping, zooming, and rotating.\n",
    "\n",
    "We can do this by passing `aug_tfms` (*augmentation transforms*) to `tfms_from_model`, with a list of functions to apply that randomly change the image however we wish. For photos that are largely taken from the side (e.g. most photos of dogs and cats, as opposed to photos taken from the top down, such as satellite imagery) we can use the pre-defined list of functions `transforms_side_on`. We can also specify random zooming of images up to specified scale by adding the `max_zoom` parameter."
   ]
  },
  {
   "cell_type": "code",
   "execution_count": 11,
   "metadata": {
    "hidden": true
   },
   "outputs": [],
   "source": [
    "tfms = tfms_from_model(resnet34, sz, aug_tfms=transforms_side_on, max_zoom=1.1)"
   ]
  },
  {
   "cell_type": "code",
   "execution_count": 12,
   "metadata": {},
   "outputs": [
    {
     "data": {
      "text/plain": [
       "'C:/Users/user/Documents/Salamat'"
      ]
     },
     "execution_count": 12,
     "metadata": {},
     "output_type": "execute_result"
    }
   ],
   "source": [
    "PATH"
   ]
  },
  {
   "cell_type": "code",
   "execution_count": 13,
   "metadata": {},
   "outputs": [],
   "source": [
    "PATH='C:\\\\Users\\\\user\\\\Documents\\\\Salamat\\\\NDSC_2019\\\\beauty'"
   ]
  },
  {
   "cell_type": "code",
   "execution_count": 14,
   "metadata": {
    "hidden": true
   },
   "outputs": [],
   "source": [
    "def get_augs():\n",
    "    data = ImageClassifierData.from_paths(PATH, bs=2, tfms=tfms, num_workers=1)\n",
    "    x,_ = next(iter(data.aug_dl))\n",
    "    return data.trn_ds.denorm(x)[1]"
   ]
  },
  {
   "cell_type": "code",
   "execution_count": 15,
   "metadata": {
    "hidden": true
   },
   "outputs": [],
   "source": [
    "ims = np.stack([get_augs() for i in range(6)])"
   ]
  },
  {
   "cell_type": "code",
   "execution_count": 16,
   "metadata": {
    "hidden": true
   },
   "outputs": [
    {
     "data": {
      "image/png": "[encoded data removed]",
      "text/plain": [
       "<Figure size 864x432 with 6 Axes>"
      ]
     },
     "metadata": {},
     "output_type": "display_data"
    }
   ],
   "source": [
    "plots(ims, rows=2)"
   ]
  },
  {
   "cell_type": "markdown",
   "metadata": {
    "hidden": true
   },
   "source": [
    "Let's create a new `data` object that includes this augmentation in the transforms."
   ]
  },
  {
   "cell_type": "code",
   "execution_count": 17,
   "metadata": {},
   "outputs": [],
   "source": [
    "arch=resnet34"
   ]
  },
  {
   "cell_type": "code",
   "execution_count": 21,
   "metadata": {},
   "outputs": [],
   "source": [
    "PATH_beauty='C:/Users/user/Documents/Salamat/NDSC_2019/beauty'\n",
    "data_beauty = ImageClassifierData.from_paths(path=PATH_beauty,tfms=tfms,trn_name='train',val_name='valid', test_name='test')"
   ]
  },
  {
   "cell_type": "code",
   "execution_count": 23,
   "metadata": {
    "hidden": true
   },
   "outputs": [],
   "source": [
    "#data = ImageClassifierData.from_paths(PATH, tfms=tfms)\n",
    "learn = ConvLearner.pretrained(arch, data_beauty, precompute=True)"
   ]
  },
  {
   "cell_type": "code",
   "execution_count": 24,
   "metadata": {
    "hidden": true,
    "scrolled": false
   },
   "outputs": [
    {
     "data": {
      "application/vnd.jupyter.widget-view+json": {
       "model_id": "be979a7492dc45bcbedd933cbe8965e7",
       "version_major": 2,
       "version_minor": 0
      },
      "text/plain": [
       "HBox(children=(IntProgress(value=0, description='Epoch', max=1), HTML(value='')))"
      ]
     },
     "metadata": {},
     "output_type": "display_data"
    },
    {
     "name": "stdout",
     "output_type": "stream",
     "text": [
      " 28%|██████████████████▋                                                 | 986/3583 [00:09<00:26, 98.71it/s, loss=1.63]"
     ]
    },
    {
     "name": "stderr",
     "output_type": "stream",
     "text": [
      "C:\\Users\\user\\Anaconda3\\envs\\fastai\\lib\\site-packages\\tqdm\\_monitor.py:89: TqdmSynchronisationWarning: Set changed size during iteration (see https://github.com/tqdm/tqdm/issues/481)\n",
      "  TqdmSynchronisationWarning)\n"
     ]
    },
    {
     "name": "stdout",
     "output_type": "stream",
     "text": [
      "epoch      trn_loss   val_loss   accuracy                                                                              \n",
      "    0      1.536974   1.405032   0.557583  \n",
      "\n"
     ]
    },
    {
     "data": {
      "text/plain": [
       "[array([1.40503]), 0.5575832650003353]"
      ]
     },
     "execution_count": 24,
     "metadata": {},
     "output_type": "execute_result"
    }
   ],
   "source": [
    "learn.fit(1e-2, 1)"
   ]
  },
  {
   "cell_type": "code",
   "execution_count": 25,
   "metadata": {
    "hidden": true
   },
   "outputs": [],
   "source": [
    "learn.precompute=False"
   ]
  },
  {
   "cell_type": "markdown",
   "metadata": {
    "hidden": true
   },
   "source": [
    "By default when we create a learner, it sets all but the last layer to *frozen*. That means that it's still only updating the weights in the last layer when we call `fit`."
   ]
  },
  {
   "cell_type": "code",
   "execution_count": 26,
   "metadata": {
    "hidden": true,
    "scrolled": false
   },
   "outputs": [
    {
     "data": {
      "application/vnd.jupyter.widget-view+json": {
       "model_id": "5a3bde61dc644c7e8fc6c9d869ee63e4",
       "version_major": 2,
       "version_minor": 0
      },
      "text/plain": [
       "HBox(children=(IntProgress(value=0, description='Epoch', max=3), HTML(value='')))"
      ]
     },
     "metadata": {},
     "output_type": "display_data"
    },
    {
     "name": "stdout",
     "output_type": "stream",
     "text": [
      "  0%|▎                                                                     | 17/3583 [00:09<34:26,  1.73it/s, loss=1.5]"
     ]
    },
    {
     "name": "stderr",
     "output_type": "stream",
     "text": [
      "C:\\Users\\user\\Anaconda3\\envs\\fastai\\lib\\site-packages\\tqdm\\_monitor.py:89: TqdmSynchronisationWarning: Set changed size during iteration (see https://github.com/tqdm/tqdm/issues/481)\n",
      "  TqdmSynchronisationWarning)\n"
     ]
    },
    {
     "name": "stdout",
     "output_type": "stream",
     "text": [
      "epoch      trn_loss   val_loss   accuracy                                                                              \n",
      "    0      1.44609    1.369446   0.568365  \n",
      "    1      1.44467    1.350515   0.573687                                                                              \n",
      "    2      1.436086   1.337658   0.578764                                                                              \n",
      "\n"
     ]
    },
    {
     "data": {
      "text/plain": [
       "[array([1.33766]), 0.5787637175711258]"
      ]
     },
     "execution_count": 26,
     "metadata": {},
     "output_type": "execute_result"
    }
   ],
   "source": [
    "learn.fit(1e-2, 3, cycle_len=1)"
   ]
  },
  {
   "cell_type": "markdown",
   "metadata": {
    "hidden": true
   },
   "source": [
    "What is that `cycle_len` parameter? What we've done here is used a technique called *stochastic gradient descent with restarts (SGDR)*, a variant of *learning rate annealing*, which gradually decreases the learning rate as training progresses. This is helpful because as we get closer to the optimal weights, we want to take smaller steps.\n",
    "\n",
    "However, we may find ourselves in a part of the weight space that isn't very resilient - that is, small changes to the weights may result in big changes to the loss. We want to encourage our model to find parts of the weight space that are both accurate and stable. Therefore, from time to time we increase the learning rate (this is the 'restarts' in 'SGDR'), which will force the model to jump to a different part of the weight space if the current area is \"spikey\". Here's a picture of how that might look if we reset the learning rates 3 times (in this paper they call it a \"cyclic LR schedule\"):\n",
    "\n",
    "<img src=\"images/sgdr.png\" width=\"80%\">\n",
    "(From the paper [Snapshot Ensembles](https://arxiv.org/abs/1704.00109)).\n",
    "\n",
    "The number of epochs between resetting the learning rate is set by `cycle_len`, and the number of times this happens is refered to as the *number of cycles*, and is what we're actually passing as the 2nd parameter to `fit()`. So here's what our actual learning rates looked like:"
   ]
  },
  {
   "cell_type": "code",
   "execution_count": 27,
   "metadata": {
    "hidden": true
   },
   "outputs": [
    {
     "data": {
      "image/png": "[encoded data removed]",
      "text/plain": [
       "<Figure size 432x288 with 1 Axes>"
      ]
     },
     "metadata": {},
     "output_type": "display_data"
    }
   ],
   "source": [
    "learn.sched.plot_lr()"
   ]
  },
  {
   "cell_type": "markdown",
   "metadata": {
    "hidden": true
   },
   "source": [
    "Our validation loss isn't improving much, so there's probably no point further training the last layer on its own."
   ]
  },
  {
   "cell_type": "markdown",
   "metadata": {
    "hidden": true
   },
   "source": [
    "Since we've got a pretty good model at this point, we might want to save it so we can load it again later without training it from scratch."
   ]
  },
  {
   "cell_type": "code",
   "execution_count": 28,
   "metadata": {
    "hidden": true
   },
   "outputs": [],
   "source": [
    "learn.save('224_lastlayer_beauty')"
   ]
  },
  {
   "cell_type": "code",
   "execution_count": 29,
   "metadata": {
    "hidden": true
   },
   "outputs": [],
   "source": [
    "learn.load('224_lastlayer_beauty')"
   ]
  },
  {
   "cell_type": "markdown",
   "metadata": {
    "heading_collapsed": true
   },
   "source": [
    "### Fine-tuning and differential learning rate annealing"
   ]
  },
  {
   "cell_type": "markdown",
   "metadata": {
    "hidden": true
   },
   "source": [
    "Now that we have a good final layer trained, we can try fine-tuning the other layers. To tell the learner that we want to unfreeze the remaining layers, just call (surprise surprise!) `unfreeze()`."
   ]
  },
  {
   "cell_type": "code",
   "execution_count": 30,
   "metadata": {
    "hidden": true
   },
   "outputs": [],
   "source": [
    "learn.unfreeze()"
   ]
  },
  {
   "cell_type": "markdown",
   "metadata": {
    "hidden": true
   },
   "source": [
    "Note that the other layers have *already* been trained to recognize imagenet photos (whereas our final layers where randomly initialized), so we want to be careful of not destroying the carefully tuned weights that are already there.\n",
    "\n",
    "Generally speaking, the earlier layers (as we've seen) have more general-purpose features. Therefore we would expect them to need less fine-tuning for new datasets. For this reason we will use different learning rates for different layers: the first few layers will be at 1e-4, the middle layers at 1e-3, and our FC layers we'll leave at 1e-2 as before. We refer to this as *differential learning rates*, although there's no standard name for this techique in the literature that we're aware of."
   ]
  },
  {
   "cell_type": "code",
   "execution_count": 31,
   "metadata": {
    "hidden": true
   },
   "outputs": [],
   "source": [
    "lr=np.array([1e-4,1e-3,1e-2])"
   ]
  },
  {
   "cell_type": "code",
   "execution_count": 32,
   "metadata": {
    "hidden": true,
    "scrolled": false
   },
   "outputs": [
    {
     "data": {
      "application/vnd.jupyter.widget-view+json": {
       "model_id": "fe5999e48bd94dfdb40e7ca5c88e0e5c",
       "version_major": 2,
       "version_minor": 0
      },
      "text/plain": [
       "HBox(children=(IntProgress(value=0, description='Epoch', max=7), HTML(value='')))"
      ]
     },
     "metadata": {},
     "output_type": "display_data"
    },
    {
     "name": "stdout",
     "output_type": "stream",
     "text": [
      "  0%|▎                                                                    | 17/3583 [00:09<32:54,  1.81it/s, loss=1.56]"
     ]
    },
    {
     "name": "stderr",
     "output_type": "stream",
     "text": [
      "C:\\Users\\user\\Anaconda3\\envs\\fastai\\lib\\site-packages\\tqdm\\_monitor.py:89: TqdmSynchronisationWarning: Set changed size during iteration (see https://github.com/tqdm/tqdm/issues/481)\n",
      "  TqdmSynchronisationWarning)\n"
     ]
    },
    {
     "name": "stdout",
     "output_type": "stream",
     "text": [
      "epoch      trn_loss   val_loss   accuracy                                                                              \n",
      "    0      1.261776   1.187164   0.630214  \n",
      "    1      1.167965   1.10808    0.66052                                                                               \n",
      "    2      1.125839   1.086442   0.667167                                                                              \n",
      "    3      1.067076   1.066131   0.674878                                                                              \n",
      "    4      1.014219   1.031275   0.687719                                                                              \n",
      "    5      0.976057   1.019416   0.692046                                                                              \n",
      "    6      0.890851   1.016584   0.693355                                                                              \n",
      "\n"
     ]
    },
    {
     "data": {
      "text/plain": [
       "[array([1.01658]), 0.6933545021572833]"
      ]
     },
     "execution_count": 32,
     "metadata": {},
     "output_type": "execute_result"
    }
   ],
   "source": [
    "learn.fit(lr, 3, cycle_len=1, cycle_mult=2)"
   ]
  },
  {
   "cell_type": "markdown",
   "metadata": {
    "hidden": true
   },
   "source": [
    "Another trick we've used here is adding the `cycle_mult` parameter. Take a look at the following chart, and see if you can figure out what the parameter is doing:"
   ]
  },
  {
   "cell_type": "code",
   "execution_count": 33,
   "metadata": {
    "hidden": true
   },
   "outputs": [
    {
     "data": {
      "image/png": "[encoded data removed]",
      "text/plain": [
       "<Figure size 432x288 with 1 Axes>"
      ]
     },
     "metadata": {},
     "output_type": "display_data"
    }
   ],
   "source": [
    "learn.sched.plot_lr()"
   ]
  },
  {
   "cell_type": "markdown",
   "metadata": {
    "hidden": true
   },
   "source": [
    "Note that's what being plotted above is the learning rate of the *final layers*. The learning rates of the earlier layers are fixed at the same multiples of the final layer rates as we initially requested (i.e. the first layers have 100x smaller, and middle layers 10x smaller learning rates, since we set `lr=np.array([1e-4,1e-3,1e-2])`."
   ]
  },
  {
   "cell_type": "code",
   "execution_count": 34,
   "metadata": {
    "hidden": true
   },
   "outputs": [],
   "source": [
    "learn.save('224_all_beauty')"
   ]
  },
  {
   "cell_type": "code",
   "execution_count": 35,
   "metadata": {
    "hidden": true
   },
   "outputs": [],
   "source": [
    "learn.load('224_all_beauty')"
   ]
  },
  {
   "cell_type": "markdown",
   "metadata": {
    "hidden": true
   },
   "source": [
    "There is something else we can do with data augmentation: use it at *inference* time (also known as *test* time). Not surprisingly, this is known as *test time augmentation*, or just *TTA*.\n",
    "\n",
    "TTA simply makes predictions not just on the images in your validation set, but also makes predictions on a number of randomly augmented versions of them too (by default, it uses the original image along with 4 randomly augmented versions). It then takes the average prediction from these images, and uses that. To use TTA on the validation set, we can use the learner's `TTA()` method."
   ]
  },
  {
   "cell_type": "code",
   "execution_count": 36,
   "metadata": {
    "hidden": true,
    "scrolled": true
   },
   "outputs": [
    {
     "name": "stdout",
     "output_type": "stream",
     "text": [
      "\r",
      "  0%|                                                                                            | 0/4 [00:00<?, ?it/s]"
     ]
    },
    {
     "name": "stderr",
     "output_type": "stream",
     "text": [
      "C:\\Users\\user\\Anaconda3\\envs\\fastai\\lib\\site-packages\\tqdm\\_monitor.py:89: TqdmSynchronisationWarning: Set changed size during iteration (see https://github.com/tqdm/tqdm/issues/481)\n",
      "  TqdmSynchronisationWarning)\n"
     ]
    },
    {
     "name": "stdout",
     "output_type": "stream",
     "text": [
      "                                                                                                                       \r"
     ]
    }
   ],
   "source": [
    "log_preds,y = learn.TTA()\n",
    "probs = np.mean(np.exp(log_preds),0)"
   ]
  },
  {
   "cell_type": "code",
   "execution_count": 37,
   "metadata": {},
   "outputs": [
    {
     "data": {
      "text/plain": [
       "(57317,)"
      ]
     },
     "execution_count": 37,
     "metadata": {},
     "output_type": "execute_result"
    }
   ],
   "source": [
    "y.shape"
   ]
  },
  {
   "cell_type": "code",
   "execution_count": 38,
   "metadata": {
    "hidden": true
   },
   "outputs": [
    {
     "data": {
      "text/plain": [
       "0.6983791894202418"
      ]
     },
     "execution_count": 38,
     "metadata": {},
     "output_type": "execute_result"
    }
   ],
   "source": [
    "# We have improved quite significantly\n",
    "accuracy_np(probs, y)"
   ]
  },
  {
   "cell_type": "code",
   "execution_count": 39,
   "metadata": {
    "scrolled": true
   },
   "outputs": [
    {
     "name": "stdout",
     "output_type": "stream",
     "text": [
      "\r",
      "  0%|                                                                                            | 0/4 [00:00<?, ?it/s]"
     ]
    },
    {
     "name": "stderr",
     "output_type": "stream",
     "text": [
      "C:\\Users\\user\\Anaconda3\\envs\\fastai\\lib\\site-packages\\tqdm\\_monitor.py:89: TqdmSynchronisationWarning: Set changed size during iteration (see https://github.com/tqdm/tqdm/issues/481)\n",
      "  TqdmSynchronisationWarning)\n"
     ]
    },
    {
     "name": "stdout",
     "output_type": "stream",
     "text": [
      "                                                                                                                       \r"
     ]
    }
   ],
   "source": [
    "log_preds_test,y_test=learn.TTA(is_test=True)"
   ]
  },
  {
   "cell_type": "code",
   "execution_count": 40,
   "metadata": {},
   "outputs": [
    {
     "data": {
      "text/plain": [
       "(76545, 1)"
      ]
     },
     "execution_count": 40,
     "metadata": {},
     "output_type": "execute_result"
    }
   ],
   "source": [
    "y_test.shape"
   ]
  },
  {
   "cell_type": "code",
   "execution_count": 41,
   "metadata": {},
   "outputs": [],
   "source": [
    "# After this fashion should be changed to beauty"
   ]
  },
  {
   "cell_type": "code",
   "execution_count": null,
   "metadata": {},
   "outputs": [],
   "source": []
  },
  {
   "cell_type": "code",
   "execution_count": null,
   "metadata": {},
   "outputs": [],
   "source": []
  },
  {
   "cell_type": "code",
   "execution_count": 18,
   "metadata": {},
   "outputs": [],
   "source": [
    "df_test=pd.read_csv('test.csv')"
   ]
  },
  {
   "cell_type": "code",
   "execution_count": 19,
   "metadata": {},
   "outputs": [],
   "source": [
    "df_test['Group']=df_test['image_path'].map(lambda x : x[:7])"
   ]
  },
  {
   "cell_type": "code",
   "execution_count": 20,
   "metadata": {},
   "outputs": [
    {
     "data": {
      "text/html": [
       "<div>\n",
       "<style scoped>\n",
       "    .dataframe tbody tr th:only-of-type {\n",
       "        vertical-align: middle;\n",
       "    }\n",
       "\n",
       "    .dataframe tbody tr th {\n",
       "        vertical-align: top;\n",
       "    }\n",
       "\n",
       "    .dataframe thead th {\n",
       "        text-align: right;\n",
       "    }\n",
       "</style>\n",
       "<table border=\"1\" class=\"dataframe\">\n",
       "  <thead>\n",
       "    <tr style=\"text-align: right;\">\n",
       "      <th></th>\n",
       "      <th>itemid</th>\n",
       "      <th>title</th>\n",
       "      <th>image_path</th>\n",
       "      <th>Group</th>\n",
       "    </tr>\n",
       "  </thead>\n",
       "  <tbody>\n",
       "    <tr>\n",
       "      <th>0</th>\n",
       "      <td>370855998</td>\n",
       "      <td>flormar 7 white cream bb spf 30 40ml</td>\n",
       "      <td>beauty_image/1588591395c5a254bab84042005f2a9f.jpg</td>\n",
       "      <td>beauty_</td>\n",
       "    </tr>\n",
       "    <tr>\n",
       "      <th>1</th>\n",
       "      <td>637234604</td>\n",
       "      <td>maybelline clear smooth all in one bb cream sp...</td>\n",
       "      <td>beauty_image/920985ed9587ea20f58686ea74e20f93.jpg</td>\n",
       "      <td>beauty_</td>\n",
       "    </tr>\n",
       "    <tr>\n",
       "      <th>2</th>\n",
       "      <td>690282890</td>\n",
       "      <td>murah innisfree eco natural green tea bb cream...</td>\n",
       "      <td>beauty_image/90b40e5710f54352b243fcfb0f5d1d7f.jpg</td>\n",
       "      <td>beauty_</td>\n",
       "    </tr>\n",
       "    <tr>\n",
       "      <th>3</th>\n",
       "      <td>930913462</td>\n",
       "      <td>loreal white perfect day cream spf 17 pa white...</td>\n",
       "      <td>beauty_image/289c668ef3d70e1d929d602d52d5d78a.jpg</td>\n",
       "      <td>beauty_</td>\n",
       "    </tr>\n",
       "    <tr>\n",
       "      <th>4</th>\n",
       "      <td>1039280071</td>\n",
       "      <td>hada labo cc cream ultimate anti aging spf 35 ...</td>\n",
       "      <td>beauty_image/d5b3e652c5822d2306f4560488ec30c6.jpg</td>\n",
       "      <td>beauty_</td>\n",
       "    </tr>\n",
       "  </tbody>\n",
       "</table>\n",
       "</div>"
      ],
      "text/plain": [
       "       itemid                                              title  \\\n",
       "0   370855998               flormar 7 white cream bb spf 30 40ml   \n",
       "1   637234604  maybelline clear smooth all in one bb cream sp...   \n",
       "2   690282890  murah innisfree eco natural green tea bb cream...   \n",
       "3   930913462  loreal white perfect day cream spf 17 pa white...   \n",
       "4  1039280071  hada labo cc cream ultimate anti aging spf 35 ...   \n",
       "\n",
       "                                          image_path    Group  \n",
       "0  beauty_image/1588591395c5a254bab84042005f2a9f.jpg  beauty_  \n",
       "1  beauty_image/920985ed9587ea20f58686ea74e20f93.jpg  beauty_  \n",
       "2  beauty_image/90b40e5710f54352b243fcfb0f5d1d7f.jpg  beauty_  \n",
       "3  beauty_image/289c668ef3d70e1d929d602d52d5d78a.jpg  beauty_  \n",
       "4  beauty_image/d5b3e652c5822d2306f4560488ec30c6.jpg  beauty_  "
      ]
     },
     "execution_count": 20,
     "metadata": {},
     "output_type": "execute_result"
    }
   ],
   "source": [
    "df_test[df_test.Group=='beauty_'].head()"
   ]
  },
  {
   "cell_type": "code",
   "execution_count": 45,
   "metadata": {},
   "outputs": [
    {
     "data": {
      "text/plain": [
       "13"
      ]
     },
     "execution_count": 45,
     "metadata": {},
     "output_type": "execute_result"
    }
   ],
   "source": [
    "len('beauty_image/')"
   ]
  },
  {
   "cell_type": "code",
   "execution_count": 21,
   "metadata": {},
   "outputs": [],
   "source": [
    "df_test.loc[df_test.Group=='beauty_','image_path']=df_test[df_test.Group=='beauty_'].image_path.map(lambda x : x[13:])"
   ]
  },
  {
   "cell_type": "code",
   "execution_count": 22,
   "metadata": {},
   "outputs": [
    {
     "data": {
      "text/html": [
       "<div>\n",
       "<style scoped>\n",
       "    .dataframe tbody tr th:only-of-type {\n",
       "        vertical-align: middle;\n",
       "    }\n",
       "\n",
       "    .dataframe tbody tr th {\n",
       "        vertical-align: top;\n",
       "    }\n",
       "\n",
       "    .dataframe thead th {\n",
       "        text-align: right;\n",
       "    }\n",
       "</style>\n",
       "<table border=\"1\" class=\"dataframe\">\n",
       "  <thead>\n",
       "    <tr style=\"text-align: right;\">\n",
       "      <th></th>\n",
       "      <th>itemid</th>\n",
       "      <th>title</th>\n",
       "      <th>image_path</th>\n",
       "      <th>Group</th>\n",
       "    </tr>\n",
       "  </thead>\n",
       "  <tbody>\n",
       "    <tr>\n",
       "      <th>0</th>\n",
       "      <td>370855998</td>\n",
       "      <td>flormar 7 white cream bb spf 30 40ml</td>\n",
       "      <td>1588591395c5a254bab84042005f2a9f.jpg</td>\n",
       "      <td>beauty_</td>\n",
       "    </tr>\n",
       "    <tr>\n",
       "      <th>1</th>\n",
       "      <td>637234604</td>\n",
       "      <td>maybelline clear smooth all in one bb cream sp...</td>\n",
       "      <td>920985ed9587ea20f58686ea74e20f93.jpg</td>\n",
       "      <td>beauty_</td>\n",
       "    </tr>\n",
       "    <tr>\n",
       "      <th>2</th>\n",
       "      <td>690282890</td>\n",
       "      <td>murah innisfree eco natural green tea bb cream...</td>\n",
       "      <td>90b40e5710f54352b243fcfb0f5d1d7f.jpg</td>\n",
       "      <td>beauty_</td>\n",
       "    </tr>\n",
       "    <tr>\n",
       "      <th>3</th>\n",
       "      <td>930913462</td>\n",
       "      <td>loreal white perfect day cream spf 17 pa white...</td>\n",
       "      <td>289c668ef3d70e1d929d602d52d5d78a.jpg</td>\n",
       "      <td>beauty_</td>\n",
       "    </tr>\n",
       "    <tr>\n",
       "      <th>4</th>\n",
       "      <td>1039280071</td>\n",
       "      <td>hada labo cc cream ultimate anti aging spf 35 ...</td>\n",
       "      <td>d5b3e652c5822d2306f4560488ec30c6.jpg</td>\n",
       "      <td>beauty_</td>\n",
       "    </tr>\n",
       "  </tbody>\n",
       "</table>\n",
       "</div>"
      ],
      "text/plain": [
       "       itemid                                              title  \\\n",
       "0   370855998               flormar 7 white cream bb spf 30 40ml   \n",
       "1   637234604  maybelline clear smooth all in one bb cream sp...   \n",
       "2   690282890  murah innisfree eco natural green tea bb cream...   \n",
       "3   930913462  loreal white perfect day cream spf 17 pa white...   \n",
       "4  1039280071  hada labo cc cream ultimate anti aging spf 35 ...   \n",
       "\n",
       "                             image_path    Group  \n",
       "0  1588591395c5a254bab84042005f2a9f.jpg  beauty_  \n",
       "1  920985ed9587ea20f58686ea74e20f93.jpg  beauty_  \n",
       "2  90b40e5710f54352b243fcfb0f5d1d7f.jpg  beauty_  \n",
       "3  289c668ef3d70e1d929d602d52d5d78a.jpg  beauty_  \n",
       "4  d5b3e652c5822d2306f4560488ec30c6.jpg  beauty_  "
      ]
     },
     "execution_count": 22,
     "metadata": {},
     "output_type": "execute_result"
    }
   ],
   "source": [
    "df_test[df_test.Group=='beauty_'].head()"
   ]
  },
  {
   "cell_type": "code",
   "execution_count": 48,
   "metadata": {},
   "outputs": [],
   "source": [
    "# We need to take exp to get probabilities \n",
    "pred_fashion= np.mean(np.exp(log_preds),0)\n",
    "# get indexes of validation set\n",
    "val_idx_fashion=data_beauty.val_ds.fnames\n",
    "# Get classes might not be ordered\n",
    "cat_fashion=data_beauty.classes"
   ]
  },
  {
   "cell_type": "code",
   "execution_count": 49,
   "metadata": {},
   "outputs": [],
   "source": [
    "df_fashion=pd.DataFrame()\n",
    "df_fashion['image_path']=val_idx_fashion\n",
    "df_pred=pd.DataFrame(pred_fashion)\n",
    "df_pred.columns=cat_fashion\n",
    "df_fashion=pd.concat([df_fashion,df_pred],axis=1)\n",
    "df_fashion['final_pred']=df_fashion.iloc[:,1:].idxmax(axis=1)"
   ]
  },
  {
   "cell_type": "code",
   "execution_count": 50,
   "metadata": {},
   "outputs": [],
   "source": [
    "df_fashion['Category']=[cat_fashion[i] for i in data_beauty.val_y]\n"
   ]
  },
  {
   "cell_type": "code",
   "execution_count": 51,
   "metadata": {},
   "outputs": [
    {
     "name": "stdout",
     "output_type": "stream",
     "text": [
      "Accuracy for beauty : 0.6983791894202418\n"
     ]
    }
   ],
   "source": [
    "# let's check accuracy for each folder\n",
    "print('Accuracy for beauty :',(df_fashion.final_pred==df_fashion.Category).mean())"
   ]
  },
  {
   "cell_type": "code",
   "execution_count": 54,
   "metadata": {},
   "outputs": [
    {
     "data": {
      "text/plain": [
       "array(['0', '1', '10', '11', '12', '13', '14', '15', '16', '2', '3', '4', '5', '6', '7', '8', '9'],\n",
       "      dtype=object)"
      ]
     },
     "execution_count": 54,
     "metadata": {},
     "output_type": "execute_result"
    }
   ],
   "source": [
    "df_fashion.Category.unique()"
   ]
  },
  {
   "cell_type": "code",
   "execution_count": null,
   "metadata": {},
   "outputs": [],
   "source": [
    "# So \n",
    "def remove_val(path):\n",
    "    i=0"
   ]
  },
  {
   "cell_type": "code",
   "execution_count": 73,
   "metadata": {},
   "outputs": [],
   "source": [
    "a='valid\\\\10\\\\'"
   ]
  },
  {
   "cell_type": "code",
   "execution_count": 74,
   "metadata": {},
   "outputs": [
    {
     "data": {
      "text/plain": [
       "'0'"
      ]
     },
     "execution_count": 74,
     "metadata": {},
     "output_type": "execute_result"
    }
   ],
   "source": [
    "a[7]"
   ]
  },
  {
   "cell_type": "code",
   "execution_count": 23,
   "metadata": {},
   "outputs": [],
   "source": [
    "def remove_valid(path):\n",
    "    if path[7]=='\\\\':\n",
    "        return path[8:]\n",
    "    else:\n",
    "        return path[9:]"
   ]
  },
  {
   "cell_type": "code",
   "execution_count": 59,
   "metadata": {},
   "outputs": [
    {
     "data": {
      "text/plain": [
       "0    valid\\0\\0057fd944e705684de3b169f1fd7b20e.jpg\n",
       "1    valid\\0\\0093bb60e9adb6b2d842d87d4a8d6130.jpg\n",
       "2    valid\\0\\00e358a25a00c6edabbff0f7c4fa424e.jpg\n",
       "3    valid\\0\\0123b0a5ebbd601a14357274ebcdde46.jpg\n",
       "4    valid\\0\\01ec05eb7e3f009b254ccc116d21ed3c.jpg\n",
       "Name: image_path, dtype: object"
      ]
     },
     "execution_count": 59,
     "metadata": {},
     "output_type": "execute_result"
    }
   ],
   "source": [
    "df_fashion['image_path'].head()"
   ]
  },
  {
   "cell_type": "code",
   "execution_count": 77,
   "metadata": {},
   "outputs": [],
   "source": [
    "# Let's export our validation set. But before we need to remove some parts from indexes\n",
    "df_fashion['image_path']=df_fashion['image_path'].map(lambda x: remove_valid(x))"
   ]
  },
  {
   "cell_type": "code",
   "execution_count": 78,
   "metadata": {
    "scrolled": true
   },
   "outputs": [
    {
     "data": {
      "text/html": [
       "<div>\n",
       "<style scoped>\n",
       "    .dataframe tbody tr th:only-of-type {\n",
       "        vertical-align: middle;\n",
       "    }\n",
       "\n",
       "    .dataframe tbody tr th {\n",
       "        vertical-align: top;\n",
       "    }\n",
       "\n",
       "    .dataframe thead th {\n",
       "        text-align: right;\n",
       "    }\n",
       "</style>\n",
       "<table border=\"1\" class=\"dataframe\">\n",
       "  <thead>\n",
       "    <tr style=\"text-align: right;\">\n",
       "      <th></th>\n",
       "      <th>image_path</th>\n",
       "      <th>0</th>\n",
       "      <th>1</th>\n",
       "      <th>10</th>\n",
       "      <th>11</th>\n",
       "      <th>12</th>\n",
       "      <th>13</th>\n",
       "      <th>14</th>\n",
       "      <th>15</th>\n",
       "      <th>16</th>\n",
       "      <th>2</th>\n",
       "      <th>3</th>\n",
       "      <th>4</th>\n",
       "      <th>5</th>\n",
       "      <th>6</th>\n",
       "      <th>7</th>\n",
       "      <th>8</th>\n",
       "      <th>9</th>\n",
       "      <th>final_pred</th>\n",
       "      <th>Category</th>\n",
       "    </tr>\n",
       "  </thead>\n",
       "  <tbody>\n",
       "    <tr>\n",
       "      <th>0</th>\n",
       "      <td>0057fd944e705684de3b169f1fd7b20e.jpg</td>\n",
       "      <td>0.002708</td>\n",
       "      <td>0.241293</td>\n",
       "      <td>0.000314</td>\n",
       "      <td>0.001534</td>\n",
       "      <td>0.003066</td>\n",
       "      <td>0.003339</td>\n",
       "      <td>0.000909</td>\n",
       "      <td>0.000218</td>\n",
       "      <td>0.001270</td>\n",
       "      <td>0.006678</td>\n",
       "      <td>0.313492</td>\n",
       "      <td>0.065452</td>\n",
       "      <td>0.332283</td>\n",
       "      <td>0.001015</td>\n",
       "      <td>0.010021</td>\n",
       "      <td>0.001164</td>\n",
       "      <td>0.015242</td>\n",
       "      <td>5</td>\n",
       "      <td>0</td>\n",
       "    </tr>\n",
       "    <tr>\n",
       "      <th>1</th>\n",
       "      <td>0093bb60e9adb6b2d842d87d4a8d6130.jpg</td>\n",
       "      <td>0.047662</td>\n",
       "      <td>0.004765</td>\n",
       "      <td>0.000274</td>\n",
       "      <td>0.073027</td>\n",
       "      <td>0.001149</td>\n",
       "      <td>0.000178</td>\n",
       "      <td>0.000246</td>\n",
       "      <td>0.000249</td>\n",
       "      <td>0.000261</td>\n",
       "      <td>0.256404</td>\n",
       "      <td>0.111228</td>\n",
       "      <td>0.044636</td>\n",
       "      <td>0.005981</td>\n",
       "      <td>0.008053</td>\n",
       "      <td>0.003093</td>\n",
       "      <td>0.434704</td>\n",
       "      <td>0.008093</td>\n",
       "      <td>8</td>\n",
       "      <td>0</td>\n",
       "    </tr>\n",
       "    <tr>\n",
       "      <th>2</th>\n",
       "      <td>00e358a25a00c6edabbff0f7c4fa424e.jpg</td>\n",
       "      <td>0.002229</td>\n",
       "      <td>0.002275</td>\n",
       "      <td>0.000186</td>\n",
       "      <td>0.000585</td>\n",
       "      <td>0.803346</td>\n",
       "      <td>0.022635</td>\n",
       "      <td>0.060085</td>\n",
       "      <td>0.026946</td>\n",
       "      <td>0.051184</td>\n",
       "      <td>0.001254</td>\n",
       "      <td>0.002614</td>\n",
       "      <td>0.019085</td>\n",
       "      <td>0.003045</td>\n",
       "      <td>0.000437</td>\n",
       "      <td>0.002176</td>\n",
       "      <td>0.000783</td>\n",
       "      <td>0.001137</td>\n",
       "      <td>12</td>\n",
       "      <td>0</td>\n",
       "    </tr>\n",
       "    <tr>\n",
       "      <th>3</th>\n",
       "      <td>0123b0a5ebbd601a14357274ebcdde46.jpg</td>\n",
       "      <td>0.008710</td>\n",
       "      <td>0.023970</td>\n",
       "      <td>0.000299</td>\n",
       "      <td>0.001745</td>\n",
       "      <td>0.006263</td>\n",
       "      <td>0.002144</td>\n",
       "      <td>0.001151</td>\n",
       "      <td>0.000235</td>\n",
       "      <td>0.001233</td>\n",
       "      <td>0.005581</td>\n",
       "      <td>0.070600</td>\n",
       "      <td>0.678877</td>\n",
       "      <td>0.155875</td>\n",
       "      <td>0.000624</td>\n",
       "      <td>0.008338</td>\n",
       "      <td>0.002728</td>\n",
       "      <td>0.031630</td>\n",
       "      <td>4</td>\n",
       "      <td>0</td>\n",
       "    </tr>\n",
       "    <tr>\n",
       "      <th>4</th>\n",
       "      <td>01ec05eb7e3f009b254ccc116d21ed3c.jpg</td>\n",
       "      <td>0.121783</td>\n",
       "      <td>0.284448</td>\n",
       "      <td>0.001201</td>\n",
       "      <td>0.045849</td>\n",
       "      <td>0.000559</td>\n",
       "      <td>0.000440</td>\n",
       "      <td>0.000226</td>\n",
       "      <td>0.000187</td>\n",
       "      <td>0.000259</td>\n",
       "      <td>0.005200</td>\n",
       "      <td>0.131969</td>\n",
       "      <td>0.183769</td>\n",
       "      <td>0.108028</td>\n",
       "      <td>0.042551</td>\n",
       "      <td>0.016440</td>\n",
       "      <td>0.032880</td>\n",
       "      <td>0.024211</td>\n",
       "      <td>1</td>\n",
       "      <td>0</td>\n",
       "    </tr>\n",
       "  </tbody>\n",
       "</table>\n",
       "</div>"
      ],
      "text/plain": [
       "                             image_path         0         1        10  \\\n",
       "0  0057fd944e705684de3b169f1fd7b20e.jpg  0.002708  0.241293  0.000314   \n",
       "1  0093bb60e9adb6b2d842d87d4a8d6130.jpg  0.047662  0.004765  0.000274   \n",
       "2  00e358a25a00c6edabbff0f7c4fa424e.jpg  0.002229  0.002275  0.000186   \n",
       "3  0123b0a5ebbd601a14357274ebcdde46.jpg  0.008710  0.023970  0.000299   \n",
       "4  01ec05eb7e3f009b254ccc116d21ed3c.jpg  0.121783  0.284448  0.001201   \n",
       "\n",
       "         11        12        13        14        15        16         2  \\\n",
       "0  0.001534  0.003066  0.003339  0.000909  0.000218  0.001270  0.006678   \n",
       "1  0.073027  0.001149  0.000178  0.000246  0.000249  0.000261  0.256404   \n",
       "2  0.000585  0.803346  0.022635  0.060085  0.026946  0.051184  0.001254   \n",
       "3  0.001745  0.006263  0.002144  0.001151  0.000235  0.001233  0.005581   \n",
       "4  0.045849  0.000559  0.000440  0.000226  0.000187  0.000259  0.005200   \n",
       "\n",
       "          3         4         5         6         7         8         9  \\\n",
       "0  0.313492  0.065452  0.332283  0.001015  0.010021  0.001164  0.015242   \n",
       "1  0.111228  0.044636  0.005981  0.008053  0.003093  0.434704  0.008093   \n",
       "2  0.002614  0.019085  0.003045  0.000437  0.002176  0.000783  0.001137   \n",
       "3  0.070600  0.678877  0.155875  0.000624  0.008338  0.002728  0.031630   \n",
       "4  0.131969  0.183769  0.108028  0.042551  0.016440  0.032880  0.024211   \n",
       "\n",
       "  final_pred Category  \n",
       "0          5        0  \n",
       "1          8        0  \n",
       "2         12        0  \n",
       "3          4        0  \n",
       "4          1        0  "
      ]
     },
     "execution_count": 78,
     "metadata": {},
     "output_type": "execute_result"
    }
   ],
   "source": [
    "df_fashion.head()"
   ]
  },
  {
   "cell_type": "code",
   "execution_count": 79,
   "metadata": {},
   "outputs": [
    {
     "data": {
      "text/plain": [
       "(57317, 20)"
      ]
     },
     "execution_count": 79,
     "metadata": {},
     "output_type": "execute_result"
    }
   ],
   "source": [
    "df_fashion.shape"
   ]
  },
  {
   "cell_type": "code",
   "execution_count": 24,
   "metadata": {},
   "outputs": [],
   "source": [
    "from sklearn.model_selection import train_test_split"
   ]
  },
  {
   "cell_type": "code",
   "execution_count": 26,
   "metadata": {},
   "outputs": [],
   "source": [
    "df_train=pd.read_csv('train.csv')\n",
    "df_train['Group']=df_train['image_path'].map(lambda x : x[:7])"
   ]
  },
  {
   "cell_type": "code",
   "execution_count": 27,
   "metadata": {},
   "outputs": [],
   "source": [
    "df_train.loc[df_train.Group=='beauty_','image_path']=df_train[df_train.Group=='beauty_'].image_path.map(lambda x: x[13:])"
   ]
  },
  {
   "cell_type": "code",
   "execution_count": 28,
   "metadata": {},
   "outputs": [],
   "source": [
    "train,test=train_test_split(df_train,random_state=2019,stratify=df_train.Category,test_size=0.2)"
   ]
  },
  {
   "cell_type": "code",
   "execution_count": 89,
   "metadata": {},
   "outputs": [
    {
     "data": {
      "text/plain": [
       "(133323, 5)"
      ]
     },
     "execution_count": 89,
     "metadata": {},
     "output_type": "execute_result"
    }
   ],
   "source": [
    "test.shape"
   ]
  },
  {
   "cell_type": "code",
   "execution_count": 90,
   "metadata": {},
   "outputs": [
    {
     "data": {
      "text/html": [
       "<div>\n",
       "<style scoped>\n",
       "    .dataframe tbody tr th:only-of-type {\n",
       "        vertical-align: middle;\n",
       "    }\n",
       "\n",
       "    .dataframe tbody tr th {\n",
       "        vertical-align: top;\n",
       "    }\n",
       "\n",
       "    .dataframe thead th {\n",
       "        text-align: right;\n",
       "    }\n",
       "</style>\n",
       "<table border=\"1\" class=\"dataframe\">\n",
       "  <thead>\n",
       "    <tr style=\"text-align: right;\">\n",
       "      <th></th>\n",
       "      <th>itemid</th>\n",
       "      <th>title</th>\n",
       "      <th>Category</th>\n",
       "      <th>image_path</th>\n",
       "      <th>Group</th>\n",
       "    </tr>\n",
       "  </thead>\n",
       "  <tbody>\n",
       "    <tr>\n",
       "      <th>539829</th>\n",
       "      <td>1058517290</td>\n",
       "      <td>xiaomi mi a1 garansi resmi 1 tahun tam</td>\n",
       "      <td>34</td>\n",
       "      <td>mobile_image/3912586cdf51144db783b2bac1ee4d3f.jpg</td>\n",
       "      <td>mobile_</td>\n",
       "    </tr>\n",
       "    <tr>\n",
       "      <th>473036</th>\n",
       "      <td>286463264</td>\n",
       "      <td>blus sexy model off shoulder</td>\n",
       "      <td>26</td>\n",
       "      <td>fashion_image/cb790137111e2525cd895c3375fe84c0</td>\n",
       "      <td>fashion</td>\n",
       "    </tr>\n",
       "    <tr>\n",
       "      <th>252009</th>\n",
       "      <td>1537965166</td>\n",
       "      <td>best sale jafra royal jelly radiance foundatio...</td>\n",
       "      <td>1</td>\n",
       "      <td>5adfe3e65ad2f51a1e67db85a3de8e18.jpg</td>\n",
       "      <td>beauty_</td>\n",
       "    </tr>\n",
       "    <tr>\n",
       "      <th>355772</th>\n",
       "      <td>1465709373</td>\n",
       "      <td>dress midi bodycon casual elegan warna polos u...</td>\n",
       "      <td>22</td>\n",
       "      <td>fashion_image/cbedaa2404fb377dc6c271a1081f7baa</td>\n",
       "      <td>fashion</td>\n",
       "    </tr>\n",
       "    <tr>\n",
       "      <th>553954</th>\n",
       "      <td>1195506745</td>\n",
       "      <td>promo discon samsung galaxy s7 flat sein garan...</td>\n",
       "      <td>35</td>\n",
       "      <td>mobile_image/bb327fec3989b18f714deb3c07203fb8.jpg</td>\n",
       "      <td>mobile_</td>\n",
       "    </tr>\n",
       "  </tbody>\n",
       "</table>\n",
       "</div>"
      ],
      "text/plain": [
       "            itemid                                              title  \\\n",
       "539829  1058517290             xiaomi mi a1 garansi resmi 1 tahun tam   \n",
       "473036   286463264                       blus sexy model off shoulder   \n",
       "252009  1537965166  best sale jafra royal jelly radiance foundatio...   \n",
       "355772  1465709373  dress midi bodycon casual elegan warna polos u...   \n",
       "553954  1195506745  promo discon samsung galaxy s7 flat sein garan...   \n",
       "\n",
       "        Category                                         image_path    Group  \n",
       "539829        34  mobile_image/3912586cdf51144db783b2bac1ee4d3f.jpg  mobile_  \n",
       "473036        26     fashion_image/cb790137111e2525cd895c3375fe84c0  fashion  \n",
       "252009         1               5adfe3e65ad2f51a1e67db85a3de8e18.jpg  beauty_  \n",
       "355772        22     fashion_image/cbedaa2404fb377dc6c271a1081f7baa  fashion  \n",
       "553954        35  mobile_image/bb327fec3989b18f714deb3c07203fb8.jpg  mobile_  "
      ]
     },
     "execution_count": 90,
     "metadata": {},
     "output_type": "execute_result"
    }
   ],
   "source": [
    "test.head()"
   ]
  },
  {
   "cell_type": "code",
   "execution_count": 91,
   "metadata": {},
   "outputs": [],
   "source": [
    "df_val=test[test.Group=='beauty_'][['itemid','image_path']].merge(df_fashion,on='image_path')"
   ]
  },
  {
   "cell_type": "code",
   "execution_count": 92,
   "metadata": {},
   "outputs": [],
   "source": [
    "df_val.set_index('itemid',inplace=True)"
   ]
  },
  {
   "cell_type": "code",
   "execution_count": 93,
   "metadata": {},
   "outputs": [],
   "source": [
    "df_val=df_val.loc[test[test.Group=='beauty_'].itemid,:]"
   ]
  },
  {
   "cell_type": "code",
   "execution_count": 94,
   "metadata": {},
   "outputs": [],
   "source": [
    "df_val.reset_index(inplace=True)"
   ]
  },
  {
   "cell_type": "code",
   "execution_count": 96,
   "metadata": {},
   "outputs": [],
   "source": [
    "df_val.to_csv('val_beauty__v2.csv')"
   ]
  },
  {
   "cell_type": "code",
   "execution_count": 97,
   "metadata": {},
   "outputs": [],
   "source": [
    "# Let's save test data\n",
    "# We need to take exp to get probabilities \n",
    "pred_fashion= np.mean(np.exp(log_preds_test),0)\n",
    "# get indexes of validation set\n",
    "val_idx_fashion=data_beauty.test_ds.fnames\n",
    "# Get classes might not be ordered\n",
    "cat_fashion=data_beauty.classes\n",
    "\n",
    "\n",
    "df_fashion=pd.DataFrame()\n",
    "df_fashion['image_path']=val_idx_fashion\n",
    "df_pred=pd.DataFrame(pred_fashion)\n",
    "df_pred.columns=cat_fashion\n",
    "df_fashion=pd.concat([df_fashion,df_pred],axis=1)\n",
    "df_fashion['final_pred']=df_fashion.iloc[:,1:].idxmax(axis=1)"
   ]
  },
  {
   "cell_type": "code",
   "execution_count": 98,
   "metadata": {},
   "outputs": [
    {
     "data": {
      "text/html": [
       "<div>\n",
       "<style scoped>\n",
       "    .dataframe tbody tr th:only-of-type {\n",
       "        vertical-align: middle;\n",
       "    }\n",
       "\n",
       "    .dataframe tbody tr th {\n",
       "        vertical-align: top;\n",
       "    }\n",
       "\n",
       "    .dataframe thead th {\n",
       "        text-align: right;\n",
       "    }\n",
       "</style>\n",
       "<table border=\"1\" class=\"dataframe\">\n",
       "  <thead>\n",
       "    <tr style=\"text-align: right;\">\n",
       "      <th></th>\n",
       "      <th>image_path</th>\n",
       "      <th>0</th>\n",
       "      <th>1</th>\n",
       "      <th>10</th>\n",
       "      <th>11</th>\n",
       "      <th>12</th>\n",
       "      <th>13</th>\n",
       "      <th>14</th>\n",
       "      <th>15</th>\n",
       "      <th>16</th>\n",
       "      <th>2</th>\n",
       "      <th>3</th>\n",
       "      <th>4</th>\n",
       "      <th>5</th>\n",
       "      <th>6</th>\n",
       "      <th>7</th>\n",
       "      <th>8</th>\n",
       "      <th>9</th>\n",
       "      <th>final_pred</th>\n",
       "    </tr>\n",
       "  </thead>\n",
       "  <tbody>\n",
       "    <tr>\n",
       "      <th>0</th>\n",
       "      <td>test\\0000152e7d1cf21228cdd0e2e195aff8.jpg</td>\n",
       "      <td>0.002811</td>\n",
       "      <td>0.003833</td>\n",
       "      <td>0.004336</td>\n",
       "      <td>0.007366</td>\n",
       "      <td>0.693056</td>\n",
       "      <td>0.019372</td>\n",
       "      <td>0.067437</td>\n",
       "      <td>0.055727</td>\n",
       "      <td>0.067914</td>\n",
       "      <td>0.001245</td>\n",
       "      <td>0.000917</td>\n",
       "      <td>0.034444</td>\n",
       "      <td>0.001715</td>\n",
       "      <td>0.008597</td>\n",
       "      <td>0.022295</td>\n",
       "      <td>0.007826</td>\n",
       "      <td>0.001110</td>\n",
       "      <td>12</td>\n",
       "    </tr>\n",
       "    <tr>\n",
       "      <th>1</th>\n",
       "      <td>test\\00005d4b09cb3033698d9f1b98a9c04b.jpg</td>\n",
       "      <td>0.003958</td>\n",
       "      <td>0.001971</td>\n",
       "      <td>0.000178</td>\n",
       "      <td>0.000583</td>\n",
       "      <td>0.778155</td>\n",
       "      <td>0.033715</td>\n",
       "      <td>0.064878</td>\n",
       "      <td>0.007726</td>\n",
       "      <td>0.067840</td>\n",
       "      <td>0.000970</td>\n",
       "      <td>0.005448</td>\n",
       "      <td>0.026269</td>\n",
       "      <td>0.001585</td>\n",
       "      <td>0.000386</td>\n",
       "      <td>0.003514</td>\n",
       "      <td>0.000649</td>\n",
       "      <td>0.002174</td>\n",
       "      <td>12</td>\n",
       "    </tr>\n",
       "    <tr>\n",
       "      <th>2</th>\n",
       "      <td>test\\000136e7af78ea0dc0c4596c5b62b750.jpg</td>\n",
       "      <td>0.008665</td>\n",
       "      <td>0.027450</td>\n",
       "      <td>0.000539</td>\n",
       "      <td>0.002905</td>\n",
       "      <td>0.611750</td>\n",
       "      <td>0.066908</td>\n",
       "      <td>0.108702</td>\n",
       "      <td>0.011729</td>\n",
       "      <td>0.040995</td>\n",
       "      <td>0.005769</td>\n",
       "      <td>0.011708</td>\n",
       "      <td>0.034463</td>\n",
       "      <td>0.011073</td>\n",
       "      <td>0.004937</td>\n",
       "      <td>0.038747</td>\n",
       "      <td>0.009208</td>\n",
       "      <td>0.004452</td>\n",
       "      <td>12</td>\n",
       "    </tr>\n",
       "    <tr>\n",
       "      <th>3</th>\n",
       "      <td>test\\0001f92fdbbe7f630cf15ebb5b1c9b7d.jpg</td>\n",
       "      <td>0.006914</td>\n",
       "      <td>0.003895</td>\n",
       "      <td>0.000659</td>\n",
       "      <td>0.003620</td>\n",
       "      <td>0.643935</td>\n",
       "      <td>0.024322</td>\n",
       "      <td>0.049970</td>\n",
       "      <td>0.015077</td>\n",
       "      <td>0.113553</td>\n",
       "      <td>0.004507</td>\n",
       "      <td>0.010452</td>\n",
       "      <td>0.100506</td>\n",
       "      <td>0.011993</td>\n",
       "      <td>0.000750</td>\n",
       "      <td>0.002976</td>\n",
       "      <td>0.001798</td>\n",
       "      <td>0.005073</td>\n",
       "      <td>12</td>\n",
       "    </tr>\n",
       "    <tr>\n",
       "      <th>4</th>\n",
       "      <td>test\\0002021f41e1493e8cc7054fb30e048c.jpg</td>\n",
       "      <td>0.003482</td>\n",
       "      <td>0.006003</td>\n",
       "      <td>0.001247</td>\n",
       "      <td>0.000582</td>\n",
       "      <td>0.092656</td>\n",
       "      <td>0.619766</td>\n",
       "      <td>0.136325</td>\n",
       "      <td>0.005911</td>\n",
       "      <td>0.044355</td>\n",
       "      <td>0.011834</td>\n",
       "      <td>0.001486</td>\n",
       "      <td>0.065452</td>\n",
       "      <td>0.006980</td>\n",
       "      <td>0.000446</td>\n",
       "      <td>0.000864</td>\n",
       "      <td>0.000188</td>\n",
       "      <td>0.002424</td>\n",
       "      <td>13</td>\n",
       "    </tr>\n",
       "  </tbody>\n",
       "</table>\n",
       "</div>"
      ],
      "text/plain": [
       "                                  image_path         0         1        10  \\\n",
       "0  test\\0000152e7d1cf21228cdd0e2e195aff8.jpg  0.002811  0.003833  0.004336   \n",
       "1  test\\00005d4b09cb3033698d9f1b98a9c04b.jpg  0.003958  0.001971  0.000178   \n",
       "2  test\\000136e7af78ea0dc0c4596c5b62b750.jpg  0.008665  0.027450  0.000539   \n",
       "3  test\\0001f92fdbbe7f630cf15ebb5b1c9b7d.jpg  0.006914  0.003895  0.000659   \n",
       "4  test\\0002021f41e1493e8cc7054fb30e048c.jpg  0.003482  0.006003  0.001247   \n",
       "\n",
       "         11        12        13        14        15        16         2  \\\n",
       "0  0.007366  0.693056  0.019372  0.067437  0.055727  0.067914  0.001245   \n",
       "1  0.000583  0.778155  0.033715  0.064878  0.007726  0.067840  0.000970   \n",
       "2  0.002905  0.611750  0.066908  0.108702  0.011729  0.040995  0.005769   \n",
       "3  0.003620  0.643935  0.024322  0.049970  0.015077  0.113553  0.004507   \n",
       "4  0.000582  0.092656  0.619766  0.136325  0.005911  0.044355  0.011834   \n",
       "\n",
       "          3         4         5         6         7         8         9  \\\n",
       "0  0.000917  0.034444  0.001715  0.008597  0.022295  0.007826  0.001110   \n",
       "1  0.005448  0.026269  0.001585  0.000386  0.003514  0.000649  0.002174   \n",
       "2  0.011708  0.034463  0.011073  0.004937  0.038747  0.009208  0.004452   \n",
       "3  0.010452  0.100506  0.011993  0.000750  0.002976  0.001798  0.005073   \n",
       "4  0.001486  0.065452  0.006980  0.000446  0.000864  0.000188  0.002424   \n",
       "\n",
       "  final_pred  \n",
       "0         12  \n",
       "1         12  \n",
       "2         12  \n",
       "3         12  \n",
       "4         13  "
      ]
     },
     "execution_count": 98,
     "metadata": {},
     "output_type": "execute_result"
    }
   ],
   "source": [
    "df_fashion.head()"
   ]
  },
  {
   "cell_type": "code",
   "execution_count": 99,
   "metadata": {},
   "outputs": [],
   "source": [
    "df_fashion.loc[:,'image_path']=df_fashion['image_path'].map(lambda x: x[5:])"
   ]
  },
  {
   "cell_type": "code",
   "execution_count": 100,
   "metadata": {
    "scrolled": true
   },
   "outputs": [
    {
     "data": {
      "text/html": [
       "<div>\n",
       "<style scoped>\n",
       "    .dataframe tbody tr th:only-of-type {\n",
       "        vertical-align: middle;\n",
       "    }\n",
       "\n",
       "    .dataframe tbody tr th {\n",
       "        vertical-align: top;\n",
       "    }\n",
       "\n",
       "    .dataframe thead th {\n",
       "        text-align: right;\n",
       "    }\n",
       "</style>\n",
       "<table border=\"1\" class=\"dataframe\">\n",
       "  <thead>\n",
       "    <tr style=\"text-align: right;\">\n",
       "      <th></th>\n",
       "      <th>itemid</th>\n",
       "      <th>title</th>\n",
       "      <th>image_path</th>\n",
       "      <th>Group</th>\n",
       "    </tr>\n",
       "  </thead>\n",
       "  <tbody>\n",
       "    <tr>\n",
       "      <th>0</th>\n",
       "      <td>370855998</td>\n",
       "      <td>flormar 7 white cream bb spf 30 40ml</td>\n",
       "      <td>1588591395c5a254bab84042005f2a9f.jpg</td>\n",
       "      <td>beauty_</td>\n",
       "    </tr>\n",
       "    <tr>\n",
       "      <th>1</th>\n",
       "      <td>637234604</td>\n",
       "      <td>maybelline clear smooth all in one bb cream sp...</td>\n",
       "      <td>920985ed9587ea20f58686ea74e20f93.jpg</td>\n",
       "      <td>beauty_</td>\n",
       "    </tr>\n",
       "    <tr>\n",
       "      <th>2</th>\n",
       "      <td>690282890</td>\n",
       "      <td>murah innisfree eco natural green tea bb cream...</td>\n",
       "      <td>90b40e5710f54352b243fcfb0f5d1d7f.jpg</td>\n",
       "      <td>beauty_</td>\n",
       "    </tr>\n",
       "    <tr>\n",
       "      <th>3</th>\n",
       "      <td>930913462</td>\n",
       "      <td>loreal white perfect day cream spf 17 pa white...</td>\n",
       "      <td>289c668ef3d70e1d929d602d52d5d78a.jpg</td>\n",
       "      <td>beauty_</td>\n",
       "    </tr>\n",
       "    <tr>\n",
       "      <th>4</th>\n",
       "      <td>1039280071</td>\n",
       "      <td>hada labo cc cream ultimate anti aging spf 35 ...</td>\n",
       "      <td>d5b3e652c5822d2306f4560488ec30c6.jpg</td>\n",
       "      <td>beauty_</td>\n",
       "    </tr>\n",
       "  </tbody>\n",
       "</table>\n",
       "</div>"
      ],
      "text/plain": [
       "       itemid                                              title  \\\n",
       "0   370855998               flormar 7 white cream bb spf 30 40ml   \n",
       "1   637234604  maybelline clear smooth all in one bb cream sp...   \n",
       "2   690282890  murah innisfree eco natural green tea bb cream...   \n",
       "3   930913462  loreal white perfect day cream spf 17 pa white...   \n",
       "4  1039280071  hada labo cc cream ultimate anti aging spf 35 ...   \n",
       "\n",
       "                             image_path    Group  \n",
       "0  1588591395c5a254bab84042005f2a9f.jpg  beauty_  \n",
       "1  920985ed9587ea20f58686ea74e20f93.jpg  beauty_  \n",
       "2  90b40e5710f54352b243fcfb0f5d1d7f.jpg  beauty_  \n",
       "3  289c668ef3d70e1d929d602d52d5d78a.jpg  beauty_  \n",
       "4  d5b3e652c5822d2306f4560488ec30c6.jpg  beauty_  "
      ]
     },
     "execution_count": 100,
     "metadata": {},
     "output_type": "execute_result"
    }
   ],
   "source": [
    "df_test[df_test.Group=='beauty_'].head()"
   ]
  },
  {
   "cell_type": "code",
   "execution_count": 101,
   "metadata": {
    "scrolled": true
   },
   "outputs": [],
   "source": [
    "df_val=df_test[df_test.Group=='beauty_'][['itemid','image_path']].merge(df_fashion,on='image_path')\n",
    "df_val.set_index('itemid',inplace=True)\n",
    "df_val=df_val.loc[df_test[df_test.Group=='beauty_'].itemid,:]\n",
    "df_val.reset_index(inplace=True)\n",
    "df_val.to_csv('test_beauty__v2.csv')"
   ]
  },
  {
   "cell_type": "code",
   "execution_count": null,
   "metadata": {},
   "outputs": [],
   "source": []
  },
  {
   "cell_type": "code",
   "execution_count": 29,
   "metadata": {
    "scrolled": true
   },
   "outputs": [],
   "source": [
    "# Now we need to train fashion for all data. How we can do that?\n",
    "# Let's train from csv. We still need to make folder for test set. Actually, I just need to copy\n",
    "# test folder of fashion. So, all I need is prepare train.csv file\n",
    "df_train.loc[df_train.Group=='beauty_','image_path']=df_train.loc[df_train.Group=='beauty_','image_path'].map(lambda x: 'beauty_image/'+x)\n"
   ]
  },
  {
   "cell_type": "code",
   "execution_count": 30,
   "metadata": {
    "scrolled": true
   },
   "outputs": [],
   "source": [
    "df_train.loc[df_train.Group=='beauty_',['image_path','Category']].to_csv('train_beauty_all.csv',index=False)"
   ]
  },
  {
   "cell_type": "code",
   "execution_count": 31,
   "metadata": {},
   "outputs": [
    {
     "data": {
      "text/plain": [
       "0    beauty_image/6b2e9cbb279ac95703348368aa65da09.jpg\n",
       "1    beauty_image/20450222d857c9571ba8fa23bdedc8c9.jpg\n",
       "2    beauty_image/6a5962bed605a3dd6604ca3a4278a4f9.jpg\n",
       "3    beauty_image/56987ae186e8a8e71fcc5a261ca485da.jpg\n",
       "4    beauty_image/9c6968066ebab57588c2f757a240d8b9.jpg\n",
       "Name: image_path, dtype: object"
      ]
     },
     "execution_count": 31,
     "metadata": {},
     "output_type": "execute_result"
    }
   ],
   "source": [
    "df_train.loc[df_train.Group=='beauty_','image_path'].head()"
   ]
  },
  {
   "cell_type": "code",
   "execution_count": 32,
   "metadata": {},
   "outputs": [
    {
     "data": {
      "text/plain": [
       "0    6b2e9cbb279ac95703348368aa65da09.jpg\n",
       "1    20450222d857c9571ba8fa23bdedc8c9.jpg\n",
       "2    6a5962bed605a3dd6604ca3a4278a4f9.jpg\n",
       "3    56987ae186e8a8e71fcc5a261ca485da.jpg\n",
       "4    9c6968066ebab57588c2f757a240d8b9.jpg\n",
       "Name: image_path, dtype: object"
      ]
     },
     "execution_count": 32,
     "metadata": {},
     "output_type": "execute_result"
    }
   ],
   "source": [
    "df_train.loc[df_train.Group=='beauty_','image_path'].map(lambda x: x[13:]).head()"
   ]
  },
  {
   "cell_type": "code",
   "execution_count": 33,
   "metadata": {},
   "outputs": [],
   "source": [
    "df_train.loc[df_train.Group=='beauty_','image_path']=df_train.loc[df_train.Group=='beauty_','image_path'].map(lambda x: x[13:])\n"
   ]
  },
  {
   "cell_type": "code",
   "execution_count": 34,
   "metadata": {},
   "outputs": [],
   "source": [
    "df_train.loc[df_train.Group=='beauty_',['image_path','Category']].to_csv('train_beauty_all.csv',index=False)"
   ]
  },
  {
   "cell_type": "code",
   "execution_count": 35,
   "metadata": {},
   "outputs": [
    {
     "data": {
      "text/plain": [
       "(286583, 2)"
      ]
     },
     "execution_count": 35,
     "metadata": {},
     "output_type": "execute_result"
    }
   ],
   "source": [
    "df=pd.read_csv('train_beauty_all.csv')\n",
    "df.shape"
   ]
  },
  {
   "cell_type": "code",
   "execution_count": 37,
   "metadata": {},
   "outputs": [],
   "source": [
    "# We use 0.5% of data as validation set for final submission\n",
    "trn,tst=train_test_split(df,random_state=2019,stratify=df.Category,test_size=0.005)"
   ]
  },
  {
   "cell_type": "code",
   "execution_count": 38,
   "metadata": {
    "scrolled": true
   },
   "outputs": [
    {
     "data": {
      "text/html": [
       "<div>\n",
       "<style scoped>\n",
       "    .dataframe tbody tr th:only-of-type {\n",
       "        vertical-align: middle;\n",
       "    }\n",
       "\n",
       "    .dataframe tbody tr th {\n",
       "        vertical-align: top;\n",
       "    }\n",
       "\n",
       "    .dataframe thead th {\n",
       "        text-align: right;\n",
       "    }\n",
       "</style>\n",
       "<table border=\"1\" class=\"dataframe\">\n",
       "  <thead>\n",
       "    <tr style=\"text-align: right;\">\n",
       "      <th></th>\n",
       "      <th>image_path</th>\n",
       "    </tr>\n",
       "    <tr>\n",
       "      <th>Category</th>\n",
       "      <th></th>\n",
       "    </tr>\n",
       "  </thead>\n",
       "  <tbody>\n",
       "    <tr>\n",
       "      <th>0</th>\n",
       "      <td>19</td>\n",
       "    </tr>\n",
       "    <tr>\n",
       "      <th>1</th>\n",
       "      <td>143</td>\n",
       "    </tr>\n",
       "    <tr>\n",
       "      <th>2</th>\n",
       "      <td>58</td>\n",
       "    </tr>\n",
       "    <tr>\n",
       "      <th>3</th>\n",
       "      <td>406</td>\n",
       "    </tr>\n",
       "    <tr>\n",
       "      <th>4</th>\n",
       "      <td>214</td>\n",
       "    </tr>\n",
       "    <tr>\n",
       "      <th>5</th>\n",
       "      <td>276</td>\n",
       "    </tr>\n",
       "    <tr>\n",
       "      <th>6</th>\n",
       "      <td>10</td>\n",
       "    </tr>\n",
       "    <tr>\n",
       "      <th>7</th>\n",
       "      <td>58</td>\n",
       "    </tr>\n",
       "    <tr>\n",
       "      <th>8</th>\n",
       "      <td>30</td>\n",
       "    </tr>\n",
       "    <tr>\n",
       "      <th>9</th>\n",
       "      <td>41</td>\n",
       "    </tr>\n",
       "    <tr>\n",
       "      <th>10</th>\n",
       "      <td>5</td>\n",
       "    </tr>\n",
       "    <tr>\n",
       "      <th>11</th>\n",
       "      <td>21</td>\n",
       "    </tr>\n",
       "    <tr>\n",
       "      <th>12</th>\n",
       "      <td>109</td>\n",
       "    </tr>\n",
       "    <tr>\n",
       "      <th>13</th>\n",
       "      <td>15</td>\n",
       "    </tr>\n",
       "    <tr>\n",
       "      <th>14</th>\n",
       "      <td>14</td>\n",
       "    </tr>\n",
       "    <tr>\n",
       "      <th>15</th>\n",
       "      <td>3</td>\n",
       "    </tr>\n",
       "    <tr>\n",
       "      <th>16</th>\n",
       "      <td>11</td>\n",
       "    </tr>\n",
       "  </tbody>\n",
       "</table>\n",
       "</div>"
      ],
      "text/plain": [
       "          image_path\n",
       "Category            \n",
       "0                 19\n",
       "1                143\n",
       "2                 58\n",
       "3                406\n",
       "4                214\n",
       "5                276\n",
       "6                 10\n",
       "7                 58\n",
       "8                 30\n",
       "9                 41\n",
       "10                 5\n",
       "11                21\n",
       "12               109\n",
       "13                15\n",
       "14                14\n",
       "15                 3\n",
       "16                11"
      ]
     },
     "execution_count": 38,
     "metadata": {},
     "output_type": "execute_result"
    }
   ],
   "source": [
    "tst.groupby('Category').count()"
   ]
  },
  {
   "cell_type": "code",
   "execution_count": 39,
   "metadata": {},
   "outputs": [
    {
     "data": {
      "text/plain": [
       "(1433, 2)"
      ]
     },
     "execution_count": 39,
     "metadata": {},
     "output_type": "execute_result"
    }
   ],
   "source": [
    "tst.shape"
   ]
  },
  {
   "cell_type": "code",
   "execution_count": 40,
   "metadata": {},
   "outputs": [],
   "source": [
    "PATH_beauty_all='C:/Users/user/Documents/Salamat/NDSC_2019'"
   ]
  },
  {
   "cell_type": "code",
   "execution_count": 41,
   "metadata": {},
   "outputs": [],
   "source": [
    "data_beauty_all = ImageClassifierData.from_csv(path=PATH_beauty_all,folder='beauty_image',tfms=tfms,csv_fname='train_beauty_all.csv', test_name='beauty_test',val_idxs=tst.index)"
   ]
  },
  {
   "cell_type": "code",
   "execution_count": 42,
   "metadata": {},
   "outputs": [
    {
     "data": {
      "text/plain": [
       "(1433,)"
      ]
     },
     "execution_count": 42,
     "metadata": {},
     "output_type": "execute_result"
    }
   ],
   "source": [
    "data_beauty_all.val_ds.fnames.shape"
   ]
  },
  {
   "cell_type": "code",
   "execution_count": 43,
   "metadata": {},
   "outputs": [],
   "source": [
    "arch=resnet34"
   ]
  },
  {
   "cell_type": "code",
   "execution_count": 44,
   "metadata": {
    "hidden": true
   },
   "outputs": [
    {
     "ename": "ValueError",
     "evalue": "chunkfile C:/Users/user/Documents/Salamat/NDSC_2019\\tmp\\x_act_resnet34_0_224.bc\\data\\__218602.blp not found",
     "output_type": "error",
     "traceback": [
      "\u001b[1;31m---------------------------------------------------------------------------\u001b[0m",
      "\u001b[1;31mValueError\u001b[0m                                Traceback (most recent call last)",
      "\u001b[1;32m<ipython-input-44-31ae8aed1ca6>\u001b[0m in \u001b[0;36m<module>\u001b[1;34m()\u001b[0m\n\u001b[0;32m      1\u001b[0m \u001b[1;31m#train to all data\u001b[0m\u001b[1;33m\u001b[0m\u001b[1;33m\u001b[0m\u001b[0m\n\u001b[1;32m----> 2\u001b[1;33m \u001b[0mlearn_all\u001b[0m \u001b[1;33m=\u001b[0m \u001b[0mConvLearner\u001b[0m\u001b[1;33m.\u001b[0m\u001b[0mpretrained\u001b[0m\u001b[1;33m(\u001b[0m\u001b[0march\u001b[0m\u001b[1;33m,\u001b[0m \u001b[0mdata_beauty_all\u001b[0m\u001b[1;33m,\u001b[0m \u001b[0mprecompute\u001b[0m\u001b[1;33m=\u001b[0m\u001b[1;32mTrue\u001b[0m\u001b[1;33m)\u001b[0m\u001b[1;33m\u001b[0m\u001b[0m\n\u001b[0m",
      "\u001b[1;32mC:/Users/user/Documents/Salamat/fastai\\fastai\\conv_learner.py\u001b[0m in \u001b[0;36mpretrained\u001b[1;34m(cls, f, data, ps, xtra_fc, xtra_cut, custom_head, precompute, pretrained, **kwargs)\u001b[0m\n\u001b[0;32m    112\u001b[0m         models = ConvnetBuilder(f, data.c, data.is_multi, data.is_reg,\n\u001b[0;32m    113\u001b[0m             ps=ps, xtra_fc=xtra_fc, xtra_cut=xtra_cut, custom_head=custom_head, pretrained=pretrained)\n\u001b[1;32m--> 114\u001b[1;33m         \u001b[1;32mreturn\u001b[0m \u001b[0mcls\u001b[0m\u001b[1;33m(\u001b[0m\u001b[0mdata\u001b[0m\u001b[1;33m,\u001b[0m \u001b[0mmodels\u001b[0m\u001b[1;33m,\u001b[0m \u001b[0mprecompute\u001b[0m\u001b[1;33m,\u001b[0m \u001b[1;33m**\u001b[0m\u001b[0mkwargs\u001b[0m\u001b[1;33m)\u001b[0m\u001b[1;33m\u001b[0m\u001b[0m\n\u001b[0m\u001b[0;32m    115\u001b[0m \u001b[1;33m\u001b[0m\u001b[0m\n\u001b[0;32m    116\u001b[0m     \u001b[1;33m@\u001b[0m\u001b[0mclassmethod\u001b[0m\u001b[1;33m\u001b[0m\u001b[0m\n",
      "\u001b[1;32mC:/Users/user/Documents/Salamat/fastai\\fastai\\conv_learner.py\u001b[0m in \u001b[0;36m__init__\u001b[1;34m(self, data, models, precompute, **kwargs)\u001b[0m\n\u001b[0;32m     98\u001b[0m         \u001b[1;32mif\u001b[0m \u001b[0mhasattr\u001b[0m\u001b[1;33m(\u001b[0m\u001b[0mdata\u001b[0m\u001b[1;33m,\u001b[0m \u001b[1;34m'is_multi'\u001b[0m\u001b[1;33m)\u001b[0m \u001b[1;32mand\u001b[0m \u001b[1;32mnot\u001b[0m \u001b[0mdata\u001b[0m\u001b[1;33m.\u001b[0m\u001b[0mis_reg\u001b[0m \u001b[1;32mand\u001b[0m \u001b[0mself\u001b[0m\u001b[1;33m.\u001b[0m\u001b[0mmetrics\u001b[0m \u001b[1;32mis\u001b[0m \u001b[1;32mNone\u001b[0m\u001b[1;33m:\u001b[0m\u001b[1;33m\u001b[0m\u001b[0m\n\u001b[0;32m     99\u001b[0m             \u001b[0mself\u001b[0m\u001b[1;33m.\u001b[0m\u001b[0mmetrics\u001b[0m \u001b[1;33m=\u001b[0m \u001b[1;33m[\u001b[0m\u001b[0maccuracy_thresh\u001b[0m\u001b[1;33m(\u001b[0m\u001b[1;36m0.5\u001b[0m\u001b[1;33m)\u001b[0m\u001b[1;33m]\u001b[0m \u001b[1;32mif\u001b[0m \u001b[0mself\u001b[0m\u001b[1;33m.\u001b[0m\u001b[0mdata\u001b[0m\u001b[1;33m.\u001b[0m\u001b[0mis_multi\u001b[0m \u001b[1;32melse\u001b[0m \u001b[1;33m[\u001b[0m\u001b[0maccuracy\u001b[0m\u001b[1;33m]\u001b[0m\u001b[1;33m\u001b[0m\u001b[0m\n\u001b[1;32m--> 100\u001b[1;33m         \u001b[1;32mif\u001b[0m \u001b[0mprecompute\u001b[0m\u001b[1;33m:\u001b[0m \u001b[0mself\u001b[0m\u001b[1;33m.\u001b[0m\u001b[0msave_fc1\u001b[0m\u001b[1;33m(\u001b[0m\u001b[1;33m)\u001b[0m\u001b[1;33m\u001b[0m\u001b[0m\n\u001b[0m\u001b[0;32m    101\u001b[0m         \u001b[0mself\u001b[0m\u001b[1;33m.\u001b[0m\u001b[0mfreeze\u001b[0m\u001b[1;33m(\u001b[0m\u001b[1;33m)\u001b[0m\u001b[1;33m\u001b[0m\u001b[0m\n\u001b[0;32m    102\u001b[0m         \u001b[0mself\u001b[0m\u001b[1;33m.\u001b[0m\u001b[0mprecompute\u001b[0m \u001b[1;33m=\u001b[0m \u001b[0mprecompute\u001b[0m\u001b[1;33m\u001b[0m\u001b[0m\n",
      "\u001b[1;32mC:/Users/user/Documents/Salamat/fastai\\fastai\\conv_learner.py\u001b[0m in \u001b[0;36msave_fc1\u001b[1;34m(self)\u001b[0m\n\u001b[0;32m    166\u001b[0m         \u001b[0mm\u001b[0m\u001b[1;33m=\u001b[0m\u001b[0mself\u001b[0m\u001b[1;33m.\u001b[0m\u001b[0mmodels\u001b[0m\u001b[1;33m.\u001b[0m\u001b[0mtop_model\u001b[0m\u001b[1;33m\u001b[0m\u001b[0m\n\u001b[0;32m    167\u001b[0m         \u001b[1;32mif\u001b[0m \u001b[0mlen\u001b[0m\u001b[1;33m(\u001b[0m\u001b[0mself\u001b[0m\u001b[1;33m.\u001b[0m\u001b[0mactivations\u001b[0m\u001b[1;33m[\u001b[0m\u001b[1;36m0\u001b[0m\u001b[1;33m]\u001b[0m\u001b[1;33m)\u001b[0m\u001b[1;33m!=\u001b[0m\u001b[0mlen\u001b[0m\u001b[1;33m(\u001b[0m\u001b[0mself\u001b[0m\u001b[1;33m.\u001b[0m\u001b[0mdata\u001b[0m\u001b[1;33m.\u001b[0m\u001b[0mtrn_ds\u001b[0m\u001b[1;33m)\u001b[0m\u001b[1;33m:\u001b[0m\u001b[1;33m\u001b[0m\u001b[0m\n\u001b[1;32m--> 168\u001b[1;33m             \u001b[0mpredict_to_bcolz\u001b[0m\u001b[1;33m(\u001b[0m\u001b[0mm\u001b[0m\u001b[1;33m,\u001b[0m \u001b[0mself\u001b[0m\u001b[1;33m.\u001b[0m\u001b[0mdata\u001b[0m\u001b[1;33m.\u001b[0m\u001b[0mfix_dl\u001b[0m\u001b[1;33m,\u001b[0m \u001b[0mact\u001b[0m\u001b[1;33m)\u001b[0m\u001b[1;33m\u001b[0m\u001b[0m\n\u001b[0m\u001b[0;32m    169\u001b[0m         \u001b[1;32mif\u001b[0m \u001b[0mlen\u001b[0m\u001b[1;33m(\u001b[0m\u001b[0mself\u001b[0m\u001b[1;33m.\u001b[0m\u001b[0mactivations\u001b[0m\u001b[1;33m[\u001b[0m\u001b[1;36m1\u001b[0m\u001b[1;33m]\u001b[0m\u001b[1;33m)\u001b[0m\u001b[1;33m!=\u001b[0m\u001b[0mlen\u001b[0m\u001b[1;33m(\u001b[0m\u001b[0mself\u001b[0m\u001b[1;33m.\u001b[0m\u001b[0mdata\u001b[0m\u001b[1;33m.\u001b[0m\u001b[0mval_ds\u001b[0m\u001b[1;33m)\u001b[0m\u001b[1;33m:\u001b[0m\u001b[1;33m\u001b[0m\u001b[0m\n\u001b[0;32m    170\u001b[0m             \u001b[0mpredict_to_bcolz\u001b[0m\u001b[1;33m(\u001b[0m\u001b[0mm\u001b[0m\u001b[1;33m,\u001b[0m \u001b[0mself\u001b[0m\u001b[1;33m.\u001b[0m\u001b[0mdata\u001b[0m\u001b[1;33m.\u001b[0m\u001b[0mval_dl\u001b[0m\u001b[1;33m,\u001b[0m \u001b[0mval_act\u001b[0m\u001b[1;33m)\u001b[0m\u001b[1;33m\u001b[0m\u001b[0m\n",
      "\u001b[1;32mC:/Users/user/Documents/Salamat/fastai\\fastai\\model.py\u001b[0m in \u001b[0;36mpredict_to_bcolz\u001b[1;34m(m, gen, arr, workers)\u001b[0m\n\u001b[0;32m     10\u001b[0m \u001b[1;33m\u001b[0m\u001b[0m\n\u001b[0;32m     11\u001b[0m \u001b[1;32mdef\u001b[0m \u001b[0mpredict_to_bcolz\u001b[0m\u001b[1;33m(\u001b[0m\u001b[0mm\u001b[0m\u001b[1;33m,\u001b[0m \u001b[0mgen\u001b[0m\u001b[1;33m,\u001b[0m \u001b[0marr\u001b[0m\u001b[1;33m,\u001b[0m \u001b[0mworkers\u001b[0m\u001b[1;33m=\u001b[0m\u001b[1;36m4\u001b[0m\u001b[1;33m)\u001b[0m\u001b[1;33m:\u001b[0m\u001b[1;33m\u001b[0m\u001b[0m\n\u001b[1;32m---> 12\u001b[1;33m     \u001b[0marr\u001b[0m\u001b[1;33m.\u001b[0m\u001b[0mtrim\u001b[0m\u001b[1;33m(\u001b[0m\u001b[0mlen\u001b[0m\u001b[1;33m(\u001b[0m\u001b[0marr\u001b[0m\u001b[1;33m)\u001b[0m\u001b[1;33m)\u001b[0m\u001b[1;33m\u001b[0m\u001b[0m\n\u001b[0m\u001b[0;32m     13\u001b[0m     \u001b[0mlock\u001b[0m\u001b[1;33m=\u001b[0m\u001b[0mthreading\u001b[0m\u001b[1;33m.\u001b[0m\u001b[0mLock\u001b[0m\u001b[1;33m(\u001b[0m\u001b[1;33m)\u001b[0m\u001b[1;33m\u001b[0m\u001b[0m\n\u001b[0;32m     14\u001b[0m     \u001b[0mm\u001b[0m\u001b[1;33m.\u001b[0m\u001b[0meval\u001b[0m\u001b[1;33m(\u001b[0m\u001b[1;33m)\u001b[0m\u001b[1;33m\u001b[0m\u001b[0m\n",
      "\u001b[1;32mbcolz/carray_ext.pyx\u001b[0m in \u001b[0;36mbcolz.carray_ext.carray.trim\u001b[1;34m()\u001b[0m\n",
      "\u001b[1;32mbcolz/carray_ext.pyx\u001b[0m in \u001b[0;36mbcolz.carray_ext.chunks.pop\u001b[1;34m()\u001b[0m\n",
      "\u001b[1;32mbcolz/carray_ext.pyx\u001b[0m in \u001b[0;36mbcolz.carray_ext.chunks.__getitem__\u001b[1;34m()\u001b[0m\n",
      "\u001b[1;32mbcolz/carray_ext.pyx\u001b[0m in \u001b[0;36mbcolz.carray_ext.chunks.read_chunk\u001b[1;34m()\u001b[0m\n",
      "\u001b[1;31mValueError\u001b[0m: chunkfile C:/Users/user/Documents/Salamat/NDSC_2019\\tmp\\x_act_resnet34_0_224.bc\\data\\__218602.blp not found"
     ]
    }
   ],
   "source": [
    "#train to all data\n",
    "learn_all = ConvLearner.pretrained(arch, data_beauty_all, precompute=True)"
   ]
  },
  {
   "cell_type": "code",
   "execution_count": null,
   "metadata": {
    "hidden": true,
    "scrolled": false
   },
   "outputs": [],
   "source": [
    "learn_all.fit(1e-2, 1)"
   ]
  },
  {
   "cell_type": "code",
   "execution_count": null,
   "metadata": {
    "hidden": true
   },
   "outputs": [],
   "source": [
    "learn_all.precompute=False"
   ]
  },
  {
   "cell_type": "markdown",
   "metadata": {
    "hidden": true
   },
   "source": [
    "By default when we create a learner, it sets all but the last layer to *frozen*. That means that it's still only updating the weights in the last layer when we call `fit`."
   ]
  },
  {
   "cell_type": "code",
   "execution_count": null,
   "metadata": {
    "hidden": true,
    "scrolled": true
   },
   "outputs": [],
   "source": [
    "learn_all.fit(1e-2, 3, cycle_len=1)"
   ]
  },
  {
   "cell_type": "markdown",
   "metadata": {
    "hidden": true
   },
   "source": [
    "What is that `cycle_len` parameter? What we've done here is used a technique called *stochastic gradient descent with restarts (SGDR)*, a variant of *learning rate annealing*, which gradually decreases the learning rate as training progresses. This is helpful because as we get closer to the optimal weights, we want to take smaller steps.\n",
    "\n",
    "However, we may find ourselves in a part of the weight space that isn't very resilient - that is, small changes to the weights may result in big changes to the loss. We want to encourage our model to find parts of the weight space that are both accurate and stable. Therefore, from time to time we increase the learning rate (this is the 'restarts' in 'SGDR'), which will force the model to jump to a different part of the weight space if the current area is \"spikey\". Here's a picture of how that might look if we reset the learning rates 3 times (in this paper they call it a \"cyclic LR schedule\"):\n",
    "\n",
    "<img src=\"images/sgdr.png\" width=\"80%\">\n",
    "(From the paper [Snapshot Ensembles](https://arxiv.org/abs/1704.00109)).\n",
    "\n",
    "The number of epochs between resetting the learning rate is set by `cycle_len`, and the number of times this happens is refered to as the *number of cycles*, and is what we're actually passing as the 2nd parameter to `fit()`. So here's what our actual learning rates looked like:"
   ]
  },
  {
   "cell_type": "code",
   "execution_count": null,
   "metadata": {
    "hidden": true
   },
   "outputs": [],
   "source": [
    "learn_all.sched.plot_lr()"
   ]
  },
  {
   "cell_type": "markdown",
   "metadata": {
    "hidden": true
   },
   "source": [
    "Our validation loss isn't improving much, so there's probably no point further training the last layer on its own."
   ]
  },
  {
   "cell_type": "markdown",
   "metadata": {
    "hidden": true
   },
   "source": [
    "Since we've got a pretty good model at this point, we might want to save it so we can load it again later without training it from scratch."
   ]
  },
  {
   "cell_type": "code",
   "execution_count": null,
   "metadata": {
    "hidden": true
   },
   "outputs": [],
   "source": [
    "learn_all.save('beauty_all_data')"
   ]
  },
  {
   "cell_type": "code",
   "execution_count": null,
   "metadata": {
    "hidden": true
   },
   "outputs": [],
   "source": [
    "learn_all.load('beauty_all_data')"
   ]
  },
  {
   "cell_type": "markdown",
   "metadata": {
    "heading_collapsed": true
   },
   "source": [
    "### Fine-tuning and differential learning rate annealing"
   ]
  },
  {
   "cell_type": "markdown",
   "metadata": {
    "hidden": true
   },
   "source": [
    "Now that we have a good final layer trained, we can try fine-tuning the other layers. To tell the learner that we want to unfreeze the remaining layers, just call (surprise surprise!) `unfreeze()`."
   ]
  },
  {
   "cell_type": "code",
   "execution_count": null,
   "metadata": {
    "hidden": true
   },
   "outputs": [],
   "source": [
    "learn_all.unfreeze()"
   ]
  },
  {
   "cell_type": "markdown",
   "metadata": {
    "hidden": true
   },
   "source": [
    "Note that the other layers have *already* been trained to recognize imagenet photos (whereas our final layers where randomly initialized), so we want to be careful of not destroying the carefully tuned weights that are already there.\n",
    "\n",
    "Generally speaking, the earlier layers (as we've seen) have more general-purpose features. Therefore we would expect them to need less fine-tuning for new datasets. For this reason we will use different learning rates for different layers: the first few layers will be at 1e-4, the middle layers at 1e-3, and our FC layers we'll leave at 1e-2 as before. We refer to this as *differential learning rates*, although there's no standard name for this techique in the literature that we're aware of."
   ]
  },
  {
   "cell_type": "code",
   "execution_count": null,
   "metadata": {
    "hidden": true
   },
   "outputs": [],
   "source": [
    "lr=np.array([1e-4,1e-3,1e-2])"
   ]
  },
  {
   "cell_type": "code",
   "execution_count": null,
   "metadata": {
    "hidden": true,
    "scrolled": false
   },
   "outputs": [],
   "source": [
    "learn_all.fit(lr, 3, cycle_len=1, cycle_mult=2)"
   ]
  },
  {
   "cell_type": "markdown",
   "metadata": {
    "hidden": true
   },
   "source": [
    "Another trick we've used here is adding the `cycle_mult` parameter. Take a look at the following chart, and see if you can figure out what the parameter is doing:"
   ]
  },
  {
   "cell_type": "code",
   "execution_count": null,
   "metadata": {
    "hidden": true
   },
   "outputs": [],
   "source": [
    "learn_all.sched.plot_lr()"
   ]
  },
  {
   "cell_type": "markdown",
   "metadata": {
    "hidden": true
   },
   "source": [
    "Note that's what being plotted above is the learning rate of the *final layers*. The learning rates of the earlier layers are fixed at the same multiples of the final layer rates as we initially requested (i.e. the first layers have 100x smaller, and middle layers 10x smaller learning rates, since we set `lr=np.array([1e-4,1e-3,1e-2])`."
   ]
  },
  {
   "cell_type": "code",
   "execution_count": null,
   "metadata": {
    "hidden": true
   },
   "outputs": [],
   "source": [
    "learn.save('fashion_all_data')"
   ]
  },
  {
   "cell_type": "code",
   "execution_count": null,
   "metadata": {
    "hidden": true
   },
   "outputs": [],
   "source": [
    "learn.load('fashion_all_data')"
   ]
  },
  {
   "cell_type": "markdown",
   "metadata": {
    "hidden": true
   },
   "source": [
    "There is something else we can do with data augmentation: use it at *inference* time (also known as *test* time). Not surprisingly, this is known as *test time augmentation*, or just *TTA*.\n",
    "\n",
    "TTA simply makes predictions not just on the images in your validation set, but also makes predictions on a number of randomly augmented versions of them too (by default, it uses the original image along with 4 randomly augmented versions). It then takes the average prediction from these images, and uses that. To use TTA on the validation set, we can use the learner's `TTA()` method."
   ]
  },
  {
   "cell_type": "code",
   "execution_count": null,
   "metadata": {
    "hidden": true,
    "scrolled": true
   },
   "outputs": [],
   "source": [
    "log_preds,y = learn.TTA()\n",
    "probs = np.mean(np.exp(log_preds),0)"
   ]
  },
  {
   "cell_type": "code",
   "execution_count": null,
   "metadata": {},
   "outputs": [],
   "source": [
    "y.shape"
   ]
  },
  {
   "cell_type": "code",
   "execution_count": null,
   "metadata": {
    "hidden": true,
    "scrolled": true
   },
   "outputs": [],
   "source": [
    "# We have improved quite significantly\n",
    "accuracy_np(probs, y)"
   ]
  },
  {
   "cell_type": "code",
   "execution_count": null,
   "metadata": {
    "scrolled": true
   },
   "outputs": [],
   "source": [
    "log_preds_test,y_test=learn.TTA(is_test=True)"
   ]
  },
  {
   "cell_type": "code",
   "execution_count": null,
   "metadata": {},
   "outputs": [],
   "source": [
    "y_test.shape"
   ]
  },
  {
   "cell_type": "code",
   "execution_count": null,
   "metadata": {},
   "outputs": [],
   "source": []
  },
  {
   "cell_type": "code",
   "execution_count": null,
   "metadata": {},
   "outputs": [],
   "source": []
  },
  {
   "cell_type": "code",
   "execution_count": null,
   "metadata": {},
   "outputs": [],
   "source": []
  },
  {
   "cell_type": "code",
   "execution_count": null,
   "metadata": {},
   "outputs": [],
   "source": []
  },
  {
   "cell_type": "code",
   "execution_count": 307,
   "metadata": {},
   "outputs": [
    {
     "name": "stderr",
     "output_type": "stream",
     "text": [
      "C:\\Users\\user\\Anaconda3\\envs\\fastai\\lib\\site-packages\\tqdm\\_monitor.py:89: TqdmSynchronisationWarning: Set changed size during iteration (see https://github.com/tqdm/tqdm/issues/481)\n",
      "  TqdmSynchronisationWarning)\n"
     ]
    }
   ],
   "source": [
    "# Let's save test data\n",
    "# We need to take exp to get probabilities \n",
    "pred_fashion= np.mean(np.exp(log_preds_test),0)\n",
    "# get indexes of validation set\n",
    "val_idx_fashion=data_fashion_all.test_ds.fnames\n",
    "# Get classes might not be ordered\n",
    "cat_fashion=data_fashion_all.classes\n",
    "df_fashion=pd.DataFrame()\n",
    "df_fashion['image_path']=val_idx_fashion\n",
    "df_pred=pd.DataFrame(pred_fashion)\n",
    "df_pred.columns=cat_fashion\n",
    "df_fashion=pd.concat([df_fashion,df_pred],axis=1)\n",
    "df_fashion['final_pred']=df_fashion.iloc[:,1:].idxmax(axis=1)"
   ]
  },
  {
   "cell_type": "code",
   "execution_count": 308,
   "metadata": {
    "scrolled": true
   },
   "outputs": [
    {
     "data": {
      "text/html": [
       "<div>\n",
       "<style scoped>\n",
       "    .dataframe tbody tr th:only-of-type {\n",
       "        vertical-align: middle;\n",
       "    }\n",
       "\n",
       "    .dataframe tbody tr th {\n",
       "        vertical-align: top;\n",
       "    }\n",
       "\n",
       "    .dataframe thead th {\n",
       "        text-align: right;\n",
       "    }\n",
       "</style>\n",
       "<table border=\"1\" class=\"dataframe\">\n",
       "  <thead>\n",
       "    <tr style=\"text-align: right;\">\n",
       "      <th></th>\n",
       "      <th>image_path</th>\n",
       "      <th>17</th>\n",
       "      <th>18</th>\n",
       "      <th>19</th>\n",
       "      <th>20</th>\n",
       "      <th>21</th>\n",
       "      <th>22</th>\n",
       "      <th>23</th>\n",
       "      <th>24</th>\n",
       "      <th>25</th>\n",
       "      <th>26</th>\n",
       "      <th>27</th>\n",
       "      <th>28</th>\n",
       "      <th>29</th>\n",
       "      <th>30</th>\n",
       "      <th>final_pred</th>\n",
       "    </tr>\n",
       "  </thead>\n",
       "  <tbody>\n",
       "    <tr>\n",
       "      <th>0</th>\n",
       "      <td>fashion_test\\000006831bfaf0e3b5ce3564a10e6dd4.jpg</td>\n",
       "      <td>0.002599</td>\n",
       "      <td>0.026616</td>\n",
       "      <td>0.003207</td>\n",
       "      <td>0.004311</td>\n",
       "      <td>0.010198</td>\n",
       "      <td>0.002947</td>\n",
       "      <td>0.002231</td>\n",
       "      <td>0.001998</td>\n",
       "      <td>0.049860</td>\n",
       "      <td>0.462053</td>\n",
       "      <td>0.393465</td>\n",
       "      <td>0.025060</td>\n",
       "      <td>0.005189</td>\n",
       "      <td>0.010268</td>\n",
       "      <td>26</td>\n",
       "    </tr>\n",
       "    <tr>\n",
       "      <th>1</th>\n",
       "      <td>fashion_test\\0001962ef76356a9168cd3098002851c.jpg</td>\n",
       "      <td>0.007354</td>\n",
       "      <td>0.047755</td>\n",
       "      <td>0.003354</td>\n",
       "      <td>0.022887</td>\n",
       "      <td>0.006233</td>\n",
       "      <td>0.005885</td>\n",
       "      <td>0.000382</td>\n",
       "      <td>0.004440</td>\n",
       "      <td>0.795491</td>\n",
       "      <td>0.086412</td>\n",
       "      <td>0.010501</td>\n",
       "      <td>0.002277</td>\n",
       "      <td>0.001965</td>\n",
       "      <td>0.005064</td>\n",
       "      <td>25</td>\n",
       "    </tr>\n",
       "    <tr>\n",
       "      <th>2</th>\n",
       "      <td>fashion_test\\0002a0499445c2828b401ad871199c02.jpg</td>\n",
       "      <td>0.006748</td>\n",
       "      <td>0.074415</td>\n",
       "      <td>0.004363</td>\n",
       "      <td>0.007021</td>\n",
       "      <td>0.007290</td>\n",
       "      <td>0.005934</td>\n",
       "      <td>0.000474</td>\n",
       "      <td>0.028393</td>\n",
       "      <td>0.607281</td>\n",
       "      <td>0.182349</td>\n",
       "      <td>0.016107</td>\n",
       "      <td>0.008818</td>\n",
       "      <td>0.015943</td>\n",
       "      <td>0.034863</td>\n",
       "      <td>25</td>\n",
       "    </tr>\n",
       "    <tr>\n",
       "      <th>3</th>\n",
       "      <td>fashion_test\\0002cff2fe0c248e758eafe094e2006d.jpg</td>\n",
       "      <td>0.006911</td>\n",
       "      <td>0.011398</td>\n",
       "      <td>0.000736</td>\n",
       "      <td>0.001386</td>\n",
       "      <td>0.001483</td>\n",
       "      <td>0.000659</td>\n",
       "      <td>0.000157</td>\n",
       "      <td>0.005019</td>\n",
       "      <td>0.605978</td>\n",
       "      <td>0.269914</td>\n",
       "      <td>0.043375</td>\n",
       "      <td>0.003732</td>\n",
       "      <td>0.016709</td>\n",
       "      <td>0.032542</td>\n",
       "      <td>25</td>\n",
       "    </tr>\n",
       "    <tr>\n",
       "      <th>4</th>\n",
       "      <td>fashion_test\\0002e6cb7533eb7d8c71a639b53f0545.jpg</td>\n",
       "      <td>0.002108</td>\n",
       "      <td>0.001908</td>\n",
       "      <td>0.000549</td>\n",
       "      <td>0.000059</td>\n",
       "      <td>0.000072</td>\n",
       "      <td>0.000076</td>\n",
       "      <td>0.000038</td>\n",
       "      <td>0.000861</td>\n",
       "      <td>0.019843</td>\n",
       "      <td>0.895731</td>\n",
       "      <td>0.026775</td>\n",
       "      <td>0.000426</td>\n",
       "      <td>0.003842</td>\n",
       "      <td>0.047711</td>\n",
       "      <td>26</td>\n",
       "    </tr>\n",
       "  </tbody>\n",
       "</table>\n",
       "</div>"
      ],
      "text/plain": [
       "                                          image_path        17        18  \\\n",
       "0  fashion_test\\000006831bfaf0e3b5ce3564a10e6dd4.jpg  0.002599  0.026616   \n",
       "1  fashion_test\\0001962ef76356a9168cd3098002851c.jpg  0.007354  0.047755   \n",
       "2  fashion_test\\0002a0499445c2828b401ad871199c02.jpg  0.006748  0.074415   \n",
       "3  fashion_test\\0002cff2fe0c248e758eafe094e2006d.jpg  0.006911  0.011398   \n",
       "4  fashion_test\\0002e6cb7533eb7d8c71a639b53f0545.jpg  0.002108  0.001908   \n",
       "\n",
       "         19        20        21        22        23        24        25  \\\n",
       "0  0.003207  0.004311  0.010198  0.002947  0.002231  0.001998  0.049860   \n",
       "1  0.003354  0.022887  0.006233  0.005885  0.000382  0.004440  0.795491   \n",
       "2  0.004363  0.007021  0.007290  0.005934  0.000474  0.028393  0.607281   \n",
       "3  0.000736  0.001386  0.001483  0.000659  0.000157  0.005019  0.605978   \n",
       "4  0.000549  0.000059  0.000072  0.000076  0.000038  0.000861  0.019843   \n",
       "\n",
       "         26        27        28        29        30 final_pred  \n",
       "0  0.462053  0.393465  0.025060  0.005189  0.010268         26  \n",
       "1  0.086412  0.010501  0.002277  0.001965  0.005064         25  \n",
       "2  0.182349  0.016107  0.008818  0.015943  0.034863         25  \n",
       "3  0.269914  0.043375  0.003732  0.016709  0.032542         25  \n",
       "4  0.895731  0.026775  0.000426  0.003842  0.047711         26  "
      ]
     },
     "execution_count": 308,
     "metadata": {},
     "output_type": "execute_result"
    },
    {
     "name": "stderr",
     "output_type": "stream",
     "text": [
      "C:\\Users\\user\\Anaconda3\\envs\\fastai\\lib\\site-packages\\tqdm\\_monitor.py:89: TqdmSynchronisationWarning: Set changed size during iteration (see https://github.com/tqdm/tqdm/issues/481)\n",
      "  TqdmSynchronisationWarning)\n"
     ]
    }
   ],
   "source": [
    "df_fashion.head()"
   ]
  },
  {
   "cell_type": "code",
   "execution_count": 314,
   "metadata": {},
   "outputs": [
    {
     "name": "stderr",
     "output_type": "stream",
     "text": [
      "C:\\Users\\user\\Anaconda3\\envs\\fastai\\lib\\site-packages\\tqdm\\_monitor.py:89: TqdmSynchronisationWarning: Set changed size during iteration (see https://github.com/tqdm/tqdm/issues/481)\n",
      "  TqdmSynchronisationWarning)\n"
     ]
    }
   ],
   "source": [
    "df_fashion.loc[:,'image_path']=df_fashion['image_path'].map(lambda x: x[13:])"
   ]
  },
  {
   "cell_type": "code",
   "execution_count": 315,
   "metadata": {
    "scrolled": true
   },
   "outputs": [
    {
     "data": {
      "text/html": [
       "<div>\n",
       "<style scoped>\n",
       "    .dataframe tbody tr th:only-of-type {\n",
       "        vertical-align: middle;\n",
       "    }\n",
       "\n",
       "    .dataframe tbody tr th {\n",
       "        vertical-align: top;\n",
       "    }\n",
       "\n",
       "    .dataframe thead th {\n",
       "        text-align: right;\n",
       "    }\n",
       "</style>\n",
       "<table border=\"1\" class=\"dataframe\">\n",
       "  <thead>\n",
       "    <tr style=\"text-align: right;\">\n",
       "      <th></th>\n",
       "      <th>itemid</th>\n",
       "      <th>title</th>\n",
       "      <th>image_path</th>\n",
       "      <th>Group</th>\n",
       "    </tr>\n",
       "  </thead>\n",
       "  <tbody>\n",
       "    <tr>\n",
       "      <th>76545</th>\n",
       "      <td>670968580</td>\n",
       "      <td>women casual o neck long sleeve lace patchwork...</td>\n",
       "      <td>b0ca9645c5c3527882d935f17b4c9579.jpg</td>\n",
       "      <td>fashion</td>\n",
       "    </tr>\n",
       "    <tr>\n",
       "      <th>76546</th>\n",
       "      <td>475599610</td>\n",
       "      <td>zaful long dress vintage wanita v neck lengan ...</td>\n",
       "      <td>c74af2636e9fe2686981decce3ca5b6c.jpg</td>\n",
       "      <td>fashion</td>\n",
       "    </tr>\n",
       "    <tr>\n",
       "      <th>76547</th>\n",
       "      <td>1652671018</td>\n",
       "      <td>dress skater swing o neck tanpa lengan desain ...</td>\n",
       "      <td>1f2a2d91f5eb2d80f1dfdcf0b1f50169.jpg</td>\n",
       "      <td>fashion</td>\n",
       "    </tr>\n",
       "    <tr>\n",
       "      <th>76548</th>\n",
       "      <td>1705634904</td>\n",
       "      <td>ok dress slim sexy deep v neck lengan panjang ...</td>\n",
       "      <td>fdb6309635ebb5eac5df9c61984ffce5.jpg</td>\n",
       "      <td>fashion</td>\n",
       "    </tr>\n",
       "    <tr>\n",
       "      <th>76549</th>\n",
       "      <td>1789421087</td>\n",
       "      <td>noa korean lace embroidery womens crew neck lo...</td>\n",
       "      <td>578e5c74e97128cd25378ef0f0c021cf.jpg</td>\n",
       "      <td>fashion</td>\n",
       "    </tr>\n",
       "  </tbody>\n",
       "</table>\n",
       "</div>"
      ],
      "text/plain": [
       "           itemid                                              title  \\\n",
       "76545   670968580  women casual o neck long sleeve lace patchwork...   \n",
       "76546   475599610  zaful long dress vintage wanita v neck lengan ...   \n",
       "76547  1652671018  dress skater swing o neck tanpa lengan desain ...   \n",
       "76548  1705634904  ok dress slim sexy deep v neck lengan panjang ...   \n",
       "76549  1789421087  noa korean lace embroidery womens crew neck lo...   \n",
       "\n",
       "                                 image_path    Group  \n",
       "76545  b0ca9645c5c3527882d935f17b4c9579.jpg  fashion  \n",
       "76546  c74af2636e9fe2686981decce3ca5b6c.jpg  fashion  \n",
       "76547  1f2a2d91f5eb2d80f1dfdcf0b1f50169.jpg  fashion  \n",
       "76548  fdb6309635ebb5eac5df9c61984ffce5.jpg  fashion  \n",
       "76549  578e5c74e97128cd25378ef0f0c021cf.jpg  fashion  "
      ]
     },
     "execution_count": 315,
     "metadata": {},
     "output_type": "execute_result"
    },
    {
     "name": "stderr",
     "output_type": "stream",
     "text": [
      "C:\\Users\\user\\Anaconda3\\envs\\fastai\\lib\\site-packages\\tqdm\\_monitor.py:89: TqdmSynchronisationWarning: Set changed size during iteration (see https://github.com/tqdm/tqdm/issues/481)\n",
      "  TqdmSynchronisationWarning)\n"
     ]
    }
   ],
   "source": [
    "df_test[df_test.Group=='fashion'].head()"
   ]
  },
  {
   "cell_type": "code",
   "execution_count": 316,
   "metadata": {
    "scrolled": true
   },
   "outputs": [
    {
     "name": "stderr",
     "output_type": "stream",
     "text": [
      "C:\\Users\\user\\Anaconda3\\envs\\fastai\\lib\\site-packages\\tqdm\\_monitor.py:89: TqdmSynchronisationWarning: Set changed size during iteration (see https://github.com/tqdm/tqdm/issues/481)\n",
      "  TqdmSynchronisationWarning)\n"
     ]
    }
   ],
   "source": [
    "df_val=df_test[df_test.Group=='fashion'][['itemid','image_path']].merge(df_fashion,on='image_path')\n",
    "df_val.set_index('itemid',inplace=True)\n",
    "df_val=df_val.loc[df_test[df_test.Group=='fashion'].itemid,:]\n",
    "df_val.reset_index(inplace=True)\n",
    "df_val.to_csv('test_all_fashion_v2.csv')"
   ]
  },
  {
   "cell_type": "code",
   "execution_count": null,
   "metadata": {},
   "outputs": [],
   "source": []
  },
  {
   "cell_type": "code",
   "execution_count": null,
   "metadata": {},
   "outputs": [],
   "source": []
  },
  {
   "cell_type": "code",
   "execution_count": null,
   "metadata": {},
   "outputs": [],
   "source": []
  },
  {
   "cell_type": "code",
   "execution_count": 201,
   "metadata": {},
   "outputs": [],
   "source": [
    "# Now, everything is good. We can Save all of thee files\n",
    "\n",
    "df_beauty.to_csv('val_beauty.csv',index=False)\n",
    "df_mobile.to_csv('val_mobile.csv',index=False)\n",
    "df_fashion.to_csv('val_fashion.csv',index=False)"
   ]
  },
  {
   "cell_type": "code",
   "execution_count": 202,
   "metadata": {},
   "outputs": [],
   "source": [
    "# Let's get predictioons for test samples\n",
    "test_beauty=learn_beauty.predict(is_test=True)\n",
    "test_mobile=learn_mobile.predict(is_test=True)\n",
    "test_fashion=learn_fashion.predict(is_test=True)"
   ]
  },
  {
   "cell_type": "code",
   "execution_count": 204,
   "metadata": {
    "scrolled": true
   },
   "outputs": [],
   "source": [
    "#Let's change logits to probabilites\n",
    "test_beauty=np.exp(test_beauty)\n",
    "test_mobile=np.exp(test_mobile)\n",
    "test_fashion=np.exp(test_fashion)\n"
   ]
  },
  {
   "cell_type": "code",
   "execution_count": 205,
   "metadata": {},
   "outputs": [],
   "source": [
    "# get indexes of validation set\n",
    "test_idx_beauty=data_beauty.test_ds.fnames\n",
    "test_idx_mobile=data_mobile.test_ds.fnames\n",
    "test_idx_fashion=data_fashion.test_ds.fnames\n"
   ]
  },
  {
   "cell_type": "code",
   "execution_count": 210,
   "metadata": {},
   "outputs": [],
   "source": [
    "df_beauty_test=pd.DataFrame()\n",
    "df_beauty_test['image_path']=test_idx_beauty\n",
    "df_pred=pd.DataFrame(test_beauty)\n",
    "df_pred.columns=cat_beauty\n",
    "df_beauty_test=pd.concat([df_beauty_test,df_pred],axis=1)\n",
    "df_beauty_test['pred']=df_beauty_test.iloc[:,1:].idxmax(axis=1)\n"
   ]
  },
  {
   "cell_type": "code",
   "execution_count": 213,
   "metadata": {},
   "outputs": [],
   "source": [
    "df_mobile_test=pd.DataFrame()\n",
    "df_mobile_test['image_path']=test_idx_mobile\n",
    "df_pred=pd.DataFrame(test_mobile)\n",
    "df_pred.columns=cat_mobile\n",
    "df_mobile_test=pd.concat([df_mobile_test,df_pred],axis=1)\n",
    "df_mobile_test['pred']=df_mobile_test.iloc[:,1:].idxmax(axis=1)"
   ]
  },
  {
   "cell_type": "code",
   "execution_count": 215,
   "metadata": {},
   "outputs": [],
   "source": [
    "df_fashion_test=pd.DataFrame()\n",
    "df_fashion_test['image_path']=test_idx_fashion\n",
    "df_pred=pd.DataFrame(test_fashion)\n",
    "df_pred.columns=cat_fashion\n",
    "df_fashion_test=pd.concat([df_fashion_test,df_pred],axis=1)\n",
    "df_fashion_test['pred']=df_fashion_test.iloc[:,1:].idxmax(axis=1)"
   ]
  },
  {
   "cell_type": "code",
   "execution_count": 217,
   "metadata": {},
   "outputs": [
    {
     "data": {
      "text/html": [
       "<div>\n",
       "<style scoped>\n",
       "    .dataframe tbody tr th:only-of-type {\n",
       "        vertical-align: middle;\n",
       "    }\n",
       "\n",
       "    .dataframe tbody tr th {\n",
       "        vertical-align: top;\n",
       "    }\n",
       "\n",
       "    .dataframe thead th {\n",
       "        text-align: right;\n",
       "    }\n",
       "</style>\n",
       "<table border=\"1\" class=\"dataframe\">\n",
       "  <thead>\n",
       "    <tr style=\"text-align: right;\">\n",
       "      <th></th>\n",
       "      <th>image_path</th>\n",
       "      <th>17</th>\n",
       "      <th>18</th>\n",
       "      <th>19</th>\n",
       "      <th>20</th>\n",
       "      <th>21</th>\n",
       "      <th>22</th>\n",
       "      <th>23</th>\n",
       "      <th>24</th>\n",
       "      <th>25</th>\n",
       "      <th>26</th>\n",
       "      <th>27</th>\n",
       "      <th>28</th>\n",
       "      <th>29</th>\n",
       "      <th>30</th>\n",
       "      <th>pred</th>\n",
       "    </tr>\n",
       "  </thead>\n",
       "  <tbody>\n",
       "    <tr>\n",
       "      <th>0</th>\n",
       "      <td>test\\000006831bfaf0e3b5ce3564a10e6dd4.jpg</td>\n",
       "      <td>0.000946</td>\n",
       "      <td>0.050849</td>\n",
       "      <td>0.003765</td>\n",
       "      <td>0.003177</td>\n",
       "      <td>0.021657</td>\n",
       "      <td>0.004581</td>\n",
       "      <td>0.000909</td>\n",
       "      <td>0.002561</td>\n",
       "      <td>0.057567</td>\n",
       "      <td>0.382240</td>\n",
       "      <td>0.217111</td>\n",
       "      <td>0.229911</td>\n",
       "      <td>0.004436</td>\n",
       "      <td>0.020290</td>\n",
       "      <td>26</td>\n",
       "    </tr>\n",
       "    <tr>\n",
       "      <th>1</th>\n",
       "      <td>test\\0001962ef76356a9168cd3098002851c.jpg</td>\n",
       "      <td>0.000434</td>\n",
       "      <td>0.001739</td>\n",
       "      <td>0.000092</td>\n",
       "      <td>0.001255</td>\n",
       "      <td>0.000315</td>\n",
       "      <td>0.000325</td>\n",
       "      <td>0.000005</td>\n",
       "      <td>0.000035</td>\n",
       "      <td>0.874401</td>\n",
       "      <td>0.108420</td>\n",
       "      <td>0.007087</td>\n",
       "      <td>0.002389</td>\n",
       "      <td>0.001860</td>\n",
       "      <td>0.001643</td>\n",
       "      <td>25</td>\n",
       "    </tr>\n",
       "    <tr>\n",
       "      <th>2</th>\n",
       "      <td>test\\0002a0499445c2828b401ad871199c02.jpg</td>\n",
       "      <td>0.001575</td>\n",
       "      <td>0.010341</td>\n",
       "      <td>0.000643</td>\n",
       "      <td>0.000313</td>\n",
       "      <td>0.000838</td>\n",
       "      <td>0.000396</td>\n",
       "      <td>0.000022</td>\n",
       "      <td>0.001580</td>\n",
       "      <td>0.768305</td>\n",
       "      <td>0.166349</td>\n",
       "      <td>0.031871</td>\n",
       "      <td>0.000635</td>\n",
       "      <td>0.001030</td>\n",
       "      <td>0.016101</td>\n",
       "      <td>25</td>\n",
       "    </tr>\n",
       "    <tr>\n",
       "      <th>3</th>\n",
       "      <td>test\\0002cff2fe0c248e758eafe094e2006d.jpg</td>\n",
       "      <td>0.008726</td>\n",
       "      <td>0.075359</td>\n",
       "      <td>0.028702</td>\n",
       "      <td>0.016549</td>\n",
       "      <td>0.003615</td>\n",
       "      <td>0.021170</td>\n",
       "      <td>0.000387</td>\n",
       "      <td>0.004302</td>\n",
       "      <td>0.198011</td>\n",
       "      <td>0.462284</td>\n",
       "      <td>0.098274</td>\n",
       "      <td>0.045979</td>\n",
       "      <td>0.025684</td>\n",
       "      <td>0.010957</td>\n",
       "      <td>26</td>\n",
       "    </tr>\n",
       "    <tr>\n",
       "      <th>4</th>\n",
       "      <td>test\\0002e6cb7533eb7d8c71a639b53f0545.jpg</td>\n",
       "      <td>0.005064</td>\n",
       "      <td>0.022101</td>\n",
       "      <td>0.012016</td>\n",
       "      <td>0.000943</td>\n",
       "      <td>0.000447</td>\n",
       "      <td>0.002340</td>\n",
       "      <td>0.000131</td>\n",
       "      <td>0.001222</td>\n",
       "      <td>0.090745</td>\n",
       "      <td>0.779530</td>\n",
       "      <td>0.060535</td>\n",
       "      <td>0.001804</td>\n",
       "      <td>0.008526</td>\n",
       "      <td>0.014597</td>\n",
       "      <td>26</td>\n",
       "    </tr>\n",
       "  </tbody>\n",
       "</table>\n",
       "</div>"
      ],
      "text/plain": [
       "                                  image_path        17        18        19  \\\n",
       "0  test\\000006831bfaf0e3b5ce3564a10e6dd4.jpg  0.000946  0.050849  0.003765   \n",
       "1  test\\0001962ef76356a9168cd3098002851c.jpg  0.000434  0.001739  0.000092   \n",
       "2  test\\0002a0499445c2828b401ad871199c02.jpg  0.001575  0.010341  0.000643   \n",
       "3  test\\0002cff2fe0c248e758eafe094e2006d.jpg  0.008726  0.075359  0.028702   \n",
       "4  test\\0002e6cb7533eb7d8c71a639b53f0545.jpg  0.005064  0.022101  0.012016   \n",
       "\n",
       "         20        21        22        23        24        25        26  \\\n",
       "0  0.003177  0.021657  0.004581  0.000909  0.002561  0.057567  0.382240   \n",
       "1  0.001255  0.000315  0.000325  0.000005  0.000035  0.874401  0.108420   \n",
       "2  0.000313  0.000838  0.000396  0.000022  0.001580  0.768305  0.166349   \n",
       "3  0.016549  0.003615  0.021170  0.000387  0.004302  0.198011  0.462284   \n",
       "4  0.000943  0.000447  0.002340  0.000131  0.001222  0.090745  0.779530   \n",
       "\n",
       "         27        28        29        30 pred  \n",
       "0  0.217111  0.229911  0.004436  0.020290   26  \n",
       "1  0.007087  0.002389  0.001860  0.001643   25  \n",
       "2  0.031871  0.000635  0.001030  0.016101   25  \n",
       "3  0.098274  0.045979  0.025684  0.010957   26  \n",
       "4  0.060535  0.001804  0.008526  0.014597   26  "
      ]
     },
     "execution_count": 217,
     "metadata": {},
     "output_type": "execute_result"
    }
   ],
   "source": [
    "df_fashion_test.head()"
   ]
  },
  {
   "cell_type": "code",
   "execution_count": 221,
   "metadata": {},
   "outputs": [],
   "source": [
    "# Remove test/ from path\n",
    "df_fashion_test['image_path']=df_fashion_test['image_path'].map(lambda x: x[5:])\n",
    "df_beauty_test['image_path']=df_beauty_test['image_path'].map(lambda x: x[5:])\n",
    "df_mobile_test['image_path']=df_mobile_test['image_path'].map(lambda x: x[5:])"
   ]
  },
  {
   "cell_type": "code",
   "execution_count": 223,
   "metadata": {},
   "outputs": [],
   "source": [
    "df_beauty_test.to_csv('test_beauty.csv',index=False)\n",
    "df_mobile_test.to_csv('test_mobile.csv',index=False)\n",
    "df_fashion_test.to_csv('test_fashion.csv',index=False)"
   ]
  },
  {
   "cell_type": "code",
   "execution_count": 229,
   "metadata": {},
   "outputs": [],
   "source": [
    "# Let's do our first submission with images only. Let's remove folders from path\n",
    "df_test.loc[(df_test.Group=='beauty_'),'image_path']=df_test.loc[(df_test.Group=='beauty_'),'image_path'].map(lambda x:x[13:])"
   ]
  },
  {
   "cell_type": "code",
   "execution_count": 232,
   "metadata": {},
   "outputs": [],
   "source": [
    "df_test.loc[(df_test.Group=='mobile_'),'image_path']=df_test.loc[(df_test.Group=='mobile_'),'image_path'].map(lambda x:x[13:])"
   ]
  },
  {
   "cell_type": "code",
   "execution_count": 235,
   "metadata": {},
   "outputs": [],
   "source": [
    "df_test.loc[(df_test.Group=='fashion'),'image_path']=df_test.loc[(df_test.Group=='fashion'),'image_path'].map(lambda x:x[14:])"
   ]
  },
  {
   "cell_type": "code",
   "execution_count": 244,
   "metadata": {},
   "outputs": [],
   "source": [
    "df=pd.concat([df_beauty_test,df_fashion_test,df_mobile_test],axis=0)\n",
    "df=df[['image_path','pred']]"
   ]
  },
  {
   "cell_type": "code",
   "execution_count": 245,
   "metadata": {},
   "outputs": [
    {
     "data": {
      "text/html": [
       "<div>\n",
       "<style scoped>\n",
       "    .dataframe tbody tr th:only-of-type {\n",
       "        vertical-align: middle;\n",
       "    }\n",
       "\n",
       "    .dataframe tbody tr th {\n",
       "        vertical-align: top;\n",
       "    }\n",
       "\n",
       "    .dataframe thead th {\n",
       "        text-align: right;\n",
       "    }\n",
       "</style>\n",
       "<table border=\"1\" class=\"dataframe\">\n",
       "  <thead>\n",
       "    <tr style=\"text-align: right;\">\n",
       "      <th></th>\n",
       "      <th>image_path</th>\n",
       "      <th>pred</th>\n",
       "    </tr>\n",
       "  </thead>\n",
       "  <tbody>\n",
       "    <tr>\n",
       "      <th>0</th>\n",
       "      <td>0000152e7d1cf21228cdd0e2e195aff8.jpg</td>\n",
       "      <td>12</td>\n",
       "    </tr>\n",
       "    <tr>\n",
       "      <th>1</th>\n",
       "      <td>00005d4b09cb3033698d9f1b98a9c04b.jpg</td>\n",
       "      <td>12</td>\n",
       "    </tr>\n",
       "    <tr>\n",
       "      <th>2</th>\n",
       "      <td>000136e7af78ea0dc0c4596c5b62b750.jpg</td>\n",
       "      <td>12</td>\n",
       "    </tr>\n",
       "    <tr>\n",
       "      <th>3</th>\n",
       "      <td>0001f92fdbbe7f630cf15ebb5b1c9b7d.jpg</td>\n",
       "      <td>12</td>\n",
       "    </tr>\n",
       "    <tr>\n",
       "      <th>4</th>\n",
       "      <td>0002021f41e1493e8cc7054fb30e048c.jpg</td>\n",
       "      <td>13</td>\n",
       "    </tr>\n",
       "  </tbody>\n",
       "</table>\n",
       "</div>"
      ],
      "text/plain": [
       "                             image_path pred\n",
       "0  0000152e7d1cf21228cdd0e2e195aff8.jpg   12\n",
       "1  00005d4b09cb3033698d9f1b98a9c04b.jpg   12\n",
       "2  000136e7af78ea0dc0c4596c5b62b750.jpg   12\n",
       "3  0001f92fdbbe7f630cf15ebb5b1c9b7d.jpg   12\n",
       "4  0002021f41e1493e8cc7054fb30e048c.jpg   13"
      ]
     },
     "execution_count": 245,
     "metadata": {},
     "output_type": "execute_result"
    }
   ],
   "source": [
    "df.head()"
   ]
  },
  {
   "cell_type": "code",
   "execution_count": 249,
   "metadata": {},
   "outputs": [],
   "source": [
    "df_sub=df_test.merge(df,on='image_path')[['itemid','pred']]"
   ]
  },
  {
   "cell_type": "code",
   "execution_count": 254,
   "metadata": {},
   "outputs": [],
   "source": [
    "df_sub.columns=['itemid','Category']"
   ]
  },
  {
   "cell_type": "code",
   "execution_count": 255,
   "metadata": {},
   "outputs": [],
   "source": [
    "#LB: 0.59715\n",
    "df_sub.to_csv('image_classification_1.csv',index=False)"
   ]
  },
  {
   "cell_type": "code",
   "execution_count": 60,
   "metadata": {},
   "outputs": [
    {
     "data": {
      "text/plain": [
       "0.5250904622106916"
      ]
     },
     "execution_count": 60,
     "metadata": {},
     "output_type": "execute_result"
    }
   ],
   "source": [
    "accuracy_np(probs, y)"
   ]
  },
  {
   "cell_type": "markdown",
   "metadata": {},
   "source": [
    "# I tried to train with augumentation several times until validation accuracy reaches min value . But it turns out that accuracy doesn't improve in that case. Using original code seems to give best results. Let's save this results for now. Later we will try other architectures such as resnet50 and vgg16 and etc."
   ]
  },
  {
   "cell_type": "markdown",
   "metadata": {
    "hidden": true
   },
   "source": [
    "I generally see about a 10-20% reduction in error on this dataset when using TTA at this point, which is an amazing result for such a quick and easy technique!"
   ]
  },
  {
   "cell_type": "code",
   "execution_count": null,
   "metadata": {},
   "outputs": [],
   "source": []
  },
  {
   "cell_type": "markdown",
   "metadata": {},
   "source": [
    "## Analyzing results"
   ]
  },
  {
   "cell_type": "markdown",
   "metadata": {
    "heading_collapsed": true
   },
   "source": [
    "### Confusion matrix "
   ]
  },
  {
   "cell_type": "code",
   "execution_count": 49,
   "metadata": {
    "hidden": true
   },
   "outputs": [],
   "source": [
    "preds = np.argmax(probs, axis=1)\n",
    "probs = probs[:,1]"
   ]
  },
  {
   "cell_type": "markdown",
   "metadata": {
    "hidden": true
   },
   "source": [
    "A common way to analyze the result of a classification model is to use a [confusion matrix](http://www.dataschool.io/simple-guide-to-confusion-matrix-terminology/). Scikit-learn has a convenient function we can use for this purpose:"
   ]
  },
  {
   "cell_type": "code",
   "execution_count": 50,
   "metadata": {
    "hidden": true
   },
   "outputs": [],
   "source": [
    "from sklearn.metrics import confusion_matrix\n",
    "cm = confusion_matrix(y, preds)"
   ]
  },
  {
   "cell_type": "markdown",
   "metadata": {
    "hidden": true
   },
   "source": [
    "We can just print out the confusion matrix, or we can show a graphical view (which is mainly useful for dependents with a larger number of categories)."
   ]
  },
  {
   "cell_type": "code",
   "execution_count": 51,
   "metadata": {
    "hidden": true,
    "scrolled": true
   },
   "outputs": [
    {
     "name": "stdout",
     "output_type": "stream",
     "text": [
      "[[   2  218  112   40    0    5    2    0   73   65   26    9    1    0]\n",
      " [   0 8971  456  902   50  114   26    9  300  337   85   58   11    0]\n",
      " [   0 1217  976  319   16   29   28    2   20   76    8    6    2    0]\n",
      " [   1 1704  261 1863    7   12   19    0   40   72    6    8    3    0]\n",
      " [   1 1648   65  177   61   19    8    4   46   48   11    6    3    0]\n",
      " [   1 2439  152  165   10  169    1    2   42   45    3   13    3    0]\n",
      " [   0   61   51   49    2    0  161    0    2    7    0    0    1    0]\n",
      " [   0  527   31  186    4    8    1   25   23   33    9    3    0    0]\n",
      " [   0  360    3   20    0    4    0    0 4895 1180  119  140   63    0]\n",
      " [   0  644   51   70    1   13    1    1 1238 4019  506  174   51    0]\n",
      " [   1  267   10    9    0    0    0    0  496 1254 1150   32   21    0]\n",
      " [   2  191    9   15    0    2    1    0  141  203    6  667   62    0]\n",
      " [   0   81    2    3    0    1    0    0  145  141    4  121  170    0]\n",
      " [   0   56    2    3    0    0    0    0   70  117   31    8    1    0]]\n"
     ]
    },
    {
     "data": {
      "image/png": "[encoded data removed]",
      "text/plain": [
       "<Figure size 432x288 with 2 Axes>"
      ]
     },
     "metadata": {},
     "output_type": "display_data"
    }
   ],
   "source": [
    "plot_confusion_matrix(cm, data.classes)"
   ]
  },
  {
   "cell_type": "markdown",
   "metadata": {},
   "source": [
    "### it seems that accuracy for category 30 is zero. There is no prediction for accuracy 30. Error is quite high\n"
   ]
  },
  {
   "cell_type": "markdown",
   "metadata": {
    "heading_collapsed": true
   },
   "source": [
    "### Looking at pictures again"
   ]
  },
  {
   "cell_type": "code",
   "execution_count": 54,
   "metadata": {},
   "outputs": [
    {
     "name": "stdout",
     "output_type": "stream",
     "text": [
      "Object `plot_val_with_title` not found.\n"
     ]
    }
   ],
   "source": [
    "?plot_val_with_title"
   ]
  },
  {
   "cell_type": "code",
   "execution_count": 52,
   "metadata": {
    "hidden": true,
    "scrolled": true
   },
   "outputs": [
    {
     "ename": "NameError",
     "evalue": "name 'plot_val_with_title' is not defined",
     "output_type": "error",
     "traceback": [
      "\u001b[1;31m---------------------------------------------------------------------------\u001b[0m",
      "\u001b[1;31mNameError\u001b[0m                                 Traceback (most recent call last)",
      "\u001b[1;32m<ipython-input-52-9ee8f12b4033>\u001b[0m in \u001b[0;36m<module>\u001b[1;34m()\u001b[0m\n\u001b[1;32m----> 1\u001b[1;33m \u001b[0mplot_val_with_title\u001b[0m\u001b[1;33m(\u001b[0m\u001b[0mmost_by_correct\u001b[0m\u001b[1;33m(\u001b[0m\u001b[1;36m0\u001b[0m\u001b[1;33m,\u001b[0m \u001b[1;32mFalse\u001b[0m\u001b[1;33m)\u001b[0m\u001b[1;33m,\u001b[0m \u001b[1;34m\"Most incorrect cow\"\u001b[0m\u001b[1;33m)\u001b[0m\u001b[1;33m\u001b[0m\u001b[0m\n\u001b[0m",
      "\u001b[1;31mNameError\u001b[0m: name 'plot_val_with_title' is not defined"
     ]
    }
   ],
   "source": [
    "plot_val_with_title(most_by_correct(0, False), \"Most incorrect cow\")"
   ]
  },
  {
   "cell_type": "code",
   "execution_count": 53,
   "metadata": {
    "hidden": true
   },
   "outputs": [
    {
     "ename": "NameError",
     "evalue": "name 'plot_val_with_title' is not defined",
     "output_type": "error",
     "traceback": [
      "\u001b[1;31m---------------------------------------------------------------------------\u001b[0m",
      "\u001b[1;31mNameError\u001b[0m                                 Traceback (most recent call last)",
      "\u001b[1;32m<ipython-input-53-8d181832589b>\u001b[0m in \u001b[0;36m<module>\u001b[1;34m()\u001b[0m\n\u001b[1;32m----> 1\u001b[1;33m \u001b[0mplot_val_with_title\u001b[0m\u001b[1;33m(\u001b[0m\u001b[0mmost_by_correct\u001b[0m\u001b[1;33m(\u001b[0m\u001b[1;36m1\u001b[0m\u001b[1;33m,\u001b[0m \u001b[1;32mFalse\u001b[0m\u001b[1;33m)\u001b[0m\u001b[1;33m,\u001b[0m \u001b[1;34m\"Most incorrect sheep\"\u001b[0m\u001b[1;33m)\u001b[0m\u001b[1;33m\u001b[0m\u001b[0m\n\u001b[0m",
      "\u001b[1;31mNameError\u001b[0m: name 'plot_val_with_title' is not defined"
     ]
    }
   ],
   "source": [
    "plot_val_with_title(most_by_correct(1, False), \"Most incorrect sheep\")"
   ]
  },
  {
   "cell_type": "markdown",
   "metadata": {
    "heading_collapsed": true
   },
   "source": [
    "## Review: easy steps to train a world-class image classifier"
   ]
  },
  {
   "cell_type": "markdown",
   "metadata": {
    "hidden": true
   },
   "source": [
    "1. Enable data augmentation, and precompute=True\n",
    "1. Use `lr_find()` to find highest learning rate where loss is still clearly improving\n",
    "1. Train last layer from precomputed activations for 1-2 epochs\n",
    "1. Train last layer with data augmentation (i.e. precompute=False) for 2-3 epochs with cycle_len=1\n",
    "1. Unfreeze all layers\n",
    "1. Set earlier layers to 3x-10x lower learning rate than next higher layer\n",
    "1. Use `lr_find()` again\n",
    "1. Train full network with cycle_mult=2 until over-fitting"
   ]
  },
  {
   "cell_type": "markdown",
   "metadata": {
    "heading_collapsed": true
   },
   "source": [
    "## Understanding the code for our first model"
   ]
  },
  {
   "cell_type": "markdown",
   "metadata": {
    "hidden": true
   },
   "source": [
    "Let's look at the Dogs v Cats code line by line.\n",
    "\n",
    "**tfms** stands for *transformations*. `tfms_from_model` takes care of resizing, image cropping, initial normalization (creating data with (mean,stdev) of (0,1)), and more."
   ]
  },
  {
   "cell_type": "code",
   "execution_count": 114,
   "metadata": {
    "hidden": true,
    "scrolled": true
   },
   "outputs": [],
   "source": [
    "tfms = tfms_from_model(resnet34, sz)"
   ]
  },
  {
   "cell_type": "markdown",
   "metadata": {
    "hidden": true
   },
   "source": [
    "We need a <b>path</b> that points to the dataset. In this path we will also store temporary data and final results. `ImageClassifierData.from_paths` reads data from a provided path and creates a dataset ready for training."
   ]
  },
  {
   "cell_type": "code",
   "execution_count": 115,
   "metadata": {
    "hidden": true
   },
   "outputs": [],
   "source": [
    "data = ImageClassifierData.from_paths(PATH, tfms=tfms)"
   ]
  },
  {
   "cell_type": "markdown",
   "metadata": {
    "hidden": true
   },
   "source": [
    "`ConvLearner.pretrained` builds *learner* that contains a pre-trained model. The last layer of the model needs to be replaced with the layer of the right dimensions. The pretained model was trained for 1000 classes therfore the final layer predicts a vector of 1000 probabilities. The model for cats and dogs needs to output a two dimensional vector. The diagram below shows in an example how this was done in one of the earliest successful CNNs. The layer \"FC8\" here would get replaced with a new layer with 2 outputs.\n",
    "\n",
    "<img src=\"images/pretrained.png\" width=\"500\">\n",
    "[original image](https://image.slidesharecdn.com/practicaldeeplearning-160329181459/95/practical-deep-learning-16-638.jpg)"
   ]
  },
  {
   "cell_type": "code",
   "execution_count": 116,
   "metadata": {
    "hidden": true
   },
   "outputs": [],
   "source": [
    "learn = ConvLearner.pretrained(resnet34, data, precompute=True)"
   ]
  },
  {
   "cell_type": "markdown",
   "metadata": {
    "hidden": true
   },
   "source": [
    "*Parameters*  are learned by fitting a model to the data. *Hyparameters* are another kind of parameter, that cannot be directly learned from the regular training process. These parameters express “higher-level” properties of the model such as its complexity or how fast it should learn. Two examples of hyperparameters are the *learning rate* and the *number of epochs*.\n",
    "\n",
    "During iterative training of a neural network, a *batch* or *mini-batch* is a subset of training samples used in one iteration of Stochastic Gradient Descent (SGD). An *epoch* is a single pass through the entire training set which consists of multiple iterations of SGD.\n",
    "\n",
    "We can now *fit* the model; that is, use *gradient descent* to find the best parameters for the fully connected layer we added, that can separate cat pictures from dog pictures. We need to pass two hyperameters: the *learning rate* (generally 1e-2 or 1e-3 is a good starting point, we'll look more at this next) and the *number of epochs* (you can pass in a higher number and just stop training when you see it's no longer improving, then re-run it with the number of epochs you found works well.)"
   ]
  },
  {
   "cell_type": "code",
   "execution_count": 117,
   "metadata": {
    "hidden": true
   },
   "outputs": [
    {
     "data": {
      "application/vnd.jupyter.widget-view+json": {
       "model_id": "f993a59c256f4e82a85b10cb3d280722",
       "version_major": 2,
       "version_minor": 0
      },
      "text/plain": [
       "HBox(children=(IntProgress(value=0, description='Epoch', max=1), HTML(value='')))"
      ]
     },
     "metadata": {},
     "output_type": "display_data"
    },
    {
     "name": "stdout",
     "output_type": "stream",
     "text": [
      "epoch      trn_loss   val_loss   accuracy                                                                              \n",
      "    0      0.046303   0.026076   0.989     \n",
      "\n"
     ]
    },
    {
     "data": {
      "text/plain": [
       "[array([0.02608]), 0.989]"
      ]
     },
     "execution_count": 117,
     "metadata": {},
     "output_type": "execute_result"
    }
   ],
   "source": [
    "learn.fit(1e-2, 1)"
   ]
  },
  {
   "cell_type": "markdown",
   "metadata": {
    "heading_collapsed": true
   },
   "source": [
    "## Analyzing results: loss and accuracy"
   ]
  },
  {
   "cell_type": "markdown",
   "metadata": {
    "hidden": true
   },
   "source": [
    "When we run `learn.fit` we print 3 performance values (see above.) Here 0.03 is the value of the **loss** in the training set, 0.0226 is the value of the loss in the validation set and 0.9927 is the validation accuracy. What is the loss? What is accuracy? Why not to just show accuracy?\n",
    "\n",
    "**Accuracy** is the ratio of correct prediction to the total number of predictions.\n",
    "\n",
    "In machine learning the **loss** function or cost function is representing the price paid for inaccuracy of predictions.\n",
    "\n",
    "The loss associated with one example in binary classification is given by:\n",
    "`-(y * log(p) + (1-y) * log (1-p))`\n",
    "where `y` is the true label of `x` and `p` is the probability predicted by our model that the label is 1."
   ]
  },
  {
   "cell_type": "code",
   "execution_count": 118,
   "metadata": {
    "hidden": true
   },
   "outputs": [],
   "source": [
    "def binary_loss(y, p):\n",
    "    return np.mean(-(y * np.log(p) + (1-y)*np.log(1-p)))"
   ]
  },
  {
   "cell_type": "code",
   "execution_count": 119,
   "metadata": {
    "hidden": true
   },
   "outputs": [
    {
     "data": {
      "text/plain": [
       "0.164252033486018"
      ]
     },
     "execution_count": 119,
     "metadata": {},
     "output_type": "execute_result"
    }
   ],
   "source": [
    "acts = np.array([1, 0, 0, 1])\n",
    "preds = np.array([0.9, 0.1, 0.2, 0.8])\n",
    "binary_loss(acts, preds)"
   ]
  },
  {
   "cell_type": "markdown",
   "metadata": {
    "hidden": true
   },
   "source": [
    "Note that in our toy example above our accuracy is 100% and our loss is 0.16. Compare that to a loss of 0.03 that we are getting while predicting cats and dogs. Exercise: play with `preds` to get a lower loss for this example. \n",
    "\n",
    "**Example:** Here is an example on how to compute the loss for one example of binary classification problem. Suppose for an image x with label 1 and your model gives it a prediction of 0.9. For this case the loss should be small because our model is predicting a label $1$ with high probability.\n",
    "\n",
    "`loss = -log(0.9) = 0.10`\n",
    "\n",
    "Now suppose x has label 0 but our model is predicting 0.9. In this case our loss should be much larger.\n",
    "\n",
    "loss = -log(1-0.9) = 2.30\n",
    "\n",
    "- Exercise: look at the other cases and convince yourself that this make sense.\n",
    "- Exercise: how would you rewrite `binary_loss` using `if` instead of `*` and `+`?\n",
    "\n",
    "Why not just maximize accuracy? The binary classification loss is an easier function to optimize."
   ]
  },
  {
   "cell_type": "code",
   "execution_count": null,
   "metadata": {
    "collapsed": true,
    "hidden": true
   },
   "outputs": [],
   "source": []
  }
 ],
 "metadata": {
  "kernelspec": {
   "display_name": "Python 3",
   "language": "python",
   "name": "python3"
  },
  "language_info": {
   "codemirror_mode": {
    "name": "ipython",
    "version": 3
   },
   "file_extension": ".py",
   "mimetype": "text/x-python",
   "name": "python",
   "nbconvert_exporter": "python",
   "pygments_lexer": "ipython3",
   "version": "3.6.4"
  },
  "toc": {
   "colors": {
    "hover_highlight": "#DAA520",
    "navigate_num": "#000000",
    "navigate_text": "#333333",
    "running_highlight": "#FF0000",
    "selected_highlight": "#FFD700",
    "sidebar_border": "#EEEEEE",
    "wrapper_background": "#FFFFFF"
   },
   "moveMenuLeft": true,
   "nav_menu": {
    "height": "266px",
    "width": "252px"
   },
   "navigate_menu": true,
   "number_sections": true,
   "sideBar": true,
   "threshold": 4,
   "toc_cell": false,
   "toc_section_display": "block",
   "toc_window_display": false,
   "widenNotebook": false
  }
 },
 "nbformat": 4,
 "nbformat_minor": 2
}
