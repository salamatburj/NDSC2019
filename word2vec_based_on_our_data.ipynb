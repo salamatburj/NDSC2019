{
 "cells": [
  {
   "cell_type": "code",
   "execution_count": 5,
   "metadata": {},
   "outputs": [],
   "source": [
    "\n",
    "\n",
    "import numpy as np # linear algebra\n",
    "import pandas as pd # data processing, CSV file I/O (e.g. pd.read_csv)\n",
    "from sklearn.model_selection import train_test_split\n",
    "\n",
    "\n",
    "\n",
    "\n",
    "import sys\n",
    "import numpy as np\n",
    "import pandas as pd\n",
    "import matplotlib.pyplot as plt\n",
    "\n",
    "\n",
    "from sklearn.ensemble import ExtraTreesClassifier, RandomForestClassifier\n",
    "from gensim.models import KeyedVectors, Word2Vec"
   ]
  },
  {
   "cell_type": "code",
   "execution_count": 3,
   "metadata": {},
   "outputs": [],
   "source": [
    "df_train=pd.read_csv('train.csv')\n",
    "df_test=pd.read_csv('test.csv')"
   ]
  },
  {
   "cell_type": "code",
   "execution_count": 15,
   "metadata": {},
   "outputs": [],
   "source": [
    "titles_train=df_train.title.values\n",
    "titles_test=df_test.title.values"
   ]
  },
  {
   "cell_type": "code",
   "execution_count": 16,
   "metadata": {},
   "outputs": [],
   "source": [
    "titles=list(titles_train)+list(titles_test)"
   ]
  },
  {
   "cell_type": "code",
   "execution_count": 21,
   "metadata": {},
   "outputs": [],
   "source": [
    "# Simple tokenize\n",
    "titles_list=[sentence.split() for sentence in titles]"
   ]
  },
  {
   "cell_type": "code",
   "execution_count": 24,
   "metadata": {},
   "outputs": [],
   "source": [
    "ownvec=Word2Vec(titles_list, min_count=1, size=100)"
   ]
  },
  {
   "cell_type": "code",
   "execution_count": 25,
   "metadata": {},
   "outputs": [
    {
     "name": "stderr",
     "output_type": "stream",
     "text": [
      "C:\\Users\\user\\Anaconda3\\lib\\site-packages\\ipykernel_launcher.py:1: DeprecationWarning: Call to deprecated `most_similar` (Method will be removed in 4.0.0, use self.wv.most_similar() instead).\n",
      "  \"\"\"Entry point for launching an IPython kernel.\n"
     ]
    },
    {
     "data": {
      "text/plain": [
       "[('iphone6', 0.6657751798629761),\n",
       " ('apple', 0.6317652463912964),\n",
       " ('6s', 0.5775070190429688),\n",
       " ('iphone5', 0.5394953489303589),\n",
       " ('iphone5s', 0.520264208316803),\n",
       " ('iphone7', 0.5031808018684387),\n",
       " ('5s', 0.4908602237701416),\n",
       " ('space', 0.4820113778114319),\n",
       " ('iphonr', 0.4725496768951416),\n",
       " ('s.d', 0.4604586064815521)]"
      ]
     },
     "execution_count": 25,
     "metadata": {},
     "output_type": "execute_result"
    }
   ],
   "source": [
    "ownvec.most_similar('iphone')"
   ]
  },
  {
   "cell_type": "code",
   "execution_count": 28,
   "metadata": {},
   "outputs": [
    {
     "name": "stderr",
     "output_type": "stream",
     "text": [
      "C:\\Users\\user\\Anaconda3\\lib\\site-packages\\ipykernel_launcher.py:1: DeprecationWarning: Call to deprecated `most_similar` (Method will be removed in 4.0.0, use self.wv.most_similar() instead).\n",
      "  \"\"\"Entry point for launching an IPython kernel.\n"
     ]
    },
    {
     "data": {
      "text/plain": [
       "[('xiomi', 0.7986404895782471),\n",
       " ('xioami', 0.728898286819458),\n",
       " ('xiami', 0.6430413722991943),\n",
       " ('xiao', 0.5693444013595581),\n",
       " ('xiamo', 0.5638852715492249),\n",
       " ('redmi', 0.5541954636573792),\n",
       " ('085243150189xiaomi', 0.5467475652694702),\n",
       " ('1.xiaomi', 0.5161422491073608),\n",
       " ('doogee', 0.5115476846694946),\n",
       " ('m4c', 0.5090606212615967)]"
      ]
     },
     "execution_count": 28,
     "metadata": {},
     "output_type": "execute_result"
    }
   ],
   "source": [
    "ownvec.most_similar('xiaomi')"
   ]
  },
  {
   "cell_type": "code",
   "execution_count": 29,
   "metadata": {},
   "outputs": [],
   "source": [
    "?ownvec"
   ]
  },
  {
   "cell_type": "code",
   "execution_count": 34,
   "metadata": {},
   "outputs": [
    {
     "name": "stderr",
     "output_type": "stream",
     "text": [
      "C:\\Users\\user\\Anaconda3\\lib\\site-packages\\ipykernel_launcher.py:1: DeprecationWarning: Call to deprecated `__getitem__` (Method will be removed in 4.0.0, use self.wv.__getitem__() instead).\n",
      "  \"\"\"Entry point for launching an IPython kernel.\n"
     ]
    },
    {
     "data": {
      "text/plain": [
       "array([[-2.35269451, -0.88232023,  4.28360462, -2.31559587,  5.19785166,\n",
       "         1.0419451 ,  4.55054903, -4.20807648, -2.70571089,  0.87956017,\n",
       "         2.18833661, -3.08844066, -1.13650954,  4.71081448, -1.23350871,\n",
       "         3.99396086,  3.63311648,  3.64615774, -2.7339251 ,  1.20853007,\n",
       "        -5.17845201,  5.02592468,  0.47505632, -2.30003023,  2.77404261,\n",
       "        -2.46304321, -3.18242264,  1.62645686, -2.09356022, -1.97014177,\n",
       "         1.97379875,  1.64782584,  0.5239948 ,  2.82973146,  0.73931062,\n",
       "        -4.43320847, -0.19685943,  4.71259785,  1.19712687, -1.20453203,\n",
       "         0.93601644, -4.42389393,  1.96360624,  4.68813753,  0.03945253,\n",
       "        -4.0955348 ,  5.48298502,  1.183851  , -1.68181753,  4.22733259,\n",
       "         3.01435685, -5.39497089,  5.6279335 ,  2.23049927,  2.12210131,\n",
       "        -0.96064937, -1.57263958, -2.46004462,  1.05247688,  0.47751582,\n",
       "         5.17574072, -0.17458662,  1.03969741, -4.2940464 ,  1.22542787,\n",
       "        -3.27647328,  1.81948185, -3.39889765, -0.21448117,  1.26328504,\n",
       "         0.11306862, -0.98425204, -0.50899708,  2.50024867, -1.57586408,\n",
       "        -1.33100331,  3.83664155, -7.73844242,  0.20948711,  4.33906651,\n",
       "         3.58282661,  3.01911807,  1.25853062, -2.29683042,  1.59551644,\n",
       "        -1.06016898,  5.88902569,  1.2751714 , -2.05023241, -3.15191793,\n",
       "        -1.72401166, -1.28530371, -5.07149696,  0.60923898,  1.43949914,\n",
       "         2.51194882,  2.59279084,  3.14087248,  3.04592752, -0.23297369],\n",
       "       [-0.0541947 ,  2.21637225,  2.50692415,  1.33769441,  2.03748584,\n",
       "        -1.52236986,  0.34694472,  2.67012239,  0.0543551 ,  1.76389313,\n",
       "         2.70674157, -1.17033195,  0.04017329,  0.79472601, -0.63803673,\n",
       "         0.39603341, -1.6619941 , -1.48715079, -0.29367417,  2.5817852 ,\n",
       "         3.78985214,  0.59367406, -1.15941787,  0.87961292, -0.21705702,\n",
       "         3.89000058,  2.69761014, -2.05803657,  1.34594202, -2.26126385,\n",
       "         2.42674899, -2.96978736, -2.37311244,  1.26725614,  1.00226951,\n",
       "        -0.54012334, -0.84456235, -0.3038106 , -0.94515628, -3.80528998,\n",
       "        -0.09819925,  4.11180782,  2.00710511, -3.52881622,  0.73482454,\n",
       "         1.14066494, -1.88431358, -2.88768244, -0.74786073,  1.22152627,\n",
       "         5.30266476,  0.04652346, -1.23486674,  0.90668273,  1.61737049,\n",
       "         0.32374802,  1.46396732,  0.18408056,  0.70037264,  0.90502745,\n",
       "         2.63832617,  1.27485824, -0.29250184, -0.68220145, -2.14388299,\n",
       "        -1.82050169,  0.23302345, -1.96075296, -1.93710029,  1.6466701 ,\n",
       "         1.73357546, -0.30011958,  1.70420432,  0.36318547,  1.44468796,\n",
       "        -1.97220314,  1.96721327,  1.88083065,  1.12282574,  1.59117043,\n",
       "        -0.19011161, -0.44813955,  1.0688206 , -0.01140359,  1.37086594,\n",
       "         2.34871626,  0.29748839, -1.23973024,  0.46076   ,  4.6833477 ,\n",
       "        -2.34969807,  1.23619854,  0.74082518, -4.68313169, -0.94646031,\n",
       "        -2.44230318, -0.682419  ,  1.67969024, -3.5433979 , -4.67348957]], dtype=float32)"
      ]
     },
     "execution_count": 34,
     "metadata": {},
     "output_type": "execute_result"
    }
   ],
   "source": [
    "ownvec[['iphone','blue']]"
   ]
  },
  {
   "cell_type": "code",
   "execution_count": 35,
   "metadata": {},
   "outputs": [],
   "source": [
    "# So, I will use simple method for getting vectors. I will take each word in senctence and convert it to vector.\n",
    "# After, will take mean at the end each sentence will be represented by vector.\n"
   ]
  },
  {
   "cell_type": "code",
   "execution_count": 41,
   "metadata": {},
   "outputs": [],
   "source": [
    "a=np.array([[1,2,3],[2,3,4],[9,4,5]])"
   ]
  },
  {
   "cell_type": "code",
   "execution_count": 42,
   "metadata": {},
   "outputs": [
    {
     "data": {
      "text/plain": [
       "array([[1, 2, 3],\n",
       "       [2, 3, 4],\n",
       "       [9, 4, 5]])"
      ]
     },
     "execution_count": 42,
     "metadata": {},
     "output_type": "execute_result"
    }
   ],
   "source": [
    "a"
   ]
  },
  {
   "cell_type": "code",
   "execution_count": 45,
   "metadata": {},
   "outputs": [
    {
     "data": {
      "text/plain": [
       "array([ 4.,  3.,  4.])"
      ]
     },
     "execution_count": 45,
     "metadata": {},
     "output_type": "execute_result"
    }
   ],
   "source": [
    "a.mean(axis=0)"
   ]
  },
  {
   "cell_type": "code",
   "execution_count": 50,
   "metadata": {},
   "outputs": [],
   "source": [
    "def convert_to_vec(text):\n",
    "    text_list=text.split()\n",
    "    vec=ownvec[text_list]\n",
    "    vec=vec.mean(axis=0)\n",
    "    return vec"
   ]
  },
  {
   "cell_type": "code",
   "execution_count": 52,
   "metadata": {},
   "outputs": [
    {
     "name": "stderr",
     "output_type": "stream",
     "text": [
      "C:\\Users\\user\\Anaconda3\\lib\\site-packages\\ipykernel_launcher.py:3: DeprecationWarning: Call to deprecated `__getitem__` (Method will be removed in 4.0.0, use self.wv.__getitem__() instead).\n",
      "  This is separate from the ipykernel package so we can avoid doing imports until\n"
     ]
    }
   ],
   "source": [
    "train_w2v=df_train.title.apply(convert_to_vec)"
   ]
  },
  {
   "cell_type": "code",
   "execution_count": 53,
   "metadata": {
    "scrolled": true
   },
   "outputs": [
    {
     "name": "stderr",
     "output_type": "stream",
     "text": [
      "C:\\Users\\user\\Anaconda3\\lib\\site-packages\\ipykernel_launcher.py:3: DeprecationWarning: Call to deprecated `__getitem__` (Method will be removed in 4.0.0, use self.wv.__getitem__() instead).\n",
      "  This is separate from the ipykernel package so we can avoid doing imports until\n"
     ]
    }
   ],
   "source": [
    "test_w2v=df_test.title.apply(convert_to_vec)"
   ]
  },
  {
   "cell_type": "code",
   "execution_count": 59,
   "metadata": {},
   "outputs": [],
   "source": [
    "# Now, let's convert it to dataframes and run similar simulations as we did for previous w2v (using available corpuses )"
   ]
  },
  {
   "cell_type": "code",
   "execution_count": 91,
   "metadata": {},
   "outputs": [],
   "source": [
    "train_all=pd.DataFrame(train_w2v.values.tolist())\n",
    "test_sub=pd.DataFrame(test_w2v.values.tolist())"
   ]
  },
  {
   "cell_type": "code",
   "execution_count": 94,
   "metadata": {},
   "outputs": [
    {
     "data": {
      "text/plain": [
       "RangeIndex(start=0, stop=100, step=1)"
      ]
     },
     "execution_count": 94,
     "metadata": {},
     "output_type": "execute_result"
    }
   ],
   "source": [
    "train_all.columns"
   ]
  },
  {
   "cell_type": "code",
   "execution_count": 117,
   "metadata": {},
   "outputs": [],
   "source": [
    "# some linear models\n",
    "from sklearn.linear_model import LogisticRegression, BayesianRidge\n",
    "\n",
    "# SCM for classification\n",
    "from sklearn.svm import SVC\n",
    "\n",
    "from sklearn.pipeline import Pipeline\n",
    "\n",
    "from sklearn.naive_bayes import MultinomialNB, GaussianNB, BernoulliNB\n",
    "\n",
    "import warnings\n",
    "warnings.filterwarnings('ignore')\n",
    "np.random.seed(2019)\n",
    "from sklearn.metrics import accuracy_score\n",
    "from sklearn.model_selection import GridSearchCV"
   ]
  },
  {
   "cell_type": "code",
   "execution_count": 118,
   "metadata": {},
   "outputs": [],
   "source": [
    "from sklearn.model_selection import train_test_split"
   ]
  },
  {
   "cell_type": "code",
   "execution_count": 119,
   "metadata": {},
   "outputs": [],
   "source": [
    "df_train['Group']=df_train.image_path.map(lambda x: x[:7])\n",
    "df_test['Group']=df_test.image_path.map(lambda x: x[:7])"
   ]
  },
  {
   "cell_type": "code",
   "execution_count": 120,
   "metadata": {},
   "outputs": [],
   "source": [
    "train_all['Group']=df_train['Group']\n",
    "train_all['Category']=df_train['Category']\n",
    "test_sub['Group']=df_test['Group']\n"
   ]
  },
  {
   "cell_type": "code",
   "execution_count": 121,
   "metadata": {},
   "outputs": [],
   "source": [
    "col=[i for i in range(100)]"
   ]
  },
  {
   "cell_type": "code",
   "execution_count": 122,
   "metadata": {},
   "outputs": [],
   "source": [
    "train,test=train_test_split(train_all,random_state=2019,stratify=df_train.Category,test_size=0.2)\n"
   ]
  },
  {
   "cell_type": "code",
   "execution_count": 123,
   "metadata": {},
   "outputs": [],
   "source": [
    "# let's build pipeline for parameter search in n_grams and and various models\n",
    "lr=LogisticRegression()\n",
    "nb=MultinomialNB()\n",
    "svc=SVC()\n",
    "# let's check first three and see which one is best\n",
    "gnb=GaussianNB()\n",
    "bnb=BernoulliNB()\n",
    "br=BayesianRidge()\n",
    "rf=RandomForestClassifier(n_estimators=150)"
   ]
  },
  {
   "cell_type": "code",
   "execution_count": 124,
   "metadata": {},
   "outputs": [],
   "source": [
    "groups=['beauty_','mobile_','fashion']"
   ]
  },
  {
   "cell_type": "code",
   "execution_count": 125,
   "metadata": {},
   "outputs": [
    {
     "name": "stdout",
     "output_type": "stream",
     "text": [
      "Results for group: beauty_\n",
      "Best parameters:  {'model': RandomForestClassifier(bootstrap=True, class_weight=None, criterion='gini',\n",
      "            max_depth=None, max_features='auto', max_leaf_nodes=None,\n",
      "            min_impurity_decrease=0.0, min_impurity_split=None,\n",
      "            min_samples_leaf=1, min_samples_split=2,\n",
      "            min_weight_fraction_leaf=0.0, n_estimators=150, n_jobs=None,\n",
      "            oob_score=False, random_state=None, verbose=0,\n",
      "            warm_start=False)}\n",
      "Best scores:  0.740593895301\n",
      "Results for group: mobile_\n",
      "Best parameters:  {'model': RandomForestClassifier(bootstrap=True, class_weight=None, criterion='gini',\n",
      "            max_depth=None, max_features='auto', max_leaf_nodes=None,\n",
      "            min_impurity_decrease=0.0, min_impurity_split=None,\n",
      "            min_samples_leaf=1, min_samples_split=2,\n",
      "            min_weight_fraction_leaf=0.0, n_estimators=150, n_jobs=None,\n",
      "            oob_score=False, random_state=None, verbose=0,\n",
      "            warm_start=False)}\n",
      "Best scores:  0.769446068686\n",
      "Results for group: fashion\n",
      "Best parameters:  {'model': RandomForestClassifier(bootstrap=True, class_weight=None, criterion='gini',\n",
      "            max_depth=None, max_features='auto', max_leaf_nodes=None,\n",
      "            min_impurity_decrease=0.0, min_impurity_split=None,\n",
      "            min_samples_leaf=1, min_samples_split=2,\n",
      "            min_weight_fraction_leaf=0.0, n_estimators=150, n_jobs=None,\n",
      "            oob_score=False, random_state=None, verbose=0,\n",
      "            warm_start=False)}\n",
      "Best scores:  0.586489608047\n"
     ]
    }
   ],
   "source": [
    "param={'model':[lr,rf]} # Can't use nb because negative values\n",
    "pipe=Pipeline([('model',lr)])\n",
    "for group in groups:\n",
    "    print('Results for group:', group)\n",
    "    X_train=train[train.Group==group][col]\n",
    "    y_train=train[train.Group==group]['Category']\n",
    "    grid_search=GridSearchCV(pipe,param_grid=param)\n",
    "    grid_search.fit(X_train,y_train)\n",
    "    print('Best parameters: ',grid_search.best_params_)\n",
    "    print('Best scores: ',grid_search.best_score_)\n",
    "    "
   ]
  },
  {
   "cell_type": "code",
   "execution_count": 126,
   "metadata": {},
   "outputs": [
    {
     "name": "stdout",
     "output_type": "stream",
     "text": [
      "Results for group: beauty_\n",
      "Best parameters:  {'model__n_estimators': 280}\n",
      "Best scores:  0.742107421074\n",
      "Results for group: mobile_\n",
      "Best parameters:  {'model__n_estimators': 280}\n",
      "Best scores:  0.769773515768\n",
      "Results for group: fashion\n",
      "Best parameters:  {'model__n_estimators': 260}\n",
      "Best scores:  0.588810942132\n"
     ]
    }
   ],
   "source": [
    "pipe=Pipeline([('model',RandomForestClassifier())])\n",
    "param={'model__n_estimators':[i for i in range(100,300,20)]} # Can't use nb because negative values\n",
    "for group in groups:\n",
    "    print('Results for group:', group)\n",
    "    X_train=train[train.Group==group][col]\n",
    "    y_train=train[train.Group==group]['Category']\n",
    "    grid_search=GridSearchCV(pipe,param_grid=param)\n",
    "    grid_search.fit(X_train,y_train)\n",
    "    print('Best parameters: ',grid_search.best_params_)\n",
    "    print('Best scores: ',grid_search.best_score_)"
   ]
  },
  {
   "cell_type": "markdown",
   "metadata": {},
   "source": [
    "These are results from other notebook same code but param={'model__n_estimators':[i for i in range(100,301,50)]}\n",
    "This is quite strange since upper code also passes through 200 but accuracy for mobile is lower\n",
    "Results for group: beauty_\n",
    "Best parameters:  {'model__n_estimators': 300}\n",
    "Best scores:  0.741566564602\n",
    "Results for group: mobile_\n",
    "Best parameters:  {'model__n_estimators': 200}\n",
    "Best scores:  0.770007406541\n",
    "Results for group: fashion\n",
    "Best parameters:  {'model__n_estimators': 300}\n",
    "Best scores:  0.590739697658"
   ]
  },
  {
   "cell_type": "markdown",
   "metadata": {},
   "source": [
    "# UPS! I just realize that I didn't train to whole dataset. So, 20% of my data was not used for training. I need to retrain just in case"
   ]
  },
  {
   "cell_type": "code",
   "execution_count": 128,
   "metadata": {},
   "outputs": [
    {
     "data": {
      "text/plain": [
       "((666615, 102), (533292, 102))"
      ]
     },
     "execution_count": 128,
     "metadata": {},
     "output_type": "execute_result"
    }
   ],
   "source": [
    "train_all.shape,train.shape"
   ]
  },
  {
   "cell_type": "code",
   "execution_count": 129,
   "metadata": {},
   "outputs": [
    {
     "name": "stdout",
     "output_type": "stream",
     "text": [
      "Results for group: beauty_\n",
      "Best parameters:  {'model__n_estimators': 300}\n",
      "Best scores:  0.746834250461\n",
      "Results for group: mobile_\n",
      "Best parameters:  {'model__n_estimators': 300}\n",
      "Best scores:  0.774446454188\n",
      "Results for group: fashion\n",
      "Best parameters:  {'model__n_estimators': 280}\n",
      "Best scores:  0.595333679256\n"
     ]
    }
   ],
   "source": [
    "pipe=Pipeline([('model',RandomForestClassifier())])\n",
    "\n",
    "param={'model__n_estimators':[i for i in range(200,301,20)]} # Can't use nb because negative values\n",
    "\n",
    "\n",
    "for group in groups:\n",
    "    print('Results for group:', group)\n",
    "    X_train=train_all[train_all.Group==group][col]\n",
    "    y_train=train_all[train_all.Group==group]['Category']\n",
    "    grid_search=GridSearchCV(pipe,param_grid=param)\n",
    "    grid_search.fit(X_train,y_train)\n",
    "    print('Best parameters: ',grid_search.best_params_)\n",
    "    print('Best scores: ',grid_search.best_score_)"
   ]
  },
  {
   "cell_type": "code",
   "execution_count": null,
   "metadata": {},
   "outputs": [],
   "source": [
    "pipe_beauty=Pipeline([('model',RandomForestClassifier(n_estimators=280))])\n",
    "pipe_mobile=Pipeline([('model',RandomForestClassifier(n_estimators=200))]) # I just choose lowest complexity\n",
    "pipe_fashion=Pipeline([('model',RandomForestClassifier(n_estimators=300))])\n",
    "\n",
    "pipe_en={'beauty_':pipe_beauty,'mobile_':pipe_mobile,'fashion':pipe_fashion}\n",
    "for group in groups:\n",
    "    print('Results for group:', group)\n",
    "    X_train=train[train.Group==group][col]\n",
    "    y_train=train[train.Group==group]['Category']\n",
    "    grid_search=GridSearchCV(pipe,param_grid=param)\n",
    "    grid_search.fit(X_train,y_train)\n",
    "    print('Best parameters: ',grid_search.best_params_)\n",
    "    print('Best scores: ',grid_search.best_score_)"
   ]
  },
  {
   "cell_type": "code",
   "execution_count": null,
   "metadata": {},
   "outputs": [],
   "source": []
  },
  {
   "cell_type": "code",
   "execution_count": null,
   "metadata": {},
   "outputs": [],
   "source": []
  },
  {
   "cell_type": "code",
   "execution_count": null,
   "metadata": {},
   "outputs": [],
   "source": []
  },
  {
   "cell_type": "code",
   "execution_count": null,
   "metadata": {},
   "outputs": [],
   "source": []
  },
  {
   "cell_type": "code",
   "execution_count": null,
   "metadata": {},
   "outputs": [],
   "source": []
  },
  {
   "cell_type": "code",
   "execution_count": null,
   "metadata": {},
   "outputs": [],
   "source": []
  },
  {
   "cell_type": "code",
   "execution_count": null,
   "metadata": {},
   "outputs": [],
   "source": []
  }
 ],
 "metadata": {
  "kernelspec": {
   "display_name": "Python 3",
   "language": "python",
   "name": "python3"
  },
  "language_info": {
   "codemirror_mode": {
    "name": "ipython",
    "version": 3
   },
   "file_extension": ".py",
   "mimetype": "text/x-python",
   "name": "python",
   "nbconvert_exporter": "python",
   "pygments_lexer": "ipython3",
   "version": "3.6.4"
  }
 },
 "nbformat": 4,
 "nbformat_minor": 2
}
