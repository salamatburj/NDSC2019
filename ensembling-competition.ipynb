{
 "cells": [
  {
   "cell_type": "code",
   "execution_count": 1,
   "metadata": {
    "_cell_guid": "b1076dfc-b9ad-4769-8c92-a6c4dae69d19",
    "_uuid": "8f2839f25d086af736a60e9eeb907d3b93b6e0e5"
   },
   "outputs": [],
   "source": [
    "# This Python 3 environment comes with many helpful analytics libraries installed\n",
    "# It is defined by the kaggle/python docker image: https://github.com/kaggle/docker-python\n",
    "# For example, here's several helpful packages to load in \n",
    "\n",
    "import numpy as np # linear algebra\n",
    "import pandas as pd # data processing, CSV file I/O (e.g. pd.read_csv)\n",
    "\n",
    "# Input data files are available in the \"../input/\" directory.\n",
    "# For example, running this (by clicking run or pressing Shift+Enter) will list the files in the input directory\n",
    "\n",
    "# import os\n",
    "# print(os.listdir(\"../input\"))\n",
    "\n",
    "# Any results you write to the current directory are saved as output."
   ]
  },
  {
   "cell_type": "code",
   "execution_count": 2,
   "metadata": {
    "_uuid": "20517a3d0aff79fef4251fd889b6e8422900c11b"
   },
   "outputs": [],
   "source": [
    "from sklearn.model_selection import train_test_split"
   ]
  },
  {
   "cell_type": "code",
   "execution_count": 3,
   "metadata": {
    "_uuid": "059330c4f70d8292575bb5e83a6ad832c7e29041"
   },
   "outputs": [],
   "source": [
    "from __future__ import print_function, division\n",
    "from builtins import range"
   ]
  },
  {
   "cell_type": "code",
   "execution_count": 4,
   "metadata": {
    "_uuid": "9e4bf18683202567e857e8668f09d95100b48d73"
   },
   "outputs": [],
   "source": [
    "import sys\n",
    "import numpy as np\n",
    "import pandas as pd\n",
    "import matplotlib.pyplot as plt\n",
    "\n",
    "from sklearn.ensemble import ExtraTreesClassifier, RandomForestClassifier\n",
    "from gensim.models import KeyedVectors"
   ]
  },
  {
   "cell_type": "code",
   "execution_count": 5,
   "metadata": {},
   "outputs": [],
   "source": [
    "from nltk.corpus import stopwords\n"
   ]
  },
  {
   "cell_type": "code",
   "execution_count": 6,
   "metadata": {
    "scrolled": true
   },
   "outputs": [
    {
     "name": "stdout",
     "output_type": "stream",
     "text": [
      "936\n"
     ]
    }
   ],
   "source": [
    "ignore_words = set(stopwords.words('english')).union(set(stopwords.words('indonesian')))\n",
    "print(len(ignore_words))"
   ]
  },
  {
   "cell_type": "code",
   "execution_count": 7,
   "metadata": {
    "_uuid": "49cac2747c9b75de6a074fd8ecce57b26c1ede31"
   },
   "outputs": [],
   "source": [
    "df_train=pd.read_csv('train.csv')\n",
    "df_test=pd.read_csv('test.csv')\n",
    "df_cat=pd.read_json('categories.json')"
   ]
  },
  {
   "cell_type": "code",
   "execution_count": 8,
   "metadata": {},
   "outputs": [
    {
     "data": {
      "text/plain": [
       "0                 nyx sex bomb pallete natural palette\n",
       "1    etude house precious mineral any cushion pearl...\n",
       "2                             milani rose powder blush\n",
       "3                  etude house baby sweet sugar powder\n",
       "4         bedak revlon color stay aqua mineral make up\n",
       "Name: title, dtype: object"
      ]
     },
     "execution_count": 8,
     "metadata": {},
     "output_type": "execute_result"
    }
   ],
   "source": [
    "df_train.title.head()\n",
    "\n"
   ]
  },
  {
   "cell_type": "code",
   "execution_count": 9,
   "metadata": {
    "_cell_guid": "79c7e3d0-c299-4dcb-8224-4455121ee9b0",
    "_uuid": "d629ff2d2480ee46fbb7e2d37f6b5fab8052498a"
   },
   "outputs": [],
   "source": [
    "df_train['Group']=df_train.image_path.map(lambda x: x[:7])\n",
    "df_test['Group']=df_test.image_path.map(lambda x: x[:7])"
   ]
  },
  {
   "cell_type": "code",
   "execution_count": 10,
   "metadata": {
    "_uuid": "509be9648ff1ececf1eed491d130429695a62748"
   },
   "outputs": [],
   "source": [
    "train,test=train_test_split(df_train,random_state=2019,stratify=df_train.Category,test_size=0.2)"
   ]
  },
  {
   "cell_type": "code",
   "execution_count": 11,
   "metadata": {},
   "outputs": [],
   "source": [
    "np.random.seed(2019)"
   ]
  },
  {
   "cell_type": "code",
   "execution_count": 12,
   "metadata": {},
   "outputs": [],
   "source": [
    "groups=['beauty_','mobile_','fashion']"
   ]
  },
  {
   "cell_type": "code",
   "execution_count": 13,
   "metadata": {},
   "outputs": [],
   "source": [
    "# some linear models\n",
    "from sklearn.linear_model import LogisticRegression, BayesianRidge\n",
    "\n",
    "# SCM for classification\n",
    "from sklearn.svm import SVC\n",
    "\n",
    "from sklearn.pipeline import Pipeline\n",
    "\n",
    "from sklearn.naive_bayes import MultinomialNB, GaussianNB, BernoulliNB\n",
    "\n",
    "import warnings\n",
    "warnings.filterwarnings('ignore')\n",
    "np.random.seed(2019)\n"
   ]
  },
  {
   "cell_type": "code",
   "execution_count": 14,
   "metadata": {},
   "outputs": [],
   "source": [
    "from sklearn.metrics import accuracy_score"
   ]
  },
  {
   "cell_type": "code",
   "execution_count": 15,
   "metadata": {},
   "outputs": [],
   "source": [
    "from sklearn.model_selection import GridSearchCV\n",
    "from sklearn.feature_extraction.text import CountVectorizer\n",
    "from tqdm import tqdm"
   ]
  },
  {
   "cell_type": "code",
   "execution_count": 16,
   "metadata": {},
   "outputs": [],
   "source": [
    "# let's build pipeline for parameter search in n_grams and and various models\n",
    "lr=LogisticRegression()\n",
    "nb=MultinomialNB()\n",
    "svc=SVC()\n",
    "# let's check first three and see which one is best\n",
    "gnb=GaussianNB()\n",
    "bnb=BernoulliNB()\n",
    "br=BayesianRidge()\n",
    "rf=RandomForestClassifier(n_estimators=150)"
   ]
  },
  {
   "cell_type": "code",
   "execution_count": 17,
   "metadata": {},
   "outputs": [],
   "source": [
    "# Best cv scores for parameter for lr.\n"
   ]
  },
  {
   "cell_type": "code",
   "execution_count": 18,
   "metadata": {},
   "outputs": [],
   "source": [
    "def submission(name,dic):\n",
    "    df_sub=df_test.copy()\n",
    "    for group in dic.keys():\n",
    "        df_sub.loc[df_sub.Group==group,'Category']=dic[group]\n",
    "    df_sub.loc[:,'Category']=df_sub.Category.astype('int')\n",
    "    df_sub[['itemid','Category']].to_csv(name,index=False)"
   ]
  },
  {
   "cell_type": "markdown",
   "metadata": {},
   "source": [
    "## Let's do ensembling now! \n",
    "## So we have results from:\n",
    "## 1) CountVectorization with logistic regression : lr ending\n",
    "## 2) CountVectorization with Naive Bayes:  nb ending\n",
    "## 3) Image categorization:  im ending\n",
    "## 4) word2vec predictions: w2v ending\n",
    "\n",
    "\n",
    "## 1 and 2 might be highly correlated with each other. I might remove Naive Bayes. But we also can try with and without and observe results.\n"
   ]
  },
  {
   "cell_type": "code",
   "execution_count": 19,
   "metadata": {},
   "outputs": [],
   "source": [
    "df_lr={}\n",
    "for i in range(3):\n",
    "    val_test=[]\n",
    "    df1=pd.read_csv(groups[i]+'_test_proba_nlp_val_data2.csv')\n",
    "    df2=pd.read_csv(groups[i]+'_test_proba_nlp_all_data2.csv')\n",
    "    val_test.append(df1)\n",
    "    val_test.append(df2)\n",
    "    df_lr[groups[i]]=val_test"
   ]
  },
  {
   "cell_type": "code",
   "execution_count": 20,
   "metadata": {},
   "outputs": [],
   "source": [
    "# own corpus in word2vec unlike original of this code\n",
    "df_w2v={}\n",
    "for i in range(3):\n",
    "    val_test=[]\n",
    "    df1=pd.read_csv(groups[i]+'_test_proba_w2v_own_val_data.csv')\n",
    "    df2=pd.read_csv(groups[i]+'_test_proba_w2v_own_all_data.csv')\n",
    "    val_test.append(df1)\n",
    "    val_test.append(df2)\n",
    "    df_w2v[groups[i]]=val_test"
   ]
  },
  {
   "cell_type": "code",
   "execution_count": 21,
   "metadata": {},
   "outputs": [],
   "source": [
    "df_nb={}\n",
    "for i in range(3):\n",
    "    val_test=[]\n",
    "    df1=pd.read_csv(groups[i]+'_val_proba_nlp_nb.csv')\n",
    "    df2=pd.read_csv(groups[i]+'_test_proba_nlp_nb.csv')\n",
    "    val_test.append(df1)\n",
    "    val_test.append(df2)\n",
    "    df_nb[groups[i]]=val_test"
   ]
  },
  {
   "cell_type": "code",
   "execution_count": 22,
   "metadata": {},
   "outputs": [],
   "source": [
    "# We have previously ordered outputof image predictions so we can just upload all of them\n",
    "df_im={}\n",
    "for group in groups:\n",
    "    if group=='mobile_':\n",
    "        val_test=[]\n",
    "        df1=pd.read_csv(\"val_mobile__v2.csv\") \n",
    "        df2=pd.read_csv(\"test_all_mobile__v2.csv\") # 97% of mobile data\n",
    "        val_test.append(df1)\n",
    "        val_test.append(df2)\n",
    "        df_im[group]=val_test # Overite df_im but I use df_im in the rest of the code\n",
    "    elif group=='fashion':\n",
    "        val_test=[]\n",
    "        df1=pd.read_csv('val_fashion_v2.csv') \n",
    "        df2=pd.read_csv('test_all_fashion_v2.csv') # trained on 100% of data\n",
    "        val_test.append(df1)\n",
    "        val_test.append(df2)\n",
    "        df_im[group]=val_test # Overite df_im but I use df_im in the rest of the code\n",
    "    else:\n",
    "        val_test=[]\n",
    "        df1=pd.read_csv('val_beauty__v2.csv') \n",
    "        df2=pd.read_csv('test_beauty__v2.csv') # trained on 80% of data\n",
    "        val_test.append(df1)\n",
    "        val_test.append(df2)\n",
    "        df_im[group]=val_test # Overite df_im but I use df_im in the rest of the code\n"
   ]
  },
  {
   "cell_type": "markdown",
   "metadata": {},
   "source": [
    "## We need to check impact of fashion image classification improvement on predictions.\n"
   ]
  },
  {
   "cell_type": "markdown",
   "metadata": {},
   "source": [
    "# finally, we can start ensembling. Let's first check their relative error in internal test set. Also, correlations btw them"
   ]
  },
  {
   "cell_type": "code",
   "execution_count": 72,
   "metadata": {},
   "outputs": [],
   "source": [
    "results=[df_lr,df_nb,df_w2v,df_im]"
   ]
  },
  {
   "cell_type": "code",
   "execution_count": 73,
   "metadata": {},
   "outputs": [],
   "source": [
    "# Let's define columns for each category\n",
    "columns={}\n",
    "columns['beauty_']=[str(i) for i in range(17)]\n",
    "columns['mobile_']=[str(i) for i in range(31,58)]\n",
    "columns['fashion']=[str(i) for i in range(17,31)]"
   ]
  },
  {
   "cell_type": "code",
   "execution_count": 74,
   "metadata": {},
   "outputs": [],
   "source": [
    "# df_im is actually df_im2 we overwrite it in the above code\n",
    "models={'lr':df_lr,'nb':df_nb,'w2v':df_w2v,'im':df_im}"
   ]
  },
  {
   "cell_type": "code",
   "execution_count": 75,
   "metadata": {},
   "outputs": [
    {
     "name": "stdout",
     "output_type": "stream",
     "text": [
      "Accuracy score for model:  lr\n",
      "beauty_ 0.789800582724\n",
      "mobile_ 0.830687665679\n",
      "fashion 0.652056166223\n",
      "Accuracy score for model:  nb\n",
      "beauty_ 0.764188635134\n",
      "mobile_ 0.778949009824\n",
      "fashion 0.592362486061\n",
      "Accuracy score for model:  w2v\n",
      "beauty_ 0.752324790202\n",
      "mobile_ 0.776360517698\n",
      "fashion 0.601351812658\n",
      "Accuracy score for model:  im\n",
      "beauty_ 0.69837918942\n",
      "mobile_ 0.663152970529\n",
      "fashion 0.525727680299\n"
     ]
    }
   ],
   "source": [
    "for name, model in models.items():\n",
    "    if name=='im':\n",
    "        pred='final_pred'\n",
    "    else:\n",
    "        pred='pred'\n",
    "    print('Accuracy score for model: ', name)\n",
    "    for group in groups:\n",
    "        print(group,accuracy_score(test[test.Group==group].Category,model[group][0][pred]))"
   ]
  },
  {
   "cell_type": "markdown",
   "metadata": {},
   "source": [
    "Previous results of word2vec based on combination of english and indonesian corpuses\n",
    "Our own word2vec seems to be much better in all of groups\n",
    "\n",
    "Accuracy score for model:  w2v\n",
    "beauty_ 0.744054992411\n",
    "mobile_ 0.766505535631\n",
    "fashion 0.579777428825\n"
   ]
  },
  {
   "cell_type": "code",
   "execution_count": 27,
   "metadata": {},
   "outputs": [],
   "source": [
    "df_all={}\n",
    "for group in groups:\n",
    "    val_test=[pd.DataFrame(),pd.DataFrame()]\n",
    "    df_all[group]=val_test"
   ]
  },
  {
   "cell_type": "code",
   "execution_count": 28,
   "metadata": {},
   "outputs": [
    {
     "data": {
      "text/plain": [
       "4"
      ]
     },
     "execution_count": 28,
     "metadata": {},
     "output_type": "execute_result"
    }
   ],
   "source": [
    "len(models.keys())"
   ]
  },
  {
   "cell_type": "code",
   "execution_count": 29,
   "metadata": {},
   "outputs": [],
   "source": [
    "#  Let's put all of the predictions together for ensembling\n",
    "# I am still not sure about best stragery for ensembling\n",
    "df_all_val={}\n",
    "df_all_test={}\n",
    "for group in groups:\n",
    "    df_all_val[group]=models['lr'][group][0][columns[group]].copy()\n",
    "    df_all_test[group]=models['lr'][group][1][columns[group]].copy()\n",
    "    for name, model in models.items():\n",
    "        if name!='lr':\n",
    "            df1=models[name][group][0][columns[group]].copy()\n",
    "            df_all_val[group]=df_all_val[group].join(df1,rsuffix=name)\n",
    "            \n",
    "            df2=models[name][group][1][columns[group]].copy()\n",
    "            df_all_test[group]=df_all_test[group].join(df2,rsuffix=name)\n",
    "        \n",
    "# Now we put everything together."
   ]
  },
  {
   "cell_type": "code",
   "execution_count": 30,
   "metadata": {},
   "outputs": [
    {
     "name": "stdout",
     "output_type": "stream",
     "text": [
      "shape of df_all_val and test beauty_\n",
      "(57317, 68) (57317, 5)\n",
      "shape of df_all_val and test mobile_\n",
      "(32065, 108) (32065, 5)\n",
      "shape of df_all_val and test fashion\n",
      "(43941, 56) (43941, 5)\n"
     ]
    }
   ],
   "source": [
    "# Sanity check\n",
    "for group in groups:\n",
    "    print(\"shape of df_all_val and test\", group)\n",
    "    print(df_all_val[group].shape, test[test.Group==group].shape)"
   ]
  },
  {
   "cell_type": "code",
   "execution_count": 31,
   "metadata": {},
   "outputs": [
    {
     "name": "stdout",
     "output_type": "stream",
     "text": [
      "shape of df_all_test and df_test beauty_\n",
      "(76545, 68) (76545, 4)\n",
      "shape of df_all_test and df_test mobile_\n",
      "(40417, 108) (40417, 4)\n",
      "shape of df_all_test and df_test fashion\n",
      "(55440, 56) (55440, 4)\n"
     ]
    }
   ],
   "source": [
    "for group in groups:\n",
    "    print(\"shape of df_all_test and df_test\", group)\n",
    "    print(df_all_test[group].shape, df_test[df_test.Group==group].shape)"
   ]
  },
  {
   "cell_type": "code",
   "execution_count": 32,
   "metadata": {},
   "outputs": [],
   "source": [
    "from sklearn.neighbors import KNeighborsClassifier"
   ]
  },
  {
   "cell_type": "code",
   "execution_count": 33,
   "metadata": {},
   "outputs": [],
   "source": [
    "lr=LogisticRegression()\n",
    "svm=SVC(kernel='linear')\n",
    "rf=RandomForestClassifier(n_estimators=200)\n",
    "knn=KNeighborsClassifier(n_neighbors=50)"
   ]
  },
  {
   "cell_type": "code",
   "execution_count": 34,
   "metadata": {},
   "outputs": [],
   "source": [
    "from sklearn.model_selection import StratifiedKFold"
   ]
  },
  {
   "cell_type": "code",
   "execution_count": 35,
   "metadata": {},
   "outputs": [],
   "source": [
    "pipe_en2={}\n",
    "pipe_en2['fashion']=RandomForestClassifier(n_estimators=280)\n",
    "pipe_en2['beauty_']=RandomForestClassifier(n_estimators=280)\n",
    "pipe_en2['mobile_']=RandomForestClassifier(n_estimators=220)"
   ]
  },
  {
   "cell_type": "code",
   "execution_count": 36,
   "metadata": {},
   "outputs": [
    {
     "data": {
      "text/plain": [
       "RandomForestClassifier(bootstrap=True, class_weight=None, criterion='gini',\n",
       "            max_depth=None, max_features='auto', max_leaf_nodes=None,\n",
       "            min_impurity_decrease=0.0, min_impurity_split=None,\n",
       "            min_samples_leaf=1, min_samples_split=2,\n",
       "            min_weight_fraction_leaf=0.0, n_estimators=280, n_jobs=None,\n",
       "            oob_score=False, random_state=None, verbose=0,\n",
       "            warm_start=False)"
      ]
     },
     "execution_count": 36,
     "metadata": {},
     "output_type": "execute_result"
    }
   ],
   "source": [
    "pipe_en2['fashion']"
   ]
  },
  {
   "cell_type": "code",
   "execution_count": 37,
   "metadata": {},
   "outputs": [
    {
     "data": {
      "text/plain": [
       "['beauty_', 'mobile_', 'fashion']"
      ]
     },
     "execution_count": 37,
     "metadata": {},
     "output_type": "execute_result"
    }
   ],
   "source": [
    "groups"
   ]
  },
  {
   "cell_type": "code",
   "execution_count": 38,
   "metadata": {},
   "outputs": [],
   "source": [
    "# I am not sure but we might be overfitting. Let's try our previous approach\n",
    "\n",
    "\n",
    "def eval_model():\n",
    "    folds=StratifiedKFold(n_splits=5,shuffle=True,random_state=2019)\n",
    "    predictions2={}\n",
    "    for group in groups:\n",
    "        print(\"Results for group\", group)\n",
    "        oof=np.zeros(len(df_all_val[group]))\n",
    "        pred=np.zeros((len(df_test[df_test.Group==group]),folds.n_splits))\n",
    "        X=df_all_val[group].values\n",
    "        y=test[test.Group==group].Category.values\n",
    "        X_sub=df_all_test[group].values\n",
    "        model=pipe_en2[group]\n",
    "        for fold_,(trn_idx,val_idx) in enumerate(folds.split(X,y)):\n",
    "            print(\"Fold:\",fold_)\n",
    "            X_train=X[trn_idx]\n",
    "            y_train=y[trn_idx]\n",
    "            model.fit(X_train,y_train)\n",
    "            X_val=X[val_idx]\n",
    "            oof[val_idx]=model.predict(X_val)\n",
    "            pred[:,fold_]=model.predict(X_sub)\n",
    "            print('Acuracy of fold:',accuracy_score(y[val_idx],oof[val_idx]))\n",
    "        print('Acuracy of overall:',accuracy_score(y,oof))\n",
    "        predictions2[group]=pred\n",
    "    return predictions2\n"
   ]
  },
  {
   "cell_type": "code",
   "execution_count": 39,
   "metadata": {
    "scrolled": true
   },
   "outputs": [
    {
     "name": "stdout",
     "output_type": "stream",
     "text": [
      "Results for group beauty_\n",
      "Fold: 0\n",
      "Acuracy of fold: 0.790496948561\n",
      "Fold: 1\n",
      "Acuracy of fold: 0.789271696468\n",
      "Fold: 2\n",
      "Acuracy of fold: 0.799703393527\n",
      "Fold: 3\n",
      "Acuracy of fold: 0.794189495725\n",
      "Fold: 4\n",
      "Acuracy of fold: 0.789560967094\n",
      "Acuracy of overall: 0.792644416142\n",
      "Results for group mobile_\n",
      "Fold: 0\n",
      "Acuracy of fold: 0.831983805668\n",
      "Fold: 1\n",
      "Acuracy of fold: 0.83232039894\n",
      "Fold: 2\n",
      "Acuracy of fold: 0.829591518553\n",
      "Fold: 3\n",
      "Acuracy of fold: 0.831539541413\n",
      "Fold: 4\n",
      "Acuracy of fold: 0.835806905171\n",
      "Acuracy of overall: 0.832246998285\n",
      "Results for group fashion\n",
      "Fold: 0\n",
      "Acuracy of fold: 0.677434030937\n",
      "Fold: 1\n",
      "Acuracy of fold: 0.670458423388\n",
      "Fold: 2\n",
      "Acuracy of fold: 0.671899886234\n",
      "Fold: 3\n",
      "Acuracy of fold: 0.666211448731\n",
      "Fold: 4\n",
      "Acuracy of fold: 0.658808791709\n",
      "Acuracy of overall: 0.668965203341\n"
     ]
    }
   ],
   "source": [
    "pred=eval_model()"
   ]
  },
  {
   "cell_type": "code",
   "execution_count": 40,
   "metadata": {},
   "outputs": [],
   "source": [
    "predictions2={}\n",
    "for group in groups:\n",
    "    predictions2[group]=pd.DataFrame(pred[group]).mode(axis=1)[0].astype('int').values"
   ]
  },
  {
   "cell_type": "code",
   "execution_count": 41,
   "metadata": {},
   "outputs": [
    {
     "name": "stdout",
     "output_type": "stream",
     "text": [
      "(76545, 4) (76545,)\n",
      "(40417, 4) (40417,)\n",
      "(55440, 4) (55440,)\n"
     ]
    }
   ],
   "source": [
    "for group in groups:\n",
    "    print(df_test[df_test.Group==group].shape,predictions2[group].shape)"
   ]
  },
  {
   "cell_type": "code",
   "execution_count": 42,
   "metadata": {},
   "outputs": [
    {
     "name": "stdout",
     "output_type": "stream",
     "text": [
      "beauty_\n",
      "mobile_\n",
      "fashion\n"
     ]
    }
   ],
   "source": [
    "for group in groups:\n",
    "    print(group)\n",
    "    df_test.loc[df_test.Group==group,'Category']=predictions2[group]"
   ]
  },
  {
   "cell_type": "code",
   "execution_count": 43,
   "metadata": {},
   "outputs": [],
   "source": [
    "df_test['Category']=df_test.Category.astype('int')"
   ]
  },
  {
   "cell_type": "code",
   "execution_count": 44,
   "metadata": {},
   "outputs": [],
   "source": [
    "df_test[['itemid','Category']].to_csv('ensemble_6_v1.csv',index=False)"
   ]
  },
  {
   "cell_type": "code",
   "execution_count": 45,
   "metadata": {},
   "outputs": [],
   "source": [
    "# Let's try to do more folds\n",
    "def eval_model10():\n",
    "    folds=StratifiedKFold(n_splits=10,shuffle=True,random_state=2019)\n",
    "    predictions2={}\n",
    "    for group in groups:\n",
    "        print(\"Results for group\", group)\n",
    "        oof=np.zeros(len(df_all_val[group]))\n",
    "        pred=np.zeros((len(df_test[df_test.Group==group]),folds.n_splits))\n",
    "        X=df_all_val[group].values\n",
    "        y=test[test.Group==group].Category.values\n",
    "        X_sub=df_all_test[group].values\n",
    "        model=pipe_en2[group]\n",
    "        for fold_,(trn_idx,val_idx) in enumerate(folds.split(X,y)):\n",
    "            print(\"Fold:\",fold_)\n",
    "            X_train=X[trn_idx]\n",
    "            y_train=y[trn_idx]\n",
    "            model.fit(X_train,y_train)\n",
    "            X_val=X[val_idx]\n",
    "            oof[val_idx]=model.predict(X_val)\n",
    "            pred[:,fold_]=model.predict(X_sub)\n",
    "            print('Acuracy of fold:',accuracy_score(y[val_idx],oof[val_idx]))\n",
    "        print('Acuracy of overall:',accuracy_score(y,oof))\n",
    "        predictions2[group]=pred\n",
    "    return predictions2"
   ]
  },
  {
   "cell_type": "code",
   "execution_count": 46,
   "metadata": {},
   "outputs": [
    {
     "name": "stdout",
     "output_type": "stream",
     "text": [
      "Results for group beauty_\n",
      "Fold: 0\n",
      "Acuracy of fold: 0.787208086441\n",
      "Fold: 1\n",
      "Acuracy of fold: 0.793097437685\n",
      "Fold: 2\n",
      "Acuracy of fold: 0.794107391911\n",
      "Fold: 3\n",
      "Acuracy of fold: 0.787656903766\n",
      "Fold: 4\n",
      "Acuracy of fold: 0.794174079888\n",
      "Fold: 5\n",
      "Acuracy of fold: 0.802512212142\n",
      "Fold: 6\n",
      "Acuracy of fold: 0.792248603352\n",
      "Fold: 7\n",
      "Acuracy of fold: 0.796752226296\n",
      "Fold: 8\n",
      "Acuracy of fold: 0.787460705554\n",
      "Fold: 9\n",
      "Acuracy of fold: 0.794374563242\n",
      "Acuracy of overall: 0.792958459096\n",
      "Results for group mobile_\n",
      "Fold: 0\n",
      "Acuracy of fold: 0.8328154133\n",
      "Fold: 1\n",
      "Acuracy of fold: 0.830171073095\n",
      "Fold: 2\n",
      "Acuracy of fold: 0.8304293715\n",
      "Fold: 3\n",
      "Acuracy of fold: 0.828455790785\n",
      "Fold: 4\n",
      "Acuracy of fold: 0.833749220212\n",
      "Fold: 5\n",
      "Acuracy of fold: 0.828027465668\n",
      "Fold: 6\n",
      "Acuracy of fold: 0.829481574016\n",
      "Fold: 7\n",
      "Acuracy of fold: 0.8321875\n",
      "Fold: 8\n",
      "Acuracy of fold: 0.83901219131\n",
      "Fold: 9\n",
      "Acuracy of fold: 0.834428794992\n",
      "Acuracy of overall: 0.831872758459\n",
      "Results for group fashion\n",
      "Fold: 0\n",
      "Acuracy of fold: 0.683037744429\n",
      "Fold: 1\n",
      "Acuracy of fold: 0.668713051387\n",
      "Fold: 2\n",
      "Acuracy of fold: 0.670532060027\n",
      "Fold: 3\n",
      "Acuracy of fold: 0.677734819195\n",
      "Fold: 4\n",
      "Acuracy of fold: 0.673947667804\n",
      "Fold: 5\n",
      "Acuracy of fold: 0.667501137915\n",
      "Fold: 6\n",
      "Acuracy of fold: 0.676986114273\n",
      "Fold: 7\n",
      "Acuracy of fold: 0.661657559199\n",
      "Fold: 8\n",
      "Acuracy of fold: 0.651936218679\n",
      "Fold: 9\n",
      "Acuracy of fold: 0.666666666667\n",
      "Acuracy of overall: 0.669875514895\n"
     ]
    }
   ],
   "source": [
    "pred=eval_model10()"
   ]
  },
  {
   "cell_type": "code",
   "execution_count": 52,
   "metadata": {
    "scrolled": true
   },
   "outputs": [
    {
     "name": "stdout",
     "output_type": "stream",
     "text": [
      "(57317, 68)\n",
      "(32065, 108)\n",
      "(43941, 56)\n"
     ]
    }
   ],
   "source": [
    "for group in groups:\n",
    "    print(df_all_val[group].shape)"
   ]
  },
  {
   "cell_type": "code",
   "execution_count": 77,
   "metadata": {},
   "outputs": [],
   "source": [
    "# I am not sure but we might be overfitting. Let's try our previous approach\n",
    "\n",
    "\n",
    "def eval_model():\n",
    "    folds=StratifiedKFold(n_splits=5,shuffle=True,random_state=2019)\n",
    "    predictions2={}\n",
    "    for group in groups:\n",
    "        print(\"Results for group\", group)\n",
    "        oof=np.zeros(len(df_all_val[group]))\n",
    "        pred=np.zeros((len(df_test[df_test.Group==group]),folds.n_splits))\n",
    "        X=df_all_val[group].values\n",
    "        y=test[test.Group==group].Category.values\n",
    "        X_sub=df_all_test[group].values\n",
    "        model=pipe_en2[group]\n",
    "        for fold_,(trn_idx,val_idx) in enumerate(folds.split(X,y)):\n",
    "            print(\"Fold:\",fold_)\n",
    "            X_train=X[trn_idx]\n",
    "            y_train=y[trn_idx]\n",
    "            model.fit(X_train,y_train)\n",
    "            X_val=X[val_idx]\n",
    "            oof[val_idx]=model.predict(X_val)\n",
    "            pred[:,fold_]=model.predict(X_sub)\n",
    "            print('Acuracy of fold:',accuracy_score(y[val_idx],oof[val_idx]))\n",
    "        print('Acuracy of overall:',accuracy_score(y,oof))\n",
    "        predictions2[group]=pred\n",
    "    return predictions2\n"
   ]
  },
  {
   "cell_type": "code",
   "execution_count": 90,
   "metadata": {},
   "outputs": [],
   "source": [
    "fold={'fashion':10,'beauty_':5,'mobile_':5}\n",
    "def eval_model_2():\n",
    "    predictions2={}\n",
    "    for group in groups:\n",
    "        folds=StratifiedKFold(n_splits=fold[group],shuffle=True,random_state=2019)\n",
    "        print(\"Results for group\", group)\n",
    "        oof=np.zeros(len(df_all_val[group]))\n",
    "        pred=np.zeros((len(df_test[df_test.Group==group]),folds.n_splits))\n",
    "        X=df_all_val[group].values\n",
    "        y=test[test.Group==group].Category.values\n",
    "        X_sub=df_all_test[group].values\n",
    "        model=pipe_en2[group]\n",
    "        for fold_,(trn_idx,val_idx) in enumerate(folds.split(X,y)):\n",
    "            print(\"Fold:\",fold_)\n",
    "            X_train=X[trn_idx]\n",
    "            y_train=y[trn_idx]\n",
    "            model.fit(X_train,y_train)\n",
    "            X_val=X[val_idx]\n",
    "            oof[val_idx]=model.predict(X_val)\n",
    "            pred[:,fold_]=model.predict(X_sub)\n",
    "            print('Acuracy of fold:',accuracy_score(y[val_idx],oof[val_idx]))\n",
    "        print('Acuracy of overall:',accuracy_score(y,oof))\n",
    "        predictions2[group]=pred\n",
    "    return predictions2"
   ]
  },
  {
   "cell_type": "code",
   "execution_count": 80,
   "metadata": {},
   "outputs": [],
   "source": [
    "pipe_en2={}\n",
    "pipe_en2['fashion']=RandomForestClassifier(n_estimators=280,max_features=8,max_depth=20, min_samples_split=5)\n",
    "pipe_en2['beauty_']=RandomForestClassifier(n_estimators=280,max_features=20,min_samples_leaf=2,max_depth=20, min_samples_split=10)\n",
    "pipe_en2['mobile_']=RandomForestClassifier(n_estimators=220,max_features=20)"
   ]
  },
  {
   "cell_type": "code",
   "execution_count": 81,
   "metadata": {
    "scrolled": true
   },
   "outputs": [
    {
     "name": "stdout",
     "output_type": "stream",
     "text": [
      "Results for group beauty_\n",
      "Fold: 0\n",
      "Acuracy of fold: 0.793897122929\n",
      "Fold: 1\n",
      "Acuracy of fold: 0.792411687745\n",
      "Fold: 2\n",
      "Acuracy of fold: 0.800750239902\n",
      "Fold: 3\n",
      "Acuracy of fold: 0.795498167859\n",
      "Fold: 4\n",
      "Acuracy of fold: 0.790171947281\n",
      "Acuracy of overall: 0.794546120697\n",
      "Results for group mobile_\n",
      "Fold: 0\n",
      "Acuracy of fold: 0.83494238555\n",
      "Fold: 1\n",
      "Acuracy of fold: 0.833255415303\n",
      "Fold: 2\n",
      "Acuracy of fold: 0.833645151232\n",
      "Fold: 3\n",
      "Acuracy of fold: 0.832007487131\n",
      "Fold: 4\n",
      "Acuracy of fold: 0.835338228402\n",
      "Acuracy of overall: 0.833837517542\n",
      "Results for group fashion\n",
      "Fold: 0\n",
      "Acuracy of fold: 0.675955414013\n",
      "Fold: 1\n",
      "Acuracy of fold: 0.669662154476\n",
      "Fold: 2\n",
      "Acuracy of fold: 0.672241183163\n",
      "Fold: 3\n",
      "Acuracy of fold: 0.667463298054\n",
      "Fold: 4\n",
      "Acuracy of fold: 0.659719849675\n",
      "Acuracy of overall: 0.669010718919\n"
     ]
    }
   ],
   "source": [
    "pred=eval_model()"
   ]
  },
  {
   "cell_type": "code",
   "execution_count": 83,
   "metadata": {},
   "outputs": [],
   "source": [
    "predictions2={}\n",
    "for group in groups:\n",
    "    predictions2[group]=pd.DataFrame(pred[group]).mode(axis=1)[0].astype('int').values"
   ]
  },
  {
   "cell_type": "code",
   "execution_count": 84,
   "metadata": {},
   "outputs": [
    {
     "name": "stdout",
     "output_type": "stream",
     "text": [
      "(76545, 5) (76545,)\n",
      "(40417, 5) (40417,)\n",
      "(55440, 5) (55440,)\n"
     ]
    }
   ],
   "source": [
    "for group in groups:\n",
    "    print(df_test[df_test.Group==group].shape,predictions2[group].shape)"
   ]
  },
  {
   "cell_type": "code",
   "execution_count": 85,
   "metadata": {},
   "outputs": [
    {
     "name": "stdout",
     "output_type": "stream",
     "text": [
      "beauty_\n",
      "mobile_\n",
      "fashion\n"
     ]
    }
   ],
   "source": [
    "for group in groups:\n",
    "    print(group)\n",
    "    df_test.loc[df_test.Group==group,'Category']=predictions2[group]"
   ]
  },
  {
   "cell_type": "code",
   "execution_count": 86,
   "metadata": {},
   "outputs": [],
   "source": [
    "df_test['Category']=df_test.Category.astype('int')"
   ]
  },
  {
   "cell_type": "code",
   "execution_count": 87,
   "metadata": {},
   "outputs": [],
   "source": [
    "#LB:0.76865\n",
    "df_test[['itemid','Category']].to_csv('ensemble_7.csv',index=False)"
   ]
  },
  {
   "cell_type": "code",
   "execution_count": 91,
   "metadata": {},
   "outputs": [
    {
     "name": "stdout",
     "output_type": "stream",
     "text": [
      "Results for group beauty_\n",
      "Fold: 0\n",
      "Acuracy of fold: 0.792589363557\n",
      "Fold: 1\n",
      "Acuracy of fold: 0.790492804187\n",
      "Fold: 2\n",
      "Acuracy of fold: 0.799965105121\n",
      "Fold: 3\n",
      "Acuracy of fold: 0.794887454196\n",
      "Fold: 4\n",
      "Acuracy of fold: 0.790782927468\n",
      "Acuracy of overall: 0.793743566481\n",
      "Results for group mobile_\n",
      "Fold: 0\n",
      "Acuracy of fold: 0.83245094986\n",
      "Fold: 1\n",
      "Acuracy of fold: 0.833722923484\n",
      "Fold: 2\n",
      "Acuracy of fold: 0.833021515435\n",
      "Fold: 3\n",
      "Acuracy of fold: 0.831695523319\n",
      "Fold: 4\n",
      "Acuracy of fold: 0.836119356351\n",
      "Acuracy of overall: 0.833400904413\n",
      "Results for group fashion\n",
      "Fold: 0\n",
      "Acuracy of fold: 0.68758526603\n",
      "Fold: 1\n",
      "Acuracy of fold: 0.668030923147\n",
      "Fold: 2\n",
      "Acuracy of fold: 0.667121418827\n",
      "Fold: 3\n",
      "Acuracy of fold: 0.678189674778\n",
      "Fold: 4\n",
      "Acuracy of fold: 0.674630261661\n",
      "Fold: 5\n",
      "Acuracy of fold: 0.670004551661\n",
      "Fold: 6\n",
      "Acuracy of fold: 0.681538811746\n",
      "Fold: 7\n",
      "Acuracy of fold: 0.658925318761\n",
      "Fold: 8\n",
      "Acuracy of fold: 0.649658314351\n",
      "Fold: 9\n",
      "Acuracy of fold: 0.669630642955\n",
      "Acuracy of overall: 0.670535490772\n"
     ]
    }
   ],
   "source": [
    "pred=eval_model_2()"
   ]
  },
  {
   "cell_type": "code",
   "execution_count": 92,
   "metadata": {},
   "outputs": [],
   "source": [
    "predictions2={}\n",
    "for group in groups:\n",
    "    predictions2[group]=pd.DataFrame(pred[group]).mode(axis=1)[0].astype('int').values"
   ]
  },
  {
   "cell_type": "code",
   "execution_count": 93,
   "metadata": {},
   "outputs": [
    {
     "name": "stdout",
     "output_type": "stream",
     "text": [
      "(76545, 5) (76545,)\n",
      "(40417, 5) (40417,)\n",
      "(55440, 5) (55440,)\n"
     ]
    }
   ],
   "source": [
    "for group in groups:\n",
    "    print(df_test[df_test.Group==group].shape,predictions2[group].shape)"
   ]
  },
  {
   "cell_type": "code",
   "execution_count": 94,
   "metadata": {},
   "outputs": [
    {
     "name": "stdout",
     "output_type": "stream",
     "text": [
      "beauty_\n",
      "mobile_\n",
      "fashion\n"
     ]
    }
   ],
   "source": [
    "for group in groups:\n",
    "    print(group)\n",
    "    df_test.loc[df_test.Group==group,'Category']=predictions2[group]"
   ]
  },
  {
   "cell_type": "code",
   "execution_count": 95,
   "metadata": {},
   "outputs": [],
   "source": [
    "df_test['Category']=df_test.Category.astype('int')"
   ]
  },
  {
   "cell_type": "code",
   "execution_count": 105,
   "metadata": {},
   "outputs": [
    {
     "data": {
      "text/html": [
       "<div>\n",
       "<style scoped>\n",
       "    .dataframe tbody tr th:only-of-type {\n",
       "        vertical-align: middle;\n",
       "    }\n",
       "\n",
       "    .dataframe tbody tr th {\n",
       "        vertical-align: top;\n",
       "    }\n",
       "\n",
       "    .dataframe thead th {\n",
       "        text-align: right;\n",
       "    }\n",
       "</style>\n",
       "<table border=\"1\" class=\"dataframe\">\n",
       "  <thead>\n",
       "    <tr style=\"text-align: right;\">\n",
       "      <th></th>\n",
       "      <th>itemid</th>\n",
       "      <th>title</th>\n",
       "      <th>image_path</th>\n",
       "      <th>Group</th>\n",
       "      <th>Category</th>\n",
       "    </tr>\n",
       "  </thead>\n",
       "  <tbody>\n",
       "    <tr>\n",
       "      <th>0</th>\n",
       "      <td>370855998</td>\n",
       "      <td>flormar 7 white cream bb spf 30 40ml</td>\n",
       "      <td>beauty_image/1588591395c5a254bab84042005f2a9f.jpg</td>\n",
       "      <td>beauty_</td>\n",
       "      <td>5</td>\n",
       "    </tr>\n",
       "    <tr>\n",
       "      <th>1</th>\n",
       "      <td>637234604</td>\n",
       "      <td>maybelline clear smooth all in one bb cream sp...</td>\n",
       "      <td>beauty_image/920985ed9587ea20f58686ea74e20f93.jpg</td>\n",
       "      <td>beauty_</td>\n",
       "      <td>5</td>\n",
       "    </tr>\n",
       "    <tr>\n",
       "      <th>2</th>\n",
       "      <td>690282890</td>\n",
       "      <td>murah innisfree eco natural green tea bb cream...</td>\n",
       "      <td>beauty_image/90b40e5710f54352b243fcfb0f5d1d7f.jpg</td>\n",
       "      <td>beauty_</td>\n",
       "      <td>5</td>\n",
       "    </tr>\n",
       "    <tr>\n",
       "      <th>3</th>\n",
       "      <td>930913462</td>\n",
       "      <td>loreal white perfect day cream spf 17 pa white...</td>\n",
       "      <td>beauty_image/289c668ef3d70e1d929d602d52d5d78a.jpg</td>\n",
       "      <td>beauty_</td>\n",
       "      <td>5</td>\n",
       "    </tr>\n",
       "    <tr>\n",
       "      <th>4</th>\n",
       "      <td>1039280071</td>\n",
       "      <td>hada labo cc cream ultimate anti aging spf 35 ...</td>\n",
       "      <td>beauty_image/d5b3e652c5822d2306f4560488ec30c6.jpg</td>\n",
       "      <td>beauty_</td>\n",
       "      <td>5</td>\n",
       "    </tr>\n",
       "  </tbody>\n",
       "</table>\n",
       "</div>"
      ],
      "text/plain": [
       "       itemid                                              title  \\\n",
       "0   370855998               flormar 7 white cream bb spf 30 40ml   \n",
       "1   637234604  maybelline clear smooth all in one bb cream sp...   \n",
       "2   690282890  murah innisfree eco natural green tea bb cream...   \n",
       "3   930913462  loreal white perfect day cream spf 17 pa white...   \n",
       "4  1039280071  hada labo cc cream ultimate anti aging spf 35 ...   \n",
       "\n",
       "                                          image_path    Group  Category  \n",
       "0  beauty_image/1588591395c5a254bab84042005f2a9f.jpg  beauty_         5  \n",
       "1  beauty_image/920985ed9587ea20f58686ea74e20f93.jpg  beauty_         5  \n",
       "2  beauty_image/90b40e5710f54352b243fcfb0f5d1d7f.jpg  beauty_         5  \n",
       "3  beauty_image/289c668ef3d70e1d929d602d52d5d78a.jpg  beauty_         5  \n",
       "4  beauty_image/d5b3e652c5822d2306f4560488ec30c6.jpg  beauty_         5  "
      ]
     },
     "execution_count": 105,
     "metadata": {},
     "output_type": "execute_result"
    }
   ],
   "source": [
    "df_test.head()"
   ]
  },
  {
   "cell_type": "code",
   "execution_count": 103,
   "metadata": {},
   "outputs": [
    {
     "data": {
      "text/plain": [
       "Int64Index([ 76545,  76546,  76547,  76548,  76549,  76550,  76551,  76552,\n",
       "             76553,  76554,\n",
       "            ...\n",
       "            131975, 131976, 131977, 131978, 131979, 131980, 131981, 131982,\n",
       "            131983, 131984],\n",
       "           dtype='int64', length=55440)"
      ]
     },
     "execution_count": 103,
     "metadata": {},
     "output_type": "execute_result"
    }
   ],
   "source": [
    "df_test[df_test.Group=='fashion'].index"
   ]
  },
  {
   "cell_type": "code",
   "execution_count": 96,
   "metadata": {},
   "outputs": [],
   "source": [
    "# We will change only fashion from previous submission\n",
    "df=pd.read_csv('ensemble_7.csv')"
   ]
  },
  {
   "cell_type": "code",
   "execution_count": 106,
   "metadata": {},
   "outputs": [],
   "source": [
    "df.loc[df_test[df_test.Group=='fashion'].index,'Category']=df_test[df_test.Group=='fashion'].Category"
   ]
  },
  {
   "cell_type": "code",
   "execution_count": 108,
   "metadata": {},
   "outputs": [],
   "source": [
    "#LB: 0.76788\n",
    "df_test[['itemid','Category']].to_csv('ensemble_7_v2.csv',index=False)"
   ]
  }
 ],
 "metadata": {
  "kernelspec": {
   "display_name": "Python 3",
   "language": "python",
   "name": "python3"
  },
  "language_info": {
   "codemirror_mode": {
    "name": "ipython",
    "version": 3
   },
   "file_extension": ".py",
   "mimetype": "text/x-python",
   "name": "python",
   "nbconvert_exporter": "python",
   "pygments_lexer": "ipython3",
   "version": "3.6.4"
  }
 },
 "nbformat": 4,
 "nbformat_minor": 1
}
