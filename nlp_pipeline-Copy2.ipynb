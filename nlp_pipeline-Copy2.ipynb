{
 "cells": [
  {
   "cell_type": "code",
   "execution_count": 1,
   "metadata": {
    "_cell_guid": "b1076dfc-b9ad-4769-8c92-a6c4dae69d19",
    "_uuid": "8f2839f25d086af736a60e9eeb907d3b93b6e0e5"
   },
   "outputs": [],
   "source": [
    "# This Python 3 environment comes with many helpful analytics libraries installed\n",
    "# It is defined by the kaggle/python docker image: https://github.com/kaggle/docker-python\n",
    "# For example, here's several helpful packages to load in \n",
    "\n",
    "import numpy as np # linear algebra\n",
    "import pandas as pd # data processing, CSV file I/O (e.g. pd.read_csv)\n",
    "\n",
    "# Input data files are available in the \"../input/\" directory.\n",
    "# For example, running this (by clicking run or pressing Shift+Enter) will list the files in the input directory\n",
    "\n",
    "# import os\n",
    "# print(os.listdir(\"../input\"))\n",
    "\n",
    "# Any results you write to the current directory are saved as output.|"
   ]
  },
  {
   "cell_type": "code",
   "execution_count": 2,
   "metadata": {
    "_uuid": "cf6729d67d579994890b66e39dd4ca4905be91a0"
   },
   "outputs": [],
   "source": [
    "import pandas as pd\n",
    "import numpy as np\n",
    "from sklearn.model_selection import cross_val_score, train_test_split\n",
    "from sklearn.feature_extraction.text import TfidfVectorizer, CountVectorizer\n",
    "from sklearn.naive_bayes import MultinomialNB, GaussianNB, BernoulliNB\n",
    "from nltk.corpus import stopwords\n",
    "\n",
    "# some linear models\n",
    "from sklearn.linear_model import LogisticRegression, BayesianRidge\n",
    "\n",
    "# SCM for classification\n",
    "from sklearn.svm import SVC\n",
    "\n",
    "from sklearn.pipeline import Pipeline\n",
    "\n",
    "import warnings\n",
    "warnings.filterwarnings('ignore')\n",
    "np.random.seed(2019)"
   ]
  },
  {
   "cell_type": "code",
   "execution_count": 3,
   "metadata": {},
   "outputs": [],
   "source": [
    "# run once to download data\n",
    "# import nltk\n",
    "# nltk.download()"
   ]
  },
  {
   "cell_type": "code",
   "execution_count": 4,
   "metadata": {
    "_uuid": "4377b5e5fe86395ca9882bbc0965f6960a8d21fa"
   },
   "outputs": [],
   "source": [
    "from sklearn.metrics import accuracy_score"
   ]
  },
  {
   "cell_type": "code",
   "execution_count": 5,
   "metadata": {
    "_uuid": "7e54cc9a009569af9de9e490acec589d933a9147"
   },
   "outputs": [],
   "source": [
    "df_train=pd.read_csv('train.csv')\n",
    "df_test=pd.read_csv('test.csv')\n",
    "df_cat=pd.read_json('categories.json')"
   ]
  },
  {
   "cell_type": "code",
   "execution_count": 6,
   "metadata": {},
   "outputs": [],
   "source": [
    "df_train['Group']=df_train.image_path.map(lambda x: x[:7])\n",
    "df_test['Group']=df_test.image_path.map(lambda x: x[:7])"
   ]
  },
  {
   "cell_type": "code",
   "execution_count": 7,
   "metadata": {
    "_cell_guid": "79c7e3d0-c299-4dcb-8224-4455121ee9b0",
    "_uuid": "d629ff2d2480ee46fbb7e2d37f6b5fab8052498a"
   },
   "outputs": [],
   "source": [
    "train,test=train_test_split(df_train,random_state=2019,stratify=df_train.Category,test_size=0.2)"
   ]
  },
  {
   "cell_type": "code",
   "execution_count": 8,
   "metadata": {
    "_uuid": "e1fb7371a737c677d4e038752b4296e4044048f5",
    "scrolled": false
   },
   "outputs": [
    {
     "name": "stdout",
     "output_type": "stream",
     "text": [
      "btb new blus casual wanita tanpa lengan dengan bahan sifon dan potongan longgar bergaya sexy\n",
      "iphone 7 plus 128gb red fullset original\n",
      "sale ben nye neutral set colorless powder poudre incolore 25 g\n",
      "terlaris dermovate cream hijau original\n",
      "termurah mini dress brokat gaun pesta murah party wanita\n",
      "samasung s7 flat\n",
      "obral 2018 new cotton checkered plaid blouses shirt cage female long sleeve casual slim women\n",
      "marcks bedak tabur 20 g new cn86\n",
      "new loreal paris true match blur cream 25ml stok terbatas\n",
      "sweater kaos hoodie lengan panjang bahan velvet untuk pria wanita\n"
     ]
    }
   ],
   "source": [
    "# Let's check few examples\n",
    "for i in range(10):\n",
    "    print(train.title.iloc[i])"
   ]
  },
  {
   "cell_type": "markdown",
   "metadata": {
    "_uuid": "9a7733605ba55f99eed740a059321a159e990999"
   },
   "source": [
    "## Building seperate models for each Groupb"
   ]
  },
  {
   "cell_type": "code",
   "execution_count": 9,
   "metadata": {
    "_uuid": "c15a893b7cf3ab107a65cd3536df387685611664"
   },
   "outputs": [
    {
     "name": "stdout",
     "output_type": "stream",
     "text": [
      "936\n"
     ]
    }
   ],
   "source": [
    "ignore_words = set(stopwords.words('english')).union(set(stopwords.words('indonesian')))\n",
    "print(len(ignore_words))"
   ]
  },
  {
   "cell_type": "code",
   "execution_count": 10,
   "metadata": {
    "_uuid": "8d6d5685a62a969e76fd1dfa38796b527a551de4"
   },
   "outputs": [
    {
     "name": "stdout",
     "output_type": "stream",
     "text": [
      "Some words are reduced by introducing stop words 70586 70968\n"
     ]
    }
   ],
   "source": [
    "# let's check for all of the data. This slightly helps to reduce dimensionality\n",
    "cv=CountVectorizer(stop_words=ignore_words)\n",
    "cv1=CountVectorizer() # No, stop words\n",
    "X_t=cv.fit_transform(train['title'])\n",
    "X_t1=cv1.fit_transform(train['title'])\n",
    "print('Some words are reduced by introducing stop words',X_t.shape[1],X_t1.shape[1])"
   ]
  },
  {
   "cell_type": "code",
   "execution_count": 10,
   "metadata": {
    "_uuid": "fa40b1e0343a64c28bf7a32ab348e42eb3c074a1"
   },
   "outputs": [],
   "source": [
    "# let's build pipeline for parameter search in n_grams and and various models\n",
    "lr=LogisticRegression()\n",
    "nb=MultinomialNB()\n",
    "svc=SVC()\n",
    "# let's check first three and see which one is best\n",
    "gnb=GaussianNB()\n",
    "bnb=BernoulliNB()\n",
    "br=BayesianRidge()\n",
    "\n",
    "pipe_lr=Pipeline([('vectorize', CountVectorizer(stop_words =ignore_words)),('model',lr)])\n"
   ]
  },
  {
   "cell_type": "code",
   "execution_count": 12,
   "metadata": {
    "_uuid": "30661f1b6c26ca2ebf30249cbf084bcc1a946b2f"
   },
   "outputs": [
    {
     "name": "stdout",
     "output_type": "stream",
     "text": [
      "Wall time: 1min 20s\n"
     ]
    },
    {
     "data": {
      "text/plain": [
       "Pipeline(memory=None,\n",
       "     steps=[('vectorize', CountVectorizer(analyzer='word', binary=False, decode_error='strict',\n",
       "        dtype=<class 'numpy.int64'>, encoding='utf-8', input='content',\n",
       "        lowercase=True, max_df=1.0, max_features=None, min_df=1,\n",
       "        ngram_range=(1, 1), preprocessor=None,\n",
       "        stop_words={'jang...penalty='l2', random_state=None, solver='warn',\n",
       "          tol=0.0001, verbose=0, warm_start=False))])"
      ]
     },
     "execution_count": 12,
     "metadata": {},
     "output_type": "execute_result"
    }
   ],
   "source": [
    "%time pipe_lr.fit(train[train.Group=='beauty_'].title,train[train.Group=='beauty_'].Category)"
   ]
  },
  {
   "cell_type": "code",
   "execution_count": 13,
   "metadata": {
    "_uuid": "6ee00501670e6e7a8935da218173ccfe0d0020c4"
   },
   "outputs": [
    {
     "name": "stdout",
     "output_type": "stream",
     "text": [
      "Wall time: 0 ns\n"
     ]
    },
    {
     "data": {
      "text/html": [
       "<div>\n",
       "<style scoped>\n",
       "    .dataframe tbody tr th:only-of-type {\n",
       "        vertical-align: middle;\n",
       "    }\n",
       "\n",
       "    .dataframe tbody tr th {\n",
       "        vertical-align: top;\n",
       "    }\n",
       "\n",
       "    .dataframe thead th {\n",
       "        text-align: right;\n",
       "    }\n",
       "</style>\n",
       "<table border=\"1\" class=\"dataframe\">\n",
       "  <thead>\n",
       "    <tr style=\"text-align: right;\">\n",
       "      <th></th>\n",
       "      <th>itemid</th>\n",
       "      <th>title</th>\n",
       "      <th>Category</th>\n",
       "      <th>image_path</th>\n",
       "      <th>Group</th>\n",
       "    </tr>\n",
       "  </thead>\n",
       "  <tbody>\n",
       "    <tr>\n",
       "      <th>539829</th>\n",
       "      <td>1058517290</td>\n",
       "      <td>xiaomi mi a1 garansi resmi 1 tahun tam</td>\n",
       "      <td>34</td>\n",
       "      <td>mobile_image/3912586cdf51144db783b2bac1ee4d3f.jpg</td>\n",
       "      <td>mobile_</td>\n",
       "    </tr>\n",
       "    <tr>\n",
       "      <th>473036</th>\n",
       "      <td>286463264</td>\n",
       "      <td>blus sexy model off shoulder</td>\n",
       "      <td>26</td>\n",
       "      <td>fashion_image/cb790137111e2525cd895c3375fe84c0</td>\n",
       "      <td>fashion</td>\n",
       "    </tr>\n",
       "    <tr>\n",
       "      <th>252009</th>\n",
       "      <td>1537965166</td>\n",
       "      <td>best sale jafra royal jelly radiance foundatio...</td>\n",
       "      <td>1</td>\n",
       "      <td>beauty_image/5adfe3e65ad2f51a1e67db85a3de8e18.jpg</td>\n",
       "      <td>beauty_</td>\n",
       "    </tr>\n",
       "    <tr>\n",
       "      <th>355772</th>\n",
       "      <td>1465709373</td>\n",
       "      <td>dress midi bodycon casual elegan warna polos u...</td>\n",
       "      <td>22</td>\n",
       "      <td>fashion_image/cbedaa2404fb377dc6c271a1081f7baa</td>\n",
       "      <td>fashion</td>\n",
       "    </tr>\n",
       "    <tr>\n",
       "      <th>553954</th>\n",
       "      <td>1195506745</td>\n",
       "      <td>promo discon samsung galaxy s7 flat sein garan...</td>\n",
       "      <td>35</td>\n",
       "      <td>mobile_image/bb327fec3989b18f714deb3c07203fb8.jpg</td>\n",
       "      <td>mobile_</td>\n",
       "    </tr>\n",
       "  </tbody>\n",
       "</table>\n",
       "</div>"
      ],
      "text/plain": [
       "            itemid                                              title  \\\n",
       "539829  1058517290             xiaomi mi a1 garansi resmi 1 tahun tam   \n",
       "473036   286463264                       blus sexy model off shoulder   \n",
       "252009  1537965166  best sale jafra royal jelly radiance foundatio...   \n",
       "355772  1465709373  dress midi bodycon casual elegan warna polos u...   \n",
       "553954  1195506745  promo discon samsung galaxy s7 flat sein garan...   \n",
       "\n",
       "        Category                                         image_path    Group  \n",
       "539829        34  mobile_image/3912586cdf51144db783b2bac1ee4d3f.jpg  mobile_  \n",
       "473036        26     fashion_image/cb790137111e2525cd895c3375fe84c0  fashion  \n",
       "252009         1  beauty_image/5adfe3e65ad2f51a1e67db85a3de8e18.jpg  beauty_  \n",
       "355772        22     fashion_image/cbedaa2404fb377dc6c271a1081f7baa  fashion  \n",
       "553954        35  mobile_image/bb327fec3989b18f714deb3c07203fb8.jpg  mobile_  "
      ]
     },
     "execution_count": 13,
     "metadata": {},
     "output_type": "execute_result"
    }
   ],
   "source": [
    "%%time\n",
    "test.head()"
   ]
  },
  {
   "cell_type": "code",
   "execution_count": 14,
   "metadata": {
    "_uuid": "74ee95d37eb94c9b6b538bffbf1b665caa261093"
   },
   "outputs": [
    {
     "name": "stdout",
     "output_type": "stream",
     "text": [
      "Wall time: 416 ms\n"
     ]
    }
   ],
   "source": [
    "%%time\n",
    "pred=pipe_lr.predict(test[test.Group=='beauty_'].title)"
   ]
  },
  {
   "cell_type": "code",
   "execution_count": 15,
   "metadata": {
    "_uuid": "d1e1a0c2aa128fe330f99dcdda06d3c2f2aa2440"
   },
   "outputs": [
    {
     "name": "stdout",
     "output_type": "stream",
     "text": [
      "Wall time: 32.9 ms\n"
     ]
    },
    {
     "data": {
      "text/plain": [
       "0.7626009735331577"
      ]
     },
     "execution_count": 15,
     "metadata": {},
     "output_type": "execute_result"
    }
   ],
   "source": [
    "%%time\n",
    "accuracy_score(test[test.Group=='beauty_'].Category,pred)\n",
    "\n",
    "\n",
    "# without removing stop words :0.76361288971858265\n",
    "# removing stop_words: 0.7626009735331577"
   ]
  },
  {
   "cell_type": "code",
   "execution_count": 16,
   "metadata": {
    "_uuid": "1c972c1e9ca335f643ba32ca27eab9641a95ab0f"
   },
   "outputs": [
    {
     "name": "stdout",
     "output_type": "stream",
     "text": [
      "Wall time: 446 ms\n"
     ]
    }
   ],
   "source": [
    "%%time\n",
    "score=pipe_lr.score(test[test.Group=='beauty_'].title,test[test.Group=='beauty_'].Category)"
   ]
  },
  {
   "cell_type": "code",
   "execution_count": 11,
   "metadata": {
    "_uuid": "cb6c68515e239a6e0c30df3c9e87b580f61b8346"
   },
   "outputs": [],
   "source": [
    "from sklearn.model_selection import GridSearchCV\n",
    "from tqdm import tqdm"
   ]
  },
  {
   "cell_type": "markdown",
   "metadata": {},
   "source": [
    "## Previously I have tried both TfidfVectorizer, CountVectorizer for both naive bayes and logistic regression. But it turns out that Countvectorizer with logistic regression gives best results. I have removed stop words from english and indonesian. Than, I did parameter optimization for n_grams. It turns out that best ngram_range is (1,3 for beauty and mobile products and (1,5) for fashion. \n",
    "\n",
    "## (1,5) might be not the most optimal we might still imporove by increasing it.\n",
    "\n",
    "\n",
    "## I also run this simulation for NB. The optimal ngram_range was ... I lost it in kernel!!\n",
    "\n",
    "## but it was smth like for mobile (1,2) and for beauty and fashion (2,5) we can do it again, it won't take much time. Score were still less than logistic regression\n",
    "\n",
    "## I also tried svc (SVM) but it takes to much time imposimble to train espacially if there is many features\n",
    "\n"
   ]
  },
  {
   "cell_type": "code",
   "execution_count": 41,
   "metadata": {
    "scrolled": true
   },
   "outputs": [
    {
     "name": "stderr",
     "output_type": "stream",
     "text": [
      "\n",
      "\n",
      "\n",
      "\n",
      "\n",
      "  0%|                                                                                            | 0/3 [00:00<?, ?it/s]"
     ]
    },
    {
     "name": "stdout",
     "output_type": "stream",
     "text": [
      "Fitting 3 folds for each of 9 candidates, totalling 27 fits\n"
     ]
    },
    {
     "name": "stderr",
     "output_type": "stream",
     "text": [
      "[Parallel(n_jobs=1)]: Using backend SequentialBackend with 1 concurrent workers.\n",
      "[Parallel(n_jobs=1)]: Done  27 out of  27 | elapsed: 70.8min finished\n",
      "\n",
      "\n",
      "\n",
      "\n",
      "\n",
      " 33%|██████████████████████████                                                    | 1/3 [1:16:24<2:32:49, 4584.77s/it]"
     ]
    },
    {
     "name": "stdout",
     "output_type": "stream",
     "text": [
      "Fitting 3 folds for each of 9 candidates, totalling 27 fits\n"
     ]
    },
    {
     "name": "stderr",
     "output_type": "stream",
     "text": [
      "[Parallel(n_jobs=1)]: Using backend SequentialBackend with 1 concurrent workers.\n",
      "[Parallel(n_jobs=1)]: Done  27 out of  27 | elapsed: 35.8min finished\n",
      "\n",
      "\n",
      "\n",
      "\n",
      "\n",
      " 67%|████████████████████████████████████████████████████                          | 2/3 [1:54:44<1:04:59, 3899.33s/it]"
     ]
    },
    {
     "name": "stdout",
     "output_type": "stream",
     "text": [
      "Fitting 3 folds for each of 9 candidates, totalling 27 fits\n"
     ]
    },
    {
     "name": "stderr",
     "output_type": "stream",
     "text": [
      "[Parallel(n_jobs=1)]: Using backend SequentialBackend with 1 concurrent workers.\n",
      "[Parallel(n_jobs=1)]: Done  27 out of  27 | elapsed: 79.9min finished\n",
      "\n",
      "\n",
      "\n",
      "\n",
      "\n",
      "100%|████████████████████████████████████████████████████████████████████████████████| 3/3 [3:25:23<00:00, 4361.02s/it]"
     ]
    }
   ],
   "source": [
    "# Uncomment if u want to run this code but it will take a lot of time\n",
    "# testing n jobs\n",
    "# pipe_lr=Pipeline([('vectorize', CountVectorizer(stop_words =ignore_words)),('model',lr)])\n",
    "# params={'vectorize__ngram_range':[(j,i) for j in range(1,3) for i in range(j,6)]}\n",
    "# best_param={}\n",
    "# best_score={}\n",
    "# for group in tqdm(['beauty_','mobile_','fashion']):\n",
    "#     grid_search=GridSearchCV(pipe_lr,param_grid=params, verbose=1)\n",
    "#     X=df_train[df_train.Group==group].title\n",
    "#     y=df_train[df_train.Group==group].Category\n",
    "#     grid_search.fit(X,y)\n",
    "#     best_param[group]=grid_search.best_params_\n",
    "#     best_score[group]=grid_search.best_score_"
   ]
  },
  {
   "cell_type": "code",
   "execution_count": 43,
   "metadata": {
    "scrolled": true
   },
   "outputs": [
    {
     "data": {
      "text/plain": [
       "{'beauty_': {'vectorize__ngram_range': (1, 3)},\n",
       " 'mobile_': {'vectorize__ngram_range': (1, 3)},\n",
       " 'fashion': {'vectorize__ngram_range': (1, 5)}}"
      ]
     },
     "execution_count": 43,
     "metadata": {},
     "output_type": "execute_result"
    }
   ],
   "source": [
    "best_param\n",
    "# {'beauty_': {'vectorize__ngram_range': (1, 3)},\n",
    "#  'mobile_': {'vectorize__ngram_range': (1, 3)},\n",
    "#  'fashion': {'vectorize__ngram_range': (1, 5)}}"
   ]
  },
  {
   "cell_type": "code",
   "execution_count": 44,
   "metadata": {
    "scrolled": true
   },
   "outputs": [
    {
     "data": {
      "text/plain": [
       "{'beauty_': 0.78295293161143542,\n",
       " 'mobile_': 0.8236574564959771,\n",
       " 'fashion': 0.6426796296802032}"
      ]
     },
     "execution_count": 44,
     "metadata": {},
     "output_type": "execute_result"
    }
   ],
   "source": [
    "best_score\n",
    "#{'beauty_': 0.78295293161143542,\n",
    "#  'mobile_': 0.8236574564959771,\n",
    "#  'fashion': 0.6426796296802032}"
   ]
  },
  {
   "cell_type": "code",
   "execution_count": 47,
   "metadata": {},
   "outputs": [],
   "source": [
    "# Best cv scores for parameter for lr.\n",
    "pipe_beauty=Pipeline([('vectorize', CountVectorizer(stop_words =ignore_words,ngram_range=(1,3))),('model',lr)])\n",
    "pipe_mobile=Pipeline([('vectorize', CountVectorizer(stop_words =ignore_words,ngram_range=(1,3))),('model',lr)])\n",
    "pipe_fashion=Pipeline([('vectorize', CountVectorizer(stop_words =ignore_words,ngram_range=(1,5))),('model',lr)])\n",
    "pipe=[pipe_beauty,pipe_mobile,pipe_fashion]"
   ]
  },
  {
   "cell_type": "code",
   "execution_count": 48,
   "metadata": {},
   "outputs": [],
   "source": [
    "groups=['beauty_','mobile_','fashion']\n",
    "predictions={}\n",
    "for i in range(3):\n",
    "    model=pipe[i]\n",
    "    X=df_train[df_train.Group==groups[i]].title\n",
    "    y=df_train[df_train.Group==groups[i]].Category\n",
    "    model.fit(X,y)\n",
    "    predictions[groups[i]]=model.predict(df_test[df_test.Group==groups[i]].title)\n",
    "    \n"
   ]
  },
  {
   "cell_type": "code",
   "execution_count": 49,
   "metadata": {},
   "outputs": [],
   "source": [
    "# Let's also do it for 80 percent of data. As we did for images\n",
    "predictions_val={}\n",
    "predictions_test={}\n",
    "for i in range(3):\n",
    "    model=pipe[i]\n",
    "    X=train[train.Group==groups[i]].title\n",
    "    y=train[train.Group==groups[i]].Category\n",
    "    model.fit(X,y)\n",
    "    predictions_val[groups[i]]=model.predict(test[test.Group==groups[i]].title)\n",
    "    predictions_test[groups[i]]=model.predict(df_test[df_test.Group==groups[i]].title)\n"
   ]
  },
  {
   "cell_type": "code",
   "execution_count": 82,
   "metadata": {},
   "outputs": [],
   "source": [
    "def submission(name,dic):\n",
    "    df_sub=df_test.copy()\n",
    "    for group in dic.keys():\n",
    "        df_sub.loc[df_sub.Group==group,'Category']=dic[group]\n",
    "    df_sub.loc[:,'Category']=df_sub.Category.astype('int')\n",
    "    df_sub[['itemid','Category']].to_csv(name,index=False)"
   ]
  },
  {
   "cell_type": "code",
   "execution_count": 83,
   "metadata": {},
   "outputs": [
    {
     "name": "stdout",
     "output_type": "stream",
     "text": [
      "0.884536051544\n"
     ]
    }
   ],
   "source": [
    "# Let's check accuracy in validation set\n",
    "for group in predictions_val.keys():\n",
    "    test_=test.copy()\n",
    "    test_.loc[test_.Group==group,'Category']=predictions_val[group]\n",
    "print(accuracy_score(test.Category,test_.Category))\n",
    "# Wow results seems to be impressive 0.884536051544"
   ]
  },
  {
   "cell_type": "code",
   "execution_count": 84,
   "metadata": {},
   "outputs": [],
   "source": [
    "# LB: 0.75599\n",
    "# Trained to 80% of data\n",
    "submission('first_nlp_submission.csv',predictions_test)"
   ]
  },
  {
   "cell_type": "code",
   "execution_count": 87,
   "metadata": {},
   "outputs": [],
   "source": [
    "# Trained to all data: 0.76140\n",
    "# Trained to all data. Improved to 0.0054\n",
    "\n",
    "submission('2_nlp_all_data.csv',predictions)"
   ]
  },
  {
   "cell_type": "code",
   "execution_count": 98,
   "metadata": {},
   "outputs": [],
   "source": [
    "# We need to save predict proba for both validation and test set. also save for predict proba for \n",
    "\n",
    "predict_proba_val={}\n",
    "predict_proba_test={}\n",
    "classes={}\n",
    "for i in range(3):\n",
    "    model=pipe[i]\n",
    "    X=train[train.Group==groups[i]].title\n",
    "    y=train[train.Group==groups[i]].Category\n",
    "    model.fit(X,y)\n",
    "    classes[groups[i]]=model.classes_\n",
    "    predictions_val[groups[i]]=model.predict_proba(test[test.Group==groups[i]].title)\n",
    "    predictions_test[groups[i]]=model.predict_proba(df_test[df_test.Group==groups[i]].title)"
   ]
  },
  {
   "cell_type": "code",
   "execution_count": 135,
   "metadata": {},
   "outputs": [],
   "source": [
    "# Saving probabilities of validation set\n",
    "for i in range(3):\n",
    "    df=pd.DataFrame(predictions_val[groups[i]])\n",
    "    df.columns=classes[groups[i]]\n",
    "    df['pred']=df.idxmax(axis=1) # do it before placing itemid or category otherwise column type will become string type\n",
    "    df['itemid']=test[test.Group==groups[i]].itemid.values # values is essensial since indexes are different\n",
    "    df['Category']=test[test.Group==groups[i]].Category.values\n",
    "    df.to_csv(groups[i]+'_val_proba_nlp.csv',index=False)\n",
    "    "
   ]
  },
  {
   "cell_type": "code",
   "execution_count": 232,
   "metadata": {},
   "outputs": [],
   "source": [
    "for i in range(3):\n",
    "    df=pd.DataFrame(predictions_test[groups[i]])\n",
    "    df.columns=classes[groups[i]]\n",
    "    df['pred']=df.idxmax(axis=1)\n",
    "    df['itemid']=df_test[df_test.Group==groups[i]].itemid.values\n",
    "    df.to_csv(groups[i]+'_test_proba_nlp.csv',index=False)"
   ]
  },
  {
   "cell_type": "code",
   "execution_count": 146,
   "metadata": {},
   "outputs": [],
   "source": [
    "import seaborn as sns\n",
    "import matplotlib.pylab as plt\n",
    "%matplotlib notebook\n",
    "from sklearn.metrics import confusion_matrix"
   ]
  },
  {
   "cell_type": "code",
   "execution_count": 189,
   "metadata": {},
   "outputs": [
    {
     "data": {
      "text/plain": [
       "['beauty_', 'mobile_', 'fashion']"
      ]
     },
     "execution_count": 189,
     "metadata": {},
     "output_type": "execute_result"
    }
   ],
   "source": [
    "groups"
   ]
  },
  {
   "cell_type": "code",
   "execution_count": 190,
   "metadata": {},
   "outputs": [],
   "source": [
    "# Similar names for columns as groups\n",
    "df_cat.columns=['beauty_','fashion','mobile_']"
   ]
  },
  {
   "cell_type": "code",
   "execution_count": 191,
   "metadata": {},
   "outputs": [],
   "source": [
    "def plot_confusion(group):\n",
    "    df_val=pd.read_csv(group+'_val_proba_nlp.csv')\n",
    "    confusion=confusion_matrix(df_val['Category'],df_val['pred'])\n",
    "    labels=df_cat[group].dropna().astype('int').sort_values().index\n",
    "    sns.heatmap(confusion,annot=True, fmt=\"d\", cmap=\"YlGnBu\", linewidths=0.5,xticklabels=labels,yticklabels=labels)\n"
   ]
  },
  {
   "cell_type": "code",
   "execution_count": 195,
   "metadata": {
    "scrolled": true
   },
   "outputs": [
    {
     "data": {
      "application/javascript": [
       "/* Put everything inside the global mpl namespace */\n",
       "window.mpl = {};\n",
       "\n",
       "\n",
       "mpl.get_websocket_type = function() {\n",
       "    if (typeof(WebSocket) !== 'undefined') {\n",
       "        return WebSocket;\n",
       "    } else if (typeof(MozWebSocket) !== 'undefined') {\n",
       "        return MozWebSocket;\n",
       "    } else {\n",
       "        alert('Your browser does not have WebSocket support.' +\n",
       "              'Please try Chrome, Safari or Firefox ≥ 6. ' +\n",
       "              'Firefox 4 and 5 are also supported but you ' +\n",
       "              'have to enable WebSockets in about:config.');\n",
       "    };\n",
       "}\n",
       "\n",
       "mpl.figure = function(figure_id, websocket, ondownload, parent_element) {\n",
       "    this.id = figure_id;\n",
       "\n",
       "    this.ws = websocket;\n",
       "\n",
       "    this.supports_binary = (this.ws.binaryType != undefined);\n",
       "\n",
       "    if (!this.supports_binary) {\n",
       "        var warnings = document.getElementById(\"mpl-warnings\");\n",
       "        if (warnings) {\n",
       "            warnings.style.display = 'block';\n",
       "            warnings.textContent = (\n",
       "                \"This browser does not support binary websocket messages. \" +\n",
       "                    \"Performance may be slow.\");\n",
       "        }\n",
       "    }\n",
       "\n",
       "    this.imageObj = new Image();\n",
       "\n",
       "    this.context = undefined;\n",
       "    this.message = undefined;\n",
       "    this.canvas = undefined;\n",
       "    this.rubberband_canvas = undefined;\n",
       "    this.rubberband_context = undefined;\n",
       "    this.format_dropdown = undefined;\n",
       "\n",
       "    this.image_mode = 'full';\n",
       "\n",
       "    this.root = $('<div/>');\n",
       "    this._root_extra_style(this.root)\n",
       "    this.root.attr('style', 'display: inline-block');\n",
       "\n",
       "    $(parent_element).append(this.root);\n",
       "\n",
       "    this._init_header(this);\n",
       "    this._init_canvas(this);\n",
       "    this._init_toolbar(this);\n",
       "\n",
       "    var fig = this;\n",
       "\n",
       "    this.waiting = false;\n",
       "\n",
       "    this.ws.onopen =  function () {\n",
       "            fig.send_message(\"supports_binary\", {value: fig.supports_binary});\n",
       "            fig.send_message(\"send_image_mode\", {});\n",
       "            if (mpl.ratio != 1) {\n",
       "                fig.send_message(\"set_dpi_ratio\", {'dpi_ratio': mpl.ratio});\n",
       "            }\n",
       "            fig.send_message(\"refresh\", {});\n",
       "        }\n",
       "\n",
       "    this.imageObj.onload = function() {\n",
       "            if (fig.image_mode == 'full') {\n",
       "                // Full images could contain transparency (where diff images\n",
       "                // almost always do), so we need to clear the canvas so that\n",
       "                // there is no ghosting.\n",
       "                fig.context.clearRect(0, 0, fig.canvas.width, fig.canvas.height);\n",
       "            }\n",
       "            fig.context.drawImage(fig.imageObj, 0, 0);\n",
       "        };\n",
       "\n",
       "    this.imageObj.onunload = function() {\n",
       "        fig.ws.close();\n",
       "    }\n",
       "\n",
       "    this.ws.onmessage = this._make_on_message_function(this);\n",
       "\n",
       "    this.ondownload = ondownload;\n",
       "}\n",
       "\n",
       "mpl.figure.prototype._init_header = function() {\n",
       "    var titlebar = $(\n",
       "        '<div class=\"ui-dialog-titlebar ui-widget-header ui-corner-all ' +\n",
       "        'ui-helper-clearfix\"/>');\n",
       "    var titletext = $(\n",
       "        '<div class=\"ui-dialog-title\" style=\"width: 100%; ' +\n",
       "        'text-align: center; padding: 3px;\"/>');\n",
       "    titlebar.append(titletext)\n",
       "    this.root.append(titlebar);\n",
       "    this.header = titletext[0];\n",
       "}\n",
       "\n",
       "\n",
       "\n",
       "mpl.figure.prototype._canvas_extra_style = function(canvas_div) {\n",
       "\n",
       "}\n",
       "\n",
       "\n",
       "mpl.figure.prototype._root_extra_style = function(canvas_div) {\n",
       "\n",
       "}\n",
       "\n",
       "mpl.figure.prototype._init_canvas = function() {\n",
       "    var fig = this;\n",
       "\n",
       "    var canvas_div = $('<div/>');\n",
       "\n",
       "    canvas_div.attr('style', 'position: relative; clear: both; outline: 0');\n",
       "\n",
       "    function canvas_keyboard_event(event) {\n",
       "        return fig.key_event(event, event['data']);\n",
       "    }\n",
       "\n",
       "    canvas_div.keydown('key_press', canvas_keyboard_event);\n",
       "    canvas_div.keyup('key_release', canvas_keyboard_event);\n",
       "    this.canvas_div = canvas_div\n",
       "    this._canvas_extra_style(canvas_div)\n",
       "    this.root.append(canvas_div);\n",
       "\n",
       "    var canvas = $('<canvas/>');\n",
       "    canvas.addClass('mpl-canvas');\n",
       "    canvas.attr('style', \"left: 0; top: 0; z-index: 0; outline: 0\")\n",
       "\n",
       "    this.canvas = canvas[0];\n",
       "    this.context = canvas[0].getContext(\"2d\");\n",
       "\n",
       "    var backingStore = this.context.backingStorePixelRatio ||\n",
       "\tthis.context.webkitBackingStorePixelRatio ||\n",
       "\tthis.context.mozBackingStorePixelRatio ||\n",
       "\tthis.context.msBackingStorePixelRatio ||\n",
       "\tthis.context.oBackingStorePixelRatio ||\n",
       "\tthis.context.backingStorePixelRatio || 1;\n",
       "\n",
       "    mpl.ratio = (window.devicePixelRatio || 1) / backingStore;\n",
       "\n",
       "    var rubberband = $('<canvas/>');\n",
       "    rubberband.attr('style', \"position: absolute; left: 0; top: 0; z-index: 1;\")\n",
       "\n",
       "    var pass_mouse_events = true;\n",
       "\n",
       "    canvas_div.resizable({\n",
       "        start: function(event, ui) {\n",
       "            pass_mouse_events = false;\n",
       "        },\n",
       "        resize: function(event, ui) {\n",
       "            fig.request_resize(ui.size.width, ui.size.height);\n",
       "        },\n",
       "        stop: function(event, ui) {\n",
       "            pass_mouse_events = true;\n",
       "            fig.request_resize(ui.size.width, ui.size.height);\n",
       "        },\n",
       "    });\n",
       "\n",
       "    function mouse_event_fn(event) {\n",
       "        if (pass_mouse_events)\n",
       "            return fig.mouse_event(event, event['data']);\n",
       "    }\n",
       "\n",
       "    rubberband.mousedown('button_press', mouse_event_fn);\n",
       "    rubberband.mouseup('button_release', mouse_event_fn);\n",
       "    // Throttle sequential mouse events to 1 every 20ms.\n",
       "    rubberband.mousemove('motion_notify', mouse_event_fn);\n",
       "\n",
       "    rubberband.mouseenter('figure_enter', mouse_event_fn);\n",
       "    rubberband.mouseleave('figure_leave', mouse_event_fn);\n",
       "\n",
       "    canvas_div.on(\"wheel\", function (event) {\n",
       "        event = event.originalEvent;\n",
       "        event['data'] = 'scroll'\n",
       "        if (event.deltaY < 0) {\n",
       "            event.step = 1;\n",
       "        } else {\n",
       "            event.step = -1;\n",
       "        }\n",
       "        mouse_event_fn(event);\n",
       "    });\n",
       "\n",
       "    canvas_div.append(canvas);\n",
       "    canvas_div.append(rubberband);\n",
       "\n",
       "    this.rubberband = rubberband;\n",
       "    this.rubberband_canvas = rubberband[0];\n",
       "    this.rubberband_context = rubberband[0].getContext(\"2d\");\n",
       "    this.rubberband_context.strokeStyle = \"#000000\";\n",
       "\n",
       "    this._resize_canvas = function(width, height) {\n",
       "        // Keep the size of the canvas, canvas container, and rubber band\n",
       "        // canvas in synch.\n",
       "        canvas_div.css('width', width)\n",
       "        canvas_div.css('height', height)\n",
       "\n",
       "        canvas.attr('width', width * mpl.ratio);\n",
       "        canvas.attr('height', height * mpl.ratio);\n",
       "        canvas.attr('style', 'width: ' + width + 'px; height: ' + height + 'px;');\n",
       "\n",
       "        rubberband.attr('width', width);\n",
       "        rubberband.attr('height', height);\n",
       "    }\n",
       "\n",
       "    // Set the figure to an initial 600x600px, this will subsequently be updated\n",
       "    // upon first draw.\n",
       "    this._resize_canvas(600, 600);\n",
       "\n",
       "    // Disable right mouse context menu.\n",
       "    $(this.rubberband_canvas).bind(\"contextmenu\",function(e){\n",
       "        return false;\n",
       "    });\n",
       "\n",
       "    function set_focus () {\n",
       "        canvas.focus();\n",
       "        canvas_div.focus();\n",
       "    }\n",
       "\n",
       "    window.setTimeout(set_focus, 100);\n",
       "}\n",
       "\n",
       "mpl.figure.prototype._init_toolbar = function() {\n",
       "    var fig = this;\n",
       "\n",
       "    var nav_element = $('<div/>')\n",
       "    nav_element.attr('style', 'width: 100%');\n",
       "    this.root.append(nav_element);\n",
       "\n",
       "    // Define a callback function for later on.\n",
       "    function toolbar_event(event) {\n",
       "        return fig.toolbar_button_onclick(event['data']);\n",
       "    }\n",
       "    function toolbar_mouse_event(event) {\n",
       "        return fig.toolbar_button_onmouseover(event['data']);\n",
       "    }\n",
       "\n",
       "    for(var toolbar_ind in mpl.toolbar_items) {\n",
       "        var name = mpl.toolbar_items[toolbar_ind][0];\n",
       "        var tooltip = mpl.toolbar_items[toolbar_ind][1];\n",
       "        var image = mpl.toolbar_items[toolbar_ind][2];\n",
       "        var method_name = mpl.toolbar_items[toolbar_ind][3];\n",
       "\n",
       "        if (!name) {\n",
       "            // put a spacer in here.\n",
       "            continue;\n",
       "        }\n",
       "        var button = $('<button/>');\n",
       "        button.addClass('ui-button ui-widget ui-state-default ui-corner-all ' +\n",
       "                        'ui-button-icon-only');\n",
       "        button.attr('role', 'button');\n",
       "        button.attr('aria-disabled', 'false');\n",
       "        button.click(method_name, toolbar_event);\n",
       "        button.mouseover(tooltip, toolbar_mouse_event);\n",
       "\n",
       "        var icon_img = $('<span/>');\n",
       "        icon_img.addClass('ui-button-icon-primary ui-icon');\n",
       "        icon_img.addClass(image);\n",
       "        icon_img.addClass('ui-corner-all');\n",
       "\n",
       "        var tooltip_span = $('<span/>');\n",
       "        tooltip_span.addClass('ui-button-text');\n",
       "        tooltip_span.html(tooltip);\n",
       "\n",
       "        button.append(icon_img);\n",
       "        button.append(tooltip_span);\n",
       "\n",
       "        nav_element.append(button);\n",
       "    }\n",
       "\n",
       "    var fmt_picker_span = $('<span/>');\n",
       "\n",
       "    var fmt_picker = $('<select/>');\n",
       "    fmt_picker.addClass('mpl-toolbar-option ui-widget ui-widget-content');\n",
       "    fmt_picker_span.append(fmt_picker);\n",
       "    nav_element.append(fmt_picker_span);\n",
       "    this.format_dropdown = fmt_picker[0];\n",
       "\n",
       "    for (var ind in mpl.extensions) {\n",
       "        var fmt = mpl.extensions[ind];\n",
       "        var option = $(\n",
       "            '<option/>', {selected: fmt === mpl.default_extension}).html(fmt);\n",
       "        fmt_picker.append(option)\n",
       "    }\n",
       "\n",
       "    // Add hover states to the ui-buttons\n",
       "    $( \".ui-button\" ).hover(\n",
       "        function() { $(this).addClass(\"ui-state-hover\");},\n",
       "        function() { $(this).removeClass(\"ui-state-hover\");}\n",
       "    );\n",
       "\n",
       "    var status_bar = $('<span class=\"mpl-message\"/>');\n",
       "    nav_element.append(status_bar);\n",
       "    this.message = status_bar[0];\n",
       "}\n",
       "\n",
       "mpl.figure.prototype.request_resize = function(x_pixels, y_pixels) {\n",
       "    // Request matplotlib to resize the figure. Matplotlib will then trigger a resize in the client,\n",
       "    // which will in turn request a refresh of the image.\n",
       "    this.send_message('resize', {'width': x_pixels, 'height': y_pixels});\n",
       "}\n",
       "\n",
       "mpl.figure.prototype.send_message = function(type, properties) {\n",
       "    properties['type'] = type;\n",
       "    properties['figure_id'] = this.id;\n",
       "    this.ws.send(JSON.stringify(properties));\n",
       "}\n",
       "\n",
       "mpl.figure.prototype.send_draw_message = function() {\n",
       "    if (!this.waiting) {\n",
       "        this.waiting = true;\n",
       "        this.ws.send(JSON.stringify({type: \"draw\", figure_id: this.id}));\n",
       "    }\n",
       "}\n",
       "\n",
       "\n",
       "mpl.figure.prototype.handle_save = function(fig, msg) {\n",
       "    var format_dropdown = fig.format_dropdown;\n",
       "    var format = format_dropdown.options[format_dropdown.selectedIndex].value;\n",
       "    fig.ondownload(fig, format);\n",
       "}\n",
       "\n",
       "\n",
       "mpl.figure.prototype.handle_resize = function(fig, msg) {\n",
       "    var size = msg['size'];\n",
       "    if (size[0] != fig.canvas.width || size[1] != fig.canvas.height) {\n",
       "        fig._resize_canvas(size[0], size[1]);\n",
       "        fig.send_message(\"refresh\", {});\n",
       "    };\n",
       "}\n",
       "\n",
       "mpl.figure.prototype.handle_rubberband = function(fig, msg) {\n",
       "    var x0 = msg['x0'] / mpl.ratio;\n",
       "    var y0 = (fig.canvas.height - msg['y0']) / mpl.ratio;\n",
       "    var x1 = msg['x1'] / mpl.ratio;\n",
       "    var y1 = (fig.canvas.height - msg['y1']) / mpl.ratio;\n",
       "    x0 = Math.floor(x0) + 0.5;\n",
       "    y0 = Math.floor(y0) + 0.5;\n",
       "    x1 = Math.floor(x1) + 0.5;\n",
       "    y1 = Math.floor(y1) + 0.5;\n",
       "    var min_x = Math.min(x0, x1);\n",
       "    var min_y = Math.min(y0, y1);\n",
       "    var width = Math.abs(x1 - x0);\n",
       "    var height = Math.abs(y1 - y0);\n",
       "\n",
       "    fig.rubberband_context.clearRect(\n",
       "        0, 0, fig.canvas.width, fig.canvas.height);\n",
       "\n",
       "    fig.rubberband_context.strokeRect(min_x, min_y, width, height);\n",
       "}\n",
       "\n",
       "mpl.figure.prototype.handle_figure_label = function(fig, msg) {\n",
       "    // Updates the figure title.\n",
       "    fig.header.textContent = msg['label'];\n",
       "}\n",
       "\n",
       "mpl.figure.prototype.handle_cursor = function(fig, msg) {\n",
       "    var cursor = msg['cursor'];\n",
       "    switch(cursor)\n",
       "    {\n",
       "    case 0:\n",
       "        cursor = 'pointer';\n",
       "        break;\n",
       "    case 1:\n",
       "        cursor = 'default';\n",
       "        break;\n",
       "    case 2:\n",
       "        cursor = 'crosshair';\n",
       "        break;\n",
       "    case 3:\n",
       "        cursor = 'move';\n",
       "        break;\n",
       "    }\n",
       "    fig.rubberband_canvas.style.cursor = cursor;\n",
       "}\n",
       "\n",
       "mpl.figure.prototype.handle_message = function(fig, msg) {\n",
       "    fig.message.textContent = msg['message'];\n",
       "}\n",
       "\n",
       "mpl.figure.prototype.handle_draw = function(fig, msg) {\n",
       "    // Request the server to send over a new figure.\n",
       "    fig.send_draw_message();\n",
       "}\n",
       "\n",
       "mpl.figure.prototype.handle_image_mode = function(fig, msg) {\n",
       "    fig.image_mode = msg['mode'];\n",
       "}\n",
       "\n",
       "mpl.figure.prototype.updated_canvas_event = function() {\n",
       "    // Called whenever the canvas gets updated.\n",
       "    this.send_message(\"ack\", {});\n",
       "}\n",
       "\n",
       "// A function to construct a web socket function for onmessage handling.\n",
       "// Called in the figure constructor.\n",
       "mpl.figure.prototype._make_on_message_function = function(fig) {\n",
       "    return function socket_on_message(evt) {\n",
       "        if (evt.data instanceof Blob) {\n",
       "            /* FIXME: We get \"Resource interpreted as Image but\n",
       "             * transferred with MIME type text/plain:\" errors on\n",
       "             * Chrome.  But how to set the MIME type?  It doesn't seem\n",
       "             * to be part of the websocket stream */\n",
       "            evt.data.type = \"image/png\";\n",
       "\n",
       "            /* Free the memory for the previous frames */\n",
       "            if (fig.imageObj.src) {\n",
       "                (window.URL || window.webkitURL).revokeObjectURL(\n",
       "                    fig.imageObj.src);\n",
       "            }\n",
       "\n",
       "            fig.imageObj.src = (window.URL || window.webkitURL).createObjectURL(\n",
       "                evt.data);\n",
       "            fig.updated_canvas_event();\n",
       "            fig.waiting = false;\n",
       "            return;\n",
       "        }\n",
       "        else if (typeof evt.data === 'string' && evt.data.slice(0, 21) == \"data:image/png;base64\") {\n",
       "            fig.imageObj.src = evt.data;\n",
       "            fig.updated_canvas_event();\n",
       "            fig.waiting = false;\n",
       "            return;\n",
       "        }\n",
       "\n",
       "        var msg = JSON.parse(evt.data);\n",
       "        var msg_type = msg['type'];\n",
       "\n",
       "        // Call the  \"handle_{type}\" callback, which takes\n",
       "        // the figure and JSON message as its only arguments.\n",
       "        try {\n",
       "            var callback = fig[\"handle_\" + msg_type];\n",
       "        } catch (e) {\n",
       "            console.log(\"No handler for the '\" + msg_type + \"' message type: \", msg);\n",
       "            return;\n",
       "        }\n",
       "\n",
       "        if (callback) {\n",
       "            try {\n",
       "                // console.log(\"Handling '\" + msg_type + \"' message: \", msg);\n",
       "                callback(fig, msg);\n",
       "            } catch (e) {\n",
       "                console.log(\"Exception inside the 'handler_\" + msg_type + \"' callback:\", e, e.stack, msg);\n",
       "            }\n",
       "        }\n",
       "    };\n",
       "}\n",
       "\n",
       "// from http://stackoverflow.com/questions/1114465/getting-mouse-location-in-canvas\n",
       "mpl.findpos = function(e) {\n",
       "    //this section is from http://www.quirksmode.org/js/events_properties.html\n",
       "    var targ;\n",
       "    if (!e)\n",
       "        e = window.event;\n",
       "    if (e.target)\n",
       "        targ = e.target;\n",
       "    else if (e.srcElement)\n",
       "        targ = e.srcElement;\n",
       "    if (targ.nodeType == 3) // defeat Safari bug\n",
       "        targ = targ.parentNode;\n",
       "\n",
       "    // jQuery normalizes the pageX and pageY\n",
       "    // pageX,Y are the mouse positions relative to the document\n",
       "    // offset() returns the position of the element relative to the document\n",
       "    var x = e.pageX - $(targ).offset().left;\n",
       "    var y = e.pageY - $(targ).offset().top;\n",
       "\n",
       "    return {\"x\": x, \"y\": y};\n",
       "};\n",
       "\n",
       "/*\n",
       " * return a copy of an object with only non-object keys\n",
       " * we need this to avoid circular references\n",
       " * http://stackoverflow.com/a/24161582/3208463\n",
       " */\n",
       "function simpleKeys (original) {\n",
       "  return Object.keys(original).reduce(function (obj, key) {\n",
       "    if (typeof original[key] !== 'object')\n",
       "        obj[key] = original[key]\n",
       "    return obj;\n",
       "  }, {});\n",
       "}\n",
       "\n",
       "mpl.figure.prototype.mouse_event = function(event, name) {\n",
       "    var canvas_pos = mpl.findpos(event)\n",
       "\n",
       "    if (name === 'button_press')\n",
       "    {\n",
       "        this.canvas.focus();\n",
       "        this.canvas_div.focus();\n",
       "    }\n",
       "\n",
       "    var x = canvas_pos.x * mpl.ratio;\n",
       "    var y = canvas_pos.y * mpl.ratio;\n",
       "\n",
       "    this.send_message(name, {x: x, y: y, button: event.button,\n",
       "                             step: event.step,\n",
       "                             guiEvent: simpleKeys(event)});\n",
       "\n",
       "    /* This prevents the web browser from automatically changing to\n",
       "     * the text insertion cursor when the button is pressed.  We want\n",
       "     * to control all of the cursor setting manually through the\n",
       "     * 'cursor' event from matplotlib */\n",
       "    event.preventDefault();\n",
       "    return false;\n",
       "}\n",
       "\n",
       "mpl.figure.prototype._key_event_extra = function(event, name) {\n",
       "    // Handle any extra behaviour associated with a key event\n",
       "}\n",
       "\n",
       "mpl.figure.prototype.key_event = function(event, name) {\n",
       "\n",
       "    // Prevent repeat events\n",
       "    if (name == 'key_press')\n",
       "    {\n",
       "        if (event.which === this._key)\n",
       "            return;\n",
       "        else\n",
       "            this._key = event.which;\n",
       "    }\n",
       "    if (name == 'key_release')\n",
       "        this._key = null;\n",
       "\n",
       "    var value = '';\n",
       "    if (event.ctrlKey && event.which != 17)\n",
       "        value += \"ctrl+\";\n",
       "    if (event.altKey && event.which != 18)\n",
       "        value += \"alt+\";\n",
       "    if (event.shiftKey && event.which != 16)\n",
       "        value += \"shift+\";\n",
       "\n",
       "    value += 'k';\n",
       "    value += event.which.toString();\n",
       "\n",
       "    this._key_event_extra(event, name);\n",
       "\n",
       "    this.send_message(name, {key: value,\n",
       "                             guiEvent: simpleKeys(event)});\n",
       "    return false;\n",
       "}\n",
       "\n",
       "mpl.figure.prototype.toolbar_button_onclick = function(name) {\n",
       "    if (name == 'download') {\n",
       "        this.handle_save(this, null);\n",
       "    } else {\n",
       "        this.send_message(\"toolbar_button\", {name: name});\n",
       "    }\n",
       "};\n",
       "\n",
       "mpl.figure.prototype.toolbar_button_onmouseover = function(tooltip) {\n",
       "    this.message.textContent = tooltip;\n",
       "};\n",
       "mpl.toolbar_items = [[\"Home\", \"Reset original view\", \"fa fa-home icon-home\", \"home\"], [\"Back\", \"Back to  previous view\", \"fa fa-arrow-left icon-arrow-left\", \"back\"], [\"Forward\", \"Forward to next view\", \"fa fa-arrow-right icon-arrow-right\", \"forward\"], [\"\", \"\", \"\", \"\"], [\"Pan\", \"Pan axes with left mouse, zoom with right\", \"fa fa-arrows icon-move\", \"pan\"], [\"Zoom\", \"Zoom to rectangle\", \"fa fa-square-o icon-check-empty\", \"zoom\"], [\"\", \"\", \"\", \"\"], [\"Download\", \"Download plot\", \"fa fa-floppy-o icon-save\", \"download\"]];\n",
       "\n",
       "mpl.extensions = [\"eps\", \"jpeg\", \"pdf\", \"png\", \"ps\", \"raw\", \"svg\", \"tif\"];\n",
       "\n",
       "mpl.default_extension = \"png\";var comm_websocket_adapter = function(comm) {\n",
       "    // Create a \"websocket\"-like object which calls the given IPython comm\n",
       "    // object with the appropriate methods. Currently this is a non binary\n",
       "    // socket, so there is still some room for performance tuning.\n",
       "    var ws = {};\n",
       "\n",
       "    ws.close = function() {\n",
       "        comm.close()\n",
       "    };\n",
       "    ws.send = function(m) {\n",
       "        //console.log('sending', m);\n",
       "        comm.send(m);\n",
       "    };\n",
       "    // Register the callback with on_msg.\n",
       "    comm.on_msg(function(msg) {\n",
       "        //console.log('receiving', msg['content']['data'], msg);\n",
       "        // Pass the mpl event to the overriden (by mpl) onmessage function.\n",
       "        ws.onmessage(msg['content']['data'])\n",
       "    });\n",
       "    return ws;\n",
       "}\n",
       "\n",
       "mpl.mpl_figure_comm = function(comm, msg) {\n",
       "    // This is the function which gets called when the mpl process\n",
       "    // starts-up an IPython Comm through the \"matplotlib\" channel.\n",
       "\n",
       "    var id = msg.content.data.id;\n",
       "    // Get hold of the div created by the display call when the Comm\n",
       "    // socket was opened in Python.\n",
       "    var element = $(\"#\" + id);\n",
       "    var ws_proxy = comm_websocket_adapter(comm)\n",
       "\n",
       "    function ondownload(figure, format) {\n",
       "        window.open(figure.imageObj.src);\n",
       "    }\n",
       "\n",
       "    var fig = new mpl.figure(id, ws_proxy,\n",
       "                           ondownload,\n",
       "                           element.get(0));\n",
       "\n",
       "    // Call onopen now - mpl needs it, as it is assuming we've passed it a real\n",
       "    // web socket which is closed, not our websocket->open comm proxy.\n",
       "    ws_proxy.onopen();\n",
       "\n",
       "    fig.parent_element = element.get(0);\n",
       "    fig.cell_info = mpl.find_output_cell(\"<div id='\" + id + \"'></div>\");\n",
       "    if (!fig.cell_info) {\n",
       "        console.error(\"Failed to find cell for figure\", id, fig);\n",
       "        return;\n",
       "    }\n",
       "\n",
       "    var output_index = fig.cell_info[2]\n",
       "    var cell = fig.cell_info[0];\n",
       "\n",
       "};\n",
       "\n",
       "mpl.figure.prototype.handle_close = function(fig, msg) {\n",
       "    var width = fig.canvas.width/mpl.ratio\n",
       "    fig.root.unbind('remove')\n",
       "\n",
       "    // Update the output cell to use the data from the current canvas.\n",
       "    fig.push_to_output();\n",
       "    var dataURL = fig.canvas.toDataURL();\n",
       "    // Re-enable the keyboard manager in IPython - without this line, in FF,\n",
       "    // the notebook keyboard shortcuts fail.\n",
       "    IPython.keyboard_manager.enable()\n",
       "    $(fig.parent_element).html('<img src=\"' + dataURL + '\" width=\"' + width + '\">');\n",
       "    fig.close_ws(fig, msg);\n",
       "}\n",
       "\n",
       "mpl.figure.prototype.close_ws = function(fig, msg){\n",
       "    fig.send_message('closing', msg);\n",
       "    // fig.ws.close()\n",
       "}\n",
       "\n",
       "mpl.figure.prototype.push_to_output = function(remove_interactive) {\n",
       "    // Turn the data on the canvas into data in the output cell.\n",
       "    var width = this.canvas.width/mpl.ratio\n",
       "    var dataURL = this.canvas.toDataURL();\n",
       "    this.cell_info[1]['text/html'] = '<img src=\"' + dataURL + '\" width=\"' + width + '\">';\n",
       "}\n",
       "\n",
       "mpl.figure.prototype.updated_canvas_event = function() {\n",
       "    // Tell IPython that the notebook contents must change.\n",
       "    IPython.notebook.set_dirty(true);\n",
       "    this.send_message(\"ack\", {});\n",
       "    var fig = this;\n",
       "    // Wait a second, then push the new image to the DOM so\n",
       "    // that it is saved nicely (might be nice to debounce this).\n",
       "    setTimeout(function () { fig.push_to_output() }, 1000);\n",
       "}\n",
       "\n",
       "mpl.figure.prototype._init_toolbar = function() {\n",
       "    var fig = this;\n",
       "\n",
       "    var nav_element = $('<div/>')\n",
       "    nav_element.attr('style', 'width: 100%');\n",
       "    this.root.append(nav_element);\n",
       "\n",
       "    // Define a callback function for later on.\n",
       "    function toolbar_event(event) {\n",
       "        return fig.toolbar_button_onclick(event['data']);\n",
       "    }\n",
       "    function toolbar_mouse_event(event) {\n",
       "        return fig.toolbar_button_onmouseover(event['data']);\n",
       "    }\n",
       "\n",
       "    for(var toolbar_ind in mpl.toolbar_items){\n",
       "        var name = mpl.toolbar_items[toolbar_ind][0];\n",
       "        var tooltip = mpl.toolbar_items[toolbar_ind][1];\n",
       "        var image = mpl.toolbar_items[toolbar_ind][2];\n",
       "        var method_name = mpl.toolbar_items[toolbar_ind][3];\n",
       "\n",
       "        if (!name) { continue; };\n",
       "\n",
       "        var button = $('<button class=\"btn btn-default\" href=\"#\" title=\"' + name + '\"><i class=\"fa ' + image + ' fa-lg\"></i></button>');\n",
       "        button.click(method_name, toolbar_event);\n",
       "        button.mouseover(tooltip, toolbar_mouse_event);\n",
       "        nav_element.append(button);\n",
       "    }\n",
       "\n",
       "    // Add the status bar.\n",
       "    var status_bar = $('<span class=\"mpl-message\" style=\"text-align:right; float: right;\"/>');\n",
       "    nav_element.append(status_bar);\n",
       "    this.message = status_bar[0];\n",
       "\n",
       "    // Add the close button to the window.\n",
       "    var buttongrp = $('<div class=\"btn-group inline pull-right\"></div>');\n",
       "    var button = $('<button class=\"btn btn-mini btn-primary\" href=\"#\" title=\"Stop Interaction\"><i class=\"fa fa-power-off icon-remove icon-large\"></i></button>');\n",
       "    button.click(function (evt) { fig.handle_close(fig, {}); } );\n",
       "    button.mouseover('Stop Interaction', toolbar_mouse_event);\n",
       "    buttongrp.append(button);\n",
       "    var titlebar = this.root.find($('.ui-dialog-titlebar'));\n",
       "    titlebar.prepend(buttongrp);\n",
       "}\n",
       "\n",
       "mpl.figure.prototype._root_extra_style = function(el){\n",
       "    var fig = this\n",
       "    el.on(\"remove\", function(){\n",
       "\tfig.close_ws(fig, {});\n",
       "    });\n",
       "}\n",
       "\n",
       "mpl.figure.prototype._canvas_extra_style = function(el){\n",
       "    // this is important to make the div 'focusable\n",
       "    el.attr('tabindex', 0)\n",
       "    // reach out to IPython and tell the keyboard manager to turn it's self\n",
       "    // off when our div gets focus\n",
       "\n",
       "    // location in version 3\n",
       "    if (IPython.notebook.keyboard_manager) {\n",
       "        IPython.notebook.keyboard_manager.register_events(el);\n",
       "    }\n",
       "    else {\n",
       "        // location in version 2\n",
       "        IPython.keyboard_manager.register_events(el);\n",
       "    }\n",
       "\n",
       "}\n",
       "\n",
       "mpl.figure.prototype._key_event_extra = function(event, name) {\n",
       "    var manager = IPython.notebook.keyboard_manager;\n",
       "    if (!manager)\n",
       "        manager = IPython.keyboard_manager;\n",
       "\n",
       "    // Check for shift+enter\n",
       "    if (event.shiftKey && event.which == 13) {\n",
       "        this.canvas_div.blur();\n",
       "        event.shiftKey = false;\n",
       "        // Send a \"J\" for go to next cell\n",
       "        event.which = 74;\n",
       "        event.keyCode = 74;\n",
       "        manager.command_mode();\n",
       "        manager.handle_keydown(event);\n",
       "    }\n",
       "}\n",
       "\n",
       "mpl.figure.prototype.handle_save = function(fig, msg) {\n",
       "    fig.ondownload(fig, null);\n",
       "}\n",
       "\n",
       "\n",
       "mpl.find_output_cell = function(html_output) {\n",
       "    // Return the cell and output element which can be found *uniquely* in the notebook.\n",
       "    // Note - this is a bit hacky, but it is done because the \"notebook_saving.Notebook\"\n",
       "    // IPython event is triggered only after the cells have been serialised, which for\n",
       "    // our purposes (turning an active figure into a static one), is too late.\n",
       "    var cells = IPython.notebook.get_cells();\n",
       "    var ncells = cells.length;\n",
       "    for (var i=0; i<ncells; i++) {\n",
       "        var cell = cells[i];\n",
       "        if (cell.cell_type === 'code'){\n",
       "            for (var j=0; j<cell.output_area.outputs.length; j++) {\n",
       "                var data = cell.output_area.outputs[j];\n",
       "                if (data.data) {\n",
       "                    // IPython >= 3 moved mimebundle to data attribute of output\n",
       "                    data = data.data;\n",
       "                }\n",
       "                if (data['text/html'] == html_output) {\n",
       "                    return [cell, data, j];\n",
       "                }\n",
       "            }\n",
       "        }\n",
       "    }\n",
       "}\n",
       "\n",
       "// Register the function which deals with the matplotlib target/channel.\n",
       "// The kernel may be null if the page has been refreshed.\n",
       "if (IPython.notebook.kernel != null) {\n",
       "    IPython.notebook.kernel.comm_manager.register_target('matplotlib', mpl.mpl_figure_comm);\n",
       "}\n"
      ],
      "text/plain": [
       "<IPython.core.display.Javascript object>"
      ]
     },
     "metadata": {},
     "output_type": "display_data"
    },
    {
     "data": {
      "text/html": [
       "<img src=\"data:image/png;base64,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\" width=\"640\">"
      ],
      "text/plain": [
       "<IPython.core.display.HTML object>"
      ]
     },
     "metadata": {},
     "output_type": "display_data"
    }
   ],
   "source": [
    "# \n",
    "plot_confusion('mobile_')"
   ]
  },
  {
   "cell_type": "markdown",
   "metadata": {},
   "source": [
    "## Let's predict with naive bayes approach"
   ]
  },
  {
   "cell_type": "code",
   "execution_count": 202,
   "metadata": {},
   "outputs": [
    {
     "name": "stderr",
     "output_type": "stream",
     "text": [
      "\n",
      "\n",
      "\n",
      "\n",
      "\n",
      "\n",
      "  0%|                                                                                            | 0/3 [00:00<?, ?it/s]"
     ]
    },
    {
     "name": "stdout",
     "output_type": "stream",
     "text": [
      "Fitting 3 folds for each of 15 candidates, totalling 45 fits\n"
     ]
    },
    {
     "name": "stderr",
     "output_type": "stream",
     "text": [
      "[Parallel(n_jobs=1)]: Using backend SequentialBackend with 1 concurrent workers.\n",
      "[Parallel(n_jobs=1)]: Done  45 out of  45 | elapsed:  7.3min finished\n"
     ]
    },
    {
     "name": "stdout",
     "output_type": "stream",
     "text": [
      "beauty_ best parameters : {'vectorize__ngram_range': (2, 6)}\n",
      "beauty_ best score : 0.759556568254\n"
     ]
    },
    {
     "name": "stderr",
     "output_type": "stream",
     "text": [
      "\n",
      "\n",
      "\n",
      "\n",
      "\n",
      "\n",
      " 33%|███████████████████████████▋                                                       | 1/3 [07:28<14:56, 448.42s/it]"
     ]
    },
    {
     "name": "stdout",
     "output_type": "stream",
     "text": [
      "Fitting 3 folds for each of 15 candidates, totalling 45 fits\n"
     ]
    },
    {
     "name": "stderr",
     "output_type": "stream",
     "text": [
      "[Parallel(n_jobs=1)]: Using backend SequentialBackend with 1 concurrent workers.\n",
      "[Parallel(n_jobs=1)]: Done  45 out of  45 | elapsed:  4.9min finished\n"
     ]
    },
    {
     "name": "stdout",
     "output_type": "stream",
     "text": [
      "mobile_ best parameters : {'vectorize__ngram_range': (1, 2)}\n",
      "mobile_ best score : 0.776423626271\n"
     ]
    },
    {
     "name": "stderr",
     "output_type": "stream",
     "text": [
      "\n",
      "\n",
      "\n",
      "\n",
      "\n",
      "\n",
      " 67%|███████████████████████████████████████████████████████▎                           | 2/3 [12:25<06:43, 403.06s/it]"
     ]
    },
    {
     "name": "stdout",
     "output_type": "stream",
     "text": [
      "Fitting 3 folds for each of 15 candidates, totalling 45 fits\n"
     ]
    },
    {
     "name": "stderr",
     "output_type": "stream",
     "text": [
      "[Parallel(n_jobs=1)]: Using backend SequentialBackend with 1 concurrent workers.\n",
      "[Parallel(n_jobs=1)]: Done  45 out of  45 | elapsed:  8.8min finished\n"
     ]
    },
    {
     "name": "stdout",
     "output_type": "stream",
     "text": [
      "fashion best parameters : {'vectorize__ngram_range': (2, 6)}\n",
      "fashion best score : 0.585465767267\n"
     ]
    },
    {
     "name": "stderr",
     "output_type": "stream",
     "text": [
      "\n",
      "\n",
      "\n",
      "\n",
      "\n",
      "\n",
      "100%|███████████████████████████████████████████████████████████████████████████████████| 3/3 [21:31<00:00, 445.87s/it]"
     ]
    }
   ],
   "source": [
    "# Uncomment if u want to run this code but it will take a lot of time\n",
    "\n",
    "pipe_nb=Pipeline([('vectorize', CountVectorizer(stop_words =ignore_words)),('model',nb)])\n",
    "params={'vectorize__ngram_range':[(j,i) for j in range(1,4) for i in range(j,7)]}\n",
    "best_param_nb={}\n",
    "best_score_nb={}\n",
    "for group in tqdm(['beauty_','mobile_','fashion']):\n",
    "    grid_search=GridSearchCV(pipe_nb,param_grid=params, verbose=1)\n",
    "    X=df_train[df_train.Group==group].title\n",
    "    y=df_train[df_train.Group==group].Category\n",
    "    grid_search.fit(X,y)\n",
    "    best_param_nb[group]=grid_search.best_params_\n",
    "    print(group+ ' best parameters :',grid_search.best_params_ )\n",
    "    best_score_nb[group]=grid_search.best_score_\n",
    "    print(group+ ' best score :',grid_search.best_score_)"
   ]
  },
  {
   "cell_type": "code",
   "execution_count": 203,
   "metadata": {},
   "outputs": [
    {
     "name": "stdout",
     "output_type": "stream",
     "text": [
      "{'beauty_': {'vectorize__ngram_range': (2, 6)}, 'mobile_': {'vectorize__ngram_range': (1, 2)}, 'fashion': {'vectorize__ngram_range': (2, 6)}}\n",
      "{'beauty_': 0.75955656825422302, 'mobile_': 0.7764236262708164, 'fashion': 0.58546576726657018}\n"
     ]
    }
   ],
   "source": [
    "print(best_param_nb)\n",
    "print(best_score_nb)\n",
    "# {'beauty_': {'vectorize__ngram_range': (2, 6)}, 'mobile_': {'vectorize__ngram_range': (1, 2)}, 'fashion': {'vectorize__ngram_range': (2, 6)}}\n",
    "# {'beauty_': 0.75955656825422302, 'mobile_': 0.7764236262708164, 'fashion': 0.58546576726657018}"
   ]
  },
  {
   "cell_type": "code",
   "execution_count": 204,
   "metadata": {},
   "outputs": [],
   "source": [
    "pipe_nb_beauty=Pipeline([('vectorize', CountVectorizer(stop_words =ignore_words,ngram_range=(2,6))),('model',nb)])\n",
    "pipe_nb_mobile=Pipeline([('vectorize', CountVectorizer(stop_words =ignore_words,ngram_range=(1,2))),('model',nb)])\n",
    "pipe_nb_fashion=Pipeline([('vectorize', CountVectorizer(stop_words =ignore_words,ngram_range=(2,6))),('model',nb)])\n",
    "\n",
    "pipe_nb_all=[pipe_nb_beauty,pipe_nb_mobile,pipe_nb_fashion]\n"
   ]
  },
  {
   "cell_type": "code",
   "execution_count": 219,
   "metadata": {},
   "outputs": [
    {
     "data": {
      "text/plain": [
       "['beauty_', 'mobile_', 'fashion']"
      ]
     },
     "execution_count": 219,
     "metadata": {},
     "output_type": "execute_result"
    }
   ],
   "source": [
    "groups"
   ]
  },
  {
   "cell_type": "code",
   "execution_count": 205,
   "metadata": {},
   "outputs": [],
   "source": [
    "# Let's get predictions and predict proba for naive bayes approch\n",
    "pred_nb_proba_val={}\n",
    "pred_nb_proba_test={}\n",
    "classes={}\n",
    "for i in range(3):\n",
    "    model=pipe_nb_all[i]\n",
    "    X=train[train.Group==groups[i]].title\n",
    "    y=train[train.Group==groups[i]].Category\n",
    "    model.fit(X,y)\n",
    "    classes[groups[i]]=model.classes_\n",
    "    pred_nb_proba_val[groups[i]]=model.predict_proba(test[test.Group==groups[i]].title)\n",
    "    pred_nb_proba_test[groups[i]]=model.predict_proba(df_test[df_test.Group==groups[i]].title)"
   ]
  },
  {
   "cell_type": "code",
   "execution_count": 206,
   "metadata": {},
   "outputs": [],
   "source": [
    "# Saving probabilities of validation set\n",
    "for i in range(3):\n",
    "    df=pd.DataFrame(pred_nb_proba_val[groups[i]])\n",
    "    df.columns=classes[groups[i]]\n",
    "    df['pred']=df.idxmax(axis=1) # do it before placing itemid or category otherwise column type will become string type\n",
    "    df['itemid']=test[test.Group==groups[i]].itemid.values # values is essensial since indexes are different\n",
    "    df['Category']=test[test.Group==groups[i]].Category.values\n",
    "    df.to_csv(groups[i]+'_val_proba_nlp_nb.csv',index=False)\n",
    "    "
   ]
  },
  {
   "cell_type": "code",
   "execution_count": 230,
   "metadata": {},
   "outputs": [],
   "source": [
    "# Saving Predictions for final test set\n",
    "for i in range(3):\n",
    "    df=pd.DataFrame(pred_nb_proba_test[groups[i]])\n",
    "    df.columns=classes[groups[i]]\n",
    "    df['pred']=df.idxmax(axis=1)\n",
    "    df['itemid']=df_test[df_test.Group==groups[i]].itemid.values\n",
    "    df.to_csv(groups[i]+'_test_proba_nlp_nb.csv',index=False)"
   ]
  },
  {
   "cell_type": "code",
   "execution_count": 234,
   "metadata": {},
   "outputs": [
    {
     "data": {
      "text/html": [
       "<div>\n",
       "<style scoped>\n",
       "    .dataframe tbody tr th:only-of-type {\n",
       "        vertical-align: middle;\n",
       "    }\n",
       "\n",
       "    .dataframe tbody tr th {\n",
       "        vertical-align: top;\n",
       "    }\n",
       "\n",
       "    .dataframe thead th {\n",
       "        text-align: right;\n",
       "    }\n",
       "</style>\n",
       "<table border=\"1\" class=\"dataframe\">\n",
       "  <thead>\n",
       "    <tr style=\"text-align: right;\">\n",
       "      <th></th>\n",
       "      <th>17</th>\n",
       "      <th>18</th>\n",
       "      <th>19</th>\n",
       "      <th>20</th>\n",
       "      <th>21</th>\n",
       "      <th>22</th>\n",
       "      <th>23</th>\n",
       "      <th>24</th>\n",
       "      <th>25</th>\n",
       "      <th>26</th>\n",
       "      <th>27</th>\n",
       "      <th>28</th>\n",
       "      <th>29</th>\n",
       "      <th>30</th>\n",
       "      <th>pred</th>\n",
       "      <th>itemid</th>\n",
       "    </tr>\n",
       "  </thead>\n",
       "  <tbody>\n",
       "    <tr>\n",
       "      <th>0</th>\n",
       "      <td>6.720209e-43</td>\n",
       "      <td>1.000000</td>\n",
       "      <td>6.149509e-34</td>\n",
       "      <td>3.309461e-25</td>\n",
       "      <td>2.752949e-26</td>\n",
       "      <td>1.695179e-24</td>\n",
       "      <td>2.027707e-44</td>\n",
       "      <td>6.182425e-40</td>\n",
       "      <td>1.329289e-25</td>\n",
       "      <td>6.679208e-24</td>\n",
       "      <td>5.952756e-33</td>\n",
       "      <td>4.125224e-38</td>\n",
       "      <td>8.234526e-40</td>\n",
       "      <td>1.453271e-44</td>\n",
       "      <td>18</td>\n",
       "      <td>670968580</td>\n",
       "    </tr>\n",
       "    <tr>\n",
       "      <th>1</th>\n",
       "      <td>4.075469e-37</td>\n",
       "      <td>1.000000</td>\n",
       "      <td>1.932446e-25</td>\n",
       "      <td>6.487402e-09</td>\n",
       "      <td>1.458588e-14</td>\n",
       "      <td>1.090629e-14</td>\n",
       "      <td>4.815468e-40</td>\n",
       "      <td>3.591847e-25</td>\n",
       "      <td>2.738468e-16</td>\n",
       "      <td>2.619602e-14</td>\n",
       "      <td>4.532866e-17</td>\n",
       "      <td>1.365040e-26</td>\n",
       "      <td>2.068206e-31</td>\n",
       "      <td>1.270402e-35</td>\n",
       "      <td>18</td>\n",
       "      <td>475599610</td>\n",
       "    </tr>\n",
       "    <tr>\n",
       "      <th>2</th>\n",
       "      <td>4.146882e-23</td>\n",
       "      <td>1.000000</td>\n",
       "      <td>2.141677e-14</td>\n",
       "      <td>9.282700e-11</td>\n",
       "      <td>3.845574e-07</td>\n",
       "      <td>3.441676e-08</td>\n",
       "      <td>1.585585e-23</td>\n",
       "      <td>1.909405e-14</td>\n",
       "      <td>3.356453e-09</td>\n",
       "      <td>1.760287e-11</td>\n",
       "      <td>4.032022e-12</td>\n",
       "      <td>7.451022e-16</td>\n",
       "      <td>3.550435e-17</td>\n",
       "      <td>5.839274e-21</td>\n",
       "      <td>18</td>\n",
       "      <td>1652671018</td>\n",
       "    </tr>\n",
       "    <tr>\n",
       "      <th>3</th>\n",
       "      <td>2.718293e-54</td>\n",
       "      <td>1.000000</td>\n",
       "      <td>9.744483e-29</td>\n",
       "      <td>1.426167e-11</td>\n",
       "      <td>1.814553e-16</td>\n",
       "      <td>3.252939e-13</td>\n",
       "      <td>1.022717e-42</td>\n",
       "      <td>2.185748e-34</td>\n",
       "      <td>7.387602e-20</td>\n",
       "      <td>1.746652e-20</td>\n",
       "      <td>1.046630e-25</td>\n",
       "      <td>3.519806e-25</td>\n",
       "      <td>2.050690e-34</td>\n",
       "      <td>6.939551e-52</td>\n",
       "      <td>18</td>\n",
       "      <td>1705634904</td>\n",
       "    </tr>\n",
       "    <tr>\n",
       "      <th>4</th>\n",
       "      <td>3.974198e-13</td>\n",
       "      <td>0.996962</td>\n",
       "      <td>5.236210e-08</td>\n",
       "      <td>2.294817e-06</td>\n",
       "      <td>1.710155e-07</td>\n",
       "      <td>1.289462e-04</td>\n",
       "      <td>4.849529e-13</td>\n",
       "      <td>2.216650e-10</td>\n",
       "      <td>1.897201e-05</td>\n",
       "      <td>2.887897e-03</td>\n",
       "      <td>2.958207e-09</td>\n",
       "      <td>2.041948e-13</td>\n",
       "      <td>3.297127e-13</td>\n",
       "      <td>1.762035e-13</td>\n",
       "      <td>18</td>\n",
       "      <td>1789421087</td>\n",
       "    </tr>\n",
       "  </tbody>\n",
       "</table>\n",
       "</div>"
      ],
      "text/plain": [
       "             17        18            19            20            21  \\\n",
       "0  6.720209e-43  1.000000  6.149509e-34  3.309461e-25  2.752949e-26   \n",
       "1  4.075469e-37  1.000000  1.932446e-25  6.487402e-09  1.458588e-14   \n",
       "2  4.146882e-23  1.000000  2.141677e-14  9.282700e-11  3.845574e-07   \n",
       "3  2.718293e-54  1.000000  9.744483e-29  1.426167e-11  1.814553e-16   \n",
       "4  3.974198e-13  0.996962  5.236210e-08  2.294817e-06  1.710155e-07   \n",
       "\n",
       "             22            23            24            25            26  \\\n",
       "0  1.695179e-24  2.027707e-44  6.182425e-40  1.329289e-25  6.679208e-24   \n",
       "1  1.090629e-14  4.815468e-40  3.591847e-25  2.738468e-16  2.619602e-14   \n",
       "2  3.441676e-08  1.585585e-23  1.909405e-14  3.356453e-09  1.760287e-11   \n",
       "3  3.252939e-13  1.022717e-42  2.185748e-34  7.387602e-20  1.746652e-20   \n",
       "4  1.289462e-04  4.849529e-13  2.216650e-10  1.897201e-05  2.887897e-03   \n",
       "\n",
       "             27            28            29            30  pred      itemid  \n",
       "0  5.952756e-33  4.125224e-38  8.234526e-40  1.453271e-44    18   670968580  \n",
       "1  4.532866e-17  1.365040e-26  2.068206e-31  1.270402e-35    18   475599610  \n",
       "2  4.032022e-12  7.451022e-16  3.550435e-17  5.839274e-21    18  1652671018  \n",
       "3  1.046630e-25  3.519806e-25  2.050690e-34  6.939551e-52    18  1705634904  \n",
       "4  2.958207e-09  2.041948e-13  3.297127e-13  1.762035e-13    18  1789421087  "
      ]
     },
     "execution_count": 234,
     "metadata": {},
     "output_type": "execute_result"
    }
   ],
   "source": [
    "## Now let's try ensembling\n",
    "## Predict proba values are extreme it will be hard to use them for ensembling\n",
    "df=pd.read_csv('fashion_test_proba_nlp_nb.csv')\n",
    "df.head()"
   ]
  },
  {
   "cell_type": "code",
   "execution_count": 245,
   "metadata": {},
   "outputs": [],
   "source": [
    "df_image_beauty=pd.read_csv('val_beauty.csv')\n",
    "df_nlp=pd.read_csv('beauty__val_proba_nlp.csv')"
   ]
  },
  {
   "cell_type": "code",
   "execution_count": 263,
   "metadata": {},
   "outputs": [
    {
     "data": {
      "text/plain": [
       "0.6406476263586719"
      ]
     },
     "execution_count": 263,
     "metadata": {},
     "output_type": "execute_result"
    }
   ],
   "source": [
    "# Accuracy of image prediction\n",
    "accuracy_score(df_image_beauty.Category,df_image_beauty.final_pred)"
   ]
  },
  {
   "cell_type": "code",
   "execution_count": 265,
   "metadata": {},
   "outputs": [
    {
     "data": {
      "text/plain": [
       "0.78843972992305944"
      ]
     },
     "execution_count": 265,
     "metadata": {},
     "output_type": "execute_result"
    }
   ],
   "source": [
    "#nlp accuracy\n",
    "accuracy_score(df_nlp.Category,df_nlp.pred)"
   ]
  },
  {
   "cell_type": "code",
   "execution_count": 254,
   "metadata": {
    "scrolled": true
   },
   "outputs": [
    {
     "data": {
      "text/html": [
       "<div>\n",
       "<style scoped>\n",
       "    .dataframe tbody tr th:only-of-type {\n",
       "        vertical-align: middle;\n",
       "    }\n",
       "\n",
       "    .dataframe tbody tr th {\n",
       "        vertical-align: top;\n",
       "    }\n",
       "\n",
       "    .dataframe thead th {\n",
       "        text-align: right;\n",
       "    }\n",
       "</style>\n",
       "<table border=\"1\" class=\"dataframe\">\n",
       "  <thead>\n",
       "    <tr style=\"text-align: right;\">\n",
       "      <th></th>\n",
       "      <th>0</th>\n",
       "      <th>1</th>\n",
       "      <th>2</th>\n",
       "      <th>3</th>\n",
       "      <th>4</th>\n",
       "      <th>5</th>\n",
       "      <th>6</th>\n",
       "      <th>7</th>\n",
       "      <th>8</th>\n",
       "      <th>9</th>\n",
       "      <th>10</th>\n",
       "      <th>11</th>\n",
       "      <th>12</th>\n",
       "      <th>13</th>\n",
       "      <th>14</th>\n",
       "      <th>15</th>\n",
       "      <th>16</th>\n",
       "    </tr>\n",
       "  </thead>\n",
       "  <tbody>\n",
       "    <tr>\n",
       "      <th>0</th>\n",
       "      <td>0.000922</td>\n",
       "      <td>0.063919</td>\n",
       "      <td>0.075449</td>\n",
       "      <td>0.579613</td>\n",
       "      <td>0.063179</td>\n",
       "      <td>0.118592</td>\n",
       "      <td>0.000373</td>\n",
       "      <td>0.002519</td>\n",
       "      <td>0.002103</td>\n",
       "      <td>0.009568</td>\n",
       "      <td>0.000129</td>\n",
       "      <td>0.002412</td>\n",
       "      <td>0.036417</td>\n",
       "      <td>0.015067</td>\n",
       "      <td>0.011914</td>\n",
       "      <td>0.000337</td>\n",
       "      <td>0.017487</td>\n",
       "    </tr>\n",
       "    <tr>\n",
       "      <th>1</th>\n",
       "      <td>0.016552</td>\n",
       "      <td>0.028079</td>\n",
       "      <td>0.275765</td>\n",
       "      <td>0.210556</td>\n",
       "      <td>0.026311</td>\n",
       "      <td>0.011866</td>\n",
       "      <td>0.011437</td>\n",
       "      <td>0.027535</td>\n",
       "      <td>0.285640</td>\n",
       "      <td>0.007712</td>\n",
       "      <td>0.000746</td>\n",
       "      <td>0.091571</td>\n",
       "      <td>0.003485</td>\n",
       "      <td>0.000700</td>\n",
       "      <td>0.000629</td>\n",
       "      <td>0.000639</td>\n",
       "      <td>0.000780</td>\n",
       "    </tr>\n",
       "    <tr>\n",
       "      <th>2</th>\n",
       "      <td>0.001821</td>\n",
       "      <td>0.001831</td>\n",
       "      <td>0.001431</td>\n",
       "      <td>0.007295</td>\n",
       "      <td>0.022690</td>\n",
       "      <td>0.001862</td>\n",
       "      <td>0.000222</td>\n",
       "      <td>0.004479</td>\n",
       "      <td>0.000819</td>\n",
       "      <td>0.003514</td>\n",
       "      <td>0.000504</td>\n",
       "      <td>0.000466</td>\n",
       "      <td>0.764857</td>\n",
       "      <td>0.050797</td>\n",
       "      <td>0.099181</td>\n",
       "      <td>0.008131</td>\n",
       "      <td>0.030099</td>\n",
       "    </tr>\n",
       "    <tr>\n",
       "      <th>3</th>\n",
       "      <td>0.019760</td>\n",
       "      <td>0.051505</td>\n",
       "      <td>0.006417</td>\n",
       "      <td>0.043640</td>\n",
       "      <td>0.609103</td>\n",
       "      <td>0.086127</td>\n",
       "      <td>0.002845</td>\n",
       "      <td>0.019252</td>\n",
       "      <td>0.018621</td>\n",
       "      <td>0.044650</td>\n",
       "      <td>0.002228</td>\n",
       "      <td>0.005470</td>\n",
       "      <td>0.037858</td>\n",
       "      <td>0.023969</td>\n",
       "      <td>0.008131</td>\n",
       "      <td>0.001418</td>\n",
       "      <td>0.019008</td>\n",
       "    </tr>\n",
       "    <tr>\n",
       "      <th>4</th>\n",
       "      <td>0.171279</td>\n",
       "      <td>0.184560</td>\n",
       "      <td>0.060845</td>\n",
       "      <td>0.159701</td>\n",
       "      <td>0.058774</td>\n",
       "      <td>0.020588</td>\n",
       "      <td>0.052695</td>\n",
       "      <td>0.024520</td>\n",
       "      <td>0.146287</td>\n",
       "      <td>0.017349</td>\n",
       "      <td>0.000596</td>\n",
       "      <td>0.099867</td>\n",
       "      <td>0.001841</td>\n",
       "      <td>0.000397</td>\n",
       "      <td>0.000278</td>\n",
       "      <td>0.000162</td>\n",
       "      <td>0.000261</td>\n",
       "    </tr>\n",
       "  </tbody>\n",
       "</table>\n",
       "</div>"
      ],
      "text/plain": [
       "          0         1         2         3         4         5         6  \\\n",
       "0  0.000922  0.063919  0.075449  0.579613  0.063179  0.118592  0.000373   \n",
       "1  0.016552  0.028079  0.275765  0.210556  0.026311  0.011866  0.011437   \n",
       "2  0.001821  0.001831  0.001431  0.007295  0.022690  0.001862  0.000222   \n",
       "3  0.019760  0.051505  0.006417  0.043640  0.609103  0.086127  0.002845   \n",
       "4  0.171279  0.184560  0.060845  0.159701  0.058774  0.020588  0.052695   \n",
       "\n",
       "          7         8         9        10        11        12        13  \\\n",
       "0  0.002519  0.002103  0.009568  0.000129  0.002412  0.036417  0.015067   \n",
       "1  0.027535  0.285640  0.007712  0.000746  0.091571  0.003485  0.000700   \n",
       "2  0.004479  0.000819  0.003514  0.000504  0.000466  0.764857  0.050797   \n",
       "3  0.019252  0.018621  0.044650  0.002228  0.005470  0.037858  0.023969   \n",
       "4  0.024520  0.146287  0.017349  0.000596  0.099867  0.001841  0.000397   \n",
       "\n",
       "         14        15        16  \n",
       "0  0.011914  0.000337  0.017487  \n",
       "1  0.000629  0.000639  0.000780  \n",
       "2  0.099181  0.008131  0.030099  \n",
       "3  0.008131  0.001418  0.019008  \n",
       "4  0.000278  0.000162  0.000261  "
      ]
     },
     "execution_count": 254,
     "metadata": {},
     "output_type": "execute_result"
    }
   ],
   "source": [
    "df_image_beauty.loc[:,[str(i) for i in range(17)]].head()"
   ]
  },
  {
   "cell_type": "code",
   "execution_count": 270,
   "metadata": {},
   "outputs": [],
   "source": [
    "X1=df_image_beauty.loc[:,[str(i) for i in range(17)]].copy()\n",
    "X1.columns=[i for i in range(17)]"
   ]
  },
  {
   "cell_type": "code",
   "execution_count": 266,
   "metadata": {
    "scrolled": false
   },
   "outputs": [
    {
     "data": {
      "text/html": [
       "<div>\n",
       "<style scoped>\n",
       "    .dataframe tbody tr th:only-of-type {\n",
       "        vertical-align: middle;\n",
       "    }\n",
       "\n",
       "    .dataframe tbody tr th {\n",
       "        vertical-align: top;\n",
       "    }\n",
       "\n",
       "    .dataframe thead th {\n",
       "        text-align: right;\n",
       "    }\n",
       "</style>\n",
       "<table border=\"1\" class=\"dataframe\">\n",
       "  <thead>\n",
       "    <tr style=\"text-align: right;\">\n",
       "      <th></th>\n",
       "      <th>0</th>\n",
       "      <th>1</th>\n",
       "      <th>2</th>\n",
       "      <th>3</th>\n",
       "      <th>4</th>\n",
       "      <th>5</th>\n",
       "      <th>6</th>\n",
       "      <th>7</th>\n",
       "      <th>8</th>\n",
       "      <th>9</th>\n",
       "      <th>10</th>\n",
       "      <th>11</th>\n",
       "      <th>12</th>\n",
       "      <th>13</th>\n",
       "      <th>14</th>\n",
       "      <th>15</th>\n",
       "      <th>16</th>\n",
       "    </tr>\n",
       "  </thead>\n",
       "  <tbody>\n",
       "    <tr>\n",
       "      <th>0</th>\n",
       "      <td>0.000027</td>\n",
       "      <td>0.896262</td>\n",
       "      <td>0.000033</td>\n",
       "      <td>0.000010</td>\n",
       "      <td>0.001904</td>\n",
       "      <td>0.100763</td>\n",
       "      <td>0.000003</td>\n",
       "      <td>0.000463</td>\n",
       "      <td>0.000023</td>\n",
       "      <td>0.000169</td>\n",
       "      <td>0.000036</td>\n",
       "      <td>0.000199</td>\n",
       "      <td>0.000021</td>\n",
       "      <td>0.000003</td>\n",
       "      <td>0.000013</td>\n",
       "      <td>0.000013</td>\n",
       "      <td>0.000058</td>\n",
       "    </tr>\n",
       "    <tr>\n",
       "      <th>1</th>\n",
       "      <td>0.000825</td>\n",
       "      <td>0.005611</td>\n",
       "      <td>0.003361</td>\n",
       "      <td>0.961518</td>\n",
       "      <td>0.010616</td>\n",
       "      <td>0.001984</td>\n",
       "      <td>0.000567</td>\n",
       "      <td>0.006267</td>\n",
       "      <td>0.002280</td>\n",
       "      <td>0.003172</td>\n",
       "      <td>0.000170</td>\n",
       "      <td>0.000419</td>\n",
       "      <td>0.002085</td>\n",
       "      <td>0.000285</td>\n",
       "      <td>0.000516</td>\n",
       "      <td>0.000143</td>\n",
       "      <td>0.000179</td>\n",
       "    </tr>\n",
       "    <tr>\n",
       "      <th>2</th>\n",
       "      <td>0.001282</td>\n",
       "      <td>0.091998</td>\n",
       "      <td>0.272629</td>\n",
       "      <td>0.490585</td>\n",
       "      <td>0.015732</td>\n",
       "      <td>0.111034</td>\n",
       "      <td>0.001554</td>\n",
       "      <td>0.005411</td>\n",
       "      <td>0.002612</td>\n",
       "      <td>0.001932</td>\n",
       "      <td>0.000262</td>\n",
       "      <td>0.000681</td>\n",
       "      <td>0.002210</td>\n",
       "      <td>0.000432</td>\n",
       "      <td>0.001130</td>\n",
       "      <td>0.000267</td>\n",
       "      <td>0.000249</td>\n",
       "    </tr>\n",
       "    <tr>\n",
       "      <th>3</th>\n",
       "      <td>0.000192</td>\n",
       "      <td>0.026769</td>\n",
       "      <td>0.000271</td>\n",
       "      <td>0.018368</td>\n",
       "      <td>0.001578</td>\n",
       "      <td>0.930594</td>\n",
       "      <td>0.000010</td>\n",
       "      <td>0.001087</td>\n",
       "      <td>0.000201</td>\n",
       "      <td>0.011185</td>\n",
       "      <td>0.000008</td>\n",
       "      <td>0.008811</td>\n",
       "      <td>0.000718</td>\n",
       "      <td>0.000030</td>\n",
       "      <td>0.000019</td>\n",
       "      <td>0.000007</td>\n",
       "      <td>0.000151</td>\n",
       "    </tr>\n",
       "    <tr>\n",
       "      <th>4</th>\n",
       "      <td>0.000273</td>\n",
       "      <td>0.053303</td>\n",
       "      <td>0.000145</td>\n",
       "      <td>0.001818</td>\n",
       "      <td>0.009964</td>\n",
       "      <td>0.014201</td>\n",
       "      <td>0.001225</td>\n",
       "      <td>0.000228</td>\n",
       "      <td>0.000170</td>\n",
       "      <td>0.917750</td>\n",
       "      <td>0.000064</td>\n",
       "      <td>0.000088</td>\n",
       "      <td>0.000141</td>\n",
       "      <td>0.000127</td>\n",
       "      <td>0.000161</td>\n",
       "      <td>0.000067</td>\n",
       "      <td>0.000278</td>\n",
       "    </tr>\n",
       "  </tbody>\n",
       "</table>\n",
       "</div>"
      ],
      "text/plain": [
       "          0         1         2         3         4         5         6  \\\n",
       "0  0.000027  0.896262  0.000033  0.000010  0.001904  0.100763  0.000003   \n",
       "1  0.000825  0.005611  0.003361  0.961518  0.010616  0.001984  0.000567   \n",
       "2  0.001282  0.091998  0.272629  0.490585  0.015732  0.111034  0.001554   \n",
       "3  0.000192  0.026769  0.000271  0.018368  0.001578  0.930594  0.000010   \n",
       "4  0.000273  0.053303  0.000145  0.001818  0.009964  0.014201  0.001225   \n",
       "\n",
       "          7         8         9        10        11        12        13  \\\n",
       "0  0.000463  0.000023  0.000169  0.000036  0.000199  0.000021  0.000003   \n",
       "1  0.006267  0.002280  0.003172  0.000170  0.000419  0.002085  0.000285   \n",
       "2  0.005411  0.002612  0.001932  0.000262  0.000681  0.002210  0.000432   \n",
       "3  0.001087  0.000201  0.011185  0.000008  0.008811  0.000718  0.000030   \n",
       "4  0.000228  0.000170  0.917750  0.000064  0.000088  0.000141  0.000127   \n",
       "\n",
       "         14        15        16  \n",
       "0  0.000013  0.000013  0.000058  \n",
       "1  0.000516  0.000143  0.000179  \n",
       "2  0.001130  0.000267  0.000249  \n",
       "3  0.000019  0.000007  0.000151  \n",
       "4  0.000161  0.000067  0.000278  "
      ]
     },
     "execution_count": 266,
     "metadata": {},
     "output_type": "execute_result"
    }
   ],
   "source": [
    "df_nlp.iloc[:,0:17].head()"
   ]
  },
  {
   "cell_type": "code",
   "execution_count": 271,
   "metadata": {},
   "outputs": [],
   "source": [
    "X2=df_nlp.iloc[:,0:17].copy()"
   ]
  },
  {
   "cell_type": "code",
   "execution_count": 300,
   "metadata": {},
   "outputs": [],
   "source": [
    "score=[]\n",
    "for i in range(101):\n",
    "    X3=(i/100)*X2.values+(1-i/100)*X1.values\n",
    "    df=pd.DataFrame(X3)\n",
    "    score.append(accuracy_score(df.idxmax(axis=1),df_nlp.Category))\n",
    "    \n",
    "        "
   ]
  },
  {
   "cell_type": "code",
   "execution_count": 302,
   "metadata": {},
   "outputs": [
    {
     "data": {
      "text/plain": [
       "99"
      ]
     },
     "execution_count": 302,
     "metadata": {},
     "output_type": "execute_result"
    }
   ],
   "source": [
    "# extremely small improvement\n",
    "score.index(max(score))"
   ]
  },
  {
   "cell_type": "code",
   "execution_count": 304,
   "metadata": {},
   "outputs": [],
   "source": [
    "df_image=pd.read_csv('val_fashion.csv')\n",
    "df_nlp=pd.read_csv('fashion_val_proba_nlp.csv')"
   ]
  },
  {
   "cell_type": "code",
   "execution_count": 307,
   "metadata": {
    "scrolled": true
   },
   "outputs": [
    {
     "data": {
      "text/plain": [
       "0.49061241209804057"
      ]
     },
     "execution_count": 307,
     "metadata": {},
     "output_type": "execute_result"
    }
   ],
   "source": [
    "accuracy_score(df_image.Category,df_image.final_pred)"
   ]
  },
  {
   "cell_type": "code",
   "execution_count": 309,
   "metadata": {},
   "outputs": [
    {
     "data": {
      "text/plain": [
       "0.6496665983933001"
      ]
     },
     "execution_count": 309,
     "metadata": {},
     "output_type": "execute_result"
    }
   ],
   "source": [
    "accuracy_score(df_nlp.Category,df_nlp.pred)"
   ]
  },
  {
   "cell_type": "code",
   "execution_count": 335,
   "metadata": {},
   "outputs": [
    {
     "name": "stdout",
     "output_type": "stream",
     "text": [
      "Number of features in min_df=1 is 24240\n",
      "Number of features in min_df=2 is 13440\n",
      "Number of features in min_df=3 is 10085\n",
      "Number of features in min_df=4 is 8338\n",
      "Number of features in min_df=5 is 7201\n",
      "Number of features in min_df=6 is 6403\n",
      "Number of features in min_df=7 is 5796\n",
      "Number of features in min_df=8 is 5330\n",
      "Number of features in min_df=9 is 4906\n",
      "Number of features in min_df=10 is 4583\n",
      "Number of features in min_df=11 is 4308\n",
      "Number of features in min_df=12 is 4078\n",
      "Number of features in min_df=13 is 3862\n",
      "Number of features in min_df=14 is 3681\n",
      "Number of features in min_df=15 is 3526\n",
      "Number of features in min_df=16 is 3377\n",
      "Number of features in min_df=17 is 3237\n",
      "Number of features in min_df=18 is 3120\n",
      "Number of features in min_df=19 is 3017\n"
     ]
    }
   ],
   "source": [
    "for i in range(1,20):\n",
    "    cv=CountVectorizer(stop_words=ignore_words,min_df=i)\n",
    "    X=df_train[df_train.Group=='mobile_'].title\n",
    "    cv.fit(X)\n",
    "    print('Number of features in min_df='+str(i)+' is '+str(len(cv.get_feature_names())))"
   ]
  },
  {
   "cell_type": "code",
   "execution_count": 351,
   "metadata": {},
   "outputs": [
    {
     "data": {
      "text/plain": [
       "Pipeline(memory=None,\n",
       "     steps=[('vectorize', CountVectorizer(analyzer='word', binary=False, decode_error='strict',\n",
       "        dtype=<class 'numpy.int64'>, encoding='utf-8', input='content',\n",
       "        lowercase=True, max_df=1.0, max_features=None, min_df=1,\n",
       "        ngram_range=(1, 1), preprocessor=None,\n",
       "        stop_words={'jang...penalty='l2', random_state=None, solver='warn',\n",
       "          tol=0.0001, verbose=0, warm_start=False))])"
      ]
     },
     "execution_count": 351,
     "metadata": {},
     "output_type": "execute_result"
    }
   ],
   "source": [
    "# Let's try to remove tune min_df\n",
    "for grou"
   ]
  },
  {
   "cell_type": "code",
   "execution_count": 349,
   "metadata": {},
   "outputs": [
    {
     "data": {
      "text/plain": [
       "7926"
      ]
     },
     "execution_count": 349,
     "metadata": {},
     "output_type": "execute_result"
    }
   ],
   "source": [
    "len(cv.get_feature_names())"
   ]
  },
  {
   "cell_type": "code",
   "execution_count": 352,
   "metadata": {},
   "outputs": [
    {
     "data": {
      "text/plain": [
       "['beauty_', 'mobile_', 'fashion']"
      ]
     },
     "execution_count": 352,
     "metadata": {},
     "output_type": "execute_result"
    }
   ],
   "source": [
    "groups"
   ]
  },
  {
   "cell_type": "code",
   "execution_count": 353,
   "metadata": {
    "scrolled": true
   },
   "outputs": [
    {
     "name": "stderr",
     "output_type": "stream",
     "text": [
      "\n",
      "\n",
      "\n",
      "\n",
      "\n",
      "\n",
      "\n",
      "  0%|                                                                                            | 0/3 [00:00<?, ?it/s]"
     ]
    },
    {
     "name": "stdout",
     "output_type": "stream",
     "text": [
      "Fitting 3 folds for each of 5 candidates, totalling 15 fits\n"
     ]
    },
    {
     "name": "stderr",
     "output_type": "stream",
     "text": [
      "[Parallel(n_jobs=1)]: Using backend SequentialBackend with 1 concurrent workers.\n",
      "[Parallel(n_jobs=1)]: Done  15 out of  15 | elapsed: 37.0min finished\n"
     ]
    },
    {
     "name": "stdout",
     "output_type": "stream",
     "text": [
      "beauty_ best parameters : {'vectorize__min_df': 2}\n",
      "beauty_ best score : 0.783089017841\n"
     ]
    },
    {
     "name": "stderr",
     "output_type": "stream",
     "text": [
      "\n",
      "\n",
      "\n",
      "\n",
      "\n",
      "\n",
      "\n",
      " 33%|██████████████████████████▋                                                     | 1/3 [41:39<1:23:19, 2499.68s/it]"
     ]
    },
    {
     "name": "stdout",
     "output_type": "stream",
     "text": [
      "Fitting 3 folds for each of 5 candidates, totalling 15 fits\n"
     ]
    },
    {
     "name": "stderr",
     "output_type": "stream",
     "text": [
      "[Parallel(n_jobs=1)]: Using backend SequentialBackend with 1 concurrent workers.\n",
      "[Parallel(n_jobs=1)]: Done  15 out of  15 | elapsed: 18.5min finished\n"
     ]
    },
    {
     "name": "stdout",
     "output_type": "stream",
     "text": [
      "mobile_ best parameters : {'vectorize__min_df': 1}\n",
      "mobile_ best score : 0.823657456496\n"
     ]
    },
    {
     "name": "stderr",
     "output_type": "stream",
     "text": [
      "\n",
      "\n",
      "\n",
      "\n",
      "\n",
      "\n",
      "\n",
      " 67%|█████████████████████████████████████████████████████▎                          | 2/3 [1:02:43<35:28, 2128.93s/it]"
     ]
    },
    {
     "name": "stdout",
     "output_type": "stream",
     "text": [
      "Fitting 3 folds for each of 5 candidates, totalling 15 fits\n"
     ]
    },
    {
     "name": "stderr",
     "output_type": "stream",
     "text": [
      "[Parallel(n_jobs=1)]: Using backend SequentialBackend with 1 concurrent workers.\n",
      "[Parallel(n_jobs=1)]: Done  15 out of  15 | elapsed: 58.9min finished\n"
     ]
    },
    {
     "name": "stdout",
     "output_type": "stream",
     "text": [
      "fashion best parameters : {'vectorize__min_df': 1}\n",
      "fashion best score : 0.64267962968\n"
     ]
    },
    {
     "name": "stderr",
     "output_type": "stream",
     "text": [
      "\n",
      "\n",
      "\n",
      "\n",
      "\n",
      "\n",
      "\n",
      "100%|████████████████████████████████████████████████████████████████████████████████| 3/3 [2:12:27<00:00, 2745.37s/it]"
     ]
    }
   ],
   "source": [
    "# very minor improvement but it might be helpful to use for other groups \n",
    "# let's run it with best parameters\n",
    "pipe_beauty=Pipeline([('vectorize', CountVectorizer(stop_words =ignore_words,ngram_range=(1,3))),('model',lr)])\n",
    "pipe_mobile=Pipeline([('vectorize', CountVectorizer(stop_words =ignore_words,ngram_range=(1,3))),('model',lr)])\n",
    "pipe_fashion=Pipeline([('vectorize', CountVectorizer(stop_words =ignore_words,ngram_range=(1,5))),('model',lr)])\n",
    "pipes=[pipe_beauty,pipe_mobile,pipe_fashion]\n",
    "\n",
    "params={'vectorize__min_df':[1,2,3,4,5]}\n",
    "best_param_min_df={}\n",
    "best_score_min_df={}\n",
    "for i in tqdm(range(len(groups))):\n",
    "    grid_search=GridSearchCV(pipes[i],param_grid=params, verbose=1)\n",
    "    X=df_train[df_train.Group==groups[i]].title\n",
    "    y=df_train[df_train.Group==groups[i]].Category\n",
    "    grid_search.fit(X,y)\n",
    "    best_param_min_df[group]=grid_search.best_params_\n",
    "    print(groups[i]+ ' best parameters :',grid_search.best_params_ )\n",
    "    best_score_min_df[group]=grid_search.best_score_\n",
    "    print(groups[i]+ ' best score :',grid_search.best_score_)\n",
    "# There is almost no improvement... Online very minor for mobile min_df=2"
   ]
  },
  {
   "cell_type": "code",
   "execution_count": 354,
   "metadata": {},
   "outputs": [],
   "source": [
    "from sklearn.ensemble import BaggingClassifier, AdaBoostClassifier"
   ]
  },
  {
   "cell_type": "code",
   "execution_count": 368,
   "metadata": {},
   "outputs": [
    {
     "data": {
      "text/plain": [
       "BaggingClassifier(base_estimator=Pipeline(memory=None,\n",
       "     steps=[('vectorize', CountVectorizer(analyzer='word', binary=False, decode_error='strict',\n",
       "        dtype=<class 'numpy.int64'>, encoding='utf-8', input='content',\n",
       "        lowercase=True, max_df=1.0, max_features=None, min_df=1,\n",
       "        ngram_range=(1, 3), preprocessor=None,\n",
       "        stop_words={'jang...penalty='l2', random_state=None, solver='warn',\n",
       "          tol=0.0001, verbose=0, warm_start=False))]),\n",
       "         bootstrap=True, bootstrap_features=False, max_features=1.0,\n",
       "         max_samples=1.0, n_estimators=10, n_jobs=None, oob_score=False,\n",
       "         random_state=None, verbose=0, warm_start=False)"
      ]
     },
     "execution_count": 368,
     "metadata": {},
     "output_type": "execute_result"
    }
   ],
   "source": [
    "bc_beauty"
   ]
  },
  {
   "cell_type": "code",
   "execution_count": 370,
   "metadata": {
    "scrolled": true
   },
   "outputs": [
    {
     "data": {
      "text/plain": [
       "0.78486312961250593"
      ]
     },
     "execution_count": 370,
     "metadata": {},
     "output_type": "execute_result"
    }
   ],
   "source": [
    "bc_beauty=BaggingClassifier(base_estimator=LogisticRegression(),n_estimators=10)\n",
    "X=train[train.Group=='beauty_'].title\n",
    "cv=CountVectorizer(stop_words=ignore_words,ngram_range=(1,5))\n",
    "X=cv.fit_transform(X)\n",
    "y=train[train.Group=='beauty_'].Category.values\n",
    "bc_beauty.fit(X,y)\n",
    "X_test=test[test.Group=='beauty_'].title\n",
    "X_test=cv.transform(X_test)\n",
    "bc_beauty.score(X_test,test[test.Group=='beauty_'].Category.values)"
   ]
  },
  {
   "cell_type": "code",
   "execution_count": 386,
   "metadata": {},
   "outputs": [
    {
     "data": {
      "text/plain": [
       "0.78843972992305944"
      ]
     },
     "execution_count": 386,
     "metadata": {},
     "output_type": "execute_result"
    }
   ],
   "source": [
    "# Single model\n",
    "df=pd.read_csv('beauty__val_proba_nlp.csv')\n",
    "accuracy_score(df.Category,df.pred)"
   ]
  },
  {
   "cell_type": "code",
   "execution_count": 402,
   "metadata": {},
   "outputs": [
    {
     "data": {
      "text/plain": [
       "0.6406476263586719"
      ]
     },
     "execution_count": 402,
     "metadata": {},
     "output_type": "execute_result"
    }
   ],
   "source": [
    "# Validation from image regocnition\n",
    "df_im=pd.read_csv('val_beauty.csv')\n",
    "accuracy_score(df_im.Category,df_im.final_pred)"
   ]
  },
  {
   "cell_type": "code",
   "execution_count": 403,
   "metadata": {},
   "outputs": [],
   "source": [
    "df_im['pred_true']=(df_im['Category']==df_im['final_pred'])"
   ]
  },
  {
   "cell_type": "code",
   "execution_count": 404,
   "metadata": {
    "scrolled": true
   },
   "outputs": [
    {
     "data": {
      "text/plain": [
       "Category\n",
       "0     0.232095\n",
       "1     0.448204\n",
       "2     0.663058\n",
       "3     0.869169\n",
       "4     0.610330\n",
       "5     0.628889\n",
       "6     0.034230\n",
       "7     0.519280\n",
       "8     0.366116\n",
       "9     0.166564\n",
       "10    0.246512\n",
       "11    0.229927\n",
       "12    0.874885\n",
       "13    0.248322\n",
       "14    0.010969\n",
       "15    0.050000\n",
       "16    0.008969\n",
       "Name: pred_true, dtype: float64"
      ]
     },
     "execution_count": 404,
     "metadata": {},
     "output_type": "execute_result"
    }
   ],
   "source": [
    "df_im.groupby('Category').pred_true.mean()"
   ]
  },
  {
   "cell_type": "code",
   "execution_count": 405,
   "metadata": {},
   "outputs": [
    {
     "data": {
      "text/plain": [
       "Category\n",
       "0     0.464191\n",
       "1     0.659574\n",
       "2     0.876137\n",
       "3     0.903631\n",
       "4     0.769033\n",
       "5     0.804450\n",
       "6     0.481663\n",
       "7     0.757926\n",
       "8     0.644628\n",
       "9     0.571252\n",
       "10    0.669767\n",
       "11    0.624088\n",
       "12    0.899679\n",
       "13    0.583893\n",
       "14    0.283364\n",
       "15    0.208333\n",
       "16    0.260090\n",
       "Name: pred_true, dtype: float64"
      ]
     },
     "execution_count": 405,
     "metadata": {},
     "output_type": "execute_result"
    }
   ],
   "source": [
    "df.groupby('Category').pred_true.mean()"
   ]
  },
  {
   "cell_type": "code",
   "execution_count": 392,
   "metadata": {},
   "outputs": [],
   "source": [
    "df['pred_true']=(df['Category']==df['pred'])"
   ]
  },
  {
   "cell_type": "code",
   "execution_count": 400,
   "metadata": {},
   "outputs": [
    {
     "data": {
      "application/javascript": [
       "/* Put everything inside the global mpl namespace */\n",
       "window.mpl = {};\n",
       "\n",
       "\n",
       "mpl.get_websocket_type = function() {\n",
       "    if (typeof(WebSocket) !== 'undefined') {\n",
       "        return WebSocket;\n",
       "    } else if (typeof(MozWebSocket) !== 'undefined') {\n",
       "        return MozWebSocket;\n",
       "    } else {\n",
       "        alert('Your browser does not have WebSocket support.' +\n",
       "              'Please try Chrome, Safari or Firefox ≥ 6. ' +\n",
       "              'Firefox 4 and 5 are also supported but you ' +\n",
       "              'have to enable WebSockets in about:config.');\n",
       "    };\n",
       "}\n",
       "\n",
       "mpl.figure = function(figure_id, websocket, ondownload, parent_element) {\n",
       "    this.id = figure_id;\n",
       "\n",
       "    this.ws = websocket;\n",
       "\n",
       "    this.supports_binary = (this.ws.binaryType != undefined);\n",
       "\n",
       "    if (!this.supports_binary) {\n",
       "        var warnings = document.getElementById(\"mpl-warnings\");\n",
       "        if (warnings) {\n",
       "            warnings.style.display = 'block';\n",
       "            warnings.textContent = (\n",
       "                \"This browser does not support binary websocket messages. \" +\n",
       "                    \"Performance may be slow.\");\n",
       "        }\n",
       "    }\n",
       "\n",
       "    this.imageObj = new Image();\n",
       "\n",
       "    this.context = undefined;\n",
       "    this.message = undefined;\n",
       "    this.canvas = undefined;\n",
       "    this.rubberband_canvas = undefined;\n",
       "    this.rubberband_context = undefined;\n",
       "    this.format_dropdown = undefined;\n",
       "\n",
       "    this.image_mode = 'full';\n",
       "\n",
       "    this.root = $('<div/>');\n",
       "    this._root_extra_style(this.root)\n",
       "    this.root.attr('style', 'display: inline-block');\n",
       "\n",
       "    $(parent_element).append(this.root);\n",
       "\n",
       "    this._init_header(this);\n",
       "    this._init_canvas(this);\n",
       "    this._init_toolbar(this);\n",
       "\n",
       "    var fig = this;\n",
       "\n",
       "    this.waiting = false;\n",
       "\n",
       "    this.ws.onopen =  function () {\n",
       "            fig.send_message(\"supports_binary\", {value: fig.supports_binary});\n",
       "            fig.send_message(\"send_image_mode\", {});\n",
       "            if (mpl.ratio != 1) {\n",
       "                fig.send_message(\"set_dpi_ratio\", {'dpi_ratio': mpl.ratio});\n",
       "            }\n",
       "            fig.send_message(\"refresh\", {});\n",
       "        }\n",
       "\n",
       "    this.imageObj.onload = function() {\n",
       "            if (fig.image_mode == 'full') {\n",
       "                // Full images could contain transparency (where diff images\n",
       "                // almost always do), so we need to clear the canvas so that\n",
       "                // there is no ghosting.\n",
       "                fig.context.clearRect(0, 0, fig.canvas.width, fig.canvas.height);\n",
       "            }\n",
       "            fig.context.drawImage(fig.imageObj, 0, 0);\n",
       "        };\n",
       "\n",
       "    this.imageObj.onunload = function() {\n",
       "        fig.ws.close();\n",
       "    }\n",
       "\n",
       "    this.ws.onmessage = this._make_on_message_function(this);\n",
       "\n",
       "    this.ondownload = ondownload;\n",
       "}\n",
       "\n",
       "mpl.figure.prototype._init_header = function() {\n",
       "    var titlebar = $(\n",
       "        '<div class=\"ui-dialog-titlebar ui-widget-header ui-corner-all ' +\n",
       "        'ui-helper-clearfix\"/>');\n",
       "    var titletext = $(\n",
       "        '<div class=\"ui-dialog-title\" style=\"width: 100%; ' +\n",
       "        'text-align: center; padding: 3px;\"/>');\n",
       "    titlebar.append(titletext)\n",
       "    this.root.append(titlebar);\n",
       "    this.header = titletext[0];\n",
       "}\n",
       "\n",
       "\n",
       "\n",
       "mpl.figure.prototype._canvas_extra_style = function(canvas_div) {\n",
       "\n",
       "}\n",
       "\n",
       "\n",
       "mpl.figure.prototype._root_extra_style = function(canvas_div) {\n",
       "\n",
       "}\n",
       "\n",
       "mpl.figure.prototype._init_canvas = function() {\n",
       "    var fig = this;\n",
       "\n",
       "    var canvas_div = $('<div/>');\n",
       "\n",
       "    canvas_div.attr('style', 'position: relative; clear: both; outline: 0');\n",
       "\n",
       "    function canvas_keyboard_event(event) {\n",
       "        return fig.key_event(event, event['data']);\n",
       "    }\n",
       "\n",
       "    canvas_div.keydown('key_press', canvas_keyboard_event);\n",
       "    canvas_div.keyup('key_release', canvas_keyboard_event);\n",
       "    this.canvas_div = canvas_div\n",
       "    this._canvas_extra_style(canvas_div)\n",
       "    this.root.append(canvas_div);\n",
       "\n",
       "    var canvas = $('<canvas/>');\n",
       "    canvas.addClass('mpl-canvas');\n",
       "    canvas.attr('style', \"left: 0; top: 0; z-index: 0; outline: 0\")\n",
       "\n",
       "    this.canvas = canvas[0];\n",
       "    this.context = canvas[0].getContext(\"2d\");\n",
       "\n",
       "    var backingStore = this.context.backingStorePixelRatio ||\n",
       "\tthis.context.webkitBackingStorePixelRatio ||\n",
       "\tthis.context.mozBackingStorePixelRatio ||\n",
       "\tthis.context.msBackingStorePixelRatio ||\n",
       "\tthis.context.oBackingStorePixelRatio ||\n",
       "\tthis.context.backingStorePixelRatio || 1;\n",
       "\n",
       "    mpl.ratio = (window.devicePixelRatio || 1) / backingStore;\n",
       "\n",
       "    var rubberband = $('<canvas/>');\n",
       "    rubberband.attr('style', \"position: absolute; left: 0; top: 0; z-index: 1;\")\n",
       "\n",
       "    var pass_mouse_events = true;\n",
       "\n",
       "    canvas_div.resizable({\n",
       "        start: function(event, ui) {\n",
       "            pass_mouse_events = false;\n",
       "        },\n",
       "        resize: function(event, ui) {\n",
       "            fig.request_resize(ui.size.width, ui.size.height);\n",
       "        },\n",
       "        stop: function(event, ui) {\n",
       "            pass_mouse_events = true;\n",
       "            fig.request_resize(ui.size.width, ui.size.height);\n",
       "        },\n",
       "    });\n",
       "\n",
       "    function mouse_event_fn(event) {\n",
       "        if (pass_mouse_events)\n",
       "            return fig.mouse_event(event, event['data']);\n",
       "    }\n",
       "\n",
       "    rubberband.mousedown('button_press', mouse_event_fn);\n",
       "    rubberband.mouseup('button_release', mouse_event_fn);\n",
       "    // Throttle sequential mouse events to 1 every 20ms.\n",
       "    rubberband.mousemove('motion_notify', mouse_event_fn);\n",
       "\n",
       "    rubberband.mouseenter('figure_enter', mouse_event_fn);\n",
       "    rubberband.mouseleave('figure_leave', mouse_event_fn);\n",
       "\n",
       "    canvas_div.on(\"wheel\", function (event) {\n",
       "        event = event.originalEvent;\n",
       "        event['data'] = 'scroll'\n",
       "        if (event.deltaY < 0) {\n",
       "            event.step = 1;\n",
       "        } else {\n",
       "            event.step = -1;\n",
       "        }\n",
       "        mouse_event_fn(event);\n",
       "    });\n",
       "\n",
       "    canvas_div.append(canvas);\n",
       "    canvas_div.append(rubberband);\n",
       "\n",
       "    this.rubberband = rubberband;\n",
       "    this.rubberband_canvas = rubberband[0];\n",
       "    this.rubberband_context = rubberband[0].getContext(\"2d\");\n",
       "    this.rubberband_context.strokeStyle = \"#000000\";\n",
       "\n",
       "    this._resize_canvas = function(width, height) {\n",
       "        // Keep the size of the canvas, canvas container, and rubber band\n",
       "        // canvas in synch.\n",
       "        canvas_div.css('width', width)\n",
       "        canvas_div.css('height', height)\n",
       "\n",
       "        canvas.attr('width', width * mpl.ratio);\n",
       "        canvas.attr('height', height * mpl.ratio);\n",
       "        canvas.attr('style', 'width: ' + width + 'px; height: ' + height + 'px;');\n",
       "\n",
       "        rubberband.attr('width', width);\n",
       "        rubberband.attr('height', height);\n",
       "    }\n",
       "\n",
       "    // Set the figure to an initial 600x600px, this will subsequently be updated\n",
       "    // upon first draw.\n",
       "    this._resize_canvas(600, 600);\n",
       "\n",
       "    // Disable right mouse context menu.\n",
       "    $(this.rubberband_canvas).bind(\"contextmenu\",function(e){\n",
       "        return false;\n",
       "    });\n",
       "\n",
       "    function set_focus () {\n",
       "        canvas.focus();\n",
       "        canvas_div.focus();\n",
       "    }\n",
       "\n",
       "    window.setTimeout(set_focus, 100);\n",
       "}\n",
       "\n",
       "mpl.figure.prototype._init_toolbar = function() {\n",
       "    var fig = this;\n",
       "\n",
       "    var nav_element = $('<div/>')\n",
       "    nav_element.attr('style', 'width: 100%');\n",
       "    this.root.append(nav_element);\n",
       "\n",
       "    // Define a callback function for later on.\n",
       "    function toolbar_event(event) {\n",
       "        return fig.toolbar_button_onclick(event['data']);\n",
       "    }\n",
       "    function toolbar_mouse_event(event) {\n",
       "        return fig.toolbar_button_onmouseover(event['data']);\n",
       "    }\n",
       "\n",
       "    for(var toolbar_ind in mpl.toolbar_items) {\n",
       "        var name = mpl.toolbar_items[toolbar_ind][0];\n",
       "        var tooltip = mpl.toolbar_items[toolbar_ind][1];\n",
       "        var image = mpl.toolbar_items[toolbar_ind][2];\n",
       "        var method_name = mpl.toolbar_items[toolbar_ind][3];\n",
       "\n",
       "        if (!name) {\n",
       "            // put a spacer in here.\n",
       "            continue;\n",
       "        }\n",
       "        var button = $('<button/>');\n",
       "        button.addClass('ui-button ui-widget ui-state-default ui-corner-all ' +\n",
       "                        'ui-button-icon-only');\n",
       "        button.attr('role', 'button');\n",
       "        button.attr('aria-disabled', 'false');\n",
       "        button.click(method_name, toolbar_event);\n",
       "        button.mouseover(tooltip, toolbar_mouse_event);\n",
       "\n",
       "        var icon_img = $('<span/>');\n",
       "        icon_img.addClass('ui-button-icon-primary ui-icon');\n",
       "        icon_img.addClass(image);\n",
       "        icon_img.addClass('ui-corner-all');\n",
       "\n",
       "        var tooltip_span = $('<span/>');\n",
       "        tooltip_span.addClass('ui-button-text');\n",
       "        tooltip_span.html(tooltip);\n",
       "\n",
       "        button.append(icon_img);\n",
       "        button.append(tooltip_span);\n",
       "\n",
       "        nav_element.append(button);\n",
       "    }\n",
       "\n",
       "    var fmt_picker_span = $('<span/>');\n",
       "\n",
       "    var fmt_picker = $('<select/>');\n",
       "    fmt_picker.addClass('mpl-toolbar-option ui-widget ui-widget-content');\n",
       "    fmt_picker_span.append(fmt_picker);\n",
       "    nav_element.append(fmt_picker_span);\n",
       "    this.format_dropdown = fmt_picker[0];\n",
       "\n",
       "    for (var ind in mpl.extensions) {\n",
       "        var fmt = mpl.extensions[ind];\n",
       "        var option = $(\n",
       "            '<option/>', {selected: fmt === mpl.default_extension}).html(fmt);\n",
       "        fmt_picker.append(option)\n",
       "    }\n",
       "\n",
       "    // Add hover states to the ui-buttons\n",
       "    $( \".ui-button\" ).hover(\n",
       "        function() { $(this).addClass(\"ui-state-hover\");},\n",
       "        function() { $(this).removeClass(\"ui-state-hover\");}\n",
       "    );\n",
       "\n",
       "    var status_bar = $('<span class=\"mpl-message\"/>');\n",
       "    nav_element.append(status_bar);\n",
       "    this.message = status_bar[0];\n",
       "}\n",
       "\n",
       "mpl.figure.prototype.request_resize = function(x_pixels, y_pixels) {\n",
       "    // Request matplotlib to resize the figure. Matplotlib will then trigger a resize in the client,\n",
       "    // which will in turn request a refresh of the image.\n",
       "    this.send_message('resize', {'width': x_pixels, 'height': y_pixels});\n",
       "}\n",
       "\n",
       "mpl.figure.prototype.send_message = function(type, properties) {\n",
       "    properties['type'] = type;\n",
       "    properties['figure_id'] = this.id;\n",
       "    this.ws.send(JSON.stringify(properties));\n",
       "}\n",
       "\n",
       "mpl.figure.prototype.send_draw_message = function() {\n",
       "    if (!this.waiting) {\n",
       "        this.waiting = true;\n",
       "        this.ws.send(JSON.stringify({type: \"draw\", figure_id: this.id}));\n",
       "    }\n",
       "}\n",
       "\n",
       "\n",
       "mpl.figure.prototype.handle_save = function(fig, msg) {\n",
       "    var format_dropdown = fig.format_dropdown;\n",
       "    var format = format_dropdown.options[format_dropdown.selectedIndex].value;\n",
       "    fig.ondownload(fig, format);\n",
       "}\n",
       "\n",
       "\n",
       "mpl.figure.prototype.handle_resize = function(fig, msg) {\n",
       "    var size = msg['size'];\n",
       "    if (size[0] != fig.canvas.width || size[1] != fig.canvas.height) {\n",
       "        fig._resize_canvas(size[0], size[1]);\n",
       "        fig.send_message(\"refresh\", {});\n",
       "    };\n",
       "}\n",
       "\n",
       "mpl.figure.prototype.handle_rubberband = function(fig, msg) {\n",
       "    var x0 = msg['x0'] / mpl.ratio;\n",
       "    var y0 = (fig.canvas.height - msg['y0']) / mpl.ratio;\n",
       "    var x1 = msg['x1'] / mpl.ratio;\n",
       "    var y1 = (fig.canvas.height - msg['y1']) / mpl.ratio;\n",
       "    x0 = Math.floor(x0) + 0.5;\n",
       "    y0 = Math.floor(y0) + 0.5;\n",
       "    x1 = Math.floor(x1) + 0.5;\n",
       "    y1 = Math.floor(y1) + 0.5;\n",
       "    var min_x = Math.min(x0, x1);\n",
       "    var min_y = Math.min(y0, y1);\n",
       "    var width = Math.abs(x1 - x0);\n",
       "    var height = Math.abs(y1 - y0);\n",
       "\n",
       "    fig.rubberband_context.clearRect(\n",
       "        0, 0, fig.canvas.width, fig.canvas.height);\n",
       "\n",
       "    fig.rubberband_context.strokeRect(min_x, min_y, width, height);\n",
       "}\n",
       "\n",
       "mpl.figure.prototype.handle_figure_label = function(fig, msg) {\n",
       "    // Updates the figure title.\n",
       "    fig.header.textContent = msg['label'];\n",
       "}\n",
       "\n",
       "mpl.figure.prototype.handle_cursor = function(fig, msg) {\n",
       "    var cursor = msg['cursor'];\n",
       "    switch(cursor)\n",
       "    {\n",
       "    case 0:\n",
       "        cursor = 'pointer';\n",
       "        break;\n",
       "    case 1:\n",
       "        cursor = 'default';\n",
       "        break;\n",
       "    case 2:\n",
       "        cursor = 'crosshair';\n",
       "        break;\n",
       "    case 3:\n",
       "        cursor = 'move';\n",
       "        break;\n",
       "    }\n",
       "    fig.rubberband_canvas.style.cursor = cursor;\n",
       "}\n",
       "\n",
       "mpl.figure.prototype.handle_message = function(fig, msg) {\n",
       "    fig.message.textContent = msg['message'];\n",
       "}\n",
       "\n",
       "mpl.figure.prototype.handle_draw = function(fig, msg) {\n",
       "    // Request the server to send over a new figure.\n",
       "    fig.send_draw_message();\n",
       "}\n",
       "\n",
       "mpl.figure.prototype.handle_image_mode = function(fig, msg) {\n",
       "    fig.image_mode = msg['mode'];\n",
       "}\n",
       "\n",
       "mpl.figure.prototype.updated_canvas_event = function() {\n",
       "    // Called whenever the canvas gets updated.\n",
       "    this.send_message(\"ack\", {});\n",
       "}\n",
       "\n",
       "// A function to construct a web socket function for onmessage handling.\n",
       "// Called in the figure constructor.\n",
       "mpl.figure.prototype._make_on_message_function = function(fig) {\n",
       "    return function socket_on_message(evt) {\n",
       "        if (evt.data instanceof Blob) {\n",
       "            /* FIXME: We get \"Resource interpreted as Image but\n",
       "             * transferred with MIME type text/plain:\" errors on\n",
       "             * Chrome.  But how to set the MIME type?  It doesn't seem\n",
       "             * to be part of the websocket stream */\n",
       "            evt.data.type = \"image/png\";\n",
       "\n",
       "            /* Free the memory for the previous frames */\n",
       "            if (fig.imageObj.src) {\n",
       "                (window.URL || window.webkitURL).revokeObjectURL(\n",
       "                    fig.imageObj.src);\n",
       "            }\n",
       "\n",
       "            fig.imageObj.src = (window.URL || window.webkitURL).createObjectURL(\n",
       "                evt.data);\n",
       "            fig.updated_canvas_event();\n",
       "            fig.waiting = false;\n",
       "            return;\n",
       "        }\n",
       "        else if (typeof evt.data === 'string' && evt.data.slice(0, 21) == \"data:image/png;base64\") {\n",
       "            fig.imageObj.src = evt.data;\n",
       "            fig.updated_canvas_event();\n",
       "            fig.waiting = false;\n",
       "            return;\n",
       "        }\n",
       "\n",
       "        var msg = JSON.parse(evt.data);\n",
       "        var msg_type = msg['type'];\n",
       "\n",
       "        // Call the  \"handle_{type}\" callback, which takes\n",
       "        // the figure and JSON message as its only arguments.\n",
       "        try {\n",
       "            var callback = fig[\"handle_\" + msg_type];\n",
       "        } catch (e) {\n",
       "            console.log(\"No handler for the '\" + msg_type + \"' message type: \", msg);\n",
       "            return;\n",
       "        }\n",
       "\n",
       "        if (callback) {\n",
       "            try {\n",
       "                // console.log(\"Handling '\" + msg_type + \"' message: \", msg);\n",
       "                callback(fig, msg);\n",
       "            } catch (e) {\n",
       "                console.log(\"Exception inside the 'handler_\" + msg_type + \"' callback:\", e, e.stack, msg);\n",
       "            }\n",
       "        }\n",
       "    };\n",
       "}\n",
       "\n",
       "// from http://stackoverflow.com/questions/1114465/getting-mouse-location-in-canvas\n",
       "mpl.findpos = function(e) {\n",
       "    //this section is from http://www.quirksmode.org/js/events_properties.html\n",
       "    var targ;\n",
       "    if (!e)\n",
       "        e = window.event;\n",
       "    if (e.target)\n",
       "        targ = e.target;\n",
       "    else if (e.srcElement)\n",
       "        targ = e.srcElement;\n",
       "    if (targ.nodeType == 3) // defeat Safari bug\n",
       "        targ = targ.parentNode;\n",
       "\n",
       "    // jQuery normalizes the pageX and pageY\n",
       "    // pageX,Y are the mouse positions relative to the document\n",
       "    // offset() returns the position of the element relative to the document\n",
       "    var x = e.pageX - $(targ).offset().left;\n",
       "    var y = e.pageY - $(targ).offset().top;\n",
       "\n",
       "    return {\"x\": x, \"y\": y};\n",
       "};\n",
       "\n",
       "/*\n",
       " * return a copy of an object with only non-object keys\n",
       " * we need this to avoid circular references\n",
       " * http://stackoverflow.com/a/24161582/3208463\n",
       " */\n",
       "function simpleKeys (original) {\n",
       "  return Object.keys(original).reduce(function (obj, key) {\n",
       "    if (typeof original[key] !== 'object')\n",
       "        obj[key] = original[key]\n",
       "    return obj;\n",
       "  }, {});\n",
       "}\n",
       "\n",
       "mpl.figure.prototype.mouse_event = function(event, name) {\n",
       "    var canvas_pos = mpl.findpos(event)\n",
       "\n",
       "    if (name === 'button_press')\n",
       "    {\n",
       "        this.canvas.focus();\n",
       "        this.canvas_div.focus();\n",
       "    }\n",
       "\n",
       "    var x = canvas_pos.x * mpl.ratio;\n",
       "    var y = canvas_pos.y * mpl.ratio;\n",
       "\n",
       "    this.send_message(name, {x: x, y: y, button: event.button,\n",
       "                             step: event.step,\n",
       "                             guiEvent: simpleKeys(event)});\n",
       "\n",
       "    /* This prevents the web browser from automatically changing to\n",
       "     * the text insertion cursor when the button is pressed.  We want\n",
       "     * to control all of the cursor setting manually through the\n",
       "     * 'cursor' event from matplotlib */\n",
       "    event.preventDefault();\n",
       "    return false;\n",
       "}\n",
       "\n",
       "mpl.figure.prototype._key_event_extra = function(event, name) {\n",
       "    // Handle any extra behaviour associated with a key event\n",
       "}\n",
       "\n",
       "mpl.figure.prototype.key_event = function(event, name) {\n",
       "\n",
       "    // Prevent repeat events\n",
       "    if (name == 'key_press')\n",
       "    {\n",
       "        if (event.which === this._key)\n",
       "            return;\n",
       "        else\n",
       "            this._key = event.which;\n",
       "    }\n",
       "    if (name == 'key_release')\n",
       "        this._key = null;\n",
       "\n",
       "    var value = '';\n",
       "    if (event.ctrlKey && event.which != 17)\n",
       "        value += \"ctrl+\";\n",
       "    if (event.altKey && event.which != 18)\n",
       "        value += \"alt+\";\n",
       "    if (event.shiftKey && event.which != 16)\n",
       "        value += \"shift+\";\n",
       "\n",
       "    value += 'k';\n",
       "    value += event.which.toString();\n",
       "\n",
       "    this._key_event_extra(event, name);\n",
       "\n",
       "    this.send_message(name, {key: value,\n",
       "                             guiEvent: simpleKeys(event)});\n",
       "    return false;\n",
       "}\n",
       "\n",
       "mpl.figure.prototype.toolbar_button_onclick = function(name) {\n",
       "    if (name == 'download') {\n",
       "        this.handle_save(this, null);\n",
       "    } else {\n",
       "        this.send_message(\"toolbar_button\", {name: name});\n",
       "    }\n",
       "};\n",
       "\n",
       "mpl.figure.prototype.toolbar_button_onmouseover = function(tooltip) {\n",
       "    this.message.textContent = tooltip;\n",
       "};\n",
       "mpl.toolbar_items = [[\"Home\", \"Reset original view\", \"fa fa-home icon-home\", \"home\"], [\"Back\", \"Back to  previous view\", \"fa fa-arrow-left icon-arrow-left\", \"back\"], [\"Forward\", \"Forward to next view\", \"fa fa-arrow-right icon-arrow-right\", \"forward\"], [\"\", \"\", \"\", \"\"], [\"Pan\", \"Pan axes with left mouse, zoom with right\", \"fa fa-arrows icon-move\", \"pan\"], [\"Zoom\", \"Zoom to rectangle\", \"fa fa-square-o icon-check-empty\", \"zoom\"], [\"\", \"\", \"\", \"\"], [\"Download\", \"Download plot\", \"fa fa-floppy-o icon-save\", \"download\"]];\n",
       "\n",
       "mpl.extensions = [\"eps\", \"jpeg\", \"pdf\", \"png\", \"ps\", \"raw\", \"svg\", \"tif\"];\n",
       "\n",
       "mpl.default_extension = \"png\";var comm_websocket_adapter = function(comm) {\n",
       "    // Create a \"websocket\"-like object which calls the given IPython comm\n",
       "    // object with the appropriate methods. Currently this is a non binary\n",
       "    // socket, so there is still some room for performance tuning.\n",
       "    var ws = {};\n",
       "\n",
       "    ws.close = function() {\n",
       "        comm.close()\n",
       "    };\n",
       "    ws.send = function(m) {\n",
       "        //console.log('sending', m);\n",
       "        comm.send(m);\n",
       "    };\n",
       "    // Register the callback with on_msg.\n",
       "    comm.on_msg(function(msg) {\n",
       "        //console.log('receiving', msg['content']['data'], msg);\n",
       "        // Pass the mpl event to the overriden (by mpl) onmessage function.\n",
       "        ws.onmessage(msg['content']['data'])\n",
       "    });\n",
       "    return ws;\n",
       "}\n",
       "\n",
       "mpl.mpl_figure_comm = function(comm, msg) {\n",
       "    // This is the function which gets called when the mpl process\n",
       "    // starts-up an IPython Comm through the \"matplotlib\" channel.\n",
       "\n",
       "    var id = msg.content.data.id;\n",
       "    // Get hold of the div created by the display call when the Comm\n",
       "    // socket was opened in Python.\n",
       "    var element = $(\"#\" + id);\n",
       "    var ws_proxy = comm_websocket_adapter(comm)\n",
       "\n",
       "    function ondownload(figure, format) {\n",
       "        window.open(figure.imageObj.src);\n",
       "    }\n",
       "\n",
       "    var fig = new mpl.figure(id, ws_proxy,\n",
       "                           ondownload,\n",
       "                           element.get(0));\n",
       "\n",
       "    // Call onopen now - mpl needs it, as it is assuming we've passed it a real\n",
       "    // web socket which is closed, not our websocket->open comm proxy.\n",
       "    ws_proxy.onopen();\n",
       "\n",
       "    fig.parent_element = element.get(0);\n",
       "    fig.cell_info = mpl.find_output_cell(\"<div id='\" + id + \"'></div>\");\n",
       "    if (!fig.cell_info) {\n",
       "        console.error(\"Failed to find cell for figure\", id, fig);\n",
       "        return;\n",
       "    }\n",
       "\n",
       "    var output_index = fig.cell_info[2]\n",
       "    var cell = fig.cell_info[0];\n",
       "\n",
       "};\n",
       "\n",
       "mpl.figure.prototype.handle_close = function(fig, msg) {\n",
       "    var width = fig.canvas.width/mpl.ratio\n",
       "    fig.root.unbind('remove')\n",
       "\n",
       "    // Update the output cell to use the data from the current canvas.\n",
       "    fig.push_to_output();\n",
       "    var dataURL = fig.canvas.toDataURL();\n",
       "    // Re-enable the keyboard manager in IPython - without this line, in FF,\n",
       "    // the notebook keyboard shortcuts fail.\n",
       "    IPython.keyboard_manager.enable()\n",
       "    $(fig.parent_element).html('<img src=\"' + dataURL + '\" width=\"' + width + '\">');\n",
       "    fig.close_ws(fig, msg);\n",
       "}\n",
       "\n",
       "mpl.figure.prototype.close_ws = function(fig, msg){\n",
       "    fig.send_message('closing', msg);\n",
       "    // fig.ws.close()\n",
       "}\n",
       "\n",
       "mpl.figure.prototype.push_to_output = function(remove_interactive) {\n",
       "    // Turn the data on the canvas into data in the output cell.\n",
       "    var width = this.canvas.width/mpl.ratio\n",
       "    var dataURL = this.canvas.toDataURL();\n",
       "    this.cell_info[1]['text/html'] = '<img src=\"' + dataURL + '\" width=\"' + width + '\">';\n",
       "}\n",
       "\n",
       "mpl.figure.prototype.updated_canvas_event = function() {\n",
       "    // Tell IPython that the notebook contents must change.\n",
       "    IPython.notebook.set_dirty(true);\n",
       "    this.send_message(\"ack\", {});\n",
       "    var fig = this;\n",
       "    // Wait a second, then push the new image to the DOM so\n",
       "    // that it is saved nicely (might be nice to debounce this).\n",
       "    setTimeout(function () { fig.push_to_output() }, 1000);\n",
       "}\n",
       "\n",
       "mpl.figure.prototype._init_toolbar = function() {\n",
       "    var fig = this;\n",
       "\n",
       "    var nav_element = $('<div/>')\n",
       "    nav_element.attr('style', 'width: 100%');\n",
       "    this.root.append(nav_element);\n",
       "\n",
       "    // Define a callback function for later on.\n",
       "    function toolbar_event(event) {\n",
       "        return fig.toolbar_button_onclick(event['data']);\n",
       "    }\n",
       "    function toolbar_mouse_event(event) {\n",
       "        return fig.toolbar_button_onmouseover(event['data']);\n",
       "    }\n",
       "\n",
       "    for(var toolbar_ind in mpl.toolbar_items){\n",
       "        var name = mpl.toolbar_items[toolbar_ind][0];\n",
       "        var tooltip = mpl.toolbar_items[toolbar_ind][1];\n",
       "        var image = mpl.toolbar_items[toolbar_ind][2];\n",
       "        var method_name = mpl.toolbar_items[toolbar_ind][3];\n",
       "\n",
       "        if (!name) { continue; };\n",
       "\n",
       "        var button = $('<button class=\"btn btn-default\" href=\"#\" title=\"' + name + '\"><i class=\"fa ' + image + ' fa-lg\"></i></button>');\n",
       "        button.click(method_name, toolbar_event);\n",
       "        button.mouseover(tooltip, toolbar_mouse_event);\n",
       "        nav_element.append(button);\n",
       "    }\n",
       "\n",
       "    // Add the status bar.\n",
       "    var status_bar = $('<span class=\"mpl-message\" style=\"text-align:right; float: right;\"/>');\n",
       "    nav_element.append(status_bar);\n",
       "    this.message = status_bar[0];\n",
       "\n",
       "    // Add the close button to the window.\n",
       "    var buttongrp = $('<div class=\"btn-group inline pull-right\"></div>');\n",
       "    var button = $('<button class=\"btn btn-mini btn-primary\" href=\"#\" title=\"Stop Interaction\"><i class=\"fa fa-power-off icon-remove icon-large\"></i></button>');\n",
       "    button.click(function (evt) { fig.handle_close(fig, {}); } );\n",
       "    button.mouseover('Stop Interaction', toolbar_mouse_event);\n",
       "    buttongrp.append(button);\n",
       "    var titlebar = this.root.find($('.ui-dialog-titlebar'));\n",
       "    titlebar.prepend(buttongrp);\n",
       "}\n",
       "\n",
       "mpl.figure.prototype._root_extra_style = function(el){\n",
       "    var fig = this\n",
       "    el.on(\"remove\", function(){\n",
       "\tfig.close_ws(fig, {});\n",
       "    });\n",
       "}\n",
       "\n",
       "mpl.figure.prototype._canvas_extra_style = function(el){\n",
       "    // this is important to make the div 'focusable\n",
       "    el.attr('tabindex', 0)\n",
       "    // reach out to IPython and tell the keyboard manager to turn it's self\n",
       "    // off when our div gets focus\n",
       "\n",
       "    // location in version 3\n",
       "    if (IPython.notebook.keyboard_manager) {\n",
       "        IPython.notebook.keyboard_manager.register_events(el);\n",
       "    }\n",
       "    else {\n",
       "        // location in version 2\n",
       "        IPython.keyboard_manager.register_events(el);\n",
       "    }\n",
       "\n",
       "}\n",
       "\n",
       "mpl.figure.prototype._key_event_extra = function(event, name) {\n",
       "    var manager = IPython.notebook.keyboard_manager;\n",
       "    if (!manager)\n",
       "        manager = IPython.keyboard_manager;\n",
       "\n",
       "    // Check for shift+enter\n",
       "    if (event.shiftKey && event.which == 13) {\n",
       "        this.canvas_div.blur();\n",
       "        event.shiftKey = false;\n",
       "        // Send a \"J\" for go to next cell\n",
       "        event.which = 74;\n",
       "        event.keyCode = 74;\n",
       "        manager.command_mode();\n",
       "        manager.handle_keydown(event);\n",
       "    }\n",
       "}\n",
       "\n",
       "mpl.figure.prototype.handle_save = function(fig, msg) {\n",
       "    fig.ondownload(fig, null);\n",
       "}\n",
       "\n",
       "\n",
       "mpl.find_output_cell = function(html_output) {\n",
       "    // Return the cell and output element which can be found *uniquely* in the notebook.\n",
       "    // Note - this is a bit hacky, but it is done because the \"notebook_saving.Notebook\"\n",
       "    // IPython event is triggered only after the cells have been serialised, which for\n",
       "    // our purposes (turning an active figure into a static one), is too late.\n",
       "    var cells = IPython.notebook.get_cells();\n",
       "    var ncells = cells.length;\n",
       "    for (var i=0; i<ncells; i++) {\n",
       "        var cell = cells[i];\n",
       "        if (cell.cell_type === 'code'){\n",
       "            for (var j=0; j<cell.output_area.outputs.length; j++) {\n",
       "                var data = cell.output_area.outputs[j];\n",
       "                if (data.data) {\n",
       "                    // IPython >= 3 moved mimebundle to data attribute of output\n",
       "                    data = data.data;\n",
       "                }\n",
       "                if (data['text/html'] == html_output) {\n",
       "                    return [cell, data, j];\n",
       "                }\n",
       "            }\n",
       "        }\n",
       "    }\n",
       "}\n",
       "\n",
       "// Register the function which deals with the matplotlib target/channel.\n",
       "// The kernel may be null if the page has been refreshed.\n",
       "if (IPython.notebook.kernel != null) {\n",
       "    IPython.notebook.kernel.comm_manager.register_target('matplotlib', mpl.mpl_figure_comm);\n",
       "}\n"
      ],
      "text/plain": [
       "<IPython.core.display.Javascript object>"
      ]
     },
     "metadata": {},
     "output_type": "display_data"
    },
    {
     "data": {
      "text/html": [
       "<img src=\"data:image/png;base64,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\" width=\"640\">"
      ],
      "text/plain": [
       "<IPython.core.display.HTML object>"
      ]
     },
     "metadata": {},
     "output_type": "display_data"
    },
    {
     "data": {
      "text/plain": [
       "<Container object of 17 artists>"
      ]
     },
     "execution_count": 400,
     "metadata": {},
     "output_type": "execute_result"
    }
   ],
   "source": [
    "plt.figure()\n",
    "plt.bar(height=df.groupby('Category').pred_true.mean().values,x=df.groupby('Category').pred_true.mean().index)"
   ]
  },
  {
   "cell_type": "code",
   "execution_count": 389,
   "metadata": {},
   "outputs": [
    {
     "data": {
      "text/plain": [
       "0.64891742414990317"
      ]
     },
     "execution_count": 389,
     "metadata": {},
     "output_type": "execute_result"
    }
   ],
   "source": [
    "# Let's try Adaboost\n",
    "bc_beauty=AdaBoostClassifier(base_estimator=LogisticRegression(),n_estimators=100)\n",
    "X=train[train.Group=='beauty_'].title\n",
    "cv=CountVectorizer(stop_words=ignore_words,ngram_range=(1,5))\n",
    "X=cv.fit_transform(X)\n",
    "y=train[train.Group=='beauty_'].Category.values\n",
    "bc_beauty.fit(X,y)\n",
    "X_test=test[test.Group=='beauty_'].title\n",
    "X_test=cv.transform(X_test)\n",
    "bc_beauty.score(X_test,test[test.Group=='beauty_'].Category.values)"
   ]
  },
  {
   "cell_type": "code",
   "execution_count": 406,
   "metadata": {},
   "outputs": [],
   "source": [
    "from sklearn.ensemble import VotingClassifier,RandomForestClassifier"
   ]
  },
  {
   "cell_type": "code",
   "execution_count": 407,
   "metadata": {},
   "outputs": [
    {
     "data": {
      "text/plain": [
       "['beauty_', 'mobile_', 'fashion']"
      ]
     },
     "execution_count": 407,
     "metadata": {},
     "output_type": "execute_result"
    }
   ],
   "source": [
    "groups"
   ]
  },
  {
   "cell_type": "code",
   "execution_count": 410,
   "metadata": {},
   "outputs": [
    {
     "data": {
      "text/plain": [
       "SVC(C=0.1, cache_size=200, class_weight=None, coef0=0.0,\n",
       "  decision_function_shape='ovr', degree=3, gamma='auto_deprecated',\n",
       "  kernel='linear', max_iter=-1, probability=False, random_state=None,\n",
       "  shrinking=True, tol=0.001, verbose=False)"
      ]
     },
     "execution_count": 410,
     "metadata": {},
     "output_type": "execute_result"
    }
   ],
   "source": [
    "svc"
   ]
  },
  {
   "cell_type": "code",
   "execution_count": 427,
   "metadata": {},
   "outputs": [],
   "source": [
    "cv=CountVectorizer(stop_words =ignore_words)"
   ]
  },
  {
   "cell_type": "code",
   "execution_count": 428,
   "metadata": {},
   "outputs": [],
   "source": [
    "X=train[train.Group=='beauty_'].title"
   ]
  },
  {
   "cell_type": "code",
   "execution_count": 429,
   "metadata": {},
   "outputs": [],
   "source": [
    "X=cv.fit_transform(X)"
   ]
  },
  {
   "cell_type": "code",
   "execution_count": 430,
   "metadata": {},
   "outputs": [
    {
     "data": {
      "text/plain": [
       "(229266, 25981)"
      ]
     },
     "execution_count": 430,
     "metadata": {},
     "output_type": "execute_result"
    }
   ],
   "source": [
    "X.shape"
   ]
  },
  {
   "cell_type": "code",
   "execution_count": 12,
   "metadata": {},
   "outputs": [],
   "source": [
    "groups=['beauty_','mobile_','fashion']"
   ]
  },
  {
   "cell_type": "code",
   "execution_count": 14,
   "metadata": {},
   "outputs": [],
   "source": [
    "svc=SVC(C=0.1,kernel='linear')"
   ]
  },
  {
   "cell_type": "code",
   "execution_count": 15,
   "metadata": {},
   "outputs": [
    {
     "name": "stderr",
     "output_type": "stream",
     "text": [
      "\r",
      "  0%|                                                                                            | 0/3 [00:00<?, ?it/s]"
     ]
    },
    {
     "ename": "NameError",
     "evalue": "name 'group' is not defined",
     "output_type": "error",
     "traceback": [
      "\u001b[1;31m---------------------------------------------------------------------------\u001b[0m",
      "\u001b[1;31mNameError\u001b[0m                                 Traceback (most recent call last)",
      "\u001b[1;32m<ipython-input-15-6d1df72ddc92>\u001b[0m in \u001b[0;36m<module>\u001b[1;34m\u001b[0m\n\u001b[0;32m     15\u001b[0m     \u001b[0my_test\u001b[0m\u001b[1;33m=\u001b[0m\u001b[0mtest\u001b[0m\u001b[1;33m[\u001b[0m\u001b[0mtest\u001b[0m\u001b[1;33m.\u001b[0m\u001b[0mGroup\u001b[0m\u001b[1;33m==\u001b[0m\u001b[0mgroups\u001b[0m\u001b[1;33m[\u001b[0m\u001b[0mi\u001b[0m\u001b[1;33m]\u001b[0m\u001b[1;33m]\u001b[0m\u001b[1;33m.\u001b[0m\u001b[0mCategory\u001b[0m\u001b[1;33m\u001b[0m\u001b[0m\n\u001b[0;32m     16\u001b[0m     \u001b[0my_pred\u001b[0m\u001b[1;33m=\u001b[0m\u001b[0mmodel\u001b[0m\u001b[1;33m.\u001b[0m\u001b[0mpredict\u001b[0m\u001b[1;33m(\u001b[0m\u001b[0mX_test\u001b[0m\u001b[1;33m)\u001b[0m\u001b[1;33m\u001b[0m\u001b[0m\n\u001b[1;32m---> 17\u001b[1;33m     \u001b[0maccuracy\u001b[0m\u001b[1;33m[\u001b[0m\u001b[0mgroup\u001b[0m\u001b[1;33m]\u001b[0m\u001b[1;33m=\u001b[0m\u001b[0maccuracy_score\u001b[0m\u001b[1;33m(\u001b[0m\u001b[0my_test\u001b[0m\u001b[1;33m,\u001b[0m\u001b[0my_pred\u001b[0m\u001b[1;33m)\u001b[0m\u001b[1;33m\u001b[0m\u001b[0m\n\u001b[0m\u001b[0;32m     18\u001b[0m     \u001b[0mprint\u001b[0m\u001b[1;33m(\u001b[0m\u001b[0mgroups\u001b[0m\u001b[1;33m[\u001b[0m\u001b[0mi\u001b[0m\u001b[1;33m]\u001b[0m\u001b[1;33m+\u001b[0m \u001b[1;34m' accuracy score :'\u001b[0m\u001b[1;33m,\u001b[0m\u001b[0maccuracy_score\u001b[0m\u001b[1;33m(\u001b[0m\u001b[0my_test\u001b[0m\u001b[1;33m,\u001b[0m\u001b[0my_pred\u001b[0m\u001b[1;33m)\u001b[0m\u001b[1;33m)\u001b[0m\u001b[1;33m\u001b[0m\u001b[0m\n\u001b[0;32m     19\u001b[0m \u001b[1;33m\u001b[0m\u001b[0m\n",
      "\u001b[1;31mNameError\u001b[0m: name 'group' is not defined"
     ]
    }
   ],
   "source": [
    "svc=SVC(C=0.1,kernel='linear')\n",
    "groups=['beauty_','mobile_','fashion']\n",
    "pipe_beauty=Pipeline([('vectorize', CountVectorizer(stop_words =ignore_words,min_df=5)),('model',svc)])\n",
    "pipe_mobile=Pipeline([('vectorize', CountVectorizer(stop_words =ignore_words,min_df=5)),('model',svc)])\n",
    "pipe_fashion=Pipeline([('vectorize', CountVectorizer(stop_words =ignore_words,min_df=5)),('model',svc)])\n",
    "pipe_svc=[pipe_beauty,pipe_mobile,pipe_fashion]\n",
    "\n",
    "accuracy={}\n",
    "for i in tqdm(range(len(groups))):\n",
    "    X=train[train.Group==groups[i]].title\n",
    "    y=train[train.Group==groups[i]].Category\n",
    "    model=pipe_svc[i]\n",
    "    model.fit(X,y)\n",
    "    X_test=test[test.Group==groups[i]].title\n",
    "    y_test=test[test.Group==groups[i]].Category\n",
    "    y_pred=model.predict(X_test)\n",
    "    accuracy[group]=accuracy_score(y_test,y_pred)\n",
    "    print(groups[i]+ ' accuracy score :',accuracy_score(y_test,y_pred))\n",
    "\n"
   ]
  },
  {
   "cell_type": "code",
   "execution_count": 375,
   "metadata": {},
   "outputs": [
    {
     "ename": "ValueError",
     "evalue": "Must have equal len keys and value when setting with an ndarray",
     "output_type": "error",
     "traceback": [
      "\u001b[1;31m---------------------------------------------------------------------------\u001b[0m",
      "\u001b[1;31mValueError\u001b[0m                                Traceback (most recent call last)",
      "\u001b[1;32m<ipython-input-375-3cb6c59c2add>\u001b[0m in \u001b[0;36m<module>\u001b[1;34m\u001b[0m\n\u001b[0;32m      2\u001b[0m \u001b[1;32mfor\u001b[0m \u001b[0mgroup\u001b[0m \u001b[1;32min\u001b[0m \u001b[0mpredictions_val\u001b[0m\u001b[1;33m.\u001b[0m\u001b[0mkeys\u001b[0m\u001b[1;33m(\u001b[0m\u001b[1;33m)\u001b[0m\u001b[1;33m:\u001b[0m\u001b[1;33m\u001b[0m\u001b[0m\n\u001b[0;32m      3\u001b[0m     \u001b[0mtest_\u001b[0m\u001b[1;33m=\u001b[0m\u001b[0mtest\u001b[0m\u001b[1;33m.\u001b[0m\u001b[0mcopy\u001b[0m\u001b[1;33m(\u001b[0m\u001b[1;33m)\u001b[0m\u001b[1;33m\u001b[0m\u001b[0m\n\u001b[1;32m----> 4\u001b[1;33m     \u001b[0mtest_\u001b[0m\u001b[1;33m.\u001b[0m\u001b[0mloc\u001b[0m\u001b[1;33m[\u001b[0m\u001b[0mtest_\u001b[0m\u001b[1;33m.\u001b[0m\u001b[0mGroup\u001b[0m\u001b[1;33m==\u001b[0m\u001b[0mgroup\u001b[0m\u001b[1;33m,\u001b[0m\u001b[1;34m'Category'\u001b[0m\u001b[1;33m]\u001b[0m\u001b[1;33m=\u001b[0m\u001b[0mpredictions_val\u001b[0m\u001b[1;33m[\u001b[0m\u001b[0mgroup\u001b[0m\u001b[1;33m]\u001b[0m\u001b[1;33m\u001b[0m\u001b[0m\n\u001b[0m\u001b[0;32m      5\u001b[0m \u001b[0mprint\u001b[0m\u001b[1;33m(\u001b[0m\u001b[0maccuracy_score\u001b[0m\u001b[1;33m(\u001b[0m\u001b[0mtest\u001b[0m\u001b[1;33m.\u001b[0m\u001b[0mCategory\u001b[0m\u001b[1;33m,\u001b[0m\u001b[0mtest_\u001b[0m\u001b[1;33m.\u001b[0m\u001b[0mCategory\u001b[0m\u001b[1;33m)\u001b[0m\u001b[1;33m)\u001b[0m\u001b[1;33m\u001b[0m\u001b[0m\n\u001b[0;32m      6\u001b[0m \u001b[1;31m# Wow results seems to be impressive 0.884536051544\u001b[0m\u001b[1;33m\u001b[0m\u001b[1;33m\u001b[0m\u001b[0m\n",
      "\u001b[1;32m~\\Anaconda3\\lib\\site-packages\\pandas\\core\\indexing.py\u001b[0m in \u001b[0;36m__setitem__\u001b[1;34m(self, key, value)\u001b[0m\n\u001b[0;32m    192\u001b[0m             \u001b[0mkey\u001b[0m \u001b[1;33m=\u001b[0m \u001b[0mcom\u001b[0m\u001b[1;33m.\u001b[0m\u001b[0m_apply_if_callable\u001b[0m\u001b[1;33m(\u001b[0m\u001b[0mkey\u001b[0m\u001b[1;33m,\u001b[0m \u001b[0mself\u001b[0m\u001b[1;33m.\u001b[0m\u001b[0mobj\u001b[0m\u001b[1;33m)\u001b[0m\u001b[1;33m\u001b[0m\u001b[0m\n\u001b[0;32m    193\u001b[0m         \u001b[0mindexer\u001b[0m \u001b[1;33m=\u001b[0m \u001b[0mself\u001b[0m\u001b[1;33m.\u001b[0m\u001b[0m_get_setitem_indexer\u001b[0m\u001b[1;33m(\u001b[0m\u001b[0mkey\u001b[0m\u001b[1;33m)\u001b[0m\u001b[1;33m\u001b[0m\u001b[0m\n\u001b[1;32m--> 194\u001b[1;33m         \u001b[0mself\u001b[0m\u001b[1;33m.\u001b[0m\u001b[0m_setitem_with_indexer\u001b[0m\u001b[1;33m(\u001b[0m\u001b[0mindexer\u001b[0m\u001b[1;33m,\u001b[0m \u001b[0mvalue\u001b[0m\u001b[1;33m)\u001b[0m\u001b[1;33m\u001b[0m\u001b[0m\n\u001b[0m\u001b[0;32m    195\u001b[0m \u001b[1;33m\u001b[0m\u001b[0m\n\u001b[0;32m    196\u001b[0m     \u001b[1;32mdef\u001b[0m \u001b[0m_has_valid_type\u001b[0m\u001b[1;33m(\u001b[0m\u001b[0mself\u001b[0m\u001b[1;33m,\u001b[0m \u001b[0mk\u001b[0m\u001b[1;33m,\u001b[0m \u001b[0maxis\u001b[0m\u001b[1;33m)\u001b[0m\u001b[1;33m:\u001b[0m\u001b[1;33m\u001b[0m\u001b[0m\n",
      "\u001b[1;32m~\\Anaconda3\\lib\\site-packages\\pandas\\core\\indexing.py\u001b[0m in \u001b[0;36m_setitem_with_indexer\u001b[1;34m(self, indexer, value)\u001b[0m\n\u001b[0;32m    581\u001b[0m                     \u001b[0mvalue\u001b[0m \u001b[1;33m=\u001b[0m \u001b[0mnp\u001b[0m\u001b[1;33m.\u001b[0m\u001b[0marray\u001b[0m\u001b[1;33m(\u001b[0m\u001b[0mvalue\u001b[0m\u001b[1;33m,\u001b[0m \u001b[0mdtype\u001b[0m\u001b[1;33m=\u001b[0m\u001b[0mobject\u001b[0m\u001b[1;33m)\u001b[0m\u001b[1;33m\u001b[0m\u001b[0m\n\u001b[0;32m    582\u001b[0m                     \u001b[1;32mif\u001b[0m \u001b[0mlen\u001b[0m\u001b[1;33m(\u001b[0m\u001b[0mlabels\u001b[0m\u001b[1;33m)\u001b[0m \u001b[1;33m!=\u001b[0m \u001b[0mvalue\u001b[0m\u001b[1;33m.\u001b[0m\u001b[0mshape\u001b[0m\u001b[1;33m[\u001b[0m\u001b[1;36m1\u001b[0m\u001b[1;33m]\u001b[0m\u001b[1;33m:\u001b[0m\u001b[1;33m\u001b[0m\u001b[0m\n\u001b[1;32m--> 583\u001b[1;33m                         raise ValueError('Must have equal len keys and value '\n\u001b[0m\u001b[0;32m    584\u001b[0m                                          'when setting with an ndarray')\n\u001b[0;32m    585\u001b[0m \u001b[1;33m\u001b[0m\u001b[0m\n",
      "\u001b[1;31mValueError\u001b[0m: Must have equal len keys and value when setting with an ndarray"
     ]
    }
   ],
   "source": [
    "# Let's check accuracy in validation set\n",
    "for group in predictions_val.keys():\n",
    "    test_=test.copy()\n",
    "    test_.loc[test_.Group==group,'Category']=predictions_val[group]\n",
    "print(accuracy_score(test.Category,test_.Category))\n",
    "# Wow results seems to be impressive 0.884536051544"
   ]
  },
  {
   "cell_type": "code",
   "execution_count": 381,
   "metadata": {},
   "outputs": [
    {
     "ename": "ValueError",
     "evalue": "Classification metrics can't handle a mix of multiclass and continuous-multioutput targets",
     "output_type": "error",
     "traceback": [
      "\u001b[1;31m---------------------------------------------------------------------------\u001b[0m",
      "\u001b[1;31mValueError\u001b[0m                                Traceback (most recent call last)",
      "\u001b[1;32m<ipython-input-381-288643591710>\u001b[0m in \u001b[0;36m<module>\u001b[1;34m\u001b[0m\n\u001b[1;32m----> 1\u001b[1;33m \u001b[0maccuracy_score\u001b[0m\u001b[1;33m(\u001b[0m\u001b[0mtest\u001b[0m\u001b[1;33m[\u001b[0m\u001b[0mtest\u001b[0m\u001b[1;33m.\u001b[0m\u001b[0mGroup\u001b[0m\u001b[1;33m==\u001b[0m\u001b[1;34m'beauty_'\u001b[0m\u001b[1;33m]\u001b[0m\u001b[1;33m.\u001b[0m\u001b[0mCategory\u001b[0m\u001b[1;33m,\u001b[0m\u001b[0mpredictions_val\u001b[0m\u001b[1;33m[\u001b[0m\u001b[1;34m'beauty_'\u001b[0m\u001b[1;33m]\u001b[0m\u001b[1;33m)\u001b[0m\u001b[1;33m\u001b[0m\u001b[0m\n\u001b[0m",
      "\u001b[1;32m~\\Anaconda3\\lib\\site-packages\\sklearn\\metrics\\classification.py\u001b[0m in \u001b[0;36maccuracy_score\u001b[1;34m(y_true, y_pred, normalize, sample_weight)\u001b[0m\n\u001b[0;32m    174\u001b[0m \u001b[1;33m\u001b[0m\u001b[0m\n\u001b[0;32m    175\u001b[0m     \u001b[1;31m# Compute accuracy for each possible representation\u001b[0m\u001b[1;33m\u001b[0m\u001b[1;33m\u001b[0m\u001b[0m\n\u001b[1;32m--> 176\u001b[1;33m     \u001b[0my_type\u001b[0m\u001b[1;33m,\u001b[0m \u001b[0my_true\u001b[0m\u001b[1;33m,\u001b[0m \u001b[0my_pred\u001b[0m \u001b[1;33m=\u001b[0m \u001b[0m_check_targets\u001b[0m\u001b[1;33m(\u001b[0m\u001b[0my_true\u001b[0m\u001b[1;33m,\u001b[0m \u001b[0my_pred\u001b[0m\u001b[1;33m)\u001b[0m\u001b[1;33m\u001b[0m\u001b[0m\n\u001b[0m\u001b[0;32m    177\u001b[0m     \u001b[0mcheck_consistent_length\u001b[0m\u001b[1;33m(\u001b[0m\u001b[0my_true\u001b[0m\u001b[1;33m,\u001b[0m \u001b[0my_pred\u001b[0m\u001b[1;33m,\u001b[0m \u001b[0msample_weight\u001b[0m\u001b[1;33m)\u001b[0m\u001b[1;33m\u001b[0m\u001b[0m\n\u001b[0;32m    178\u001b[0m     \u001b[1;32mif\u001b[0m \u001b[0my_type\u001b[0m\u001b[1;33m.\u001b[0m\u001b[0mstartswith\u001b[0m\u001b[1;33m(\u001b[0m\u001b[1;34m'multilabel'\u001b[0m\u001b[1;33m)\u001b[0m\u001b[1;33m:\u001b[0m\u001b[1;33m\u001b[0m\u001b[0m\n",
      "\u001b[1;32m~\\Anaconda3\\lib\\site-packages\\sklearn\\metrics\\classification.py\u001b[0m in \u001b[0;36m_check_targets\u001b[1;34m(y_true, y_pred)\u001b[0m\n\u001b[0;32m     79\u001b[0m     \u001b[1;32mif\u001b[0m \u001b[0mlen\u001b[0m\u001b[1;33m(\u001b[0m\u001b[0my_type\u001b[0m\u001b[1;33m)\u001b[0m \u001b[1;33m>\u001b[0m \u001b[1;36m1\u001b[0m\u001b[1;33m:\u001b[0m\u001b[1;33m\u001b[0m\u001b[0m\n\u001b[0;32m     80\u001b[0m         raise ValueError(\"Classification metrics can't handle a mix of {0} \"\n\u001b[1;32m---> 81\u001b[1;33m                          \"and {1} targets\".format(type_true, type_pred))\n\u001b[0m\u001b[0;32m     82\u001b[0m \u001b[1;33m\u001b[0m\u001b[0m\n\u001b[0;32m     83\u001b[0m     \u001b[1;31m# We can't have more than one value on y_type => The set is no more needed\u001b[0m\u001b[1;33m\u001b[0m\u001b[1;33m\u001b[0m\u001b[0m\n",
      "\u001b[1;31mValueError\u001b[0m: Classification metrics can't handle a mix of multiclass and continuous-multioutput targets"
     ]
    }
   ],
   "source": [
    "accuracy_score(test[test.Group=='beauty_'].Category,predictions_val['beauty_'])\n"
   ]
  },
  {
   "cell_type": "code",
   "execution_count": 314,
   "metadata": {},
   "outputs": [
    {
     "name": "stderr",
     "output_type": "stream",
     "text": [
      "\n",
      "\n",
      "\n",
      "\n",
      "\n",
      "\n",
      "  0%|                                                                                            | 0/3 [00:00<?, ?it/s]"
     ]
    },
    {
     "name": "stdout",
     "output_type": "stream",
     "text": [
      "Fitting 3 folds for each of 3 candidates, totalling 9 fits\n"
     ]
    },
    {
     "name": "stderr",
     "output_type": "stream",
     "text": [
      "[Parallel(n_jobs=1)]: Using backend SequentialBackend with 1 concurrent workers.\n"
     ]
    },
    {
     "ename": "KeyboardInterrupt",
     "evalue": "",
     "output_type": "error",
     "traceback": [
      "\u001b[1;31m---------------------------------------------------------------------------\u001b[0m",
      "\u001b[1;31mKeyboardInterrupt\u001b[0m                         Traceback (most recent call last)",
      "\u001b[1;32m<ipython-input-314-3a9b79f55534>\u001b[0m in \u001b[0;36m<module>\u001b[1;34m\u001b[0m\n\u001b[0;32m      9\u001b[0m     \u001b[0mX\u001b[0m\u001b[1;33m=\u001b[0m\u001b[0mdf_train\u001b[0m\u001b[1;33m[\u001b[0m\u001b[0mdf_train\u001b[0m\u001b[1;33m.\u001b[0m\u001b[0mGroup\u001b[0m\u001b[1;33m==\u001b[0m\u001b[0mgroup\u001b[0m\u001b[1;33m]\u001b[0m\u001b[1;33m.\u001b[0m\u001b[0mtitle\u001b[0m\u001b[1;33m\u001b[0m\u001b[0m\n\u001b[0;32m     10\u001b[0m     \u001b[0my\u001b[0m\u001b[1;33m=\u001b[0m\u001b[0mdf_train\u001b[0m\u001b[1;33m[\u001b[0m\u001b[0mdf_train\u001b[0m\u001b[1;33m.\u001b[0m\u001b[0mGroup\u001b[0m\u001b[1;33m==\u001b[0m\u001b[0mgroup\u001b[0m\u001b[1;33m]\u001b[0m\u001b[1;33m.\u001b[0m\u001b[0mCategory\u001b[0m\u001b[1;33m\u001b[0m\u001b[0m\n\u001b[1;32m---> 11\u001b[1;33m     \u001b[0mgrid_search\u001b[0m\u001b[1;33m.\u001b[0m\u001b[0mfit\u001b[0m\u001b[1;33m(\u001b[0m\u001b[0mX\u001b[0m\u001b[1;33m,\u001b[0m\u001b[0my\u001b[0m\u001b[1;33m)\u001b[0m\u001b[1;33m\u001b[0m\u001b[0m\n\u001b[0m\u001b[0;32m     12\u001b[0m     \u001b[0mbest_param_models\u001b[0m\u001b[1;33m[\u001b[0m\u001b[0mgroup\u001b[0m\u001b[1;33m]\u001b[0m\u001b[1;33m=\u001b[0m\u001b[0mgrid_search\u001b[0m\u001b[1;33m.\u001b[0m\u001b[0mbest_params_\u001b[0m\u001b[1;33m\u001b[0m\u001b[0m\n\u001b[0;32m     13\u001b[0m     \u001b[0mprint\u001b[0m\u001b[1;33m(\u001b[0m\u001b[0mgroup\u001b[0m\u001b[1;33m+\u001b[0m \u001b[1;34m' best parameters :'\u001b[0m\u001b[1;33m,\u001b[0m\u001b[0mgrid_search\u001b[0m\u001b[1;33m.\u001b[0m\u001b[0mbest_params_\u001b[0m \u001b[1;33m)\u001b[0m\u001b[1;33m\u001b[0m\u001b[0m\n",
      "\u001b[1;32m~\\Anaconda3\\lib\\site-packages\\sklearn\\model_selection\\_search.py\u001b[0m in \u001b[0;36mfit\u001b[1;34m(self, X, y, groups, **fit_params)\u001b[0m\n\u001b[0;32m    720\u001b[0m                 \u001b[1;32mreturn\u001b[0m \u001b[0mresults_container\u001b[0m\u001b[1;33m[\u001b[0m\u001b[1;36m0\u001b[0m\u001b[1;33m]\u001b[0m\u001b[1;33m\u001b[0m\u001b[0m\n\u001b[0;32m    721\u001b[0m \u001b[1;33m\u001b[0m\u001b[0m\n\u001b[1;32m--> 722\u001b[1;33m             \u001b[0mself\u001b[0m\u001b[1;33m.\u001b[0m\u001b[0m_run_search\u001b[0m\u001b[1;33m(\u001b[0m\u001b[0mevaluate_candidates\u001b[0m\u001b[1;33m)\u001b[0m\u001b[1;33m\u001b[0m\u001b[0m\n\u001b[0m\u001b[0;32m    723\u001b[0m \u001b[1;33m\u001b[0m\u001b[0m\n\u001b[0;32m    724\u001b[0m         \u001b[0mresults\u001b[0m \u001b[1;33m=\u001b[0m \u001b[0mresults_container\u001b[0m\u001b[1;33m[\u001b[0m\u001b[1;36m0\u001b[0m\u001b[1;33m]\u001b[0m\u001b[1;33m\u001b[0m\u001b[0m\n",
      "\u001b[1;32m~\\Anaconda3\\lib\\site-packages\\sklearn\\model_selection\\_search.py\u001b[0m in \u001b[0;36m_run_search\u001b[1;34m(self, evaluate_candidates)\u001b[0m\n\u001b[0;32m   1189\u001b[0m     \u001b[1;32mdef\u001b[0m \u001b[0m_run_search\u001b[0m\u001b[1;33m(\u001b[0m\u001b[0mself\u001b[0m\u001b[1;33m,\u001b[0m \u001b[0mevaluate_candidates\u001b[0m\u001b[1;33m)\u001b[0m\u001b[1;33m:\u001b[0m\u001b[1;33m\u001b[0m\u001b[0m\n\u001b[0;32m   1190\u001b[0m         \u001b[1;34m\"\"\"Search all candidates in param_grid\"\"\"\u001b[0m\u001b[1;33m\u001b[0m\u001b[0m\n\u001b[1;32m-> 1191\u001b[1;33m         \u001b[0mevaluate_candidates\u001b[0m\u001b[1;33m(\u001b[0m\u001b[0mParameterGrid\u001b[0m\u001b[1;33m(\u001b[0m\u001b[0mself\u001b[0m\u001b[1;33m.\u001b[0m\u001b[0mparam_grid\u001b[0m\u001b[1;33m)\u001b[0m\u001b[1;33m)\u001b[0m\u001b[1;33m\u001b[0m\u001b[0m\n\u001b[0m\u001b[0;32m   1192\u001b[0m \u001b[1;33m\u001b[0m\u001b[0m\n\u001b[0;32m   1193\u001b[0m \u001b[1;33m\u001b[0m\u001b[0m\n",
      "\u001b[1;32m~\\Anaconda3\\lib\\site-packages\\sklearn\\model_selection\\_search.py\u001b[0m in \u001b[0;36mevaluate_candidates\u001b[1;34m(candidate_params)\u001b[0m\n\u001b[0;32m    709\u001b[0m                                \u001b[1;32mfor\u001b[0m \u001b[0mparameters\u001b[0m\u001b[1;33m,\u001b[0m \u001b[1;33m(\u001b[0m\u001b[0mtrain\u001b[0m\u001b[1;33m,\u001b[0m \u001b[0mtest\u001b[0m\u001b[1;33m)\u001b[0m\u001b[1;33m\u001b[0m\u001b[0m\n\u001b[0;32m    710\u001b[0m                                in product(candidate_params,\n\u001b[1;32m--> 711\u001b[1;33m                                           cv.split(X, y, groups)))\n\u001b[0m\u001b[0;32m    712\u001b[0m \u001b[1;33m\u001b[0m\u001b[0m\n\u001b[0;32m    713\u001b[0m                 \u001b[0mall_candidate_params\u001b[0m\u001b[1;33m.\u001b[0m\u001b[0mextend\u001b[0m\u001b[1;33m(\u001b[0m\u001b[0mcandidate_params\u001b[0m\u001b[1;33m)\u001b[0m\u001b[1;33m\u001b[0m\u001b[0m\n",
      "\u001b[1;32m~\\Anaconda3\\lib\\site-packages\\sklearn\\externals\\joblib\\parallel.py\u001b[0m in \u001b[0;36m__call__\u001b[1;34m(self, iterable)\u001b[0m\n\u001b[0;32m    918\u001b[0m                 \u001b[0mself\u001b[0m\u001b[1;33m.\u001b[0m\u001b[0m_iterating\u001b[0m \u001b[1;33m=\u001b[0m \u001b[0mself\u001b[0m\u001b[1;33m.\u001b[0m\u001b[0m_original_iterator\u001b[0m \u001b[1;32mis\u001b[0m \u001b[1;32mnot\u001b[0m \u001b[1;32mNone\u001b[0m\u001b[1;33m\u001b[0m\u001b[0m\n\u001b[0;32m    919\u001b[0m \u001b[1;33m\u001b[0m\u001b[0m\n\u001b[1;32m--> 920\u001b[1;33m             \u001b[1;32mwhile\u001b[0m \u001b[0mself\u001b[0m\u001b[1;33m.\u001b[0m\u001b[0mdispatch_one_batch\u001b[0m\u001b[1;33m(\u001b[0m\u001b[0miterator\u001b[0m\u001b[1;33m)\u001b[0m\u001b[1;33m:\u001b[0m\u001b[1;33m\u001b[0m\u001b[0m\n\u001b[0m\u001b[0;32m    921\u001b[0m                 \u001b[1;32mpass\u001b[0m\u001b[1;33m\u001b[0m\u001b[0m\n\u001b[0;32m    922\u001b[0m \u001b[1;33m\u001b[0m\u001b[0m\n",
      "\u001b[1;32m~\\Anaconda3\\lib\\site-packages\\sklearn\\externals\\joblib\\parallel.py\u001b[0m in \u001b[0;36mdispatch_one_batch\u001b[1;34m(self, iterator)\u001b[0m\n\u001b[0;32m    757\u001b[0m                 \u001b[1;32mreturn\u001b[0m \u001b[1;32mFalse\u001b[0m\u001b[1;33m\u001b[0m\u001b[0m\n\u001b[0;32m    758\u001b[0m             \u001b[1;32melse\u001b[0m\u001b[1;33m:\u001b[0m\u001b[1;33m\u001b[0m\u001b[0m\n\u001b[1;32m--> 759\u001b[1;33m                 \u001b[0mself\u001b[0m\u001b[1;33m.\u001b[0m\u001b[0m_dispatch\u001b[0m\u001b[1;33m(\u001b[0m\u001b[0mtasks\u001b[0m\u001b[1;33m)\u001b[0m\u001b[1;33m\u001b[0m\u001b[0m\n\u001b[0m\u001b[0;32m    760\u001b[0m                 \u001b[1;32mreturn\u001b[0m \u001b[1;32mTrue\u001b[0m\u001b[1;33m\u001b[0m\u001b[0m\n\u001b[0;32m    761\u001b[0m \u001b[1;33m\u001b[0m\u001b[0m\n",
      "\u001b[1;32m~\\Anaconda3\\lib\\site-packages\\sklearn\\externals\\joblib\\parallel.py\u001b[0m in \u001b[0;36m_dispatch\u001b[1;34m(self, batch)\u001b[0m\n\u001b[0;32m    714\u001b[0m         \u001b[1;32mwith\u001b[0m \u001b[0mself\u001b[0m\u001b[1;33m.\u001b[0m\u001b[0m_lock\u001b[0m\u001b[1;33m:\u001b[0m\u001b[1;33m\u001b[0m\u001b[0m\n\u001b[0;32m    715\u001b[0m             \u001b[0mjob_idx\u001b[0m \u001b[1;33m=\u001b[0m \u001b[0mlen\u001b[0m\u001b[1;33m(\u001b[0m\u001b[0mself\u001b[0m\u001b[1;33m.\u001b[0m\u001b[0m_jobs\u001b[0m\u001b[1;33m)\u001b[0m\u001b[1;33m\u001b[0m\u001b[0m\n\u001b[1;32m--> 716\u001b[1;33m             \u001b[0mjob\u001b[0m \u001b[1;33m=\u001b[0m \u001b[0mself\u001b[0m\u001b[1;33m.\u001b[0m\u001b[0m_backend\u001b[0m\u001b[1;33m.\u001b[0m\u001b[0mapply_async\u001b[0m\u001b[1;33m(\u001b[0m\u001b[0mbatch\u001b[0m\u001b[1;33m,\u001b[0m \u001b[0mcallback\u001b[0m\u001b[1;33m=\u001b[0m\u001b[0mcb\u001b[0m\u001b[1;33m)\u001b[0m\u001b[1;33m\u001b[0m\u001b[0m\n\u001b[0m\u001b[0;32m    717\u001b[0m             \u001b[1;31m# A job can complete so quickly than its callback is\u001b[0m\u001b[1;33m\u001b[0m\u001b[1;33m\u001b[0m\u001b[0m\n\u001b[0;32m    718\u001b[0m             \u001b[1;31m# called before we get here, causing self._jobs to\u001b[0m\u001b[1;33m\u001b[0m\u001b[1;33m\u001b[0m\u001b[0m\n",
      "\u001b[1;32m~\\Anaconda3\\lib\\site-packages\\sklearn\\externals\\joblib\\_parallel_backends.py\u001b[0m in \u001b[0;36mapply_async\u001b[1;34m(self, func, callback)\u001b[0m\n\u001b[0;32m    180\u001b[0m     \u001b[1;32mdef\u001b[0m \u001b[0mapply_async\u001b[0m\u001b[1;33m(\u001b[0m\u001b[0mself\u001b[0m\u001b[1;33m,\u001b[0m \u001b[0mfunc\u001b[0m\u001b[1;33m,\u001b[0m \u001b[0mcallback\u001b[0m\u001b[1;33m=\u001b[0m\u001b[1;32mNone\u001b[0m\u001b[1;33m)\u001b[0m\u001b[1;33m:\u001b[0m\u001b[1;33m\u001b[0m\u001b[0m\n\u001b[0;32m    181\u001b[0m         \u001b[1;34m\"\"\"Schedule a func to be run\"\"\"\u001b[0m\u001b[1;33m\u001b[0m\u001b[0m\n\u001b[1;32m--> 182\u001b[1;33m         \u001b[0mresult\u001b[0m \u001b[1;33m=\u001b[0m \u001b[0mImmediateResult\u001b[0m\u001b[1;33m(\u001b[0m\u001b[0mfunc\u001b[0m\u001b[1;33m)\u001b[0m\u001b[1;33m\u001b[0m\u001b[0m\n\u001b[0m\u001b[0;32m    183\u001b[0m         \u001b[1;32mif\u001b[0m \u001b[0mcallback\u001b[0m\u001b[1;33m:\u001b[0m\u001b[1;33m\u001b[0m\u001b[0m\n\u001b[0;32m    184\u001b[0m             \u001b[0mcallback\u001b[0m\u001b[1;33m(\u001b[0m\u001b[0mresult\u001b[0m\u001b[1;33m)\u001b[0m\u001b[1;33m\u001b[0m\u001b[0m\n",
      "\u001b[1;32m~\\Anaconda3\\lib\\site-packages\\sklearn\\externals\\joblib\\_parallel_backends.py\u001b[0m in \u001b[0;36m__init__\u001b[1;34m(self, batch)\u001b[0m\n\u001b[0;32m    547\u001b[0m         \u001b[1;31m# Don't delay the application, to avoid keeping the input\u001b[0m\u001b[1;33m\u001b[0m\u001b[1;33m\u001b[0m\u001b[0m\n\u001b[0;32m    548\u001b[0m         \u001b[1;31m# arguments in memory\u001b[0m\u001b[1;33m\u001b[0m\u001b[1;33m\u001b[0m\u001b[0m\n\u001b[1;32m--> 549\u001b[1;33m         \u001b[0mself\u001b[0m\u001b[1;33m.\u001b[0m\u001b[0mresults\u001b[0m \u001b[1;33m=\u001b[0m \u001b[0mbatch\u001b[0m\u001b[1;33m(\u001b[0m\u001b[1;33m)\u001b[0m\u001b[1;33m\u001b[0m\u001b[0m\n\u001b[0m\u001b[0;32m    550\u001b[0m \u001b[1;33m\u001b[0m\u001b[0m\n\u001b[0;32m    551\u001b[0m     \u001b[1;32mdef\u001b[0m \u001b[0mget\u001b[0m\u001b[1;33m(\u001b[0m\u001b[0mself\u001b[0m\u001b[1;33m)\u001b[0m\u001b[1;33m:\u001b[0m\u001b[1;33m\u001b[0m\u001b[0m\n",
      "\u001b[1;32m~\\Anaconda3\\lib\\site-packages\\sklearn\\externals\\joblib\\parallel.py\u001b[0m in \u001b[0;36m__call__\u001b[1;34m(self)\u001b[0m\n\u001b[0;32m    223\u001b[0m         \u001b[1;32mwith\u001b[0m \u001b[0mparallel_backend\u001b[0m\u001b[1;33m(\u001b[0m\u001b[0mself\u001b[0m\u001b[1;33m.\u001b[0m\u001b[0m_backend\u001b[0m\u001b[1;33m,\u001b[0m \u001b[0mn_jobs\u001b[0m\u001b[1;33m=\u001b[0m\u001b[0mself\u001b[0m\u001b[1;33m.\u001b[0m\u001b[0m_n_jobs\u001b[0m\u001b[1;33m)\u001b[0m\u001b[1;33m:\u001b[0m\u001b[1;33m\u001b[0m\u001b[0m\n\u001b[0;32m    224\u001b[0m             return [func(*args, **kwargs)\n\u001b[1;32m--> 225\u001b[1;33m                     for func, args, kwargs in self.items]\n\u001b[0m\u001b[0;32m    226\u001b[0m \u001b[1;33m\u001b[0m\u001b[0m\n\u001b[0;32m    227\u001b[0m     \u001b[1;32mdef\u001b[0m \u001b[0m__len__\u001b[0m\u001b[1;33m(\u001b[0m\u001b[0mself\u001b[0m\u001b[1;33m)\u001b[0m\u001b[1;33m:\u001b[0m\u001b[1;33m\u001b[0m\u001b[0m\n",
      "\u001b[1;32m~\\Anaconda3\\lib\\site-packages\\sklearn\\externals\\joblib\\parallel.py\u001b[0m in \u001b[0;36m<listcomp>\u001b[1;34m(.0)\u001b[0m\n\u001b[0;32m    223\u001b[0m         \u001b[1;32mwith\u001b[0m \u001b[0mparallel_backend\u001b[0m\u001b[1;33m(\u001b[0m\u001b[0mself\u001b[0m\u001b[1;33m.\u001b[0m\u001b[0m_backend\u001b[0m\u001b[1;33m,\u001b[0m \u001b[0mn_jobs\u001b[0m\u001b[1;33m=\u001b[0m\u001b[0mself\u001b[0m\u001b[1;33m.\u001b[0m\u001b[0m_n_jobs\u001b[0m\u001b[1;33m)\u001b[0m\u001b[1;33m:\u001b[0m\u001b[1;33m\u001b[0m\u001b[0m\n\u001b[0;32m    224\u001b[0m             return [func(*args, **kwargs)\n\u001b[1;32m--> 225\u001b[1;33m                     for func, args, kwargs in self.items]\n\u001b[0m\u001b[0;32m    226\u001b[0m \u001b[1;33m\u001b[0m\u001b[0m\n\u001b[0;32m    227\u001b[0m     \u001b[1;32mdef\u001b[0m \u001b[0m__len__\u001b[0m\u001b[1;33m(\u001b[0m\u001b[0mself\u001b[0m\u001b[1;33m)\u001b[0m\u001b[1;33m:\u001b[0m\u001b[1;33m\u001b[0m\u001b[0m\n",
      "\u001b[1;32m~\\Anaconda3\\lib\\site-packages\\sklearn\\model_selection\\_validation.py\u001b[0m in \u001b[0;36m_fit_and_score\u001b[1;34m(estimator, X, y, scorer, train, test, verbose, parameters, fit_params, return_train_score, return_parameters, return_n_test_samples, return_times, return_estimator, error_score)\u001b[0m\n\u001b[0;32m    570\u001b[0m         \u001b[1;32mif\u001b[0m \u001b[0mreturn_train_score\u001b[0m\u001b[1;33m:\u001b[0m\u001b[1;33m\u001b[0m\u001b[0m\n\u001b[0;32m    571\u001b[0m             train_scores = _score(estimator, X_train, y_train, scorer,\n\u001b[1;32m--> 572\u001b[1;33m                                   is_multimetric)\n\u001b[0m\u001b[0;32m    573\u001b[0m \u001b[1;33m\u001b[0m\u001b[0m\n\u001b[0;32m    574\u001b[0m     \u001b[1;32mif\u001b[0m \u001b[0mverbose\u001b[0m \u001b[1;33m>\u001b[0m \u001b[1;36m2\u001b[0m\u001b[1;33m:\u001b[0m\u001b[1;33m\u001b[0m\u001b[0m\n",
      "\u001b[1;32m~\\Anaconda3\\lib\\site-packages\\sklearn\\model_selection\\_validation.py\u001b[0m in \u001b[0;36m_score\u001b[1;34m(estimator, X_test, y_test, scorer, is_multimetric)\u001b[0m\n\u001b[0;32m    603\u001b[0m     \"\"\"\n\u001b[0;32m    604\u001b[0m     \u001b[1;32mif\u001b[0m \u001b[0mis_multimetric\u001b[0m\u001b[1;33m:\u001b[0m\u001b[1;33m\u001b[0m\u001b[0m\n\u001b[1;32m--> 605\u001b[1;33m         \u001b[1;32mreturn\u001b[0m \u001b[0m_multimetric_score\u001b[0m\u001b[1;33m(\u001b[0m\u001b[0mestimator\u001b[0m\u001b[1;33m,\u001b[0m \u001b[0mX_test\u001b[0m\u001b[1;33m,\u001b[0m \u001b[0my_test\u001b[0m\u001b[1;33m,\u001b[0m \u001b[0mscorer\u001b[0m\u001b[1;33m)\u001b[0m\u001b[1;33m\u001b[0m\u001b[0m\n\u001b[0m\u001b[0;32m    606\u001b[0m     \u001b[1;32melse\u001b[0m\u001b[1;33m:\u001b[0m\u001b[1;33m\u001b[0m\u001b[0m\n\u001b[0;32m    607\u001b[0m         \u001b[1;32mif\u001b[0m \u001b[0my_test\u001b[0m \u001b[1;32mis\u001b[0m \u001b[1;32mNone\u001b[0m\u001b[1;33m:\u001b[0m\u001b[1;33m\u001b[0m\u001b[0m\n",
      "\u001b[1;32m~\\Anaconda3\\lib\\site-packages\\sklearn\\model_selection\\_validation.py\u001b[0m in \u001b[0;36m_multimetric_score\u001b[1;34m(estimator, X_test, y_test, scorers)\u001b[0m\n\u001b[0;32m    633\u001b[0m             \u001b[0mscore\u001b[0m \u001b[1;33m=\u001b[0m \u001b[0mscorer\u001b[0m\u001b[1;33m(\u001b[0m\u001b[0mestimator\u001b[0m\u001b[1;33m,\u001b[0m \u001b[0mX_test\u001b[0m\u001b[1;33m)\u001b[0m\u001b[1;33m\u001b[0m\u001b[0m\n\u001b[0;32m    634\u001b[0m         \u001b[1;32melse\u001b[0m\u001b[1;33m:\u001b[0m\u001b[1;33m\u001b[0m\u001b[0m\n\u001b[1;32m--> 635\u001b[1;33m             \u001b[0mscore\u001b[0m \u001b[1;33m=\u001b[0m \u001b[0mscorer\u001b[0m\u001b[1;33m(\u001b[0m\u001b[0mestimator\u001b[0m\u001b[1;33m,\u001b[0m \u001b[0mX_test\u001b[0m\u001b[1;33m,\u001b[0m \u001b[0my_test\u001b[0m\u001b[1;33m)\u001b[0m\u001b[1;33m\u001b[0m\u001b[0m\n\u001b[0m\u001b[0;32m    636\u001b[0m \u001b[1;33m\u001b[0m\u001b[0m\n\u001b[0;32m    637\u001b[0m         \u001b[1;32mif\u001b[0m \u001b[0mhasattr\u001b[0m\u001b[1;33m(\u001b[0m\u001b[0mscore\u001b[0m\u001b[1;33m,\u001b[0m \u001b[1;34m'item'\u001b[0m\u001b[1;33m)\u001b[0m\u001b[1;33m:\u001b[0m\u001b[1;33m\u001b[0m\u001b[0m\n",
      "\u001b[1;32m~\\Anaconda3\\lib\\site-packages\\sklearn\\metrics\\scorer.py\u001b[0m in \u001b[0;36m_passthrough_scorer\u001b[1;34m(estimator, *args, **kwargs)\u001b[0m\n\u001b[0;32m    239\u001b[0m \u001b[1;32mdef\u001b[0m \u001b[0m_passthrough_scorer\u001b[0m\u001b[1;33m(\u001b[0m\u001b[0mestimator\u001b[0m\u001b[1;33m,\u001b[0m \u001b[1;33m*\u001b[0m\u001b[0margs\u001b[0m\u001b[1;33m,\u001b[0m \u001b[1;33m**\u001b[0m\u001b[0mkwargs\u001b[0m\u001b[1;33m)\u001b[0m\u001b[1;33m:\u001b[0m\u001b[1;33m\u001b[0m\u001b[0m\n\u001b[0;32m    240\u001b[0m     \u001b[1;34m\"\"\"Function that wraps estimator.score\"\"\"\u001b[0m\u001b[1;33m\u001b[0m\u001b[0m\n\u001b[1;32m--> 241\u001b[1;33m     \u001b[1;32mreturn\u001b[0m \u001b[0mestimator\u001b[0m\u001b[1;33m.\u001b[0m\u001b[0mscore\u001b[0m\u001b[1;33m(\u001b[0m\u001b[1;33m*\u001b[0m\u001b[0margs\u001b[0m\u001b[1;33m,\u001b[0m \u001b[1;33m**\u001b[0m\u001b[0mkwargs\u001b[0m\u001b[1;33m)\u001b[0m\u001b[1;33m\u001b[0m\u001b[0m\n\u001b[0m\u001b[0;32m    242\u001b[0m \u001b[1;33m\u001b[0m\u001b[0m\n\u001b[0;32m    243\u001b[0m \u001b[1;33m\u001b[0m\u001b[0m\n",
      "\u001b[1;32m~\\Anaconda3\\lib\\site-packages\\sklearn\\utils\\metaestimators.py\u001b[0m in \u001b[0;36m<lambda>\u001b[1;34m(*args, **kwargs)\u001b[0m\n\u001b[0;32m    116\u001b[0m \u001b[1;33m\u001b[0m\u001b[0m\n\u001b[0;32m    117\u001b[0m         \u001b[1;31m# lambda, but not partial, allows help() to work with update_wrapper\u001b[0m\u001b[1;33m\u001b[0m\u001b[1;33m\u001b[0m\u001b[0m\n\u001b[1;32m--> 118\u001b[1;33m         \u001b[0mout\u001b[0m \u001b[1;33m=\u001b[0m \u001b[1;32mlambda\u001b[0m \u001b[1;33m*\u001b[0m\u001b[0margs\u001b[0m\u001b[1;33m,\u001b[0m \u001b[1;33m**\u001b[0m\u001b[0mkwargs\u001b[0m\u001b[1;33m:\u001b[0m \u001b[0mself\u001b[0m\u001b[1;33m.\u001b[0m\u001b[0mfn\u001b[0m\u001b[1;33m(\u001b[0m\u001b[0mobj\u001b[0m\u001b[1;33m,\u001b[0m \u001b[1;33m*\u001b[0m\u001b[0margs\u001b[0m\u001b[1;33m,\u001b[0m \u001b[1;33m**\u001b[0m\u001b[0mkwargs\u001b[0m\u001b[1;33m)\u001b[0m\u001b[1;33m\u001b[0m\u001b[0m\n\u001b[0m\u001b[0;32m    119\u001b[0m         \u001b[1;31m# update the docstring of the returned function\u001b[0m\u001b[1;33m\u001b[0m\u001b[1;33m\u001b[0m\u001b[0m\n\u001b[0;32m    120\u001b[0m         \u001b[0mupdate_wrapper\u001b[0m\u001b[1;33m(\u001b[0m\u001b[0mout\u001b[0m\u001b[1;33m,\u001b[0m \u001b[0mself\u001b[0m\u001b[1;33m.\u001b[0m\u001b[0mfn\u001b[0m\u001b[1;33m)\u001b[0m\u001b[1;33m\u001b[0m\u001b[0m\n",
      "\u001b[1;32m~\\Anaconda3\\lib\\site-packages\\sklearn\\pipeline.py\u001b[0m in \u001b[0;36mscore\u001b[1;34m(self, X, y, sample_weight)\u001b[0m\n\u001b[0;32m    513\u001b[0m         \u001b[1;32mif\u001b[0m \u001b[0msample_weight\u001b[0m \u001b[1;32mis\u001b[0m \u001b[1;32mnot\u001b[0m \u001b[1;32mNone\u001b[0m\u001b[1;33m:\u001b[0m\u001b[1;33m\u001b[0m\u001b[0m\n\u001b[0;32m    514\u001b[0m             \u001b[0mscore_params\u001b[0m\u001b[1;33m[\u001b[0m\u001b[1;34m'sample_weight'\u001b[0m\u001b[1;33m]\u001b[0m \u001b[1;33m=\u001b[0m \u001b[0msample_weight\u001b[0m\u001b[1;33m\u001b[0m\u001b[0m\n\u001b[1;32m--> 515\u001b[1;33m         \u001b[1;32mreturn\u001b[0m \u001b[0mself\u001b[0m\u001b[1;33m.\u001b[0m\u001b[0msteps\u001b[0m\u001b[1;33m[\u001b[0m\u001b[1;33m-\u001b[0m\u001b[1;36m1\u001b[0m\u001b[1;33m]\u001b[0m\u001b[1;33m[\u001b[0m\u001b[1;33m-\u001b[0m\u001b[1;36m1\u001b[0m\u001b[1;33m]\u001b[0m\u001b[1;33m.\u001b[0m\u001b[0mscore\u001b[0m\u001b[1;33m(\u001b[0m\u001b[0mXt\u001b[0m\u001b[1;33m,\u001b[0m \u001b[0my\u001b[0m\u001b[1;33m,\u001b[0m \u001b[1;33m**\u001b[0m\u001b[0mscore_params\u001b[0m\u001b[1;33m)\u001b[0m\u001b[1;33m\u001b[0m\u001b[0m\n\u001b[0m\u001b[0;32m    516\u001b[0m \u001b[1;33m\u001b[0m\u001b[0m\n\u001b[0;32m    517\u001b[0m     \u001b[1;33m@\u001b[0m\u001b[0mproperty\u001b[0m\u001b[1;33m\u001b[0m\u001b[0m\n",
      "\u001b[1;32m~\\Anaconda3\\lib\\site-packages\\sklearn\\base.py\u001b[0m in \u001b[0;36mscore\u001b[1;34m(self, X, y, sample_weight)\u001b[0m\n\u001b[0;32m    286\u001b[0m         \"\"\"\n\u001b[0;32m    287\u001b[0m         \u001b[1;32mfrom\u001b[0m \u001b[1;33m.\u001b[0m\u001b[0mmetrics\u001b[0m \u001b[1;32mimport\u001b[0m \u001b[0maccuracy_score\u001b[0m\u001b[1;33m\u001b[0m\u001b[0m\n\u001b[1;32m--> 288\u001b[1;33m         \u001b[1;32mreturn\u001b[0m \u001b[0maccuracy_score\u001b[0m\u001b[1;33m(\u001b[0m\u001b[0my\u001b[0m\u001b[1;33m,\u001b[0m \u001b[0mself\u001b[0m\u001b[1;33m.\u001b[0m\u001b[0mpredict\u001b[0m\u001b[1;33m(\u001b[0m\u001b[0mX\u001b[0m\u001b[1;33m)\u001b[0m\u001b[1;33m,\u001b[0m \u001b[0msample_weight\u001b[0m\u001b[1;33m=\u001b[0m\u001b[0msample_weight\u001b[0m\u001b[1;33m)\u001b[0m\u001b[1;33m\u001b[0m\u001b[0m\n\u001b[0m\u001b[0;32m    289\u001b[0m \u001b[1;33m\u001b[0m\u001b[0m\n\u001b[0;32m    290\u001b[0m \u001b[1;33m\u001b[0m\u001b[0m\n",
      "\u001b[1;32m~\\Anaconda3\\lib\\site-packages\\sklearn\\svm\\base.py\u001b[0m in \u001b[0;36mpredict\u001b[1;34m(self, X)\u001b[0m\n\u001b[0;32m    574\u001b[0m             \u001b[0mClass\u001b[0m \u001b[0mlabels\u001b[0m \u001b[1;32mfor\u001b[0m \u001b[0msamples\u001b[0m \u001b[1;32min\u001b[0m \u001b[0mX\u001b[0m\u001b[1;33m.\u001b[0m\u001b[1;33m\u001b[0m\u001b[0m\n\u001b[0;32m    575\u001b[0m         \"\"\"\n\u001b[1;32m--> 576\u001b[1;33m         \u001b[0my\u001b[0m \u001b[1;33m=\u001b[0m \u001b[0msuper\u001b[0m\u001b[1;33m(\u001b[0m\u001b[0mBaseSVC\u001b[0m\u001b[1;33m,\u001b[0m \u001b[0mself\u001b[0m\u001b[1;33m)\u001b[0m\u001b[1;33m.\u001b[0m\u001b[0mpredict\u001b[0m\u001b[1;33m(\u001b[0m\u001b[0mX\u001b[0m\u001b[1;33m)\u001b[0m\u001b[1;33m\u001b[0m\u001b[0m\n\u001b[0m\u001b[0;32m    577\u001b[0m         \u001b[1;32mreturn\u001b[0m \u001b[0mself\u001b[0m\u001b[1;33m.\u001b[0m\u001b[0mclasses_\u001b[0m\u001b[1;33m.\u001b[0m\u001b[0mtake\u001b[0m\u001b[1;33m(\u001b[0m\u001b[0mnp\u001b[0m\u001b[1;33m.\u001b[0m\u001b[0masarray\u001b[0m\u001b[1;33m(\u001b[0m\u001b[0my\u001b[0m\u001b[1;33m,\u001b[0m \u001b[0mdtype\u001b[0m\u001b[1;33m=\u001b[0m\u001b[0mnp\u001b[0m\u001b[1;33m.\u001b[0m\u001b[0mintp\u001b[0m\u001b[1;33m)\u001b[0m\u001b[1;33m)\u001b[0m\u001b[1;33m\u001b[0m\u001b[0m\n\u001b[0;32m    578\u001b[0m \u001b[1;33m\u001b[0m\u001b[0m\n",
      "\u001b[1;32m~\\Anaconda3\\lib\\site-packages\\sklearn\\svm\\base.py\u001b[0m in \u001b[0;36mpredict\u001b[1;34m(self, X)\u001b[0m\n\u001b[0;32m    325\u001b[0m         \u001b[0mX\u001b[0m \u001b[1;33m=\u001b[0m \u001b[0mself\u001b[0m\u001b[1;33m.\u001b[0m\u001b[0m_validate_for_predict\u001b[0m\u001b[1;33m(\u001b[0m\u001b[0mX\u001b[0m\u001b[1;33m)\u001b[0m\u001b[1;33m\u001b[0m\u001b[0m\n\u001b[0;32m    326\u001b[0m         \u001b[0mpredict\u001b[0m \u001b[1;33m=\u001b[0m \u001b[0mself\u001b[0m\u001b[1;33m.\u001b[0m\u001b[0m_sparse_predict\u001b[0m \u001b[1;32mif\u001b[0m \u001b[0mself\u001b[0m\u001b[1;33m.\u001b[0m\u001b[0m_sparse\u001b[0m \u001b[1;32melse\u001b[0m \u001b[0mself\u001b[0m\u001b[1;33m.\u001b[0m\u001b[0m_dense_predict\u001b[0m\u001b[1;33m\u001b[0m\u001b[0m\n\u001b[1;32m--> 327\u001b[1;33m         \u001b[1;32mreturn\u001b[0m \u001b[0mpredict\u001b[0m\u001b[1;33m(\u001b[0m\u001b[0mX\u001b[0m\u001b[1;33m)\u001b[0m\u001b[1;33m\u001b[0m\u001b[0m\n\u001b[0m\u001b[0;32m    328\u001b[0m \u001b[1;33m\u001b[0m\u001b[0m\n\u001b[0;32m    329\u001b[0m     \u001b[1;32mdef\u001b[0m \u001b[0m_dense_predict\u001b[0m\u001b[1;33m(\u001b[0m\u001b[0mself\u001b[0m\u001b[1;33m,\u001b[0m \u001b[0mX\u001b[0m\u001b[1;33m)\u001b[0m\u001b[1;33m:\u001b[0m\u001b[1;33m\u001b[0m\u001b[0m\n",
      "\u001b[1;32m~\\Anaconda3\\lib\\site-packages\\sklearn\\svm\\base.py\u001b[0m in \u001b[0;36m_sparse_predict\u001b[1;34m(self, X)\u001b[0m\n\u001b[0;32m    371\u001b[0m             \u001b[0mself\u001b[0m\u001b[1;33m.\u001b[0m\u001b[0mnu\u001b[0m\u001b[1;33m,\u001b[0m \u001b[0mself\u001b[0m\u001b[1;33m.\u001b[0m\u001b[0mepsilon\u001b[0m\u001b[1;33m,\u001b[0m \u001b[0mself\u001b[0m\u001b[1;33m.\u001b[0m\u001b[0mshrinking\u001b[0m\u001b[1;33m,\u001b[0m\u001b[1;33m\u001b[0m\u001b[0m\n\u001b[0;32m    372\u001b[0m             \u001b[0mself\u001b[0m\u001b[1;33m.\u001b[0m\u001b[0mprobability\u001b[0m\u001b[1;33m,\u001b[0m \u001b[0mself\u001b[0m\u001b[1;33m.\u001b[0m\u001b[0mn_support_\u001b[0m\u001b[1;33m,\u001b[0m\u001b[1;33m\u001b[0m\u001b[0m\n\u001b[1;32m--> 373\u001b[1;33m             self.probA_, self.probB_)\n\u001b[0m\u001b[0;32m    374\u001b[0m \u001b[1;33m\u001b[0m\u001b[0m\n\u001b[0;32m    375\u001b[0m     \u001b[1;32mdef\u001b[0m \u001b[0m_compute_kernel\u001b[0m\u001b[1;33m(\u001b[0m\u001b[0mself\u001b[0m\u001b[1;33m,\u001b[0m \u001b[0mX\u001b[0m\u001b[1;33m)\u001b[0m\u001b[1;33m:\u001b[0m\u001b[1;33m\u001b[0m\u001b[0m\n",
      "\u001b[1;31mKeyboardInterrupt\u001b[0m: "
     ]
    }
   ],
   "source": [
    "# run it at night\n",
    "# let's use svc with 'linear' kernel\n",
    "svc=SVC(C=0.1,kernel='linear')\n",
    "pipe_models=Pipeline([('vectorize', CountVectorizer(stop_words =ignore_words)),('model',svc)])\n",
    "params={'model':[svc,nb,lr]}\n",
    "best_param_models={}\n",
    "best_score_models={}\n",
    "for group in tqdm(['beauty_','mobile_','fashion']):\n",
    "    grid_search=GridSearchCV(pipe_models,param_grid=params, verbose=1)\n",
    "    X=df_train[df_train.Group==group].title\n",
    "    y=df_train[df_train.Group==group].Category\n",
    "    grid_search.fit(X,y)\n",
    "    best_param_models[group]=grid_search.best_params_\n",
    "    print(group+ ' best parameters :',grid_search.best_params_ )\n",
    "    best_score_models[group]=grid_search.best_score_\n",
    "    print(group+ ' best score :',grid_search.best_score_)"
   ]
  },
  {
   "cell_type": "code",
   "execution_count": 295,
   "metadata": {
    "scrolled": true
   },
   "outputs": [
    {
     "data": {
      "text/plain": [
       "0.78826526161522759"
      ]
     },
     "execution_count": 295,
     "metadata": {},
     "output_type": "execute_result"
    }
   ],
   "source": [
    "accuracy_score(df.idxmax(axis=1),df_nlp.Category)"
   ]
  },
  {
   "cell_type": "code",
   "execution_count": null,
   "metadata": {},
   "outputs": [],
   "source": []
  },
  {
   "cell_type": "code",
   "execution_count": null,
   "metadata": {},
   "outputs": [],
   "source": [
    "# Another simple thing to try is to ensemble with NB approach\n",
    "df_all_val=pd.DataFrame()\n",
    "for i in range(3):\n",
    "    df=test[test.Group==groups[i]].copy()\n",
    "    \n",
    "df_beauty=test[test]\n",
    "\n"
   ]
  },
  {
   "cell_type": "code",
   "execution_count": 97,
   "metadata": {},
   "outputs": [
    {
     "data": {
      "text/plain": [
       "array([17, 18, 19, 20, 21, 22, 23, 24, 25, 26, 27, 28, 29, 30], dtype=int64)"
      ]
     },
     "execution_count": 97,
     "metadata": {},
     "output_type": "execute_result"
    }
   ],
   "source": [
    "pipe[2].classes_"
   ]
  },
  {
   "cell_type": "code",
   "execution_count": null,
   "metadata": {},
   "outputs": [],
   "source": []
  },
  {
   "cell_type": "code",
   "execution_count": null,
   "metadata": {},
   "outputs": [],
   "source": []
  },
  {
   "cell_type": "code",
   "execution_count": 74,
   "metadata": {},
   "outputs": [
    {
     "data": {
      "text/plain": [
       "172402"
      ]
     },
     "execution_count": 74,
     "metadata": {},
     "output_type": "execute_result"
    }
   ],
   "source": [
    "len(predictions_test['beauty_'])+len(predictions_test['mobile_'])+len(predictions_test['fashion'])"
   ]
  },
  {
   "cell_type": "code",
   "execution_count": 75,
   "metadata": {},
   "outputs": [],
   "source": [
    "df_sub=df_test.copy()\n",
    "for group in predictions.keys():\n",
    "    df_sub.loc[df_sub.Group==group,'Category']=predictions_test[group]"
   ]
  },
  {
   "cell_type": "code",
   "execution_count": 81,
   "metadata": {},
   "outputs": [
    {
     "data": {
      "text/plain": [
       "0          5\n",
       "1          5\n",
       "2          5\n",
       "3          4\n",
       "4          5\n",
       "5          3\n",
       "6          4\n",
       "7          5\n",
       "8          5\n",
       "9          5\n",
       "10         5\n",
       "11         2\n",
       "12         3\n",
       "13         4\n",
       "14         5\n",
       "15         5\n",
       "16         3\n",
       "17         9\n",
       "18         5\n",
       "19         3\n",
       "20         3\n",
       "21         3\n",
       "22         5\n",
       "23         5\n",
       "24         3\n",
       "25         5\n",
       "26         3\n",
       "27         5\n",
       "28         4\n",
       "29         5\n",
       "          ..\n",
       "172372    41\n",
       "172373    41\n",
       "172374    38\n",
       "172375    48\n",
       "172376    35\n",
       "172377    31\n",
       "172378    44\n",
       "172379    40\n",
       "172380    35\n",
       "172381    35\n",
       "172382    35\n",
       "172383    31\n",
       "172384    31\n",
       "172385    32\n",
       "172386    35\n",
       "172387    43\n",
       "172388    34\n",
       "172389    43\n",
       "172390    31\n",
       "172391    42\n",
       "172392    32\n",
       "172393    41\n",
       "172394    42\n",
       "172395    42\n",
       "172396    35\n",
       "172397    38\n",
       "172398    31\n",
       "172399    35\n",
       "172400    35\n",
       "172401    34\n",
       "Name: Category, Length: 172402, dtype: int32"
      ]
     },
     "execution_count": 81,
     "metadata": {},
     "output_type": "execute_result"
    }
   ],
   "source": [
    "df_sub.Category.astype('int')"
   ]
  },
  {
   "cell_type": "code",
   "execution_count": null,
   "metadata": {
    "scrolled": true
   },
   "outputs": [],
   "source": [
    "# testing n jobs\n",
    "pipe_lr=Pipeline([('vectorize', CountVectorizer(stop_words =ignore_words)),('model',lr)])\n",
    "params={'model':[svc,lr,nb]}\n",
    "best_param={}\n",
    "best_score={}\n",
    "for group in tqdm(['beauty_','mobile_','fashion']):\n",
    "    grid_search=GridSearchCV(pipe_lr,param_grid=params, verbose=1)\n",
    "    X=df_train[df_train.Group==group].title\n",
    "    y=df_train[df_train.Group==group].Category\n",
    "    grid_search.fit(X,y)\n",
    "    best_param[group]=grid_search.best_params_\n",
    "    best_score[group]=grid_search.best_score_"
   ]
  },
  {
   "cell_type": "code",
   "execution_count": null,
   "metadata": {},
   "outputs": [],
   "source": [
    "print(best_param)\n",
    "print(best_score)"
   ]
  },
  {
   "cell_type": "code",
   "execution_count": null,
   "metadata": {},
   "outputs": [],
   "source": [
    "pipe_svc=Pipeline([('vectorize', CountVectorizer(stop_words =ignore_words)),('model',scv)])\n",
    "pipe_csv.fit(df_train[df_train.Group==group])\n",
    "\n",
    "\n"
   ]
  },
  {
   "cell_type": "code",
   "execution_count": 24,
   "metadata": {},
   "outputs": [
    {
     "data": {
      "text/plain": [
       "0.78257607743655411"
      ]
     },
     "execution_count": 24,
     "metadata": {},
     "output_type": "execute_result"
    }
   ],
   "source": [
    "grid_search.best_score_"
   ]
  },
  {
   "cell_type": "code",
   "execution_count": 25,
   "metadata": {},
   "outputs": [
    {
     "data": {
      "text/plain": [
       "0.78257607743655411"
      ]
     },
     "execution_count": 25,
     "metadata": {},
     "output_type": "execute_result"
    }
   ],
   "source": [
    "grid_search.best_score_"
   ]
  },
  {
   "cell_type": "code",
   "execution_count": 28,
   "metadata": {},
   "outputs": [
    {
     "data": {
      "text/plain": [
       "{'model': MultinomialNB(alpha=1.0, class_prior=None, fit_prior=True)}"
      ]
     },
     "execution_count": 28,
     "metadata": {},
     "output_type": "execute_result"
    }
   ],
   "source": [
    "grid_search.best_params_"
   ]
  },
  {
   "cell_type": "code",
   "execution_count": 23,
   "metadata": {},
   "outputs": [
    {
     "data": {
      "text/plain": [
       "0.72668650966735637"
      ]
     },
     "execution_count": 23,
     "metadata": {},
     "output_type": "execute_result"
    }
   ],
   "source": [
    "results['beauty_'].best_score_"
   ]
  },
  {
   "cell_type": "code",
   "execution_count": 50,
   "metadata": {
    "scrolled": true
   },
   "outputs": [
    {
     "data": {
      "text/html": [
       "<div>\n",
       "<style scoped>\n",
       "    .dataframe tbody tr th:only-of-type {\n",
       "        vertical-align: middle;\n",
       "    }\n",
       "\n",
       "    .dataframe tbody tr th {\n",
       "        vertical-align: top;\n",
       "    }\n",
       "\n",
       "    .dataframe thead th {\n",
       "        text-align: right;\n",
       "    }\n",
       "</style>\n",
       "<table border=\"1\" class=\"dataframe\">\n",
       "  <thead>\n",
       "    <tr style=\"text-align: right;\">\n",
       "      <th></th>\n",
       "      <th>itemid</th>\n",
       "      <th>title</th>\n",
       "      <th>Category</th>\n",
       "      <th>image_path</th>\n",
       "      <th>Group</th>\n",
       "    </tr>\n",
       "  </thead>\n",
       "  <tbody>\n",
       "    <tr>\n",
       "      <th>0</th>\n",
       "      <td>307504</td>\n",
       "      <td>nyx sex bomb pallete natural palette</td>\n",
       "      <td>0</td>\n",
       "      <td>beauty_image/6b2e9cbb279ac95703348368aa65da09.jpg</td>\n",
       "      <td>beauty_</td>\n",
       "    </tr>\n",
       "    <tr>\n",
       "      <th>1</th>\n",
       "      <td>461203</td>\n",
       "      <td>etude house precious mineral any cushion pearl...</td>\n",
       "      <td>1</td>\n",
       "      <td>beauty_image/20450222d857c9571ba8fa23bdedc8c9.jpg</td>\n",
       "      <td>beauty_</td>\n",
       "    </tr>\n",
       "    <tr>\n",
       "      <th>2</th>\n",
       "      <td>3592295</td>\n",
       "      <td>milani rose powder blush</td>\n",
       "      <td>2</td>\n",
       "      <td>beauty_image/6a5962bed605a3dd6604ca3a4278a4f9.jpg</td>\n",
       "      <td>beauty_</td>\n",
       "    </tr>\n",
       "    <tr>\n",
       "      <th>3</th>\n",
       "      <td>4460167</td>\n",
       "      <td>etude house baby sweet sugar powder</td>\n",
       "      <td>3</td>\n",
       "      <td>beauty_image/56987ae186e8a8e71fcc5a261ca485da.jpg</td>\n",
       "      <td>beauty_</td>\n",
       "    </tr>\n",
       "    <tr>\n",
       "      <th>4</th>\n",
       "      <td>5853995</td>\n",
       "      <td>bedak revlon color stay aqua mineral make up</td>\n",
       "      <td>3</td>\n",
       "      <td>beauty_image/9c6968066ebab57588c2f757a240d8b9.jpg</td>\n",
       "      <td>beauty_</td>\n",
       "    </tr>\n",
       "  </tbody>\n",
       "</table>\n",
       "</div>"
      ],
      "text/plain": [
       "    itemid                                              title  Category  \\\n",
       "0   307504               nyx sex bomb pallete natural palette         0   \n",
       "1   461203  etude house precious mineral any cushion pearl...         1   \n",
       "2  3592295                           milani rose powder blush         2   \n",
       "3  4460167                etude house baby sweet sugar powder         3   \n",
       "4  5853995       bedak revlon color stay aqua mineral make up         3   \n",
       "\n",
       "                                          image_path    Group  \n",
       "0  beauty_image/6b2e9cbb279ac95703348368aa65da09.jpg  beauty_  \n",
       "1  beauty_image/20450222d857c9571ba8fa23bdedc8c9.jpg  beauty_  \n",
       "2  beauty_image/6a5962bed605a3dd6604ca3a4278a4f9.jpg  beauty_  \n",
       "3  beauty_image/56987ae186e8a8e71fcc5a261ca485da.jpg  beauty_  \n",
       "4  beauty_image/9c6968066ebab57588c2f757a240d8b9.jpg  beauty_  "
      ]
     },
     "execution_count": 50,
     "metadata": {},
     "output_type": "execute_result"
    }
   ],
   "source": [
    "df_train['Group']=df_train.image_path.map(lambda x: x[:7])\n",
    "df_train.head()\n"
   ]
  },
  {
   "cell_type": "code",
   "execution_count": 51,
   "metadata": {},
   "outputs": [],
   "source": [
    "trn_idx=train.index\n",
    "val_idx=test.index"
   ]
  },
  {
   "cell_type": "code",
   "execution_count": 60,
   "metadata": {},
   "outputs": [],
   "source": [
    "params={'vectorize__ngram_range':[(1,1),(1,2)],'model':[nb,lr,svc]}\n",
    "grid_search=GridSearchCV(pipe_lr,param_grid=params)"
   ]
  },
  {
   "cell_type": "code",
   "execution_count": 62,
   "metadata": {},
   "outputs": [
    {
     "name": "stdout",
     "output_type": "stream",
     "text": [
      "Wall time: 32.1 s\n"
     ]
    },
    {
     "data": {
      "text/plain": [
       "GridSearchCV(cv='warn', error_score='raise-deprecating',\n",
       "       estimator=Pipeline(memory=None,\n",
       "     steps=[('vectorize', CountVectorizer(analyzer='word', binary=False, decode_error='strict',\n",
       "        dtype=<class 'numpy.int64'>, encoding='utf-8', input='content',\n",
       "        lowercase=True, max_df=1.0, max_features=None, min_df=1,\n",
       "        ngram_range=(1, 1), preprocessor=None,\n",
       "        stop_words={'yakn...penalty='l2', random_state=None, solver='warn',\n",
       "          tol=0.0001, verbose=0, warm_start=False))]),\n",
       "       fit_params=None, iid='warn', n_jobs=None,\n",
       "       param_grid={'vectorize__ngram_range': [(1, 1), (1, 2)], 'model': [MultinomialNB(alpha=1.0, class_prior=None, fit_prior=True)]},\n",
       "       pre_dispatch='2*n_jobs', refit=True, return_train_score='warn',\n",
       "       scoring=None, verbose=0)"
      ]
     },
     "execution_count": 62,
     "metadata": {},
     "output_type": "execute_result"
    }
   ],
   "source": [
    "%%time\n",
    "grid_search.fit(df_train[df_train.Group=='beauty_'].title,df_train[df_train.Group=='beauty_'].Category)"
   ]
  },
  {
   "cell_type": "code",
   "execution_count": 64,
   "metadata": {},
   "outputs": [],
   "source": [
    "from tqdm import tqdm"
   ]
  },
  {
   "cell_type": "code",
   "execution_count": null,
   "metadata": {},
   "outputs": [
    {
     "name": "stderr",
     "output_type": "stream",
     "text": [
      "\r",
      "  0%|                                                                                            | 0/3 [00:00<?, ?it/s]"
     ]
    }
   ],
   "source": [
    "params={'vectorize__ngram_range':[(1,1),(1,2)],'model':[nb,lr,svc]}\n",
    "grid_search=GridSearchCV(pipe_lr,param_grid=params)\n",
    "results={}\n",
    "for group in tqdm(['beauty_','mobile_','fashion']):\n",
    "    X=train[train.Group==group].title\n",
    "    y=train[train.Group==group].Category\n",
    "    grid_search.fit(X,y)\n",
    "    results[group]=grid_search"
   ]
  },
  {
   "cell_type": "code",
   "execution_count": 71,
   "metadata": {},
   "outputs": [
    {
     "data": {
      "text/plain": [
       "sklearn.model_selection._search.GridSearchCV"
      ]
     },
     "execution_count": 71,
     "metadata": {},
     "output_type": "execute_result"
    }
   ],
   "source": [
    "type(grid_search)\n"
   ]
  },
  {
   "cell_type": "code",
   "execution_count": null,
   "metadata": {},
   "outputs": [],
   "source": [
    "trn_idx=train.index\n",
    "tst_idx=test.index"
   ]
  },
  {
   "cell_type": "code",
   "execution_count": null,
   "metadata": {
    "_uuid": "8fb5268a8bf50e1bf557e2159d8b4d36069df712"
   },
   "outputs": [],
   "source": [
    "results={}\n",
    "for group in ['beauty_','mobile_','fashion']:\n",
    "    X=train[train.Group==group].title\n",
    "    y=train[train.Group==group].Category\n",
    "    grid_search.fit(X,y)\n",
    "    results[group]=grid_search"
   ]
  },
  {
   "cell_type": "code",
   "execution_count": 65,
   "metadata": {
    "_uuid": "f5075af92b74fce696722641bb0f8f8e805bfe78"
   },
   "outputs": [
    {
     "data": {
      "text/plain": [
       "GridSearchCV(cv='warn', error_score='raise-deprecating',\n",
       "       estimator=Pipeline(memory=None,\n",
       "     steps=[('vectorize', CountVectorizer(analyzer='word', binary=False, decode_error='strict',\n",
       "        dtype=<class 'numpy.int64'>, encoding='utf-8', input='content',\n",
       "        lowercase=True, max_df=1.0, max_features=None, min_df=1,\n",
       "        ngram_range=(1, 1), preprocessor=None, stop_words=None,\n",
       "        ...penalty='l2', random_state=None, solver='warn',\n",
       "          tol=0.0001, verbose=0, warm_start=False))]),\n",
       "       fit_params=None, iid='warn', n_jobs=None,\n",
       "       param_grid={'vectorize__ngram_range': [(1, 0), (1, 1), (1, 2), (1, 3), (1, 4)], 'model': [LogisticRegression(C=1.0, class_weight=None, dual=False, fit_intercept=True,\n",
       "          intercept_scaling=1, max_iter=100, multi_class='warn',\n",
       "          n_jobs=None, penalty='l2', random_state=None, solver='warn...f', max_iter=-1, probability=False, random_state=None,\n",
       "  shrinking=True, tol=0.001, verbose=False)]},\n",
       "       pre_dispatch='2*n_jobs', refit=True, return_train_score='warn',\n",
       "       scoring=None, verbose=0)"
      ]
     },
     "execution_count": 65,
     "metadata": {},
     "output_type": "execute_result"
    }
   ],
   "source": [
    "grid_search\n"
   ]
  },
  {
   "cell_type": "code",
   "execution_count": null,
   "metadata": {
    "_uuid": "09d966355d5f6ea895e0dfcb6ee708c4290903cc"
   },
   "outputs": [],
   "source": []
  },
  {
   "cell_type": "code",
   "execution_count": null,
   "metadata": {
    "_uuid": "c3f1c6e204763ad19cd18581f0c7438e9bcc92b8"
   },
   "outputs": [],
   "source": []
  },
  {
   "cell_type": "code",
   "execution_count": null,
   "metadata": {
    "_uuid": "3905e784620a5658381f35b3a117318abb7d979b"
   },
   "outputs": [],
   "source": []
  },
  {
   "cell_type": "code",
   "execution_count": null,
   "metadata": {
    "_uuid": "3ab674dca67c8b8e0f2ed44874a248b1402030e6"
   },
   "outputs": [],
   "source": []
  },
  {
   "cell_type": "code",
   "execution_count": null,
   "metadata": {
    "_uuid": "cced1295fd5f3786e98dd813f78945a9ae695d5c"
   },
   "outputs": [],
   "source": []
  }
 ],
 "metadata": {
  "kernelspec": {
   "display_name": "Python 3",
   "language": "python",
   "name": "python3"
  },
  "language_info": {
   "codemirror_mode": {
    "name": "ipython",
    "version": 3
   },
   "file_extension": ".py",
   "mimetype": "text/x-python",
   "name": "python",
   "nbconvert_exporter": "python",
   "pygments_lexer": "ipython3",
   "version": "3.6.4"
  }
 },
 "nbformat": 4,
 "nbformat_minor": 1
}
